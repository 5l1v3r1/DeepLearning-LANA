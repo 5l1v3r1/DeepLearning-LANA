{
  "nbformat": 4,
  "nbformat_minor": 0,
  "metadata": {
    "colab": {
      "name": "CNN-Introducao-Keras.ipynb",
      "version": "0.3.2",
      "provenance": [],
      "collapsed_sections": [],
      "include_colab_link": true
    },
    "kernelspec": {
      "display_name": "Python 3",
      "language": "python",
      "name": "python3"
    }
  },
  "cells": [
    {
      "cell_type": "markdown",
      "metadata": {
        "id": "view-in-github",
        "colab_type": "text"
      },
      "source": [
        "<a href=\"https://colab.research.google.com/github/vladimiralencar/DeepLearning-LANA/blob/master/keras/CNN_Introducao_Keras.ipynb\" target=\"_parent\"><img src=\"https://colab.research.google.com/assets/colab-badge.svg\" alt=\"Open In Colab\"/></a>"
      ]
    },
    {
      "metadata": {
        "id": "e7KTffgZA_Vy",
        "colab_type": "text"
      },
      "cell_type": "markdown",
      "source": [
        "# Convolutional Neural Networks (CNNs)"
      ]
    },
    {
      "metadata": {
        "id": "4KPvJjAiBCxK",
        "colab_type": "code",
        "colab": {}
      },
      "cell_type": "code",
      "source": [
        "!wget -A pdf,jpg \n",
        "!mkdir images\n",
        "!cp *.jpg images"
      ],
      "execution_count": 0,
      "outputs": []
    },
    {
      "metadata": {
        "id": "T_mi9MrHA_V0",
        "colab_type": "text"
      },
      "cell_type": "markdown",
      "source": [
        "A Rede Neural Convolucional (CNN) é uma tecnologia de rede neural que impactou profundamente a área de Visão Computacional. Fukushima (1980) introduziu o conceito original de uma rede neural convolutiva, e LeCun, Bottou, Bengio & Haffner (1998) melhoraram muito este trabalho. A partir desta pesquisa, Yan LeCun apresentou a famosa arquitetura de rede neural LeNet-5. "
      ]
    },
    {
      "metadata": {
        "collapsed": true,
        "id": "_xujWbhwA_V1",
        "colab_type": "text"
      },
      "cell_type": "markdown",
      "source": [
        "Existem similaridades e diferenças entre as CNNs e outros modelos de DNNs:\n",
        "\n",
        "* Normalmente usamos a classificação, embora a regressão ainda seja uma opção.\n",
        "* A entrada para a rede neural agora é 3D (altura, largura, cor)\n",
        "* Os dados não são transformados; sem zscores ou variáveis dummy.\n",
        "* O tempo de processamento é muito maior.\n",
        "* Agora temos diferentes camadas: camadas densas (como antes), camadas de convolução e camadas de Max Pooling.\n",
        "* Os dados não chegarão mais como arquivos CSV. O TensorFlow fornece alguns utilitários para ir diretamente da imagem para o input de uma rede neural.\n"
      ]
    },
    {
      "metadata": {
        "id": "8Lw9DNl5A_V2",
        "colab_type": "text"
      },
      "cell_type": "markdown",
      "source": [
        "Embora a Visão Computacional use principalmente CNNs, essa tecnologia possui aplicações em outras áreas. É possível utilizar CNNs em dados não visuais, mas nesse caso você deve encontrar uma maneira de codificar seus dados para que possa imitar as propriedades dos dados visuais. As CNNs são semelhantes à arquitetura de Mapas Auto Organizáveis (SOM - Self Organizing Maps). A ordem dos elementos vetoriais é crucial para o treinamento. Em contraste, a maioria das redes neurais que não são CNNs ou SOMs tratam seus dados de entrada como um vetor de valores, e a ordem em que você organiza as características de entrada neste vetor é irrelevante. Para esses tipos de redes neurais, você não pode alterar a ordem depois de ter treinado a rede. Em outras palavras, CNNs e SOMs não seguem o tratamento padrão de vetores de entrada."
      ]
    },
    {
      "metadata": {
        "id": "XTlx5KCaA_V3",
        "colab_type": "text"
      },
      "cell_type": "markdown",
      "source": [
        "Normalmente, uma rede neural feedforward comum cria todas as possíveis conexões de peso entre duas camadas. Na terminologia de aprendizagem profunda, nos referimos a essas camadas como camadas densas. Além de não representar todo o peso possível, as redes neurais convolutivas também compartilharão pesos."
      ]
    },
    {
      "metadata": {
        "id": "kH8puGVRA_V5",
        "colab_type": "text"
      },
      "cell_type": "markdown",
      "source": [
        "# MLPs x CNNs\n",
        "\n",
        "Existem algumas diferenças importantes entre modelos MLP e CNN:\n",
        "\n",
        "MLP:\n",
        "\n",
        "* Somente utiliza camadas totalmente conectadas\n",
        "* Somente aceita vetores como input\n",
        "\n",
        "CNN\n",
        "\n",
        "* Permite fazer tudo que é feito com MLPs\n",
        "* Utiliza camadas esparsas\n",
        "* Aceita matrizes como input"
      ]
    },
    {
      "metadata": {
        "id": "_fW1Mgb3A_V8",
        "colab_type": "text"
      },
      "cell_type": "markdown",
      "source": [
        "# Datasets Para Visão Computacional\n",
        "\n",
        "Existem muitos conjuntos de dados para visão computacional. Dois dos mais populares são o conjunto de dados MNIST e os conjuntos de dados de imagem CIFAR.\n",
        "\n",
        "## MNIST Digits Data Set\n",
        "\n",
        "O [MNIST Digits Data Set](http://yann.lecun.com/exdb/mnist/) é muito popular na comunidade de pesquisa da rede neural. São dígitos escritos à mão que foram escaneados e gravados em um dataset eletrônico.\n",
        "\n",
        "![MINIST](images/mnist.png \"MINIST\")\n",
        "\n",
        "\n",
        "## CIFAR Data Set\n",
        "\n",
        "Os datasets [CIFAR-10 and CIFAR-100](https://www.cs.toronto.edu/~kriz/cifar.html) também são frequentemente usados pela comunidade de pesquisa de rede neural.\n",
        "\n",
        "![CIFAR](images/cifar.png \"CIFAR\")\n",
        "\n",
        "O conjunto de dados CIFAR-10 contém imagens divididas em 10 classes. O conjunto de dados CIFAR-100 contém 100 classes em uma hierarquia."
      ]
    },
    {
      "metadata": {
        "id": "x1JPSfH4A_V9",
        "colab_type": "text"
      },
      "cell_type": "markdown",
      "source": [
        "# Arquitetura LeNET-5 (LeCun, 1998)\n",
        "\n",
        "Podemos usar a arquitetura LeNET-5 principalmente para a classificação de imagens gráficas. Este tipo de rede é semelhante à rede feedforward que examinamos nos capítulos anteriores: fluxo de dados da entrada para a saída. No entanto, a rede LeNET-5 contém vários tipos de camadas diferentes, como mostra a figura abaixo:\n",
        "\n",
        "**A LeNET-5 Network (LeCun, 1998)**\n",
        "![LENET5](images/lenet5.png \"LENET5\")\n",
        "\n",
        "Existem várias diferenças importantes entre uma rede neural feedforward e uma rede LeNET-5:\n",
        "\n",
        "* Os vetores passam através de redes feedforward; Os cubos 3D passam através das redes LeNET-5. \n",
        "* As redes LeNET-5 contêm uma variedade de tipos de camadas. \n",
        "* Visão Computacional é a principal aplicação do LeNET-5.\n",
        "\n",
        "No entanto, também existem muitas semelhanças entre as DNNs e redes CNNs como a arquitetura LeNET-5. A semelhança mais importante é que podemos treinar o LeNET-5 com as mesmas técnicas baseadas em backpropagation. Qualquer algoritmo de otimização pode treinar os pesos de uma rede feedforward ou LeNET-5. O LeNET-5 frequentemente usa treinamento de backpropagation. Os seguintes tipos de camadas compreendem as redes neurais originais LeNET-5:\n",
        "\n",
        "* **Dense Layers** - Camadas totalmente conectadas.  \n",
        "* **Convolution Layers** - Usadas para \"escanear\" as imagens. \n",
        "* **Max Pooling Layers** - Usadas para reduzir as imagens. \n",
        "* **Dropout Layer** - Usadas para regularização da rede. \n",
        "\n",
        "Outras estruturas de rede neural adicionarão tipos de camada adicionais relacionados à visão computacional. A adição de novos tipos de camada é um meio comum de aumentar a pesquisa existente na rede neural. "
      ]
    },
    {
      "metadata": {
        "id": "Oho6qmnoA_V-",
        "colab_type": "text"
      },
      "cell_type": "markdown",
      "source": [
        "## Feature Learning e Classificação\n",
        "\n",
        "![CNN](images/cnn.jpg \"CNN\")"
      ]
    },
    {
      "metadata": {
        "id": "5zFDYaqoA_V_",
        "colab_type": "text"
      },
      "cell_type": "markdown",
      "source": [
        "## Camadas de Convolução\n",
        "\n",
        "A primeira camada que examinaremos é a camada convolucional. A camada convolucional é o bloco de construção central de uma rede convolutiva que faz a maior parte do processamento computacional pesado. Vamos primeiro discutir o que a camada convolucional calcula sem analogias cérebro / neurônio. Os parâmetros da camada convolucional consistem em um conjunto de filtros. Cada filtro é pequeno espacialmente (ao longo da largura e altura), mas se estende através da profundidade total do volume de entrada. Por exemplo, um filtro típico em uma primeira camada de uma ConvNet pode ter tamanho 5x5x3 (isto é, 5 pixels de largura e altura e 3, pois as imagens têm a profundidade 3, os canais de cores). Durante a passagem para a frente, deslocamos (mais precisamente, convolvemos) cada filtro na largura e altura do volume de entrada e os produtos de ponto de computação entre as entradas do filtro e a entrada em qualquer posição. Ao deslizar o filtro pela largura e altura do volume de entrada, produziremos um mapa de ativação bidimensional que dê as respostas desse filtro em todas as posições espaciais. Intuitivamente, a rede aprenderá filtros que se ativam quando vêem algum tipo de recurso visual, como uma borda de alguma orientação ou uma mancha de alguma cor na primeira camada, ou, eventualmente, padrões inteiros de favo de mel ou de roda em camadas mais altas da rede. Agora, teremos um conjunto completo de filtros em cada camada convolucional (por exemplo, 12 filtros), e cada um deles produzirá um mapa de ativação bidimensional separado. Vamos empilhar esses mapas de ativação ao longo da dimensão de profundidade e produzir o volume de saída.\n",
        "\n",
        "Se você é fã das analogias cérebro / neurônio, cada entrada no volume 3D também pode ser interpretada como uma saída de um neurônio que olha apenas uma pequena região na entrada e compartilha parâmetros com todos os neurônios à esquerda e espacialmente à direita (já que esses números resultam da aplicação do mesmo filtro). Agora discutimos os detalhes das conectividades dos neurônios, seu arranjo no espaço e seu esquema de compartilhamento de parâmetros.\n",
        "\n",
        "Ao lidar com entradas de alta dimensão como as imagens, não é prático conectar neurônios a todos os neurônios no volume anterior. Em vez disso, conectaremos cada neurônio a apenas uma região local do volume de entrada. A extensão espacial desta conectividade é um hiperparâmetro chamado campo receptivo do neurônio (esse é o tamanho do filtro). A extensão da conectividade ao longo do eixo de profundidade é sempre igual à profundidade do volume de entrada. É importante ressaltar novamente essa assimetria na forma como tratamos as dimensões espaciais (largura e altura) e a dimensão da profundidade: as conexões são locais no espaço (ao longo da largura e altura), mas sempre cheias em toda a profundidade do volume de entrada.\n",
        "\n",
        "Por exemplo, suponha que o volume de entrada tenha tamanho [32x32x3] (por exemplo, uma imagem RGB CIFAR-10). Se o campo receptivo (ou o tamanho do filtro) for 5x5, cada neurônio na camada convolucional terá pesos para uma região [5x5x3] no volume de entrada, para um total de 5 x 5 x 3 = 75 pesos (e +1 Parâmetro de bias). Observe que a extensão da conectividade ao longo do eixo da profundidade deve ser 3, uma vez que esta é a profundidade do volume de entrada.\n",
        "\n",
        "Começaremos por analisar os hiperparâmetros que você deve especificar para uma camada convolucional na maioria das estruturas de rede neural que suportam a CNN:\n",
        "\n",
        "* Número de Filtros\n",
        "* Tamanho do filtro (Filter Size)\n",
        "* Stride\n",
        "* Padding\n",
        "* Função de Ativação\n",
        "\n",
        "Nós explicamos a conectividade de cada neurônio na camada convolucional ao volume de entrada, mas ainda não discutimos quantos neurônios existem no volume de saída ou como eles estão dispostos. Três hiperparâmetros controlam o tamanho do volume de saída: a profundidade (depth), o passo (stride) e o preenchimento (padding). \n",
        "\n",
        "Primeiro, a profundidade do volume de saída é um hiperparâmetro: corresponde ao número de filtros que gostaríamos de usar, cada um aprendendo a procurar algo diferente na entrada. Por exemplo, se a primeira camada convolucional receber como entrada a imagem bruta, então diferentes neurônios ao longo da dimensão de profundidade podem se ativar na presença de várias arestas orientadas ou bolhas de cor. Vamos nos referir a um conjunto de neurônios que estão olhando para a mesma região da entrada como uma coluna de profundidade (algumas pessoas também preferem o termo fibra).\n",
        "Em segundo lugar, devemos especificar o passo com o qual deslizamos o filtro. Quando o passo é 1, movemos os filtros um pixel de cada vez. Quando o stride é 2 (ou incomumente 3 ou mais, embora isso seja raro na prática), então os filtros saltam 2 pixels de cada vez, enquanto os desliza. Isso produzirá volumes de saída menores espacialmente.\n",
        "Como veremos em breve, às vezes será conveniente adicionar o volume de entrada com zeros ao redor da borda. O tamanho desse preenchimento é um hiperparâmetro. O bom recurso do preenchimento é que nos permitirá controlar o tamanho espacial dos volumes de saída (mais comumente, como veremos em breve, vamos usá-lo para preservar exatamente o tamanho espacial do volume de entrada, de modo que a largura de entrada e saída e a altura são as mesmas).\n",
        "\n",
        "![CONV_LAYER](images/conv-layer.gif \"CONV_LAYER\")\n",
        "\n",
        "Exemplo de arquitetura ConvNet para o CIFAR-10: [INPUT - CONV - RELU - POOL - FC]. Em mais detalhes:\n",
        "\n",
        "* INPUT [32x32x3] manterá os valores de pixel em estado bruto da imagem, neste caso uma imagem de largura 32, altura 32 e com três canais de cores R, G, B.\n",
        "\n",
        "* A camada CONV calculará a saída de neurônios que estão conectados a regiões locais na entrada, cada um calculando um dot product entre seus pesos e uma pequena região em que estão conectados no volume de entrada. Isso pode resultar em um volume como [32x32x12] se decidimos usar 12 filtros.\n",
        "\n",
        "* A camada RELU aplicará uma função de ativação elementar, como max(0, x) com limira igual a zero. Isso deixa o tamanho do volume inalterado ([32x32x12]).\n",
        "\n",
        "* A camada POOL executará uma operação de downsampling ao longo das dimensões espaciais (largura, altura), resultando em volume como [16x16x12].\n",
        "\n",
        "* A camada FC (ou seja, totalmente conectada) calculará os escores da classe, resultando em volume de tamanho [1x1x10], onde cada um dos 10 números corresponde a uma pontuação de classe, como entre as 10 categorias do CIFAR-10. Tal como acontece com as Redes Neurais comuns e como o nome indica, cada neurônio nesta camada será conectado a todos os números no volume anterior.\n",
        "\n",
        "O objetivo principal de uma camada convolucional é detectar características como bordas, linhas, bolhas de cor e outros elementos visuais. Os filtros podem detectar esses recursos. Quanto mais filtros nós damos a uma camada convolucional, mais recursos ela pode detectar.\n",
        "\n",
        "Um filtro é um objeto em forma de quadrado que escaneia a imagem. Uma grade pode representar os pixels individuais de uma grade. Você pode pensar na camada convolucional como uma grade menor que varre da esquerda para a direita sobre cada linha da imagem. Há também um hiperparâmetro que especifica tanto a largura quanto a altura do filtro em forma de quadrado. \n",
        "\n",
        "Uma camada convolucional tem pesos entre ela e a camada anterior ou grade de imagem. Cada pixel em cada camada convolucional é um peso. Portanto, o número de pesos entre uma camada convolucional e sua camada anterior ou campo de imagem é o seguinte:\n",
        "\n",
        "```\n",
        "[FilterSize] * [FilterSize] * [# de Filtros]\n",
        "```\n",
        "\n",
        "Por exemplo, se o tamanho do filtro fosse 5 (5x4) para 10 filtros, haveria 250 pesos.\n",
        "\n",
        "Você precisa entender como os filtros convolucionais varrem a saída da camada anterior ou a grade da imagem. A figura abaixo ilustra a varredura:\n",
        "\n",
        "![GRID](images/cnn_grid.png \"GRID\")\n",
        "\n",
        "A figura acima mostra um filtro convolucional com um tamanho de 4 e um tamanho de preenchimento de 1. O tamanho do preenchimento é responsável pelo limite de zeros na área que o filtro varre. Mesmo que a imagem seja realmente 8x7, o preenchimento extra fornece um tamanho de imagem virtual de 9x8 para que o filtro varre. O passo especifica o número de posições nas quais os filtros convolucionais vão parar. Os filtros convolucionais se movem para a direita, avançando pelo número de células especificadas no passo. Uma vez que a extrema direita é alcançada, o filtro convolucional volta para o extremo esquerdo, então ele se move para baixo pelo montante do passo e continua a direita novamente.\n",
        "\n",
        "Existem algumas restrições em relação ao tamanho do passo. Obviamente, o passo não pode ser 0. O filtro convolucional nunca se moveria se o passo fosse ajustado para 0. Além disso, nem o passo, nem o tamanho do filtro convolucional podem ser maiores do que a grade anterior. Existem restrições adicionais sobre o (s) passo (s), preenchimento (p) e a largura do filtro (f) para uma imagem de largura (w). Especificamente, o filtro convolucional deve ser capaz de começar no limite superior esquerdo ou superior, mover um certo número de passos e aterrar na fronteira extrema ou inferior. A seguinte equação mostra o número de etapas de um operador convolucional deve atravessar a imagem:\n",
        "\n",
        "$ steps = \\frac{w - f + 2p}{s+1} $\n",
        "\n",
        "O número de etapas deve ser um número inteiro. Em outras palavras, não pode ter casas decimais. O propósito do preenchimento (p) deve ser ajustado para tornar esta equação tornar-se um valor inteiro."
      ]
    },
    {
      "metadata": {
        "id": "QGSq7WngA_V_",
        "colab_type": "text"
      },
      "cell_type": "markdown",
      "source": [
        "## Compartilhamento de Parâmetros\n",
        "\n",
        "A arquitetura que ganhou o desafio ImageNet em 2012 recebeu imagens de tamanho [227x227x3]. Na primeira Camada Convolucional, utilizou neurônios com tamanho de campo receptivo F = 11, passo (stride) S = 4 e sem preenchimento (zero padding) P = 0. Desde (227 - 11) / 4 + 1 = 55, e uma vez que a camada Conv teve uma profundidade de K = 96, o volume de saída da camada Conv teve tamanho [55x55x96]. Cada um dos 55 * 55 * 96 neurônios neste volume foi conectado a uma região de tamanho [11x11x3] no volume de entrada. Além disso, todos os 96 neurônios em cada coluna de profundidade estão conectados à mesma região [11x11x3] da entrada, mas é claro com pesos diferentes. Se você ler o documento atual da pesquisa (na seção de links úteis) verá que as imagens de entrada eram 224x224, o que certamente é incorreto porque (224 - 11) / 4 + 1 é claramente não um número inteiro. Isso confundiu muitas pessoas na história dos ConvNets e pouco se sabe sobre o que aconteceu. O melhor palpite é que Alex usou zero-padding de 3 pixels extras que ele não menciona no papel.\n",
        "\n",
        "O esquema de compartilhamento de parâmetros é usado em Camadas Convolucionais para controlar o número de parâmetros. Usando o exemplo acima, vemos que existem 55 * 55 * 96 = 290.400 neurônios na primeira camada Conv, e cada um tem 11 x 11 x 3 = 363 pesos e 1 bias. Juntos, isso acrescenta a 290400 * 364 = 105.705.600 parâmetros na primeira camada do ConvNet sozinho. Claramente, esse número é muito alto.\n",
        "\n",
        "Acontece que podemos reduzir drasticamente o número de parâmetros fazendo uma suposição razoável: se um recurso é útil para calcular em alguma posição espacial (x, y), então também deve ser útil para calcular em uma posição diferente (x2 , Y2). Em outras palavras, indicando uma única fatia de profundidade bidimensional como uma fatia de profundidade (por exemplo, um volume de tamanho [55x55x96] tem 96 fatias de profundidade, cada um de tamanho [55x55]), vamos restringir os neurônios em cada fatia de profundidade para usar os mesmos pesos e bias. Com este esquema de compartilhamento de parâmetros, a primeira camada Conv em nosso exemplo agora teria apenas 96 conjuntos de pesos exclusivos (um para cada trecho de profundidade), para um total de 96 * 11 * 11 * 3 = 34.848 pesos exclusivos ou 34.944 parâmetros (+96 bias). Alternativamente, todos os 55 x 55 neurônios em cada fatia de profundidade agora estarão usando os mesmos parâmetros. Na prática, durante a pós-propagação, cada neurônio no volume calculará o gradiente para os pesos, mas esses gradientes serão adicionados em cada fatia de profundidade e atualizarão apenas um único conjunto de pesos por fatia."
      ]
    },
    {
      "metadata": {
        "id": "6U6vsYm0A_WA",
        "colab_type": "text"
      },
      "cell_type": "markdown",
      "source": [
        "## Camadas de Max Pooling \n",
        "\n",
        "As camadas Max Pooling reduzem a caixa 3D para uma nova com dimensões menores. Normalmente, você sempre pode colocar uma camada de Max Pooling imediatamente após a camada convolucional. O LENET mostra a camada de Max Pooling imediatamente após as camadas C1 e C3. Essas camadas de Max Pooling diminuem progressivamente o tamanho das dimensões das caixas 3D passando por elas. Esta técnica pode evitar o overfitting (Krizhevsky, Sutskever & Hinton, 2012).\n",
        "\n",
        "É comum inserir periodicamente uma camada de Max Pooling (também chamada de agrupamento) entre as camadas Convolucionais sucessivas em uma arquitetura ConvNet. Sua função é reduzir progressivamente o tamanho espacial da representação para reduzir a quantidade de parâmetros e computação na rede e, portanto, também controlar o overfitting. A Camada de agrupamento opera independentemente em cada fatia de profundidade da entrada e redimensiona-a espacialmente, usando a operação MAX. A forma mais comum é uma camada de agrupamento com filtros de tamanho 2x2 aplicados com um passo de 2 amostras descendentes de cada fatia de profundidade na entrada por 2 ao longo de largura e altura, descartando 75% das ativações. Toda operação MAX, neste caso, receberia um máximo de 4 números (pequena região 2x2 em uma fatia de profundidade). A dimensão da profundidade permanece inalterada. Mais geralmente, a camada de pooling:\n",
        "\n",
        "![MaxPool](images/conv_maxpool2.png \"MaxPool\")\n",
        "\n",
        "Uma camada de Max Pooling possui os seguintes hiperparâmetros:\n",
        "\n",
        "* Spatial Extent (f)\n",
        "* Stride (s)\n",
        "\n",
        "Ao contrário das camadas convolucionais, as camadas Max Pooling não usam preenchimento. Além disso, as camadas de Max Pooling não possuem pesos, então o treinamento não as afeta. Essas camadas simplesmente diminuem sua entrada na caixa 3D. A saída da caixa 3D por uma camada de Max Pooling terá uma largura igual a esta equação:\n",
        "\n",
        "$ w_2 = \\frac{w_1 - f}{s + 1} $\n",
        "\n",
        "A altura da caixa 3D produzida pela camada de Max Pooling é calculada de forma semelhante com esta equação:\n",
        "\n",
        "$ h_2 = \\frac{h_1 - f}{s + 1} $\n",
        "\n",
        "A profundidade da caixa 3D produzida pela camada max-pool é igual à profundidade que a caixa 3D recebeu como entrada. A configuração mais comum para hiper-parâmetros de uma camada de pool máximo são f = 2 e s = 2. A extensão espacial (f) especifica que as caixas de 2x2 serão dimensionadas para pixels individuais. Destes quatro pixels, o pixel com o valor máximo representará o pixel 2x2 na nova grade. Como os quadrados do tamanho 4 são substituídos pelo tamanho 1, 75% das informações do pixel são perdidas. A figura a seguir mostra esta transformação como uma grade 6x6 torna-se um 3x3:\n",
        "\n",
        "![MaxPool](images/conv_maxpool.png \"MaxPool\")\n",
        "\n",
        "Claro, o diagrama acima mostra cada pixel como um único número. Uma imagem em escala de cinza teria essa característica. Para uma imagem RGB, geralmente tomamos a média dos três números para determinar qual pixel tem o valor máximo."
      ]
    },
    {
      "metadata": {
        "id": "IGhc5sNBA_WB",
        "colab_type": "text"
      },
      "cell_type": "markdown",
      "source": [
        "## Camadas Densas\n",
        "\n",
        "O tipo de camada final em uma rede LeNET-5 é uma camada densa. Esse tipo de camada é exatamente o mesmo tipo de camada que já vimos em redes neurais feedforward. Uma camada densa conecta cada elemento (neurônio) na caixa 3D de saída da camada anterior para cada neurônio na camada densa. O vetor resultante é passado através de uma função de ativação. As redes LeNET-5 normalmente usarão uma ativação ReLU. No entanto, podemos usar uma função de ativação sigmoid. Essa técnica é menos comum. Uma camada densa geralmente contém os seguintes hiperparâmetros:\n",
        "\n",
        "* Neuron Count \n",
        "* Activation Function\n",
        "\n",
        "A contagem de neurônios especifica o número de neurônios que compõem essa camada. A função de ativação indica o tipo de função de ativação a ser utilizada. As camadas densas podem empregar muitos tipos diferentes de funções de ativação, como ReLU, sigmoide ou tangente hiperbólica. As redes LeNET-5 normalmente contêm várias camadas densas como suas camadas finais. A camada final densa em uma LeNET-5 realmente executa a classificação. Deve haver um neurônio de saída para cada classe, ou tipo de imagem, para classificar. Por exemplo, se a rede distingue entre cães, gatos e aves, haverá três neurônios de saída. Você pode aplicar uma função final de softmax para a camada final para tratar os neurônios de saída como probabilidades. O Softmax permite que cada neurônio forneça a probabilidade de a imagem representar cada classe. Como os neurônios de saída são agora probabilidades, o softmax garante que eles somam 1,0 (100%). \n",
        "\n",
        "Esse diagrama resume bem a arquitetura de uma CNN:\n",
        "\n",
        "![CNN](images/cnn.jpg \"CNN\")"
      ]
    },
    {
      "metadata": {
        "id": "wTudsL6xA_WC",
        "colab_type": "text"
      },
      "cell_type": "markdown",
      "source": [
        "# Construindo uma CNN com TensorFlow e Keras\n",
        "\n",
        "O Keras fornece classes de acesso incorporadas para o MNIST. É importante notar que os dados MNIST chegam já separados em dois conjuntos:\n",
        "\n",
        "* **treino** \n",
        "* **teste** "
      ]
    },
    {
      "metadata": {
        "id": "fsw_9RUrA_WD",
        "colab_type": "code",
        "colab": {}
      },
      "cell_type": "code",
      "source": [
        "# Checando a memória da GPU\n",
        "!nvidia-smi"
      ],
      "execution_count": 0,
      "outputs": []
    },
    {
      "metadata": {
        "id": "PFBpqFrOA_WJ",
        "colab_type": "code",
        "colab": {}
      },
      "cell_type": "code",
      "source": [
        "# Verificando se existe GPU\n",
        "import tensorflow as tf\n",
        "print('GPU disponível:',tf.test.is_gpu_available())\n",
        "print(tf.test.gpu_device_name())\n",
        "from tensorflow.python.client import device_lib\n",
        "print(device_lib.list_local_devices())"
      ],
      "execution_count": 0,
      "outputs": []
    },
    {
      "metadata": {
        "id": "QiC0HQREA_WN",
        "colab_type": "code",
        "colab": {}
      },
      "cell_type": "code",
      "source": [
        "# Imports\n",
        "from keras.datasets import mnist\n",
        "\n",
        "# Treino e Teste\n",
        "(x_train, y_train), (x_test, y_test) = mnist.load_data()\n",
        "\n",
        "# Print do Shape\n",
        "print(\"Shape x_train: {}\".format(x_train.shape))\n",
        "print(\"Shape y_train: {}\".format(y_train.shape))\n",
        "print()\n",
        "print(\"Shape x_test: {}\".format(x_test.shape))\n",
        "print(\"Shape y_test: {}\".format(y_test.shape))"
      ],
      "execution_count": 0,
      "outputs": []
    },
    {
      "metadata": {
        "id": "DI4uQI8RA_WR",
        "colab_type": "text"
      },
      "cell_type": "markdown",
      "source": [
        "# Visualizando os Dígitos"
      ]
    },
    {
      "metadata": {
        "id": "FQLv-ir7A_WS",
        "colab_type": "code",
        "colab": {}
      },
      "cell_type": "code",
      "source": [
        "# Display como texto\n",
        "from IPython.display import display\n",
        "import pandas as pd\n",
        "\n",
        "print(\"Shape do dataset: {}\".format(x_train.shape))\n",
        "print(\"Labels: {}\".format(y_train))\n",
        "\n",
        "# Display de um único dígito\n",
        "single = x_train[0]\n",
        "print(\"\\nShape de um Único Dígito: {}\".format(single.shape))\n",
        "\n",
        "display(pd.DataFrame(single.reshape(28,28)))"
      ],
      "execution_count": 0,
      "outputs": []
    },
    {
      "metadata": {
        "scrolled": true,
        "id": "hjVUzT1DA_WY",
        "colab_type": "code",
        "colab": {}
      },
      "cell_type": "code",
      "source": [
        "# Display como imagem\n",
        "%matplotlib inline\n",
        "import matplotlib.pyplot as plt\n",
        "import numpy as np\n",
        "digit = 101 \n",
        "a = x_train[digit]\n",
        "plt.imshow(a, cmap = 'gray', interpolation = 'nearest')\n",
        "print(\"Imagem (#{}) é o dígito '{}'\".format(digit, y_train[digit]))"
      ],
      "execution_count": 0,
      "outputs": []
    },
    {
      "metadata": {
        "id": "4Olzg8mJA_Wc",
        "colab_type": "text"
      },
      "cell_type": "markdown",
      "source": [
        "# Preparando os Dados"
      ]
    },
    {
      "metadata": {
        "id": "nCLu1d3YA_Wd",
        "colab_type": "code",
        "colab": {}
      },
      "cell_type": "code",
      "source": [
        "import keras\n",
        "from keras import backend as backend\n",
        "\n",
        "# Input das dimensões das imagens\n",
        "img_rows, img_cols = 28, 28\n",
        "\n",
        "# Reshape dos dados de treino e de teste e input_shape\n",
        "if backend.image_data_format() == 'channels_first':\n",
        "    x_train = x_train.reshape(x_train.shape[0], 1, img_rows, img_cols)\n",
        "    x_test = x_test.reshape(x_test.shape[0], 1, img_rows, img_cols)\n",
        "    input_shape = (1, img_rows, img_cols)\n",
        "else:\n",
        "    x_train = x_train.reshape(x_train.shape[0], img_rows, img_cols, 1)\n",
        "    x_test = x_test.reshape(x_test.shape[0], img_rows, img_cols, 1)\n",
        "    input_shape = (img_rows, img_cols, 1)\n",
        "\n",
        "# Conversão para float32 \n",
        "x_train = x_train.astype('float32')\n",
        "x_test = x_test.astype('float32')\n",
        "\n",
        "# Escala\n",
        "x_train /= 255\n",
        "x_test /= 255\n",
        "\n",
        "# Print\n",
        "print('x_train shape:', x_train.shape)\n",
        "print(\"Exemplos de Treino: {}\".format(x_train.shape[0]))\n",
        "print(\"Exemplos de Teste: {}\".format(x_test.shape[0]))\n",
        "print(\"Input Shape: {}\".format(input_shape))"
      ],
      "execution_count": 0,
      "outputs": []
    },
    {
      "metadata": {
        "id": "Kigz_WlrA_Wg",
        "colab_type": "text"
      },
      "cell_type": "markdown",
      "source": [
        "## Definindo a CNN"
      ]
    },
    {
      "metadata": {
        "id": "aZVv0b_hA_Wh",
        "colab_type": "code",
        "colab": {}
      },
      "cell_type": "code",
      "source": [
        "from keras.models import Sequential\n",
        "from keras.layers import Dense, Dropout, Flatten\n",
        "from keras.layers import Conv2D, MaxPooling2D\n",
        "\n",
        "# Definindo os hiperparâmetros\n",
        "batch_size = 128\n",
        "num_classes = 10\n",
        "epochs = 12\n",
        "\n",
        "# Converte vetores de classe para matrizes de classe binária\n",
        "y_train = keras.utils.to_categorical(y_train, num_classes)\n",
        "y_test = keras.utils.to_categorical(y_test, num_classes)\n",
        "\n",
        "# Modelo CNN\n",
        "# https://keras.io/layers/convolutional/#conv2d\n",
        "model = Sequential()\n",
        "model.add(Conv2D(filters = 16, kernel_size = 2, padding = 'same', activation = 'relu', input_shape = input_shape))\n",
        "model.add(MaxPooling2D(pool_size = 2))\n",
        "model.add(Conv2D(filters = 32, kernel_size = 2, padding = 'same', activation = 'relu'))\n",
        "model.add(MaxPooling2D(pool_size = 2))\n",
        "model.add(Conv2D(filters = 64, kernel_size = 2, padding = 'same', activation = 'relu'))\n",
        "model.add(MaxPooling2D(pool_size = 2))\n",
        "model.add(Flatten())\n",
        "model.add(Dense(500, activation = 'relu'))\n",
        "model.add(Dense(10, activation = 'softmax'))\n",
        "\n",
        "# Compilação do modelo\n",
        "model.compile(loss = keras.losses.categorical_crossentropy, \n",
        "              optimizer = keras.optimizers.Adadelta(), \n",
        "              metrics = ['accuracy'])"
      ],
      "execution_count": 0,
      "outputs": []
    },
    {
      "metadata": {
        "id": "I7zNqskrA_Wk",
        "colab_type": "text"
      },
      "cell_type": "markdown",
      "source": [
        "Nota: observe que aumentamos a quantidade de filtros. Isso se deve ao fato que queremos aumentar a profundidade do nosso array, ao mesmo tempo que reduzimos altura e largura com a camada Max Pooling. O processo de convolução tem exatamente o objetivo de tornar o array mais profundo, enquanto a camada Max Pooling reduz o espaço dimensional. Basicamente fazemos isso: convertemos um quadrado representando uma imagem em vários pequenos quadrados representando cada um características das imagens. No final, entregamos esse array a uma camada totalmente conectada e fazemos a classificação.\n",
        "![CNN](images/cnn_architecture.png \"CNN\")"
      ]
    },
    {
      "metadata": {
        "id": "vikU8ZtvA_Wl",
        "colab_type": "text"
      },
      "cell_type": "markdown",
      "source": [
        "## Treinamento da CNN"
      ]
    },
    {
      "metadata": {
        "scrolled": false,
        "id": "yoB3RsBkA_Wm",
        "colab_type": "code",
        "colab": {}
      },
      "cell_type": "code",
      "source": [
        "import tensorflow as tf\n",
        "\n",
        "# Fit do modelo\n",
        "model.fit(x_train, y_train, batch_size = batch_size, epochs = epochs, verbose = 2, validation_data = (x_test, y_test))"
      ],
      "execution_count": 0,
      "outputs": []
    },
    {
      "metadata": {
        "id": "cFuea9pVA_Wq",
        "colab_type": "code",
        "colab": {}
      },
      "cell_type": "code",
      "source": [
        "model.summary()\n",
        "\n",
        "# Fórmula: número de parâmetros em uma camada convolucional\n",
        "# O número de parâmetros em uma camada convolucional depende dos valores fornecidos dos filtros, kernel_size e input_shape. \n",
        "# Vamos definir algumas variáveis:\n",
        "\n",
        "# K - o número de filtros na camada convolucional\n",
        "# F - altura e largura dos filtros convolucionais\n",
        "# D_in - a profundidade da camada anterior\n",
        "\n",
        "# Observe que K = filtros e F = kernel_size. Da mesma forma, D_in é o último valor na tupla input_shape.\n",
        "\n",
        "# Uma vez que existem pesos F * F * D por filtro e a camada convolucional é composta por filtros K, \n",
        "# o número total de pesos na camada convolucional é:\n",
        "\n",
        "# K * F * F * D_in. \n",
        "\n",
        "# Uma vez que existe um termo de bias por filtro, a camada convolucional tem bias igual ao valor de K. \n",
        "# Assim, o número de parâmetros na camada convolucional é dado por K * F * F * D_in + K."
      ],
      "execution_count": 0,
      "outputs": []
    },
    {
      "metadata": {
        "id": "GYAqVzRnA_Wt",
        "colab_type": "code",
        "colab": {}
      },
      "cell_type": "code",
      "source": [
        "for layer in model.layers:\n",
        "    print(layer.name, layer.inbound_nodes, layer.outbound_nodes)"
      ],
      "execution_count": 0,
      "outputs": []
    },
    {
      "metadata": {
        "id": "0P4Hy3iIA_Wx",
        "colab_type": "text"
      },
      "cell_type": "markdown",
      "source": [
        "## Avaliando a Acurácia\n",
        "\n",
        "Note, se você estiver usando uma GPU, você pode obter a mensagem de erro ** ResourceExhaustedError **. Isso ocorre porque a GPU pode não ter RAM suficiente para prever todo o conjunto de dados ao mesmo tempo."
      ]
    },
    {
      "metadata": {
        "id": "-8JpBlh2A_Wy",
        "colab_type": "code",
        "colab": {}
      },
      "cell_type": "code",
      "source": [
        "# Avaliação nos dados de teste\n",
        "# Neste caso, estamos avaliando o modelo no dataset de teste inteiro. \n",
        "# Isso pode não caber na memória da GPU\n",
        "score = model.evaluate(x_test, y_test, verbose=0)\n",
        "\n",
        "# Print\n",
        "print('Perda em Teste: {}'.format(score[0]))\n",
        "print('Acurácia em Teste: {}'.format(score[1]))"
      ],
      "execution_count": 0,
      "outputs": []
    },
    {
      "metadata": {
        "id": "6cd-GvAZA_W1",
        "colab_type": "text"
      },
      "cell_type": "markdown",
      "source": [
        "As GPUs são mais utilizadas durante o treinamento do que nas previsões. Para as previsões, desative a GPU ou apenas preveja em uma amostra menor. Se a seu GPU tiver memória suficiente, o código de previsão acima pode funcionar bem. Caso contrário, basta uma previsão em uma amostra com o seguinte código:"
      ]
    },
    {
      "metadata": {
        "id": "XMFmf5g5A_W3",
        "colab_type": "code",
        "colab": {}
      },
      "cell_type": "code",
      "source": [
        "from sklearn import metrics\n",
        "\n",
        "# Para avaliação do modelo usando GPU, usamos amostras dos dados de teste\n",
        "small_x = x_test[1:100]\n",
        "small_y = y_test[1:100]\n",
        "small_y2 = np.argmax(small_y, axis = 1)\n",
        "pred = model.predict(small_x)\n",
        "pred = np.argmax(pred,axis=1)\n",
        "score = metrics.accuracy_score(small_y2, pred)\n",
        "print('Acurácia: {}'.format(score))"
      ],
      "execution_count": 0,
      "outputs": []
    },
    {
      "metadata": {
        "id": "M05B33EHA_W9",
        "colab_type": "code",
        "colab": {}
      },
      "cell_type": "code",
      "source": [
        "print(small_y)"
      ],
      "execution_count": 0,
      "outputs": []
    }
  ]
}