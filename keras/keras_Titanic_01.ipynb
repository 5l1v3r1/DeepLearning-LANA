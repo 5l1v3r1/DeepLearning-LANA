{
  "nbformat": 4,
  "nbformat_minor": 0,
  "metadata": {
    "colab": {
      "name": "keras-Titanic-01.ipynb",
      "version": "0.3.2",
      "provenance": [],
      "collapsed_sections": [],
      "include_colab_link": true
    },
    "kernelspec": {
      "name": "python3",
      "display_name": "Python 3"
    },
    "accelerator": "GPU"
  },
  "cells": [
    {
      "cell_type": "markdown",
      "metadata": {
        "id": "view-in-github",
        "colab_type": "text"
      },
      "source": [
        "<a href=\"https://colab.research.google.com/github/vladimiralencar/DeepLearning-LANA/blob/master/keras/keras_Titanic_01.ipynb\" target=\"_parent\"><img src=\"https://colab.research.google.com/assets/colab-badge.svg\" alt=\"Open In Colab\"/></a>"
      ]
    },
    {
      "metadata": {
        "id": "j9ZClbKoXgQL",
        "colab_type": "text"
      },
      "cell_type": "markdown",
      "source": [
        "## Verifica se a GPU está ativa"
      ]
    },
    {
      "metadata": {
        "id": "3n3QNoHgTEGd",
        "colab_type": "code",
        "outputId": "130b4d26-ae3e-4759-c6e8-31cf3cfb9acc",
        "colab": {
          "base_uri": "https://localhost:8080/",
          "height": 306
        }
      },
      "cell_type": "code",
      "source": [
        "!nvidia-smi"
      ],
      "execution_count": 1,
      "outputs": [
        {
          "output_type": "stream",
          "text": [
            "Wed Feb 20 00:15:44 2019       \n",
            "+-----------------------------------------------------------------------------+\n",
            "| NVIDIA-SMI 410.79       Driver Version: 410.79       CUDA Version: 10.0     |\n",
            "|-------------------------------+----------------------+----------------------+\n",
            "| GPU  Name        Persistence-M| Bus-Id        Disp.A | Volatile Uncorr. ECC |\n",
            "| Fan  Temp  Perf  Pwr:Usage/Cap|         Memory-Usage | GPU-Util  Compute M. |\n",
            "|===============================+======================+======================|\n",
            "|   0  Tesla K80           Off  | 00000000:00:04.0 Off |                    0 |\n",
            "| N/A   72C    P8    35W / 149W |      0MiB / 11441MiB |      0%      Default |\n",
            "+-------------------------------+----------------------+----------------------+\n",
            "                                                                               \n",
            "+-----------------------------------------------------------------------------+\n",
            "| Processes:                                                       GPU Memory |\n",
            "|  GPU       PID   Type   Process name                             Usage      |\n",
            "|=============================================================================|\n",
            "|  No running processes found                                                 |\n",
            "+-----------------------------------------------------------------------------+\n"
          ],
          "name": "stdout"
        }
      ]
    },
    {
      "metadata": {
        "id": "LRm_qQXJS-fd",
        "colab_type": "text"
      },
      "cell_type": "markdown",
      "source": [
        "# Construindo uma Rede Neural - Titanic"
      ]
    },
    {
      "metadata": {
        "id": "T7b7FUZES-ff",
        "colab_type": "code",
        "colab": {}
      },
      "cell_type": "code",
      "source": [
        "import numpy as np\n",
        "import pandas as pd\n",
        "from sklearn.preprocessing import StandardScaler\n",
        "from time import time"
      ],
      "execution_count": 0,
      "outputs": []
    },
    {
      "metadata": {
        "id": "KB-242VxeYfF",
        "colab_type": "code",
        "colab": {}
      },
      "cell_type": "code",
      "source": [
        "#!python -m pip install --upgrade https://storage.googleapis.com/tensorflow/mac/cpu/tensorflow-1.12.0-py3-none-any.whl\n",
        "#!pip install keras"
      ],
      "execution_count": 0,
      "outputs": []
    },
    {
      "metadata": {
        "id": "-QzeEtYTS-fk",
        "colab_type": "code",
        "colab": {}
      },
      "cell_type": "code",
      "source": [
        "np.random.seed(1337)"
      ],
      "execution_count": 0,
      "outputs": []
    },
    {
      "metadata": {
        "id": "dJzeC8CWTRIh",
        "colab_type": "code",
        "outputId": "5a0c3a3a-105b-4d13-c12d-03644dc99710",
        "colab": {
          "base_uri": "https://localhost:8080/",
          "height": 1105
        }
      },
      "cell_type": "code",
      "source": [
        "# leitura dos dados\n",
        "#from google.colab import files\n",
        "#uploaded = files.upload()\n",
        "!wget https://github.com/vladimiralencar/DeepLearning-LANA/raw/master/keras/titanic.csv\n",
        "!wget https://github.com/vladimiralencar/DeepLearning-LANA/raw/master/keras/titanic_test.csv\n",
        "!wget https://github.com/vladimiralencar/DeepLearning-LANA/raw/master/keras/titanic_train.csv\n",
        "!wget https://github.com/vladimiralencar/DeepLearning-LANA/raw/master/keras/titanic_gender_submission.csv\n",
        "\n"
      ],
      "execution_count": 4,
      "outputs": [
        {
          "output_type": "stream",
          "text": [
            "--2019-02-20 09:07:56--  https://github.com/vladimiralencar/DeepLearning-LANA/raw/master/keras/titanic.csv\n",
            "Resolving github.com (github.com)... 192.30.253.112, 192.30.253.113\n",
            "Connecting to github.com (github.com)|192.30.253.112|:443... connected.\n",
            "HTTP request sent, awaiting response... 302 Found\n",
            "Location: https://raw.githubusercontent.com/vladimiralencar/DeepLearning-LANA/master/keras/titanic.csv [following]\n",
            "--2019-02-20 09:07:57--  https://raw.githubusercontent.com/vladimiralencar/DeepLearning-LANA/master/keras/titanic.csv\n",
            "Resolving raw.githubusercontent.com (raw.githubusercontent.com)... 151.101.0.133, 151.101.64.133, 151.101.128.133, ...\n",
            "Connecting to raw.githubusercontent.com (raw.githubusercontent.com)|151.101.0.133|:443... connected.\n",
            "HTTP request sent, awaiting response... 200 OK\n",
            "Length: 16816 (16K) [text/plain]\n",
            "Saving to: ‘titanic.csv’\n",
            "\n",
            "titanic.csv         100%[===================>]  16.42K  --.-KB/s    in 0.01s   \n",
            "\n",
            "2019-02-20 09:07:57 (1.35 MB/s) - ‘titanic.csv’ saved [16816/16816]\n",
            "\n",
            "--2019-02-20 09:07:59--  https://github.com/vladimiralencar/DeepLearning-LANA/raw/master/keras/titanic_test.csv\n",
            "Resolving github.com (github.com)... 192.30.253.112, 192.30.253.113\n",
            "Connecting to github.com (github.com)|192.30.253.112|:443... connected.\n",
            "HTTP request sent, awaiting response... 302 Found\n",
            "Location: https://raw.githubusercontent.com/vladimiralencar/DeepLearning-LANA/master/keras/titanic_test.csv [following]\n",
            "--2019-02-20 09:07:59--  https://raw.githubusercontent.com/vladimiralencar/DeepLearning-LANA/master/keras/titanic_test.csv\n",
            "Resolving raw.githubusercontent.com (raw.githubusercontent.com)... 151.101.0.133, 151.101.64.133, 151.101.128.133, ...\n",
            "Connecting to raw.githubusercontent.com (raw.githubusercontent.com)|151.101.0.133|:443... connected.\n",
            "HTTP request sent, awaiting response... 200 OK\n",
            "Length: 28629 (28K) [text/plain]\n",
            "Saving to: ‘titanic_test.csv’\n",
            "\n",
            "titanic_test.csv    100%[===================>]  27.96K  --.-KB/s    in 0.01s   \n",
            "\n",
            "2019-02-20 09:08:00 (2.39 MB/s) - ‘titanic_test.csv’ saved [28629/28629]\n",
            "\n",
            "--2019-02-20 09:08:01--  https://github.com/vladimiralencar/DeepLearning-LANA/raw/master/keras/titanic_train.csv\n",
            "Resolving github.com (github.com)... 192.30.253.112, 192.30.253.113\n",
            "Connecting to github.com (github.com)|192.30.253.112|:443... connected.\n",
            "HTTP request sent, awaiting response... 302 Found\n",
            "Location: https://raw.githubusercontent.com/vladimiralencar/DeepLearning-LANA/master/keras/titanic_train.csv [following]\n",
            "--2019-02-20 09:08:02--  https://raw.githubusercontent.com/vladimiralencar/DeepLearning-LANA/master/keras/titanic_train.csv\n",
            "Resolving raw.githubusercontent.com (raw.githubusercontent.com)... 151.101.0.133, 151.101.64.133, 151.101.128.133, ...\n",
            "Connecting to raw.githubusercontent.com (raw.githubusercontent.com)|151.101.0.133|:443... connected.\n",
            "HTTP request sent, awaiting response... 200 OK\n",
            "Length: 61194 (60K) [text/plain]\n",
            "Saving to: ‘titanic_train.csv’\n",
            "\n",
            "titanic_train.csv   100%[===================>]  59.76K  --.-KB/s    in 0.02s   \n",
            "\n",
            "2019-02-20 09:08:03 (2.44 MB/s) - ‘titanic_train.csv’ saved [61194/61194]\n",
            "\n",
            "--2019-02-20 09:08:04--  https://github.com/vladimiralencar/DeepLearning-LANA/raw/master/keras/titanic_gender_submission.csv\n",
            "Resolving github.com (github.com)... 192.30.253.112, 192.30.253.113\n",
            "Connecting to github.com (github.com)|192.30.253.112|:443... connected.\n",
            "HTTP request sent, awaiting response... 302 Found\n",
            "Location: https://raw.githubusercontent.com/vladimiralencar/DeepLearning-LANA/master/keras/titanic_gender_submission.csv [following]\n",
            "--2019-02-20 09:08:05--  https://raw.githubusercontent.com/vladimiralencar/DeepLearning-LANA/master/keras/titanic_gender_submission.csv\n",
            "Resolving raw.githubusercontent.com (raw.githubusercontent.com)... 151.101.0.133, 151.101.64.133, 151.101.128.133, ...\n",
            "Connecting to raw.githubusercontent.com (raw.githubusercontent.com)|151.101.0.133|:443... connected.\n",
            "HTTP request sent, awaiting response... 200 OK\n",
            "Length: 3258 (3.2K) [text/plain]\n",
            "Saving to: ‘titanic_gender_submission.csv’\n",
            "\n",
            "titanic_gender_subm 100%[===================>]   3.18K  --.-KB/s    in 0s      \n",
            "\n",
            "2019-02-20 09:08:05 (45.1 MB/s) - ‘titanic_gender_submission.csv’ saved [3258/3258]\n",
            "\n"
          ],
          "name": "stdout"
        }
      ]
    },
    {
      "metadata": {
        "id": "3DI4oLlRThQq",
        "colab_type": "code",
        "outputId": "a4d3ce51-9948-4ff7-ad3d-06b4abe2e14b",
        "colab": {
          "base_uri": "https://localhost:8080/",
          "height": 51
        }
      },
      "cell_type": "code",
      "source": [
        "!ls"
      ],
      "execution_count": 5,
      "outputs": [
        {
          "output_type": "stream",
          "text": [
            "sample_data  titanic_gender_submission.csv  titanic_train.csv\n",
            "titanic.csv  titanic_test.csv\n"
          ],
          "name": "stdout"
        }
      ]
    },
    {
      "metadata": {
        "id": "IE2GBzEUTf0U",
        "colab_type": "code",
        "colab": {}
      },
      "cell_type": "code",
      "source": [
        "#import io\n",
        "#df2 = pd.read_csv(io.StringIO(uploaded['Filename.csv']))"
      ],
      "execution_count": 0,
      "outputs": []
    },
    {
      "metadata": {
        "id": "QP-4E2LfS-fn",
        "colab_type": "code",
        "colab": {}
      },
      "cell_type": "code",
      "source": [
        "# folder_titan = '/media/datasets/DeepLearningI/Cap02/titanic.csv'\n",
        "df = pd.read_csv('titanic.csv')"
      ],
      "execution_count": 0,
      "outputs": []
    },
    {
      "metadata": {
        "id": "PJBgAVLpS-fq",
        "colab_type": "code",
        "outputId": "e65cb73c-78f8-408e-d7ab-7a9f3642c6cc",
        "colab": {
          "base_uri": "https://localhost:8080/",
          "height": 204
        }
      },
      "cell_type": "code",
      "source": [
        "df.head()"
      ],
      "execution_count": 8,
      "outputs": [
        {
          "output_type": "execute_result",
          "data": {
            "text/html": [
              "<div>\n",
              "<style scoped>\n",
              "    .dataframe tbody tr th:only-of-type {\n",
              "        vertical-align: middle;\n",
              "    }\n",
              "\n",
              "    .dataframe tbody tr th {\n",
              "        vertical-align: top;\n",
              "    }\n",
              "\n",
              "    .dataframe thead th {\n",
              "        text-align: right;\n",
              "    }\n",
              "</style>\n",
              "<table border=\"1\" class=\"dataframe\">\n",
              "  <thead>\n",
              "    <tr style=\"text-align: right;\">\n",
              "      <th></th>\n",
              "      <th>Survived</th>\n",
              "      <th>Class</th>\n",
              "      <th>Sex</th>\n",
              "      <th>Age</th>\n",
              "      <th>Fare</th>\n",
              "    </tr>\n",
              "  </thead>\n",
              "  <tbody>\n",
              "    <tr>\n",
              "      <th>0</th>\n",
              "      <td>0</td>\n",
              "      <td>3</td>\n",
              "      <td>1</td>\n",
              "      <td>22.0</td>\n",
              "      <td>7.2500</td>\n",
              "    </tr>\n",
              "    <tr>\n",
              "      <th>1</th>\n",
              "      <td>1</td>\n",
              "      <td>1</td>\n",
              "      <td>0</td>\n",
              "      <td>38.0</td>\n",
              "      <td>71.2833</td>\n",
              "    </tr>\n",
              "    <tr>\n",
              "      <th>2</th>\n",
              "      <td>1</td>\n",
              "      <td>3</td>\n",
              "      <td>0</td>\n",
              "      <td>26.0</td>\n",
              "      <td>7.9250</td>\n",
              "    </tr>\n",
              "    <tr>\n",
              "      <th>3</th>\n",
              "      <td>1</td>\n",
              "      <td>1</td>\n",
              "      <td>0</td>\n",
              "      <td>35.0</td>\n",
              "      <td>53.1000</td>\n",
              "    </tr>\n",
              "    <tr>\n",
              "      <th>4</th>\n",
              "      <td>0</td>\n",
              "      <td>3</td>\n",
              "      <td>1</td>\n",
              "      <td>35.0</td>\n",
              "      <td>8.0500</td>\n",
              "    </tr>\n",
              "  </tbody>\n",
              "</table>\n",
              "</div>"
            ],
            "text/plain": [
              "   Survived  Class  Sex   Age     Fare\n",
              "0         0      3    1  22.0   7.2500\n",
              "1         1      1    0  38.0  71.2833\n",
              "2         1      3    0  26.0   7.9250\n",
              "3         1      1    0  35.0  53.1000\n",
              "4         0      3    1  35.0   8.0500"
            ]
          },
          "metadata": {
            "tags": []
          },
          "execution_count": 8
        }
      ]
    },
    {
      "metadata": {
        "id": "TGWayhb6S-fs",
        "colab_type": "code",
        "outputId": "c6a4a209-ad30-42f0-ee9b-bddde8fa5313",
        "colab": {
          "base_uri": "https://localhost:8080/",
          "height": 34
        }
      },
      "cell_type": "code",
      "source": [
        "len(df)"
      ],
      "execution_count": 9,
      "outputs": [
        {
          "output_type": "execute_result",
          "data": {
            "text/plain": [
              "891"
            ]
          },
          "metadata": {
            "tags": []
          },
          "execution_count": 9
        }
      ]
    },
    {
      "metadata": {
        "id": "hlJbHkcIS-fv",
        "colab_type": "code",
        "outputId": "48383c39-2b7f-477f-9164-63864b85bf06",
        "colab": {
          "base_uri": "https://localhost:8080/",
          "height": 204
        }
      },
      "cell_type": "code",
      "source": [
        "df_train = df.iloc[:712, :]\n",
        "\n",
        "df_train.head()"
      ],
      "execution_count": 10,
      "outputs": [
        {
          "output_type": "execute_result",
          "data": {
            "text/html": [
              "<div>\n",
              "<style scoped>\n",
              "    .dataframe tbody tr th:only-of-type {\n",
              "        vertical-align: middle;\n",
              "    }\n",
              "\n",
              "    .dataframe tbody tr th {\n",
              "        vertical-align: top;\n",
              "    }\n",
              "\n",
              "    .dataframe thead th {\n",
              "        text-align: right;\n",
              "    }\n",
              "</style>\n",
              "<table border=\"1\" class=\"dataframe\">\n",
              "  <thead>\n",
              "    <tr style=\"text-align: right;\">\n",
              "      <th></th>\n",
              "      <th>Survived</th>\n",
              "      <th>Class</th>\n",
              "      <th>Sex</th>\n",
              "      <th>Age</th>\n",
              "      <th>Fare</th>\n",
              "    </tr>\n",
              "  </thead>\n",
              "  <tbody>\n",
              "    <tr>\n",
              "      <th>0</th>\n",
              "      <td>0</td>\n",
              "      <td>3</td>\n",
              "      <td>1</td>\n",
              "      <td>22.0</td>\n",
              "      <td>7.2500</td>\n",
              "    </tr>\n",
              "    <tr>\n",
              "      <th>1</th>\n",
              "      <td>1</td>\n",
              "      <td>1</td>\n",
              "      <td>0</td>\n",
              "      <td>38.0</td>\n",
              "      <td>71.2833</td>\n",
              "    </tr>\n",
              "    <tr>\n",
              "      <th>2</th>\n",
              "      <td>1</td>\n",
              "      <td>3</td>\n",
              "      <td>0</td>\n",
              "      <td>26.0</td>\n",
              "      <td>7.9250</td>\n",
              "    </tr>\n",
              "    <tr>\n",
              "      <th>3</th>\n",
              "      <td>1</td>\n",
              "      <td>1</td>\n",
              "      <td>0</td>\n",
              "      <td>35.0</td>\n",
              "      <td>53.1000</td>\n",
              "    </tr>\n",
              "    <tr>\n",
              "      <th>4</th>\n",
              "      <td>0</td>\n",
              "      <td>3</td>\n",
              "      <td>1</td>\n",
              "      <td>35.0</td>\n",
              "      <td>8.0500</td>\n",
              "    </tr>\n",
              "  </tbody>\n",
              "</table>\n",
              "</div>"
            ],
            "text/plain": [
              "   Survived  Class  Sex   Age     Fare\n",
              "0         0      3    1  22.0   7.2500\n",
              "1         1      1    0  38.0  71.2833\n",
              "2         1      3    0  26.0   7.9250\n",
              "3         1      1    0  35.0  53.1000\n",
              "4         0      3    1  35.0   8.0500"
            ]
          },
          "metadata": {
            "tags": []
          },
          "execution_count": 10
        }
      ]
    },
    {
      "metadata": {
        "id": "oUCXQt4LS-fy",
        "colab_type": "code",
        "colab": {}
      },
      "cell_type": "code",
      "source": [
        "scaler = StandardScaler()\n",
        "features = ['Class', 'Sex', 'Age', 'Fare']\n",
        "\n",
        "X_train = scaler.fit_transform(df_train[features].values)\n",
        "y_train = df_train['Survived'].values\n",
        "y_train_onehot = pd.get_dummies(df_train['Survived']).values"
      ],
      "execution_count": 0,
      "outputs": []
    },
    {
      "metadata": {
        "id": "9697PhbdS-f1",
        "colab_type": "code",
        "outputId": "85d52ee5-e773-4ef1-8f00-febdcf9d2669",
        "colab": {
          "base_uri": "https://localhost:8080/",
          "height": 102
        }
      },
      "cell_type": "code",
      "source": [
        "X_train[:5]"
      ],
      "execution_count": 12,
      "outputs": [
        {
          "output_type": "execute_result",
          "data": {
            "text/plain": [
              "array([[ 0.83290956,  0.74926865, -0.61259594, -0.51933199],\n",
              "       [-1.55353553, -1.33463478,  0.6184268 ,  0.79718222],\n",
              "       [ 0.83290956, -1.33463478, -0.30484025, -0.5054541 ],\n",
              "       [-1.55353553, -1.33463478,  0.38761004,  0.42333654],\n",
              "       [ 0.83290956,  0.74926865,  0.38761004, -0.50288412]])"
            ]
          },
          "metadata": {
            "tags": []
          },
          "execution_count": 12
        }
      ]
    },
    {
      "metadata": {
        "id": "ANMSAd-aS-f4",
        "colab_type": "code",
        "outputId": "8bdbceaa-35fd-46e7-b84e-1797b16bcc9b",
        "colab": {
          "base_uri": "https://localhost:8080/",
          "height": 68
        }
      },
      "cell_type": "code",
      "source": [
        "y_train_onehot[:3]"
      ],
      "execution_count": 13,
      "outputs": [
        {
          "output_type": "execute_result",
          "data": {
            "text/plain": [
              "array([[1, 0],\n",
              "       [0, 1],\n",
              "       [0, 1]], dtype=uint8)"
            ]
          },
          "metadata": {
            "tags": []
          },
          "execution_count": 13
        }
      ]
    },
    {
      "metadata": {
        "id": "83lsGHOHS-f8",
        "colab_type": "code",
        "colab": {}
      },
      "cell_type": "code",
      "source": [
        "df_test = df.iloc[712:, :]\n",
        "\n",
        "X_test = scaler.transform(df_test[features].values)\n",
        "y_test = df_test['Survived'].values"
      ],
      "execution_count": 0,
      "outputs": []
    },
    {
      "metadata": {
        "id": "cUP2qngoS-f-",
        "colab_type": "code",
        "outputId": "01a6c308-d8d6-4262-d4ea-7ef1c34b0b67",
        "colab": {
          "base_uri": "https://localhost:8080/",
          "height": 102
        }
      },
      "cell_type": "code",
      "source": [
        "np.set_printoptions(precision=5, suppress=True)\n",
        "X_train[:5]"
      ],
      "execution_count": 15,
      "outputs": [
        {
          "output_type": "execute_result",
          "data": {
            "text/plain": [
              "array([[ 0.83291,  0.74927, -0.6126 , -0.51933],\n",
              "       [-1.55354, -1.33463,  0.61843,  0.79718],\n",
              "       [ 0.83291, -1.33463, -0.30484, -0.50545],\n",
              "       [-1.55354, -1.33463,  0.38761,  0.42334],\n",
              "       [ 0.83291,  0.74927,  0.38761, -0.50288]])"
            ]
          },
          "metadata": {
            "tags": []
          },
          "execution_count": 15
        }
      ]
    },
    {
      "metadata": {
        "id": "Vo5MUXUgS-gC",
        "colab_type": "code",
        "outputId": "a0ba2f53-e5c5-4895-bc96-872b7d4bb549",
        "colab": {
          "base_uri": "https://localhost:8080/",
          "height": 34
        }
      },
      "cell_type": "code",
      "source": [
        "y_train[:5]"
      ],
      "execution_count": 16,
      "outputs": [
        {
          "output_type": "execute_result",
          "data": {
            "text/plain": [
              "array([0, 1, 1, 1, 0])"
            ]
          },
          "metadata": {
            "tags": []
          },
          "execution_count": 16
        }
      ]
    },
    {
      "metadata": {
        "collapsed": true,
        "id": "Pv8s_cDrS-gF",
        "colab_type": "text"
      },
      "cell_type": "markdown",
      "source": [
        "## Criando um Modelo de Árvore de Decisão ( Benchmark)"
      ]
    },
    {
      "metadata": {
        "id": "IyfpUzAOS-gF",
        "colab_type": "code",
        "outputId": "eefba875-a0ec-45f5-b7c4-4d8ed80cb823",
        "colab": {
          "base_uri": "https://localhost:8080/",
          "height": 411
        }
      },
      "cell_type": "code",
      "source": [
        "from sklearn.ensemble import RandomForestClassifier\n",
        "\n",
        "model = RandomForestClassifier(random_state=0, verbose=3)\n",
        "model = model.fit(X_train, df_train['Survived'].values)\n",
        "\n",
        "y_prediction = model.predict(X_test)\n",
        "print (\"\\nAcurácia\", np.sum(y_prediction == y_test) / float(len(y_test)))"
      ],
      "execution_count": 17,
      "outputs": [
        {
          "output_type": "stream",
          "text": [
            "building tree 1 of 10\n",
            "building tree 2 of 10\n",
            "building tree 3 of 10\n",
            "building tree 4 of 10\n",
            "building tree 5 of 10\n",
            "building tree 6 of 10\n",
            "building tree 7 of 10\n",
            "building tree 8 of 10\n",
            "building tree 9 of 10\n",
            "building tree 10 of 10\n",
            "\n",
            "Acurácia 0.8100558659217877\n"
          ],
          "name": "stdout"
        },
        {
          "output_type": "stream",
          "text": [
            "/usr/local/lib/python3.6/dist-packages/sklearn/ensemble/forest.py:246: FutureWarning: The default value of n_estimators will change from 10 in version 0.20 to 100 in 0.22.\n",
            "  \"10 in version 0.20 to 100 in 0.22.\", FutureWarning)\n",
            "[Parallel(n_jobs=1)]: Using backend SequentialBackend with 1 concurrent workers.\n",
            "[Parallel(n_jobs=1)]: Done   1 out of   1 | elapsed:    0.0s remaining:    0.0s\n",
            "[Parallel(n_jobs=1)]: Done   2 out of   2 | elapsed:    0.0s remaining:    0.0s\n",
            "[Parallel(n_jobs=1)]: Done  10 out of  10 | elapsed:    0.0s finished\n",
            "[Parallel(n_jobs=1)]: Using backend SequentialBackend with 1 concurrent workers.\n",
            "[Parallel(n_jobs=1)]: Done   1 out of   1 | elapsed:    0.0s remaining:    0.0s\n",
            "[Parallel(n_jobs=1)]: Done   2 out of   2 | elapsed:    0.0s remaining:    0.0s\n",
            "[Parallel(n_jobs=1)]: Done  10 out of  10 | elapsed:    0.0s finished\n"
          ],
          "name": "stderr"
        }
      ]
    },
    {
      "metadata": {
        "collapsed": true,
        "id": "ZzSamTF_S-gJ",
        "colab_type": "text"
      },
      "cell_type": "markdown",
      "source": [
        "## Rede Neural com 1 Camada"
      ]
    },
    {
      "metadata": {
        "id": "NVphaqNhS-gJ",
        "colab_type": "code",
        "outputId": "ef85afdc-1af6-47b6-a772-4993549767bf",
        "colab": {
          "base_uri": "https://localhost:8080/",
          "height": 85
        }
      },
      "cell_type": "code",
      "source": [
        "print(features)\n",
        "X_train[:3]"
      ],
      "execution_count": 18,
      "outputs": [
        {
          "output_type": "stream",
          "text": [
            "['Class', 'Sex', 'Age', 'Fare']\n"
          ],
          "name": "stdout"
        },
        {
          "output_type": "execute_result",
          "data": {
            "text/plain": [
              "array([[ 0.83291,  0.74927, -0.6126 , -0.51933],\n",
              "       [-1.55354, -1.33463,  0.61843,  0.79718],\n",
              "       [ 0.83291, -1.33463, -0.30484, -0.50545]])"
            ]
          },
          "metadata": {
            "tags": []
          },
          "execution_count": 18
        }
      ]
    },
    {
      "metadata": {
        "id": "qJgx1CKrS-gM",
        "colab_type": "code",
        "outputId": "06c7640a-fdb2-4e3c-8c68-6277f72b9e39",
        "colab": {
          "base_uri": "https://localhost:8080/",
          "height": 224
        }
      },
      "cell_type": "code",
      "source": [
        "from keras.models import Sequential\n",
        "from keras.layers import Dense, Activation\n",
        "\n",
        "start = time()\n",
        "\n",
        "model = Sequential()\n",
        "\n",
        "model.add(Dense(input_dim=4, units=2)) # saída - units\n",
        "\n",
        "model.add(Activation(\"softmax\"))\n",
        "\n",
        "model.compile(loss='categorical_crossentropy', optimizer='sgd', metrics=['accuracy'])\n",
        "\n",
        "model.fit(X_train, y_train_onehot)\n",
        "\n",
        "print ('\\nTempo gasto: %s segundos' % str(time() - start))"
      ],
      "execution_count": 19,
      "outputs": [
        {
          "output_type": "stream",
          "text": [
            "Using TensorFlow backend.\n"
          ],
          "name": "stderr"
        },
        {
          "output_type": "stream",
          "text": [
            "WARNING:tensorflow:From /usr/local/lib/python3.6/dist-packages/tensorflow/python/framework/op_def_library.py:263: colocate_with (from tensorflow.python.framework.ops) is deprecated and will be removed in a future version.\n",
            "Instructions for updating:\n",
            "Colocations handled automatically by placer.\n",
            "WARNING:tensorflow:From /usr/local/lib/python3.6/dist-packages/tensorflow/python/ops/math_ops.py:3066: to_int32 (from tensorflow.python.ops.math_ops) is deprecated and will be removed in a future version.\n",
            "Instructions for updating:\n",
            "Use tf.cast instead.\n",
            "Epoch 1/1\n",
            "712/712 [==============================] - 3s 4ms/step - loss: 1.4410 - acc: 0.3413\n",
            "\n",
            "Tempo gasto: 2.864208459854126 segundos\n"
          ],
          "name": "stdout"
        }
      ]
    },
    {
      "metadata": {
        "id": "Uw2mWkdFS-gO",
        "colab_type": "code",
        "outputId": "67c3d173-45dd-4bce-fcc3-0d41005cb62c",
        "colab": {
          "base_uri": "https://localhost:8080/",
          "height": 68
        }
      },
      "cell_type": "code",
      "source": [
        "y_prediction = model.predict_classes(X_test)\n",
        "print (\"\\n\\nAcurácia\", np.sum(y_prediction == y_test) / float(len(y_test)))"
      ],
      "execution_count": 20,
      "outputs": [
        {
          "output_type": "stream",
          "text": [
            "\n",
            "\n",
            "Acurácia 0.3240223463687151\n"
          ],
          "name": "stdout"
        }
      ]
    },
    {
      "metadata": {
        "collapsed": true,
        "id": "Pik_Sov5S-gV",
        "colab_type": "text"
      },
      "cell_type": "markdown",
      "source": [
        "## Rede Neural com 2 Camadas"
      ]
    },
    {
      "metadata": {
        "id": "lOlV4ExvS-gX",
        "colab_type": "code",
        "outputId": "f0e16168-a82f-4d9e-8c2f-e2d598db28eb",
        "colab": {
          "base_uri": "https://localhost:8080/",
          "height": 85
        }
      },
      "cell_type": "code",
      "source": [
        "start = time()\n",
        "\n",
        "model = Sequential()\n",
        "\n",
        "model.add(Dense(input_dim=4, units = 100)) # units - numero de neuronios\n",
        "\n",
        "model.add(Dense(units=2))\n",
        "\n",
        "model.add(Activation(\"softmax\"))\n",
        "\n",
        "model.compile(loss='categorical_crossentropy', optimizer='sgd', metrics=['accuracy'])\n",
        "\n",
        "model.fit(X_train, y_train_onehot)\n",
        "\n",
        "print ('\\nTempo gasto: %s segundos' % str(time() - start))"
      ],
      "execution_count": 21,
      "outputs": [
        {
          "output_type": "stream",
          "text": [
            "Epoch 1/1\n",
            "712/712 [==============================] - 0s 287us/step - loss: 0.6605 - acc: 0.6517\n",
            "\n",
            "Tempo gasto: 0.47099947929382324 segundos\n"
          ],
          "name": "stdout"
        }
      ]
    },
    {
      "metadata": {
        "id": "_UdgoL1DS-gc",
        "colab_type": "code",
        "outputId": "a317382c-1e81-4e1e-93b1-7143c1139bf6",
        "colab": {
          "base_uri": "https://localhost:8080/",
          "height": 68
        }
      },
      "cell_type": "code",
      "source": [
        "y_prediction = model.predict_classes(X_test)\n",
        "print (\"\\n\\nAcurácia\", np.sum(y_prediction == y_test) / float(len(y_test)))"
      ],
      "execution_count": 22,
      "outputs": [
        {
          "output_type": "stream",
          "text": [
            "\n",
            "\n",
            "Acurácia 0.8100558659217877\n"
          ],
          "name": "stdout"
        }
      ]
    },
    {
      "metadata": {
        "collapsed": true,
        "id": "3WTl5UO6S-gf",
        "colab_type": "text"
      },
      "cell_type": "markdown",
      "source": [
        "## Rede Neural com 3 Camadas"
      ]
    },
    {
      "metadata": {
        "id": "sCuwZVeQS-gg",
        "colab_type": "code",
        "outputId": "cfde5ddc-ce6b-462e-be92-5742616d124d",
        "colab": {
          "base_uri": "https://localhost:8080/",
          "height": 85
        }
      },
      "cell_type": "code",
      "source": [
        "start = time()\n",
        "\n",
        "model = Sequential()\n",
        "\n",
        "model.add(Dense(input_dim=4, units=100))\n",
        "\n",
        "model.add(Dense(units=100))\n",
        "\n",
        "model.add(Dense(units=2))\n",
        "\n",
        "model.add(Activation(\"softmax\"))\n",
        "\n",
        "model.compile(loss='categorical_crossentropy', optimizer='sgd', metrics=['accuracy'])\n",
        "\n",
        "model.fit(X_train, y_train_onehot)\n",
        "\n",
        "print ('\\nTempo gasto: %s segundos' % str(time() - start))"
      ],
      "execution_count": 23,
      "outputs": [
        {
          "output_type": "stream",
          "text": [
            "Epoch 1/1\n",
            "712/712 [==============================] - 0s 537us/step - loss: 0.7281 - acc: 0.5239\n",
            "\n",
            "Tempo gasto: 0.6814820766448975 segundos\n"
          ],
          "name": "stdout"
        }
      ]
    },
    {
      "metadata": {
        "id": "VA0GYw_GS-gj",
        "colab_type": "code",
        "outputId": "0ce28261-e216-4fa1-e6b3-4d02f007a7bf",
        "colab": {
          "base_uri": "https://localhost:8080/",
          "height": 68
        }
      },
      "cell_type": "code",
      "source": [
        "y_prediction = model.predict_classes(X_test)\n",
        "print (\"\\n\\nAcurácia\", np.sum(y_prediction == y_test) / float(len(y_test)))"
      ],
      "execution_count": 24,
      "outputs": [
        {
          "output_type": "stream",
          "text": [
            "\n",
            "\n",
            "Acurácia 0.776536312849162\n"
          ],
          "name": "stdout"
        }
      ]
    }
  ]
}