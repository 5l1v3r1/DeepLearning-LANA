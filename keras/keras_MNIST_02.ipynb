{
  "nbformat": 4,
  "nbformat_minor": 0,
  "metadata": {
    "colab": {
      "name": "keras-MNIST-02.ipynb",
      "version": "0.3.2",
      "provenance": [],
      "collapsed_sections": [],
      "include_colab_link": true
    },
    "kernelspec": {
      "display_name": "Python 3",
      "language": "python",
      "name": "python3"
    }
  },
  "cells": [
    {
      "cell_type": "markdown",
      "metadata": {
        "id": "view-in-github",
        "colab_type": "text"
      },
      "source": [
        "<a href=\"https://colab.research.google.com/github/vladimiralencar/DeepLearning_LANA/blob/master/keras/keras_MNIST_02.ipynb\" target=\"_parent\"><img src=\"https://colab.research.google.com/assets/colab-badge.svg\" alt=\"Open In Colab\"/></a>"
      ]
    },
    {
      "metadata": {
        "id": "pzYCU0Fh43EC",
        "colab_type": "text"
      },
      "cell_type": "markdown",
      "source": [
        "# Construindo uma Rede Neural - MNIST"
      ]
    },
    {
      "metadata": {
        "id": "QQyaXofv43EE",
        "colab_type": "text"
      },
      "cell_type": "markdown",
      "source": [
        "http://yann.lecun.com/exdb/mnist/"
      ]
    },
    {
      "metadata": {
        "id": "3FYP8IRO43EE",
        "colab_type": "code",
        "colab": {}
      },
      "cell_type": "code",
      "source": [
        "import numpy as np\n",
        "import pandas as pd\n",
        "from sklearn.preprocessing import StandardScaler\n",
        "from time import time"
      ],
      "execution_count": 0,
      "outputs": []
    },
    {
      "metadata": {
        "id": "Lt8KdcIc43EK",
        "colab_type": "code",
        "colab": {}
      },
      "cell_type": "code",
      "source": [
        "np.random.seed(1337)"
      ],
      "execution_count": 0,
      "outputs": []
    },
    {
      "metadata": {
        "id": "T3x8LgFn43EN",
        "colab_type": "code",
        "colab": {}
      },
      "cell_type": "code",
      "source": [
        "# /media/datasets/DeepLearningI/Cap02/mnist.csv\n",
        "df = pd.read_csv('mnist.csv')"
      ],
      "execution_count": 0,
      "outputs": []
    },
    {
      "metadata": {
        "id": "ERV_ToW743ER",
        "colab_type": "code",
        "colab": {},
        "outputId": "193c974c-5468-4068-b6de-79cd5237c25b"
      },
      "cell_type": "code",
      "source": [
        "df.head()"
      ],
      "execution_count": 0,
      "outputs": [
        {
          "output_type": "execute_result",
          "data": {
            "text/html": [
              "<div>\n",
              "<style scoped>\n",
              "    .dataframe tbody tr th:only-of-type {\n",
              "        vertical-align: middle;\n",
              "    }\n",
              "\n",
              "    .dataframe tbody tr th {\n",
              "        vertical-align: top;\n",
              "    }\n",
              "\n",
              "    .dataframe thead th {\n",
              "        text-align: right;\n",
              "    }\n",
              "</style>\n",
              "<table border=\"1\" class=\"dataframe\">\n",
              "  <thead>\n",
              "    <tr style=\"text-align: right;\">\n",
              "      <th></th>\n",
              "      <th>label</th>\n",
              "      <th>pixel0</th>\n",
              "      <th>pixel1</th>\n",
              "      <th>pixel2</th>\n",
              "      <th>pixel3</th>\n",
              "      <th>pixel4</th>\n",
              "      <th>pixel5</th>\n",
              "      <th>pixel6</th>\n",
              "      <th>pixel7</th>\n",
              "      <th>pixel8</th>\n",
              "      <th>...</th>\n",
              "      <th>pixel774</th>\n",
              "      <th>pixel775</th>\n",
              "      <th>pixel776</th>\n",
              "      <th>pixel777</th>\n",
              "      <th>pixel778</th>\n",
              "      <th>pixel779</th>\n",
              "      <th>pixel780</th>\n",
              "      <th>pixel781</th>\n",
              "      <th>pixel782</th>\n",
              "      <th>pixel783</th>\n",
              "    </tr>\n",
              "  </thead>\n",
              "  <tbody>\n",
              "    <tr>\n",
              "      <th>0</th>\n",
              "      <td>1</td>\n",
              "      <td>0</td>\n",
              "      <td>0</td>\n",
              "      <td>0</td>\n",
              "      <td>0</td>\n",
              "      <td>0</td>\n",
              "      <td>0</td>\n",
              "      <td>0</td>\n",
              "      <td>0</td>\n",
              "      <td>0</td>\n",
              "      <td>...</td>\n",
              "      <td>0</td>\n",
              "      <td>0</td>\n",
              "      <td>0</td>\n",
              "      <td>0</td>\n",
              "      <td>0</td>\n",
              "      <td>0</td>\n",
              "      <td>0</td>\n",
              "      <td>0</td>\n",
              "      <td>0</td>\n",
              "      <td>0</td>\n",
              "    </tr>\n",
              "    <tr>\n",
              "      <th>1</th>\n",
              "      <td>0</td>\n",
              "      <td>0</td>\n",
              "      <td>0</td>\n",
              "      <td>0</td>\n",
              "      <td>0</td>\n",
              "      <td>0</td>\n",
              "      <td>0</td>\n",
              "      <td>0</td>\n",
              "      <td>0</td>\n",
              "      <td>0</td>\n",
              "      <td>...</td>\n",
              "      <td>0</td>\n",
              "      <td>0</td>\n",
              "      <td>0</td>\n",
              "      <td>0</td>\n",
              "      <td>0</td>\n",
              "      <td>0</td>\n",
              "      <td>0</td>\n",
              "      <td>0</td>\n",
              "      <td>0</td>\n",
              "      <td>0</td>\n",
              "    </tr>\n",
              "    <tr>\n",
              "      <th>2</th>\n",
              "      <td>1</td>\n",
              "      <td>0</td>\n",
              "      <td>0</td>\n",
              "      <td>0</td>\n",
              "      <td>0</td>\n",
              "      <td>0</td>\n",
              "      <td>0</td>\n",
              "      <td>0</td>\n",
              "      <td>0</td>\n",
              "      <td>0</td>\n",
              "      <td>...</td>\n",
              "      <td>0</td>\n",
              "      <td>0</td>\n",
              "      <td>0</td>\n",
              "      <td>0</td>\n",
              "      <td>0</td>\n",
              "      <td>0</td>\n",
              "      <td>0</td>\n",
              "      <td>0</td>\n",
              "      <td>0</td>\n",
              "      <td>0</td>\n",
              "    </tr>\n",
              "    <tr>\n",
              "      <th>3</th>\n",
              "      <td>4</td>\n",
              "      <td>0</td>\n",
              "      <td>0</td>\n",
              "      <td>0</td>\n",
              "      <td>0</td>\n",
              "      <td>0</td>\n",
              "      <td>0</td>\n",
              "      <td>0</td>\n",
              "      <td>0</td>\n",
              "      <td>0</td>\n",
              "      <td>...</td>\n",
              "      <td>0</td>\n",
              "      <td>0</td>\n",
              "      <td>0</td>\n",
              "      <td>0</td>\n",
              "      <td>0</td>\n",
              "      <td>0</td>\n",
              "      <td>0</td>\n",
              "      <td>0</td>\n",
              "      <td>0</td>\n",
              "      <td>0</td>\n",
              "    </tr>\n",
              "    <tr>\n",
              "      <th>4</th>\n",
              "      <td>0</td>\n",
              "      <td>0</td>\n",
              "      <td>0</td>\n",
              "      <td>0</td>\n",
              "      <td>0</td>\n",
              "      <td>0</td>\n",
              "      <td>0</td>\n",
              "      <td>0</td>\n",
              "      <td>0</td>\n",
              "      <td>0</td>\n",
              "      <td>...</td>\n",
              "      <td>0</td>\n",
              "      <td>0</td>\n",
              "      <td>0</td>\n",
              "      <td>0</td>\n",
              "      <td>0</td>\n",
              "      <td>0</td>\n",
              "      <td>0</td>\n",
              "      <td>0</td>\n",
              "      <td>0</td>\n",
              "      <td>0</td>\n",
              "    </tr>\n",
              "  </tbody>\n",
              "</table>\n",
              "<p>5 rows × 785 columns</p>\n",
              "</div>"
            ],
            "text/plain": [
              "   label  pixel0  pixel1  pixel2  pixel3  pixel4  pixel5  pixel6  pixel7  \\\n",
              "0      1       0       0       0       0       0       0       0       0   \n",
              "1      0       0       0       0       0       0       0       0       0   \n",
              "2      1       0       0       0       0       0       0       0       0   \n",
              "3      4       0       0       0       0       0       0       0       0   \n",
              "4      0       0       0       0       0       0       0       0       0   \n",
              "\n",
              "   pixel8    ...     pixel774  pixel775  pixel776  pixel777  pixel778  \\\n",
              "0       0    ...            0         0         0         0         0   \n",
              "1       0    ...            0         0         0         0         0   \n",
              "2       0    ...            0         0         0         0         0   \n",
              "3       0    ...            0         0         0         0         0   \n",
              "4       0    ...            0         0         0         0         0   \n",
              "\n",
              "   pixel779  pixel780  pixel781  pixel782  pixel783  \n",
              "0         0         0         0         0         0  \n",
              "1         0         0         0         0         0  \n",
              "2         0         0         0         0         0  \n",
              "3         0         0         0         0         0  \n",
              "4         0         0         0         0         0  \n",
              "\n",
              "[5 rows x 785 columns]"
            ]
          },
          "metadata": {
            "tags": []
          },
          "execution_count": 4
        }
      ]
    },
    {
      "metadata": {
        "id": "8VoHDRe643EY",
        "colab_type": "code",
        "colab": {},
        "outputId": "818a4c4e-4a0d-4889-d327-f01dc66e163e"
      },
      "cell_type": "code",
      "source": [
        "print(list(df.pixel40.value_counts()))"
      ],
      "execution_count": 0,
      "outputs": [
        {
          "output_type": "stream",
          "text": [
            "[41937, 3, 3, 2, 2, 2, 2, 2, 2, 2, 1, 1, 1, 1, 1, 1, 1, 1, 1, 1, 1, 1, 1, 1, 1, 1, 1, 1, 1, 1, 1, 1, 1, 1, 1, 1, 1, 1, 1, 1, 1, 1, 1, 1, 1, 1, 1, 1, 1, 1, 1, 1, 1]\n"
          ],
          "name": "stdout"
        }
      ]
    },
    {
      "metadata": {
        "id": "toV98Q-d43Ec",
        "colab_type": "code",
        "colab": {}
      },
      "cell_type": "code",
      "source": [
        "df_train = df.iloc[:33600, :]\n",
        "\n",
        "X_train = df_train.iloc[:, 1:].values / 255.\n",
        "y_train = df_train['label'].values\n",
        "y_train_onehot = pd.get_dummies(df_train['label']).values"
      ],
      "execution_count": 0,
      "outputs": []
    },
    {
      "metadata": {
        "id": "ozx3vhLk43Ef",
        "colab_type": "code",
        "colab": {}
      },
      "cell_type": "code",
      "source": [
        "df_test = df.iloc[33600:, :]\n",
        "\n",
        "X_test = df_test.iloc[:, 1:].values / 255.\n",
        "y_test = df_test['label'].values"
      ],
      "execution_count": 0,
      "outputs": []
    },
    {
      "metadata": {
        "id": "8CQT92VB43Ej",
        "colab_type": "code",
        "colab": {},
        "outputId": "b8e882fb-3db3-4f66-dadd-294ddc8efdae"
      },
      "cell_type": "code",
      "source": [
        "X_test[:1]"
      ],
      "execution_count": 0,
      "outputs": [
        {
          "output_type": "execute_result",
          "data": {
            "text/plain": [
              "array([[0.        , 0.        , 0.        , 0.        , 0.        ,\n",
              "        0.        , 0.        , 0.        , 0.        , 0.        ,\n",
              "        0.        , 0.        , 0.        , 0.        , 0.        ,\n",
              "        0.        , 0.        , 0.        , 0.        , 0.        ,\n",
              "        0.        , 0.        , 0.        , 0.        , 0.        ,\n",
              "        0.        , 0.        , 0.        , 0.        , 0.        ,\n",
              "        0.        , 0.        , 0.        , 0.        , 0.        ,\n",
              "        0.        , 0.        , 0.        , 0.        , 0.        ,\n",
              "        0.        , 0.        , 0.        , 0.        , 0.        ,\n",
              "        0.        , 0.        , 0.        , 0.        , 0.        ,\n",
              "        0.        , 0.        , 0.        , 0.        , 0.        ,\n",
              "        0.        , 0.        , 0.        , 0.        , 0.        ,\n",
              "        0.        , 0.        , 0.        , 0.        , 0.        ,\n",
              "        0.        , 0.        , 0.        , 0.        , 0.        ,\n",
              "        0.        , 0.        , 0.        , 0.        , 0.        ,\n",
              "        0.        , 0.        , 0.        , 0.        , 0.        ,\n",
              "        0.        , 0.        , 0.        , 0.        , 0.        ,\n",
              "        0.        , 0.        , 0.        , 0.        , 0.        ,\n",
              "        0.        , 0.        , 0.        , 0.        , 0.        ,\n",
              "        0.        , 0.        , 0.        , 0.        , 0.        ,\n",
              "        0.        , 0.        , 0.        , 0.        , 0.        ,\n",
              "        0.        , 0.        , 0.        , 0.        , 0.        ,\n",
              "        0.        , 0.        , 0.        , 0.        , 0.        ,\n",
              "        0.        , 0.        , 0.        , 0.        , 0.        ,\n",
              "        0.        , 0.04313725, 0.09411765, 0.17647059, 0.39607843,\n",
              "        0.        , 0.04313725, 0.58431373, 0.99215686, 0.99215686,\n",
              "        0.99215686, 0.99215686, 0.70980392, 0.03529412, 0.        ,\n",
              "        0.        , 0.        , 0.        , 0.        , 0.        ,\n",
              "        0.        , 0.        , 0.        , 0.        , 0.        ,\n",
              "        0.        , 0.        , 0.        , 0.14901961, 0.54901961,\n",
              "        0.99215686, 0.98823529, 0.63529412, 0.23529412, 0.71372549,\n",
              "        0.99215686, 0.90588235, 0.98823529, 0.98823529, 0.98823529,\n",
              "        0.99215686, 0.67843137, 0.05098039, 0.        , 0.        ,\n",
              "        0.        , 0.        , 0.        , 0.        , 0.        ,\n",
              "        0.        , 0.        , 0.        , 0.        , 0.        ,\n",
              "        0.        , 0.81176471, 0.98823529, 0.99215686, 0.98823529,\n",
              "        0.27058824, 0.09803922, 0.14509804, 0.27058824, 0.14509804,\n",
              "        0.27058824, 0.43529412, 0.96470588, 0.99215686, 0.98823529,\n",
              "        0.59607843, 0.        , 0.        , 0.        , 0.        ,\n",
              "        0.        , 0.        , 0.        , 0.        , 0.        ,\n",
              "        0.        , 0.        , 0.        , 0.        , 0.60784314,\n",
              "        0.98823529, 0.96078431, 0.54509804, 0.05098039, 0.        ,\n",
              "        0.        , 0.        , 0.        , 0.        , 0.        ,\n",
              "        0.16470588, 0.82745098, 0.98823529, 0.81568627, 0.06666667,\n",
              "        0.        , 0.        , 0.        , 0.        , 0.        ,\n",
              "        0.        , 0.        , 0.        , 0.        , 0.        ,\n",
              "        0.        , 0.        , 0.81176471, 0.98823529, 0.90196078,\n",
              "        0.        , 0.        , 0.        , 0.        , 0.        ,\n",
              "        0.        , 0.        , 0.        , 0.        , 0.54117647,\n",
              "        0.98823529, 0.98823529, 0.75294118, 0.04313725, 0.        ,\n",
              "        0.        , 0.        , 0.        , 0.        , 0.        ,\n",
              "        0.        , 0.        , 0.        , 0.        , 0.2745098 ,\n",
              "        0.99215686, 0.99215686, 0.86666667, 0.        , 0.        ,\n",
              "        0.        , 0.        , 0.        , 0.        , 0.        ,\n",
              "        0.        , 0.        , 0.04313725, 0.79607843, 0.99215686,\n",
              "        0.99215686, 0.09019608, 0.        , 0.        , 0.        ,\n",
              "        0.        , 0.        , 0.        , 0.        , 0.        ,\n",
              "        0.        , 0.        , 0.55686275, 0.98823529, 0.98823529,\n",
              "        0.45490196, 0.        , 0.        , 0.        , 0.        ,\n",
              "        0.        , 0.        , 0.        , 0.        , 0.        ,\n",
              "        0.        , 0.63137255, 0.98823529, 0.98823529, 0.08627451,\n",
              "        0.        , 0.        , 0.        , 0.        , 0.        ,\n",
              "        0.        , 0.        , 0.        , 0.        , 0.13333333,\n",
              "        0.91764706, 0.98823529, 0.98823529, 0.1254902 , 0.        ,\n",
              "        0.        , 0.        , 0.        , 0.        , 0.        ,\n",
              "        0.        , 0.        , 0.        , 0.        , 0.63137255,\n",
              "        0.98823529, 0.98823529, 0.08627451, 0.        , 0.        ,\n",
              "        0.        , 0.        , 0.        , 0.        , 0.        ,\n",
              "        0.        , 0.        , 0.18431373, 0.98823529, 0.98823529,\n",
              "        0.82352941, 0.        , 0.        , 0.        , 0.        ,\n",
              "        0.        , 0.        , 0.        , 0.        , 0.        ,\n",
              "        0.        , 0.03529412, 0.76078431, 0.98823529, 0.98823529,\n",
              "        0.45882353, 0.        , 0.        , 0.        , 0.        ,\n",
              "        0.        , 0.        , 0.        , 0.        , 0.        ,\n",
              "        0.18431373, 0.98823529, 0.98823529, 0.5372549 , 0.        ,\n",
              "        0.        , 0.        , 0.        , 0.        , 0.        ,\n",
              "        0.        , 0.        , 0.        , 0.        , 0.29803922,\n",
              "        0.98823529, 0.98823529, 0.98823529, 0.1254902 , 0.        ,\n",
              "        0.        , 0.        , 0.        , 0.        , 0.        ,\n",
              "        0.        , 0.        , 0.        , 0.63529412, 0.99215686,\n",
              "        0.99215686, 0.5372549 , 0.        , 0.        , 0.        ,\n",
              "        0.        , 0.        , 0.        , 0.        , 0.        ,\n",
              "        0.        , 0.        , 0.54509804, 0.99215686, 0.99215686,\n",
              "        0.96078431, 0.08235294, 0.        , 0.        , 0.        ,\n",
              "        0.        , 0.        , 0.        , 0.        , 0.        ,\n",
              "        0.14117647, 0.85882353, 0.98823529, 0.98823529, 0.25098039,\n",
              "        0.        , 0.        , 0.        , 0.        , 0.        ,\n",
              "        0.        , 0.        , 0.        , 0.        , 0.        ,\n",
              "        0.54117647, 0.98823529, 0.98823529, 0.62745098, 0.        ,\n",
              "        0.        , 0.        , 0.        , 0.        , 0.        ,\n",
              "        0.        , 0.        , 0.        , 0.54117647, 0.98823529,\n",
              "        0.98823529, 0.98823529, 0.08627451, 0.        , 0.        ,\n",
              "        0.        , 0.        , 0.        , 0.        , 0.        ,\n",
              "        0.        , 0.        , 0.        , 0.54117647, 0.98823529,\n",
              "        0.98823529, 0.62745098, 0.        , 0.        , 0.        ,\n",
              "        0.        , 0.        , 0.        , 0.        , 0.        ,\n",
              "        0.        , 0.54117647, 0.98823529, 0.98823529, 0.98823529,\n",
              "        0.08627451, 0.        , 0.        , 0.        , 0.        ,\n",
              "        0.        , 0.        , 0.        , 0.        , 0.        ,\n",
              "        0.        , 0.70588235, 0.98823529, 0.98823529, 0.46666667,\n",
              "        0.        , 0.        , 0.        , 0.        , 0.        ,\n",
              "        0.        , 0.        , 0.        , 0.        , 0.54117647,\n",
              "        0.98823529, 0.98823529, 0.98823529, 0.08627451, 0.        ,\n",
              "        0.        , 0.        , 0.        , 0.        , 0.        ,\n",
              "        0.        , 0.        , 0.        , 0.41568627, 0.99215686,\n",
              "        0.98823529, 0.98823529, 0.17647059, 0.        , 0.        ,\n",
              "        0.        , 0.        , 0.        , 0.        , 0.        ,\n",
              "        0.        , 0.        , 0.29019608, 0.96078431, 0.99215686,\n",
              "        0.99215686, 0.58039216, 0.        , 0.        , 0.        ,\n",
              "        0.        , 0.        , 0.        , 0.        , 0.19215686,\n",
              "        0.70588235, 0.99215686, 1.        , 0.97647059, 0.45098039,\n",
              "        0.        , 0.        , 0.        , 0.        , 0.        ,\n",
              "        0.        , 0.        , 0.        , 0.        , 0.        ,\n",
              "        0.        , 0.54901961, 0.98823529, 0.98823529, 0.98823529,\n",
              "        0.63529412, 0.54901961, 0.18431373, 0.18431373, 0.18431373,\n",
              "        0.63529412, 0.63137255, 0.89411765, 0.98823529, 0.98823529,\n",
              "        0.99215686, 0.7254902 , 0.        , 0.        , 0.        ,\n",
              "        0.        , 0.        , 0.        , 0.        , 0.        ,\n",
              "        0.        , 0.        , 0.        , 0.        , 0.13333333,\n",
              "        0.79215686, 0.98823529, 0.98823529, 0.99215686, 0.98823529,\n",
              "        0.98823529, 0.98823529, 0.98823529, 0.99215686, 0.98823529,\n",
              "        0.98823529, 0.98823529, 0.98823529, 0.47843137, 0.09803922,\n",
              "        0.        , 0.        , 0.        , 0.        , 0.        ,\n",
              "        0.        , 0.        , 0.        , 0.        , 0.        ,\n",
              "        0.        , 0.        , 0.        , 0.05098039, 0.67843137,\n",
              "        0.98823529, 0.99215686, 0.98823529, 0.98823529, 0.98823529,\n",
              "        0.98823529, 0.99215686, 0.98823529, 0.89019608, 0.46666667,\n",
              "        0.17647059, 0.        , 0.        , 0.        , 0.        ,\n",
              "        0.        , 0.        , 0.        , 0.        , 0.        ,\n",
              "        0.        , 0.        , 0.        , 0.        , 0.        ,\n",
              "        0.        , 0.        , 0.03529412, 0.29411765, 0.78823529,\n",
              "        0.98823529, 0.98823529, 0.98823529, 0.98823529, 0.5372549 ,\n",
              "        0.25098039, 0.0627451 , 0.        , 0.        , 0.        ,\n",
              "        0.        , 0.        , 0.        , 0.        , 0.        ,\n",
              "        0.        , 0.        , 0.        , 0.        , 0.        ,\n",
              "        0.        , 0.        , 0.        , 0.        , 0.        ,\n",
              "        0.        , 0.        , 0.        , 0.        , 0.        ,\n",
              "        0.        , 0.        , 0.        , 0.        , 0.        ,\n",
              "        0.        , 0.        , 0.        , 0.        , 0.        ,\n",
              "        0.        , 0.        , 0.        , 0.        , 0.        ,\n",
              "        0.        , 0.        , 0.        , 0.        , 0.        ,\n",
              "        0.        , 0.        , 0.        , 0.        , 0.        ,\n",
              "        0.        , 0.        , 0.        , 0.        , 0.        ,\n",
              "        0.        , 0.        , 0.        , 0.        , 0.        ,\n",
              "        0.        , 0.        , 0.        , 0.        , 0.        ,\n",
              "        0.        , 0.        , 0.        , 0.        , 0.        ,\n",
              "        0.        , 0.        , 0.        , 0.        , 0.        ,\n",
              "        0.        , 0.        , 0.        , 0.        , 0.        ,\n",
              "        0.        , 0.        , 0.        , 0.        , 0.        ,\n",
              "        0.        , 0.        , 0.        , 0.        , 0.        ,\n",
              "        0.        , 0.        , 0.        , 0.        , 0.        ,\n",
              "        0.        , 0.        , 0.        , 0.        , 0.        ,\n",
              "        0.        , 0.        , 0.        , 0.        , 0.        ,\n",
              "        0.        , 0.        , 0.        , 0.        , 0.        ,\n",
              "        0.        , 0.        , 0.        , 0.        , 0.        ,\n",
              "        0.        , 0.        , 0.        , 0.        , 0.        ,\n",
              "        0.        , 0.        , 0.        , 0.        ]])"
            ]
          },
          "metadata": {
            "tags": []
          },
          "execution_count": 7
        }
      ]
    },
    {
      "metadata": {
        "id": "9vnb0a5o43Eq",
        "colab_type": "code",
        "colab": {},
        "outputId": "9771c607-c29d-4210-ce60-44cdb0a868b4"
      },
      "cell_type": "code",
      "source": [
        "y_test[:10]"
      ],
      "execution_count": 0,
      "outputs": [
        {
          "output_type": "execute_result",
          "data": {
            "text/plain": [
              "array([0, 7, 7, 2, 2, 6, 5, 7, 8, 5])"
            ]
          },
          "metadata": {
            "tags": []
          },
          "execution_count": 9
        }
      ]
    },
    {
      "metadata": {
        "id": "VLi1PrC843Ev",
        "colab_type": "code",
        "colab": {},
        "outputId": "5136c892-407f-4780-d481-20d401bbab1d"
      },
      "cell_type": "code",
      "source": [
        "y_train_onehot[:2]"
      ],
      "execution_count": 0,
      "outputs": [
        {
          "output_type": "execute_result",
          "data": {
            "text/plain": [
              "array([[0, 1, 0, 0, 0, 0, 0, 0, 0, 0],\n",
              "       [1, 0, 0, 0, 0, 0, 0, 0, 0, 0]], dtype=uint8)"
            ]
          },
          "metadata": {
            "tags": []
          },
          "execution_count": 10
        }
      ]
    },
    {
      "metadata": {
        "collapsed": true,
        "id": "LBGK8A7N43E3",
        "colab_type": "text"
      },
      "cell_type": "markdown",
      "source": [
        "## Criando um Modelo de Árvore de Decisão ( Benchmark)"
      ]
    },
    {
      "metadata": {
        "id": "tBX1504g43E3",
        "colab_type": "code",
        "colab": {},
        "outputId": "c6b147fc-4742-4ac8-d9ad-1302f004e9fe"
      },
      "cell_type": "code",
      "source": [
        "from sklearn.ensemble import RandomForestClassifier\n",
        "\n",
        "model = RandomForestClassifier(random_state=0, verbose=3)\n",
        "model = model.fit(X_train, df_train['label'].values)\n",
        "\n",
        "y_prediction = model.predict(X_test)\n",
        "print (\"\\nAcurácia\", np.sum(y_prediction == df_test['label'].values) / float(len(y_test)))"
      ],
      "execution_count": 0,
      "outputs": [
        {
          "output_type": "stream",
          "text": [
            "building tree 1 of 10\n"
          ],
          "name": "stdout"
        },
        {
          "output_type": "stream",
          "text": [
            "[Parallel(n_jobs=1)]: Done   1 out of   1 | elapsed:    0.2s remaining:    0.0s\n"
          ],
          "name": "stderr"
        },
        {
          "output_type": "stream",
          "text": [
            "building tree 2 of 10\n"
          ],
          "name": "stdout"
        },
        {
          "output_type": "stream",
          "text": [
            "[Parallel(n_jobs=1)]: Done   2 out of   2 | elapsed:    0.5s remaining:    0.0s\n"
          ],
          "name": "stderr"
        },
        {
          "output_type": "stream",
          "text": [
            "building tree 3 of 10\n",
            "building tree 4 of 10\n",
            "building tree 5 of 10\n",
            "building tree 6 of 10\n",
            "building tree 7 of 10\n",
            "building tree 8 of 10\n",
            "building tree 9 of 10\n",
            "building tree 10 of 10\n",
            "\n",
            "Acurácia 0.9378571428571428\n"
          ],
          "name": "stdout"
        },
        {
          "output_type": "stream",
          "text": [
            "[Parallel(n_jobs=1)]: Done  10 out of  10 | elapsed:    2.5s finished\n",
            "[Parallel(n_jobs=1)]: Done   1 out of   1 | elapsed:    0.0s remaining:    0.0s\n",
            "[Parallel(n_jobs=1)]: Done   2 out of   2 | elapsed:    0.0s remaining:    0.0s\n",
            "[Parallel(n_jobs=1)]: Done  10 out of  10 | elapsed:    0.0s finished\n"
          ],
          "name": "stderr"
        }
      ]
    },
    {
      "metadata": {
        "collapsed": true,
        "id": "g7YX1PSD43E8",
        "colab_type": "text"
      },
      "cell_type": "markdown",
      "source": [
        "## RNA com 1 Camada"
      ]
    },
    {
      "metadata": {
        "id": "YWP6UXIe43E9",
        "colab_type": "code",
        "colab": {},
        "outputId": "30216059-0157-4188-a6f9-9415c0e38924"
      },
      "cell_type": "code",
      "source": [
        "from keras.models import Sequential\n",
        "from keras.layers import Dense, Activation\n",
        "\n",
        "start = time()\n",
        "\n",
        "model = Sequential()\n",
        "\n",
        "model.add(Dense(input_dim=784, units=10))\n",
        "\n",
        "model.add(Activation(\"softmax\"))\n",
        "\n",
        "model.compile(loss='categorical_crossentropy', optimizer='sgd', metrics=['accuracy'])\n",
        "\n",
        "model.fit(X_train, y_train_onehot)\n",
        "\n",
        "print ('\\nTempo gasto: %s segundos' % str(time() - start))"
      ],
      "execution_count": 0,
      "outputs": [
        {
          "output_type": "stream",
          "text": [
            "Epoch 1/1\n",
            "33600/33600 [==============================] - 4s 121us/step - loss: 0.9550 - acc: 0.7825\n",
            "\n",
            "Tempo gasto: 4.4676430225372314 segundos\n"
          ],
          "name": "stdout"
        }
      ]
    },
    {
      "metadata": {
        "id": "GTnOl3Bh43FC",
        "colab_type": "code",
        "colab": {},
        "outputId": "f2b1def2-f6bf-41e6-af53-bd7a8798d52d"
      },
      "cell_type": "code",
      "source": [
        "y_prediction = model.predict_classes(X_test)\n",
        "print (\"\\n\\nAcurácia\", np.sum(y_prediction == y_test) / float(len(y_test)))"
      ],
      "execution_count": 0,
      "outputs": [
        {
          "output_type": "stream",
          "text": [
            "\n",
            "\n",
            "Acurácia 0.8598809523809524\n"
          ],
          "name": "stdout"
        }
      ]
    },
    {
      "metadata": {
        "id": "os7Oy_Jp43FI",
        "colab_type": "text"
      },
      "cell_type": "markdown",
      "source": [
        "## RNA com 2 Camadas"
      ]
    },
    {
      "metadata": {
        "id": "JWlCuc9L43FK",
        "colab_type": "code",
        "colab": {},
        "outputId": "21234ef7-7fab-4865-890d-843b9d7b6867"
      },
      "cell_type": "code",
      "source": [
        "start = time()\n",
        "\n",
        "model = Sequential()\n",
        "\n",
        "model.add(Dense(input_dim=784, units=100))\n",
        "\n",
        "model.add(Dense(units=10))\n",
        "\n",
        "model.add(Activation(\"softmax\"))\n",
        "\n",
        "model.compile(loss='categorical_crossentropy', optimizer='sgd', metrics=['accuracy'])\n",
        "\n",
        "model.fit(X_train, y_train_onehot)\n",
        "\n",
        "print ('\\nTempo gasto: %s segundos' % str(time() - start))"
      ],
      "execution_count": 0,
      "outputs": [
        {
          "output_type": "stream",
          "text": [
            "Epoch 1/1\n",
            "33600/33600 [==============================] - 5s 158us/step - loss: 0.7070 - acc: 0.8183\n",
            "\n",
            "Tempo gasto: 5.784822225570679 segundos\n"
          ],
          "name": "stdout"
        }
      ]
    },
    {
      "metadata": {
        "id": "8L0UgnTu43FQ",
        "colab_type": "code",
        "colab": {},
        "outputId": "129ae1f5-0777-44f0-c101-f3110724fb73"
      },
      "cell_type": "code",
      "source": [
        "y_prediction = model.predict_classes(X_test)\n",
        "print (\"\\n\\nAcurácia\", np.sum(y_prediction == y_test) / float(len(y_test)))"
      ],
      "execution_count": 0,
      "outputs": [
        {
          "output_type": "stream",
          "text": [
            "\n",
            "\n",
            "Acurácia 0.8864285714285715\n"
          ],
          "name": "stdout"
        }
      ]
    },
    {
      "metadata": {
        "id": "dMvRxWlt43FU",
        "colab_type": "text"
      },
      "cell_type": "markdown",
      "source": [
        "## RNA com 3 Camadas"
      ]
    },
    {
      "metadata": {
        "id": "MUVMjqyt43FW",
        "colab_type": "code",
        "colab": {},
        "outputId": "706a93b9-5ceb-49df-aeb0-5726ee7e89e5"
      },
      "cell_type": "code",
      "source": [
        "start = time()\n",
        "\n",
        "model = Sequential()\n",
        "\n",
        "model.add(Dense(input_dim=784, units=100))\n",
        "\n",
        "model.add(Dense(units=100))\n",
        "\n",
        "model.add(Dense(units=10))\n",
        "\n",
        "model.add(Activation(\"softmax\"))\n",
        "\n",
        "model.compile(loss='categorical_crossentropy', optimizer='sgd', metrics=['accuracy'])\n",
        "\n",
        "model.fit(X_train, y_train_onehot)\n",
        "\n",
        "print ('\\nTempo gasto: %s segundos' % str(time() - start))"
      ],
      "execution_count": 0,
      "outputs": [
        {
          "output_type": "stream",
          "text": [
            "Epoch 1/1\n",
            "33600/33600 [==============================] - 5s 141us/step - loss: 0.6150 - acc: 0.8357\n",
            "\n",
            "Tempo gasto: 5.110149145126343 segundos\n"
          ],
          "name": "stdout"
        }
      ]
    },
    {
      "metadata": {
        "id": "BgJhe9Vl43Fb",
        "colab_type": "code",
        "colab": {},
        "outputId": "1683a468-1cff-40d2-e580-f43136ea1f99"
      },
      "cell_type": "code",
      "source": [
        "y_prediction = model.predict_classes(X_test)\n",
        "print (\"\\n\\nAcurácia\", np.sum(y_prediction == y_test) / float(len(y_test)))"
      ],
      "execution_count": 0,
      "outputs": [
        {
          "output_type": "stream",
          "text": [
            "\n",
            "\n",
            "Acurácia 0.8961904761904762\n"
          ],
          "name": "stdout"
        }
      ]
    },
    {
      "metadata": {
        "id": "nkSMWYb_43Fe",
        "colab_type": "text"
      },
      "cell_type": "markdown",
      "source": [
        "## RNA com 4 Camadas"
      ]
    },
    {
      "metadata": {
        "id": "wu3p1ioC43Ff",
        "colab_type": "code",
        "colab": {},
        "outputId": "9007dde7-beab-480d-b8bb-daec88ba9bb3"
      },
      "cell_type": "code",
      "source": [
        "start = time()\n",
        "\n",
        "model = Sequential()\n",
        "\n",
        "model.add(Dense(input_dim=784, units=100))\n",
        "\n",
        "model.add(Dense(units=200))\n",
        "\n",
        "model.add(Dense(units=200))\n",
        "\n",
        "model.add(Dense(units=10))\n",
        "\n",
        "model.add(Activation(\"softmax\"))\n",
        "\n",
        "model.compile(loss='categorical_crossentropy', optimizer='sgd', metrics=['accuracy'])\n",
        "\n",
        "model.fit(X_train, y_train_onehot, epochs=30)\n",
        "\n",
        "print ('\\nTempo gasto: %s segundos' % str(time() - start))"
      ],
      "execution_count": 0,
      "outputs": [
        {
          "output_type": "stream",
          "text": [
            "Epoch 1/30\n",
            "33600/33600 [==============================] - 6s 174us/step - loss: 0.5663 - acc: 0.8449\n",
            "Epoch 2/30\n",
            "33600/33600 [==============================] - ETA: 0s - loss: 0.3389 - acc: 0.901 - 5s 145us/step - loss: 0.3383 - acc: 0.9017\n",
            "Epoch 3/30\n",
            "33600/33600 [==============================] - 5s 135us/step - loss: 0.3114 - acc: 0.9113\n",
            "Epoch 4/30\n",
            "33600/33600 [==============================] - 5s 136us/step - loss: 0.2972 - acc: 0.9146\n",
            "Epoch 5/30\n",
            "33600/33600 [==============================] - 5s 142us/step - loss: 0.2889 - acc: 0.9185\n",
            "Epoch 6/30\n",
            "33600/33600 [==============================] - 4s 129us/step - loss: 0.2819 - acc: 0.9191\n",
            "Epoch 7/30\n",
            "33600/33600 [==============================] - 5s 149us/step - loss: 0.2763 - acc: 0.9207\n",
            "Epoch 8/30\n",
            "33600/33600 [==============================] - 7s 198us/step - loss: 0.2724 - acc: 0.9229\n",
            "Epoch 9/30\n",
            "33600/33600 [==============================] - 5s 135us/step - loss: 0.2688 - acc: 0.9233\n",
            "Epoch 10/30\n",
            "33600/33600 [==============================] - 5s 146us/step - loss: 0.2668 - acc: 0.9234\n",
            "Epoch 11/30\n",
            "33600/33600 [==============================] - 5s 163us/step - loss: 0.2630 - acc: 0.9249\n",
            "Epoch 12/30\n",
            "33600/33600 [==============================] - 5s 144us/step - loss: 0.2614 - acc: 0.9256\n",
            "Epoch 13/30\n",
            "33600/33600 [==============================] - 5s 147us/step - loss: 0.2589 - acc: 0.9257\n",
            "Epoch 14/30\n",
            "33600/33600 [==============================] - 10s 300us/step - loss: 0.2562 - acc: 0.9263\n",
            "Epoch 15/30\n",
            "33600/33600 [==============================] - 5s 156us/step - loss: 0.2551 - acc: 0.9276\n",
            "Epoch 16/30\n",
            "33600/33600 [==============================] - 5s 161us/step - loss: 0.2533 - acc: 0.9279\n",
            "Epoch 17/30\n",
            "33600/33600 [==============================] - 6s 169us/step - loss: 0.2518 - acc: 0.9283\n",
            "Epoch 18/30\n",
            "33600/33600 [==============================] - 6s 169us/step - loss: 0.2506 - acc: 0.9290\n",
            "Epoch 19/30\n",
            "33600/33600 [==============================] - 6s 179us/step - loss: 0.2481 - acc: 0.9293\n",
            "Epoch 20/30\n",
            "33600/33600 [==============================] - 5s 157us/step - loss: 0.2483 - acc: 0.9290\n",
            "Epoch 21/30\n",
            "33600/33600 [==============================] - 5s 162us/step - loss: 0.2458 - acc: 0.9306\n",
            "Epoch 22/30\n",
            "33600/33600 [==============================] - 5s 148us/step - loss: 0.2450 - acc: 0.9302 0s - loss: 0.2451 - ac\n",
            "Epoch 23/30\n",
            "33600/33600 [==============================] - 6s 167us/step - loss: 0.2448 - acc: 0.9298\n",
            "Epoch 24/30\n",
            "33600/33600 [==============================] - 5s 147us/step - loss: 0.2424 - acc: 0.9304\n",
            "Epoch 25/30\n",
            "33600/33600 [==============================] - 5s 163us/step - loss: 0.2424 - acc: 0.9295\n",
            "Epoch 26/30\n",
            "33600/33600 [==============================] - 5s 149us/step - loss: 0.2410 - acc: 0.9313\n",
            "Epoch 27/30\n",
            "33600/33600 [==============================] - 5s 152us/step - loss: 0.2404 - acc: 0.9305\n",
            "Epoch 28/30\n",
            "33600/33600 [==============================] - 5s 151us/step - loss: 0.2391 - acc: 0.9318\n",
            "Epoch 29/30\n",
            "33600/33600 [==============================] - 5s 154us/step - loss: 0.2382 - acc: 0.9325\n",
            "Epoch 30/30\n",
            "33600/33600 [==============================] - 5s 159us/step - loss: 0.2374 - acc: 0.9318\n",
            "\n",
            "Tempo gasto: 161.52816796302795 segundos\n"
          ],
          "name": "stdout"
        }
      ]
    },
    {
      "metadata": {
        "id": "ZZLf8e1E43Fk",
        "colab_type": "code",
        "colab": {},
        "outputId": "455fb9f8-78db-4c3f-b277-a07713b6211d"
      },
      "cell_type": "code",
      "source": [
        "y_prediction = model.predict_classes(X_test)\n",
        "print (\"\\n\\nAcurácia\", np.sum(y_prediction == y_test) / float(len(y_test)))"
      ],
      "execution_count": 0,
      "outputs": [
        {
          "output_type": "stream",
          "text": [
            "\n",
            "\n",
            "Acurácia 0.9198809523809524\n"
          ],
          "name": "stdout"
        }
      ]
    },
    {
      "metadata": {
        "collapsed": true,
        "id": "wJKLRBVb43Fo",
        "colab_type": "text"
      },
      "cell_type": "markdown",
      "source": [
        "# Fim"
      ]
    }
  ]
}