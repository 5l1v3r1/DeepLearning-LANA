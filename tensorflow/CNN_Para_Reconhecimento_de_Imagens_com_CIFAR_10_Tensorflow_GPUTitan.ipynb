{
  "nbformat": 4,
  "nbformat_minor": 0,
  "metadata": {
    "colab": {
      "name": " CNN Para Reconhecimento de Imagens com CIFAR-10-Tensorflow-GPUTitan.ipynb",
      "version": "0.3.2",
      "provenance": [],
      "collapsed_sections": [
        "Ry31Ca46MWMN"
      ],
      "include_colab_link": true
    },
    "kernelspec": {
      "name": "python3",
      "display_name": "Python 3"
    },
    "accelerator": "GPU"
  },
  "cells": [
    {
      "cell_type": "markdown",
      "metadata": {
        "id": "view-in-github",
        "colab_type": "text"
      },
      "source": [
        "<a href=\"https://colab.research.google.com/github/vladimiralencar/DeepLearning-LANA/blob/master/tensorflow/CNN_Para_Reconhecimento_de_Imagens_com_CIFAR_10_Tensorflow_GPUTitan.ipynb\" target=\"_parent\"><img src=\"https://colab.research.google.com/assets/colab-badge.svg\" alt=\"Open In Colab\"/></a>"
      ]
    },
    {
      "metadata": {
        "id": "QhcYEOCoMV_9",
        "colab_type": "text"
      },
      "cell_type": "markdown",
      "source": [
        "# CNN Para Reconhecimento de Imagens com CIFAR-10"
      ]
    },
    {
      "metadata": {
        "id": "rFyONnR9MV_-",
        "colab_type": "text"
      },
      "cell_type": "markdown",
      "source": [
        "## Introdução\n",
        "\n",
        "Veremos agora como construir uma Rede Neural Convolucional para classificar imagens no conjunto de dados CIFAR-10. \n",
        "\n",
        "https://www.cs.toronto.edu/~kriz/cifar.html"
      ]
    },
    {
      "metadata": {
        "id": "QRZOrPJUMV__",
        "colab_type": "text"
      },
      "cell_type": "markdown",
      "source": [
        "## Flowchart"
      ]
    },
    {
      "metadata": {
        "id": "pMPgYWk3MWAA",
        "colab_type": "text"
      },
      "cell_type": "markdown",
      "source": [
        "O gráfico a seguir mostra aproximadamente como o fluxo de dados da Rede Neural Convolucional é implementado abaixo. Primeiro, a rede possui uma camada de pré-processamento que distorce as imagens de entrada de modo a inflar artificialmente o conjunto de treinamento. Em seguida, a rede possui duas camadas convolucionais, duas camadas totalmente conectadas e, finalmente, uma camada de classificação softmax. Os pesos e saídas das camadas convolucionais são mostrados com mais detalhes nos gráficos maiores abaixo."
      ]
    },
    {
      "metadata": {
        "id": "5muJuQ9TMiU8",
        "colab_type": "text"
      },
      "cell_type": "markdown",
      "source": [
        "![](https://raw.githubusercontent.com/vladimiralencar/DeepLearning-LANA/master/tensorflow/images/network_flowchart.png)"
      ]
    },
    {
      "metadata": {
        "id": "uZtaYQ4_MWAR",
        "colab_type": "code",
        "colab": {
          "base_uri": "https://localhost:8080/",
          "height": 306
        },
        "outputId": "b297e45d-0233-4b4f-c122-7748c4bf4420"
      },
      "cell_type": "code",
      "source": [
        "# Verifique se GPU tem memória disponível\n",
        "!nvidia-smi"
      ],
      "execution_count": 1,
      "outputs": [
        {
          "output_type": "stream",
          "text": [
            "Tue Mar 26 08:52:43 2019       \n",
            "+-----------------------------------------------------------------------------+\n",
            "| NVIDIA-SMI 418.43       Driver Version: 410.79       CUDA Version: 10.0     |\n",
            "|-------------------------------+----------------------+----------------------+\n",
            "| GPU  Name        Persistence-M| Bus-Id        Disp.A | Volatile Uncorr. ECC |\n",
            "| Fan  Temp  Perf  Pwr:Usage/Cap|         Memory-Usage | GPU-Util  Compute M. |\n",
            "|===============================+======================+======================|\n",
            "|   0  Tesla K80           Off  | 00000000:00:04.0 Off |                    0 |\n",
            "| N/A   57C    P8    32W / 149W |      0MiB / 11441MiB |      0%      Default |\n",
            "+-------------------------------+----------------------+----------------------+\n",
            "                                                                               \n",
            "+-----------------------------------------------------------------------------+\n",
            "| Processes:                                                       GPU Memory |\n",
            "|  GPU       PID   Type   Process name                             Usage      |\n",
            "|=============================================================================|\n",
            "|  No running processes found                                                 |\n",
            "+-----------------------------------------------------------------------------+\n"
          ],
          "name": "stdout"
        }
      ]
    },
    {
      "metadata": {
        "id": "tEONKmPvMWAZ",
        "colab_type": "text"
      },
      "cell_type": "markdown",
      "source": [
        "## Imports"
      ]
    },
    {
      "metadata": {
        "id": "6bHlKxaFMWAa",
        "colab_type": "code",
        "colab": {}
      },
      "cell_type": "code",
      "source": [
        "#!pip install prettytensor\n",
        "#!pip install tensorflow==1.0.1 # versão original do Titan = '1.10.1'\n",
        "#!pip install tensorflow==1.0.1"
      ],
      "execution_count": 0,
      "outputs": []
    },
    {
      "metadata": {
        "id": "vJPvyvA0MWAi",
        "colab_type": "code",
        "colab": {}
      },
      "cell_type": "code",
      "source": [
        "%matplotlib inline\n",
        "import matplotlib.pyplot as plt\n",
        "import tensorflow as tf\n",
        "import numpy as np\n",
        "from sklearn.metrics import confusion_matrix\n",
        "import time\n",
        "from datetime import timedelta\n",
        "import math\n",
        "import os\n",
        "\n",
        "# O PrettyTensor simplifica a construção de Redes Neurais com TensorFlow\n",
        "# https://github.com/google/prettytensor\n",
        "import prettytensor as pt"
      ],
      "execution_count": 0,
      "outputs": []
    },
    {
      "metadata": {
        "id": "bDA8QV2JMWA4",
        "colab_type": "text"
      },
      "cell_type": "markdown",
      "source": [
        "Esse modelo foi desenvolvido usando a versão Python 3.6 (Anaconda) e TensorFlow:"
      ]
    },
    {
      "metadata": {
        "scrolled": true,
        "id": "6YIm66-YMWA6",
        "colab_type": "code",
        "colab": {
          "base_uri": "https://localhost:8080/",
          "height": 34
        },
        "outputId": "cb255385-5d44-4449-8963-a1e7f588b620"
      },
      "cell_type": "code",
      "source": [
        "tf.__version__"
      ],
      "execution_count": 6,
      "outputs": [
        {
          "output_type": "execute_result",
          "data": {
            "text/plain": [
              "'1.0.1'"
            ]
          },
          "metadata": {
            "tags": []
          },
          "execution_count": 6
        }
      ]
    },
    {
      "metadata": {
        "id": "MrsZWPeDMWBG",
        "colab_type": "text"
      },
      "cell_type": "markdown",
      "source": [
        "Versão do PrettyTensor:"
      ]
    },
    {
      "metadata": {
        "id": "hFMZ8uMwMWBJ",
        "colab_type": "code",
        "colab": {
          "base_uri": "https://localhost:8080/",
          "height": 34
        },
        "outputId": "29dba4d2-ddb5-4d2b-cf58-ee7a2cdc7a33"
      },
      "cell_type": "code",
      "source": [
        "pt.__version__"
      ],
      "execution_count": 7,
      "outputs": [
        {
          "output_type": "execute_result",
          "data": {
            "text/plain": [
              "'0.7.4'"
            ]
          },
          "metadata": {
            "tags": []
          },
          "execution_count": 7
        }
      ]
    },
    {
      "metadata": {
        "id": "PX9RnhAQMWBe",
        "colab_type": "text"
      },
      "cell_type": "markdown",
      "source": [
        "## Carregando os Dados"
      ]
    },
    {
      "metadata": {
        "id": "zs8BAPqXNOh8",
        "colab_type": "code",
        "colab": {
          "base_uri": "https://localhost:8080/",
          "height": 785
        },
        "outputId": "bdc3d890-814b-4db6-c175-51eebb4bccc3"
      },
      "cell_type": "code",
      "source": [
        "!wget https://raw.githubusercontent.com/vladimiralencar/DeepLearning-LANA/master/tensorflow/load_data/cifar10/cifar10.py\n",
        "!wget https://raw.githubusercontent.com/vladimiralencar/DeepLearning-LANA/master/tensorflow/load_data/cifar10/cache.py\n",
        "!wget https://raw.githubusercontent.com/vladimiralencar/DeepLearning-LANA/master/tensorflow/load_data/cifar10/dataset.py\n",
        "!wget https://raw.githubusercontent.com/vladimiralencar/DeepLearning-LANA/master/tensorflow/load_data/cifar10/download.py"
      ],
      "execution_count": 9,
      "outputs": [
        {
          "output_type": "stream",
          "text": [
            "--2019-03-26 08:54:09--  https://raw.githubusercontent.com/vladimiralencar/DeepLearning-LANA/master/tensorflow/load_data/cifar10/cifar10.py\n",
            "Resolving raw.githubusercontent.com (raw.githubusercontent.com)... 151.101.0.133, 151.101.64.133, 151.101.128.133, ...\n",
            "Connecting to raw.githubusercontent.com (raw.githubusercontent.com)|151.101.0.133|:443... connected.\n",
            "HTTP request sent, awaiting response... 200 OK\n",
            "Length: 2832 (2.8K) [text/plain]\n",
            "Saving to: ‘cifar10.py’\n",
            "\n",
            "\rcifar10.py            0%[                    ]       0  --.-KB/s               \rcifar10.py          100%[===================>]   2.77K  --.-KB/s    in 0s      \n",
            "\n",
            "2019-03-26 08:54:10 (74.6 MB/s) - ‘cifar10.py’ saved [2832/2832]\n",
            "\n",
            "--2019-03-26 08:54:11--  https://raw.githubusercontent.com/vladimiralencar/DeepLearning-LANA/master/tensorflow/load_data/cifar10/cache.py\n",
            "Resolving raw.githubusercontent.com (raw.githubusercontent.com)... 151.101.0.133, 151.101.64.133, 151.101.128.133, ...\n",
            "Connecting to raw.githubusercontent.com (raw.githubusercontent.com)|151.101.0.133|:443... connected.\n",
            "HTTP request sent, awaiting response... 200 OK\n",
            "Length: 1939 (1.9K) [text/plain]\n",
            "Saving to: ‘cache.py’\n",
            "\n",
            "cache.py            100%[===================>]   1.89K  --.-KB/s    in 0s      \n",
            "\n",
            "2019-03-26 08:54:11 (46.2 MB/s) - ‘cache.py’ saved [1939/1939]\n",
            "\n",
            "--2019-03-26 08:54:13--  https://raw.githubusercontent.com/vladimiralencar/DeepLearning-LANA/master/tensorflow/load_data/cifar10/dataset.py\n",
            "Resolving raw.githubusercontent.com (raw.githubusercontent.com)... 151.101.0.133, 151.101.64.133, 151.101.128.133, ...\n",
            "Connecting to raw.githubusercontent.com (raw.githubusercontent.com)|151.101.0.133|:443... connected.\n",
            "HTTP request sent, awaiting response... 200 OK\n",
            "Length: 3345 (3.3K) [text/plain]\n",
            "Saving to: ‘dataset.py’\n",
            "\n",
            "dataset.py          100%[===================>]   3.27K  --.-KB/s    in 0s      \n",
            "\n",
            "2019-03-26 08:54:13 (65.6 MB/s) - ‘dataset.py’ saved [3345/3345]\n",
            "\n",
            "--2019-03-26 08:54:15--  https://raw.githubusercontent.com/vladimiralencar/DeepLearning-LANA/master/tensorflow/load_data/cifar10/download.py\n",
            "Resolving raw.githubusercontent.com (raw.githubusercontent.com)... 151.101.0.133, 151.101.64.133, 151.101.128.133, ...\n",
            "Connecting to raw.githubusercontent.com (raw.githubusercontent.com)|151.101.0.133|:443... connected.\n",
            "HTTP request sent, awaiting response... 200 OK\n",
            "Length: 1598 (1.6K) [text/plain]\n",
            "Saving to: ‘download.py’\n",
            "\n",
            "download.py         100%[===================>]   1.56K  --.-KB/s    in 0s      \n",
            "\n",
            "2019-03-26 08:54:15 (281 MB/s) - ‘download.py’ saved [1598/1598]\n",
            "\n"
          ],
          "name": "stdout"
        }
      ]
    },
    {
      "metadata": {
        "id": "vZxjTkg8MWBg",
        "colab_type": "code",
        "colab": {}
      },
      "cell_type": "code",
      "source": [
        "import cifar10"
      ],
      "execution_count": 0,
      "outputs": []
    },
    {
      "metadata": {
        "scrolled": true,
        "id": "FzkEesvUMWBr",
        "colab_type": "code",
        "colab": {
          "base_uri": "https://localhost:8080/",
          "height": 68
        },
        "outputId": "6595aa65-ca46-404b-ba87-5867a554401a"
      },
      "cell_type": "code",
      "source": [
        "# O conjunto de dados CIFAR-10 é de cerca de 163 MB e será baixado automaticamente caso não seja encontrado.\n",
        "cifar10.maybe_download_and_extract()"
      ],
      "execution_count": 11,
      "outputs": [
        {
          "output_type": "stream",
          "text": [
            "- Download em andamento: 100.0%\n",
            "Download concluído. Extraindo os arquivos.\n",
            "Feito.\n"
          ],
          "name": "stdout"
        }
      ]
    },
    {
      "metadata": {
        "id": "NGoRb6w_MWCB",
        "colab_type": "code",
        "colab": {},
        "outputId": "78a47ada-a952-4258-dc88-a6a9b6ecf844"
      },
      "cell_type": "code",
      "source": [
        "class_names = cifar10.load_class_names()\n",
        "class_names"
      ],
      "execution_count": 0,
      "outputs": [
        {
          "output_type": "stream",
          "text": [
            "Carregando os dados: data/CIFAR-10/cifar-10-batches-py/batches.meta\n"
          ],
          "name": "stdout"
        },
        {
          "output_type": "execute_result",
          "data": {
            "text/plain": [
              "['airplane',\n",
              " 'automobile',\n",
              " 'bird',\n",
              " 'cat',\n",
              " 'deer',\n",
              " 'dog',\n",
              " 'frog',\n",
              " 'horse',\n",
              " 'ship',\n",
              " 'truck']"
            ]
          },
          "metadata": {
            "tags": []
          },
          "execution_count": 9
        }
      ]
    },
    {
      "metadata": {
        "id": "UNsIZH14MWCS",
        "colab_type": "code",
        "colab": {},
        "outputId": "28187eaf-2635-47be-9589-efb5db9b6e64"
      },
      "cell_type": "code",
      "source": [
        "images_train, cls_train, labels_train = cifar10.load_training_data()"
      ],
      "execution_count": 0,
      "outputs": [
        {
          "output_type": "stream",
          "text": [
            "Carregando os dados: data/CIFAR-10/cifar-10-batches-py/data_batch_1\n",
            "Carregando os dados: data/CIFAR-10/cifar-10-batches-py/data_batch_2\n",
            "Carregando os dados: data/CIFAR-10/cifar-10-batches-py/data_batch_3\n",
            "Carregando os dados: data/CIFAR-10/cifar-10-batches-py/data_batch_4\n",
            "Carregando os dados: data/CIFAR-10/cifar-10-batches-py/data_batch_5\n"
          ],
          "name": "stdout"
        }
      ]
    },
    {
      "metadata": {
        "id": "09XhpMWSMWCb",
        "colab_type": "code",
        "colab": {},
        "outputId": "7817c6ee-4140-4ecd-8d01-4cf884704343"
      },
      "cell_type": "code",
      "source": [
        "images_test, cls_test, labels_test = cifar10.load_test_data()"
      ],
      "execution_count": 0,
      "outputs": [
        {
          "output_type": "stream",
          "text": [
            "Carregando os dados: data/CIFAR-10/cifar-10-batches-py/test_batch\n"
          ],
          "name": "stdout"
        }
      ]
    },
    {
      "metadata": {
        "scrolled": true,
        "id": "rm1AD8PpMWCm",
        "colab_type": "code",
        "colab": {},
        "outputId": "c505ff40-a353-4c16-b6e1-31816efe81d1"
      },
      "cell_type": "code",
      "source": [
        "print(\"- Dataset de Treino:\\t\\t{}\".format(len(images_train)))\n",
        "print(\"- Dataset de Teste:\\t\\t{}\".format(len(images_test)))"
      ],
      "execution_count": 0,
      "outputs": [
        {
          "output_type": "stream",
          "text": [
            "- Dataset de Treino:\t\t50000\n",
            "- Dataset de Teste:\t\t10000\n"
          ],
          "name": "stdout"
        }
      ]
    },
    {
      "metadata": {
        "id": "votpg0MDMWDT",
        "colab_type": "code",
        "colab": {}
      },
      "cell_type": "code",
      "source": [
        "from cifar10 import img_size, num_channels, num_classes"
      ],
      "execution_count": 0,
      "outputs": []
    },
    {
      "metadata": {
        "id": "G-Q5c887MWEs",
        "colab_type": "code",
        "colab": {}
      },
      "cell_type": "code",
      "source": [
        "# As imagens são 32x32, mas iremos reduzir o tamanho para 24x24 a fim de dminuir o tempo de treinamento\n",
        "img_size_cropped = 24"
      ],
      "execution_count": 0,
      "outputs": []
    },
    {
      "metadata": {
        "id": "lNRUbq7fMWE3",
        "colab_type": "text"
      },
      "cell_type": "markdown",
      "source": [
        "### Função Para Plot de Imagens"
      ]
    },
    {
      "metadata": {
        "id": "zluryTRLMWFC",
        "colab_type": "code",
        "colab": {}
      },
      "cell_type": "code",
      "source": [
        "def plot_images(images, cls_true, cls_pred=None, smooth=True):\n",
        "\n",
        "    assert len(images) == len(cls_true) == 9\n",
        "\n",
        "    fig, axes = plt.subplots(3, 3)\n",
        "\n",
        "    if cls_pred is None:\n",
        "        hspace = 0.3\n",
        "    else:\n",
        "        hspace = 0.6\n",
        "    fig.subplots_adjust(hspace=hspace, wspace=0.3)\n",
        "\n",
        "    for i, ax in enumerate(axes.flat):\n",
        "        if smooth:\n",
        "            interpolation = 'spline16'\n",
        "        else:\n",
        "            interpolation = 'nearest'\n",
        "\n",
        "        ax.imshow(images[i, :, :, :], interpolation=interpolation)\n",
        "            \n",
        "        cls_true_name = class_names[cls_true[i]]\n",
        "\n",
        "        if cls_pred is None:\n",
        "            xlabel = \"True: {0}\".format(cls_true_name)\n",
        "        else:\n",
        "            cls_pred_name = class_names[cls_pred[i]]\n",
        "\n",
        "            xlabel = \"Label Original: {0}\\nPrevisão: {1}\".format(cls_true_name, cls_pred_name)\n",
        "\n",
        "        ax.set_xlabel(xlabel)\n",
        "        \n",
        "        ax.set_xticks([])\n",
        "        ax.set_yticks([])\n",
        "    \n",
        "    plt.show()"
      ],
      "execution_count": 0,
      "outputs": []
    },
    {
      "metadata": {
        "id": "jX9dU6nJMWFJ",
        "colab_type": "text"
      },
      "cell_type": "markdown",
      "source": [
        "### Plot de Algumas Imagens"
      ]
    },
    {
      "metadata": {
        "scrolled": true,
        "id": "xz19pIZXMWFK",
        "colab_type": "code",
        "colab": {},
        "outputId": "8a761061-a074-4869-94e5-a08a33028658"
      },
      "cell_type": "code",
      "source": [
        "images = images_test[0:9]\n",
        "\n",
        "cls_true = cls_test[0:9]\n",
        "\n",
        "plot_images(images=images, cls_true=cls_true, smooth=False)"
      ],
      "execution_count": 0,
      "outputs": [
        {
          "output_type": "display_data",
          "data": {
            "image/png": "[encoded data removed]",
            "text/plain": [
              "<matplotlib.figure.Figure at 0x7f21b6f39f98>"
            ]
          },
          "metadata": {
            "tags": []
          }
        }
      ]
    },
    {
      "metadata": {
        "id": "tmQkjVeTMWFb",
        "colab_type": "code",
        "colab": {},
        "outputId": "e286d023-c40e-484c-b9d3-535723971f8d"
      },
      "cell_type": "code",
      "source": [
        "# As imagens pixeladas acima são o que a rede neural receberá como entrada. \n",
        "# As imagens podem ser um pouco mais fáceis para o olho humano reconhecer se \"alisamos\" os pixels.\n",
        "plot_images(images=images, cls_true=cls_true, smooth=True)"
      ],
      "execution_count": 0,
      "outputs": [
        {
          "output_type": "display_data",
          "data": {
            "image/png": "[encoded data removed]",
            "text/plain": [
              "<matplotlib.figure.Figure at 0x7f21b6f39c50>"
            ]
          },
          "metadata": {
            "tags": []
          }
        }
      ]
    },
    {
      "metadata": {
        "id": "ZN-CKLefMWFi",
        "colab_type": "text"
      },
      "cell_type": "markdown",
      "source": [
        "## Criando o Grafo no TensorFlow "
      ]
    },
    {
      "metadata": {
        "id": "BvNGMXOKMWFl",
        "colab_type": "text"
      },
      "cell_type": "markdown",
      "source": [
        "### Placeholders"
      ]
    },
    {
      "metadata": {
        "id": "o700FUaBMWFn",
        "colab_type": "code",
        "colab": {}
      },
      "cell_type": "code",
      "source": [
        "x = tf.placeholder(tf.float32, shape=[None, img_size, img_size, num_channels], name='x')"
      ],
      "execution_count": 0,
      "outputs": []
    },
    {
      "metadata": {
        "id": "204km534MWFr",
        "colab_type": "code",
        "colab": {}
      },
      "cell_type": "code",
      "source": [
        "y_true = tf.placeholder(tf.float32, shape=[None, num_classes], name='y_true')"
      ],
      "execution_count": 0,
      "outputs": []
    },
    {
      "metadata": {
        "id": "oaGVmvfvMWGM",
        "colab_type": "code",
        "colab": {}
      },
      "cell_type": "code",
      "source": [
        "y_true_cls = tf.argmax(y_true, dimension=1)"
      ],
      "execution_count": 0,
      "outputs": []
    },
    {
      "metadata": {
        "id": "7PahFIytMWGe",
        "colab_type": "text"
      },
      "cell_type": "markdown",
      "source": [
        "### Função Para Pré-Processamento dos Dados"
      ]
    },
    {
      "metadata": {
        "id": "Y0j8MNlEMWGg",
        "colab_type": "code",
        "colab": {}
      },
      "cell_type": "code",
      "source": [
        "def pre_process_image(image, training):\n",
        " \n",
        "    if training:\n",
        "        image = tf.random_crop(image, size=[img_size_cropped, img_size_cropped, num_channels])\n",
        "\n",
        "        image = tf.image.random_flip_left_right(image)\n",
        "        \n",
        "        image = tf.image.random_hue(image, max_delta=0.05)\n",
        "        image = tf.image.random_contrast(image, lower=0.3, upper=1.0)\n",
        "        image = tf.image.random_brightness(image, max_delta=0.2)\n",
        "        image = tf.image.random_saturation(image, lower=0.0, upper=2.0)\n",
        "        image = tf.minimum(image, 1.0)\n",
        "        image = tf.maximum(image, 0.0)\n",
        "    else:\n",
        "        image = tf.image.resize_image_with_crop_or_pad(image,\n",
        "                                                       target_height=img_size_cropped,\n",
        "                                                       target_width=img_size_cropped)\n",
        "\n",
        "    return image"
      ],
      "execution_count": 0,
      "outputs": []
    },
    {
      "metadata": {
        "id": "eyB3NYY7MWGo",
        "colab_type": "text"
      },
      "cell_type": "markdown",
      "source": [
        "A função acima é chamada para cada imagem no lote de entrada usando a seguinte função."
      ]
    },
    {
      "metadata": {
        "id": "RM0RkMXDMWGp",
        "colab_type": "code",
        "colab": {}
      },
      "cell_type": "code",
      "source": [
        "def pre_process(images, training):\n",
        "    images = tf.map_fn(lambda image: pre_process_image(image, training), images)\n",
        "\n",
        "    return images"
      ],
      "execution_count": 0,
      "outputs": []
    },
    {
      "metadata": {
        "id": "wLH55xk3MWGv",
        "colab_type": "code",
        "colab": {}
      },
      "cell_type": "code",
      "source": [
        "distorted_images = pre_process(images=x, training=True)"
      ],
      "execution_count": 0,
      "outputs": []
    },
    {
      "metadata": {
        "id": "9AVQ1LpiMWG4",
        "colab_type": "text"
      },
      "cell_type": "markdown",
      "source": [
        "### Função Para Definir a Rede Neural Convolucional"
      ]
    },
    {
      "metadata": {
        "id": "XcDN8BM6MWG6",
        "colab_type": "code",
        "colab": {}
      },
      "cell_type": "code",
      "source": [
        "def main_network(images, training):\n",
        "    x_pretty = pt.wrap(images)\n",
        "\n",
        "    if training:\n",
        "        phase = pt.Phase.train\n",
        "    else:\n",
        "        phase = pt.Phase.infer\n",
        "\n",
        "    with pt.defaults_scope(activation_fn = tf.nn.relu, phase = phase):\n",
        "        y_pred, loss = x_pretty.\\\n",
        "            conv2d(kernel = 5, depth = 64, name = 'layer_conv1', batch_normalize = True).\\\n",
        "            max_pool(kernel = 2, stride = 2).\\\n",
        "            conv2d(kernel = 5, depth = 64, name = 'layer_conv2').\\\n",
        "            max_pool(kernel = 2, stride = 2).\\\n",
        "            flatten().\\\n",
        "            fully_connected(size = 256, name = 'layer_fc1').\\\n",
        "            fully_connected(size = 128, name = 'layer_fc2').\\\n",
        "            softmax_classifier(num_classes=num_classes, labels=y_true)\n",
        "\n",
        "    return y_pred, loss"
      ],
      "execution_count": 0,
      "outputs": []
    },
    {
      "metadata": {
        "id": "5GijuD5sMWG-",
        "colab_type": "text"
      },
      "cell_type": "markdown",
      "source": [
        "### Função Para Criar a Rede Neural Convolucional"
      ]
    },
    {
      "metadata": {
        "id": "zX9AjJAZMWHA",
        "colab_type": "code",
        "colab": {}
      },
      "cell_type": "code",
      "source": [
        "def create_network(training):\n",
        "    with tf.variable_scope('network', reuse=not training):\n",
        "        images = x\n",
        "\n",
        "        images = pre_process(images=images, training=training)\n",
        "\n",
        "        y_pred, loss = main_network(images=images, training=training)\n",
        "\n",
        "    return y_pred, loss"
      ],
      "execution_count": 0,
      "outputs": []
    },
    {
      "metadata": {
        "id": "q3Et3KLIMWHI",
        "colab_type": "text"
      },
      "cell_type": "markdown",
      "source": [
        "### Treinamento"
      ]
    },
    {
      "metadata": {
        "id": "bZ-z6C7aMWHJ",
        "colab_type": "text"
      },
      "cell_type": "markdown",
      "source": [
        "Primeiro criamos uma variável TensorFlow que acompanha o número de iterações de otimização realizadas até o momento. \n",
        "\n",
        "Note que `trainable = False` o que significa que o TensorFlow não tentará otimizar esta variável."
      ]
    },
    {
      "metadata": {
        "id": "m_9k5ZYdMWHL",
        "colab_type": "code",
        "colab": {}
      },
      "cell_type": "code",
      "source": [
        "global_step = tf.Variable(initial_value = 0, name = 'global_step', trainable = False)"
      ],
      "execution_count": 0,
      "outputs": []
    },
    {
      "metadata": {
        "id": "RHVjbRH4MWHW",
        "colab_type": "code",
        "colab": {}
      },
      "cell_type": "code",
      "source": [
        "_, loss = create_network(training=True)"
      ],
      "execution_count": 0,
      "outputs": []
    },
    {
      "metadata": {
        "id": "9uTgYq_8MWHg",
        "colab_type": "code",
        "colab": {}
      },
      "cell_type": "code",
      "source": [
        "optimizer = tf.train.AdamOptimizer(learning_rate=1e-4).minimize(loss, global_step=global_step)"
      ],
      "execution_count": 0,
      "outputs": []
    },
    {
      "metadata": {
        "id": "8MV5WzNvMWHr",
        "colab_type": "text"
      },
      "cell_type": "markdown",
      "source": [
        "### Teste / Inferência"
      ]
    },
    {
      "metadata": {
        "id": "irIz1aUBMWHt",
        "colab_type": "code",
        "colab": {}
      },
      "cell_type": "code",
      "source": [
        "y_pred, _ = create_network(training=False)"
      ],
      "execution_count": 0,
      "outputs": []
    },
    {
      "metadata": {
        "id": "gozV06L9MWHx",
        "colab_type": "code",
        "colab": {}
      },
      "cell_type": "code",
      "source": [
        "y_pred_cls = tf.argmax(y_pred, dimension=1)"
      ],
      "execution_count": 0,
      "outputs": []
    },
    {
      "metadata": {
        "id": "-nHn-ZcOMWH0",
        "colab_type": "code",
        "colab": {}
      },
      "cell_type": "code",
      "source": [
        "correct_prediction = tf.equal(y_pred_cls, y_true_cls)"
      ],
      "execution_count": 0,
      "outputs": []
    },
    {
      "metadata": {
        "id": "emxoThmqMWH4",
        "colab_type": "code",
        "colab": {}
      },
      "cell_type": "code",
      "source": [
        "accuracy = tf.reduce_mean(tf.cast(correct_prediction, tf.float32))"
      ],
      "execution_count": 0,
      "outputs": []
    },
    {
      "metadata": {
        "id": "0YyW2iPFMWIE",
        "colab_type": "text"
      },
      "cell_type": "markdown",
      "source": [
        "### Salvando o Modelo"
      ]
    },
    {
      "metadata": {
        "id": "rE7HL5xuMWIF",
        "colab_type": "code",
        "colab": {}
      },
      "cell_type": "code",
      "source": [
        "saver = tf.train.Saver()"
      ],
      "execution_count": 0,
      "outputs": []
    },
    {
      "metadata": {
        "id": "TI5K4q4zMWIK",
        "colab_type": "text"
      },
      "cell_type": "markdown",
      "source": [
        "### Obtendo os Pesos"
      ]
    },
    {
      "metadata": {
        "id": "eqGwmVtwMWIM",
        "colab_type": "text"
      },
      "cell_type": "markdown",
      "source": [
        "Mais adiante, queremos plotar os pesos da rede neural. Quando a rede é construída usando o Pretty Tensor, todas as variáveis das camadas são criadas indiretamente pelo Pretty Tensor. Portanto, devemos recuperar as variáveis do TensorFlow.\n",
        "\n",
        "Utilizamos os nomes `layer_conv1` e` layer_conv2` para as duas camadas convolucionais. Estes também são chamados escopos variáveis. Pretty Tensor automaticamente dá nomes às variáveis que cria para cada camada, para que possamos recuperar os pesos para uma camada usando o nome do escopo da camada e o nome da variável.\n",
        "\n",
        "A implementação é um pouco incompreensível porque precisamos usar a função TensorFlow `get_variable ()` que foi projetada para outra finalidade; Criando uma nova variável ou reutilizando uma variável existente. O mais fácil é fazer a seguinte função auxiliar."
      ]
    },
    {
      "metadata": {
        "id": "MyBaTYnZMWIN",
        "colab_type": "code",
        "colab": {}
      },
      "cell_type": "code",
      "source": [
        "def get_weights_variable(layer_name):\n",
        "    \n",
        "    with tf.variable_scope(\"network/\" + layer_name, reuse=True):\n",
        "        variable = tf.get_variable('weights')\n",
        "\n",
        "    return variable"
      ],
      "execution_count": 0,
      "outputs": []
    },
    {
      "metadata": {
        "id": "FCH1znOjMWIW",
        "colab_type": "code",
        "colab": {}
      },
      "cell_type": "code",
      "source": [
        "weights_conv1 = get_weights_variable(layer_name='layer_conv1')\n",
        "weights_conv2 = get_weights_variable(layer_name='layer_conv2')"
      ],
      "execution_count": 0,
      "outputs": []
    },
    {
      "metadata": {
        "id": "SXVRg09BMWIY",
        "colab_type": "text"
      },
      "cell_type": "markdown",
      "source": [
        "### Obtendo os Outputs das Camadas"
      ]
    },
    {
      "metadata": {
        "id": "qh3SfYFEMWIZ",
        "colab_type": "code",
        "colab": {}
      },
      "cell_type": "code",
      "source": [
        "def get_layer_output(layer_name):\n",
        "    tensor_name = \"network/\" + layer_name + \"/Relu:0\"\n",
        "\n",
        "    tensor = tf.get_default_graph().get_tensor_by_name(tensor_name)\n",
        "\n",
        "    return tensor"
      ],
      "execution_count": 0,
      "outputs": []
    },
    {
      "metadata": {
        "id": "dfVpYZO_MWIc",
        "colab_type": "code",
        "colab": {}
      },
      "cell_type": "code",
      "source": [
        "output_conv1 = get_layer_output(layer_name='layer_conv1')\n",
        "output_conv2 = get_layer_output(layer_name='layer_conv2')"
      ],
      "execution_count": 0,
      "outputs": []
    },
    {
      "metadata": {
        "id": "fr3aYyd_MWIk",
        "colab_type": "text"
      },
      "cell_type": "markdown",
      "source": [
        "## TensorFlow Run"
      ]
    },
    {
      "metadata": {
        "id": "bLiHw_96MWIm",
        "colab_type": "text"
      },
      "cell_type": "markdown",
      "source": [
        "### Sessão TensorFlow"
      ]
    },
    {
      "metadata": {
        "id": "5ZefeTbbMWIo",
        "colab_type": "code",
        "colab": {}
      },
      "cell_type": "code",
      "source": [
        "session = tf.Session()"
      ],
      "execution_count": 0,
      "outputs": []
    },
    {
      "metadata": {
        "id": "CI3LG8O_MWIs",
        "colab_type": "text"
      },
      "cell_type": "markdown",
      "source": [
        "### Restaurar ou inicializar variáveis\n",
        "\n",
        "Treinar esta rede neural pode demorar muito tempo, especialmente se você não possui GPU. Portanto, incluímos pontos de controle durante o treinamento para que possamos continuar treinando em outro momento (por exemplo durante a noite), e também para realizar análises depois sem ter que treinar a rede neural sempre que quisermos usá-la.\n",
        "\n",
        "Se você quiser reiniciar o treinamento da rede neural, você deve primeiro excluir os pontos de verificação.\n",
        "\n",
        "Este é o diretório usado para os pontos de verificação."
      ]
    },
    {
      "metadata": {
        "id": "9VyfRJDOMWIt",
        "colab_type": "code",
        "colab": {}
      },
      "cell_type": "code",
      "source": [
        "save_dir = 'checkpoints/'"
      ],
      "execution_count": 0,
      "outputs": []
    },
    {
      "metadata": {
        "id": "RpqznTW1MWIx",
        "colab_type": "code",
        "colab": {}
      },
      "cell_type": "code",
      "source": [
        "if not os.path.exists(save_dir):\n",
        "    os.makedirs(save_dir)"
      ],
      "execution_count": 0,
      "outputs": []
    },
    {
      "metadata": {
        "id": "CZqi2COkMWJC",
        "colab_type": "code",
        "colab": {}
      },
      "cell_type": "code",
      "source": [
        "save_path = os.path.join(save_dir, 'cifar10_cnn')"
      ],
      "execution_count": 0,
      "outputs": []
    },
    {
      "metadata": {
        "id": "S7TnvqkIMWJL",
        "colab_type": "code",
        "colab": {},
        "outputId": "e1501312-935b-41f5-8e23-d58ef377d342"
      },
      "cell_type": "code",
      "source": [
        "try:\n",
        "    print(\"Tentando restaurar o último ponto de controle ...\")\n",
        "\n",
        "    last_chk_path = tf.train.latest_checkpoint(checkpoint_dir=save_dir)\n",
        "\n",
        "    saver.restore(session, save_path=last_chk_path)\n",
        "\n",
        "    print(\"Ponto de verificação restaurado de:\", last_chk_path)\n",
        "except:\n",
        "    print(\"Não foi possível restaurar o ponto de verificação. Inicializando variáveis em vez disso.\")\n",
        "    session.run(tf.global_variables_initializer())"
      ],
      "execution_count": 0,
      "outputs": [
        {
          "output_type": "stream",
          "text": [
            "Tentando restaurar o último ponto de controle ...\n",
            "Não foi possível restaurar o ponto de verificação. Inicializando variáveis em vez disso.\n"
          ],
          "name": "stdout"
        }
      ]
    },
    {
      "metadata": {
        "id": "Dp3gNZ0MMWJQ",
        "colab_type": "text"
      },
      "cell_type": "markdown",
      "source": [
        "### Função Para Gerar um training-batch"
      ]
    },
    {
      "metadata": {
        "id": "mPKvQkfnMWJR",
        "colab_type": "text"
      },
      "cell_type": "markdown",
      "source": [
        "Há 50.000 imagens no conjunto de treinamento. Demora muito tempo calcular o gradiente do modelo usando todas essas imagens. Portanto, usamos apenas um pequeno lote de imagens em cada iteração do otimizador.\n",
        "\n",
        "Se o seu computador falhar ou se tornar muito lento porque você está sem memória RAM, então você pode tentar diminuir esse número, mas talvez seja necessário executar mais iterações de otimização."
      ]
    },
    {
      "metadata": {
        "id": "MC2uxg_nMWJS",
        "colab_type": "code",
        "colab": {}
      },
      "cell_type": "code",
      "source": [
        "train_batch_size = 64"
      ],
      "execution_count": 0,
      "outputs": []
    },
    {
      "metadata": {
        "id": "MfKgJtU7MWJX",
        "colab_type": "code",
        "colab": {}
      },
      "cell_type": "code",
      "source": [
        "def random_batch():\n",
        "    num_images = len(images_train)\n",
        "\n",
        "    idx = np.random.choice(num_images, size=train_batch_size, replace=False)\n",
        "\n",
        "    x_batch = images_train[idx, :, :, :]\n",
        "    y_batch = labels_train[idx, :]\n",
        "\n",
        "    return x_batch, y_batch"
      ],
      "execution_count": 0,
      "outputs": []
    },
    {
      "metadata": {
        "id": "LB5_2mXkMWJb",
        "colab_type": "text"
      },
      "cell_type": "markdown",
      "source": [
        "### Função Para Otimização"
      ]
    },
    {
      "metadata": {
        "id": "StWOXvv5MWJc",
        "colab_type": "text"
      },
      "cell_type": "markdown",
      "source": [
        "Esta função executa uma série de iterações de otimização para melhorar gradualmente as variáveis das camadas da rede. Em cada iteração, um novo lote de dados é selecionado a partir do conjunto de treinamento e, em seguida, TensorFlow executa o otimizador usando essas amostras de treinamento. O progresso é impresso a cada 100 iterações. Um ponto de verificação é salvo a cada 1000 iterações e também após a última iteração."
      ]
    },
    {
      "metadata": {
        "id": "-1RE0_9rMWJe",
        "colab_type": "code",
        "colab": {}
      },
      "cell_type": "code",
      "source": [
        "def optimize(num_iterations):\n",
        "    start_time = time.time()\n",
        "\n",
        "    for i in range(num_iterations):\n",
        "        x_batch, y_true_batch = random_batch()\n",
        "\n",
        "        feed_dict_train = {x: x_batch, y_true: y_true_batch}\n",
        "\n",
        "        i_global, _ = session.run([global_step, optimizer], feed_dict=feed_dict_train)\n",
        "\n",
        "        if (i_global % 100 == 0) or (i == num_iterations - 1):\n",
        "            batch_acc = session.run(accuracy, feed_dict=feed_dict_train)\n",
        "\n",
        "            # Print status.\n",
        "            msg = \"Global Step: {0:>6}, Acurácia no Training Batch: {1:>6.1%}\"\n",
        "            print(msg.format(i_global, batch_acc))\n",
        "\n",
        "        if (i_global % 1000 == 0) or (i == num_iterations - 1):\n",
        "            saver.save(session, save_path=save_path, global_step=global_step)\n",
        "\n",
        "            print(\"Checkpoint Salvo.\")\n",
        "\n",
        "    end_time = time.time()\n",
        "\n",
        "    time_dif = end_time - start_time\n",
        "\n",
        "    print(\"Tempo gasto: \" + str(timedelta(seconds=int(round(time_dif)))))"
      ],
      "execution_count": 0,
      "outputs": []
    },
    {
      "metadata": {
        "id": "i-jmBAlbMWJj",
        "colab_type": "text"
      },
      "cell_type": "markdown",
      "source": [
        "### Função Para Plot dos Erros"
      ]
    },
    {
      "metadata": {
        "id": "gE8lmPo_MWJl",
        "colab_type": "code",
        "colab": {}
      },
      "cell_type": "code",
      "source": [
        "def plot_example_errors(cls_pred, correct):\n",
        "    incorrect = (correct == False)\n",
        "\n",
        "    images = images_test[incorrect]\n",
        "\n",
        "    cls_pred = cls_pred[incorrect]\n",
        "\n",
        "    cls_true = cls_test[incorrect]\n",
        "    \n",
        "    plot_images(images=images[0:9],\n",
        "                cls_true=cls_true[0:9],\n",
        "                cls_pred=cls_pred[0:9])"
      ],
      "execution_count": 0,
      "outputs": []
    },
    {
      "metadata": {
        "id": "MNHFiOn2MWJr",
        "colab_type": "text"
      },
      "cell_type": "markdown",
      "source": [
        "### Função Para o Plot da Confusion Matrix"
      ]
    },
    {
      "metadata": {
        "id": "cHylAv80MWJu",
        "colab_type": "code",
        "colab": {}
      },
      "cell_type": "code",
      "source": [
        "def plot_confusion_matrix(cls_pred):\n",
        "\n",
        "    cm = confusion_matrix(y_true=cls_test, y_pred=cls_pred)  \n",
        "\n",
        "    for i in range(num_classes):\n",
        "        class_name = \"({}) {}\".format(i, class_names[i])\n",
        "        print(cm[i, :], class_name)\n",
        "\n",
        "    class_numbers = [\" ({0})\".format(i) for i in range(num_classes)]\n",
        "    print(\"\".join(class_numbers))"
      ],
      "execution_count": 0,
      "outputs": []
    },
    {
      "metadata": {
        "id": "chb2t7O7MWJx",
        "colab_type": "text"
      },
      "cell_type": "markdown",
      "source": [
        "### Função Para Calcular as Classificações"
      ]
    },
    {
      "metadata": {
        "id": "k-Nwpn8YMWJy",
        "colab_type": "code",
        "colab": {}
      },
      "cell_type": "code",
      "source": [
        "batch_size = 256\n",
        "\n",
        "def predict_cls(images, labels, cls_true):\n",
        "    num_images = len(images)\n",
        "\n",
        "    cls_pred = np.zeros(shape=num_images, dtype=np.int)\n",
        "\n",
        "    i = 0\n",
        "\n",
        "    while i < num_images:\n",
        "        j = min(i + batch_size, num_images)\n",
        "\n",
        "        feed_dict = {x: images[i:j, :], y_true: labels[i:j, :]}\n",
        "\n",
        "        cls_pred[i:j] = session.run(y_pred_cls, feed_dict=feed_dict)\n",
        "\n",
        "        i = j\n",
        "\n",
        "    correct = (cls_true == cls_pred)\n",
        "\n",
        "    return correct, cls_pred"
      ],
      "execution_count": 0,
      "outputs": []
    },
    {
      "metadata": {
        "id": "AfahLG5FMWJ2",
        "colab_type": "code",
        "colab": {}
      },
      "cell_type": "code",
      "source": [
        "def predict_cls_test():\n",
        "    return predict_cls(images = images_test,\n",
        "                       labels = labels_test,\n",
        "                       cls_true = cls_test)"
      ],
      "execution_count": 0,
      "outputs": []
    },
    {
      "metadata": {
        "id": "2YdfEwmRMWJ6",
        "colab_type": "text"
      },
      "cell_type": "markdown",
      "source": [
        "### Função Para Acurácia de Classificação"
      ]
    },
    {
      "metadata": {
        "id": "-0XQmeRMMWJ7",
        "colab_type": "code",
        "colab": {}
      },
      "cell_type": "code",
      "source": [
        "def classification_accuracy(correct):\n",
        "    return correct.mean(), correct.sum()"
      ],
      "execution_count": 0,
      "outputs": []
    },
    {
      "metadata": {
        "id": "0NttRE1pMWKC",
        "colab_type": "text"
      },
      "cell_type": "markdown",
      "source": [
        "### Função Para Visualizar a Performance"
      ]
    },
    {
      "metadata": {
        "id": "3rsPJnPjMWKF",
        "colab_type": "code",
        "colab": {}
      },
      "cell_type": "code",
      "source": [
        "def print_test_accuracy(show_example_errors=False, show_confusion_matrix=False):\n",
        "\n",
        "    correct, cls_pred = predict_cls_test()\n",
        "    \n",
        "    acc, num_correct = classification_accuracy(correct)\n",
        "    \n",
        "    num_images = len(correct)\n",
        "\n",
        "    msg = \"Acurácia no Dataset de Teste: {0:.1%} ({1} / {2})\"\n",
        "    print(msg.format(acc, num_correct, num_images))\n",
        "\n",
        "    if show_example_errors:\n",
        "        print(\"Errors:\")\n",
        "        plot_example_errors(cls_pred=cls_pred, correct=correct)\n",
        "\n",
        "    if show_confusion_matrix:\n",
        "        print(\"Confusion Matrix:\")\n",
        "        plot_confusion_matrix(cls_pred=cls_pred)"
      ],
      "execution_count": 0,
      "outputs": []
    },
    {
      "metadata": {
        "id": "RNk57N2gMWKI",
        "colab_type": "text"
      },
      "cell_type": "markdown",
      "source": [
        "### Função Para Plot dos Pesos Convolucionais"
      ]
    },
    {
      "metadata": {
        "id": "HZO1pUdnMWKJ",
        "colab_type": "code",
        "colab": {}
      },
      "cell_type": "code",
      "source": [
        "def plot_conv_weights(weights, input_channel=0):\n",
        "    w = session.run(weights)\n",
        "\n",
        "    print(\"Min:  {0:.5f}, Max:   {1:.5f}\".format(w.min(), w.max()))\n",
        "    print(\"Mean: {0:.5f}, Stdev: {1:.5f}\".format(w.mean(), w.std()))\n",
        "    \n",
        "    w_min = np.min(w)\n",
        "    w_max = np.max(w)\n",
        "    abs_max = max(abs(w_min), abs(w_max))\n",
        "\n",
        "    num_filters = w.shape[3]\n",
        "\n",
        "    num_grids = math.ceil(math.sqrt(num_filters))\n",
        "    \n",
        "    fig, axes = plt.subplots(num_grids, num_grids)\n",
        "\n",
        "    for i, ax in enumerate(axes.flat):\n",
        "        if i < num_filters:\n",
        "            img = w[:, :, input_channel, i]\n",
        "\n",
        "            ax.imshow(img, vmin=-abs_max, vmax=abs_max, interpolation='nearest', cmap='seismic')\n",
        "        \n",
        "        ax.set_xticks([])\n",
        "        ax.set_yticks([])\n",
        "    \n",
        "    plt.show()"
      ],
      "execution_count": 0,
      "outputs": []
    },
    {
      "metadata": {
        "id": "d_SIIio7MWKz",
        "colab_type": "text"
      },
      "cell_type": "markdown",
      "source": [
        "### Função Para o Plot das Saídas das Camadas Convolucionais"
      ]
    },
    {
      "metadata": {
        "id": "jez7NDiRMWK5",
        "colab_type": "code",
        "colab": {}
      },
      "cell_type": "code",
      "source": [
        "def plot_layer_output(layer_output, image):\n",
        "    feed_dict = {x: [image]}\n",
        "    \n",
        "    values = session.run(layer_output, feed_dict=feed_dict)\n",
        "\n",
        "    values_min = np.min(values)\n",
        "    values_max = np.max(values)\n",
        "\n",
        "    num_images = values.shape[3]\n",
        "\n",
        "    num_grids = math.ceil(math.sqrt(num_images))\n",
        "\n",
        "    fig, axes = plt.subplots(num_grids, num_grids)\n",
        "\n",
        "    for i, ax in enumerate(axes.flat):\n",
        "        if i < num_images:\n",
        "            img = values[0, :, :, i]\n",
        "\n",
        "            ax.imshow(img, vmin=values_min, vmax=values_max, interpolation='nearest', cmap='binary')\n",
        "        \n",
        "        ax.set_xticks([])\n",
        "        ax.set_yticks([])\n",
        "    \n",
        "    plt.show()"
      ],
      "execution_count": 0,
      "outputs": []
    },
    {
      "metadata": {
        "id": "CTyhj72FMWLC",
        "colab_type": "text"
      },
      "cell_type": "markdown",
      "source": [
        "## Exemplos de Imagens de Input"
      ]
    },
    {
      "metadata": {
        "id": "mdNi3wN3MWLD",
        "colab_type": "code",
        "colab": {}
      },
      "cell_type": "code",
      "source": [
        "def plot_distorted_image(image, cls_true):\n",
        "    image_duplicates = np.repeat(image[np.newaxis, :, :, :], 9, axis=0)\n",
        "\n",
        "    feed_dict = {x: image_duplicates}\n",
        "    \n",
        "    result = session.run(distorted_images, feed_dict=feed_dict)\n",
        "\n",
        "    plot_images(images=result, cls_true=np.repeat(cls_true, 9))"
      ],
      "execution_count": 0,
      "outputs": []
    },
    {
      "metadata": {
        "id": "2lYT7HN4MWLF",
        "colab_type": "code",
        "colab": {}
      },
      "cell_type": "code",
      "source": [
        "def get_test_image(i):\n",
        "    return images_test[i, :, :, :], cls_test[i]"
      ],
      "execution_count": 0,
      "outputs": []
    },
    {
      "metadata": {
        "id": "6Cf_DOb0MWLH",
        "colab_type": "code",
        "colab": {}
      },
      "cell_type": "code",
      "source": [
        "img, cls = get_test_image(16)"
      ],
      "execution_count": 0,
      "outputs": []
    },
    {
      "metadata": {
        "scrolled": true,
        "id": "MMyqo-ONMWLL",
        "colab_type": "code",
        "colab": {},
        "outputId": "08eaa031-03c4-4a8a-c1e9-7cf41a334029"
      },
      "cell_type": "code",
      "source": [
        "plot_distorted_image(img, cls)"
      ],
      "execution_count": 0,
      "outputs": [
        {
          "output_type": "display_data",
          "data": {
            "image/png": "[encoded data removed]",
            "text/plain": [
              "<matplotlib.figure.Figure at 0x7f21847a4ba8>"
            ]
          },
          "metadata": {
            "tags": []
          }
        }
      ]
    },
    {
      "metadata": {
        "id": "Vt88tjKVMWLT",
        "colab_type": "text"
      },
      "cell_type": "markdown",
      "source": [
        "## Otimização"
      ]
    },
    {
      "metadata": {
        "id": "j9UKW0-9MWLU",
        "colab_type": "text"
      },
      "cell_type": "markdown",
      "source": [
        "Dependendo do número de otimizações, isso pode levar de 1 a 15 horas."
      ]
    },
    {
      "metadata": {
        "scrolled": true,
        "id": "5l-CROvpMWLW",
        "colab_type": "code",
        "colab": {},
        "outputId": "b13be8a2-2807-467c-d9a9-6a23c670c11c"
      },
      "cell_type": "code",
      "source": [
        "optimize(num_iterations = 120000) # Tempo gasto: 3:49:06"
      ],
      "execution_count": 0,
      "outputs": [
        {
          "output_type": "stream",
          "text": [
            "Global Step:    100, Acurácia no Training Batch:  25.0%\n",
            "Global Step:    200, Acurácia no Training Batch:  37.5%\n",
            "Global Step:    300, Acurácia no Training Batch:  40.6%\n",
            "Global Step:    400, Acurácia no Training Batch:  32.8%\n",
            "Global Step:    500, Acurácia no Training Batch:  45.3%\n",
            "Global Step:    600, Acurácia no Training Batch:  42.2%\n",
            "Global Step:    700, Acurácia no Training Batch:  31.2%\n",
            "Global Step:    800, Acurácia no Training Batch:  48.4%\n",
            "Global Step:    900, Acurácia no Training Batch:  50.0%\n",
            "Global Step:   1000, Acurácia no Training Batch:  50.0%\n",
            "Checkpoint Salvo.\n",
            "Global Step:   1100, Acurácia no Training Batch:  48.4%\n",
            "Global Step:   1200, Acurácia no Training Batch:  43.8%\n",
            "Global Step:   1300, Acurácia no Training Batch:  43.8%\n",
            "Global Step:   1400, Acurácia no Training Batch:  50.0%\n",
            "Global Step:   1500, Acurácia no Training Batch:  48.4%\n",
            "Global Step:   1600, Acurácia no Training Batch:  53.1%\n",
            "Global Step:   1700, Acurácia no Training Batch:  42.2%\n",
            "Global Step:   1800, Acurácia no Training Batch:  51.6%\n",
            "Global Step:   1900, Acurácia no Training Batch:  54.7%\n",
            "Global Step:   2000, Acurácia no Training Batch:  48.4%\n",
            "Checkpoint Salvo.\n",
            "Global Step:   2100, Acurácia no Training Batch:  53.1%\n",
            "Global Step:   2200, Acurácia no Training Batch:  46.9%\n",
            "Global Step:   2300, Acurácia no Training Batch:  43.8%\n",
            "Global Step:   2400, Acurácia no Training Batch:  46.9%\n",
            "Global Step:   2500, Acurácia no Training Batch:  54.7%\n",
            "Global Step:   2600, Acurácia no Training Batch:  59.4%\n",
            "Global Step:   2700, Acurácia no Training Batch:  62.5%\n",
            "Global Step:   2800, Acurácia no Training Batch:  57.8%\n",
            "Global Step:   2900, Acurácia no Training Batch:  57.8%\n",
            "Global Step:   3000, Acurácia no Training Batch:  56.2%\n",
            "Checkpoint Salvo.\n",
            "Global Step:   3100, Acurácia no Training Batch:  56.2%\n",
            "Global Step:   3200, Acurácia no Training Batch:  46.9%\n",
            "Global Step:   3300, Acurácia no Training Batch:  46.9%\n",
            "Global Step:   3400, Acurácia no Training Batch:  56.2%\n",
            "Global Step:   3500, Acurácia no Training Batch:  50.0%\n",
            "Global Step:   3600, Acurácia no Training Batch:  50.0%\n",
            "Global Step:   3700, Acurácia no Training Batch:  57.8%\n",
            "Global Step:   3800, Acurácia no Training Batch:  56.2%\n",
            "Global Step:   3900, Acurácia no Training Batch:  60.9%\n",
            "Global Step:   4000, Acurácia no Training Batch:  54.7%\n",
            "Checkpoint Salvo.\n",
            "Global Step:   4100, Acurácia no Training Batch:  51.6%\n",
            "Global Step:   4200, Acurácia no Training Batch:  60.9%\n",
            "Global Step:   4300, Acurácia no Training Batch:  54.7%\n",
            "Global Step:   4400, Acurácia no Training Batch:  65.6%\n",
            "Global Step:   4500, Acurácia no Training Batch:  56.2%\n",
            "Global Step:   4600, Acurácia no Training Batch:  64.1%\n",
            "Global Step:   4700, Acurácia no Training Batch:  45.3%\n",
            "Global Step:   4800, Acurácia no Training Batch:  64.1%\n",
            "Global Step:   4900, Acurácia no Training Batch:  59.4%\n",
            "Global Step:   5000, Acurácia no Training Batch:  68.8%\n",
            "Checkpoint Salvo.\n",
            "Global Step:   5100, Acurácia no Training Batch:  71.9%\n",
            "Global Step:   5200, Acurácia no Training Batch:  62.5%\n",
            "Global Step:   5300, Acurácia no Training Batch:  54.7%\n",
            "Global Step:   5400, Acurácia no Training Batch:  48.4%\n",
            "Global Step:   5500, Acurácia no Training Batch:  59.4%\n",
            "Global Step:   5600, Acurácia no Training Batch:  56.2%\n",
            "Global Step:   5700, Acurácia no Training Batch:  48.4%\n",
            "Global Step:   5800, Acurácia no Training Batch:  62.5%\n",
            "Global Step:   5900, Acurácia no Training Batch:  65.6%\n",
            "Global Step:   6000, Acurácia no Training Batch:  62.5%\n",
            "Checkpoint Salvo.\n",
            "Global Step:   6100, Acurácia no Training Batch:  64.1%\n",
            "Global Step:   6200, Acurácia no Training Batch:  59.4%\n",
            "Global Step:   6300, Acurácia no Training Batch:  62.5%\n",
            "Global Step:   6400, Acurácia no Training Batch:  64.1%\n",
            "Global Step:   6500, Acurácia no Training Batch:  65.6%\n",
            "Global Step:   6600, Acurácia no Training Batch:  62.5%\n",
            "Global Step:   6700, Acurácia no Training Batch:  67.2%\n",
            "Global Step:   6800, Acurácia no Training Batch:  65.6%\n",
            "Global Step:   6900, Acurácia no Training Batch:  70.3%\n",
            "Global Step:   7000, Acurácia no Training Batch:  68.8%\n",
            "Checkpoint Salvo.\n",
            "Global Step:   7100, Acurácia no Training Batch:  65.6%\n",
            "Global Step:   7200, Acurácia no Training Batch:  57.8%\n",
            "Global Step:   7300, Acurácia no Training Batch:  62.5%\n",
            "Global Step:   7400, Acurácia no Training Batch:  68.8%\n",
            "Global Step:   7500, Acurácia no Training Batch:  64.1%\n",
            "Global Step:   7600, Acurácia no Training Batch:  60.9%\n",
            "Global Step:   7700, Acurácia no Training Batch:  53.1%\n",
            "Global Step:   7800, Acurácia no Training Batch:  70.3%\n",
            "Global Step:   7900, Acurácia no Training Batch:  60.9%\n",
            "Global Step:   8000, Acurácia no Training Batch:  62.5%\n",
            "Checkpoint Salvo.\n",
            "Global Step:   8100, Acurácia no Training Batch:  56.2%\n",
            "Global Step:   8200, Acurácia no Training Batch:  71.9%\n",
            "Global Step:   8300, Acurácia no Training Batch:  60.9%\n",
            "Global Step:   8400, Acurácia no Training Batch:  65.6%\n",
            "Global Step:   8500, Acurácia no Training Batch:  70.3%\n",
            "Global Step:   8600, Acurácia no Training Batch:  67.2%\n",
            "Global Step:   8700, Acurácia no Training Batch:  68.8%\n",
            "Global Step:   8800, Acurácia no Training Batch:  71.9%\n",
            "Global Step:   8900, Acurácia no Training Batch:  56.2%\n",
            "Global Step:   9000, Acurácia no Training Batch:  62.5%\n",
            "Checkpoint Salvo.\n",
            "Global Step:   9100, Acurácia no Training Batch:  59.4%\n",
            "Global Step:   9200, Acurácia no Training Batch:  57.8%\n",
            "Global Step:   9300, Acurácia no Training Batch:  65.6%\n",
            "Global Step:   9400, Acurácia no Training Batch:  67.2%\n",
            "Global Step:   9500, Acurácia no Training Batch:  62.5%\n",
            "Global Step:   9600, Acurácia no Training Batch:  64.1%\n",
            "Global Step:   9700, Acurácia no Training Batch:  54.7%\n",
            "Global Step:   9800, Acurácia no Training Batch:  64.1%\n",
            "Global Step:   9900, Acurácia no Training Batch:  68.8%\n",
            "Global Step:  10000, Acurácia no Training Batch:  70.3%\n",
            "Checkpoint Salvo.\n",
            "Global Step:  10100, Acurácia no Training Batch:  75.0%\n",
            "Global Step:  10200, Acurácia no Training Batch:  70.3%\n",
            "Global Step:  10300, Acurácia no Training Batch:  65.6%\n",
            "Global Step:  10400, Acurácia no Training Batch:  60.9%\n",
            "Global Step:  10500, Acurácia no Training Batch:  73.4%\n",
            "Global Step:  10600, Acurácia no Training Batch:  73.4%\n",
            "Global Step:  10700, Acurácia no Training Batch:  65.6%\n",
            "Global Step:  10800, Acurácia no Training Batch:  64.1%\n",
            "Global Step:  10900, Acurácia no Training Batch:  64.1%\n",
            "Global Step:  11000, Acurácia no Training Batch:  68.8%\n",
            "Checkpoint Salvo.\n",
            "Global Step:  11100, Acurácia no Training Batch:  73.4%\n",
            "Global Step:  11200, Acurácia no Training Batch:  62.5%\n",
            "Global Step:  11300, Acurácia no Training Batch:  62.5%\n",
            "Global Step:  11400, Acurácia no Training Batch:  70.3%\n",
            "Global Step:  11500, Acurácia no Training Batch:  65.6%\n",
            "Global Step:  11600, Acurácia no Training Batch:  71.9%\n",
            "Global Step:  11700, Acurácia no Training Batch:  75.0%\n",
            "Global Step:  11800, Acurácia no Training Batch:  67.2%\n",
            "Global Step:  11900, Acurácia no Training Batch:  73.4%\n",
            "Global Step:  12000, Acurácia no Training Batch:  73.4%\n",
            "Checkpoint Salvo.\n",
            "Global Step:  12100, Acurácia no Training Batch:  68.8%\n",
            "Global Step:  12200, Acurácia no Training Batch:  73.4%\n",
            "Global Step:  12300, Acurácia no Training Batch:  59.4%\n",
            "Global Step:  12400, Acurácia no Training Batch:  71.9%\n",
            "Global Step:  12500, Acurácia no Training Batch:  65.6%\n",
            "Global Step:  12600, Acurácia no Training Batch:  75.0%\n",
            "Global Step:  12700, Acurácia no Training Batch:  73.4%\n",
            "Global Step:  12800, Acurácia no Training Batch:  75.0%\n",
            "Global Step:  12900, Acurácia no Training Batch:  75.0%\n",
            "Global Step:  13000, Acurácia no Training Batch:  65.6%\n",
            "Checkpoint Salvo.\n",
            "Global Step:  13100, Acurácia no Training Batch:  79.7%\n",
            "Global Step:  13200, Acurácia no Training Batch:  60.9%\n",
            "Global Step:  13300, Acurácia no Training Batch:  71.9%\n",
            "Global Step:  13400, Acurácia no Training Batch:  78.1%\n",
            "Global Step:  13500, Acurácia no Training Batch:  71.9%\n",
            "Global Step:  13600, Acurácia no Training Batch:  78.1%\n",
            "Global Step:  13700, Acurácia no Training Batch:  75.0%\n",
            "Global Step:  13800, Acurácia no Training Batch:  70.3%\n",
            "Global Step:  13900, Acurácia no Training Batch:  67.2%\n",
            "Global Step:  14000, Acurácia no Training Batch:  78.1%\n",
            "Checkpoint Salvo.\n",
            "Global Step:  14100, Acurácia no Training Batch:  70.3%\n",
            "Global Step:  14200, Acurácia no Training Batch:  73.4%\n"
          ],
          "name": "stdout"
        },
        {
          "output_type": "stream",
          "text": [
            "Global Step:  14300, Acurácia no Training Batch:  70.3%\n",
            "Global Step:  14400, Acurácia no Training Batch:  70.3%\n",
            "Global Step:  14500, Acurácia no Training Batch:  67.2%\n",
            "Global Step:  14600, Acurácia no Training Batch:  67.2%\n",
            "Global Step:  14700, Acurácia no Training Batch:  68.8%\n",
            "Global Step:  14800, Acurácia no Training Batch:  59.4%\n",
            "Global Step:  14900, Acurácia no Training Batch:  75.0%\n",
            "Global Step:  15000, Acurácia no Training Batch:  65.6%\n",
            "Checkpoint Salvo.\n",
            "Global Step:  15100, Acurácia no Training Batch:  64.1%\n",
            "Global Step:  15200, Acurácia no Training Batch:  71.9%\n",
            "Global Step:  15300, Acurácia no Training Batch:  64.1%\n",
            "Global Step:  15400, Acurácia no Training Batch:  62.5%\n",
            "Global Step:  15500, Acurácia no Training Batch:  73.4%\n",
            "Global Step:  15600, Acurácia no Training Batch:  67.2%\n",
            "Global Step:  15700, Acurácia no Training Batch:  70.3%\n",
            "Global Step:  15800, Acurácia no Training Batch:  70.3%\n",
            "Global Step:  15900, Acurácia no Training Batch:  73.4%\n",
            "Global Step:  16000, Acurácia no Training Batch:  73.4%\n",
            "Checkpoint Salvo.\n",
            "Global Step:  16100, Acurácia no Training Batch:  70.3%\n",
            "Global Step:  16200, Acurácia no Training Batch:  73.4%\n",
            "Global Step:  16300, Acurácia no Training Batch:  73.4%\n",
            "Global Step:  16400, Acurácia no Training Batch:  65.6%\n",
            "Global Step:  16500, Acurácia no Training Batch:  70.3%\n",
            "Global Step:  16600, Acurácia no Training Batch:  75.0%\n",
            "Global Step:  16700, Acurácia no Training Batch:  73.4%\n",
            "Global Step:  16800, Acurácia no Training Batch:  73.4%\n",
            "Global Step:  16900, Acurácia no Training Batch:  71.9%\n",
            "Global Step:  17000, Acurácia no Training Batch:  67.2%\n",
            "Checkpoint Salvo.\n",
            "Global Step:  17100, Acurácia no Training Batch:  76.6%\n",
            "Global Step:  17200, Acurácia no Training Batch:  68.8%\n",
            "Global Step:  17300, Acurácia no Training Batch:  70.3%\n",
            "Global Step:  17400, Acurácia no Training Batch:  68.8%\n",
            "Global Step:  17500, Acurácia no Training Batch:  68.8%\n",
            "Global Step:  17600, Acurácia no Training Batch:  70.3%\n",
            "Global Step:  17700, Acurácia no Training Batch:  71.9%\n",
            "Global Step:  17800, Acurácia no Training Batch:  78.1%\n",
            "Global Step:  17900, Acurácia no Training Batch:  79.7%\n",
            "Global Step:  18000, Acurácia no Training Batch:  73.4%\n",
            "Checkpoint Salvo.\n",
            "Global Step:  18100, Acurácia no Training Batch:  71.9%\n",
            "Global Step:  18200, Acurácia no Training Batch:  71.9%\n",
            "Global Step:  18300, Acurácia no Training Batch:  67.2%\n",
            "Global Step:  18400, Acurácia no Training Batch:  67.2%\n",
            "Global Step:  18500, Acurácia no Training Batch:  78.1%\n",
            "Global Step:  18600, Acurácia no Training Batch:  75.0%\n",
            "Global Step:  18700, Acurácia no Training Batch:  78.1%\n",
            "Global Step:  18800, Acurácia no Training Batch:  76.6%\n",
            "Global Step:  18900, Acurácia no Training Batch:  64.1%\n",
            "Global Step:  19000, Acurácia no Training Batch:  65.6%\n",
            "Checkpoint Salvo.\n",
            "Global Step:  19100, Acurácia no Training Batch:  81.2%\n",
            "Global Step:  19200, Acurácia no Training Batch:  76.6%\n",
            "Global Step:  19300, Acurácia no Training Batch:  68.8%\n",
            "Global Step:  19400, Acurácia no Training Batch:  71.9%\n",
            "Global Step:  19500, Acurácia no Training Batch:  71.9%\n",
            "Global Step:  19600, Acurácia no Training Batch:  62.5%\n",
            "Global Step:  19700, Acurácia no Training Batch:  73.4%\n",
            "Global Step:  19800, Acurácia no Training Batch:  60.9%\n",
            "Global Step:  19900, Acurácia no Training Batch:  73.4%\n",
            "Global Step:  20000, Acurácia no Training Batch:  79.7%\n",
            "Checkpoint Salvo.\n",
            "Global Step:  20100, Acurácia no Training Batch:  79.7%\n",
            "Global Step:  20200, Acurácia no Training Batch:  70.3%\n",
            "Global Step:  20300, Acurácia no Training Batch:  65.6%\n",
            "Global Step:  20400, Acurácia no Training Batch:  70.3%\n",
            "Global Step:  20500, Acurácia no Training Batch:  71.9%\n",
            "Global Step:  20600, Acurácia no Training Batch:  62.5%\n",
            "Global Step:  20700, Acurácia no Training Batch:  65.6%\n",
            "Global Step:  20800, Acurácia no Training Batch:  73.4%\n",
            "Global Step:  20900, Acurácia no Training Batch:  75.0%\n",
            "Global Step:  21000, Acurácia no Training Batch:  79.7%\n",
            "Checkpoint Salvo.\n",
            "Global Step:  21100, Acurácia no Training Batch:  76.6%\n",
            "Global Step:  21200, Acurácia no Training Batch:  65.6%\n",
            "Global Step:  21300, Acurácia no Training Batch:  78.1%\n",
            "Global Step:  21400, Acurácia no Training Batch:  65.6%\n",
            "Global Step:  21500, Acurácia no Training Batch:  75.0%\n",
            "Global Step:  21600, Acurácia no Training Batch:  70.3%\n",
            "Global Step:  21700, Acurácia no Training Batch:  78.1%\n",
            "Global Step:  21800, Acurácia no Training Batch:  79.7%\n",
            "Global Step:  21900, Acurácia no Training Batch:  75.0%\n",
            "Global Step:  22000, Acurácia no Training Batch:  64.1%\n",
            "Checkpoint Salvo.\n",
            "Global Step:  22100, Acurácia no Training Batch:  70.3%\n",
            "Global Step:  22200, Acurácia no Training Batch:  71.9%\n",
            "Global Step:  22300, Acurácia no Training Batch:  65.6%\n",
            "Global Step:  22400, Acurácia no Training Batch:  71.9%\n",
            "Global Step:  22500, Acurácia no Training Batch:  75.0%\n",
            "Global Step:  22600, Acurácia no Training Batch:  67.2%\n",
            "Global Step:  22700, Acurácia no Training Batch:  71.9%\n",
            "Global Step:  22800, Acurácia no Training Batch:  87.5%\n",
            "Global Step:  22900, Acurácia no Training Batch:  71.9%\n",
            "Global Step:  23000, Acurácia no Training Batch:  73.4%\n",
            "Checkpoint Salvo.\n",
            "Global Step:  23100, Acurácia no Training Batch:  78.1%\n",
            "Global Step:  23200, Acurácia no Training Batch:  65.6%\n",
            "Global Step:  23300, Acurácia no Training Batch:  73.4%\n",
            "Global Step:  23400, Acurácia no Training Batch:  73.4%\n",
            "Global Step:  23500, Acurácia no Training Batch:  76.6%\n",
            "Global Step:  23600, Acurácia no Training Batch:  70.3%\n",
            "Global Step:  23700, Acurácia no Training Batch:  76.6%\n",
            "Global Step:  23800, Acurácia no Training Batch:  76.6%\n",
            "Global Step:  23900, Acurácia no Training Batch:  75.0%\n",
            "Global Step:  24000, Acurácia no Training Batch:  60.9%\n",
            "Checkpoint Salvo.\n",
            "Global Step:  24100, Acurácia no Training Batch:  67.2%\n",
            "Global Step:  24200, Acurácia no Training Batch:  76.6%\n",
            "Global Step:  24300, Acurácia no Training Batch:  73.4%\n",
            "Global Step:  24400, Acurácia no Training Batch:  71.9%\n",
            "Global Step:  24500, Acurácia no Training Batch:  81.2%\n",
            "Global Step:  24600, Acurácia no Training Batch:  67.2%\n",
            "Global Step:  24700, Acurácia no Training Batch:  78.1%\n",
            "Global Step:  24800, Acurácia no Training Batch:  79.7%\n",
            "Global Step:  24900, Acurácia no Training Batch:  78.1%\n",
            "Global Step:  25000, Acurácia no Training Batch:  76.6%\n",
            "Checkpoint Salvo.\n",
            "Global Step:  25100, Acurácia no Training Batch:  73.4%\n",
            "Global Step:  25200, Acurácia no Training Batch:  71.9%\n",
            "Global Step:  25300, Acurácia no Training Batch:  71.9%\n",
            "Global Step:  25400, Acurácia no Training Batch:  65.6%\n",
            "Global Step:  25500, Acurácia no Training Batch:  64.1%\n",
            "Global Step:  25600, Acurácia no Training Batch:  87.5%\n",
            "Global Step:  25700, Acurácia no Training Batch:  71.9%\n",
            "Global Step:  25800, Acurácia no Training Batch:  79.7%\n",
            "Global Step:  25900, Acurácia no Training Batch:  57.8%\n",
            "Global Step:  26000, Acurácia no Training Batch:  76.6%\n",
            "Checkpoint Salvo.\n",
            "Global Step:  26100, Acurácia no Training Batch:  71.9%\n",
            "Global Step:  26200, Acurácia no Training Batch:  79.7%\n",
            "Global Step:  26300, Acurácia no Training Batch:  70.3%\n",
            "Global Step:  26400, Acurácia no Training Batch:  78.1%\n",
            "Global Step:  26500, Acurácia no Training Batch:  78.1%\n",
            "Global Step:  26600, Acurácia no Training Batch:  60.9%\n",
            "Global Step:  26700, Acurácia no Training Batch:  76.6%\n",
            "Global Step:  26800, Acurácia no Training Batch:  75.0%\n",
            "Global Step:  26900, Acurácia no Training Batch:  60.9%\n",
            "Global Step:  27000, Acurácia no Training Batch:  78.1%\n",
            "Checkpoint Salvo.\n",
            "Global Step:  27100, Acurácia no Training Batch:  67.2%\n",
            "Global Step:  27200, Acurácia no Training Batch:  76.6%\n",
            "Global Step:  27300, Acurácia no Training Batch:  84.4%\n",
            "Global Step:  27400, Acurácia no Training Batch:  71.9%\n",
            "Global Step:  27500, Acurácia no Training Batch:  82.8%\n",
            "Global Step:  27600, Acurácia no Training Batch:  73.4%\n",
            "Global Step:  27700, Acurácia no Training Batch:  71.9%\n",
            "Global Step:  27800, Acurácia no Training Batch:  79.7%\n",
            "Global Step:  27900, Acurácia no Training Batch:  75.0%\n",
            "Global Step:  28000, Acurácia no Training Batch:  76.6%\n",
            "Checkpoint Salvo.\n",
            "Global Step:  28100, Acurácia no Training Batch:  84.4%\n",
            "Global Step:  28200, Acurácia no Training Batch:  70.3%\n",
            "Global Step:  28300, Acurácia no Training Batch:  82.8%\n",
            "Global Step:  28400, Acurácia no Training Batch:  82.8%\n"
          ],
          "name": "stdout"
        },
        {
          "output_type": "stream",
          "text": [
            "Global Step:  28500, Acurácia no Training Batch:  82.8%\n",
            "Global Step:  28600, Acurácia no Training Batch:  78.1%\n",
            "Global Step:  28700, Acurácia no Training Batch:  73.4%\n",
            "Global Step:  28800, Acurácia no Training Batch:  76.6%\n",
            "Global Step:  28900, Acurácia no Training Batch:  81.2%\n",
            "Global Step:  29000, Acurácia no Training Batch:  75.0%\n",
            "Checkpoint Salvo.\n",
            "Global Step:  29100, Acurácia no Training Batch:  71.9%\n",
            "Global Step:  29200, Acurácia no Training Batch:  81.2%\n",
            "Global Step:  29300, Acurácia no Training Batch:  78.1%\n",
            "Global Step:  29400, Acurácia no Training Batch:  73.4%\n",
            "Global Step:  29500, Acurácia no Training Batch:  73.4%\n",
            "Global Step:  29600, Acurácia no Training Batch:  71.9%\n",
            "Global Step:  29700, Acurácia no Training Batch:  75.0%\n",
            "Global Step:  29800, Acurácia no Training Batch:  73.4%\n",
            "Global Step:  29900, Acurácia no Training Batch:  70.3%\n",
            "Global Step:  30000, Acurácia no Training Batch:  71.9%\n",
            "Checkpoint Salvo.\n",
            "Global Step:  30100, Acurácia no Training Batch:  68.8%\n",
            "Global Step:  30200, Acurácia no Training Batch:  82.8%\n",
            "Global Step:  30300, Acurácia no Training Batch:  78.1%\n",
            "Global Step:  30400, Acurácia no Training Batch:  79.7%\n",
            "Global Step:  30500, Acurácia no Training Batch:  75.0%\n",
            "Global Step:  30600, Acurácia no Training Batch:  76.6%\n",
            "Global Step:  30700, Acurácia no Training Batch:  68.8%\n",
            "Global Step:  30800, Acurácia no Training Batch:  78.1%\n",
            "Global Step:  30900, Acurácia no Training Batch:  82.8%\n",
            "Global Step:  31000, Acurácia no Training Batch:  67.2%\n",
            "Checkpoint Salvo.\n",
            "Global Step:  31100, Acurácia no Training Batch:  73.4%\n",
            "Global Step:  31200, Acurácia no Training Batch:  75.0%\n",
            "Global Step:  31300, Acurácia no Training Batch:  65.6%\n",
            "Global Step:  31400, Acurácia no Training Batch:  76.6%\n",
            "Global Step:  31500, Acurácia no Training Batch:  78.1%\n",
            "Global Step:  31600, Acurácia no Training Batch:  73.4%\n",
            "Global Step:  31700, Acurácia no Training Batch:  78.1%\n",
            "Global Step:  31800, Acurácia no Training Batch:  70.3%\n",
            "Global Step:  31900, Acurácia no Training Batch:  73.4%\n",
            "Global Step:  32000, Acurácia no Training Batch:  81.2%\n",
            "Checkpoint Salvo.\n",
            "Global Step:  32100, Acurácia no Training Batch:  70.3%\n",
            "Global Step:  32200, Acurácia no Training Batch:  62.5%\n",
            "Global Step:  32300, Acurácia no Training Batch:  76.6%\n",
            "Global Step:  32400, Acurácia no Training Batch:  75.0%\n",
            "Global Step:  32500, Acurácia no Training Batch:  73.4%\n",
            "Global Step:  32600, Acurácia no Training Batch:  73.4%\n",
            "Global Step:  32700, Acurácia no Training Batch:  82.8%\n",
            "Global Step:  32800, Acurácia no Training Batch:  71.9%\n",
            "Global Step:  32900, Acurácia no Training Batch:  68.8%\n",
            "Global Step:  33000, Acurácia no Training Batch:  79.7%\n",
            "Checkpoint Salvo.\n",
            "Global Step:  33100, Acurácia no Training Batch:  76.6%\n",
            "Global Step:  33200, Acurácia no Training Batch:  76.6%\n",
            "Global Step:  33300, Acurácia no Training Batch:  75.0%\n",
            "Global Step:  33400, Acurácia no Training Batch:  82.8%\n",
            "Global Step:  33500, Acurácia no Training Batch:  85.9%\n",
            "Global Step:  33600, Acurácia no Training Batch:  67.2%\n",
            "Global Step:  33700, Acurácia no Training Batch:  71.9%\n",
            "Global Step:  33800, Acurácia no Training Batch:  73.4%\n",
            "Global Step:  33900, Acurácia no Training Batch:  71.9%\n",
            "Global Step:  34000, Acurácia no Training Batch:  71.9%\n",
            "Checkpoint Salvo.\n",
            "Global Step:  34100, Acurácia no Training Batch:  79.7%\n",
            "Global Step:  34200, Acurácia no Training Batch:  75.0%\n",
            "Global Step:  34300, Acurácia no Training Batch:  76.6%\n",
            "Global Step:  34400, Acurácia no Training Batch:  68.8%\n",
            "Global Step:  34500, Acurácia no Training Batch:  70.3%\n",
            "Global Step:  34600, Acurácia no Training Batch:  71.9%\n",
            "Global Step:  34700, Acurácia no Training Batch:  75.0%\n",
            "Global Step:  34800, Acurácia no Training Batch:  75.0%\n",
            "Global Step:  34900, Acurácia no Training Batch:  79.7%\n",
            "Global Step:  35000, Acurácia no Training Batch:  79.7%\n",
            "Checkpoint Salvo.\n",
            "Global Step:  35100, Acurácia no Training Batch:  82.8%\n",
            "Global Step:  35200, Acurácia no Training Batch:  79.7%\n",
            "Global Step:  35300, Acurácia no Training Batch:  75.0%\n",
            "Global Step:  35400, Acurácia no Training Batch:  73.4%\n",
            "Global Step:  35500, Acurácia no Training Batch:  75.0%\n",
            "Global Step:  35600, Acurácia no Training Batch:  84.4%\n",
            "Global Step:  35700, Acurácia no Training Batch:  76.6%\n",
            "Global Step:  35800, Acurácia no Training Batch:  78.1%\n",
            "Global Step:  35900, Acurácia no Training Batch:  57.8%\n",
            "Global Step:  36000, Acurácia no Training Batch:  76.6%\n",
            "Checkpoint Salvo.\n",
            "Global Step:  36100, Acurácia no Training Batch:  84.4%\n",
            "Global Step:  36200, Acurácia no Training Batch:  78.1%\n",
            "Global Step:  36300, Acurácia no Training Batch:  82.8%\n",
            "Global Step:  36400, Acurácia no Training Batch:  78.1%\n",
            "Global Step:  36500, Acurácia no Training Batch:  76.6%\n",
            "Global Step:  36600, Acurácia no Training Batch:  76.6%\n",
            "Global Step:  36700, Acurácia no Training Batch:  75.0%\n",
            "Global Step:  36800, Acurácia no Training Batch:  79.7%\n",
            "Global Step:  36900, Acurácia no Training Batch:  79.7%\n",
            "Global Step:  37000, Acurácia no Training Batch:  73.4%\n",
            "Checkpoint Salvo.\n",
            "Global Step:  37100, Acurácia no Training Batch:  75.0%\n",
            "Global Step:  37200, Acurácia no Training Batch:  70.3%\n",
            "Global Step:  37300, Acurácia no Training Batch:  79.7%\n",
            "Global Step:  37400, Acurácia no Training Batch:  84.4%\n",
            "Global Step:  37500, Acurácia no Training Batch:  79.7%\n",
            "Global Step:  37600, Acurácia no Training Batch:  71.9%\n",
            "Global Step:  37700, Acurácia no Training Batch:  79.7%\n",
            "Global Step:  37800, Acurácia no Training Batch:  79.7%\n",
            "Global Step:  37900, Acurácia no Training Batch:  75.0%\n",
            "Global Step:  38000, Acurácia no Training Batch:  76.6%\n",
            "Checkpoint Salvo.\n",
            "Global Step:  38100, Acurácia no Training Batch:  73.4%\n",
            "Global Step:  38200, Acurácia no Training Batch:  82.8%\n",
            "Global Step:  38300, Acurácia no Training Batch:  78.1%\n",
            "Global Step:  38400, Acurácia no Training Batch:  79.7%\n",
            "Global Step:  38500, Acurácia no Training Batch:  76.6%\n",
            "Global Step:  38600, Acurácia no Training Batch:  84.4%\n",
            "Global Step:  38700, Acurácia no Training Batch:  84.4%\n",
            "Global Step:  38800, Acurácia no Training Batch:  75.0%\n",
            "Global Step:  38900, Acurácia no Training Batch:  67.2%\n",
            "Global Step:  39000, Acurácia no Training Batch:  75.0%\n",
            "Checkpoint Salvo.\n",
            "Global Step:  39100, Acurácia no Training Batch:  76.6%\n",
            "Global Step:  39200, Acurácia no Training Batch:  65.6%\n",
            "Global Step:  39300, Acurácia no Training Batch:  79.7%\n",
            "Global Step:  39400, Acurácia no Training Batch:  65.6%\n",
            "Global Step:  39500, Acurácia no Training Batch:  84.4%\n",
            "Global Step:  39600, Acurácia no Training Batch:  76.6%\n",
            "Global Step:  39700, Acurácia no Training Batch:  82.8%\n",
            "Global Step:  39800, Acurácia no Training Batch:  68.8%\n",
            "Global Step:  39900, Acurácia no Training Batch:  75.0%\n",
            "Global Step:  40000, Acurácia no Training Batch:  71.9%\n",
            "Checkpoint Salvo.\n",
            "Global Step:  40100, Acurácia no Training Batch:  89.1%\n",
            "Global Step:  40200, Acurácia no Training Batch:  81.2%\n",
            "Global Step:  40300, Acurácia no Training Batch:  78.1%\n",
            "Global Step:  40400, Acurácia no Training Batch:  87.5%\n",
            "Global Step:  40500, Acurácia no Training Batch:  71.9%\n",
            "Global Step:  40600, Acurácia no Training Batch:  65.6%\n",
            "Global Step:  40700, Acurácia no Training Batch:  78.1%\n",
            "Global Step:  40800, Acurácia no Training Batch:  78.1%\n",
            "Global Step:  40900, Acurácia no Training Batch:  90.6%\n",
            "Global Step:  41000, Acurácia no Training Batch:  82.8%\n",
            "Checkpoint Salvo.\n",
            "Global Step:  41100, Acurácia no Training Batch:  82.8%\n",
            "Global Step:  41200, Acurácia no Training Batch:  85.9%\n",
            "Global Step:  41300, Acurácia no Training Batch:  79.7%\n",
            "Global Step:  41400, Acurácia no Training Batch:  70.3%\n",
            "Global Step:  41500, Acurácia no Training Batch:  79.7%\n",
            "Global Step:  41600, Acurácia no Training Batch:  81.2%\n",
            "Global Step:  41700, Acurácia no Training Batch:  82.8%\n",
            "Global Step:  41800, Acurácia no Training Batch:  81.2%\n",
            "Global Step:  41900, Acurácia no Training Batch:  73.4%\n",
            "Global Step:  42000, Acurácia no Training Batch:  79.7%\n",
            "Checkpoint Salvo.\n",
            "Global Step:  42100, Acurácia no Training Batch:  75.0%\n",
            "Global Step:  42200, Acurácia no Training Batch:  71.9%\n",
            "Global Step:  42300, Acurácia no Training Batch:  78.1%\n",
            "Global Step:  42400, Acurácia no Training Batch:  82.8%\n",
            "Global Step:  42500, Acurácia no Training Batch:  75.0%\n",
            "Global Step:  42600, Acurácia no Training Batch:  79.7%\n"
          ],
          "name": "stdout"
        },
        {
          "output_type": "stream",
          "text": [
            "Global Step:  42700, Acurácia no Training Batch:  71.9%\n",
            "Global Step:  42800, Acurácia no Training Batch:  76.6%\n",
            "Global Step:  42900, Acurácia no Training Batch:  81.2%\n",
            "Global Step:  43000, Acurácia no Training Batch:  79.7%\n",
            "Checkpoint Salvo.\n",
            "Global Step:  43100, Acurácia no Training Batch:  87.5%\n",
            "Global Step:  43200, Acurácia no Training Batch:  76.6%\n",
            "Global Step:  43300, Acurácia no Training Batch:  73.4%\n",
            "Global Step:  43400, Acurácia no Training Batch:  84.4%\n",
            "Global Step:  43500, Acurácia no Training Batch:  73.4%\n",
            "Global Step:  43600, Acurácia no Training Batch:  75.0%\n",
            "Global Step:  43700, Acurácia no Training Batch:  84.4%\n",
            "Global Step:  43800, Acurácia no Training Batch:  87.5%\n",
            "Global Step:  43900, Acurácia no Training Batch:  85.9%\n",
            "Global Step:  44000, Acurácia no Training Batch:  71.9%\n",
            "Checkpoint Salvo.\n",
            "Global Step:  44100, Acurácia no Training Batch:  79.7%\n",
            "Global Step:  44200, Acurácia no Training Batch:  75.0%\n",
            "Global Step:  44300, Acurácia no Training Batch:  75.0%\n",
            "Global Step:  44400, Acurácia no Training Batch:  89.1%\n",
            "Global Step:  44500, Acurácia no Training Batch:  76.6%\n",
            "Global Step:  44600, Acurácia no Training Batch:  75.0%\n",
            "Global Step:  44700, Acurácia no Training Batch:  75.0%\n",
            "Global Step:  44800, Acurácia no Training Batch:  79.7%\n",
            "Global Step:  44900, Acurácia no Training Batch:  85.9%\n",
            "Global Step:  45000, Acurácia no Training Batch:  81.2%\n",
            "Checkpoint Salvo.\n",
            "Global Step:  45100, Acurácia no Training Batch:  78.1%\n",
            "Global Step:  45200, Acurácia no Training Batch:  78.1%\n",
            "Global Step:  45300, Acurácia no Training Batch:  81.2%\n",
            "Global Step:  45400, Acurácia no Training Batch:  87.5%\n",
            "Global Step:  45500, Acurácia no Training Batch:  78.1%\n",
            "Global Step:  45600, Acurácia no Training Batch:  75.0%\n",
            "Global Step:  45700, Acurácia no Training Batch:  81.2%\n",
            "Global Step:  45800, Acurácia no Training Batch:  78.1%\n",
            "Global Step:  45900, Acurácia no Training Batch:  75.0%\n",
            "Global Step:  46000, Acurácia no Training Batch:  79.7%\n",
            "Checkpoint Salvo.\n",
            "Global Step:  46100, Acurácia no Training Batch:  84.4%\n",
            "Global Step:  46200, Acurácia no Training Batch:  78.1%\n",
            "Global Step:  46300, Acurácia no Training Batch:  78.1%\n",
            "Global Step:  46400, Acurácia no Training Batch:  84.4%\n",
            "Global Step:  46500, Acurácia no Training Batch:  75.0%\n",
            "Global Step:  46600, Acurácia no Training Batch:  81.2%\n",
            "Global Step:  46700, Acurácia no Training Batch:  85.9%\n",
            "Global Step:  46800, Acurácia no Training Batch:  81.2%\n",
            "Global Step:  46900, Acurácia no Training Batch:  79.7%\n",
            "Global Step:  47000, Acurácia no Training Batch:  78.1%\n",
            "Checkpoint Salvo.\n",
            "Global Step:  47100, Acurácia no Training Batch:  79.7%\n",
            "Global Step:  47200, Acurácia no Training Batch:  78.1%\n",
            "Global Step:  47300, Acurácia no Training Batch:  70.3%\n",
            "Global Step:  47400, Acurácia no Training Batch:  76.6%\n",
            "Global Step:  47500, Acurácia no Training Batch:  85.9%\n",
            "Global Step:  47600, Acurácia no Training Batch:  81.2%\n",
            "Global Step:  47700, Acurácia no Training Batch:  76.6%\n",
            "Global Step:  47800, Acurácia no Training Batch:  84.4%\n",
            "Global Step:  47900, Acurácia no Training Batch:  90.6%\n",
            "Global Step:  48000, Acurácia no Training Batch:  85.9%\n",
            "Checkpoint Salvo.\n",
            "Global Step:  48100, Acurácia no Training Batch:  81.2%\n",
            "Global Step:  48200, Acurácia no Training Batch:  81.2%\n",
            "Global Step:  48300, Acurácia no Training Batch:  73.4%\n",
            "Global Step:  48400, Acurácia no Training Batch:  82.8%\n",
            "Global Step:  48500, Acurácia no Training Batch:  84.4%\n",
            "Global Step:  48600, Acurácia no Training Batch:  64.1%\n",
            "Global Step:  48700, Acurácia no Training Batch:  76.6%\n",
            "Global Step:  48800, Acurácia no Training Batch:  84.4%\n",
            "Global Step:  48900, Acurácia no Training Batch:  87.5%\n",
            "Global Step:  49000, Acurácia no Training Batch:  78.1%\n",
            "Checkpoint Salvo.\n",
            "Global Step:  49100, Acurácia no Training Batch:  82.8%\n",
            "Global Step:  49200, Acurácia no Training Batch:  82.8%\n",
            "Global Step:  49300, Acurácia no Training Batch:  85.9%\n",
            "Global Step:  49400, Acurácia no Training Batch:  79.7%\n",
            "Global Step:  49500, Acurácia no Training Batch:  79.7%\n",
            "Global Step:  49600, Acurácia no Training Batch:  76.6%\n",
            "Global Step:  49700, Acurácia no Training Batch:  84.4%\n",
            "Global Step:  49800, Acurácia no Training Batch:  82.8%\n",
            "Global Step:  49900, Acurácia no Training Batch:  78.1%\n",
            "Global Step:  50000, Acurácia no Training Batch:  85.9%\n",
            "Checkpoint Salvo.\n",
            "Global Step:  50100, Acurácia no Training Batch:  76.6%\n",
            "Global Step:  50200, Acurácia no Training Batch:  75.0%\n",
            "Global Step:  50300, Acurácia no Training Batch:  75.0%\n",
            "Global Step:  50400, Acurácia no Training Batch:  78.1%\n",
            "Global Step:  50500, Acurácia no Training Batch:  84.4%\n",
            "Global Step:  50600, Acurácia no Training Batch:  78.1%\n",
            "Global Step:  50700, Acurácia no Training Batch:  82.8%\n",
            "Global Step:  50800, Acurácia no Training Batch:  79.7%\n",
            "Global Step:  50900, Acurácia no Training Batch:  87.5%\n",
            "Global Step:  51000, Acurácia no Training Batch:  89.1%\n",
            "Checkpoint Salvo.\n",
            "Global Step:  51100, Acurácia no Training Batch:  78.1%\n",
            "Global Step:  51200, Acurácia no Training Batch:  84.4%\n",
            "Global Step:  51300, Acurácia no Training Batch:  81.2%\n",
            "Global Step:  51400, Acurácia no Training Batch:  82.8%\n",
            "Global Step:  51500, Acurácia no Training Batch:  78.1%\n",
            "Global Step:  51600, Acurácia no Training Batch:  82.8%\n",
            "Global Step:  51700, Acurácia no Training Batch:  70.3%\n",
            "Global Step:  51800, Acurácia no Training Batch:  84.4%\n",
            "Global Step:  51900, Acurácia no Training Batch:  82.8%\n",
            "Global Step:  52000, Acurácia no Training Batch:  79.7%\n",
            "Checkpoint Salvo.\n",
            "Global Step:  52100, Acurácia no Training Batch:  90.6%\n",
            "Global Step:  52200, Acurácia no Training Batch:  78.1%\n",
            "Global Step:  52300, Acurácia no Training Batch:  81.2%\n",
            "Global Step:  52400, Acurácia no Training Batch:  82.8%\n",
            "Global Step:  52500, Acurácia no Training Batch:  79.7%\n",
            "Global Step:  52600, Acurácia no Training Batch:  75.0%\n",
            "Global Step:  52700, Acurácia no Training Batch:  81.2%\n",
            "Global Step:  52800, Acurácia no Training Batch:  78.1%\n",
            "Global Step:  52900, Acurácia no Training Batch:  79.7%\n",
            "Global Step:  53000, Acurácia no Training Batch:  85.9%\n",
            "Checkpoint Salvo.\n",
            "Global Step:  53100, Acurácia no Training Batch:  82.8%\n",
            "Global Step:  53200, Acurácia no Training Batch:  78.1%\n",
            "Global Step:  53300, Acurácia no Training Batch:  78.1%\n",
            "Global Step:  53400, Acurácia no Training Batch:  81.2%\n",
            "Global Step:  53500, Acurácia no Training Batch:  75.0%\n",
            "Global Step:  53600, Acurácia no Training Batch:  82.8%\n",
            "Global Step:  53700, Acurácia no Training Batch:  73.4%\n",
            "Global Step:  53800, Acurácia no Training Batch:  81.2%\n",
            "Global Step:  53900, Acurácia no Training Batch:  73.4%\n",
            "Global Step:  54000, Acurácia no Training Batch:  73.4%\n",
            "Checkpoint Salvo.\n",
            "Global Step:  54100, Acurácia no Training Batch:  76.6%\n",
            "Global Step:  54200, Acurácia no Training Batch:  76.6%\n",
            "Global Step:  54300, Acurácia no Training Batch:  73.4%\n",
            "Global Step:  54400, Acurácia no Training Batch:  84.4%\n",
            "Global Step:  54500, Acurácia no Training Batch:  81.2%\n",
            "Global Step:  54600, Acurácia no Training Batch:  79.7%\n",
            "Global Step:  54700, Acurácia no Training Batch:  84.4%\n",
            "Global Step:  54800, Acurácia no Training Batch:  81.2%\n",
            "Global Step:  54900, Acurácia no Training Batch:  92.2%\n",
            "Global Step:  55000, Acurácia no Training Batch:  71.9%\n",
            "Checkpoint Salvo.\n",
            "Global Step:  55100, Acurácia no Training Batch:  68.8%\n",
            "Global Step:  55200, Acurácia no Training Batch:  79.7%\n",
            "Global Step:  55300, Acurácia no Training Batch:  85.9%\n",
            "Global Step:  55400, Acurácia no Training Batch:  85.9%\n",
            "Global Step:  55500, Acurácia no Training Batch:  89.1%\n",
            "Global Step:  55600, Acurácia no Training Batch:  76.6%\n",
            "Global Step:  55700, Acurácia no Training Batch:  81.2%\n",
            "Global Step:  55800, Acurácia no Training Batch:  79.7%\n",
            "Global Step:  55900, Acurácia no Training Batch:  81.2%\n",
            "Global Step:  56000, Acurácia no Training Batch:  81.2%\n",
            "Checkpoint Salvo.\n",
            "Global Step:  56100, Acurácia no Training Batch:  81.2%\n",
            "Global Step:  56200, Acurácia no Training Batch:  76.6%\n",
            "Global Step:  56300, Acurácia no Training Batch:  89.1%\n",
            "Global Step:  56400, Acurácia no Training Batch:  82.8%\n",
            "Global Step:  56500, Acurácia no Training Batch:  73.4%\n",
            "Global Step:  56600, Acurácia no Training Batch:  81.2%\n",
            "Global Step:  56700, Acurácia no Training Batch:  85.9%\n",
            "Global Step:  56800, Acurácia no Training Batch:  76.6%\n"
          ],
          "name": "stdout"
        },
        {
          "output_type": "stream",
          "text": [
            "Global Step:  56900, Acurácia no Training Batch:  85.9%\n",
            "Global Step:  57000, Acurácia no Training Batch:  84.4%\n",
            "Checkpoint Salvo.\n",
            "Global Step:  57100, Acurácia no Training Batch:  90.6%\n",
            "Global Step:  57200, Acurácia no Training Batch:  79.7%\n",
            "Global Step:  57300, Acurácia no Training Batch:  68.8%\n",
            "Global Step:  57400, Acurácia no Training Batch:  85.9%\n",
            "Global Step:  57500, Acurácia no Training Batch:  70.3%\n",
            "Global Step:  57600, Acurácia no Training Batch:  76.6%\n",
            "Global Step:  57700, Acurácia no Training Batch:  82.8%\n",
            "Global Step:  57800, Acurácia no Training Batch:  75.0%\n",
            "Global Step:  57900, Acurácia no Training Batch:  89.1%\n",
            "Global Step:  58000, Acurácia no Training Batch:  84.4%\n",
            "Checkpoint Salvo.\n",
            "Global Step:  58100, Acurácia no Training Batch:  85.9%\n",
            "Global Step:  58200, Acurácia no Training Batch:  81.2%\n",
            "Global Step:  58300, Acurácia no Training Batch:  92.2%\n",
            "Global Step:  58400, Acurácia no Training Batch:  87.5%\n",
            "Global Step:  58500, Acurácia no Training Batch:  90.6%\n",
            "Global Step:  58600, Acurácia no Training Batch:  81.2%\n",
            "Global Step:  58700, Acurácia no Training Batch:  75.0%\n",
            "Global Step:  58800, Acurácia no Training Batch:  85.9%\n",
            "Global Step:  58900, Acurácia no Training Batch:  82.8%\n",
            "Global Step:  59000, Acurácia no Training Batch:  90.6%\n",
            "Checkpoint Salvo.\n",
            "Global Step:  59100, Acurácia no Training Batch:  85.9%\n",
            "Global Step:  59200, Acurácia no Training Batch:  82.8%\n",
            "Global Step:  59300, Acurácia no Training Batch:  81.2%\n",
            "Global Step:  59400, Acurácia no Training Batch:  85.9%\n",
            "Global Step:  59500, Acurácia no Training Batch:  87.5%\n",
            "Global Step:  59600, Acurácia no Training Batch:  89.1%\n",
            "Global Step:  59700, Acurácia no Training Batch:  82.8%\n",
            "Global Step:  59800, Acurácia no Training Batch:  82.8%\n",
            "Global Step:  59900, Acurácia no Training Batch:  81.2%\n",
            "Global Step:  60000, Acurácia no Training Batch:  84.4%\n",
            "Checkpoint Salvo.\n",
            "Global Step:  60100, Acurácia no Training Batch:  85.9%\n",
            "Global Step:  60200, Acurácia no Training Batch:  78.1%\n",
            "Global Step:  60300, Acurácia no Training Batch:  82.8%\n",
            "Global Step:  60400, Acurácia no Training Batch:  78.1%\n",
            "Global Step:  60500, Acurácia no Training Batch:  76.6%\n",
            "Global Step:  60600, Acurácia no Training Batch:  84.4%\n",
            "Global Step:  60700, Acurácia no Training Batch:  82.8%\n",
            "Global Step:  60800, Acurácia no Training Batch:  68.8%\n",
            "Global Step:  60900, Acurácia no Training Batch:  82.8%\n",
            "Global Step:  61000, Acurácia no Training Batch:  79.7%\n",
            "Checkpoint Salvo.\n",
            "Global Step:  61100, Acurácia no Training Batch:  85.9%\n",
            "Global Step:  61200, Acurácia no Training Batch:  78.1%\n",
            "Global Step:  61300, Acurácia no Training Batch:  82.8%\n",
            "Global Step:  61400, Acurácia no Training Batch:  71.9%\n",
            "Global Step:  61500, Acurácia no Training Batch:  84.4%\n",
            "Global Step:  61600, Acurácia no Training Batch:  79.7%\n",
            "Global Step:  61700, Acurácia no Training Batch:  79.7%\n",
            "Global Step:  61800, Acurácia no Training Batch:  71.9%\n",
            "Global Step:  61900, Acurácia no Training Batch:  84.4%\n",
            "Global Step:  62000, Acurácia no Training Batch:  78.1%\n",
            "Checkpoint Salvo.\n",
            "Global Step:  62100, Acurácia no Training Batch:  85.9%\n",
            "Global Step:  62200, Acurácia no Training Batch:  81.2%\n",
            "Global Step:  62300, Acurácia no Training Batch:  85.9%\n",
            "Global Step:  62400, Acurácia no Training Batch:  76.6%\n",
            "Global Step:  62500, Acurácia no Training Batch:  71.9%\n",
            "Global Step:  62600, Acurácia no Training Batch:  81.2%\n",
            "Global Step:  62700, Acurácia no Training Batch:  78.1%\n",
            "Global Step:  62800, Acurácia no Training Batch:  81.2%\n",
            "Global Step:  62900, Acurácia no Training Batch:  89.1%\n",
            "Global Step:  63000, Acurácia no Training Batch:  78.1%\n",
            "Checkpoint Salvo.\n",
            "Global Step:  63100, Acurácia no Training Batch:  75.0%\n",
            "Global Step:  63200, Acurácia no Training Batch:  75.0%\n",
            "Global Step:  63300, Acurácia no Training Batch:  85.9%\n",
            "Global Step:  63400, Acurácia no Training Batch:  82.8%\n",
            "Global Step:  63500, Acurácia no Training Batch:  75.0%\n",
            "Global Step:  63600, Acurácia no Training Batch:  82.8%\n",
            "Global Step:  63700, Acurácia no Training Batch:  79.7%\n",
            "Global Step:  63800, Acurácia no Training Batch:  71.9%\n",
            "Global Step:  63900, Acurácia no Training Batch:  85.9%\n",
            "Global Step:  64000, Acurácia no Training Batch:  87.5%\n",
            "Checkpoint Salvo.\n",
            "Global Step:  64100, Acurácia no Training Batch:  87.5%\n",
            "Global Step:  64200, Acurácia no Training Batch:  79.7%\n",
            "Global Step:  64300, Acurácia no Training Batch:  79.7%\n",
            "Global Step:  64400, Acurácia no Training Batch:  84.4%\n",
            "Global Step:  64500, Acurácia no Training Batch:  84.4%\n",
            "Global Step:  64600, Acurácia no Training Batch:  89.1%\n",
            "Global Step:  64700, Acurácia no Training Batch:  84.4%\n",
            "Global Step:  64800, Acurácia no Training Batch:  89.1%\n",
            "Global Step:  64900, Acurácia no Training Batch:  87.5%\n",
            "Global Step:  65000, Acurácia no Training Batch:  84.4%\n",
            "Checkpoint Salvo.\n",
            "Global Step:  65100, Acurácia no Training Batch:  85.9%\n",
            "Global Step:  65200, Acurácia no Training Batch:  87.5%\n",
            "Global Step:  65300, Acurácia no Training Batch:  82.8%\n",
            "Global Step:  65400, Acurácia no Training Batch:  79.7%\n",
            "Global Step:  65500, Acurácia no Training Batch:  84.4%\n",
            "Global Step:  65600, Acurácia no Training Batch:  84.4%\n",
            "Global Step:  65700, Acurácia no Training Batch:  87.5%\n",
            "Global Step:  65800, Acurácia no Training Batch:  81.2%\n",
            "Global Step:  65900, Acurácia no Training Batch:  82.8%\n",
            "Global Step:  66000, Acurácia no Training Batch:  79.7%\n",
            "Checkpoint Salvo.\n",
            "Global Step:  66100, Acurácia no Training Batch:  73.4%\n",
            "Global Step:  66200, Acurácia no Training Batch:  87.5%\n",
            "Global Step:  66300, Acurácia no Training Batch:  84.4%\n",
            "Global Step:  66400, Acurácia no Training Batch:  90.6%\n",
            "Global Step:  66500, Acurácia no Training Batch:  85.9%\n",
            "Global Step:  66600, Acurácia no Training Batch:  85.9%\n",
            "Global Step:  66700, Acurácia no Training Batch:  92.2%\n",
            "Global Step:  66800, Acurácia no Training Batch:  79.7%\n",
            "Global Step:  66900, Acurácia no Training Batch:  76.6%\n",
            "Global Step:  67000, Acurácia no Training Batch:  84.4%\n",
            "Checkpoint Salvo.\n",
            "Global Step:  67100, Acurácia no Training Batch:  81.2%\n",
            "Global Step:  67200, Acurácia no Training Batch:  78.1%\n",
            "Global Step:  67300, Acurácia no Training Batch:  79.7%\n",
            "Global Step:  67400, Acurácia no Training Batch:  84.4%\n",
            "Global Step:  67500, Acurácia no Training Batch:  79.7%\n",
            "Global Step:  67600, Acurácia no Training Batch:  73.4%\n",
            "Global Step:  67700, Acurácia no Training Batch:  79.7%\n",
            "Global Step:  67800, Acurácia no Training Batch:  75.0%\n",
            "Global Step:  67900, Acurácia no Training Batch:  79.7%\n",
            "Global Step:  68000, Acurácia no Training Batch:  79.7%\n",
            "Checkpoint Salvo.\n",
            "Global Step:  68100, Acurácia no Training Batch:  85.9%\n",
            "Global Step:  68200, Acurácia no Training Batch:  84.4%\n",
            "Global Step:  68300, Acurácia no Training Batch:  81.2%\n",
            "Global Step:  68400, Acurácia no Training Batch:  82.8%\n",
            "Global Step:  68500, Acurácia no Training Batch:  76.6%\n",
            "Global Step:  68600, Acurácia no Training Batch:  84.4%\n",
            "Global Step:  68700, Acurácia no Training Batch:  79.7%\n",
            "Global Step:  68800, Acurácia no Training Batch:  78.1%\n",
            "Global Step:  68900, Acurácia no Training Batch:  82.8%\n",
            "Global Step:  69000, Acurácia no Training Batch:  87.5%\n",
            "Checkpoint Salvo.\n",
            "Global Step:  69100, Acurácia no Training Batch:  84.4%\n",
            "Global Step:  69200, Acurácia no Training Batch:  84.4%\n",
            "Global Step:  69300, Acurácia no Training Batch:  76.6%\n",
            "Global Step:  69400, Acurácia no Training Batch:  89.1%\n",
            "Global Step:  69500, Acurácia no Training Batch:  78.1%\n",
            "Global Step:  69600, Acurácia no Training Batch:  87.5%\n",
            "Global Step:  69700, Acurácia no Training Batch:  84.4%\n",
            "Global Step:  69800, Acurácia no Training Batch:  79.7%\n",
            "Global Step:  69900, Acurácia no Training Batch:  79.7%\n",
            "Global Step:  70000, Acurácia no Training Batch:  84.4%\n",
            "Checkpoint Salvo.\n",
            "Global Step:  70100, Acurácia no Training Batch:  87.5%\n",
            "Global Step:  70200, Acurácia no Training Batch:  92.2%\n",
            "Global Step:  70300, Acurácia no Training Batch:  85.9%\n",
            "Global Step:  70400, Acurácia no Training Batch:  76.6%\n",
            "Global Step:  70500, Acurácia no Training Batch:  82.8%\n",
            "Global Step:  70600, Acurácia no Training Batch:  82.8%\n",
            "Global Step:  70700, Acurácia no Training Batch:  87.5%\n",
            "Global Step:  70800, Acurácia no Training Batch:  82.8%\n",
            "Global Step:  70900, Acurácia no Training Batch:  81.2%\n",
            "Global Step:  71000, Acurácia no Training Batch:  92.2%\n",
            "Checkpoint Salvo.\n"
          ],
          "name": "stdout"
        },
        {
          "output_type": "stream",
          "text": [
            "Global Step:  71100, Acurácia no Training Batch:  85.9%\n",
            "Global Step:  71200, Acurácia no Training Batch:  75.0%\n",
            "Global Step:  71300, Acurácia no Training Batch:  89.1%\n",
            "Global Step:  71400, Acurácia no Training Batch:  92.2%\n",
            "Global Step:  71500, Acurácia no Training Batch:  71.9%\n",
            "Global Step:  71600, Acurácia no Training Batch:  78.1%\n",
            "Global Step:  71700, Acurácia no Training Batch:  76.6%\n",
            "Global Step:  71800, Acurácia no Training Batch:  87.5%\n",
            "Global Step:  71900, Acurácia no Training Batch:  82.8%\n",
            "Global Step:  72000, Acurácia no Training Batch:  85.9%\n",
            "Checkpoint Salvo.\n",
            "Global Step:  72100, Acurácia no Training Batch:  87.5%\n",
            "Global Step:  72200, Acurácia no Training Batch:  84.4%\n",
            "Global Step:  72300, Acurácia no Training Batch:  79.7%\n",
            "Global Step:  72400, Acurácia no Training Batch:  82.8%\n",
            "Global Step:  72500, Acurácia no Training Batch:  87.5%\n",
            "Global Step:  72600, Acurácia no Training Batch:  79.7%\n",
            "Global Step:  72700, Acurácia no Training Batch:  78.1%\n",
            "Global Step:  72800, Acurácia no Training Batch:  90.6%\n",
            "Global Step:  72900, Acurácia no Training Batch:  84.4%\n",
            "Global Step:  73000, Acurácia no Training Batch:  78.1%\n",
            "Checkpoint Salvo.\n",
            "Global Step:  73100, Acurácia no Training Batch:  89.1%\n",
            "Global Step:  73200, Acurácia no Training Batch:  78.1%\n",
            "Global Step:  73300, Acurácia no Training Batch:  84.4%\n",
            "Global Step:  73400, Acurácia no Training Batch:  82.8%\n",
            "Global Step:  73500, Acurácia no Training Batch:  84.4%\n",
            "Global Step:  73600, Acurácia no Training Batch:  85.9%\n",
            "Global Step:  73700, Acurácia no Training Batch:  84.4%\n",
            "Global Step:  73800, Acurácia no Training Batch:  78.1%\n",
            "Global Step:  73900, Acurácia no Training Batch:  81.2%\n",
            "Global Step:  74000, Acurácia no Training Batch:  78.1%\n",
            "Checkpoint Salvo.\n",
            "Global Step:  74100, Acurácia no Training Batch:  81.2%\n",
            "Global Step:  74200, Acurácia no Training Batch:  84.4%\n",
            "Global Step:  74300, Acurácia no Training Batch:  81.2%\n",
            "Global Step:  74400, Acurácia no Training Batch:  75.0%\n",
            "Global Step:  74500, Acurácia no Training Batch:  85.9%\n",
            "Global Step:  74600, Acurácia no Training Batch:  76.6%\n",
            "Global Step:  74700, Acurácia no Training Batch:  87.5%\n",
            "Global Step:  74800, Acurácia no Training Batch:  81.2%\n",
            "Global Step:  74900, Acurácia no Training Batch:  87.5%\n",
            "Global Step:  75000, Acurácia no Training Batch:  79.7%\n",
            "Checkpoint Salvo.\n",
            "Global Step:  75100, Acurácia no Training Batch:  84.4%\n",
            "Global Step:  75200, Acurácia no Training Batch:  79.7%\n",
            "Global Step:  75300, Acurácia no Training Batch:  89.1%\n",
            "Global Step:  75400, Acurácia no Training Batch:  89.1%\n",
            "Global Step:  75500, Acurácia no Training Batch:  75.0%\n",
            "Global Step:  75600, Acurácia no Training Batch:  89.1%\n",
            "Global Step:  75700, Acurácia no Training Batch:  73.4%\n",
            "Global Step:  75800, Acurácia no Training Batch:  79.7%\n",
            "Global Step:  75900, Acurácia no Training Batch:  84.4%\n",
            "Global Step:  76000, Acurácia no Training Batch:  81.2%\n",
            "Checkpoint Salvo.\n",
            "Global Step:  76100, Acurácia no Training Batch:  85.9%\n",
            "Global Step:  76200, Acurácia no Training Batch:  79.7%\n",
            "Global Step:  76300, Acurácia no Training Batch:  78.1%\n",
            "Global Step:  76400, Acurácia no Training Batch:  81.2%\n",
            "Global Step:  76500, Acurácia no Training Batch:  85.9%\n",
            "Global Step:  76600, Acurácia no Training Batch:  87.5%\n",
            "Global Step:  76700, Acurácia no Training Batch:  78.1%\n",
            "Global Step:  76800, Acurácia no Training Batch:  84.4%\n",
            "Global Step:  76900, Acurácia no Training Batch:  82.8%\n",
            "Global Step:  77000, Acurácia no Training Batch:  79.7%\n",
            "Checkpoint Salvo.\n",
            "Global Step:  77100, Acurácia no Training Batch:  92.2%\n",
            "Global Step:  77200, Acurácia no Training Batch:  84.4%\n",
            "Global Step:  77300, Acurácia no Training Batch:  89.1%\n",
            "Global Step:  77400, Acurácia no Training Batch:  76.6%\n",
            "Global Step:  77500, Acurácia no Training Batch:  75.0%\n",
            "Global Step:  77600, Acurácia no Training Batch:  76.6%\n",
            "Global Step:  77700, Acurácia no Training Batch:  85.9%\n",
            "Global Step:  77800, Acurácia no Training Batch:  79.7%\n",
            "Global Step:  77900, Acurácia no Training Batch:  84.4%\n",
            "Global Step:  78000, Acurácia no Training Batch:  90.6%\n",
            "Checkpoint Salvo.\n",
            "Global Step:  78100, Acurácia no Training Batch:  82.8%\n",
            "Global Step:  78200, Acurácia no Training Batch:  84.4%\n",
            "Global Step:  78300, Acurácia no Training Batch:  84.4%\n",
            "Global Step:  78400, Acurácia no Training Batch:  87.5%\n",
            "Global Step:  78500, Acurácia no Training Batch:  89.1%\n",
            "Global Step:  78600, Acurácia no Training Batch:  73.4%\n",
            "Global Step:  78700, Acurácia no Training Batch:  82.8%\n",
            "Global Step:  78800, Acurácia no Training Batch:  81.2%\n",
            "Global Step:  78900, Acurácia no Training Batch:  81.2%\n",
            "Global Step:  79000, Acurácia no Training Batch:  84.4%\n",
            "Checkpoint Salvo.\n",
            "Global Step:  79100, Acurácia no Training Batch:  84.4%\n",
            "Global Step:  79200, Acurácia no Training Batch:  73.4%\n",
            "Global Step:  79300, Acurácia no Training Batch:  84.4%\n",
            "Global Step:  79400, Acurácia no Training Batch:  79.7%\n",
            "Global Step:  79500, Acurácia no Training Batch:  81.2%\n",
            "Global Step:  79600, Acurácia no Training Batch:  85.9%\n",
            "Global Step:  79700, Acurácia no Training Batch:  85.9%\n",
            "Global Step:  79800, Acurácia no Training Batch:  85.9%\n",
            "Global Step:  79900, Acurácia no Training Batch:  87.5%\n",
            "Global Step:  80000, Acurácia no Training Batch:  87.5%\n",
            "Checkpoint Salvo.\n",
            "Global Step:  80100, Acurácia no Training Batch:  82.8%\n",
            "Global Step:  80200, Acurácia no Training Batch:  78.1%\n",
            "Global Step:  80300, Acurácia no Training Batch:  90.6%\n",
            "Global Step:  80400, Acurácia no Training Batch:  89.1%\n",
            "Global Step:  80500, Acurácia no Training Batch:  89.1%\n",
            "Global Step:  80600, Acurácia no Training Batch:  76.6%\n",
            "Global Step:  80700, Acurácia no Training Batch:  75.0%\n",
            "Global Step:  80800, Acurácia no Training Batch:  82.8%\n",
            "Global Step:  80900, Acurácia no Training Batch:  89.1%\n",
            "Global Step:  81000, Acurácia no Training Batch:  84.4%\n",
            "Checkpoint Salvo.\n",
            "Global Step:  81100, Acurácia no Training Batch:  82.8%\n",
            "Global Step:  81200, Acurácia no Training Batch:  78.1%\n",
            "Global Step:  81300, Acurácia no Training Batch:  84.4%\n",
            "Global Step:  81400, Acurácia no Training Batch:  79.7%\n",
            "Global Step:  81500, Acurácia no Training Batch:  78.1%\n",
            "Global Step:  81600, Acurácia no Training Batch:  92.2%\n",
            "Global Step:  81700, Acurácia no Training Batch:  89.1%\n",
            "Global Step:  81800, Acurácia no Training Batch:  81.2%\n",
            "Global Step:  81900, Acurácia no Training Batch:  84.4%\n",
            "Global Step:  82000, Acurácia no Training Batch:  81.2%\n",
            "Checkpoint Salvo.\n",
            "Global Step:  82100, Acurácia no Training Batch:  79.7%\n",
            "Global Step:  82200, Acurácia no Training Batch:  81.2%\n",
            "Global Step:  82300, Acurácia no Training Batch:  78.1%\n",
            "Global Step:  82400, Acurácia no Training Batch:  85.9%\n",
            "Global Step:  82500, Acurácia no Training Batch:  84.4%\n",
            "Global Step:  82600, Acurácia no Training Batch:  93.8%\n",
            "Global Step:  82700, Acurácia no Training Batch:  84.4%\n",
            "Global Step:  82800, Acurácia no Training Batch:  93.8%\n",
            "Global Step:  82900, Acurácia no Training Batch:  84.4%\n",
            "Global Step:  83000, Acurácia no Training Batch:  95.3%\n",
            "Checkpoint Salvo.\n",
            "Global Step:  83100, Acurácia no Training Batch:  90.6%\n",
            "Global Step:  83200, Acurácia no Training Batch:  78.1%\n",
            "Global Step:  83300, Acurácia no Training Batch:  92.2%\n",
            "Global Step:  83400, Acurácia no Training Batch:  82.8%\n",
            "Global Step:  83500, Acurácia no Training Batch:  89.1%\n",
            "Global Step:  83600, Acurácia no Training Batch:  79.7%\n",
            "Global Step:  83700, Acurácia no Training Batch:  78.1%\n",
            "Global Step:  83800, Acurácia no Training Batch:  84.4%\n",
            "Global Step:  83900, Acurácia no Training Batch:  87.5%\n",
            "Global Step:  84000, Acurácia no Training Batch:  81.2%\n",
            "Checkpoint Salvo.\n",
            "Global Step:  84100, Acurácia no Training Batch:  76.6%\n",
            "Global Step:  84200, Acurácia no Training Batch:  82.8%\n",
            "Global Step:  84300, Acurácia no Training Batch:  84.4%\n",
            "Global Step:  84400, Acurácia no Training Batch:  84.4%\n",
            "Global Step:  84500, Acurácia no Training Batch:  90.6%\n",
            "Global Step:  84600, Acurácia no Training Batch:  81.2%\n",
            "Global Step:  84700, Acurácia no Training Batch:  79.7%\n",
            "Global Step:  84800, Acurácia no Training Batch:  85.9%\n",
            "Global Step:  84900, Acurácia no Training Batch:  79.7%\n",
            "Global Step:  85000, Acurácia no Training Batch:  75.0%\n",
            "Checkpoint Salvo.\n",
            "Global Step:  85100, Acurácia no Training Batch:  81.2%\n",
            "Global Step:  85200, Acurácia no Training Batch:  92.2%\n"
          ],
          "name": "stdout"
        },
        {
          "output_type": "stream",
          "text": [
            "Global Step:  85300, Acurácia no Training Batch:  81.2%\n",
            "Global Step:  85400, Acurácia no Training Batch:  84.4%\n",
            "Global Step:  85500, Acurácia no Training Batch:  84.4%\n",
            "Global Step:  85600, Acurácia no Training Batch:  85.9%\n",
            "Global Step:  85700, Acurácia no Training Batch:  81.2%\n",
            "Global Step:  85800, Acurácia no Training Batch:  89.1%\n",
            "Global Step:  85900, Acurácia no Training Batch:  79.7%\n",
            "Global Step:  86000, Acurácia no Training Batch:  81.2%\n",
            "Checkpoint Salvo.\n",
            "Global Step:  86100, Acurácia no Training Batch:  81.2%\n",
            "Global Step:  86200, Acurácia no Training Batch:  76.6%\n",
            "Global Step:  86300, Acurácia no Training Batch:  87.5%\n",
            "Global Step:  86400, Acurácia no Training Batch:  84.4%\n",
            "Global Step:  86500, Acurácia no Training Batch:  89.1%\n",
            "Global Step:  86600, Acurácia no Training Batch:  75.0%\n",
            "Global Step:  86700, Acurácia no Training Batch:  82.8%\n",
            "Global Step:  86800, Acurácia no Training Batch:  89.1%\n",
            "Global Step:  86900, Acurácia no Training Batch:  79.7%\n",
            "Global Step:  87000, Acurácia no Training Batch:  85.9%\n",
            "Checkpoint Salvo.\n",
            "Global Step:  87100, Acurácia no Training Batch:  78.1%\n",
            "Global Step:  87200, Acurácia no Training Batch:  89.1%\n",
            "Global Step:  87300, Acurácia no Training Batch:  82.8%\n",
            "Global Step:  87400, Acurácia no Training Batch:  84.4%\n",
            "Global Step:  87500, Acurácia no Training Batch:  90.6%\n",
            "Global Step:  87600, Acurácia no Training Batch:  84.4%\n",
            "Global Step:  87700, Acurácia no Training Batch:  87.5%\n",
            "Global Step:  87800, Acurácia no Training Batch:  82.8%\n",
            "Global Step:  87900, Acurácia no Training Batch:  82.8%\n",
            "Global Step:  88000, Acurácia no Training Batch:  85.9%\n",
            "Checkpoint Salvo.\n",
            "Global Step:  88100, Acurácia no Training Batch:  79.7%\n",
            "Global Step:  88200, Acurácia no Training Batch:  85.9%\n",
            "Global Step:  88300, Acurácia no Training Batch:  87.5%\n",
            "Global Step:  88400, Acurácia no Training Batch:  82.8%\n",
            "Global Step:  88500, Acurácia no Training Batch:  78.1%\n",
            "Global Step:  88600, Acurácia no Training Batch:  81.2%\n",
            "Global Step:  88700, Acurácia no Training Batch:  79.7%\n",
            "Global Step:  88800, Acurácia no Training Batch:  85.9%\n",
            "Global Step:  88900, Acurácia no Training Batch:  76.6%\n",
            "Global Step:  89000, Acurácia no Training Batch:  87.5%\n",
            "Checkpoint Salvo.\n",
            "Global Step:  89100, Acurácia no Training Batch:  85.9%\n",
            "Global Step:  89200, Acurácia no Training Batch:  85.9%\n",
            "Global Step:  89300, Acurácia no Training Batch:  78.1%\n",
            "Global Step:  89400, Acurácia no Training Batch:  84.4%\n",
            "Global Step:  89500, Acurácia no Training Batch:  90.6%\n",
            "Global Step:  89600, Acurácia no Training Batch:  82.8%\n",
            "Global Step:  89700, Acurácia no Training Batch:  81.2%\n",
            "Global Step:  89800, Acurácia no Training Batch:  89.1%\n",
            "Global Step:  89900, Acurácia no Training Batch:  90.6%\n",
            "Global Step:  90000, Acurácia no Training Batch:  85.9%\n",
            "Checkpoint Salvo.\n",
            "Global Step:  90100, Acurácia no Training Batch:  82.8%\n",
            "Global Step:  90200, Acurácia no Training Batch:  84.4%\n",
            "Global Step:  90300, Acurácia no Training Batch:  84.4%\n",
            "Global Step:  90400, Acurácia no Training Batch:  82.8%\n",
            "Global Step:  90500, Acurácia no Training Batch:  79.7%\n",
            "Global Step:  90600, Acurácia no Training Batch:  76.6%\n",
            "Global Step:  90700, Acurácia no Training Batch:  84.4%\n",
            "Global Step:  90800, Acurácia no Training Batch:  82.8%\n",
            "Global Step:  90900, Acurácia no Training Batch:  87.5%\n",
            "Global Step:  91000, Acurácia no Training Batch:  82.8%\n",
            "Checkpoint Salvo.\n",
            "Global Step:  91100, Acurácia no Training Batch:  90.6%\n",
            "Global Step:  91200, Acurácia no Training Batch:  81.2%\n",
            "Global Step:  91300, Acurácia no Training Batch:  81.2%\n",
            "Global Step:  91400, Acurácia no Training Batch:  79.7%\n",
            "Global Step:  91500, Acurácia no Training Batch:  84.4%\n",
            "Global Step:  91600, Acurácia no Training Batch:  82.8%\n",
            "Global Step:  91700, Acurácia no Training Batch:  85.9%\n",
            "Global Step:  91800, Acurácia no Training Batch:  81.2%\n",
            "Global Step:  91900, Acurácia no Training Batch:  82.8%\n",
            "Global Step:  92000, Acurácia no Training Batch:  84.4%\n",
            "Checkpoint Salvo.\n",
            "Global Step:  92100, Acurácia no Training Batch:  78.1%\n",
            "Global Step:  92200, Acurácia no Training Batch:  87.5%\n",
            "Global Step:  92300, Acurácia no Training Batch:  89.1%\n",
            "Global Step:  92400, Acurácia no Training Batch:  78.1%\n",
            "Global Step:  92500, Acurácia no Training Batch:  81.2%\n",
            "Global Step:  92600, Acurácia no Training Batch:  78.1%\n",
            "Global Step:  92700, Acurácia no Training Batch:  78.1%\n",
            "Global Step:  92800, Acurácia no Training Batch:  81.2%\n",
            "Global Step:  92900, Acurácia no Training Batch:  85.9%\n",
            "Global Step:  93000, Acurácia no Training Batch:  89.1%\n",
            "Checkpoint Salvo.\n",
            "Global Step:  93100, Acurácia no Training Batch:  82.8%\n",
            "Global Step:  93200, Acurácia no Training Batch:  84.4%\n",
            "Global Step:  93300, Acurácia no Training Batch:  81.2%\n",
            "Global Step:  93400, Acurácia no Training Batch:  85.9%\n",
            "Global Step:  93500, Acurácia no Training Batch:  84.4%\n",
            "Global Step:  93600, Acurácia no Training Batch:  85.9%\n",
            "Global Step:  93700, Acurácia no Training Batch:  85.9%\n",
            "Global Step:  93800, Acurácia no Training Batch:  79.7%\n",
            "Global Step:  93900, Acurácia no Training Batch:  85.9%\n",
            "Global Step:  94000, Acurácia no Training Batch:  92.2%\n",
            "Checkpoint Salvo.\n",
            "Global Step:  94100, Acurácia no Training Batch:  71.9%\n",
            "Global Step:  94200, Acurácia no Training Batch:  90.6%\n",
            "Global Step:  94300, Acurácia no Training Batch:  92.2%\n",
            "Global Step:  94400, Acurácia no Training Batch:  93.8%\n",
            "Global Step:  94500, Acurácia no Training Batch:  85.9%\n",
            "Global Step:  94600, Acurácia no Training Batch:  89.1%\n",
            "Global Step:  94700, Acurácia no Training Batch:  78.1%\n",
            "Global Step:  94800, Acurácia no Training Batch:  81.2%\n",
            "Global Step:  94900, Acurácia no Training Batch:  75.0%\n",
            "Global Step:  95000, Acurácia no Training Batch:  87.5%\n",
            "Checkpoint Salvo.\n",
            "Global Step:  95100, Acurácia no Training Batch:  87.5%\n",
            "Global Step:  95200, Acurácia no Training Batch:  81.2%\n",
            "Global Step:  95300, Acurácia no Training Batch:  85.9%\n",
            "Global Step:  95400, Acurácia no Training Batch:  89.1%\n",
            "Global Step:  95500, Acurácia no Training Batch:  93.8%\n",
            "Global Step:  95600, Acurácia no Training Batch:  75.0%\n",
            "Global Step:  95700, Acurácia no Training Batch:  90.6%\n",
            "Global Step:  95800, Acurácia no Training Batch:  87.5%\n",
            "Global Step:  95900, Acurácia no Training Batch:  78.1%\n",
            "Global Step:  96000, Acurácia no Training Batch:  87.5%\n",
            "Checkpoint Salvo.\n",
            "Global Step:  96100, Acurácia no Training Batch:  84.4%\n",
            "Global Step:  96200, Acurácia no Training Batch:  82.8%\n",
            "Global Step:  96300, Acurácia no Training Batch:  89.1%\n",
            "Global Step:  96400, Acurácia no Training Batch:  79.7%\n",
            "Global Step:  96500, Acurácia no Training Batch:  90.6%\n",
            "Global Step:  96600, Acurácia no Training Batch:  84.4%\n",
            "Global Step:  96700, Acurácia no Training Batch:  85.9%\n",
            "Global Step:  96800, Acurácia no Training Batch:  79.7%\n",
            "Global Step:  96900, Acurácia no Training Batch:  85.9%\n",
            "Global Step:  97000, Acurácia no Training Batch:  84.4%\n",
            "Checkpoint Salvo.\n",
            "Global Step:  97100, Acurácia no Training Batch:  87.5%\n",
            "Global Step:  97200, Acurácia no Training Batch:  89.1%\n",
            "Global Step:  97300, Acurácia no Training Batch:  84.4%\n",
            "Global Step:  97400, Acurácia no Training Batch:  81.2%\n",
            "Global Step:  97500, Acurácia no Training Batch:  90.6%\n",
            "Global Step:  97600, Acurácia no Training Batch:  87.5%\n",
            "Global Step:  97700, Acurácia no Training Batch:  81.2%\n",
            "Global Step:  97800, Acurácia no Training Batch:  85.9%\n",
            "Global Step:  97900, Acurácia no Training Batch:  82.8%\n",
            "Global Step:  98000, Acurácia no Training Batch:  89.1%\n",
            "Checkpoint Salvo.\n",
            "Global Step:  98100, Acurácia no Training Batch:  84.4%\n",
            "Global Step:  98200, Acurácia no Training Batch:  89.1%\n",
            "Global Step:  98300, Acurácia no Training Batch:  75.0%\n",
            "Global Step:  98400, Acurácia no Training Batch:  89.1%\n",
            "Global Step:  98500, Acurácia no Training Batch:  85.9%\n",
            "Global Step:  98600, Acurácia no Training Batch:  84.4%\n",
            "Global Step:  98700, Acurácia no Training Batch:  85.9%\n",
            "Global Step:  98800, Acurácia no Training Batch:  79.7%\n",
            "Global Step:  98900, Acurácia no Training Batch:  87.5%\n",
            "Global Step:  99000, Acurácia no Training Batch:  81.2%\n",
            "Checkpoint Salvo.\n",
            "Global Step:  99100, Acurácia no Training Batch:  84.4%\n",
            "Global Step:  99200, Acurácia no Training Batch:  79.7%\n",
            "Global Step:  99300, Acurácia no Training Batch:  92.2%\n",
            "Global Step:  99400, Acurácia no Training Batch:  85.9%\n"
          ],
          "name": "stdout"
        },
        {
          "output_type": "stream",
          "text": [
            "Global Step:  99500, Acurácia no Training Batch:  85.9%\n",
            "Global Step:  99600, Acurácia no Training Batch:  78.1%\n",
            "Global Step:  99700, Acurácia no Training Batch:  84.4%\n",
            "Global Step:  99800, Acurácia no Training Batch:  85.9%\n",
            "Global Step:  99900, Acurácia no Training Batch:  85.9%\n",
            "Global Step: 100000, Acurácia no Training Batch:  89.1%\n",
            "Checkpoint Salvo.\n",
            "Global Step: 100100, Acurácia no Training Batch:  76.6%\n",
            "Global Step: 100200, Acurácia no Training Batch:  85.9%\n",
            "Global Step: 100300, Acurácia no Training Batch:  92.2%\n",
            "Global Step: 100400, Acurácia no Training Batch:  82.8%\n",
            "Global Step: 100500, Acurácia no Training Batch:  84.4%\n",
            "Global Step: 100600, Acurácia no Training Batch:  84.4%\n",
            "Global Step: 100700, Acurácia no Training Batch:  78.1%\n",
            "Global Step: 100800, Acurácia no Training Batch:  82.8%\n",
            "Global Step: 100900, Acurácia no Training Batch:  90.6%\n",
            "Global Step: 101000, Acurácia no Training Batch:  81.2%\n",
            "Checkpoint Salvo.\n",
            "Global Step: 101100, Acurácia no Training Batch:  81.2%\n",
            "Global Step: 101200, Acurácia no Training Batch:  92.2%\n",
            "Global Step: 101300, Acurácia no Training Batch:  81.2%\n",
            "Global Step: 101400, Acurácia no Training Batch:  84.4%\n",
            "Global Step: 101500, Acurácia no Training Batch:  84.4%\n",
            "Global Step: 101600, Acurácia no Training Batch:  85.9%\n",
            "Global Step: 101700, Acurácia no Training Batch:  85.9%\n",
            "Global Step: 101800, Acurácia no Training Batch:  82.8%\n",
            "Global Step: 101900, Acurácia no Training Batch:  79.7%\n",
            "Global Step: 102000, Acurácia no Training Batch:  92.2%\n",
            "Checkpoint Salvo.\n",
            "Global Step: 102100, Acurácia no Training Batch:  89.1%\n",
            "Global Step: 102200, Acurácia no Training Batch:  85.9%\n",
            "Global Step: 102300, Acurácia no Training Batch:  87.5%\n",
            "Global Step: 102400, Acurácia no Training Batch:  76.6%\n",
            "Global Step: 102500, Acurácia no Training Batch:  85.9%\n",
            "Global Step: 102600, Acurácia no Training Batch:  90.6%\n",
            "Global Step: 102700, Acurácia no Training Batch:  85.9%\n",
            "Global Step: 102800, Acurácia no Training Batch:  90.6%\n",
            "Global Step: 102900, Acurácia no Training Batch:  84.4%\n",
            "Global Step: 103000, Acurácia no Training Batch:  87.5%\n",
            "Checkpoint Salvo.\n",
            "Global Step: 103100, Acurácia no Training Batch:  92.2%\n",
            "Global Step: 103200, Acurácia no Training Batch:  82.8%\n",
            "Global Step: 103300, Acurácia no Training Batch:  90.6%\n",
            "Global Step: 103400, Acurácia no Training Batch:  81.2%\n",
            "Global Step: 103500, Acurácia no Training Batch:  93.8%\n",
            "Global Step: 103600, Acurácia no Training Batch:  87.5%\n",
            "Global Step: 103700, Acurácia no Training Batch:  85.9%\n",
            "Global Step: 103800, Acurácia no Training Batch:  84.4%\n",
            "Global Step: 103900, Acurácia no Training Batch:  82.8%\n",
            "Global Step: 104000, Acurácia no Training Batch:  89.1%\n",
            "Checkpoint Salvo.\n",
            "Global Step: 104100, Acurácia no Training Batch:  92.2%\n",
            "Global Step: 104200, Acurácia no Training Batch:  84.4%\n",
            "Global Step: 104300, Acurácia no Training Batch:  84.4%\n",
            "Global Step: 104400, Acurácia no Training Batch:  85.9%\n",
            "Global Step: 104500, Acurácia no Training Batch:  90.6%\n",
            "Global Step: 104600, Acurácia no Training Batch:  90.6%\n",
            "Global Step: 104700, Acurácia no Training Batch:  92.2%\n",
            "Global Step: 104800, Acurácia no Training Batch:  82.8%\n",
            "Global Step: 104900, Acurácia no Training Batch:  85.9%\n",
            "Global Step: 105000, Acurácia no Training Batch:  89.1%\n",
            "Checkpoint Salvo.\n",
            "Global Step: 105100, Acurácia no Training Batch:  90.6%\n",
            "Global Step: 105200, Acurácia no Training Batch:  81.2%\n",
            "Global Step: 105300, Acurácia no Training Batch:  87.5%\n",
            "Global Step: 105400, Acurácia no Training Batch:  85.9%\n",
            "Global Step: 105500, Acurácia no Training Batch:  87.5%\n",
            "Global Step: 105600, Acurácia no Training Batch:  85.9%\n",
            "Global Step: 105700, Acurácia no Training Batch:  84.4%\n",
            "Global Step: 105800, Acurácia no Training Batch:  85.9%\n",
            "Global Step: 105900, Acurácia no Training Batch:  85.9%\n",
            "Global Step: 106000, Acurácia no Training Batch:  82.8%\n",
            "Checkpoint Salvo.\n",
            "Global Step: 106100, Acurácia no Training Batch:  87.5%\n",
            "Global Step: 106200, Acurácia no Training Batch:  81.2%\n",
            "Global Step: 106300, Acurácia no Training Batch:  87.5%\n",
            "Global Step: 106400, Acurácia no Training Batch:  93.8%\n",
            "Global Step: 106500, Acurácia no Training Batch:  89.1%\n",
            "Global Step: 106600, Acurácia no Training Batch:  81.2%\n",
            "Global Step: 106700, Acurácia no Training Batch:  87.5%\n",
            "Global Step: 106800, Acurácia no Training Batch:  79.7%\n",
            "Global Step: 106900, Acurácia no Training Batch:  81.2%\n",
            "Global Step: 107000, Acurácia no Training Batch:  93.8%\n",
            "Checkpoint Salvo.\n",
            "Global Step: 107100, Acurácia no Training Batch:  85.9%\n",
            "Global Step: 107200, Acurácia no Training Batch:  84.4%\n",
            "Global Step: 107300, Acurácia no Training Batch:  87.5%\n",
            "Global Step: 107400, Acurácia no Training Batch:  78.1%\n",
            "Global Step: 107500, Acurácia no Training Batch:  87.5%\n",
            "Global Step: 107600, Acurácia no Training Batch:  87.5%\n",
            "Global Step: 107700, Acurácia no Training Batch:  84.4%\n",
            "Global Step: 107800, Acurácia no Training Batch:  89.1%\n",
            "Global Step: 107900, Acurácia no Training Batch:  79.7%\n",
            "Global Step: 108000, Acurácia no Training Batch:  85.9%\n",
            "Checkpoint Salvo.\n",
            "Global Step: 108100, Acurácia no Training Batch:  82.8%\n",
            "Global Step: 108200, Acurácia no Training Batch:  76.6%\n",
            "Global Step: 108300, Acurácia no Training Batch:  89.1%\n",
            "Global Step: 108400, Acurácia no Training Batch:  75.0%\n",
            "Global Step: 108500, Acurácia no Training Batch:  79.7%\n",
            "Global Step: 108600, Acurácia no Training Batch:  89.1%\n",
            "Global Step: 108700, Acurácia no Training Batch:  76.6%\n",
            "Global Step: 108800, Acurácia no Training Batch:  85.9%\n",
            "Global Step: 108900, Acurácia no Training Batch:  81.2%\n",
            "Global Step: 109000, Acurácia no Training Batch:  89.1%\n",
            "Checkpoint Salvo.\n",
            "Global Step: 109100, Acurácia no Training Batch:  93.8%\n",
            "Global Step: 109200, Acurácia no Training Batch:  84.4%\n",
            "Global Step: 109300, Acurácia no Training Batch:  89.1%\n",
            "Global Step: 109400, Acurácia no Training Batch:  89.1%\n",
            "Global Step: 109500, Acurácia no Training Batch:  90.6%\n",
            "Global Step: 109600, Acurácia no Training Batch:  81.2%\n",
            "Global Step: 109700, Acurácia no Training Batch:  82.8%\n",
            "Global Step: 109800, Acurácia no Training Batch:  85.9%\n",
            "Global Step: 109900, Acurácia no Training Batch:  85.9%\n",
            "Global Step: 110000, Acurácia no Training Batch:  82.8%\n",
            "Checkpoint Salvo.\n",
            "Global Step: 110100, Acurácia no Training Batch:  87.5%\n",
            "Global Step: 110200, Acurácia no Training Batch:  84.4%\n",
            "Global Step: 110300, Acurácia no Training Batch:  73.4%\n",
            "Global Step: 110400, Acurácia no Training Batch:  92.2%\n",
            "Global Step: 110500, Acurácia no Training Batch:  90.6%\n",
            "Global Step: 110600, Acurácia no Training Batch:  85.9%\n",
            "Global Step: 110700, Acurácia no Training Batch:  85.9%\n",
            "Global Step: 110800, Acurácia no Training Batch:  79.7%\n",
            "Global Step: 110900, Acurácia no Training Batch:  87.5%\n",
            "Global Step: 111000, Acurácia no Training Batch:  92.2%\n",
            "Checkpoint Salvo.\n",
            "Global Step: 111100, Acurácia no Training Batch:  84.4%\n",
            "Global Step: 111200, Acurácia no Training Batch:  87.5%\n",
            "Global Step: 111300, Acurácia no Training Batch:  87.5%\n",
            "Global Step: 111400, Acurácia no Training Batch:  81.2%\n",
            "Global Step: 111500, Acurácia no Training Batch:  85.9%\n",
            "Global Step: 111600, Acurácia no Training Batch:  81.2%\n",
            "Global Step: 111700, Acurácia no Training Batch:  93.8%\n",
            "Global Step: 111800, Acurácia no Training Batch:  82.8%\n",
            "Global Step: 111900, Acurácia no Training Batch:  90.6%\n",
            "Global Step: 112000, Acurácia no Training Batch:  79.7%\n",
            "Checkpoint Salvo.\n",
            "Global Step: 112100, Acurácia no Training Batch:  84.4%\n",
            "Global Step: 112200, Acurácia no Training Batch:  85.9%\n",
            "Global Step: 112300, Acurácia no Training Batch:  82.8%\n",
            "Global Step: 112400, Acurácia no Training Batch:  87.5%\n",
            "Global Step: 112500, Acurácia no Training Batch:  87.5%\n",
            "Global Step: 112600, Acurácia no Training Batch:  87.5%\n",
            "Global Step: 112700, Acurácia no Training Batch:  85.9%\n",
            "Global Step: 112800, Acurácia no Training Batch:  92.2%\n",
            "Global Step: 112900, Acurácia no Training Batch:  76.6%\n",
            "Global Step: 113000, Acurácia no Training Batch:  87.5%\n",
            "Checkpoint Salvo.\n",
            "Global Step: 113100, Acurácia no Training Batch:  85.9%\n",
            "Global Step: 113200, Acurácia no Training Batch:  93.8%\n",
            "Global Step: 113300, Acurácia no Training Batch:  82.8%\n",
            "Global Step: 113400, Acurácia no Training Batch:  85.9%\n",
            "Global Step: 113500, Acurácia no Training Batch:  85.9%\n",
            "Global Step: 113600, Acurácia no Training Batch:  87.5%\n"
          ],
          "name": "stdout"
        },
        {
          "output_type": "stream",
          "text": [
            "Global Step: 113700, Acurácia no Training Batch:  79.7%\n",
            "Global Step: 113800, Acurácia no Training Batch:  93.8%\n",
            "Global Step: 113900, Acurácia no Training Batch:  82.8%\n",
            "Global Step: 114000, Acurácia no Training Batch:  84.4%\n",
            "Checkpoint Salvo.\n",
            "Global Step: 114100, Acurácia no Training Batch:  87.5%\n",
            "Global Step: 114200, Acurácia no Training Batch:  87.5%\n",
            "Global Step: 114300, Acurácia no Training Batch:  84.4%\n",
            "Global Step: 114400, Acurácia no Training Batch:  84.4%\n",
            "Global Step: 114500, Acurácia no Training Batch:  87.5%\n",
            "Global Step: 114600, Acurácia no Training Batch:  84.4%\n",
            "Global Step: 114700, Acurácia no Training Batch:  78.1%\n",
            "Global Step: 114800, Acurácia no Training Batch:  81.2%\n",
            "Global Step: 114900, Acurácia no Training Batch:  90.6%\n",
            "Global Step: 115000, Acurácia no Training Batch:  90.6%\n",
            "Checkpoint Salvo.\n",
            "Global Step: 115100, Acurácia no Training Batch:  89.1%\n",
            "Global Step: 115200, Acurácia no Training Batch:  82.8%\n",
            "Global Step: 115300, Acurácia no Training Batch:  87.5%\n",
            "Global Step: 115400, Acurácia no Training Batch:  76.6%\n",
            "Global Step: 115500, Acurácia no Training Batch:  90.6%\n",
            "Global Step: 115600, Acurácia no Training Batch:  82.8%\n",
            "Global Step: 115700, Acurácia no Training Batch:  87.5%\n",
            "Global Step: 115800, Acurácia no Training Batch:  82.8%\n",
            "Global Step: 115900, Acurácia no Training Batch:  95.3%\n",
            "Global Step: 116000, Acurácia no Training Batch:  79.7%\n",
            "Checkpoint Salvo.\n",
            "Global Step: 116100, Acurácia no Training Batch:  93.8%\n",
            "Global Step: 116200, Acurácia no Training Batch:  84.4%\n",
            "Global Step: 116300, Acurácia no Training Batch:  82.8%\n",
            "Global Step: 116400, Acurácia no Training Batch:  85.9%\n",
            "Global Step: 116500, Acurácia no Training Batch:  89.1%\n",
            "Global Step: 116600, Acurácia no Training Batch:  87.5%\n",
            "Global Step: 116700, Acurácia no Training Batch:  76.6%\n",
            "Global Step: 116800, Acurácia no Training Batch:  81.2%\n",
            "Global Step: 116900, Acurácia no Training Batch:  87.5%\n",
            "Global Step: 117000, Acurácia no Training Batch:  92.2%\n",
            "Checkpoint Salvo.\n",
            "Global Step: 117100, Acurácia no Training Batch:  89.1%\n",
            "Global Step: 117200, Acurácia no Training Batch:  84.4%\n",
            "Global Step: 117300, Acurácia no Training Batch:  84.4%\n",
            "Global Step: 117400, Acurácia no Training Batch:  78.1%\n",
            "Global Step: 117500, Acurácia no Training Batch:  87.5%\n",
            "Global Step: 117600, Acurácia no Training Batch:  92.2%\n",
            "Global Step: 117700, Acurácia no Training Batch:  92.2%\n",
            "Global Step: 117800, Acurácia no Training Batch:  84.4%\n",
            "Global Step: 117900, Acurácia no Training Batch:  84.4%\n",
            "Global Step: 118000, Acurácia no Training Batch:  85.9%\n",
            "Checkpoint Salvo.\n",
            "Global Step: 118100, Acurácia no Training Batch:  73.4%\n",
            "Global Step: 118200, Acurácia no Training Batch:  84.4%\n",
            "Global Step: 118300, Acurácia no Training Batch:  87.5%\n",
            "Global Step: 118400, Acurácia no Training Batch:  73.4%\n",
            "Global Step: 118500, Acurácia no Training Batch:  82.8%\n",
            "Global Step: 118600, Acurácia no Training Batch:  93.8%\n",
            "Global Step: 118700, Acurácia no Training Batch:  82.8%\n",
            "Global Step: 118800, Acurácia no Training Batch:  87.5%\n",
            "Global Step: 118900, Acurácia no Training Batch:  85.9%\n",
            "Global Step: 119000, Acurácia no Training Batch:  78.1%\n",
            "Checkpoint Salvo.\n",
            "Global Step: 119100, Acurácia no Training Batch:  85.9%\n",
            "Global Step: 119200, Acurácia no Training Batch:  93.8%\n",
            "Global Step: 119300, Acurácia no Training Batch:  85.9%\n",
            "Global Step: 119400, Acurácia no Training Batch:  85.9%\n",
            "Global Step: 119500, Acurácia no Training Batch:  90.6%\n",
            "Global Step: 119600, Acurácia no Training Batch:  76.6%\n",
            "Global Step: 119700, Acurácia no Training Batch:  87.5%\n",
            "Global Step: 119800, Acurácia no Training Batch:  84.4%\n",
            "Global Step: 119900, Acurácia no Training Batch:  82.8%\n",
            "Global Step: 120000, Acurácia no Training Batch:  82.8%\n",
            "Checkpoint Salvo.\n",
            "Tempo gasto: 3:49:06\n"
          ],
          "name": "stdout"
        }
      ]
    },
    {
      "metadata": {
        "id": "CnB_hucHMWLc",
        "colab_type": "text"
      },
      "cell_type": "markdown",
      "source": [
        "## Resultados\n",
        "\n",
        "Após 120.000 iterações de otimização, a precisão da classificação é de cerca de 79-80% no conjunto de teste. Exemplos de classificações erradas são plotados abaixo. Alguns são difíceis de reconhecer, mesmo para os seres humanos e outros são erros razoáveis, p. Ex. Entre um grande carro e um caminhão, ou entre um gato e um cachorro, enquanto outros erros parecem um pouco estranhos."
      ]
    },
    {
      "metadata": {
        "scrolled": true,
        "id": "gNRqmfEpMWLc",
        "colab_type": "code",
        "colab": {},
        "outputId": "5f415bba-9501-4676-84e5-77b92a85225a"
      },
      "cell_type": "code",
      "source": [
        "print_test_accuracy(show_example_errors=True, show_confusion_matrix=True)"
      ],
      "execution_count": 0,
      "outputs": [
        {
          "output_type": "stream",
          "text": [
            "Acurácia no Dataset de Teste: 80.2% (8023 / 10000)\n",
            "Errors:\n"
          ],
          "name": "stdout"
        },
        {
          "output_type": "display_data",
          "data": {
            "image/png": "[encoded data removed]",
            "text/plain": [
              "<matplotlib.figure.Figure at 0x7f219fc16438>"
            ]
          },
          "metadata": {
            "tags": []
          }
        },
        {
          "output_type": "stream",
          "text": [
            "Confusion Matrix:\n",
            "[834  15  41  14  12   9   7   6  40  22] (0) airplane\n",
            "[  8 923   5  11   3   3   2   1  13  31] (1) automobile\n",
            "[ 49   6 731  53  43  55  33  19   8   3] (2) bird\n",
            "[ 22   7  41 633  31 166  46  32  13   9] (3) cat\n",
            "[ 11   4  42  52 765  49  30  39   6   2] (4) deer\n",
            "[  9   4  30 138  22 755   7  28   2   5] (5) dog\n",
            "[  9   6  36  55  24  21 840   2   4   3] (6) frog\n",
            "[ 15   4  17  38  36  61   8 812   2   7] (7) horse\n",
            "[ 30  27  13  10   3   4   3   3 876  31] (8) ship\n",
            "[ 17  61   6  11   1   8   5  12  25 854] (9) truck\n",
            " (0) (1) (2) (3) (4) (5) (6) (7) (8) (9)\n"
          ],
          "name": "stdout"
        }
      ]
    },
    {
      "metadata": {
        "id": "w3DoFULLMWLg",
        "colab_type": "text"
      },
      "cell_type": "markdown",
      "source": [
        "### Pesos Convolucionais\n",
        "\n",
        "O seguinte mostra alguns dos pesos (ou filtros) para a primeira camada convolucional. Existem 3 canais de entrada, portanto, há 3 desses conjuntos, que você pode plotar, alterando o `input_channel`.\n",
        "\n",
        "Observe que os pesos positivos são vermelhos e os pesos negativos são azuis."
      ]
    },
    {
      "metadata": {
        "scrolled": false,
        "id": "jgxTSry2MWLg",
        "colab_type": "code",
        "colab": {},
        "outputId": "ceca2e47-4d20-4c48-f756-1c783049bc14"
      },
      "cell_type": "code",
      "source": [
        "plot_conv_weights(weights=weights_conv1, input_channel=0)"
      ],
      "execution_count": 0,
      "outputs": [
        {
          "output_type": "stream",
          "text": [
            "Min:  -0.65636, Max:   0.57375\n",
            "Mean: -0.00110, Stdev: 0.16395\n"
          ],
          "name": "stdout"
        },
        {
          "output_type": "display_data",
          "data": {
            "image/png": "[encoded data removed]",
            "text/plain": [
              "<matplotlib.figure.Figure at 0x7f219fc163c8>"
            ]
          },
          "metadata": {
            "tags": []
          }
        }
      ]
    },
    {
      "metadata": {
        "scrolled": false,
        "id": "PKG_giNxMWLj",
        "colab_type": "code",
        "colab": {},
        "outputId": "d6fcb6bf-828c-40ff-dc76-bbd3b9bc0a12"
      },
      "cell_type": "code",
      "source": [
        "plot_conv_weights(weights=weights_conv2, input_channel=1)"
      ],
      "execution_count": 0,
      "outputs": [
        {
          "output_type": "stream",
          "text": [
            "Min:  -0.64997, Max:   0.30396\n",
            "Mean: -0.00362, Stdev: 0.05154\n"
          ],
          "name": "stdout"
        },
        {
          "output_type": "display_data",
          "data": {
            "image/png": "[encoded data removed]",
            "text/plain": [
              "<matplotlib.figure.Figure at 0x7f20e055d320>"
            ]
          },
          "metadata": {
            "tags": []
          }
        }
      ]
    },
    {
      "metadata": {
        "id": "S0NWYyKPMWLn",
        "colab_type": "text"
      },
      "cell_type": "markdown",
      "source": [
        "### Output das Camadas de Convolução"
      ]
    },
    {
      "metadata": {
        "id": "rbAD7HUYMWLo",
        "colab_type": "code",
        "colab": {}
      },
      "cell_type": "code",
      "source": [
        "def plot_image(image):\n",
        "    fig, axes = plt.subplots(1, 2)\n",
        "\n",
        "    ax0 = axes.flat[0]\n",
        "    ax1 = axes.flat[1]\n",
        "\n",
        "    ax0.imshow(image, interpolation='nearest')\n",
        "    ax1.imshow(image, interpolation='spline16')\n",
        "\n",
        "    ax0.set_xlabel('Raw')\n",
        "    ax1.set_xlabel('Smooth')\n",
        "    \n",
        "    plt.show()"
      ],
      "execution_count": 0,
      "outputs": []
    },
    {
      "metadata": {
        "id": "uT6PHBM1MWLr",
        "colab_type": "code",
        "colab": {},
        "outputId": "b5ca6bce-47ae-4d35-c0da-cb4052804a72"
      },
      "cell_type": "code",
      "source": [
        "img, cls = get_test_image(16)\n",
        "plot_image(img)"
      ],
      "execution_count": 0,
      "outputs": [
        {
          "output_type": "display_data",
          "data": {
            "image/png": "[encoded data removed]",
            "text/plain": [
              "<matplotlib.figure.Figure at 0x7f217c7192b0>"
            ]
          },
          "metadata": {
            "tags": []
          }
        }
      ]
    },
    {
      "metadata": {
        "scrolled": true,
        "id": "gkdrmpFxMWLx",
        "colab_type": "code",
        "colab": {},
        "outputId": "677229b0-3ec9-4116-ab82-3c0003825768"
      },
      "cell_type": "code",
      "source": [
        "plot_layer_output(output_conv1, image=img)"
      ],
      "execution_count": 0,
      "outputs": [
        {
          "output_type": "display_data",
          "data": {
            "image/png": "[encoded data removed]",
            "text/plain": [
              "<matplotlib.figure.Figure at 0x7f219fe51518>"
            ]
          },
          "metadata": {
            "tags": []
          }
        }
      ]
    },
    {
      "metadata": {
        "scrolled": true,
        "id": "Fc3x-VSBMWL2",
        "colab_type": "code",
        "colab": {},
        "outputId": "df0a76c2-1468-4f9c-f79d-ffb3bff4bff7"
      },
      "cell_type": "code",
      "source": [
        "plot_layer_output(output_conv2, image=img)"
      ],
      "execution_count": 0,
      "outputs": [
        {
          "output_type": "display_data",
          "data": {
            "image/png": "[encoded data removed]",
            "text/plain": [
              "<matplotlib.figure.Figure at 0x7f219fc16518>"
            ]
          },
          "metadata": {
            "tags": []
          }
        }
      ]
    },
    {
      "metadata": {
        "id": "yQmn9ovjMWL6",
        "colab_type": "text"
      },
      "cell_type": "markdown",
      "source": [
        "### Labels de Classe Previstos"
      ]
    },
    {
      "metadata": {
        "id": "8gisSlKOMWL7",
        "colab_type": "code",
        "colab": {}
      },
      "cell_type": "code",
      "source": [
        "label_pred, cls_pred = session.run([y_pred, y_pred_cls], feed_dict={x: [img]})"
      ],
      "execution_count": 0,
      "outputs": []
    },
    {
      "metadata": {
        "scrolled": true,
        "id": "z90otjNfMWL9",
        "colab_type": "code",
        "colab": {},
        "outputId": "4d0f468e-85c9-4f31-ad3e-960df52152cd"
      },
      "cell_type": "code",
      "source": [
        "np.set_printoptions(precision=3, suppress=True)\n",
        "\n",
        "print(label_pred[0])"
      ],
      "execution_count": 0,
      "outputs": [
        {
          "output_type": "stream",
          "text": [
            "[0.    0.    0.    0.063 0.    0.932 0.    0.004 0.    0.   ]\n"
          ],
          "name": "stdout"
        }
      ]
    },
    {
      "metadata": {
        "id": "YLIZTkqNMWMA",
        "colab_type": "code",
        "colab": {},
        "outputId": "ed6d55b3-797c-4449-c956-2e9644420bfd"
      },
      "cell_type": "code",
      "source": [
        "class_names[3]"
      ],
      "execution_count": 0,
      "outputs": [
        {
          "output_type": "execute_result",
          "data": {
            "text/plain": [
              "'cat'"
            ]
          },
          "metadata": {
            "tags": []
          },
          "execution_count": 85
        }
      ]
    },
    {
      "metadata": {
        "id": "9Pu6MWjUMWMF",
        "colab_type": "code",
        "colab": {},
        "outputId": "45ff931c-3b01-490f-845a-5e64ab044eef"
      },
      "cell_type": "code",
      "source": [
        "class_names[5]"
      ],
      "execution_count": 0,
      "outputs": [
        {
          "output_type": "execute_result",
          "data": {
            "text/plain": [
              "'dog'"
            ]
          },
          "metadata": {
            "tags": []
          },
          "execution_count": 86
        }
      ]
    },
    {
      "metadata": {
        "id": "fV9A1BI-MWMJ",
        "colab_type": "text"
      },
      "cell_type": "markdown",
      "source": [
        "## Encerrando a Sessão"
      ]
    },
    {
      "metadata": {
        "id": "tRZL9VM-MWMK",
        "colab_type": "code",
        "colab": {}
      },
      "cell_type": "code",
      "source": [
        "session.close()"
      ],
      "execution_count": 0,
      "outputs": []
    },
    {
      "metadata": {
        "id": "Ry31Ca46MWMN",
        "colab_type": "text"
      },
      "cell_type": "markdown",
      "source": [
        "## Conclusão\n",
        "\n",
        "Este jupyter notebook mostrou como construir uma Rede Neural convolutiva para classificar imagens no conjunto de dados CIFAR-10. A precisão da classificação foi de cerca de 79-80% no conjunto de teste."
      ]
    }
  ]
}