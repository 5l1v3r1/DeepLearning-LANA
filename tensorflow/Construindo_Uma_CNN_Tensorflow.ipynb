{
  "nbformat": 4,
  "nbformat_minor": 0,
  "metadata": {
    "colab": {
      "name": "Construindo Uma CNN - Tensorflow.ipynb",
      "version": "0.3.2",
      "provenance": [],
      "collapsed_sections": [
        "OxxgzS7hJ73H",
        "h1xMS7VVJ73M",
        "E5REWa60J73Q",
        "MTFOSOl7J73Z",
        "cuaHWeAIJ73b",
        "KarE9cMBJ73n",
        "5FmmH5ZbJ73t",
        "uP10ppqlJ73x",
        "Vrij_xcuJ731",
        "Hqk48AcnJ74F",
        "3KkQIsVUJ74N",
        "kD9ovY35J74T",
        "K_UccErjJ74k",
        "DPUpg4QXJ74v",
        "FFf7prcJJ741",
        "RHC4K95VJ746",
        "KB9Lok_dJ75E",
        "HSWl9tIhJ75J",
        "fYDrhZnSJ75X",
        "OLY6Rf9zJ75Z",
        "o9C4luKkJ75d",
        "ng0Z45Q9J75t",
        "nGzmgR2cJ75y",
        "7xO0ZRFjJ752",
        "84qie4uhJ756",
        "EeqUqqfXJ75_",
        "HVDVB3cKJ76I",
        "YWTUrPVYJ76V",
        "BvsB32ryJ76e",
        "EtE-44DUJ76q",
        "KQAev4S2J76r",
        "_6V58CIUJ76x",
        "2qMifiefJ761",
        "r0G8AkaMJ77I",
        "hkCHd3MkJ77c",
        "zwB_grdGJ77s",
        "iTagVw1lJ77x",
        "Ntz939XEJ77y"
      ],
      "include_colab_link": true
    },
    "kernelspec": {
      "display_name": "Python 3",
      "language": "python",
      "name": "python3"
    }
  },
  "cells": [
    {
      "cell_type": "markdown",
      "metadata": {
        "id": "view-in-github",
        "colab_type": "text"
      },
      "source": [
        "<a href=\"https://colab.research.google.com/github/vladimiralencar/DeepLearning-LANA/blob/master/tensorflow/Construindo_Uma_CNN_Tensorflow.ipynb\" target=\"_parent\"><img src=\"https://colab.research.google.com/assets/colab-badge.svg\" alt=\"Open In Colab\"/></a>"
      ]
    },
    {
      "metadata": {
        "id": "N66_jTVTJ72M",
        "colab_type": "text"
      },
      "cell_type": "markdown",
      "source": [
        "# Construindo Uma CNN - Tensorflow"
      ]
    },
    {
      "metadata": {
        "id": "j5qCR6BZJ72O",
        "colab_type": "text"
      },
      "cell_type": "markdown",
      "source": [
        "Abaixo você encontra um modelo de rede neural para o MNIST. Este Jupyter notebook é bastante longo, mas contém uma implementação completa de um modelo CNN com TensorFlow (não usamos o Keras aqui), explicado linha a linha.\n",
        "\n",
        "Ao final, você encontrará sugestões de modificações no modelo e você deve realizá-las (uma por vez) e avaliar os resultados. Este é um estudo dirigido e vai dar a você uma excelente compreensão de como construir modelos de Deep Learning."
      ]
    },
    {
      "metadata": {
        "id": "0MAPvYJCL82b",
        "colab_type": "text"
      },
      "cell_type": "markdown",
      "source": [
        ""
      ]
    },
    {
      "metadata": {
        "id": "CxRUGKDPLlZb",
        "colab_type": "text"
      },
      "cell_type": "markdown",
      "source": [
        "![](https://raw.githubusercontent.com/vladimiralencar/DeepLearning-LANA/master/tensorflow/images/network_flowchart.png)\n"
      ]
    },
    {
      "metadata": {
        "id": "yXswyFjMJ72X",
        "colab_type": "text"
      },
      "cell_type": "markdown",
      "source": [
        "Vamos começar descrevendo a arquitetura da CNN e revisando conceitos estudados ao longo deste capítulo. \n",
        "\n",
        "A imagem de entrada é processada na primeira camada convolucional usando os pesos de filtro. Considerando o número de filtros igual a 16, isso resulta em 16 novas imagens, uma para cada filtro na camada convolucional. As imagens também são reduzidas com a camada de Pooling reduzindo a imagem de 28x28 para 14x14.\n",
        "\n",
        "Essas 16 imagens menores são então processadas na segunda camada convolucional. Precisamos de pesos de filtro para cada um desses 16 canais, e precisamos de pesos de filtro para cada canal de saída desta camada. Existem 36 canais de saída, portanto, há um total de 16 x 36 = 576 filtros na segunda camada convolucional. As imagens resultantes são reduzaidas novamente para 7x7 pixels.\n",
        "\n",
        "A saída da segunda camada convolucional é de 36 imagens de 7x7 pixels cada. Estas são então achatados (flatten) para um único vetor de comprimento 7 x 7 x 36 = 1764, que é usado como entrada para uma camada totalmente conectada com 128 neurônios. Isso alimenta a outra camada totalmente conectada com 10 neurônios, uma para cada uma das classes, que é usada para determinar a classe da imagem, ou seja, qual número é representado na imagem.\n",
        "\n",
        "Os filtros convolucionais são inicialmente escolhidos aleatoriamente, de modo que a classificação é feita aleatoriamente. O erro entre a classe predita e verdadeira da imagem de entrada é medido com a entropia cruzada. O otimizador então propaga esse erro automaticamente através da rede convolucional usando a cadeia de regras de diferenciação (chain rule) e atualiza os pesos de filtro de modo a reduzir o erro de classificação. Isso é feito iterativamente milhares de vezes até o erro de classificação ser suficientemente baixo.\n",
        "\n",
        "Estes filtros-pesos e imagens intermediárias são os resultados de uma execução de otimização e podem parecer diferentes se você voltar a executar este Notebook.\n",
        "\n",
        "Note-se que a computação no TensorFlow é realmente feita em um lote de imagens ao invés de uma única imagem, o que torna a computação mais eficiente. Isso significa que o fluxograma realmente possui mais uma dimensão de dados quando implementado no TensorFlow."
      ]
    },
    {
      "metadata": {
        "id": "Xs96L8rfJ72Y",
        "colab_type": "text"
      },
      "cell_type": "markdown",
      "source": [
        "## Camada de Convolução"
      ]
    },
    {
      "metadata": {
        "id": "nDCilrPEJ72Z",
        "colab_type": "text"
      },
      "cell_type": "markdown",
      "source": [
        "O diagrama a seguir mostra a ideia básica de processar uma imagem na primeira camada convolucional. A imagem de entrada representa o número 7 e quatro cópias da imagem são mostradas aqui, para que possamos ver mais claramente como o filtro está sendo movido para diferentes posições da imagem. Para cada posição do filtro, o dot product está sendo calculado entre o filtro e os pixels da imagem sob o filtro, o que resulta em um único pixel na imagem de saída. Então, mover o filtro em toda a imagem de entrada resulta em uma nova imagem que está sendo gerada.\n",
        "\n",
        "Os pesos de filtro vermelhos significam que o filtro tem uma reação positiva aos pixels pretos na imagem de entrada, enquanto os pixels azuis significam que o filtro tem uma reação negativa aos pixels pretos.\n",
        "\n",
        "Neste caso, parece que o filtro reconhece a linha horizontal do dígito 7, como pode ser visto a partir da sua reação mais forte a essa linha na imagem de saída."
      ]
    },
    {
      "metadata": {
        "id": "93FkYshyNFYX",
        "colab_type": "text"
      },
      "cell_type": "markdown",
      "source": [
        "![](https://raw.githubusercontent.com/vladimiralencar/DeepLearning-LANA/master/tensorflow/images/convolution.png)"
      ]
    },
    {
      "metadata": {
        "id": "hX_dxBqGJ72e",
        "colab_type": "text"
      },
      "cell_type": "markdown",
      "source": [
        "O step-size para mover o filtro através da entrada é chamado de passo (stride). Há um passo para mover o filtro horizontalmente (eixo x) e outro passo para se mover verticalmente (eixo y).\n",
        "\n",
        "No código-fonte abaixo, o passo é definido como 1 em ambas as direções, o que significa que o filtro começa no canto superior esquerdo da imagem de entrada e está sendo movido 1 pixel para a direita em cada etapa. Quando o filtro atinge o final da imagem para a direita, o filtro é movido de volta para o lado esquerdo e 1 pixel para baixo da imagem. Isso continua até que o filtro tenha atingido o canto inferior direito da imagem de entrada e toda a imagem de saída tenha sido gerada.\n",
        "\n",
        "Quando o filtro atinge o final do lado direito, bem como a parte inferior da imagem de entrada, ele pode ser preenchido com zero (pixels brancos). Isso faz com que a imagem de saída seja da mesma dimensão que a imagem de entrada.\n",
        "\n",
        "Além disso, a saída da convolução pode ser passada através da chamada Unidade Linear Retificada (ReLU), que apenas garante que a saída seja positiva porque os valores negativos são ajustados para zero. A saída também pode ser avaliada pelo chamado Max Pooling, que considera pequenas janelas de 2x2 pixels e apenas mantém o maior desses pixels. Esta divide ao meio a resolução da imagem de entrada, isto é, de 28x28 para 14x14 pixels.\n",
        "\n",
        "Observe que a segunda camada convolucional é mais complicada porque tem 16 canais de entrada. Queremos um filtro separado para cada canal de entrada, então precisamos de 16 filtros em vez de apenas um. Além disso, queremos 36 canais de saída da segunda camada convolucional, então, no total, precisamos de 16 x 36 = 576 filtros para a segunda camada convolucional. Pode ser um pouco desafiador entender como isso funciona, por isso você deve praticar tanto quanto possível."
      ]
    },
    {
      "metadata": {
        "id": "LBNWdI1nJ72f",
        "colab_type": "text"
      },
      "cell_type": "markdown",
      "source": [
        "## Imports"
      ]
    },
    {
      "metadata": {
        "id": "a57Z_WRaJ72g",
        "colab_type": "code",
        "colab": {}
      },
      "cell_type": "code",
      "source": [
        "%matplotlib inline\n",
        "import matplotlib.pyplot as plt\n",
        "import tensorflow as tf\n",
        "import numpy as np\n",
        "from sklearn.metrics import confusion_matrix\n",
        "import time\n",
        "from datetime import timedelta\n",
        "import math"
      ],
      "execution_count": 0,
      "outputs": []
    },
    {
      "metadata": {
        "id": "aNQKt5IoJ72k",
        "colab_type": "text"
      },
      "cell_type": "markdown",
      "source": [
        "Esse código foi desenvolvido com Python 3.6 e TensorFlow:"
      ]
    },
    {
      "metadata": {
        "id": "uFAp5EXbJ72l",
        "colab_type": "code",
        "colab": {},
        "outputId": "7a434590-b425-40d0-b01f-3c8a36db632c"
      },
      "cell_type": "code",
      "source": [
        "tf.__version__"
      ],
      "execution_count": 0,
      "outputs": [
        {
          "output_type": "execute_result",
          "data": {
            "text/plain": [
              "'1.0.1'"
            ]
          },
          "metadata": {
            "tags": []
          },
          "execution_count": 4
        }
      ]
    },
    {
      "metadata": {
        "id": "u9MCGnflJ72u",
        "colab_type": "text"
      },
      "cell_type": "markdown",
      "source": [
        "## Configuração da Rede Neural\n",
        "\n",
        "A configuração da Rede Neural Convolucional é definida aqui por conveniência, para que você possa encontrar e alterar esses números com facilidade e re-executar o Notebook."
      ]
    },
    {
      "metadata": {
        "id": "Bu3F_FIyJ72w",
        "colab_type": "code",
        "colab": {}
      },
      "cell_type": "code",
      "source": [
        "## Camada Convolucional 1:\n",
        "\n",
        "# Os filtros de convolução são 5 x 5 pixels.\n",
        "filter_size1 = 5  \n",
        "\n",
        "# Existem 16 desses filtros.\n",
        "num_filters1 = 16        \n",
        "\n",
        "\n",
        "## Camada Convolucional 2:\n",
        "\n",
        "# Os filtros de convolução são 5 x 5 pixels.\n",
        "filter_size2 = 5   \n",
        "\n",
        "# Existem 36 desses filtros.\n",
        "num_filters2 = 36        \n",
        "\n",
        "\n",
        "## Camada Totalmente Conectada:\n",
        "\n",
        "# Número de neurônios na camada totalmente conectada.\n",
        "fc_size = 128            "
      ],
      "execution_count": 0,
      "outputs": []
    },
    {
      "metadata": {
        "id": "aX0V6DFGJ721",
        "colab_type": "text"
      },
      "cell_type": "markdown",
      "source": [
        "## Carregando os Dados"
      ]
    },
    {
      "metadata": {
        "id": "1Ik_P0HzJ724",
        "colab_type": "code",
        "colab": {},
        "outputId": "2911e80c-c996-4b77-cc46-a05fe66aa8f5"
      },
      "cell_type": "code",
      "source": [
        "from tensorflow.examples.tutorials.mnist import input_data\n",
        "data = input_data.read_data_sets('data/MNIST/', one_hot=True)"
      ],
      "execution_count": 0,
      "outputs": [
        {
          "output_type": "stream",
          "text": [
            "Extracting data/MNIST/train-images-idx3-ubyte.gz\n",
            "Extracting data/MNIST/train-labels-idx1-ubyte.gz\n",
            "Extracting data/MNIST/t10k-images-idx3-ubyte.gz\n",
            "Extracting data/MNIST/t10k-labels-idx1-ubyte.gz\n"
          ],
          "name": "stdout"
        }
      ]
    },
    {
      "metadata": {
        "id": "0kKiNTllJ72-",
        "colab_type": "code",
        "colab": {},
        "outputId": "377c24d4-3174-4f72-83a5-892d9393664a"
      },
      "cell_type": "code",
      "source": [
        "print(\"Size of:\")\n",
        "print(\"- Training-set:\\t\\t{}\".format(len(data.train.labels)))\n",
        "print(\"- Test-set:\\t\\t{}\".format(len(data.test.labels)))\n",
        "print(\"- Validation-set:\\t{}\".format(len(data.validation.labels)))"
      ],
      "execution_count": 0,
      "outputs": [
        {
          "output_type": "stream",
          "text": [
            "Size of:\n",
            "- Training-set:\t\t55000\n",
            "- Test-set:\t\t10000\n",
            "- Validation-set:\t5000\n"
          ],
          "name": "stdout"
        }
      ]
    },
    {
      "metadata": {
        "id": "umt8a0FcJ73D",
        "colab_type": "text"
      },
      "cell_type": "markdown",
      "source": [
        "Os rótulos de classe estão como One-Hot Encoding, o que significa que cada rótulo é um vetor com 10 elementos, todos os quais são zero exceto um elemento. O índice desse elemento é o número da classe, ou seja, o dígito mostrado na imagem associada. Também precisamos dos números de classe como números inteiros para o conjunto de teste, então nós o calculamos agora."
      ]
    },
    {
      "metadata": {
        "id": "2KnVvrRDJ73E",
        "colab_type": "code",
        "colab": {}
      },
      "cell_type": "code",
      "source": [
        "data.test.cls = np.argmax(data.test.labels, axis=1)"
      ],
      "execution_count": 0,
      "outputs": []
    },
    {
      "metadata": {
        "id": "OxxgzS7hJ73H",
        "colab_type": "text"
      },
      "cell_type": "markdown",
      "source": [
        "## Dimensões dos Dados"
      ]
    },
    {
      "metadata": {
        "collapsed": true,
        "id": "DY7OnyiRJ73I",
        "colab_type": "code",
        "colab": {}
      },
      "cell_type": "code",
      "source": [
        "img_size = 28\n",
        "img_size_flat = img_size * img_size\n",
        "img_shape = (img_size, img_size)\n",
        "num_channels = 1\n",
        "num_classes = 10"
      ],
      "execution_count": 0,
      "outputs": []
    },
    {
      "metadata": {
        "id": "h1xMS7VVJ73M",
        "colab_type": "text"
      },
      "cell_type": "markdown",
      "source": [
        "### Função Auxiliar Para o Plot de Imagens"
      ]
    },
    {
      "metadata": {
        "collapsed": true,
        "id": "TZO_7iilJ73N",
        "colab_type": "code",
        "colab": {}
      },
      "cell_type": "code",
      "source": [
        "def plot_images(images, cls_true, cls_pred=None):\n",
        "    assert len(images) == len(cls_true) == 9\n",
        "    \n",
        "    fig, axes = plt.subplots(3, 3)\n",
        "    fig.subplots_adjust(hspace=0.3, wspace=0.3)\n",
        "\n",
        "    for i, ax in enumerate(axes.flat):\n",
        "        ax.imshow(images[i].reshape(img_shape), cmap='binary')\n",
        "\n",
        "        if cls_pred is None:\n",
        "            xlabel = \"True: {0}\".format(cls_true[i])\n",
        "        else:\n",
        "            xlabel = \"True: {0}, Pred: {1}\".format(cls_true[i], cls_pred[i])\n",
        "\n",
        "        ax.set_xlabel(xlabel)\n",
        "        \n",
        "        ax.set_xticks([])\n",
        "        ax.set_yticks([])\n",
        "    \n",
        "    plt.show()"
      ],
      "execution_count": 0,
      "outputs": []
    },
    {
      "metadata": {
        "id": "E5REWa60J73Q",
        "colab_type": "text"
      },
      "cell_type": "markdown",
      "source": [
        "### Plot de Algumas Imagens"
      ]
    },
    {
      "metadata": {
        "id": "8nr1o31EJ73R",
        "colab_type": "code",
        "colab": {},
        "outputId": "d4399739-3274-4849-bd5d-ffb770f87ef6"
      },
      "cell_type": "code",
      "source": [
        "images = data.test.images[0:9]\n",
        "cls_true = data.test.cls[0:9]\n",
        "plot_images(images=images, cls_true=cls_true)"
      ],
      "execution_count": 0,
      "outputs": [
        {
          "output_type": "display_data",
          "data": {
            "image/png": "[encoded data removed]",
            "text/plain": [
              "<matplotlib.figure.Figure at 0x7f2882a9e978>"
            ]
          },
          "metadata": {
            "tags": []
          }
        }
      ]
    },
    {
      "metadata": {
        "id": "MTFOSOl7J73Z",
        "colab_type": "text"
      },
      "cell_type": "markdown",
      "source": [
        "## Grafo TensorFlow "
      ]
    },
    {
      "metadata": {
        "id": "cuaHWeAIJ73b",
        "colab_type": "text"
      },
      "cell_type": "markdown",
      "source": [
        "### Funções Auxiliares Para Criar Novas Variáveis (Pesos e Bias)"
      ]
    },
    {
      "metadata": {
        "collapsed": true,
        "id": "s2x4yZOAJ73d",
        "colab_type": "code",
        "colab": {}
      },
      "cell_type": "code",
      "source": [
        "def new_weights(shape):\n",
        "    return tf.Variable(tf.truncated_normal(shape, stddev=0.05))"
      ],
      "execution_count": 0,
      "outputs": []
    },
    {
      "metadata": {
        "collapsed": true,
        "id": "EjFbwQ9SJ73i",
        "colab_type": "code",
        "colab": {}
      },
      "cell_type": "code",
      "source": [
        "def new_biases(length):\n",
        "    return tf.Variable(tf.constant(0.05, shape=[length]))"
      ],
      "execution_count": 0,
      "outputs": []
    },
    {
      "metadata": {
        "id": "KarE9cMBJ73n",
        "colab_type": "text"
      },
      "cell_type": "markdown",
      "source": [
        "### Função Auxiliar Para Criar as Camadas Convolucionais"
      ]
    },
    {
      "metadata": {
        "id": "ng7rubO0J73o",
        "colab_type": "text"
      },
      "cell_type": "markdown",
      "source": [
        "Esta função cria uma nova camada convolucional no grafo computacional para o TensorFlow. Nada é realmente calculado aqui, estamos apenas adicionando as fórmulas matemáticas ao grafo TensorFlow.\n",
        "\n",
        "Assume-se que a entrada é um tensor 4-dim com as seguintes dimensões:\n",
        "\n",
        "1. Número da imagem.\n",
        "2. Eixo Y de cada imagem.\n",
        "3. Eixo X de cada imagem.\n",
        "4. Canais de cada imagem.\n",
        "\n",
        "Observe que os canais de entrada podem ser canais de cores ou podem ser canais de filtro se a entrada for produzida a partir de uma camada convolucional anterior.\n",
        "\n",
        "A saída é outro tensor 4-dim com as seguintes dimensões:\n",
        "\n",
        "1. Número da imagem, igual à entrada.\n",
        "2. Eixo Y de cada imagem. Se o agrupamento 2x2 for usado, a altura e a largura das imagens de entrada são divididas por 2.\n",
        "3. Eixo X de cada imagem. Idem.\n",
        "4. Canais produzidos pelos filtros convolucionais."
      ]
    },
    {
      "metadata": {
        "collapsed": true,
        "id": "kSnT5iCdJ73p",
        "colab_type": "code",
        "colab": {}
      },
      "cell_type": "code",
      "source": [
        "def new_conv_layer(input,              \n",
        "                   num_input_channels, \n",
        "                   filter_size,        \n",
        "                   num_filters,       \n",
        "                   use_pooling = True): \n",
        "\n",
        "    # Shape do filtro/peso para a convolução. \n",
        "    shape = [filter_size, filter_size, num_input_channels, num_filters]\n",
        "\n",
        "    # Cria novos pesos\n",
        "    weights = new_weights(shape = shape)\n",
        "\n",
        "    # Cria o bias\n",
        "    biases = new_biases(length = num_filters)\n",
        "\n",
        "    # Cria a operação TensorFlow para convolução.\n",
        "    # Observe que os passos (stride) estão configurados para 1 em todas as dimensões.\n",
        "    # O primeiro e último passo deve ser sempre 1,\n",
        "    # porque o primeiro é para o número da imagem e\n",
        "    # o último é para o canal de entrada.\n",
        "    # Mas, por exemplo, Strides = [1, 2, 2, 1] significaria que o filtro\n",
        "    # é movido 2 pixels através dos eixos x e y da imagem.\n",
        "    # O preenchimento (padding) está configurado para 'SAME', o que significa a imagem de entrada\n",
        "    # é preenchida com zero nas bordas, então o tamanho da saída é o mesmo.\n",
        "    layer = tf.nn.conv2d(input = input,\n",
        "                         filter = weights,\n",
        "                         strides = [1, 1, 1, 1],\n",
        "                         padding = 'SAME')\n",
        "\n",
        "    # Adiciona o bias ao resultado da convolução \n",
        "    layer += biases\n",
        "\n",
        "    # Usando Pooling para reduzir o tamanho das imagens \n",
        "    if use_pooling:\n",
        "        # Temos aqui um Max Pooling 2x2, o que significa que nós\n",
        "        # consideramos janelas 2x2 e selecionamos o maior valor\n",
        "        # em cada janela. Em seguida, movemos 2 pixels para a próxima janela.\n",
        "        layer = tf.nn.max_pool(value = layer,\n",
        "                               ksize = [1, 2, 2, 1],\n",
        "                               strides = [1, 2, 2, 1],\n",
        "                               padding = 'SAME')\n",
        "\n",
        "    # Rectified Linear Unit (ReLU).\n",
        "    # Calcula o max(x, 0) para cada pixel de entrada x.\n",
        "    # Isso adiciona alguma não linearidade à fórmula e nos permite\n",
        "    # aprender funções mais complicadas.\n",
        "    layer = tf.nn.relu(layer)\n",
        "\n",
        "    # Note que a ReLU é executada antes do Pooling.\n",
        "\n",
        "    # Retornamos a camada resultante e os pesos de filtro porque vamos plotar os pesos mais tarde.\n",
        "    return layer, weights"
      ],
      "execution_count": 0,
      "outputs": []
    },
    {
      "metadata": {
        "id": "5FmmH5ZbJ73t",
        "colab_type": "text"
      },
      "cell_type": "markdown",
      "source": [
        "### Função Auxiliar Para \"Achatar\" (flatten) Uma Camada\n",
        "\n",
        "A camada convolucional vai produzir um tensor de saída com 4 dimensões. Vamos adicionar camadas totalmente conectadas após as camadas de convolução, então precisamos reduzir o tensor 4-dim para 2-dim que pode ser usado como entrada para a camada totalmente conectada."
      ]
    },
    {
      "metadata": {
        "collapsed": true,
        "id": "vasOC3g9J73u",
        "colab_type": "code",
        "colab": {}
      },
      "cell_type": "code",
      "source": [
        "def flatten_layer(layer):\n",
        "    layer_shape = layer.get_shape()\n",
        "\n",
        "    # O número de features é: img_height * img_width * num_channels\n",
        "    # Podemos usar uma função do TensorFlow para calcular isso.\n",
        "    num_features = layer_shape[1:4].num_elements()\n",
        "    \n",
        "    # Reshape da camada para [num_images, num_features].\n",
        "    # Observe que acabamos de definir o tamanho da segunda dimensão\n",
        "    # para num_features e o tamanho da primeira dimensão para -1\n",
        "    # o que significa que o tamanho dessa dimensão é calculado\n",
        "    # e o tamanho total do tensor é inalterado no reshape.\n",
        "    layer_flat = tf.reshape(layer, [-1, num_features])\n",
        "\n",
        "    return layer_flat, num_features"
      ],
      "execution_count": 0,
      "outputs": []
    },
    {
      "metadata": {
        "id": "uP10ppqlJ73x",
        "colab_type": "text"
      },
      "cell_type": "markdown",
      "source": [
        "### Função Auxiliar Para Criar Uma Nova Camada Totalmente Conectada"
      ]
    },
    {
      "metadata": {
        "id": "uULMTeRHJ73y",
        "colab_type": "text"
      },
      "cell_type": "markdown",
      "source": [
        "Esta função cria uma nova camada totalmente conectada no grafo computacional para o TensorFlow. Nada é realmente calculado aqui, estamos apenas adicionando as fórmulas matemáticas ao grafo TensorFlow.\n",
        "\n",
        "Supõe-se que a entrada é um tensor 2-dim de forma `[num_images, num_inputs]`. A saída é um tensor 2-dim de forma `[num_images, num_outputs]`."
      ]
    },
    {
      "metadata": {
        "collapsed": true,
        "id": "mZ1e04dkJ73z",
        "colab_type": "code",
        "colab": {}
      },
      "cell_type": "code",
      "source": [
        "def new_fc_layer(input,         \n",
        "                 num_inputs,     \n",
        "                 num_outputs,   \n",
        "                 use_relu = True): \n",
        "\n",
        "    weights = new_weights(shape=[num_inputs, num_outputs])\n",
        "    biases = new_biases(length=num_outputs)\n",
        "\n",
        "    layer = tf.matmul(input, weights) + biases\n",
        "\n",
        "    if use_relu:\n",
        "        layer = tf.nn.relu(layer)\n",
        "\n",
        "    return layer"
      ],
      "execution_count": 0,
      "outputs": []
    },
    {
      "metadata": {
        "id": "Vrij_xcuJ731",
        "colab_type": "text"
      },
      "cell_type": "markdown",
      "source": [
        "### Placeholders"
      ]
    },
    {
      "metadata": {
        "id": "oa-2qaiFJ732",
        "colab_type": "text"
      },
      "cell_type": "markdown",
      "source": [
        "Os placeholders servem como entrada para o grafo computacional TensorFlow que podemos alterar cada vez que executamos o grafo. Nós chamamos isso de alimentação das variáveis do espaço reservado e é demonstrado abaixo.\n",
        "\n",
        "Primeiro, definimos a variável de espaço reservado para as imagens de entrada. Isso nos permite alterar as imagens que são inseridas no grafo TensorFlow. Este é chamado tensor, o que significa que é um vetor ou matriz multidimensional. O tipo de dados está configurado para `float32` e a forma é definida como ` [None, img_size_flat] `, onde ` None` significa que o tensor pode conter um número arbitrário de imagens com cada imagem sendo um vetor de comprimento `img_size_flat` ."
      ]
    },
    {
      "metadata": {
        "collapsed": true,
        "id": "5VwAviKvJ733",
        "colab_type": "code",
        "colab": {}
      },
      "cell_type": "code",
      "source": [
        "x = tf.placeholder(tf.float32, shape=[None, img_size_flat], name='x')"
      ],
      "execution_count": 0,
      "outputs": []
    },
    {
      "metadata": {
        "id": "dxcl7JzmJ735",
        "colab_type": "text"
      },
      "cell_type": "markdown",
      "source": [
        "As camadas convolutivas esperam que \"x\" seja codificado como um tensor 4-dim, então precisamos remodelá-lo para que sua forma seja `[num_images, img_height, img_width, num_channels]`. Note que `img_height == img_width == img_size` e `num_images` podem ser inferidos automaticamente usando -1 para o tamanho da primeira dimensão. Então, a operação de reshape é:"
      ]
    },
    {
      "metadata": {
        "collapsed": true,
        "id": "ufsRDGJOJ736",
        "colab_type": "code",
        "colab": {}
      },
      "cell_type": "code",
      "source": [
        "x_image = tf.reshape(x, [-1, img_size, img_size, num_channels])"
      ],
      "execution_count": 0,
      "outputs": []
    },
    {
      "metadata": {
        "id": "HBBpunSfJ739",
        "colab_type": "text"
      },
      "cell_type": "markdown",
      "source": [
        "Em seguida, temos a variável de espaço reservado para os rótulos verdadeiros associados às imagens que foram inseridas na variável de espaço reservado `x`. A forma desta variável de espaço reservado é `[None, num_classes]`, o que significa que pode conter um número arbitrário de rótulos e cada rótulo é um vetor de comprimento `num_classes` que é 10 neste caso."
      ]
    },
    {
      "metadata": {
        "collapsed": true,
        "id": "C12_7ms_J73-",
        "colab_type": "code",
        "colab": {}
      },
      "cell_type": "code",
      "source": [
        "y_true = tf.placeholder(tf.float32, shape=[None, 10], name='y_true')"
      ],
      "execution_count": 0,
      "outputs": []
    },
    {
      "metadata": {
        "id": "mp4urRjCJ74B",
        "colab_type": "text"
      },
      "cell_type": "markdown",
      "source": [
        "Poderíamos também ter uma variável de espaço reservado para o número de classe, mas, em vez disso, calcularemos isso usando argmax. Observe que este é um operador TensorFlow, portanto, nada é calculado neste ponto."
      ]
    },
    {
      "metadata": {
        "collapsed": true,
        "id": "Gkh_tMzTJ74C",
        "colab_type": "code",
        "colab": {}
      },
      "cell_type": "code",
      "source": [
        "y_true_cls = tf.argmax(y_true, dimension=1)"
      ],
      "execution_count": 0,
      "outputs": []
    },
    {
      "metadata": {
        "id": "Hqk48AcnJ74F",
        "colab_type": "text"
      },
      "cell_type": "markdown",
      "source": [
        "### Camada Convolucional 1\n",
        "\n",
        "Cria a primeira camada convolucional. É preciso `x_image` como entrada e cria `num_filters1` filtros diferentes, cada um com largura e altura iguais a `filter_size1`. Finalmente, desejamos tirar a amostra da imagem de forma que seja metade do tamanho, usando 2x2 max-pooling."
      ]
    },
    {
      "metadata": {
        "collapsed": true,
        "id": "fIv7YCEAJ74G",
        "colab_type": "code",
        "colab": {}
      },
      "cell_type": "code",
      "source": [
        "layer_conv1, weights_conv1 = new_conv_layer(input = x_image,\n",
        "                                            num_input_channels = num_channels,\n",
        "                                            filter_size = filter_size1,\n",
        "                                            num_filters = num_filters1,\n",
        "                                            use_pooling = True)"
      ],
      "execution_count": 0,
      "outputs": []
    },
    {
      "metadata": {
        "id": "-99dAkjVJ74J",
        "colab_type": "text"
      },
      "cell_type": "markdown",
      "source": [
        "Verifique a forma do tensor que será emitido pela camada convolucional. É (?, 14, 14, 16), o que significa que existe um número arbitrário de imagens (isto é o \"?\"). Cada imagem tem 14 pixels de largura e 14 pixels de altura, e há 16 canais diferentes, um canal para cada um dos filtros."
      ]
    },
    {
      "metadata": {
        "id": "rbk3NRMlJ74K",
        "colab_type": "code",
        "colab": {},
        "outputId": "95b26cc9-e572-4b8f-fa6b-4079c7f40fdd"
      },
      "cell_type": "code",
      "source": [
        "layer_conv1"
      ],
      "execution_count": 0,
      "outputs": [
        {
          "output_type": "execute_result",
          "data": {
            "text/plain": [
              "<tf.Tensor 'Relu:0' shape=(?, 14, 14, 16) dtype=float32>"
            ]
          },
          "metadata": {
            "tags": []
          },
          "execution_count": 22
        }
      ]
    },
    {
      "metadata": {
        "id": "3KkQIsVUJ74N",
        "colab_type": "text"
      },
      "cell_type": "markdown",
      "source": [
        "### Camada Convolucional 2\n",
        "\n",
        "Cria a segunda camada convolucional, que recebe como entrada a saída da primeira camada convolucional. O número de canais de entrada corresponde ao número de filtros na primeira camada convolucional."
      ]
    },
    {
      "metadata": {
        "collapsed": true,
        "id": "xHztxs-oJ74N",
        "colab_type": "code",
        "colab": {}
      },
      "cell_type": "code",
      "source": [
        "layer_conv2, weights_conv2 = new_conv_layer(input = layer_conv1,\n",
        "                                            num_input_channels = num_filters1,\n",
        "                                            filter_size = filter_size2,\n",
        "                                            num_filters = num_filters2,\n",
        "                                            use_pooling = True)"
      ],
      "execution_count": 0,
      "outputs": []
    },
    {
      "metadata": {
        "id": "BB5-li_qJ74P",
        "colab_type": "text"
      },
      "cell_type": "markdown",
      "source": [
        "Verifique a forma do tensor que será emitido a partir desta camada convolucional. A forma é (?, 7, 7, 36) onde o \"?\" novamente significa que há um número arbitrário de imagens, com cada imagem com largura e altura de 7 pixels, e há 36 canais, um para cada filtro."
      ]
    },
    {
      "metadata": {
        "id": "dlQIU3x3J74Q",
        "colab_type": "code",
        "colab": {},
        "outputId": "c853715c-ed0f-4672-9d22-49fd5949acad"
      },
      "cell_type": "code",
      "source": [
        "layer_conv2"
      ],
      "execution_count": 0,
      "outputs": [
        {
          "output_type": "execute_result",
          "data": {
            "text/plain": [
              "<tf.Tensor 'Relu_1:0' shape=(?, 7, 7, 36) dtype=float32>"
            ]
          },
          "metadata": {
            "tags": []
          },
          "execution_count": 24
        }
      ]
    },
    {
      "metadata": {
        "id": "kD9ovY35J74T",
        "colab_type": "text"
      },
      "cell_type": "markdown",
      "source": [
        "### Camada Flatten \n",
        "\n",
        "As camadas convolucionais produzem tensores 4-dim. Agora desejamos usá-los como entrada em uma rede totalmente conectada, o que requer que os tensores sejam remodelados ou \"achatados\" para tensores 2-dim."
      ]
    },
    {
      "metadata": {
        "collapsed": true,
        "id": "hjW32bGBJ74U",
        "colab_type": "code",
        "colab": {}
      },
      "cell_type": "code",
      "source": [
        "layer_flat, num_features = flatten_layer(layer_conv2)"
      ],
      "execution_count": 0,
      "outputs": []
    },
    {
      "metadata": {
        "id": "TirrlAvDJ74Z",
        "colab_type": "text"
      },
      "cell_type": "markdown",
      "source": [
        "Verifique se os tensores agora têm forma (?, 1764), o que significa que há um número arbitrário de imagens que foram achatadas para vetores de comprimento 1764 cada. Observe que 1764 = 7 x 7 x 36."
      ]
    },
    {
      "metadata": {
        "id": "vmTQbDljJ74a",
        "colab_type": "code",
        "colab": {},
        "outputId": "8b19d357-e34b-4ecd-9d19-23f77a384a8f"
      },
      "cell_type": "code",
      "source": [
        "layer_flat"
      ],
      "execution_count": 0,
      "outputs": [
        {
          "output_type": "execute_result",
          "data": {
            "text/plain": [
              "<tf.Tensor 'Reshape_1:0' shape=(?, 1764) dtype=float32>"
            ]
          },
          "metadata": {
            "tags": []
          },
          "execution_count": 26
        }
      ]
    },
    {
      "metadata": {
        "id": "FaZMo8NLJ74h",
        "colab_type": "code",
        "colab": {},
        "outputId": "e2734a04-4728-4f21-cac6-876e471d13ea"
      },
      "cell_type": "code",
      "source": [
        "num_features"
      ],
      "execution_count": 0,
      "outputs": [
        {
          "output_type": "execute_result",
          "data": {
            "text/plain": [
              "1764"
            ]
          },
          "metadata": {
            "tags": []
          },
          "execution_count": 27
        }
      ]
    },
    {
      "metadata": {
        "id": "K_UccErjJ74k",
        "colab_type": "text"
      },
      "cell_type": "markdown",
      "source": [
        "### Camada Totalmente Conectada 1\n",
        "\n",
        "Adiciona uma camada totalmente conectada à rede. A entrada é a camada flatten. O número de neurônios ou nós na camada totalmente conectada é `fc_size`. ReLU é usado para que possamos aprender relações não-lineares."
      ]
    },
    {
      "metadata": {
        "collapsed": true,
        "id": "HSPDIIoMJ74l",
        "colab_type": "code",
        "colab": {}
      },
      "cell_type": "code",
      "source": [
        "layer_fc1 = new_fc_layer(input = layer_flat,\n",
        "                         num_inputs = num_features,\n",
        "                         num_outputs = fc_size,\n",
        "                         use_relu = True)"
      ],
      "execution_count": 0,
      "outputs": []
    },
    {
      "metadata": {
        "id": "2MxA3WkmJ74q",
        "colab_type": "text"
      },
      "cell_type": "markdown",
      "source": [
        "Verifique se a saída da camada totalmente conectada é um tensor com forma (? 128) onde o \"?\" significa que há um número arbitrário de imagens e `fc_size` == 128."
      ]
    },
    {
      "metadata": {
        "id": "A-gG2UzxJ74r",
        "colab_type": "code",
        "colab": {},
        "outputId": "59d5b7e7-717f-4865-ce05-6410a8676381"
      },
      "cell_type": "code",
      "source": [
        "layer_fc1"
      ],
      "execution_count": 0,
      "outputs": [
        {
          "output_type": "execute_result",
          "data": {
            "text/plain": [
              "<tf.Tensor 'Relu_2:0' shape=(?, 128) dtype=float32>"
            ]
          },
          "metadata": {
            "tags": []
          },
          "execution_count": 29
        }
      ]
    },
    {
      "metadata": {
        "id": "DPUpg4QXJ74v",
        "colab_type": "text"
      },
      "cell_type": "markdown",
      "source": [
        "### Camada Totalmente Conectada 2\n",
        "\n",
        "Adiciona outra camada totalmente conectada que executa vetores do comprimento 10 para determinar a quais das 10 classes a imagem de entrada pertence. Observe que o ReLU não é usado nesta camada."
      ]
    },
    {
      "metadata": {
        "collapsed": true,
        "id": "p93lkPwHJ74w",
        "colab_type": "code",
        "colab": {}
      },
      "cell_type": "code",
      "source": [
        "layer_fc2 = new_fc_layer(input = layer_fc1,\n",
        "                         num_inputs = fc_size,\n",
        "                         num_outputs = num_classes,\n",
        "                         use_relu = False)"
      ],
      "execution_count": 0,
      "outputs": []
    },
    {
      "metadata": {
        "id": "SItTg6h4J74y",
        "colab_type": "code",
        "colab": {},
        "outputId": "9775f223-6460-49d3-ed01-846b6b439573"
      },
      "cell_type": "code",
      "source": [
        "layer_fc2"
      ],
      "execution_count": 0,
      "outputs": [
        {
          "output_type": "execute_result",
          "data": {
            "text/plain": [
              "<tf.Tensor 'add_3:0' shape=(?, 10) dtype=float32>"
            ]
          },
          "metadata": {
            "tags": []
          },
          "execution_count": 31
        }
      ]
    },
    {
      "metadata": {
        "id": "FFf7prcJJ741",
        "colab_type": "text"
      },
      "cell_type": "markdown",
      "source": [
        "### Classe Prevista"
      ]
    },
    {
      "metadata": {
        "id": "asQTMIgHJ742",
        "colab_type": "text"
      },
      "cell_type": "markdown",
      "source": [
        "A segunda camada totalmente conectada estima a probabilidade de a imagem de entrada pertencer a cada uma das 10 classes. No entanto, essas estimativas são um pouco difíceis de interpretar porque os números podem ser muito pequenos ou grandes, então queremos normalizá-los para que cada elemento seja limitado entre zero e um e a soma de 10 elementos para um. Isso é calculado usando a chamada função softmax e o resultado é armazenado em `y_pred`."
      ]
    },
    {
      "metadata": {
        "collapsed": true,
        "id": "MEnRtoxvJ742",
        "colab_type": "code",
        "colab": {}
      },
      "cell_type": "code",
      "source": [
        "y_pred = tf.nn.softmax(layer_fc2)"
      ],
      "execution_count": 0,
      "outputs": []
    },
    {
      "metadata": {
        "collapsed": true,
        "id": "4K0bQyvGJ744",
        "colab_type": "code",
        "colab": {}
      },
      "cell_type": "code",
      "source": [
        "y_pred_cls = tf.argmax(y_pred, dimension=1)"
      ],
      "execution_count": 0,
      "outputs": []
    },
    {
      "metadata": {
        "id": "RHC4K95VJ746",
        "colab_type": "text"
      },
      "cell_type": "markdown",
      "source": [
        "### Função de Custo a ser Otimizada"
      ]
    },
    {
      "metadata": {
        "id": "i_n1kqfNJ746",
        "colab_type": "text"
      },
      "cell_type": "markdown",
      "source": [
        "Para melhorar o modelo na classificação das imagens de entrada, devemos mudar de alguma forma as variáveis para todas as camadas da rede. Para fazer isso, primeiro precisamos saber o desempenho do modelo atualmente, comparando a saída prevista do modelo `y_pred` com a saída desejada `y_true`.\n",
        "\n",
        "A entropia cruzada é uma medida de desempenho usada na classificação. A entropia cruzada é uma função contínua que é sempre positiva e, se a saída prevista do modelo corresponde exatamente à saída desejada, a entropia cruzada é igual a zero. O objetivo da otimização é, portanto, minimizar a entropia cruzada para que ela fique o mais próximo possível de zero ao alterar as variáveis das camadas de rede.\n",
        "\n",
        "TensorFlow possui uma função incorporada para calcular a entropia cruzada. Observe que a função calcula o softmax internamente, então devemos usar a saída de `layer_fc2` diretamente em vez de` y_pred`, que já teve o softmax aplicado."
      ]
    },
    {
      "metadata": {
        "collapsed": true,
        "id": "GDp0Aeo6J747",
        "colab_type": "code",
        "colab": {}
      },
      "cell_type": "code",
      "source": [
        "cross_entropy = tf.nn.softmax_cross_entropy_with_logits(logits = layer_fc2, labels = y_true)"
      ],
      "execution_count": 0,
      "outputs": []
    },
    {
      "metadata": {
        "id": "3Wn-Jf-ZJ749",
        "colab_type": "text"
      },
      "cell_type": "markdown",
      "source": [
        "Já calculamos a entropia cruzada para cada uma das classificações de imagens, de modo que temos uma medida de quão bem o modelo executa em cada imagem individualmente. Mas, para usar a entropia cruzada para orientar a otimização das variáveis do modelo, precisamos de um único valor escalar, então simplesmente tomamos a média da entropia cruzada para todas as classificações de imagem."
      ]
    },
    {
      "metadata": {
        "collapsed": true,
        "id": "VMcUs2sZJ749",
        "colab_type": "code",
        "colab": {}
      },
      "cell_type": "code",
      "source": [
        "cost = tf.reduce_mean(cross_entropy)"
      ],
      "execution_count": 0,
      "outputs": []
    },
    {
      "metadata": {
        "id": "KB9Lok_dJ75E",
        "colab_type": "text"
      },
      "cell_type": "markdown",
      "source": [
        "### Método de Otimização"
      ]
    },
    {
      "metadata": {
        "id": "xSKhmjpSJ75F",
        "colab_type": "text"
      },
      "cell_type": "markdown",
      "source": [
        "Agora que temos uma medida de custo que deve ser minimizada, podemos criar um otimizador. Neste caso, é o `AdamOptimizer` que é uma forma avançada de Gradient Descent.\n",
        "\n",
        "Observe que a otimização não é realizada neste momento. Na verdade, nada é calculado, e estamos apenas adicionamos o otimizador-objeto ao gráfico TensorFlow para execução posterior."
      ]
    },
    {
      "metadata": {
        "collapsed": true,
        "id": "gSjuiBmrJ75G",
        "colab_type": "code",
        "colab": {}
      },
      "cell_type": "code",
      "source": [
        "optimizer = tf.train.AdamOptimizer(learning_rate = 1e-4).minimize(cost)"
      ],
      "execution_count": 0,
      "outputs": []
    },
    {
      "metadata": {
        "id": "HSWl9tIhJ75J",
        "colab_type": "text"
      },
      "cell_type": "markdown",
      "source": [
        "### Medidas de Performance "
      ]
    },
    {
      "metadata": {
        "id": "R6FRpQdUJ75K",
        "colab_type": "text"
      },
      "cell_type": "markdown",
      "source": [
        "Precisamos de mais algumas medidas de desempenho para exibir o progresso do nosso modelo. Teremos aqui um vetor de booleanos se a classe prevista é igual à classe verdadeira de cada imagem."
      ]
    },
    {
      "metadata": {
        "collapsed": true,
        "id": "nUGwymgyJ75M",
        "colab_type": "code",
        "colab": {}
      },
      "cell_type": "code",
      "source": [
        "correct_prediction = tf.equal(y_pred_cls, y_true_cls)"
      ],
      "execution_count": 0,
      "outputs": []
    },
    {
      "metadata": {
        "id": "je4iy5r3J75Q",
        "colab_type": "text"
      },
      "cell_type": "markdown",
      "source": [
        "Agora calculamos a precisão da classificação fazendo o cast do vetor de booleanos para floats, de modo que False se torna 0 e True se torna 1 e, em seguida, calculamos a média desses números."
      ]
    },
    {
      "metadata": {
        "collapsed": true,
        "id": "deOhmZrlJ75R",
        "colab_type": "code",
        "colab": {}
      },
      "cell_type": "code",
      "source": [
        "accuracy = tf.reduce_mean(tf.cast(correct_prediction, tf.float32))"
      ],
      "execution_count": 0,
      "outputs": []
    },
    {
      "metadata": {
        "id": "fYDrhZnSJ75X",
        "colab_type": "text"
      },
      "cell_type": "markdown",
      "source": [
        "## TensorFlow Run"
      ]
    },
    {
      "metadata": {
        "id": "OLY6Rf9zJ75Z",
        "colab_type": "text"
      },
      "cell_type": "markdown",
      "source": [
        "### Cria a Sessão TensorFlow"
      ]
    },
    {
      "metadata": {
        "collapsed": true,
        "id": "jn7Huvn3J75b",
        "colab_type": "code",
        "colab": {}
      },
      "cell_type": "code",
      "source": [
        "session = tf.Session()"
      ],
      "execution_count": 0,
      "outputs": []
    },
    {
      "metadata": {
        "id": "o9C4luKkJ75d",
        "colab_type": "text"
      },
      "cell_type": "markdown",
      "source": [
        "### Inicializando as Variáveis"
      ]
    },
    {
      "metadata": {
        "collapsed": true,
        "id": "hl2URLrXJ75d",
        "colab_type": "code",
        "colab": {}
      },
      "cell_type": "code",
      "source": [
        "session.run(tf.global_variables_initializer())"
      ],
      "execution_count": 0,
      "outputs": []
    },
    {
      "metadata": {
        "id": "cog7eXU1J75i",
        "colab_type": "text"
      },
      "cell_type": "markdown",
      "source": [
        "# Treinamento"
      ]
    },
    {
      "metadata": {
        "id": "pNtlV0BjJ75j",
        "colab_type": "text"
      },
      "cell_type": "markdown",
      "source": [
        "Existem 55 mil imagens no conjunto de treinamento. Demora muito tempo calcular o gradiente do modelo usando todas essas imagens. Portanto, usamos apenas um pequeno lote de imagens em cada iteração do otimizador.\n",
        "\n",
        "Se o seu computador falhar ou se tornar muito lento porque você está sem memória RAM, então você pode tentar diminuir esse número, mas talvez seja necessário executar mais iterações de otimização."
      ]
    },
    {
      "metadata": {
        "id": "5F_6Ia7rJ75m",
        "colab_type": "code",
        "colab": {}
      },
      "cell_type": "code",
      "source": [
        "train_batch_size = 64"
      ],
      "execution_count": 0,
      "outputs": []
    },
    {
      "metadata": {
        "id": "D_DsNFDpJ75p",
        "colab_type": "text"
      },
      "cell_type": "markdown",
      "source": [
        "Função para executar uma série de iterações de otimização de modo a melhorar gradualmente as variáveis das camadas da rede. Em cada iteração, um novo lote de dados é selecionado a partir do conjunto de treinamento e, em seguida, TensorFlow executa o otimizador usando essas amostras de treinamento. O progresso é impresso a cada 100 iterações."
      ]
    },
    {
      "metadata": {
        "id": "7o9u1Y8RJ75q",
        "colab_type": "code",
        "colab": {}
      },
      "cell_type": "code",
      "source": [
        "# Contagem do total de iterações\n",
        "total_iterations = 0\n",
        "\n",
        "def optimize(num_iterations):\n",
        "    # Garante que a variável é global e não local\n",
        "    global total_iterations\n",
        "\n",
        "    # Start-time.\n",
        "    start_time = time.time()\n",
        "\n",
        "    for i in range(total_iterations, total_iterations + num_iterations):\n",
        "\n",
        "        # Obtém um batch dos dados de treino\n",
        "        x_batch, y_true_batch = data.train.next_batch(train_batch_size)\n",
        "\n",
        "        # Coloca o batch no placeholder\n",
        "        feed_dict_train = {x: x_batch,\n",
        "                           y_true: y_true_batch}\n",
        "\n",
        "        # Executa o otimizador\n",
        "        session.run(optimizer, feed_dict = feed_dict_train)\n",
        "\n",
        "        # Print\n",
        "        if i % 100 == 0:\n",
        "            # Calcula a acurácia\n",
        "            acc = session.run(accuracy, feed_dict=feed_dict_train)\n",
        "\n",
        "            # Mensagem\n",
        "            msg = \"Iteração de Otimização: {0:>6}, Acurácia em Treino: {1:>6.1%}\"\n",
        "\n",
        "            # Print\n",
        "            print(msg.format(i + 1, acc))\n",
        "\n",
        "    # Atualiza o número total de iterações\n",
        "    total_iterations += num_iterations\n",
        "\n",
        "    # Fim da execução\n",
        "    end_time = time.time()\n",
        "\n",
        "    # Calcula o tempo gasto\n",
        "    time_dif = end_time - start_time\n",
        "\n",
        "    # Print\n",
        "    print(\"Tempo gasto: \" + str(timedelta(seconds=int(round(time_dif)))))"
      ],
      "execution_count": 0,
      "outputs": []
    },
    {
      "metadata": {
        "id": "ng0Z45Q9J75t",
        "colab_type": "text"
      },
      "cell_type": "markdown",
      "source": [
        "### Função Para Plot dos Erros"
      ]
    },
    {
      "metadata": {
        "collapsed": true,
        "id": "8Dk4JU8PJ75t",
        "colab_type": "code",
        "colab": {}
      },
      "cell_type": "code",
      "source": [
        "def plot_example_errors(cls_pred, correct):\n",
        "    incorrect = (correct == False)\n",
        "    \n",
        "    images = data.test.images[incorrect]\n",
        "    \n",
        "    cls_pred = cls_pred[incorrect]\n",
        "\n",
        "    cls_true = data.test.cls[incorrect]\n",
        "    \n",
        "    # Plot\n",
        "    plot_images(images = images[0:9], cls_true = cls_true[0:9], cls_pred = cls_pred[0:9])"
      ],
      "execution_count": 0,
      "outputs": []
    },
    {
      "metadata": {
        "id": "nGzmgR2cJ75y",
        "colab_type": "text"
      },
      "cell_type": "markdown",
      "source": [
        "### Função Para Criar a Confusion Matrix"
      ]
    },
    {
      "metadata": {
        "collapsed": true,
        "id": "Au-0pWs1J75z",
        "colab_type": "code",
        "colab": {}
      },
      "cell_type": "code",
      "source": [
        "def plot_confusion_matrix(cls_pred):\n",
        "    cls_true = data.test.cls\n",
        "\n",
        "    cm = confusion_matrix(y_true = cls_true, y_pred = cls_pred)\n",
        "\n",
        "    # Print \n",
        "    print(cm)\n",
        "\n",
        "    # Plot \n",
        "    plt.matshow(cm)\n",
        "\n",
        "    plt.colorbar()\n",
        "    tick_marks = np.arange(num_classes)\n",
        "    plt.xticks(tick_marks, range(num_classes))\n",
        "    plt.yticks(tick_marks, range(num_classes))\n",
        "    plt.xlabel('Previsto')\n",
        "    plt.ylabel('Label Original')\n",
        "\n",
        "    plt.show()"
      ],
      "execution_count": 0,
      "outputs": []
    },
    {
      "metadata": {
        "id": "7xO0ZRFjJ752",
        "colab_type": "text"
      },
      "cell_type": "markdown",
      "source": [
        "### Função Para Mostrar a Performance"
      ]
    },
    {
      "metadata": {
        "id": "UCg4QoGtJ752",
        "colab_type": "text"
      },
      "cell_type": "markdown",
      "source": [
        "Função para imprimir a precisão da classificação no conjunto de teste.\n",
        "\n",
        "Demora um pouco para calcular a classificação para todas as imagens no conjunto de teste, é por isso que os resultados são reutilizados chamando as funções acima diretamente dessa função, portanto as classificações não precisam ser recalculadas por cada função.\n",
        "\n",
        "Observe que esta função pode usar uma grande quantidade de memória do computador, razão pela qual o conjunto de testes é dividido em lotes menores. Se você tem pouca RAM no seu computador e ele travar, então você pode tentar baixar o tamanho do lote."
      ]
    },
    {
      "metadata": {
        "collapsed": true,
        "id": "yWh1nt-AJ753",
        "colab_type": "code",
        "colab": {}
      },
      "cell_type": "code",
      "source": [
        "test_batch_size = 256\n",
        "\n",
        "def print_test_accuracy(show_example_errors = False, show_confusion_matrix = False):\n",
        "\n",
        "    num_test = len(data.test.images)\n",
        "\n",
        "    cls_pred = np.zeros(shape=num_test, dtype=np.int)\n",
        "\n",
        "    i = 0\n",
        "\n",
        "    while i < num_test:\n",
        "        j = min(i + test_batch_size, num_test)\n",
        "\n",
        "        images = data.test.images[i:j, :]\n",
        "\n",
        "        labels = data.test.labels[i:j, :]\n",
        "\n",
        "        feed_dict = {x: images, y_true: labels}\n",
        "\n",
        "        cls_pred[i:j] = session.run(y_pred_cls, feed_dict=feed_dict)\n",
        "\n",
        "        i = j\n",
        "\n",
        "    cls_true = data.test.cls\n",
        "\n",
        "    correct = (cls_true == cls_pred)\n",
        "\n",
        "    correct_sum = correct.sum()\n",
        "\n",
        "    acc = float(correct_sum) / num_test\n",
        "\n",
        "    # Print \n",
        "    msg = \"Acurácia em Teste: {0:.1%} ({1} / {2})\"\n",
        "    print(msg.format(acc, correct_sum, num_test))\n",
        "\n",
        "    # Plot \n",
        "    if show_example_errors:\n",
        "        print(\"Erros:\")\n",
        "        plot_example_errors(cls_pred=cls_pred, correct=correct)\n",
        "\n",
        "    # Plot \n",
        "    if show_confusion_matrix:\n",
        "        print(\"Confusion Matrix:\")\n",
        "        plot_confusion_matrix(cls_pred=cls_pred)"
      ],
      "execution_count": 0,
      "outputs": []
    },
    {
      "metadata": {
        "id": "84qie4uhJ756",
        "colab_type": "text"
      },
      "cell_type": "markdown",
      "source": [
        "## Performance Antes da Otimização"
      ]
    },
    {
      "metadata": {
        "id": "2d3ZQ_cPJ757",
        "colab_type": "code",
        "colab": {},
        "outputId": "0fca3a46-47ef-4c85-f3c3-67bebacebeb2"
      },
      "cell_type": "code",
      "source": [
        "print_test_accuracy()"
      ],
      "execution_count": 0,
      "outputs": [
        {
          "output_type": "stream",
          "text": [
            "Acurácia em Teste: 5.1% (513 / 10000)\n"
          ],
          "name": "stdout"
        }
      ]
    },
    {
      "metadata": {
        "id": "EeqUqqfXJ75_",
        "colab_type": "text"
      },
      "cell_type": "markdown",
      "source": [
        "## Performance Após 1 Iteração de Otimização"
      ]
    },
    {
      "metadata": {
        "id": "_dqvuJdVJ76B",
        "colab_type": "code",
        "colab": {},
        "outputId": "e923af1d-14bd-4631-a5a6-dda2473425bf"
      },
      "cell_type": "code",
      "source": [
        "optimize(num_iterations=1)"
      ],
      "execution_count": 0,
      "outputs": [
        {
          "output_type": "stream",
          "text": [
            "Iteração de Otimização:      1, Acurácia em Treino:  10.9%\n",
            "Tempo gasto: 0:00:00\n"
          ],
          "name": "stdout"
        }
      ]
    },
    {
      "metadata": {
        "scrolled": true,
        "id": "w_SvguI7J76F",
        "colab_type": "code",
        "colab": {},
        "outputId": "f71f076f-3d7b-490d-d1fc-2d39de0db1db"
      },
      "cell_type": "code",
      "source": [
        "print_test_accuracy()"
      ],
      "execution_count": 0,
      "outputs": [
        {
          "output_type": "stream",
          "text": [
            "Acurácia em Teste: 6.6% (656 / 10000)\n"
          ],
          "name": "stdout"
        }
      ]
    },
    {
      "metadata": {
        "id": "HVDVB3cKJ76I",
        "colab_type": "text"
      },
      "cell_type": "markdown",
      "source": [
        "## Performance Após 100 Iterações de Otimização"
      ]
    },
    {
      "metadata": {
        "scrolled": true,
        "id": "cYBpIP_MJ76J",
        "colab_type": "code",
        "colab": {},
        "outputId": "af1bf013-b794-4bdd-9fdf-84f3a6f45a62"
      },
      "cell_type": "code",
      "source": [
        "optimize(num_iterations = 99) "
      ],
      "execution_count": 0,
      "outputs": [
        {
          "output_type": "stream",
          "text": [
            "Tempo gasto: 0:00:00\n"
          ],
          "name": "stdout"
        }
      ]
    },
    {
      "metadata": {
        "id": "ivygk4RCJ76S",
        "colab_type": "code",
        "colab": {},
        "outputId": "c28e7d5d-5d3d-4b4f-da09-e6201e10af32"
      },
      "cell_type": "code",
      "source": [
        "print_test_accuracy(show_example_errors=True)"
      ],
      "execution_count": 0,
      "outputs": [
        {
          "output_type": "stream",
          "text": [
            "Acurácia em Teste: 63.1% (6309 / 10000)\n",
            "Erros:\n"
          ],
          "name": "stdout"
        },
        {
          "output_type": "display_data",
          "data": {
            "image/png": "[encoded data removed]",
            "text/plain": [
              "<matplotlib.figure.Figure at 0x7f287e7e6320>"
            ]
          },
          "metadata": {
            "tags": []
          }
        }
      ]
    },
    {
      "metadata": {
        "id": "YWTUrPVYJ76V",
        "colab_type": "text"
      },
      "cell_type": "markdown",
      "source": [
        "## Performance Após 1000 Iterações de Otimização"
      ]
    },
    {
      "metadata": {
        "scrolled": false,
        "id": "mhkPSYQUJ76W",
        "colab_type": "code",
        "colab": {},
        "outputId": "7b6fccb5-1700-4238-8ffe-b354bd11ecc1"
      },
      "cell_type": "code",
      "source": [
        "optimize(num_iterations = 900)"
      ],
      "execution_count": 0,
      "outputs": [
        {
          "output_type": "stream",
          "text": [
            "Iteração de Otimização:    101, Acurácia em Treino:  68.8%\n",
            "Iteração de Otimização:    201, Acurácia em Treino:  81.2%\n",
            "Iteração de Otimização:    301, Acurácia em Treino:  75.0%\n",
            "Iteração de Otimização:    401, Acurácia em Treino:  84.4%\n",
            "Iteração de Otimização:    501, Acurácia em Treino:  87.5%\n",
            "Iteração de Otimização:    601, Acurácia em Treino:  95.3%\n",
            "Iteração de Otimização:    701, Acurácia em Treino:  92.2%\n",
            "Iteração de Otimização:    801, Acurácia em Treino:  92.2%\n",
            "Iteração de Otimização:    901, Acurácia em Treino:  92.2%\n",
            "Tempo gasto: 0:00:02\n"
          ],
          "name": "stdout"
        }
      ]
    },
    {
      "metadata": {
        "scrolled": true,
        "id": "Ed6L8NbsJ76Z",
        "colab_type": "code",
        "colab": {},
        "outputId": "e85c03fa-c9e7-4083-fd22-c84cef3d809f"
      },
      "cell_type": "code",
      "source": [
        "print_test_accuracy(show_example_errors=True)"
      ],
      "execution_count": 0,
      "outputs": [
        {
          "output_type": "stream",
          "text": [
            "Acurácia em Teste: 92.6% (9258 / 10000)\n",
            "Erros:\n"
          ],
          "name": "stdout"
        },
        {
          "output_type": "display_data",
          "data": {
            "image/png": "[encoded data removed]",
            "text/plain": [
              "<matplotlib.figure.Figure at 0x7f287e7e66a0>"
            ]
          },
          "metadata": {
            "tags": []
          }
        }
      ]
    },
    {
      "metadata": {
        "id": "BvsB32ryJ76e",
        "colab_type": "text"
      },
      "cell_type": "markdown",
      "source": [
        "## Performance Após 10.000 Iterações de Otimização"
      ]
    },
    {
      "metadata": {
        "scrolled": true,
        "id": "YMmBrUOYJ76f",
        "colab_type": "code",
        "colab": {},
        "outputId": "9811ff4b-613d-4951-a2bf-8e5c0aa0e8ba"
      },
      "cell_type": "code",
      "source": [
        "optimize(num_iterations = 9000) "
      ],
      "execution_count": 0,
      "outputs": [
        {
          "output_type": "stream",
          "text": [
            "Iteração de Otimização:   1001, Acurácia em Treino:  92.2%\n",
            "Iteração de Otimização:   1101, Acurácia em Treino:  96.9%\n",
            "Iteração de Otimização:   1201, Acurácia em Treino:  96.9%\n",
            "Iteração de Otimização:   1301, Acurácia em Treino:  92.2%\n",
            "Iteração de Otimização:   1401, Acurácia em Treino:  93.8%\n",
            "Iteração de Otimização:   1501, Acurácia em Treino:  92.2%\n",
            "Iteração de Otimização:   1601, Acurácia em Treino:  96.9%\n",
            "Iteração de Otimização:   1701, Acurácia em Treino:  92.2%\n",
            "Iteração de Otimização:   1801, Acurácia em Treino:  95.3%\n",
            "Iteração de Otimização:   1901, Acurácia em Treino:  92.2%\n",
            "Iteração de Otimização:   2001, Acurácia em Treino:  93.8%\n",
            "Iteração de Otimização:   2101, Acurácia em Treino:  96.9%\n",
            "Iteração de Otimização:   2201, Acurácia em Treino:  95.3%\n",
            "Iteração de Otimização:   2301, Acurácia em Treino:  98.4%\n",
            "Iteração de Otimização:   2401, Acurácia em Treino: 100.0%\n",
            "Iteração de Otimização:   2501, Acurácia em Treino:  98.4%\n",
            "Iteração de Otimização:   2601, Acurácia em Treino:  93.8%\n",
            "Iteração de Otimização:   2701, Acurácia em Treino:  92.2%\n",
            "Iteração de Otimização:   2801, Acurácia em Treino:  95.3%\n",
            "Iteração de Otimização:   2901, Acurácia em Treino:  98.4%\n",
            "Iteração de Otimização:   3001, Acurácia em Treino:  96.9%\n",
            "Iteração de Otimização:   3101, Acurácia em Treino: 100.0%\n",
            "Iteração de Otimização:   3201, Acurácia em Treino: 100.0%\n",
            "Iteração de Otimização:   3301, Acurácia em Treino:  96.9%\n",
            "Iteração de Otimização:   3401, Acurácia em Treino:  93.8%\n",
            "Iteração de Otimização:   3501, Acurácia em Treino:  96.9%\n",
            "Iteração de Otimização:   3601, Acurácia em Treino:  98.4%\n",
            "Iteração de Otimização:   3701, Acurácia em Treino:  95.3%\n",
            "Iteração de Otimização:   3801, Acurácia em Treino:  98.4%\n",
            "Iteração de Otimização:   3901, Acurácia em Treino:  96.9%\n",
            "Iteração de Otimização:   4001, Acurácia em Treino:  98.4%\n",
            "Iteração de Otimização:   4101, Acurácia em Treino:  98.4%\n",
            "Iteração de Otimização:   4201, Acurácia em Treino:  98.4%\n",
            "Iteração de Otimização:   4301, Acurácia em Treino: 100.0%\n",
            "Iteração de Otimização:   4401, Acurácia em Treino:  95.3%\n",
            "Iteração de Otimização:   4501, Acurácia em Treino:  96.9%\n",
            "Iteração de Otimização:   4601, Acurácia em Treino:  98.4%\n",
            "Iteração de Otimização:   4701, Acurácia em Treino:  98.4%\n",
            "Iteração de Otimização:   4801, Acurácia em Treino:  98.4%\n",
            "Iteração de Otimização:   4901, Acurácia em Treino: 100.0%\n",
            "Iteração de Otimização:   5001, Acurácia em Treino: 100.0%\n",
            "Iteração de Otimização:   5101, Acurácia em Treino: 100.0%\n",
            "Iteração de Otimização:   5201, Acurácia em Treino: 100.0%\n",
            "Iteração de Otimização:   5301, Acurácia em Treino: 100.0%\n",
            "Iteração de Otimização:   5401, Acurácia em Treino:  98.4%\n",
            "Iteração de Otimização:   5501, Acurácia em Treino: 100.0%\n",
            "Iteração de Otimização:   5601, Acurácia em Treino:  93.8%\n",
            "Iteração de Otimização:   5701, Acurácia em Treino: 100.0%\n",
            "Iteração de Otimização:   5801, Acurácia em Treino:  95.3%\n",
            "Iteração de Otimização:   5901, Acurácia em Treino:  98.4%\n",
            "Iteração de Otimização:   6001, Acurácia em Treino:  96.9%\n",
            "Iteração de Otimização:   6101, Acurácia em Treino:  96.9%\n",
            "Iteração de Otimização:   6201, Acurácia em Treino:  95.3%\n",
            "Iteração de Otimização:   6301, Acurácia em Treino:  98.4%\n",
            "Iteração de Otimização:   6401, Acurácia em Treino:  96.9%\n",
            "Iteração de Otimização:   6501, Acurácia em Treino: 100.0%\n",
            "Iteração de Otimização:   6601, Acurácia em Treino:  98.4%\n",
            "Iteração de Otimização:   6701, Acurácia em Treino: 100.0%\n",
            "Iteração de Otimização:   6801, Acurácia em Treino:  98.4%\n",
            "Iteração de Otimização:   6901, Acurácia em Treino:  96.9%\n",
            "Iteração de Otimização:   7001, Acurácia em Treino:  98.4%\n",
            "Iteração de Otimização:   7101, Acurácia em Treino:  98.4%\n",
            "Iteração de Otimização:   7201, Acurácia em Treino: 100.0%\n",
            "Iteração de Otimização:   7301, Acurácia em Treino:  96.9%\n",
            "Iteração de Otimização:   7401, Acurácia em Treino: 100.0%\n",
            "Iteração de Otimização:   7501, Acurácia em Treino: 100.0%\n",
            "Iteração de Otimização:   7601, Acurácia em Treino: 100.0%\n",
            "Iteração de Otimização:   7701, Acurácia em Treino:  98.4%\n",
            "Iteração de Otimização:   7801, Acurácia em Treino: 100.0%\n",
            "Iteração de Otimização:   7901, Acurácia em Treino:  98.4%\n",
            "Iteração de Otimização:   8001, Acurácia em Treino: 100.0%\n",
            "Iteração de Otimização:   8101, Acurácia em Treino: 100.0%\n",
            "Iteração de Otimização:   8201, Acurácia em Treino: 100.0%\n",
            "Iteração de Otimização:   8301, Acurácia em Treino:  96.9%\n",
            "Iteração de Otimização:   8401, Acurácia em Treino:  98.4%\n",
            "Iteração de Otimização:   8501, Acurácia em Treino:  98.4%\n",
            "Iteração de Otimização:   8601, Acurácia em Treino:  98.4%\n",
            "Iteração de Otimização:   8701, Acurácia em Treino:  96.9%\n",
            "Iteração de Otimização:   8801, Acurácia em Treino: 100.0%\n",
            "Iteração de Otimização:   8901, Acurácia em Treino:  95.3%\n",
            "Iteração de Otimização:   9001, Acurácia em Treino:  98.4%\n",
            "Iteração de Otimização:   9101, Acurácia em Treino: 100.0%\n",
            "Iteração de Otimização:   9201, Acurácia em Treino: 100.0%\n",
            "Iteração de Otimização:   9301, Acurácia em Treino: 100.0%\n",
            "Iteração de Otimização:   9401, Acurácia em Treino:  98.4%\n",
            "Iteração de Otimização:   9501, Acurácia em Treino:  98.4%\n",
            "Iteração de Otimização:   9601, Acurácia em Treino: 100.0%\n",
            "Iteração de Otimização:   9701, Acurácia em Treino: 100.0%\n",
            "Iteração de Otimização:   9801, Acurácia em Treino: 100.0%\n",
            "Iteração de Otimização:   9901, Acurácia em Treino: 100.0%\n",
            "Tempo gasto: 0:00:18\n"
          ],
          "name": "stdout"
        }
      ]
    },
    {
      "metadata": {
        "scrolled": true,
        "id": "9wHqKRG7J76h",
        "colab_type": "code",
        "colab": {},
        "outputId": "2a6ad341-c98a-4f04-c3f6-6bbb6aea7828"
      },
      "cell_type": "code",
      "source": [
        "print_test_accuracy(show_example_errors = True, show_confusion_matrix = True)"
      ],
      "execution_count": 0,
      "outputs": [
        {
          "output_type": "stream",
          "text": [
            "Acurácia em Teste: 98.7% (9871 / 10000)\n",
            "Erros:\n"
          ],
          "name": "stdout"
        },
        {
          "output_type": "display_data",
          "data": {
            "image/png": "[encoded data removed]",
            "text/plain": [
              "<matplotlib.figure.Figure at 0x7f287e7e6278>"
            ]
          },
          "metadata": {
            "tags": []
          }
        },
        {
          "output_type": "stream",
          "text": [
            "Confusion Matrix:\n",
            "[[ 974    0    0    0    0    0    2    0    3    1]\n",
            " [   0 1129    3    0    0    0    1    1    1    0]\n",
            " [   3    3 1017    1    1    0    0    2    4    1]\n",
            " [   1    0    0  997    0    4    0    3    2    3]\n",
            " [   0    0    3    0  967    0    1    2    3    6]\n",
            " [   2    0    0    2    0  881    2    0    2    3]\n",
            " [   5    2    0    1    2    2  946    0    0    0]\n",
            " [   0    2    5    1    0    0    0 1014    2    4]\n",
            " [   6    1    3    1    0    1    0    2  953    7]\n",
            " [   0    5    0    0    3    3    1    3    1  993]]\n"
          ],
          "name": "stdout"
        },
        {
          "output_type": "display_data",
          "data": {
            "image/png": "[encoded data removed]",
            "text/plain": [
              "<matplotlib.figure.Figure at 0x7f2874d5fda0>"
            ]
          },
          "metadata": {
            "tags": []
          }
        }
      ]
    },
    {
      "metadata": {
        "id": "EtE-44DUJ76q",
        "colab_type": "text"
      },
      "cell_type": "markdown",
      "source": [
        "## Visualização de Pesos e Camadas\n",
        "\n",
        "Ao tentar entender por que a rede neural convolutiva pode reconhecer os dígitos manuscritos, agora visualizaremos os pesos dos filtros convolucionais e as imagens de saída resultantes."
      ]
    },
    {
      "metadata": {
        "id": "KQAev4S2J76r",
        "colab_type": "text"
      },
      "cell_type": "markdown",
      "source": [
        "### Função Para Plotar os Pesos Convolucionais"
      ]
    },
    {
      "metadata": {
        "collapsed": true,
        "id": "unp-P3gUJ76t",
        "colab_type": "code",
        "colab": {}
      },
      "cell_type": "code",
      "source": [
        "def plot_conv_weights(weights, input_channel=0):\n",
        "    w = session.run(weights)\n",
        "\n",
        "    w_min = np.min(w)\n",
        "    w_max = np.max(w)\n",
        "\n",
        "    num_filters = w.shape[3]\n",
        "\n",
        "    num_grids = math.ceil(math.sqrt(num_filters))\n",
        "    \n",
        "    fig, axes = plt.subplots(num_grids, num_grids)\n",
        "\n",
        "    # Plot \n",
        "    for i, ax in enumerate(axes.flat):\n",
        "        if i < num_filters:\n",
        "\n",
        "            img = w[:, :, input_channel, i]\n",
        "\n",
        "            # Plot \n",
        "            ax.imshow(img, vmin = w_min, vmax = w_max, interpolation = 'nearest', cmap = 'seismic')\n",
        "        \n",
        "        ax.set_xticks([])\n",
        "        ax.set_yticks([])\n",
        "    \n",
        "    plt.show()"
      ],
      "execution_count": 0,
      "outputs": []
    },
    {
      "metadata": {
        "id": "_6V58CIUJ76x",
        "colab_type": "text"
      },
      "cell_type": "markdown",
      "source": [
        "### Função Para o Plot das Saídas das Camadas Convolucionais"
      ]
    },
    {
      "metadata": {
        "collapsed": true,
        "id": "t_agT89HJ76y",
        "colab_type": "code",
        "colab": {}
      },
      "cell_type": "code",
      "source": [
        "def plot_conv_layer(layer, image):\n",
        "\n",
        "    feed_dict = {x: [image]}\n",
        "\n",
        "    values = session.run(layer, feed_dict=feed_dict)\n",
        "\n",
        "    num_filters = values.shape[3]\n",
        "\n",
        "    num_grids = math.ceil(math.sqrt(num_filters))\n",
        "    \n",
        "    fig, axes = plt.subplots(num_grids, num_grids)\n",
        "\n",
        "    # Plot\n",
        "    for i, ax in enumerate(axes.flat):\n",
        "        if i < num_filters:\n",
        "            img = values[0, :, :, i]\n",
        "\n",
        "            # Plot\n",
        "            ax.imshow(img, interpolation = 'nearest', cmap = 'binary')\n",
        "        \n",
        "        ax.set_xticks([])\n",
        "        ax.set_yticks([])\n",
        "    \n",
        "    plt.show()"
      ],
      "execution_count": 0,
      "outputs": []
    },
    {
      "metadata": {
        "id": "2qMifiefJ761",
        "colab_type": "text"
      },
      "cell_type": "markdown",
      "source": [
        "### Input Images"
      ]
    },
    {
      "metadata": {
        "collapsed": true,
        "id": "Qi0Jgmo5J764",
        "colab_type": "code",
        "colab": {}
      },
      "cell_type": "code",
      "source": [
        "def plot_image(image):\n",
        "    plt.imshow(image.reshape(img_shape),\n",
        "               interpolation='nearest',\n",
        "               cmap='binary')\n",
        "\n",
        "    plt.show()"
      ],
      "execution_count": 0,
      "outputs": []
    },
    {
      "metadata": {
        "id": "eMfuw4BQJ766",
        "colab_type": "code",
        "colab": {},
        "outputId": "c0281ff7-6f61-46f6-df1a-a2f4d8c47712"
      },
      "cell_type": "code",
      "source": [
        "image1 = data.test.images[0]\n",
        "plot_image(image1)"
      ],
      "execution_count": 0,
      "outputs": [
        {
          "output_type": "display_data",
          "data": {
            "image/png": "[encoded data removed]",
            "text/plain": [
              "<matplotlib.figure.Figure at 0x7f287bb7eb70>"
            ]
          },
          "metadata": {
            "tags": []
          }
        }
      ]
    },
    {
      "metadata": {
        "id": "NZjvpSiVJ77E",
        "colab_type": "code",
        "colab": {},
        "outputId": "ba67b836-7467-4a4c-f21a-59e30965b104"
      },
      "cell_type": "code",
      "source": [
        "image2 = data.test.images[13]\n",
        "plot_image(image2)"
      ],
      "execution_count": 0,
      "outputs": [
        {
          "output_type": "display_data",
          "data": {
            "image/png": "[encoded data removed]",
            "text/plain": [
              "<matplotlib.figure.Figure at 0x7f287e7f0780>"
            ]
          },
          "metadata": {
            "tags": []
          }
        }
      ]
    },
    {
      "metadata": {
        "id": "r0G8AkaMJ77I",
        "colab_type": "text"
      },
      "cell_type": "markdown",
      "source": [
        "### Saídas da Camada Convolucional 1"
      ]
    },
    {
      "metadata": {
        "id": "4U7n3VMyJ77K",
        "colab_type": "text"
      },
      "cell_type": "markdown",
      "source": [
        "Plot dos pesos de filtro para a primeira camada convolucional. Observe que os pesos positivos são vermelhos e os pesos negativos são azuis."
      ]
    },
    {
      "metadata": {
        "scrolled": false,
        "id": "k0ju7bQYJ77K",
        "colab_type": "code",
        "colab": {},
        "outputId": "13154e19-5e9a-4618-d92d-cc0ce41034be"
      },
      "cell_type": "code",
      "source": [
        "plot_conv_weights(weights=weights_conv1)"
      ],
      "execution_count": 0,
      "outputs": [
        {
          "output_type": "display_data",
          "data": {
            "image/png": "[encoded data removed]",
            "text/plain": [
              "<matplotlib.figure.Figure at 0x7f2874ce90b8>"
            ]
          },
          "metadata": {
            "tags": []
          }
        }
      ]
    },
    {
      "metadata": {
        "id": "kESWa3xLJ77P",
        "colab_type": "text"
      },
      "cell_type": "markdown",
      "source": [
        "A aplicação de cada um desses filtros convolucionais na primeira imagem de entrada gera as seguintes imagens de saída, que são então utilizadas como entrada para a segunda camada convolucional. Observe que essas imagens são reduzudas para 14 x 14 pixels, metade da resolução da imagem de entrada original."
      ]
    },
    {
      "metadata": {
        "scrolled": true,
        "id": "0Mm0qgy5J77Q",
        "colab_type": "code",
        "colab": {},
        "outputId": "b2bb69b9-c155-4c2d-8adf-ab88e9d32272"
      },
      "cell_type": "code",
      "source": [
        "plot_conv_layer(layer = layer_conv1, image = image1)"
      ],
      "execution_count": 0,
      "outputs": [
        {
          "output_type": "display_data",
          "data": {
            "image/png": "[encoded data removed]",
            "text/plain": [
              "<matplotlib.figure.Figure at 0x7f287e7f0c50>"
            ]
          },
          "metadata": {
            "tags": []
          }
        }
      ]
    },
    {
      "metadata": {
        "id": "kR1WT5W7J77X",
        "colab_type": "text"
      },
      "cell_type": "markdown",
      "source": [
        "As seguintes imagens são os resultados da aplicação dos filtros convolucionais à segunda imagem."
      ]
    },
    {
      "metadata": {
        "scrolled": false,
        "id": "mlGGxIUuJ77Y",
        "colab_type": "code",
        "colab": {},
        "outputId": "059f00ca-3aaf-4341-f782-0760e330d67c"
      },
      "cell_type": "code",
      "source": [
        "plot_conv_layer(layer=layer_conv1, image=image2)"
      ],
      "execution_count": 0,
      "outputs": [
        {
          "output_type": "display_data",
          "data": {
            "image/png": "[encoded data removed]",
            "text/plain": [
              "<matplotlib.figure.Figure at 0x7f2874d19c18>"
            ]
          },
          "metadata": {
            "tags": []
          }
        }
      ]
    },
    {
      "metadata": {
        "id": "7BeAftymJ77c",
        "colab_type": "text"
      },
      "cell_type": "markdown",
      "source": [
        "É difícil ver nessas imagens quais os propósitos dos filtros convolucionais. Parece que eles simplesmente criaram várias variações da imagem de entrada, como se a luz estivesse brilhando de ângulos diferentes e lançando sombras na imagem."
      ]
    },
    {
      "metadata": {
        "id": "hkCHd3MkJ77c",
        "colab_type": "text"
      },
      "cell_type": "markdown",
      "source": [
        "### Saídas da Camada Convolucional 2"
      ]
    },
    {
      "metadata": {
        "id": "gdAb8JOrJ77d",
        "colab_type": "text"
      },
      "cell_type": "markdown",
      "source": [
        "Plot dos pesos de filtro para a segunda camada convolucional.\n",
        "\n",
        "Existem 16 canais de saída da primeira camada de convolução, o que significa que existem 16 canais de entrada para a segunda camada de convolução. A segunda conv-layer possui um conjunto de pesos de filtro para cada um dos seus canais de entrada. Começamos por plotar os pesos de filtro para o primeiro canal.\n",
        "\n",
        "Note novamente que os pesos positivos são vermelhos e os pesos negativos são azuis."
      ]
    },
    {
      "metadata": {
        "scrolled": false,
        "id": "a28pTATtJ77e",
        "colab_type": "code",
        "colab": {},
        "outputId": "384dbbdf-9758-42e5-d58d-4fc1fc9e2451"
      },
      "cell_type": "code",
      "source": [
        "plot_conv_weights(weights = weights_conv2, input_channel = 0)"
      ],
      "execution_count": 0,
      "outputs": [
        {
          "output_type": "display_data",
          "data": {
            "image/png": "[encoded data removed]",
            "text/plain": [
              "<matplotlib.figure.Figure at 0x7f28828b0358>"
            ]
          },
          "metadata": {
            "tags": []
          }
        }
      ]
    },
    {
      "metadata": {
        "id": "fL0S-RLhJ77h",
        "colab_type": "text"
      },
      "cell_type": "markdown",
      "source": [
        "Existem 16 canais de entrada para a segunda camada convolucional, para que possamos fazer outros 15 lotes de pesos de filtro como este. Nós apenas fazemos mais um com o filtro de pesos para o segundo canal."
      ]
    },
    {
      "metadata": {
        "id": "dFOniQI1J77i",
        "colab_type": "code",
        "colab": {},
        "outputId": "b8fcb8d6-3dee-45ff-8b5d-3da3b2e31c3c"
      },
      "cell_type": "code",
      "source": [
        "plot_conv_weights(weights = weights_conv2, input_channel = 1)"
      ],
      "execution_count": 0,
      "outputs": [
        {
          "output_type": "display_data",
          "data": {
            "image/png": "[encoded data removed]",
            "text/plain": [
              "<matplotlib.figure.Figure at 0x7f2874d19048>"
            ]
          },
          "metadata": {
            "tags": []
          }
        }
      ]
    },
    {
      "metadata": {
        "id": "t_Gi6VxGJ77l",
        "colab_type": "text"
      },
      "cell_type": "markdown",
      "source": [
        "Pode ser difícil de entender e acompanhar a forma como esses filtros são aplicados por causa da alta dimensionalidade.\n",
        "\n",
        "A aplicação desses filtros convolucionais às imagens que foram lançadas a partir da primeira camada convolucional fornece as seguintes imagens.\n",
        "\n",
        "Note-se que as imagens estão ainda mais reduzidas pela camada de Max Pooling para 7 x 7 pixels, que é a metade da resolução das imagens da primeira camada de convolução."
      ]
    },
    {
      "metadata": {
        "scrolled": false,
        "id": "MrK278NDJ77l",
        "colab_type": "code",
        "colab": {},
        "outputId": "c272408b-96ee-44b2-c39f-5c9c94a6e166"
      },
      "cell_type": "code",
      "source": [
        "plot_conv_layer(layer=layer_conv2, image=image1)"
      ],
      "execution_count": 0,
      "outputs": [
        {
          "output_type": "display_data",
          "data": {
            "image/png": "[encoded data removed]",
            "text/plain": [
              "<matplotlib.figure.Figure at 0x7f287bb3fbe0>"
            ]
          },
          "metadata": {
            "tags": []
          }
        }
      ]
    },
    {
      "metadata": {
        "id": "agmxC_BkJ77o",
        "colab_type": "text"
      },
      "cell_type": "markdown",
      "source": [
        "E estes são os resultados da aplicação do filtro-pesos à segunda imagem."
      ]
    },
    {
      "metadata": {
        "scrolled": false,
        "id": "06GA0s92J77o",
        "colab_type": "code",
        "colab": {},
        "outputId": "5e1c957f-ca2e-4404-e1bf-647ecbfb5490"
      },
      "cell_type": "code",
      "source": [
        "plot_conv_layer(layer=layer_conv2, image=image2)"
      ],
      "execution_count": 0,
      "outputs": [
        {
          "output_type": "display_data",
          "data": {
            "image/png": "[encoded data removed]",
            "text/plain": [
              "<matplotlib.figure.Figure at 0x7f287bb3f390>"
            ]
          },
          "metadata": {
            "tags": []
          }
        }
      ]
    },
    {
      "metadata": {
        "id": "SQ2o5XjgJ77s",
        "colab_type": "text"
      },
      "cell_type": "markdown",
      "source": [
        "A partir dessas imagens, parece que a segunda camada convolucional pode detectar linhas e padrões nas imagens de entrada, que são menos sensíveis às variações locais nas imagens de entrada originais.\n",
        "\n",
        "Essas imagens são então \"achatadas\" e servem de entrada para a camada totalmente conectada."
      ]
    },
    {
      "metadata": {
        "id": "zwB_grdGJ77s",
        "colab_type": "text"
      },
      "cell_type": "markdown",
      "source": [
        "### Encerrando a Sessão TensorFlow"
      ]
    },
    {
      "metadata": {
        "collapsed": true,
        "id": "p4lpncBaJ77v",
        "colab_type": "code",
        "colab": {}
      },
      "cell_type": "code",
      "source": [
        "session.close()"
      ],
      "execution_count": 0,
      "outputs": []
    },
    {
      "metadata": {
        "id": "iTagVw1lJ77x",
        "colab_type": "text"
      },
      "cell_type": "markdown",
      "source": [
        "## Conclusão\n",
        "\n",
        "A Rede Convolucional obtém uma precisão de classificação de cerca de 99%, ou mesmo mais se você fizer alguns ajustes, em comparação com apenas 91% para o modelo linear simples. No entanto, a rede convolutiva também é muito mais complicada de implementar, e não é óbvio, ao analisar os pesos de filtro, por que isso funciona e por que às vezes ele falha."
      ]
    },
    {
      "metadata": {
        "id": "Ntz939XEJ77y",
        "colab_type": "text"
      },
      "cell_type": "markdown",
      "source": [
        "## Exercícios\n",
        "\n",
        "Estas são algumas sugestões para exercícios que podem ajudar a melhorar suas habilidades com TensorFlow. É importante obter experiência prática com o TensorFlow para aprender a usá-lo corretamente.\n",
        "\n",
        "Você pode querer fazer backup deste Notebook antes de fazer qualquer alteração.\n",
        "\n",
        "* Você obtém exatamente os mesmos resultados se você executar o Notebook várias vezes sem alterar nenhum parâmetro? Quais são as fontes de aleatoriedade?\n",
        "* Execute outras 10.000 iterações de otimização. Os resultados são melhores?\n",
        "* Altere a taxa de aprendizagem para o otimizador.\n",
        "* Altere a configuração das camadas, como o número de filtros convolucionais, o tamanho desses filtros, o número de neurônios na camada totalmente conectada, etc.\n",
        "* Adicione uma camada de Dropout após a camada totalmente conectada. Observe que a probabilidade de Dropout deve ser zero ao calcular a precisão da classificação, então você precisará de uma variável de espaço reservado para essa probabilidade.\n",
        "* Altere a ordem da ReLU e Max Pooling na camada convolucional. Muda o resultado? \n",
        "* Adicione uma ou mais camadas convolutivas e totalmente conectadas. Isso ajuda o desempenho?\n",
        "* Qual é a menor configuração possível que ainda dá bons resultados?\n",
        "* Tente usar a ReLU na última camada totalmente conectada. O desempenho muda? Por quê?\n",
        "* Tente não usar o agrupamento (Pooling) nas camadas convolutivas. Isso altera a precisão da classificação e o tempo de treinamento?\n",
        "* Tente usar um passo (stride) 2x2 na convolução em vez do Max Pooling? Qual é a diferença?\n",
        "* Remova o programa sozinho sem olhar demais para este código-fonte.\n",
        "* Explique a um amigo como o programa funciona."
      ]
    },
    {
      "metadata": {
        "id": "6sGJFgodJ77z",
        "colab_type": "text"
      },
      "cell_type": "markdown",
      "source": [
        "# Fim"
      ]
    }
  ]
}