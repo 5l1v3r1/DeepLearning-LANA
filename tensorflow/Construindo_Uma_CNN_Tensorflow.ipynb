{
  "nbformat": 4,
  "nbformat_minor": 0,
  "metadata": {
    "colab": {
      "name": "Construindo Uma CNN - Tensorflow.ipynb",
      "version": "0.3.2",
      "provenance": [],
      "collapsed_sections": [
        "iTagVw1lJ77x"
      ],
      "include_colab_link": true
    },
    "kernelspec": {
      "name": "python3",
      "display_name": "Python 3"
    },
    "accelerator": "GPU"
  },
  "cells": [
    {
      "cell_type": "markdown",
      "metadata": {
        "id": "view-in-github",
        "colab_type": "text"
      },
      "source": [
        "<a href=\"https://colab.research.google.com/github/vladimiralencar/DeepLearning-LANA/blob/master/tensorflow/Construindo_Uma_CNN_Tensorflow.ipynb\" target=\"_parent\"><img src=\"https://colab.research.google.com/assets/colab-badge.svg\" alt=\"Open In Colab\"/></a>"
      ]
    },
    {
      "metadata": {
        "id": "N66_jTVTJ72M",
        "colab_type": "text"
      },
      "cell_type": "markdown",
      "source": [
        "# Construindo Uma CNN - Tensorflow"
      ]
    },
    {
      "metadata": {
        "id": "j5qCR6BZJ72O",
        "colab_type": "text"
      },
      "cell_type": "markdown",
      "source": [
        "Abaixo você encontra um modelo de rede neural para o MNIST. Este Jupyter notebook é bastante longo, mas contém uma implementação completa de um modelo CNN com TensorFlow (não usamos o Keras aqui), explicado linha a linha.\n",
        "\n",
        "Ao final, você encontrará sugestões de modificações no modelo e você deve realizá-las (uma por vez) e avaliar os resultados. Este é um estudo dirigido e vai dar a você uma excelente compreensão de como construir modelos de Deep Learning."
      ]
    },
    {
      "metadata": {
        "id": "CxRUGKDPLlZb",
        "colab_type": "text"
      },
      "cell_type": "markdown",
      "source": [
        "![](https://raw.githubusercontent.com/vladimiralencar/DeepLearning-LANA/master/tensorflow/images/network_flowchart.png)\n"
      ]
    },
    {
      "metadata": {
        "id": "yXswyFjMJ72X",
        "colab_type": "text"
      },
      "cell_type": "markdown",
      "source": [
        "Vamos começar descrevendo a arquitetura da CNN e revisando conceitos estudados ao longo deste capítulo. \n",
        "\n",
        "A imagem de entrada é processada na primeira camada convolucional usando os pesos de filtro. Considerando o número de filtros igual a 16, isso resulta em 16 novas imagens, uma para cada filtro na camada convolucional. As imagens também são reduzidas com a camada de Pooling reduzindo a imagem de 28x28 para 14x14.\n",
        "\n",
        "Essas 16 imagens menores são então processadas na segunda camada convolucional. Precisamos de pesos de filtro para cada um desses 16 canais, e precisamos de pesos de filtro para cada canal de saída desta camada. Existem 36 canais de saída, portanto, há um total de 16 x 36 = 576 filtros na segunda camada convolucional. As imagens resultantes são reduzaidas novamente para 7x7 pixels.\n",
        "\n",
        "A saída da segunda camada convolucional é de 36 imagens de 7x7 pixels cada. Estas são então achatados (flatten) para um único vetor de comprimento 7 x 7 x 36 = 1764, que é usado como entrada para uma camada totalmente conectada com 128 neurônios. Isso alimenta a outra camada totalmente conectada com 10 neurônios, uma para cada uma das classes, que é usada para determinar a classe da imagem, ou seja, qual número é representado na imagem.\n",
        "\n",
        "Os filtros convolucionais são inicialmente escolhidos aleatoriamente, de modo que a classificação é feita aleatoriamente. O erro entre a classe predita e verdadeira da imagem de entrada é medido com a entropia cruzada. O otimizador então propaga esse erro automaticamente através da rede convolucional usando a cadeia de regras de diferenciação (chain rule) e atualiza os pesos de filtro de modo a reduzir o erro de classificação. Isso é feito iterativamente milhares de vezes até o erro de classificação ser suficientemente baixo.\n",
        "\n",
        "Estes filtros-pesos e imagens intermediárias são os resultados de uma execução de otimização e podem parecer diferentes se você voltar a executar este Notebook.\n",
        "\n",
        "Note-se que a computação no TensorFlow é realmente feita em um lote de imagens ao invés de uma única imagem, o que torna a computação mais eficiente. Isso significa que o fluxograma realmente possui mais uma dimensão de dados quando implementado no TensorFlow."
      ]
    },
    {
      "metadata": {
        "id": "Xs96L8rfJ72Y",
        "colab_type": "text"
      },
      "cell_type": "markdown",
      "source": [
        "## Camada de Convolução"
      ]
    },
    {
      "metadata": {
        "id": "nDCilrPEJ72Z",
        "colab_type": "text"
      },
      "cell_type": "markdown",
      "source": [
        "O diagrama a seguir mostra a ideia básica de processar uma imagem na primeira camada convolucional. A imagem de entrada representa o número 7 e quatro cópias da imagem são mostradas aqui, para que possamos ver mais claramente como o filtro está sendo movido para diferentes posições da imagem. Para cada posição do filtro, o dot product está sendo calculado entre o filtro e os pixels da imagem sob o filtro, o que resulta em um único pixel na imagem de saída. Então, mover o filtro em toda a imagem de entrada resulta em uma nova imagem que está sendo gerada.\n",
        "\n",
        "Os pesos de filtro vermelhos significam que o filtro tem uma reação positiva aos pixels pretos na imagem de entrada, enquanto os pixels azuis significam que o filtro tem uma reação negativa aos pixels pretos.\n",
        "\n",
        "Neste caso, parece que o filtro reconhece a linha horizontal do dígito 7, como pode ser visto a partir da sua reação mais forte a essa linha na imagem de saída."
      ]
    },
    {
      "metadata": {
        "id": "93FkYshyNFYX",
        "colab_type": "text"
      },
      "cell_type": "markdown",
      "source": [
        "![](https://raw.githubusercontent.com/vladimiralencar/DeepLearning-LANA/master/tensorflow/images/convolution.png)"
      ]
    },
    {
      "metadata": {
        "id": "hX_dxBqGJ72e",
        "colab_type": "text"
      },
      "cell_type": "markdown",
      "source": [
        "O step-size para mover o filtro através da entrada é chamado de passo (stride). Há um passo para mover o filtro horizontalmente (eixo x) e outro passo para se mover verticalmente (eixo y).\n",
        "\n",
        "No código-fonte abaixo, o passo é definido como 1 em ambas as direções, o que significa que o filtro começa no canto superior esquerdo da imagem de entrada e está sendo movido 1 pixel para a direita em cada etapa. Quando o filtro atinge o final da imagem para a direita, o filtro é movido de volta para o lado esquerdo e 1 pixel para baixo da imagem. Isso continua até que o filtro tenha atingido o canto inferior direito da imagem de entrada e toda a imagem de saída tenha sido gerada.\n",
        "\n",
        "Quando o filtro atinge o final do lado direito, bem como a parte inferior da imagem de entrada, ele pode ser preenchido com zero (pixels brancos). Isso faz com que a imagem de saída seja da mesma dimensão que a imagem de entrada.\n",
        "\n",
        "Além disso, a saída da convolução pode ser passada através da chamada Unidade Linear Retificada (ReLU), que apenas garante que a saída seja positiva porque os valores negativos são ajustados para zero. A saída também pode ser avaliada pelo chamado Max Pooling, que considera pequenas janelas de 2x2 pixels e apenas mantém o maior desses pixels. Esta divide ao meio a resolução da imagem de entrada, isto é, de 28x28 para 14x14 pixels.\n",
        "\n",
        "Observe que a segunda camada convolucional é mais complicada porque tem 16 canais de entrada. Queremos um filtro separado para cada canal de entrada, então precisamos de 16 filtros em vez de apenas um. Além disso, queremos 36 canais de saída da segunda camada convolucional, então, no total, precisamos de 16 x 36 = 576 filtros para a segunda camada convolucional. Pode ser um pouco desafiador entender como isso funciona, por isso você deve praticar tanto quanto possível."
      ]
    },
    {
      "metadata": {
        "id": "LBNWdI1nJ72f",
        "colab_type": "text"
      },
      "cell_type": "markdown",
      "source": [
        "## Imports"
      ]
    },
    {
      "metadata": {
        "id": "a57Z_WRaJ72g",
        "colab_type": "code",
        "colab": {}
      },
      "cell_type": "code",
      "source": [
        "%matplotlib inline\n",
        "import matplotlib.pyplot as plt\n",
        "import tensorflow as tf\n",
        "import numpy as np\n",
        "from sklearn.metrics import confusion_matrix\n",
        "import time\n",
        "from datetime import timedelta\n",
        "import math"
      ],
      "execution_count": 0,
      "outputs": []
    },
    {
      "metadata": {
        "id": "aNQKt5IoJ72k",
        "colab_type": "text"
      },
      "cell_type": "markdown",
      "source": [
        "Esse código foi desenvolvido com Python 3.6 e TensorFlow:"
      ]
    },
    {
      "metadata": {
        "id": "uFAp5EXbJ72l",
        "colab_type": "code",
        "colab": {
          "base_uri": "https://localhost:8080/",
          "height": 34
        },
        "outputId": "ef41c87b-0716-4c8c-8181-cd7cabacee94"
      },
      "cell_type": "code",
      "source": [
        "tf.__version__"
      ],
      "execution_count": 2,
      "outputs": [
        {
          "output_type": "execute_result",
          "data": {
            "text/plain": [
              "'1.13.1'"
            ]
          },
          "metadata": {
            "tags": []
          },
          "execution_count": 2
        }
      ]
    },
    {
      "metadata": {
        "id": "u9MCGnflJ72u",
        "colab_type": "text"
      },
      "cell_type": "markdown",
      "source": [
        "## Configuração da Rede Neural\n",
        "\n",
        "A configuração da Rede Neural Convolucional é definida aqui por conveniência, para que você possa encontrar e alterar esses números com facilidade e re-executar o Notebook."
      ]
    },
    {
      "metadata": {
        "id": "Bu3F_FIyJ72w",
        "colab_type": "code",
        "colab": {}
      },
      "cell_type": "code",
      "source": [
        "## Camada Convolucional 1:\n",
        "\n",
        "# Os filtros de convolução são 5 x 5 pixels.\n",
        "filter_size1 = 5  \n",
        "\n",
        "# Existem 16 desses filtros.\n",
        "num_filters1 = 16        \n",
        "\n",
        "\n",
        "## Camada Convolucional 2:\n",
        "\n",
        "# Os filtros de convolução são 5 x 5 pixels.\n",
        "filter_size2 = 5   \n",
        "\n",
        "# Existem 36 desses filtros.\n",
        "num_filters2 = 36        \n",
        "\n",
        "\n",
        "## Camada Totalmente Conectada:\n",
        "\n",
        "# Número de neurônios na camada totalmente conectada.\n",
        "fc_size = 128            "
      ],
      "execution_count": 0,
      "outputs": []
    },
    {
      "metadata": {
        "id": "aX0V6DFGJ721",
        "colab_type": "text"
      },
      "cell_type": "markdown",
      "source": [
        "## Carregando os Dados"
      ]
    },
    {
      "metadata": {
        "id": "1Ik_P0HzJ724",
        "colab_type": "code",
        "colab": {
          "base_uri": "https://localhost:8080/",
          "height": 530
        },
        "outputId": "d109339b-93c1-4ed4-c542-74debb8f3b75"
      },
      "cell_type": "code",
      "source": [
        "from tensorflow.examples.tutorials.mnist import input_data\n",
        "data = input_data.read_data_sets('data/MNIST/', one_hot=True)"
      ],
      "execution_count": 4,
      "outputs": [
        {
          "output_type": "stream",
          "text": [
            "WARNING:tensorflow:From <ipython-input-4-37adf088ce13>:2: read_data_sets (from tensorflow.contrib.learn.python.learn.datasets.mnist) is deprecated and will be removed in a future version.\n",
            "Instructions for updating:\n",
            "Please use alternatives such as official/mnist/dataset.py from tensorflow/models.\n",
            "WARNING:tensorflow:From /usr/local/lib/python3.6/dist-packages/tensorflow/contrib/learn/python/learn/datasets/mnist.py:260: maybe_download (from tensorflow.contrib.learn.python.learn.datasets.base) is deprecated and will be removed in a future version.\n",
            "Instructions for updating:\n",
            "Please write your own downloading logic.\n",
            "WARNING:tensorflow:From /usr/local/lib/python3.6/dist-packages/tensorflow/contrib/learn/python/learn/datasets/base.py:252: _internal_retry.<locals>.wrap.<locals>.wrapped_fn (from tensorflow.contrib.learn.python.learn.datasets.base) is deprecated and will be removed in a future version.\n",
            "Instructions for updating:\n",
            "Please use urllib or similar directly.\n",
            "Successfully downloaded train-images-idx3-ubyte.gz 9912422 bytes.\n",
            "WARNING:tensorflow:From /usr/local/lib/python3.6/dist-packages/tensorflow/contrib/learn/python/learn/datasets/mnist.py:262: extract_images (from tensorflow.contrib.learn.python.learn.datasets.mnist) is deprecated and will be removed in a future version.\n",
            "Instructions for updating:\n",
            "Please use tf.data to implement this functionality.\n",
            "Extracting data/MNIST/train-images-idx3-ubyte.gz\n",
            "Successfully downloaded train-labels-idx1-ubyte.gz 28881 bytes.\n",
            "WARNING:tensorflow:From /usr/local/lib/python3.6/dist-packages/tensorflow/contrib/learn/python/learn/datasets/mnist.py:267: extract_labels (from tensorflow.contrib.learn.python.learn.datasets.mnist) is deprecated and will be removed in a future version.\n",
            "Instructions for updating:\n",
            "Please use tf.data to implement this functionality.\n",
            "Extracting data/MNIST/train-labels-idx1-ubyte.gz\n",
            "WARNING:tensorflow:From /usr/local/lib/python3.6/dist-packages/tensorflow/contrib/learn/python/learn/datasets/mnist.py:110: dense_to_one_hot (from tensorflow.contrib.learn.python.learn.datasets.mnist) is deprecated and will be removed in a future version.\n",
            "Instructions for updating:\n",
            "Please use tf.one_hot on tensors.\n",
            "Successfully downloaded t10k-images-idx3-ubyte.gz 1648877 bytes.\n",
            "Extracting data/MNIST/t10k-images-idx3-ubyte.gz\n",
            "Successfully downloaded t10k-labels-idx1-ubyte.gz 4542 bytes.\n",
            "Extracting data/MNIST/t10k-labels-idx1-ubyte.gz\n",
            "WARNING:tensorflow:From /usr/local/lib/python3.6/dist-packages/tensorflow/contrib/learn/python/learn/datasets/mnist.py:290: DataSet.__init__ (from tensorflow.contrib.learn.python.learn.datasets.mnist) is deprecated and will be removed in a future version.\n",
            "Instructions for updating:\n",
            "Please use alternatives such as official/mnist/dataset.py from tensorflow/models.\n"
          ],
          "name": "stdout"
        }
      ]
    },
    {
      "metadata": {
        "id": "0kKiNTllJ72-",
        "colab_type": "code",
        "colab": {
          "base_uri": "https://localhost:8080/",
          "height": 85
        },
        "outputId": "e0b4d66e-564d-4b93-e182-56f2403788e6"
      },
      "cell_type": "code",
      "source": [
        "print(\"Size of:\")\n",
        "print(\"- Training-set:\\t\\t{}\".format(len(data.train.labels)))\n",
        "print(\"- Test-set:\\t\\t{}\".format(len(data.test.labels)))\n",
        "print(\"- Validation-set:\\t{}\".format(len(data.validation.labels)))"
      ],
      "execution_count": 5,
      "outputs": [
        {
          "output_type": "stream",
          "text": [
            "Size of:\n",
            "- Training-set:\t\t55000\n",
            "- Test-set:\t\t10000\n",
            "- Validation-set:\t5000\n"
          ],
          "name": "stdout"
        }
      ]
    },
    {
      "metadata": {
        "id": "umt8a0FcJ73D",
        "colab_type": "text"
      },
      "cell_type": "markdown",
      "source": [
        "Os rótulos de classe estão como One-Hot Encoding, o que significa que cada rótulo é um vetor com 10 elementos, todos os quais são zero exceto um elemento. O índice desse elemento é o número da classe, ou seja, o dígito mostrado na imagem associada. Também precisamos dos números de classe como números inteiros para o conjunto de teste, então nós o calculamos agora."
      ]
    },
    {
      "metadata": {
        "id": "2KnVvrRDJ73E",
        "colab_type": "code",
        "colab": {}
      },
      "cell_type": "code",
      "source": [
        "data.test.cls = np.argmax(data.test.labels, axis=1)"
      ],
      "execution_count": 0,
      "outputs": []
    },
    {
      "metadata": {
        "id": "OxxgzS7hJ73H",
        "colab_type": "text"
      },
      "cell_type": "markdown",
      "source": [
        "## Dimensões dos Dados"
      ]
    },
    {
      "metadata": {
        "id": "DY7OnyiRJ73I",
        "colab_type": "code",
        "colab": {}
      },
      "cell_type": "code",
      "source": [
        "img_size = 28\n",
        "img_size_flat = img_size * img_size\n",
        "img_shape = (img_size, img_size)\n",
        "num_channels = 1\n",
        "num_classes = 10"
      ],
      "execution_count": 0,
      "outputs": []
    },
    {
      "metadata": {
        "id": "h1xMS7VVJ73M",
        "colab_type": "text"
      },
      "cell_type": "markdown",
      "source": [
        "### Função Auxiliar Para o Plot de Imagens"
      ]
    },
    {
      "metadata": {
        "id": "TZO_7iilJ73N",
        "colab_type": "code",
        "colab": {}
      },
      "cell_type": "code",
      "source": [
        "def plot_images(images, cls_true, cls_pred=None):\n",
        "    assert len(images) == len(cls_true) == 9\n",
        "    \n",
        "    fig, axes = plt.subplots(3, 3)\n",
        "    fig.subplots_adjust(hspace=0.3, wspace=0.3)\n",
        "\n",
        "    for i, ax in enumerate(axes.flat):\n",
        "        ax.imshow(images[i].reshape(img_shape), cmap='binary')\n",
        "\n",
        "        if cls_pred is None:\n",
        "            xlabel = \"True: {0}\".format(cls_true[i])\n",
        "        else:\n",
        "            xlabel = \"True: {0}, Pred: {1}\".format(cls_true[i], cls_pred[i])\n",
        "\n",
        "        ax.set_xlabel(xlabel)\n",
        "        \n",
        "        ax.set_xticks([])\n",
        "        ax.set_yticks([])\n",
        "    \n",
        "    plt.show()"
      ],
      "execution_count": 0,
      "outputs": []
    },
    {
      "metadata": {
        "id": "E5REWa60J73Q",
        "colab_type": "text"
      },
      "cell_type": "markdown",
      "source": [
        "### Plot de Algumas Imagens"
      ]
    },
    {
      "metadata": {
        "id": "8nr1o31EJ73R",
        "colab_type": "code",
        "colab": {
          "base_uri": "https://localhost:8080/",
          "height": 262
        },
        "outputId": "fdebed3a-b144-4e02-8bdd-820d55154709"
      },
      "cell_type": "code",
      "source": [
        "images = data.test.images[0:9]\n",
        "cls_true = data.test.cls[0:9]\n",
        "plot_images(images=images, cls_true=cls_true)"
      ],
      "execution_count": 9,
      "outputs": [
        {
          "output_type": "display_data",
          "data": {
            "image/png": "[encoded data removed]",
            "text/plain": [
              "<Figure size 432x288 with 9 Axes>"
            ]
          },
          "metadata": {
            "tags": []
          }
        }
      ]
    },
    {
      "metadata": {
        "id": "MTFOSOl7J73Z",
        "colab_type": "text"
      },
      "cell_type": "markdown",
      "source": [
        "## Grafo TensorFlow "
      ]
    },
    {
      "metadata": {
        "id": "cuaHWeAIJ73b",
        "colab_type": "text"
      },
      "cell_type": "markdown",
      "source": [
        "### Funções Auxiliares Para Criar Novas Variáveis (Pesos e Bias)"
      ]
    },
    {
      "metadata": {
        "id": "s2x4yZOAJ73d",
        "colab_type": "code",
        "colab": {}
      },
      "cell_type": "code",
      "source": [
        "def new_weights(shape):\n",
        "    return tf.Variable(tf.truncated_normal(shape, stddev=0.05))"
      ],
      "execution_count": 0,
      "outputs": []
    },
    {
      "metadata": {
        "id": "EjFbwQ9SJ73i",
        "colab_type": "code",
        "colab": {}
      },
      "cell_type": "code",
      "source": [
        "def new_biases(length):\n",
        "    return tf.Variable(tf.constant(0.05, shape=[length]))"
      ],
      "execution_count": 0,
      "outputs": []
    },
    {
      "metadata": {
        "id": "KarE9cMBJ73n",
        "colab_type": "text"
      },
      "cell_type": "markdown",
      "source": [
        "### Função Auxiliar Para Criar as Camadas Convolucionais"
      ]
    },
    {
      "metadata": {
        "id": "ng7rubO0J73o",
        "colab_type": "text"
      },
      "cell_type": "markdown",
      "source": [
        "Esta função cria uma nova camada convolucional no grafo computacional para o TensorFlow. Nada é realmente calculado aqui, estamos apenas adicionando as fórmulas matemáticas ao grafo TensorFlow.\n",
        "\n",
        "Assume-se que a entrada é um tensor 4-dim com as seguintes dimensões:\n",
        "\n",
        "1. Número da imagem.\n",
        "2. Eixo Y de cada imagem.\n",
        "3. Eixo X de cada imagem.\n",
        "4. Canais de cada imagem.\n",
        "\n",
        "Observe que os canais de entrada podem ser canais de cores ou podem ser canais de filtro se a entrada for produzida a partir de uma camada convolucional anterior.\n",
        "\n",
        "A saída é outro tensor 4-dim com as seguintes dimensões:\n",
        "\n",
        "1. Número da imagem, igual à entrada.\n",
        "2. Eixo Y de cada imagem. Se o agrupamento 2x2 for usado, a altura e a largura das imagens de entrada são divididas por 2.\n",
        "3. Eixo X de cada imagem. Idem.\n",
        "4. Canais produzidos pelos filtros convolucionais."
      ]
    },
    {
      "metadata": {
        "id": "kSnT5iCdJ73p",
        "colab_type": "code",
        "colab": {}
      },
      "cell_type": "code",
      "source": [
        "def new_conv_layer(input,              \n",
        "                   num_input_channels, \n",
        "                   filter_size,        \n",
        "                   num_filters,       \n",
        "                   use_pooling = True): \n",
        "\n",
        "    # Shape do filtro/peso para a convolução. \n",
        "    shape = [filter_size, filter_size, num_input_channels, num_filters]\n",
        "\n",
        "    # Cria novos pesos\n",
        "    weights = new_weights(shape = shape)\n",
        "\n",
        "    # Cria o bias\n",
        "    biases = new_biases(length = num_filters)\n",
        "\n",
        "    # Cria a operação TensorFlow para convolução.\n",
        "    # Observe que os passos (stride) estão configurados para 1 em todas as dimensões.\n",
        "    # O primeiro e último passo deve ser sempre 1,\n",
        "    # porque o primeiro é para o número da imagem e\n",
        "    # o último é para o canal de entrada.\n",
        "    # Mas, por exemplo, Strides = [1, 2, 2, 1] significaria que o filtro\n",
        "    # é movido 2 pixels através dos eixos x e y da imagem.\n",
        "    # O preenchimento (padding) está configurado para 'SAME', o que significa a imagem de entrada\n",
        "    # é preenchida com zero nas bordas, então o tamanho da saída é o mesmo.\n",
        "    layer = tf.nn.conv2d(input = input,\n",
        "                         filter = weights,\n",
        "                         strides = [1, 1, 1, 1],\n",
        "                         padding = 'SAME')\n",
        "\n",
        "    # Adiciona o bias ao resultado da convolução \n",
        "    layer += biases\n",
        "\n",
        "    # Usando Pooling para reduzir o tamanho das imagens \n",
        "    if use_pooling:\n",
        "        # Temos aqui um Max Pooling 2x2, o que significa que nós\n",
        "        # consideramos janelas 2x2 e selecionamos o maior valor\n",
        "        # em cada janela. Em seguida, movemos 2 pixels para a próxima janela.\n",
        "        layer = tf.nn.max_pool(value = layer,\n",
        "                               ksize = [1, 2, 2, 1],\n",
        "                               strides = [1, 2, 2, 1],\n",
        "                               padding = 'SAME')\n",
        "\n",
        "    # Rectified Linear Unit (ReLU).\n",
        "    # Calcula o max(x, 0) para cada pixel de entrada x.\n",
        "    # Isso adiciona alguma não linearidade à fórmula e nos permite\n",
        "    # aprender funções mais complicadas.\n",
        "    layer = tf.nn.relu(layer)\n",
        "\n",
        "    # Note que a ReLU é executada antes do Pooling.\n",
        "\n",
        "    # Retornamos a camada resultante e os pesos de filtro porque vamos plotar os pesos mais tarde.\n",
        "    return layer, weights"
      ],
      "execution_count": 0,
      "outputs": []
    },
    {
      "metadata": {
        "id": "5FmmH5ZbJ73t",
        "colab_type": "text"
      },
      "cell_type": "markdown",
      "source": [
        "### Função Auxiliar Para \"Achatar\" (flatten) Uma Camada\n",
        "\n",
        "A camada convolucional vai produzir um tensor de saída com 4 dimensões. Vamos adicionar camadas totalmente conectadas após as camadas de convolução, então precisamos reduzir o tensor 4-dim para 2-dim que pode ser usado como entrada para a camada totalmente conectada."
      ]
    },
    {
      "metadata": {
        "id": "vasOC3g9J73u",
        "colab_type": "code",
        "colab": {}
      },
      "cell_type": "code",
      "source": [
        "def flatten_layer(layer):\n",
        "    layer_shape = layer.get_shape()\n",
        "\n",
        "    # O número de features é: img_height * img_width * num_channels\n",
        "    # Podemos usar uma função do TensorFlow para calcular isso.\n",
        "    num_features = layer_shape[1:4].num_elements()\n",
        "    \n",
        "    # Reshape da camada para [num_images, num_features].\n",
        "    # Observe que acabamos de definir o tamanho da segunda dimensão\n",
        "    # para num_features e o tamanho da primeira dimensão para -1\n",
        "    # o que significa que o tamanho dessa dimensão é calculado\n",
        "    # e o tamanho total do tensor é inalterado no reshape.\n",
        "    layer_flat = tf.reshape(layer, [-1, num_features])\n",
        "\n",
        "    return layer_flat, num_features"
      ],
      "execution_count": 0,
      "outputs": []
    },
    {
      "metadata": {
        "id": "uP10ppqlJ73x",
        "colab_type": "text"
      },
      "cell_type": "markdown",
      "source": [
        "### Função Auxiliar Para Criar Uma Nova Camada Totalmente Conectada"
      ]
    },
    {
      "metadata": {
        "id": "uULMTeRHJ73y",
        "colab_type": "text"
      },
      "cell_type": "markdown",
      "source": [
        "Esta função cria uma nova camada totalmente conectada no grafo computacional para o TensorFlow. Nada é realmente calculado aqui, estamos apenas adicionando as fórmulas matemáticas ao grafo TensorFlow.\n",
        "\n",
        "Supõe-se que a entrada é um tensor 2-dim de forma `[num_images, num_inputs]`. A saída é um tensor 2-dim de forma `[num_images, num_outputs]`."
      ]
    },
    {
      "metadata": {
        "id": "mZ1e04dkJ73z",
        "colab_type": "code",
        "colab": {}
      },
      "cell_type": "code",
      "source": [
        "def new_fc_layer(input,         \n",
        "                 num_inputs,     \n",
        "                 num_outputs,   \n",
        "                 use_relu = True): \n",
        "\n",
        "    weights = new_weights(shape=[num_inputs, num_outputs])\n",
        "    biases = new_biases(length=num_outputs)\n",
        "\n",
        "    layer = tf.matmul(input, weights) + biases\n",
        "\n",
        "    if use_relu:\n",
        "        layer = tf.nn.relu(layer)\n",
        "\n",
        "    return layer"
      ],
      "execution_count": 0,
      "outputs": []
    },
    {
      "metadata": {
        "id": "Vrij_xcuJ731",
        "colab_type": "text"
      },
      "cell_type": "markdown",
      "source": [
        "### Placeholders"
      ]
    },
    {
      "metadata": {
        "id": "oa-2qaiFJ732",
        "colab_type": "text"
      },
      "cell_type": "markdown",
      "source": [
        "Os placeholders servem como entrada para o grafo computacional TensorFlow que podemos alterar cada vez que executamos o grafo. Nós chamamos isso de alimentação das variáveis do espaço reservado e é demonstrado abaixo.\n",
        "\n",
        "Primeiro, definimos a variável de espaço reservado para as imagens de entrada. Isso nos permite alterar as imagens que são inseridas no grafo TensorFlow. Este é chamado tensor, o que significa que é um vetor ou matriz multidimensional. O tipo de dados está configurado para `float32` e a forma é definida como ` [None, img_size_flat] `, onde ` None` significa que o tensor pode conter um número arbitrário de imagens com cada imagem sendo um vetor de comprimento `img_size_flat` ."
      ]
    },
    {
      "metadata": {
        "id": "5VwAviKvJ733",
        "colab_type": "code",
        "colab": {}
      },
      "cell_type": "code",
      "source": [
        "x = tf.placeholder(tf.float32, shape=[None, img_size_flat], name='x')"
      ],
      "execution_count": 0,
      "outputs": []
    },
    {
      "metadata": {
        "id": "dxcl7JzmJ735",
        "colab_type": "text"
      },
      "cell_type": "markdown",
      "source": [
        "As camadas convolutivas esperam que \"x\" seja codificado como um tensor 4-dim, então precisamos remodelá-lo para que sua forma seja `[num_images, img_height, img_width, num_channels]`. Note que `img_height == img_width == img_size` e `num_images` podem ser inferidos automaticamente usando -1 para o tamanho da primeira dimensão. Então, a operação de reshape é:"
      ]
    },
    {
      "metadata": {
        "id": "ufsRDGJOJ736",
        "colab_type": "code",
        "colab": {}
      },
      "cell_type": "code",
      "source": [
        "x_image = tf.reshape(x, [-1, img_size, img_size, num_channels])"
      ],
      "execution_count": 0,
      "outputs": []
    },
    {
      "metadata": {
        "id": "HBBpunSfJ739",
        "colab_type": "text"
      },
      "cell_type": "markdown",
      "source": [
        "Em seguida, temos a variável de espaço reservado para os rótulos verdadeiros associados às imagens que foram inseridas na variável de espaço reservado `x`. A forma desta variável de espaço reservado é `[None, num_classes]`, o que significa que pode conter um número arbitrário de rótulos e cada rótulo é um vetor de comprimento `num_classes` que é 10 neste caso."
      ]
    },
    {
      "metadata": {
        "id": "C12_7ms_J73-",
        "colab_type": "code",
        "colab": {}
      },
      "cell_type": "code",
      "source": [
        "y_true = tf.placeholder(tf.float32, shape=[None, 10], name='y_true')"
      ],
      "execution_count": 0,
      "outputs": []
    },
    {
      "metadata": {
        "id": "mp4urRjCJ74B",
        "colab_type": "text"
      },
      "cell_type": "markdown",
      "source": [
        "Poderíamos também ter uma variável de espaço reservado para o número de classe, mas, em vez disso, calcularemos isso usando argmax. Observe que este é um operador TensorFlow, portanto, nada é calculado neste ponto."
      ]
    },
    {
      "metadata": {
        "id": "Gkh_tMzTJ74C",
        "colab_type": "code",
        "colab": {
          "base_uri": "https://localhost:8080/",
          "height": 88
        },
        "outputId": "e2b59807-5ef8-417a-f263-a140de56edd3"
      },
      "cell_type": "code",
      "source": [
        "y_true_cls = tf.argmax(y_true, dimension=1)"
      ],
      "execution_count": 18,
      "outputs": [
        {
          "output_type": "stream",
          "text": [
            "WARNING:tensorflow:From <ipython-input-18-71ccadb4572d>:1: calling argmax (from tensorflow.python.ops.math_ops) with dimension is deprecated and will be removed in a future version.\n",
            "Instructions for updating:\n",
            "Use the `axis` argument instead\n"
          ],
          "name": "stdout"
        }
      ]
    },
    {
      "metadata": {
        "id": "Hqk48AcnJ74F",
        "colab_type": "text"
      },
      "cell_type": "markdown",
      "source": [
        "### Camada Convolucional 1\n",
        "\n",
        "Cria a primeira camada convolucional. É preciso `x_image` como entrada e cria `num_filters1` filtros diferentes, cada um com largura e altura iguais a `filter_size1`. Finalmente, desejamos tirar a amostra da imagem de forma que seja metade do tamanho, usando 2x2 max-pooling."
      ]
    },
    {
      "metadata": {
        "id": "fIv7YCEAJ74G",
        "colab_type": "code",
        "colab": {
          "base_uri": "https://localhost:8080/",
          "height": 88
        },
        "outputId": "d37f9b6e-09d8-4bb3-f1d7-a2b35cef4826"
      },
      "cell_type": "code",
      "source": [
        "layer_conv1, weights_conv1 = new_conv_layer(input = x_image,\n",
        "                                            num_input_channels = num_channels,\n",
        "                                            filter_size = filter_size1,\n",
        "                                            num_filters = num_filters1,\n",
        "                                            use_pooling = True)"
      ],
      "execution_count": 19,
      "outputs": [
        {
          "output_type": "stream",
          "text": [
            "WARNING:tensorflow:From /usr/local/lib/python3.6/dist-packages/tensorflow/python/framework/op_def_library.py:263: colocate_with (from tensorflow.python.framework.ops) is deprecated and will be removed in a future version.\n",
            "Instructions for updating:\n",
            "Colocations handled automatically by placer.\n"
          ],
          "name": "stdout"
        }
      ]
    },
    {
      "metadata": {
        "id": "-99dAkjVJ74J",
        "colab_type": "text"
      },
      "cell_type": "markdown",
      "source": [
        "Verifique a forma do tensor que será emitido pela camada convolucional. É (?, 14, 14, 16), o que significa que existe um número arbitrário de imagens (isto é o \"?\"). Cada imagem tem 14 pixels de largura e 14 pixels de altura, e há 16 canais diferentes, um canal para cada um dos filtros."
      ]
    },
    {
      "metadata": {
        "id": "rbk3NRMlJ74K",
        "colab_type": "code",
        "colab": {
          "base_uri": "https://localhost:8080/",
          "height": 34
        },
        "outputId": "681e44c6-0467-4ceb-d707-a09328738565"
      },
      "cell_type": "code",
      "source": [
        "layer_conv1"
      ],
      "execution_count": 20,
      "outputs": [
        {
          "output_type": "execute_result",
          "data": {
            "text/plain": [
              "<tf.Tensor 'Relu:0' shape=(?, 14, 14, 16) dtype=float32>"
            ]
          },
          "metadata": {
            "tags": []
          },
          "execution_count": 20
        }
      ]
    },
    {
      "metadata": {
        "id": "3KkQIsVUJ74N",
        "colab_type": "text"
      },
      "cell_type": "markdown",
      "source": [
        "### Camada Convolucional 2\n",
        "\n",
        "Cria a segunda camada convolucional, que recebe como entrada a saída da primeira camada convolucional. O número de canais de entrada corresponde ao número de filtros na primeira camada convolucional."
      ]
    },
    {
      "metadata": {
        "id": "xHztxs-oJ74N",
        "colab_type": "code",
        "colab": {}
      },
      "cell_type": "code",
      "source": [
        "layer_conv2, weights_conv2 = new_conv_layer(input = layer_conv1,\n",
        "                                            num_input_channels = num_filters1,\n",
        "                                            filter_size = filter_size2,\n",
        "                                            num_filters = num_filters2,\n",
        "                                            use_pooling = True)"
      ],
      "execution_count": 0,
      "outputs": []
    },
    {
      "metadata": {
        "id": "BB5-li_qJ74P",
        "colab_type": "text"
      },
      "cell_type": "markdown",
      "source": [
        "Verifique a forma do tensor que será emitido a partir desta camada convolucional. A forma é (?, 7, 7, 36) onde o \"?\" novamente significa que há um número arbitrário de imagens, com cada imagem com largura e altura de 7 pixels, e há 36 canais, um para cada filtro."
      ]
    },
    {
      "metadata": {
        "id": "dlQIU3x3J74Q",
        "colab_type": "code",
        "colab": {
          "base_uri": "https://localhost:8080/",
          "height": 34
        },
        "outputId": "4e81f0bf-d205-45d5-991a-7cbd2c93e9e0"
      },
      "cell_type": "code",
      "source": [
        "layer_conv2"
      ],
      "execution_count": 22,
      "outputs": [
        {
          "output_type": "execute_result",
          "data": {
            "text/plain": [
              "<tf.Tensor 'Relu_1:0' shape=(?, 7, 7, 36) dtype=float32>"
            ]
          },
          "metadata": {
            "tags": []
          },
          "execution_count": 22
        }
      ]
    },
    {
      "metadata": {
        "id": "kD9ovY35J74T",
        "colab_type": "text"
      },
      "cell_type": "markdown",
      "source": [
        "### Camada Flatten \n",
        "\n",
        "As camadas convolucionais produzem tensores 4-dim. Agora desejamos usá-los como entrada em uma rede totalmente conectada, o que requer que os tensores sejam remodelados ou \"achatados\" para tensores 2-dim."
      ]
    },
    {
      "metadata": {
        "id": "hjW32bGBJ74U",
        "colab_type": "code",
        "colab": {}
      },
      "cell_type": "code",
      "source": [
        "layer_flat, num_features = flatten_layer(layer_conv2)"
      ],
      "execution_count": 0,
      "outputs": []
    },
    {
      "metadata": {
        "id": "TirrlAvDJ74Z",
        "colab_type": "text"
      },
      "cell_type": "markdown",
      "source": [
        "Verifique se os tensores agora têm forma (?, 1764), o que significa que há um número arbitrário de imagens que foram achatadas para vetores de comprimento 1764 cada. Observe que 1764 = 7 x 7 x 36."
      ]
    },
    {
      "metadata": {
        "id": "vmTQbDljJ74a",
        "colab_type": "code",
        "colab": {
          "base_uri": "https://localhost:8080/",
          "height": 34
        },
        "outputId": "a209bc6f-2790-4851-8dd7-f958ebf7251d"
      },
      "cell_type": "code",
      "source": [
        "layer_flat"
      ],
      "execution_count": 24,
      "outputs": [
        {
          "output_type": "execute_result",
          "data": {
            "text/plain": [
              "<tf.Tensor 'Reshape_1:0' shape=(?, 1764) dtype=float32>"
            ]
          },
          "metadata": {
            "tags": []
          },
          "execution_count": 24
        }
      ]
    },
    {
      "metadata": {
        "id": "FaZMo8NLJ74h",
        "colab_type": "code",
        "colab": {
          "base_uri": "https://localhost:8080/",
          "height": 34
        },
        "outputId": "b317340d-af7b-48e8-d158-bf1961a9975e"
      },
      "cell_type": "code",
      "source": [
        "num_features"
      ],
      "execution_count": 25,
      "outputs": [
        {
          "output_type": "execute_result",
          "data": {
            "text/plain": [
              "1764"
            ]
          },
          "metadata": {
            "tags": []
          },
          "execution_count": 25
        }
      ]
    },
    {
      "metadata": {
        "id": "K_UccErjJ74k",
        "colab_type": "text"
      },
      "cell_type": "markdown",
      "source": [
        "### Camada Totalmente Conectada 1\n",
        "\n",
        "Adiciona uma camada totalmente conectada à rede. A entrada é a camada flatten. O número de neurônios ou nós na camada totalmente conectada é `fc_size`. ReLU é usado para que possamos aprender relações não-lineares."
      ]
    },
    {
      "metadata": {
        "id": "HSPDIIoMJ74l",
        "colab_type": "code",
        "colab": {}
      },
      "cell_type": "code",
      "source": [
        "layer_fc1 = new_fc_layer(input = layer_flat,\n",
        "                         num_inputs = num_features,\n",
        "                         num_outputs = fc_size,\n",
        "                         use_relu = True)"
      ],
      "execution_count": 0,
      "outputs": []
    },
    {
      "metadata": {
        "id": "2MxA3WkmJ74q",
        "colab_type": "text"
      },
      "cell_type": "markdown",
      "source": [
        "Verifique se a saída da camada totalmente conectada é um tensor com forma (? 128) onde o \"?\" significa que há um número arbitrário de imagens e `fc_size` == 128."
      ]
    },
    {
      "metadata": {
        "id": "A-gG2UzxJ74r",
        "colab_type": "code",
        "colab": {
          "base_uri": "https://localhost:8080/",
          "height": 34
        },
        "outputId": "0c65506b-a617-475b-d138-75860c605aeb"
      },
      "cell_type": "code",
      "source": [
        "layer_fc1"
      ],
      "execution_count": 27,
      "outputs": [
        {
          "output_type": "execute_result",
          "data": {
            "text/plain": [
              "<tf.Tensor 'Relu_2:0' shape=(?, 128) dtype=float32>"
            ]
          },
          "metadata": {
            "tags": []
          },
          "execution_count": 27
        }
      ]
    },
    {
      "metadata": {
        "id": "DPUpg4QXJ74v",
        "colab_type": "text"
      },
      "cell_type": "markdown",
      "source": [
        "### Camada Totalmente Conectada 2\n",
        "\n",
        "Adiciona outra camada totalmente conectada que executa vetores do comprimento 10 para determinar a quais das 10 classes a imagem de entrada pertence. Observe que o ReLU não é usado nesta camada."
      ]
    },
    {
      "metadata": {
        "id": "p93lkPwHJ74w",
        "colab_type": "code",
        "colab": {}
      },
      "cell_type": "code",
      "source": [
        "layer_fc2 = new_fc_layer(input = layer_fc1,\n",
        "                         num_inputs = fc_size,\n",
        "                         num_outputs = num_classes,\n",
        "                         use_relu = False)"
      ],
      "execution_count": 0,
      "outputs": []
    },
    {
      "metadata": {
        "id": "SItTg6h4J74y",
        "colab_type": "code",
        "colab": {
          "base_uri": "https://localhost:8080/",
          "height": 34
        },
        "outputId": "de2f7d54-e01e-478e-fa41-5b1e4d336d11"
      },
      "cell_type": "code",
      "source": [
        "layer_fc2"
      ],
      "execution_count": 29,
      "outputs": [
        {
          "output_type": "execute_result",
          "data": {
            "text/plain": [
              "<tf.Tensor 'add_3:0' shape=(?, 10) dtype=float32>"
            ]
          },
          "metadata": {
            "tags": []
          },
          "execution_count": 29
        }
      ]
    },
    {
      "metadata": {
        "id": "FFf7prcJJ741",
        "colab_type": "text"
      },
      "cell_type": "markdown",
      "source": [
        "### Classe Prevista"
      ]
    },
    {
      "metadata": {
        "id": "asQTMIgHJ742",
        "colab_type": "text"
      },
      "cell_type": "markdown",
      "source": [
        "A segunda camada totalmente conectada estima a probabilidade de a imagem de entrada pertencer a cada uma das 10 classes. No entanto, essas estimativas são um pouco difíceis de interpretar porque os números podem ser muito pequenos ou grandes, então queremos normalizá-los para que cada elemento seja limitado entre zero e um e a soma de 10 elementos para um. Isso é calculado usando a chamada função softmax e o resultado é armazenado em `y_pred`."
      ]
    },
    {
      "metadata": {
        "id": "MEnRtoxvJ742",
        "colab_type": "code",
        "colab": {}
      },
      "cell_type": "code",
      "source": [
        "y_pred = tf.nn.softmax(layer_fc2)"
      ],
      "execution_count": 0,
      "outputs": []
    },
    {
      "metadata": {
        "id": "4K0bQyvGJ744",
        "colab_type": "code",
        "colab": {}
      },
      "cell_type": "code",
      "source": [
        "y_pred_cls = tf.argmax(y_pred, dimension=1)"
      ],
      "execution_count": 0,
      "outputs": []
    },
    {
      "metadata": {
        "id": "RHC4K95VJ746",
        "colab_type": "text"
      },
      "cell_type": "markdown",
      "source": [
        "### Função de Custo a ser Otimizada"
      ]
    },
    {
      "metadata": {
        "id": "i_n1kqfNJ746",
        "colab_type": "text"
      },
      "cell_type": "markdown",
      "source": [
        "Para melhorar o modelo na classificação das imagens de entrada, devemos mudar de alguma forma as variáveis para todas as camadas da rede. Para fazer isso, primeiro precisamos saber o desempenho do modelo atualmente, comparando a saída prevista do modelo `y_pred` com a saída desejada `y_true`.\n",
        "\n",
        "A entropia cruzada é uma medida de desempenho usada na classificação. A entropia cruzada é uma função contínua que é sempre positiva e, se a saída prevista do modelo corresponde exatamente à saída desejada, a entropia cruzada é igual a zero. O objetivo da otimização é, portanto, minimizar a entropia cruzada para que ela fique o mais próximo possível de zero ao alterar as variáveis das camadas de rede.\n",
        "\n",
        "TensorFlow possui uma função incorporada para calcular a entropia cruzada. Observe que a função calcula o softmax internamente, então devemos usar a saída de `layer_fc2` diretamente em vez de` y_pred`, que já teve o softmax aplicado."
      ]
    },
    {
      "metadata": {
        "id": "GDp0Aeo6J747",
        "colab_type": "code",
        "colab": {}
      },
      "cell_type": "code",
      "source": [
        "cross_entropy = tf.nn.softmax_cross_entropy_with_logits_v2(logits = layer_fc2, labels = y_true)"
      ],
      "execution_count": 0,
      "outputs": []
    },
    {
      "metadata": {
        "id": "3Wn-Jf-ZJ749",
        "colab_type": "text"
      },
      "cell_type": "markdown",
      "source": [
        "Já calculamos a entropia cruzada para cada uma das classificações de imagens, de modo que temos uma medida de quão bem o modelo executa em cada imagem individualmente. Mas, para usar a entropia cruzada para orientar a otimização das variáveis do modelo, precisamos de um único valor escalar, então simplesmente tomamos a média da entropia cruzada para todas as classificações de imagem."
      ]
    },
    {
      "metadata": {
        "id": "VMcUs2sZJ749",
        "colab_type": "code",
        "colab": {}
      },
      "cell_type": "code",
      "source": [
        "cost = tf.reduce_mean(cross_entropy)"
      ],
      "execution_count": 0,
      "outputs": []
    },
    {
      "metadata": {
        "id": "KB9Lok_dJ75E",
        "colab_type": "text"
      },
      "cell_type": "markdown",
      "source": [
        "### Método de Otimização"
      ]
    },
    {
      "metadata": {
        "id": "xSKhmjpSJ75F",
        "colab_type": "text"
      },
      "cell_type": "markdown",
      "source": [
        "Agora que temos uma medida de custo que deve ser minimizada, podemos criar um otimizador. Neste caso, é o `AdamOptimizer` que é uma forma avançada de Gradient Descent.\n",
        "\n",
        "Observe que a otimização não é realizada neste momento. Na verdade, nada é calculado, e estamos apenas adicionamos o otimizador-objeto ao gráfico TensorFlow para execução posterior."
      ]
    },
    {
      "metadata": {
        "id": "gSjuiBmrJ75G",
        "colab_type": "code",
        "colab": {}
      },
      "cell_type": "code",
      "source": [
        "optimizer = tf.train.AdamOptimizer(learning_rate = 1e-4).minimize(cost)"
      ],
      "execution_count": 0,
      "outputs": []
    },
    {
      "metadata": {
        "id": "HSWl9tIhJ75J",
        "colab_type": "text"
      },
      "cell_type": "markdown",
      "source": [
        "### Medidas de Performance "
      ]
    },
    {
      "metadata": {
        "id": "R6FRpQdUJ75K",
        "colab_type": "text"
      },
      "cell_type": "markdown",
      "source": [
        "Precisamos de mais algumas medidas de desempenho para exibir o progresso do nosso modelo. Teremos aqui um vetor de booleanos se a classe prevista é igual à classe verdadeira de cada imagem."
      ]
    },
    {
      "metadata": {
        "id": "nUGwymgyJ75M",
        "colab_type": "code",
        "colab": {}
      },
      "cell_type": "code",
      "source": [
        "correct_prediction = tf.equal(y_pred_cls, y_true_cls)"
      ],
      "execution_count": 0,
      "outputs": []
    },
    {
      "metadata": {
        "id": "je4iy5r3J75Q",
        "colab_type": "text"
      },
      "cell_type": "markdown",
      "source": [
        "Agora calculamos a precisão da classificação fazendo o cast do vetor de booleanos para floats, de modo que False se torna 0 e True se torna 1 e, em seguida, calculamos a média desses números."
      ]
    },
    {
      "metadata": {
        "id": "deOhmZrlJ75R",
        "colab_type": "code",
        "colab": {}
      },
      "cell_type": "code",
      "source": [
        "accuracy = tf.reduce_mean(tf.cast(correct_prediction, tf.float32))"
      ],
      "execution_count": 0,
      "outputs": []
    },
    {
      "metadata": {
        "id": "fYDrhZnSJ75X",
        "colab_type": "text"
      },
      "cell_type": "markdown",
      "source": [
        "## TensorFlow Run"
      ]
    },
    {
      "metadata": {
        "id": "OLY6Rf9zJ75Z",
        "colab_type": "text"
      },
      "cell_type": "markdown",
      "source": [
        "### Cria a Sessão TensorFlow"
      ]
    },
    {
      "metadata": {
        "id": "jn7Huvn3J75b",
        "colab_type": "code",
        "colab": {}
      },
      "cell_type": "code",
      "source": [
        "session = tf.Session()"
      ],
      "execution_count": 0,
      "outputs": []
    },
    {
      "metadata": {
        "id": "o9C4luKkJ75d",
        "colab_type": "text"
      },
      "cell_type": "markdown",
      "source": [
        "### Inicializando as Variáveis"
      ]
    },
    {
      "metadata": {
        "id": "hl2URLrXJ75d",
        "colab_type": "code",
        "colab": {}
      },
      "cell_type": "code",
      "source": [
        "session.run(tf.global_variables_initializer())"
      ],
      "execution_count": 0,
      "outputs": []
    },
    {
      "metadata": {
        "id": "cog7eXU1J75i",
        "colab_type": "text"
      },
      "cell_type": "markdown",
      "source": [
        "# Treinamento"
      ]
    },
    {
      "metadata": {
        "id": "pNtlV0BjJ75j",
        "colab_type": "text"
      },
      "cell_type": "markdown",
      "source": [
        "Existem 55 mil imagens no conjunto de treinamento. Demora muito tempo calcular o gradiente do modelo usando todas essas imagens. Portanto, usamos apenas um pequeno lote de imagens em cada iteração do otimizador.\n",
        "\n",
        "Se o seu computador falhar ou se tornar muito lento porque você está sem memória RAM, então você pode tentar diminuir esse número, mas talvez seja necessário executar mais iterações de otimização."
      ]
    },
    {
      "metadata": {
        "id": "5F_6Ia7rJ75m",
        "colab_type": "code",
        "colab": {}
      },
      "cell_type": "code",
      "source": [
        "train_batch_size = 64"
      ],
      "execution_count": 0,
      "outputs": []
    },
    {
      "metadata": {
        "id": "D_DsNFDpJ75p",
        "colab_type": "text"
      },
      "cell_type": "markdown",
      "source": [
        "Função para executar uma série de iterações de otimização de modo a melhorar gradualmente as variáveis das camadas da rede. Em cada iteração, um novo lote de dados é selecionado a partir do conjunto de treinamento e, em seguida, TensorFlow executa o otimizador usando essas amostras de treinamento. O progresso é impresso a cada 100 iterações."
      ]
    },
    {
      "metadata": {
        "id": "7o9u1Y8RJ75q",
        "colab_type": "code",
        "colab": {}
      },
      "cell_type": "code",
      "source": [
        "# Contagem do total de iterações\n",
        "total_iterations = 0\n",
        "\n",
        "def optimize(num_iterations):\n",
        "    # Garante que a variável é global e não local\n",
        "    global total_iterations\n",
        "\n",
        "    # Start-time.\n",
        "    start_time = time.time()\n",
        "\n",
        "    for i in range(total_iterations, total_iterations + num_iterations):\n",
        "\n",
        "        # Obtém um batch dos dados de treino\n",
        "        x_batch, y_true_batch = data.train.next_batch(train_batch_size)\n",
        "\n",
        "        # Coloca o batch no placeholder\n",
        "        feed_dict_train = {x: x_batch,\n",
        "                           y_true: y_true_batch}\n",
        "\n",
        "        # Executa o otimizador\n",
        "        session.run(optimizer, feed_dict = feed_dict_train)\n",
        "\n",
        "        # Print\n",
        "        if i % 100 == 0:\n",
        "            # Calcula a acurácia\n",
        "            acc = session.run(accuracy, feed_dict=feed_dict_train)\n",
        "\n",
        "            # Mensagem\n",
        "            msg = \"Iteração de Otimização: {0:>6}, Acurácia em Treino: {1:>6.1%}\"\n",
        "\n",
        "            # Print\n",
        "            print(msg.format(i + 1, acc))\n",
        "\n",
        "    # Atualiza o número total de iterações\n",
        "    total_iterations += num_iterations\n",
        "\n",
        "    # Fim da execução\n",
        "    end_time = time.time()\n",
        "\n",
        "    # Calcula o tempo gasto\n",
        "    time_dif = end_time - start_time\n",
        "\n",
        "    # Print\n",
        "    print(\"Tempo gasto: \" + str(timedelta(seconds=int(round(time_dif)))))"
      ],
      "execution_count": 0,
      "outputs": []
    },
    {
      "metadata": {
        "id": "ng0Z45Q9J75t",
        "colab_type": "text"
      },
      "cell_type": "markdown",
      "source": [
        "### Função Para Plot dos Erros"
      ]
    },
    {
      "metadata": {
        "id": "8Dk4JU8PJ75t",
        "colab_type": "code",
        "colab": {}
      },
      "cell_type": "code",
      "source": [
        "def plot_example_errors(cls_pred, correct):\n",
        "    incorrect = (correct == False)\n",
        "    \n",
        "    images = data.test.images[incorrect]\n",
        "    \n",
        "    cls_pred = cls_pred[incorrect]\n",
        "\n",
        "    cls_true = data.test.cls[incorrect]\n",
        "    \n",
        "    # Plot\n",
        "    plot_images(images = images[0:9], cls_true = cls_true[0:9], cls_pred = cls_pred[0:9])"
      ],
      "execution_count": 0,
      "outputs": []
    },
    {
      "metadata": {
        "id": "nGzmgR2cJ75y",
        "colab_type": "text"
      },
      "cell_type": "markdown",
      "source": [
        "### Função Para Criar a Confusion Matrix"
      ]
    },
    {
      "metadata": {
        "id": "Au-0pWs1J75z",
        "colab_type": "code",
        "colab": {}
      },
      "cell_type": "code",
      "source": [
        "def plot_confusion_matrix(cls_pred):\n",
        "    cls_true = data.test.cls\n",
        "\n",
        "    cm = confusion_matrix(y_true = cls_true, y_pred = cls_pred)\n",
        "\n",
        "    # Print \n",
        "    print(cm)\n",
        "\n",
        "    # Plot \n",
        "    plt.matshow(cm)\n",
        "\n",
        "    plt.colorbar()\n",
        "    tick_marks = np.arange(num_classes)\n",
        "    plt.xticks(tick_marks, range(num_classes))\n",
        "    plt.yticks(tick_marks, range(num_classes))\n",
        "    plt.xlabel('Previsto')\n",
        "    plt.ylabel('Label Original')\n",
        "\n",
        "    plt.show()"
      ],
      "execution_count": 0,
      "outputs": []
    },
    {
      "metadata": {
        "id": "7xO0ZRFjJ752",
        "colab_type": "text"
      },
      "cell_type": "markdown",
      "source": [
        "### Função Para Mostrar a Performance"
      ]
    },
    {
      "metadata": {
        "id": "UCg4QoGtJ752",
        "colab_type": "text"
      },
      "cell_type": "markdown",
      "source": [
        "Função para imprimir a precisão da classificação no conjunto de teste.\n",
        "\n",
        "Demora um pouco para calcular a classificação para todas as imagens no conjunto de teste, é por isso que os resultados são reutilizados chamando as funções acima diretamente dessa função, portanto as classificações não precisam ser recalculadas por cada função.\n",
        "\n",
        "Observe que esta função pode usar uma grande quantidade de memória do computador, razão pela qual o conjunto de testes é dividido em lotes menores. Se você tem pouca RAM no seu computador e ele travar, então você pode tentar baixar o tamanho do lote."
      ]
    },
    {
      "metadata": {
        "id": "yWh1nt-AJ753",
        "colab_type": "code",
        "colab": {}
      },
      "cell_type": "code",
      "source": [
        "test_batch_size = 256\n",
        "\n",
        "def print_test_accuracy(show_example_errors = False, show_confusion_matrix = False):\n",
        "\n",
        "    num_test = len(data.test.images)\n",
        "\n",
        "    cls_pred = np.zeros(shape=num_test, dtype=np.int)\n",
        "\n",
        "    i = 0\n",
        "\n",
        "    while i < num_test:\n",
        "        j = min(i + test_batch_size, num_test)\n",
        "\n",
        "        images = data.test.images[i:j, :]\n",
        "\n",
        "        labels = data.test.labels[i:j, :]\n",
        "\n",
        "        feed_dict = {x: images, y_true: labels}\n",
        "\n",
        "        cls_pred[i:j] = session.run(y_pred_cls, feed_dict=feed_dict)\n",
        "\n",
        "        i = j\n",
        "\n",
        "    cls_true = data.test.cls\n",
        "\n",
        "    correct = (cls_true == cls_pred)\n",
        "\n",
        "    correct_sum = correct.sum()\n",
        "\n",
        "    acc = float(correct_sum) / num_test\n",
        "\n",
        "    # Print \n",
        "    msg = \"Acurácia em Teste: {0:.1%} ({1} / {2})\"\n",
        "    print(msg.format(acc, correct_sum, num_test))\n",
        "\n",
        "    # Plot \n",
        "    if show_example_errors:\n",
        "        print(\"Erros:\")\n",
        "        plot_example_errors(cls_pred=cls_pred, correct=correct)\n",
        "\n",
        "    # Plot \n",
        "    if show_confusion_matrix:\n",
        "        print(\"Confusion Matrix:\")\n",
        "        plot_confusion_matrix(cls_pred=cls_pred)"
      ],
      "execution_count": 0,
      "outputs": []
    },
    {
      "metadata": {
        "id": "84qie4uhJ756",
        "colab_type": "text"
      },
      "cell_type": "markdown",
      "source": [
        "## Performance Antes da Otimização"
      ]
    },
    {
      "metadata": {
        "id": "2d3ZQ_cPJ757",
        "colab_type": "code",
        "colab": {
          "base_uri": "https://localhost:8080/",
          "height": 34
        },
        "outputId": "90a5bfc8-99b1-4860-8bac-99c75f34cab1"
      },
      "cell_type": "code",
      "source": [
        "print_test_accuracy()"
      ],
      "execution_count": 48,
      "outputs": [
        {
          "output_type": "stream",
          "text": [
            "Acurácia em Teste: 7.4% (738 / 10000)\n"
          ],
          "name": "stdout"
        }
      ]
    },
    {
      "metadata": {
        "id": "EeqUqqfXJ75_",
        "colab_type": "text"
      },
      "cell_type": "markdown",
      "source": [
        "## Performance Após 1 Iteração de Otimização"
      ]
    },
    {
      "metadata": {
        "id": "_dqvuJdVJ76B",
        "colab_type": "code",
        "colab": {
          "base_uri": "https://localhost:8080/",
          "height": 51
        },
        "outputId": "64264075-cd46-4d70-ee48-3984f732cd1a"
      },
      "cell_type": "code",
      "source": [
        "optimize(num_iterations=1)"
      ],
      "execution_count": 49,
      "outputs": [
        {
          "output_type": "stream",
          "text": [
            "Iteração de Otimização:      1, Acurácia em Treino:  14.1%\n",
            "Tempo gasto: 0:00:00\n"
          ],
          "name": "stdout"
        }
      ]
    },
    {
      "metadata": {
        "scrolled": true,
        "id": "w_SvguI7J76F",
        "colab_type": "code",
        "colab": {
          "base_uri": "https://localhost:8080/",
          "height": 34
        },
        "outputId": "9b713f52-abde-493b-db62-7eb5810f83df"
      },
      "cell_type": "code",
      "source": [
        "print_test_accuracy()"
      ],
      "execution_count": 50,
      "outputs": [
        {
          "output_type": "stream",
          "text": [
            "Acurácia em Teste: 7.9% (788 / 10000)\n"
          ],
          "name": "stdout"
        }
      ]
    },
    {
      "metadata": {
        "id": "HVDVB3cKJ76I",
        "colab_type": "text"
      },
      "cell_type": "markdown",
      "source": [
        "## Performance Após 100 Iterações de Otimização"
      ]
    },
    {
      "metadata": {
        "scrolled": true,
        "id": "cYBpIP_MJ76J",
        "colab_type": "code",
        "colab": {
          "base_uri": "https://localhost:8080/",
          "height": 34
        },
        "outputId": "953221e5-cef1-4b91-f5d3-926b2072f326"
      },
      "cell_type": "code",
      "source": [
        "optimize(num_iterations = 99) "
      ],
      "execution_count": 51,
      "outputs": [
        {
          "output_type": "stream",
          "text": [
            "Tempo gasto: 0:00:01\n"
          ],
          "name": "stdout"
        }
      ]
    },
    {
      "metadata": {
        "id": "ivygk4RCJ76S",
        "colab_type": "code",
        "colab": {
          "base_uri": "https://localhost:8080/",
          "height": 296
        },
        "outputId": "c70fa5c6-d565-4ff5-b8f8-1a9c30e9e55b"
      },
      "cell_type": "code",
      "source": [
        "print_test_accuracy(show_example_errors=True)"
      ],
      "execution_count": 52,
      "outputs": [
        {
          "output_type": "stream",
          "text": [
            "Acurácia em Teste: 57.7% (5773 / 10000)\n",
            "Erros:\n"
          ],
          "name": "stdout"
        },
        {
          "output_type": "display_data",
          "data": {
            "image/png": "[encoded data removed]",
            "text/plain": [
              "<Figure size 432x288 with 9 Axes>"
            ]
          },
          "metadata": {
            "tags": []
          }
        }
      ]
    },
    {
      "metadata": {
        "id": "YWTUrPVYJ76V",
        "colab_type": "text"
      },
      "cell_type": "markdown",
      "source": [
        "## Performance Após 1000 Iterações de Otimização"
      ]
    },
    {
      "metadata": {
        "scrolled": false,
        "id": "mhkPSYQUJ76W",
        "colab_type": "code",
        "colab": {
          "base_uri": "https://localhost:8080/",
          "height": 187
        },
        "outputId": "a2af48d4-d79b-49d5-812b-e46bb0129013"
      },
      "cell_type": "code",
      "source": [
        "optimize(num_iterations = 900)"
      ],
      "execution_count": 53,
      "outputs": [
        {
          "output_type": "stream",
          "text": [
            "Iteração de Otimização:    101, Acurácia em Treino:  46.9%\n",
            "Iteração de Otimização:    201, Acurácia em Treino:  82.8%\n",
            "Iteração de Otimização:    301, Acurácia em Treino:  82.8%\n",
            "Iteração de Otimização:    401, Acurácia em Treino:  89.1%\n",
            "Iteração de Otimização:    501, Acurácia em Treino:  84.4%\n",
            "Iteração de Otimização:    601, Acurácia em Treino:  93.8%\n",
            "Iteração de Otimização:    701, Acurácia em Treino:  89.1%\n",
            "Iteração de Otimização:    801, Acurácia em Treino:  98.4%\n",
            "Iteração de Otimização:    901, Acurácia em Treino:  96.9%\n",
            "Tempo gasto: 0:00:05\n"
          ],
          "name": "stdout"
        }
      ]
    },
    {
      "metadata": {
        "scrolled": true,
        "id": "Ed6L8NbsJ76Z",
        "colab_type": "code",
        "colab": {
          "base_uri": "https://localhost:8080/",
          "height": 296
        },
        "outputId": "d5dd79ea-5c32-42d8-f40d-b209a164b8aa"
      },
      "cell_type": "code",
      "source": [
        "print_test_accuracy(show_example_errors=True)"
      ],
      "execution_count": 54,
      "outputs": [
        {
          "output_type": "stream",
          "text": [
            "Acurácia em Teste: 93.0% (9296 / 10000)\n",
            "Erros:\n"
          ],
          "name": "stdout"
        },
        {
          "output_type": "display_data",
          "data": {
            "image/png": "[encoded data removed]",
            "text/plain": [
              "<Figure size 432x288 with 9 Axes>"
            ]
          },
          "metadata": {
            "tags": []
          }
        }
      ]
    },
    {
      "metadata": {
        "id": "BvsB32ryJ76e",
        "colab_type": "text"
      },
      "cell_type": "markdown",
      "source": [
        "## Performance Após 10.000 Iterações de Otimização"
      ]
    },
    {
      "metadata": {
        "scrolled": true,
        "id": "YMmBrUOYJ76f",
        "colab_type": "code",
        "colab": {
          "base_uri": "https://localhost:8080/",
          "height": 1564
        },
        "outputId": "30800211-7390-48be-895a-0c11fee7aefc"
      },
      "cell_type": "code",
      "source": [
        "optimize(num_iterations = 9000) "
      ],
      "execution_count": 55,
      "outputs": [
        {
          "output_type": "stream",
          "text": [
            "Iteração de Otimização:   1001, Acurácia em Treino:  92.2%\n",
            "Iteração de Otimização:   1101, Acurácia em Treino:  95.3%\n",
            "Iteração de Otimização:   1201, Acurácia em Treino:  90.6%\n",
            "Iteração de Otimização:   1301, Acurácia em Treino:  93.8%\n",
            "Iteração de Otimização:   1401, Acurácia em Treino:  90.6%\n",
            "Iteração de Otimização:   1501, Acurácia em Treino:  90.6%\n",
            "Iteração de Otimização:   1601, Acurácia em Treino:  95.3%\n",
            "Iteração de Otimização:   1701, Acurácia em Treino:  90.6%\n",
            "Iteração de Otimização:   1801, Acurácia em Treino:  95.3%\n",
            "Iteração de Otimização:   1901, Acurácia em Treino:  92.2%\n",
            "Iteração de Otimização:   2001, Acurácia em Treino:  98.4%\n",
            "Iteração de Otimização:   2101, Acurácia em Treino:  96.9%\n",
            "Iteração de Otimização:   2201, Acurácia em Treino:  95.3%\n",
            "Iteração de Otimização:   2301, Acurácia em Treino: 100.0%\n",
            "Iteração de Otimização:   2401, Acurácia em Treino: 100.0%\n",
            "Iteração de Otimização:   2501, Acurácia em Treino:  96.9%\n",
            "Iteração de Otimização:   2601, Acurácia em Treino:  96.9%\n",
            "Iteração de Otimização:   2701, Acurácia em Treino:  96.9%\n",
            "Iteração de Otimização:   2801, Acurácia em Treino:  95.3%\n",
            "Iteração de Otimização:   2901, Acurácia em Treino:  98.4%\n",
            "Iteração de Otimização:   3001, Acurácia em Treino:  93.8%\n",
            "Iteração de Otimização:   3101, Acurácia em Treino:  93.8%\n",
            "Iteração de Otimização:   3201, Acurácia em Treino:  98.4%\n",
            "Iteração de Otimização:   3301, Acurácia em Treino:  98.4%\n",
            "Iteração de Otimização:   3401, Acurácia em Treino: 100.0%\n",
            "Iteração de Otimização:   3501, Acurácia em Treino: 100.0%\n",
            "Iteração de Otimização:   3601, Acurácia em Treino:  98.4%\n",
            "Iteração de Otimização:   3701, Acurácia em Treino:  93.8%\n",
            "Iteração de Otimização:   3801, Acurácia em Treino:  98.4%\n",
            "Iteração de Otimização:   3901, Acurácia em Treino:  96.9%\n",
            "Iteração de Otimização:   4001, Acurácia em Treino:  98.4%\n",
            "Iteração de Otimização:   4101, Acurácia em Treino:  95.3%\n",
            "Iteração de Otimização:   4201, Acurácia em Treino:  98.4%\n",
            "Iteração de Otimização:   4301, Acurácia em Treino: 100.0%\n",
            "Iteração de Otimização:   4401, Acurácia em Treino:  96.9%\n",
            "Iteração de Otimização:   4501, Acurácia em Treino:  98.4%\n",
            "Iteração de Otimização:   4601, Acurácia em Treino:  96.9%\n",
            "Iteração de Otimização:   4701, Acurácia em Treino:  98.4%\n",
            "Iteração de Otimização:   4801, Acurácia em Treino:  98.4%\n",
            "Iteração de Otimização:   4901, Acurácia em Treino:  98.4%\n",
            "Iteração de Otimização:   5001, Acurácia em Treino:  96.9%\n",
            "Iteração de Otimização:   5101, Acurácia em Treino: 100.0%\n",
            "Iteração de Otimização:   5201, Acurácia em Treino:  98.4%\n",
            "Iteração de Otimização:   5301, Acurácia em Treino:  98.4%\n",
            "Iteração de Otimização:   5401, Acurácia em Treino:  98.4%\n",
            "Iteração de Otimização:   5501, Acurácia em Treino:  96.9%\n",
            "Iteração de Otimização:   5601, Acurácia em Treino: 100.0%\n",
            "Iteração de Otimização:   5701, Acurácia em Treino:  98.4%\n",
            "Iteração de Otimização:   5801, Acurácia em Treino:  96.9%\n",
            "Iteração de Otimização:   5901, Acurácia em Treino: 100.0%\n",
            "Iteração de Otimização:   6001, Acurácia em Treino: 100.0%\n",
            "Iteração de Otimização:   6101, Acurácia em Treino: 100.0%\n",
            "Iteração de Otimização:   6201, Acurácia em Treino:  98.4%\n",
            "Iteração de Otimização:   6301, Acurácia em Treino:  96.9%\n",
            "Iteração de Otimização:   6401, Acurácia em Treino:  96.9%\n",
            "Iteração de Otimização:   6501, Acurácia em Treino:  98.4%\n",
            "Iteração de Otimização:   6601, Acurácia em Treino:  96.9%\n",
            "Iteração de Otimização:   6701, Acurácia em Treino:  96.9%\n",
            "Iteração de Otimização:   6801, Acurácia em Treino:  96.9%\n",
            "Iteração de Otimização:   6901, Acurácia em Treino:  98.4%\n",
            "Iteração de Otimização:   7001, Acurácia em Treino:  98.4%\n",
            "Iteração de Otimização:   7101, Acurácia em Treino: 100.0%\n",
            "Iteração de Otimização:   7201, Acurácia em Treino:  98.4%\n",
            "Iteração de Otimização:   7301, Acurácia em Treino: 100.0%\n",
            "Iteração de Otimização:   7401, Acurácia em Treino:  96.9%\n",
            "Iteração de Otimização:   7501, Acurácia em Treino: 100.0%\n",
            "Iteração de Otimização:   7601, Acurácia em Treino:  98.4%\n",
            "Iteração de Otimização:   7701, Acurácia em Treino:  98.4%\n",
            "Iteração de Otimização:   7801, Acurácia em Treino:  98.4%\n",
            "Iteração de Otimização:   7901, Acurácia em Treino: 100.0%\n",
            "Iteração de Otimização:   8001, Acurácia em Treino: 100.0%\n",
            "Iteração de Otimização:   8101, Acurácia em Treino: 100.0%\n",
            "Iteração de Otimização:   8201, Acurácia em Treino: 100.0%\n",
            "Iteração de Otimização:   8301, Acurácia em Treino:  96.9%\n",
            "Iteração de Otimização:   8401, Acurácia em Treino:  98.4%\n",
            "Iteração de Otimização:   8501, Acurácia em Treino: 100.0%\n",
            "Iteração de Otimização:   8601, Acurácia em Treino: 100.0%\n",
            "Iteração de Otimização:   8701, Acurácia em Treino:  98.4%\n",
            "Iteração de Otimização:   8801, Acurácia em Treino:  98.4%\n",
            "Iteração de Otimização:   8901, Acurácia em Treino:  96.9%\n",
            "Iteração de Otimização:   9001, Acurácia em Treino:  96.9%\n",
            "Iteração de Otimização:   9101, Acurácia em Treino: 100.0%\n",
            "Iteração de Otimização:   9201, Acurácia em Treino:  98.4%\n",
            "Iteração de Otimização:   9301, Acurácia em Treino:  98.4%\n",
            "Iteração de Otimização:   9401, Acurácia em Treino:  98.4%\n",
            "Iteração de Otimização:   9501, Acurácia em Treino: 100.0%\n",
            "Iteração de Otimização:   9601, Acurácia em Treino:  98.4%\n",
            "Iteração de Otimização:   9701, Acurácia em Treino: 100.0%\n",
            "Iteração de Otimização:   9801, Acurácia em Treino: 100.0%\n",
            "Iteração de Otimização:   9901, Acurácia em Treino:  98.4%\n",
            "Tempo gasto: 0:00:43\n"
          ],
          "name": "stdout"
        }
      ]
    },
    {
      "metadata": {
        "scrolled": true,
        "id": "9wHqKRG7J76h",
        "colab_type": "code",
        "colab": {
          "base_uri": "https://localhost:8080/",
          "height": 726
        },
        "outputId": "af9c5910-f9b4-49d1-a021-0a77417db50b"
      },
      "cell_type": "code",
      "source": [
        "print_test_accuracy(show_example_errors = True, show_confusion_matrix = True)"
      ],
      "execution_count": 56,
      "outputs": [
        {
          "output_type": "stream",
          "text": [
            "Acurácia em Teste: 98.9% (9894 / 10000)\n",
            "Erros:\n"
          ],
          "name": "stdout"
        },
        {
          "output_type": "display_data",
          "data": {
            "image/png": "[encoded data removed]",
            "text/plain": [
              "<Figure size 432x288 with 9 Axes>"
            ]
          },
          "metadata": {
            "tags": []
          }
        },
        {
          "output_type": "stream",
          "text": [
            "Confusion Matrix:\n",
            "[[ 976    0    0    0    0    0    1    1    2    0]\n",
            " [   0 1131    1    0    0    0    1    1    1    0]\n",
            " [   0    1 1025    0    0    0    0    3    3    0]\n",
            " [   1    0    0 1005    0    1    0    1    2    0]\n",
            " [   0    0    1    0  975    0    1    0    0    5]\n",
            " [   2    0    0   11    0  873    1    0    1    4]\n",
            " [   4    4    1    1    1    2  943    0    2    0]\n",
            " [   0    3    5    2    0    0    0 1009    1    8]\n",
            " [   2    1    2    2    1    1    0    2  961    2]\n",
            " [   0    5    0    2    5    0    0    1    0  996]]\n"
          ],
          "name": "stdout"
        },
        {
          "output_type": "display_data",
          "data": {
            "image/png": "[encoded data removed]",
            "text/plain": [
              "<Figure size 288x288 with 2 Axes>"
            ]
          },
          "metadata": {
            "tags": []
          }
        }
      ]
    },
    {
      "metadata": {
        "id": "EtE-44DUJ76q",
        "colab_type": "text"
      },
      "cell_type": "markdown",
      "source": [
        "## Visualização de Pesos e Camadas\n",
        "\n",
        "Ao tentar entender por que a rede neural convolutiva pode reconhecer os dígitos manuscritos, agora visualizaremos os pesos dos filtros convolucionais e as imagens de saída resultantes."
      ]
    },
    {
      "metadata": {
        "id": "KQAev4S2J76r",
        "colab_type": "text"
      },
      "cell_type": "markdown",
      "source": [
        "### Função Para Plotar os Pesos Convolucionais"
      ]
    },
    {
      "metadata": {
        "id": "unp-P3gUJ76t",
        "colab_type": "code",
        "colab": {}
      },
      "cell_type": "code",
      "source": [
        "def plot_conv_weights(weights, input_channel=0):\n",
        "    w = session.run(weights)\n",
        "\n",
        "    w_min = np.min(w)\n",
        "    w_max = np.max(w)\n",
        "\n",
        "    num_filters = w.shape[3]\n",
        "\n",
        "    num_grids = math.ceil(math.sqrt(num_filters))\n",
        "    \n",
        "    fig, axes = plt.subplots(num_grids, num_grids)\n",
        "\n",
        "    # Plot \n",
        "    for i, ax in enumerate(axes.flat):\n",
        "        if i < num_filters:\n",
        "\n",
        "            img = w[:, :, input_channel, i]\n",
        "\n",
        "            # Plot \n",
        "            ax.imshow(img, vmin = w_min, vmax = w_max, interpolation = 'nearest', cmap = 'seismic')\n",
        "        \n",
        "        ax.set_xticks([])\n",
        "        ax.set_yticks([])\n",
        "    \n",
        "    plt.show()"
      ],
      "execution_count": 0,
      "outputs": []
    },
    {
      "metadata": {
        "id": "_6V58CIUJ76x",
        "colab_type": "text"
      },
      "cell_type": "markdown",
      "source": [
        "### Função Para o Plot das Saídas das Camadas Convolucionais"
      ]
    },
    {
      "metadata": {
        "id": "t_agT89HJ76y",
        "colab_type": "code",
        "colab": {}
      },
      "cell_type": "code",
      "source": [
        "def plot_conv_layer(layer, image):\n",
        "\n",
        "    feed_dict = {x: [image]}\n",
        "\n",
        "    values = session.run(layer, feed_dict=feed_dict)\n",
        "\n",
        "    num_filters = values.shape[3]\n",
        "\n",
        "    num_grids = math.ceil(math.sqrt(num_filters))\n",
        "    \n",
        "    fig, axes = plt.subplots(num_grids, num_grids)\n",
        "\n",
        "    # Plot\n",
        "    for i, ax in enumerate(axes.flat):\n",
        "        if i < num_filters:\n",
        "            img = values[0, :, :, i]\n",
        "\n",
        "            # Plot\n",
        "            ax.imshow(img, interpolation = 'nearest', cmap = 'binary')\n",
        "        \n",
        "        ax.set_xticks([])\n",
        "        ax.set_yticks([])\n",
        "    \n",
        "    plt.show()"
      ],
      "execution_count": 0,
      "outputs": []
    },
    {
      "metadata": {
        "id": "2qMifiefJ761",
        "colab_type": "text"
      },
      "cell_type": "markdown",
      "source": [
        "### Input Images"
      ]
    },
    {
      "metadata": {
        "id": "Qi0Jgmo5J764",
        "colab_type": "code",
        "colab": {}
      },
      "cell_type": "code",
      "source": [
        "def plot_image(image):\n",
        "    plt.imshow(image.reshape(img_shape),\n",
        "               interpolation='nearest',\n",
        "               cmap='binary')\n",
        "\n",
        "    plt.show()"
      ],
      "execution_count": 0,
      "outputs": []
    },
    {
      "metadata": {
        "id": "eMfuw4BQJ766",
        "colab_type": "code",
        "colab": {
          "base_uri": "https://localhost:8080/",
          "height": 265
        },
        "outputId": "2ccfab9a-2a9c-4831-d843-1a871a73ff54"
      },
      "cell_type": "code",
      "source": [
        "image1 = data.test.images[0]\n",
        "plot_image(image1)"
      ],
      "execution_count": 60,
      "outputs": [
        {
          "output_type": "display_data",
          "data": {
            "image/png": "[encoded data removed]",
            "text/plain": [
              "<Figure size 432x288 with 1 Axes>"
            ]
          },
          "metadata": {
            "tags": []
          }
        }
      ]
    },
    {
      "metadata": {
        "id": "NZjvpSiVJ77E",
        "colab_type": "code",
        "colab": {
          "base_uri": "https://localhost:8080/",
          "height": 265
        },
        "outputId": "43eadfdc-63fd-4af8-84ca-54917dd45e28"
      },
      "cell_type": "code",
      "source": [
        "image2 = data.test.images[13]\n",
        "plot_image(image2)"
      ],
      "execution_count": 61,
      "outputs": [
        {
          "output_type": "display_data",
          "data": {
            "image/png": "[encoded data removed]",
            "text/plain": [
              "<Figure size 432x288 with 1 Axes>"
            ]
          },
          "metadata": {
            "tags": []
          }
        }
      ]
    },
    {
      "metadata": {
        "id": "r0G8AkaMJ77I",
        "colab_type": "text"
      },
      "cell_type": "markdown",
      "source": [
        "### Saídas da Camada Convolucional 1"
      ]
    },
    {
      "metadata": {
        "id": "4U7n3VMyJ77K",
        "colab_type": "text"
      },
      "cell_type": "markdown",
      "source": [
        "Plot dos pesos de filtro para a primeira camada convolucional. Observe que os pesos positivos são vermelhos e os pesos negativos são azuis."
      ]
    },
    {
      "metadata": {
        "scrolled": false,
        "id": "k0ju7bQYJ77K",
        "colab_type": "code",
        "colab": {
          "base_uri": "https://localhost:8080/",
          "height": 248
        },
        "outputId": "56960d4f-68bd-4095-b052-fbeeeab96981"
      },
      "cell_type": "code",
      "source": [
        "plot_conv_weights(weights=weights_conv1)"
      ],
      "execution_count": 62,
      "outputs": [
        {
          "output_type": "display_data",
          "data": {
            "image/png": "[encoded data removed]",
            "text/plain": [
              "<Figure size 432x288 with 16 Axes>"
            ]
          },
          "metadata": {
            "tags": []
          }
        }
      ]
    },
    {
      "metadata": {
        "id": "kESWa3xLJ77P",
        "colab_type": "text"
      },
      "cell_type": "markdown",
      "source": [
        "A aplicação de cada um desses filtros convolucionais na primeira imagem de entrada gera as seguintes imagens de saída, que são então utilizadas como entrada para a segunda camada convolucional. Observe que essas imagens são reduzudas para 14 x 14 pixels, metade da resolução da imagem de entrada original."
      ]
    },
    {
      "metadata": {
        "scrolled": true,
        "id": "0Mm0qgy5J77Q",
        "colab_type": "code",
        "colab": {
          "base_uri": "https://localhost:8080/",
          "height": 248
        },
        "outputId": "6acd588d-1ad5-4149-b3c2-d8d0bfae102c"
      },
      "cell_type": "code",
      "source": [
        "plot_conv_layer(layer = layer_conv1, image = image1)"
      ],
      "execution_count": 63,
      "outputs": [
        {
          "output_type": "display_data",
          "data": {
            "image/png": "[encoded data removed]",
            "text/plain": [
              "<Figure size 432x288 with 16 Axes>"
            ]
          },
          "metadata": {
            "tags": []
          }
        }
      ]
    },
    {
      "metadata": {
        "id": "kR1WT5W7J77X",
        "colab_type": "text"
      },
      "cell_type": "markdown",
      "source": [
        "As seguintes imagens são os resultados da aplicação dos filtros convolucionais à segunda imagem."
      ]
    },
    {
      "metadata": {
        "scrolled": false,
        "id": "mlGGxIUuJ77Y",
        "colab_type": "code",
        "colab": {
          "base_uri": "https://localhost:8080/",
          "height": 248
        },
        "outputId": "6c75780e-9891-4165-89e8-b53af6d659f5"
      },
      "cell_type": "code",
      "source": [
        "plot_conv_layer(layer=layer_conv1, image=image2)"
      ],
      "execution_count": 64,
      "outputs": [
        {
          "output_type": "display_data",
          "data": {
            "image/png": "[encoded data removed]",
            "text/plain": [
              "<Figure size 432x288 with 16 Axes>"
            ]
          },
          "metadata": {
            "tags": []
          }
        }
      ]
    },
    {
      "metadata": {
        "id": "7BeAftymJ77c",
        "colab_type": "text"
      },
      "cell_type": "markdown",
      "source": [
        "É difícil ver nessas imagens quais os propósitos dos filtros convolucionais. Parece que eles simplesmente criaram várias variações da imagem de entrada, como se a luz estivesse brilhando de ângulos diferentes e lançando sombras na imagem."
      ]
    },
    {
      "metadata": {
        "id": "hkCHd3MkJ77c",
        "colab_type": "text"
      },
      "cell_type": "markdown",
      "source": [
        "### Saídas da Camada Convolucional 2"
      ]
    },
    {
      "metadata": {
        "id": "gdAb8JOrJ77d",
        "colab_type": "text"
      },
      "cell_type": "markdown",
      "source": [
        "Plot dos pesos de filtro para a segunda camada convolucional.\n",
        "\n",
        "Existem 16 canais de saída da primeira camada de convolução, o que significa que existem 16 canais de entrada para a segunda camada de convolução. A segunda conv-layer possui um conjunto de pesos de filtro para cada um dos seus canais de entrada. Começamos por plotar os pesos de filtro para o primeiro canal.\n",
        "\n",
        "Note novamente que os pesos positivos são vermelhos e os pesos negativos são azuis."
      ]
    },
    {
      "metadata": {
        "scrolled": false,
        "id": "a28pTATtJ77e",
        "colab_type": "code",
        "colab": {
          "base_uri": "https://localhost:8080/",
          "height": 248
        },
        "outputId": "75b0cb79-7f86-472b-aa69-1db702282728"
      },
      "cell_type": "code",
      "source": [
        "plot_conv_weights(weights = weights_conv2, input_channel = 0)"
      ],
      "execution_count": 65,
      "outputs": [
        {
          "output_type": "display_data",
          "data": {
            "image/png": "[encoded data removed]",
            "text/plain": [
              "<Figure size 432x288 with 36 Axes>"
            ]
          },
          "metadata": {
            "tags": []
          }
        }
      ]
    },
    {
      "metadata": {
        "id": "fL0S-RLhJ77h",
        "colab_type": "text"
      },
      "cell_type": "markdown",
      "source": [
        "Existem 16 canais de entrada para a segunda camada convolucional, para que possamos fazer outros 15 lotes de pesos de filtro como este. Nós apenas fazemos mais um com o filtro de pesos para o segundo canal."
      ]
    },
    {
      "metadata": {
        "id": "dFOniQI1J77i",
        "colab_type": "code",
        "colab": {
          "base_uri": "https://localhost:8080/",
          "height": 248
        },
        "outputId": "8d5f3934-251d-4388-9095-4dec11b81b64"
      },
      "cell_type": "code",
      "source": [
        "plot_conv_weights(weights = weights_conv2, input_channel = 1)"
      ],
      "execution_count": 66,
      "outputs": [
        {
          "output_type": "display_data",
          "data": {
            "image/png": "[encoded data removed]",
            "text/plain": [
              "<Figure size 432x288 with 36 Axes>"
            ]
          },
          "metadata": {
            "tags": []
          }
        }
      ]
    },
    {
      "metadata": {
        "id": "t_Gi6VxGJ77l",
        "colab_type": "text"
      },
      "cell_type": "markdown",
      "source": [
        "Pode ser difícil de entender e acompanhar a forma como esses filtros são aplicados por causa da alta dimensionalidade.\n",
        "\n",
        "A aplicação desses filtros convolucionais às imagens que foram lançadas a partir da primeira camada convolucional fornece as seguintes imagens.\n",
        "\n",
        "Note-se que as imagens estão ainda mais reduzidas pela camada de Max Pooling para 7 x 7 pixels, que é a metade da resolução das imagens da primeira camada de convolução."
      ]
    },
    {
      "metadata": {
        "scrolled": false,
        "id": "MrK278NDJ77l",
        "colab_type": "code",
        "colab": {
          "base_uri": "https://localhost:8080/",
          "height": 248
        },
        "outputId": "aded0bd5-073d-47dd-c204-3a8db3766d4d"
      },
      "cell_type": "code",
      "source": [
        "plot_conv_layer(layer=layer_conv2, image=image1)"
      ],
      "execution_count": 67,
      "outputs": [
        {
          "output_type": "display_data",
          "data": {
            "image/png": "[encoded data removed]",
            "text/plain": [
              "<Figure size 432x288 with 36 Axes>"
            ]
          },
          "metadata": {
            "tags": []
          }
        }
      ]
    },
    {
      "metadata": {
        "id": "agmxC_BkJ77o",
        "colab_type": "text"
      },
      "cell_type": "markdown",
      "source": [
        "E estes são os resultados da aplicação do filtro-pesos à segunda imagem."
      ]
    },
    {
      "metadata": {
        "scrolled": false,
        "id": "06GA0s92J77o",
        "colab_type": "code",
        "colab": {
          "base_uri": "https://localhost:8080/",
          "height": 248
        },
        "outputId": "10207485-1bcf-4d74-cb3b-8fcda4ae6965"
      },
      "cell_type": "code",
      "source": [
        "plot_conv_layer(layer=layer_conv2, image=image2)"
      ],
      "execution_count": 68,
      "outputs": [
        {
          "output_type": "display_data",
          "data": {
            "image/png": "[encoded data removed]",
            "text/plain": [
              "<Figure size 432x288 with 36 Axes>"
            ]
          },
          "metadata": {
            "tags": []
          }
        }
      ]
    },
    {
      "metadata": {
        "id": "SQ2o5XjgJ77s",
        "colab_type": "text"
      },
      "cell_type": "markdown",
      "source": [
        "A partir dessas imagens, parece que a segunda camada convolucional pode detectar linhas e padrões nas imagens de entrada, que são menos sensíveis às variações locais nas imagens de entrada originais.\n",
        "\n",
        "Essas imagens são então \"achatadas\" e servem de entrada para a camada totalmente conectada."
      ]
    },
    {
      "metadata": {
        "id": "TifxT6BOb9PE",
        "colab_type": "text"
      },
      "cell_type": "markdown",
      "source": [
        "## Performance Após 100.000 Iterações de Otimização"
      ]
    },
    {
      "metadata": {
        "id": "sJt5IdVscDs8",
        "colab_type": "code",
        "colab": {
          "base_uri": "https://localhost:8080/",
          "height": 17743
        },
        "outputId": "74f4c2f9-6c9d-41f2-d3ba-a97662299826"
      },
      "cell_type": "code",
      "source": [
        "optimize(num_iterations = 100000) \n",
        "print_test_accuracy(show_example_errors = True, show_confusion_matrix = True)"
      ],
      "execution_count": 69,
      "outputs": [
        {
          "output_type": "stream",
          "text": [
            "Iteração de Otimização:  10001, Acurácia em Treino:  98.4%\n",
            "Iteração de Otimização:  10101, Acurácia em Treino:  98.4%\n",
            "Iteração de Otimização:  10201, Acurácia em Treino: 100.0%\n",
            "Iteração de Otimização:  10301, Acurácia em Treino: 100.0%\n",
            "Iteração de Otimização:  10401, Acurácia em Treino:  98.4%\n",
            "Iteração de Otimização:  10501, Acurácia em Treino: 100.0%\n",
            "Iteração de Otimização:  10601, Acurácia em Treino:  98.4%\n",
            "Iteração de Otimização:  10701, Acurácia em Treino: 100.0%\n",
            "Iteração de Otimização:  10801, Acurácia em Treino:  98.4%\n",
            "Iteração de Otimização:  10901, Acurácia em Treino:  98.4%\n",
            "Iteração de Otimização:  11001, Acurácia em Treino: 100.0%\n",
            "Iteração de Otimização:  11101, Acurácia em Treino:  96.9%\n",
            "Iteração de Otimização:  11201, Acurácia em Treino: 100.0%\n",
            "Iteração de Otimização:  11301, Acurácia em Treino: 100.0%\n",
            "Iteração de Otimização:  11401, Acurácia em Treino: 100.0%\n",
            "Iteração de Otimização:  11501, Acurácia em Treino:  98.4%\n",
            "Iteração de Otimização:  11601, Acurácia em Treino: 100.0%\n",
            "Iteração de Otimização:  11701, Acurácia em Treino:  98.4%\n",
            "Iteração de Otimização:  11801, Acurácia em Treino: 100.0%\n",
            "Iteração de Otimização:  11901, Acurácia em Treino:  96.9%\n",
            "Iteração de Otimização:  12001, Acurácia em Treino: 100.0%\n",
            "Iteração de Otimização:  12101, Acurácia em Treino: 100.0%\n",
            "Iteração de Otimização:  12201, Acurácia em Treino:  98.4%\n",
            "Iteração de Otimização:  12301, Acurácia em Treino: 100.0%\n",
            "Iteração de Otimização:  12401, Acurácia em Treino:  98.4%\n",
            "Iteração de Otimização:  12501, Acurácia em Treino: 100.0%\n",
            "Iteração de Otimização:  12601, Acurácia em Treino:  98.4%\n",
            "Iteração de Otimização:  12701, Acurácia em Treino: 100.0%\n",
            "Iteração de Otimização:  12801, Acurácia em Treino: 100.0%\n",
            "Iteração de Otimização:  12901, Acurácia em Treino: 100.0%\n",
            "Iteração de Otimização:  13001, Acurácia em Treino:  96.9%\n",
            "Iteração de Otimização:  13101, Acurácia em Treino:  98.4%\n",
            "Iteração de Otimização:  13201, Acurácia em Treino: 100.0%\n",
            "Iteração de Otimização:  13301, Acurácia em Treino:  98.4%\n",
            "Iteração de Otimização:  13401, Acurácia em Treino: 100.0%\n",
            "Iteração de Otimização:  13501, Acurácia em Treino: 100.0%\n",
            "Iteração de Otimização:  13601, Acurácia em Treino:  98.4%\n",
            "Iteração de Otimização:  13701, Acurácia em Treino:  98.4%\n",
            "Iteração de Otimização:  13801, Acurácia em Treino: 100.0%\n",
            "Iteração de Otimização:  13901, Acurácia em Treino: 100.0%\n",
            "Iteração de Otimização:  14001, Acurácia em Treino:  98.4%\n",
            "Iteração de Otimização:  14101, Acurácia em Treino: 100.0%\n",
            "Iteração de Otimização:  14201, Acurácia em Treino: 100.0%\n",
            "Iteração de Otimização:  14301, Acurácia em Treino:  96.9%\n",
            "Iteração de Otimização:  14401, Acurácia em Treino:  98.4%\n",
            "Iteração de Otimização:  14501, Acurácia em Treino:  96.9%\n",
            "Iteração de Otimização:  14601, Acurácia em Treino: 100.0%\n",
            "Iteração de Otimização:  14701, Acurácia em Treino: 100.0%\n",
            "Iteração de Otimização:  14801, Acurácia em Treino: 100.0%\n",
            "Iteração de Otimização:  14901, Acurácia em Treino: 100.0%\n",
            "Iteração de Otimização:  15001, Acurácia em Treino: 100.0%\n",
            "Iteração de Otimização:  15101, Acurácia em Treino:  98.4%\n",
            "Iteração de Otimização:  15201, Acurácia em Treino:  98.4%\n",
            "Iteração de Otimização:  15301, Acurácia em Treino: 100.0%\n",
            "Iteração de Otimização:  15401, Acurácia em Treino: 100.0%\n",
            "Iteração de Otimização:  15501, Acurácia em Treino:  98.4%\n",
            "Iteração de Otimização:  15601, Acurácia em Treino: 100.0%\n",
            "Iteração de Otimização:  15701, Acurácia em Treino: 100.0%\n",
            "Iteração de Otimização:  15801, Acurácia em Treino: 100.0%\n",
            "Iteração de Otimização:  15901, Acurácia em Treino: 100.0%\n",
            "Iteração de Otimização:  16001, Acurácia em Treino: 100.0%\n",
            "Iteração de Otimização:  16101, Acurácia em Treino:  98.4%\n",
            "Iteração de Otimização:  16201, Acurácia em Treino: 100.0%\n",
            "Iteração de Otimização:  16301, Acurácia em Treino:  98.4%\n",
            "Iteração de Otimização:  16401, Acurácia em Treino:  98.4%\n",
            "Iteração de Otimização:  16501, Acurácia em Treino:  98.4%\n",
            "Iteração de Otimização:  16601, Acurácia em Treino: 100.0%\n",
            "Iteração de Otimização:  16701, Acurácia em Treino:  98.4%\n",
            "Iteração de Otimização:  16801, Acurácia em Treino: 100.0%\n",
            "Iteração de Otimização:  16901, Acurácia em Treino: 100.0%\n",
            "Iteração de Otimização:  17001, Acurácia em Treino: 100.0%\n",
            "Iteração de Otimização:  17101, Acurácia em Treino: 100.0%\n",
            "Iteração de Otimização:  17201, Acurácia em Treino:  96.9%\n",
            "Iteração de Otimização:  17301, Acurácia em Treino: 100.0%\n",
            "Iteração de Otimização:  17401, Acurácia em Treino: 100.0%\n",
            "Iteração de Otimização:  17501, Acurácia em Treino: 100.0%\n",
            "Iteração de Otimização:  17601, Acurácia em Treino:  98.4%\n",
            "Iteração de Otimização:  17701, Acurácia em Treino:  98.4%\n",
            "Iteração de Otimização:  17801, Acurácia em Treino: 100.0%\n",
            "Iteração de Otimização:  17901, Acurácia em Treino: 100.0%\n",
            "Iteração de Otimização:  18001, Acurácia em Treino: 100.0%\n",
            "Iteração de Otimização:  18101, Acurácia em Treino: 100.0%\n",
            "Iteração de Otimização:  18201, Acurácia em Treino: 100.0%\n",
            "Iteração de Otimização:  18301, Acurácia em Treino:  98.4%\n",
            "Iteração de Otimização:  18401, Acurácia em Treino: 100.0%\n",
            "Iteração de Otimização:  18501, Acurácia em Treino: 100.0%\n",
            "Iteração de Otimização:  18601, Acurácia em Treino: 100.0%\n",
            "Iteração de Otimização:  18701, Acurácia em Treino:  98.4%\n",
            "Iteração de Otimização:  18801, Acurácia em Treino: 100.0%\n",
            "Iteração de Otimização:  18901, Acurácia em Treino: 100.0%\n",
            "Iteração de Otimização:  19001, Acurácia em Treino: 100.0%\n",
            "Iteração de Otimização:  19101, Acurácia em Treino:  98.4%\n",
            "Iteração de Otimização:  19201, Acurácia em Treino:  98.4%\n",
            "Iteração de Otimização:  19301, Acurácia em Treino: 100.0%\n",
            "Iteração de Otimização:  19401, Acurácia em Treino: 100.0%\n",
            "Iteração de Otimização:  19501, Acurácia em Treino: 100.0%\n",
            "Iteração de Otimização:  19601, Acurácia em Treino: 100.0%\n",
            "Iteração de Otimização:  19701, Acurácia em Treino: 100.0%\n",
            "Iteração de Otimização:  19801, Acurácia em Treino: 100.0%\n",
            "Iteração de Otimização:  19901, Acurácia em Treino: 100.0%\n",
            "Iteração de Otimização:  20001, Acurácia em Treino: 100.0%\n",
            "Iteração de Otimização:  20101, Acurácia em Treino: 100.0%\n",
            "Iteração de Otimização:  20201, Acurácia em Treino: 100.0%\n",
            "Iteração de Otimização:  20301, Acurácia em Treino: 100.0%\n",
            "Iteração de Otimização:  20401, Acurácia em Treino: 100.0%\n",
            "Iteração de Otimização:  20501, Acurácia em Treino: 100.0%\n",
            "Iteração de Otimização:  20601, Acurácia em Treino:  98.4%\n",
            "Iteração de Otimização:  20701, Acurácia em Treino: 100.0%\n",
            "Iteração de Otimização:  20801, Acurácia em Treino: 100.0%\n",
            "Iteração de Otimização:  20901, Acurácia em Treino: 100.0%\n",
            "Iteração de Otimização:  21001, Acurácia em Treino: 100.0%\n",
            "Iteração de Otimização:  21101, Acurácia em Treino: 100.0%\n",
            "Iteração de Otimização:  21201, Acurácia em Treino: 100.0%\n",
            "Iteração de Otimização:  21301, Acurácia em Treino:  98.4%\n",
            "Iteração de Otimização:  21401, Acurácia em Treino:  98.4%\n",
            "Iteração de Otimização:  21501, Acurácia em Treino: 100.0%\n",
            "Iteração de Otimização:  21601, Acurácia em Treino: 100.0%\n",
            "Iteração de Otimização:  21701, Acurácia em Treino: 100.0%\n",
            "Iteração de Otimização:  21801, Acurácia em Treino: 100.0%\n",
            "Iteração de Otimização:  21901, Acurácia em Treino: 100.0%\n",
            "Iteração de Otimização:  22001, Acurácia em Treino: 100.0%\n",
            "Iteração de Otimização:  22101, Acurácia em Treino: 100.0%\n",
            "Iteração de Otimização:  22201, Acurácia em Treino:  98.4%\n",
            "Iteração de Otimização:  22301, Acurácia em Treino: 100.0%\n",
            "Iteração de Otimização:  22401, Acurácia em Treino: 100.0%\n",
            "Iteração de Otimização:  22501, Acurácia em Treino: 100.0%\n",
            "Iteração de Otimização:  22601, Acurácia em Treino: 100.0%\n",
            "Iteração de Otimização:  22701, Acurácia em Treino: 100.0%\n",
            "Iteração de Otimização:  22801, Acurácia em Treino: 100.0%\n",
            "Iteração de Otimização:  22901, Acurácia em Treino: 100.0%\n",
            "Iteração de Otimização:  23001, Acurácia em Treino: 100.0%\n",
            "Iteração de Otimização:  23101, Acurácia em Treino: 100.0%\n",
            "Iteração de Otimização:  23201, Acurácia em Treino: 100.0%\n",
            "Iteração de Otimização:  23301, Acurácia em Treino: 100.0%\n",
            "Iteração de Otimização:  23401, Acurácia em Treino: 100.0%\n",
            "Iteração de Otimização:  23501, Acurácia em Treino: 100.0%\n",
            "Iteração de Otimização:  23601, Acurácia em Treino: 100.0%\n",
            "Iteração de Otimização:  23701, Acurácia em Treino: 100.0%\n",
            "Iteração de Otimização:  23801, Acurácia em Treino: 100.0%\n",
            "Iteração de Otimização:  23901, Acurácia em Treino:  98.4%\n",
            "Iteração de Otimização:  24001, Acurácia em Treino:  98.4%\n",
            "Iteração de Otimização:  24101, Acurácia em Treino: 100.0%\n",
            "Iteração de Otimização:  24201, Acurácia em Treino:  98.4%\n",
            "Iteração de Otimização:  24301, Acurácia em Treino: 100.0%\n",
            "Iteração de Otimização:  24401, Acurácia em Treino: 100.0%\n",
            "Iteração de Otimização:  24501, Acurácia em Treino:  98.4%\n",
            "Iteração de Otimização:  24601, Acurácia em Treino: 100.0%\n",
            "Iteração de Otimização:  24701, Acurácia em Treino: 100.0%\n",
            "Iteração de Otimização:  24801, Acurácia em Treino: 100.0%\n",
            "Iteração de Otimização:  24901, Acurácia em Treino: 100.0%\n",
            "Iteração de Otimização:  25001, Acurácia em Treino: 100.0%\n",
            "Iteração de Otimização:  25101, Acurácia em Treino: 100.0%\n",
            "Iteração de Otimização:  25201, Acurácia em Treino: 100.0%\n",
            "Iteração de Otimização:  25301, Acurácia em Treino: 100.0%\n",
            "Iteração de Otimização:  25401, Acurácia em Treino: 100.0%\n",
            "Iteração de Otimização:  25501, Acurácia em Treino: 100.0%\n",
            "Iteração de Otimização:  25601, Acurácia em Treino:  98.4%\n",
            "Iteração de Otimização:  25701, Acurácia em Treino: 100.0%\n",
            "Iteração de Otimização:  25801, Acurácia em Treino: 100.0%\n",
            "Iteração de Otimização:  25901, Acurácia em Treino: 100.0%\n",
            "Iteração de Otimização:  26001, Acurácia em Treino: 100.0%\n",
            "Iteração de Otimização:  26101, Acurácia em Treino: 100.0%\n",
            "Iteração de Otimização:  26201, Acurácia em Treino: 100.0%\n",
            "Iteração de Otimização:  26301, Acurácia em Treino: 100.0%\n",
            "Iteração de Otimização:  26401, Acurácia em Treino: 100.0%\n",
            "Iteração de Otimização:  26501, Acurácia em Treino: 100.0%\n",
            "Iteração de Otimização:  26601, Acurácia em Treino: 100.0%\n",
            "Iteração de Otimização:  26701, Acurácia em Treino: 100.0%\n",
            "Iteração de Otimização:  26801, Acurácia em Treino: 100.0%\n",
            "Iteração de Otimização:  26901, Acurácia em Treino: 100.0%\n",
            "Iteração de Otimização:  27001, Acurácia em Treino: 100.0%\n",
            "Iteração de Otimização:  27101, Acurácia em Treino:  98.4%\n",
            "Iteração de Otimização:  27201, Acurácia em Treino: 100.0%\n",
            "Iteração de Otimização:  27301, Acurácia em Treino: 100.0%\n",
            "Iteração de Otimização:  27401, Acurácia em Treino: 100.0%\n",
            "Iteração de Otimização:  27501, Acurácia em Treino: 100.0%\n",
            "Iteração de Otimização:  27601, Acurácia em Treino: 100.0%\n",
            "Iteração de Otimização:  27701, Acurácia em Treino: 100.0%\n",
            "Iteração de Otimização:  27801, Acurácia em Treino: 100.0%\n",
            "Iteração de Otimização:  27901, Acurácia em Treino:  98.4%\n",
            "Iteração de Otimização:  28001, Acurácia em Treino: 100.0%\n",
            "Iteração de Otimização:  28101, Acurácia em Treino: 100.0%\n",
            "Iteração de Otimização:  28201, Acurácia em Treino: 100.0%\n",
            "Iteração de Otimização:  28301, Acurácia em Treino:  98.4%\n",
            "Iteração de Otimização:  28401, Acurácia em Treino: 100.0%\n",
            "Iteração de Otimização:  28501, Acurácia em Treino: 100.0%\n",
            "Iteração de Otimização:  28601, Acurácia em Treino: 100.0%\n",
            "Iteração de Otimização:  28701, Acurácia em Treino: 100.0%\n",
            "Iteração de Otimização:  28801, Acurácia em Treino: 100.0%\n",
            "Iteração de Otimização:  28901, Acurácia em Treino: 100.0%\n",
            "Iteração de Otimização:  29001, Acurácia em Treino: 100.0%\n",
            "Iteração de Otimização:  29101, Acurácia em Treino: 100.0%\n",
            "Iteração de Otimização:  29201, Acurácia em Treino: 100.0%\n",
            "Iteração de Otimização:  29301, Acurácia em Treino: 100.0%\n",
            "Iteração de Otimização:  29401, Acurácia em Treino: 100.0%\n",
            "Iteração de Otimização:  29501, Acurácia em Treino: 100.0%\n",
            "Iteração de Otimização:  29601, Acurácia em Treino: 100.0%\n",
            "Iteração de Otimização:  29701, Acurácia em Treino: 100.0%\n",
            "Iteração de Otimização:  29801, Acurácia em Treino: 100.0%\n",
            "Iteração de Otimização:  29901, Acurácia em Treino: 100.0%\n",
            "Iteração de Otimização:  30001, Acurácia em Treino: 100.0%\n",
            "Iteração de Otimização:  30101, Acurácia em Treino: 100.0%\n",
            "Iteração de Otimização:  30201, Acurácia em Treino: 100.0%\n",
            "Iteração de Otimização:  30301, Acurácia em Treino: 100.0%\n",
            "Iteração de Otimização:  30401, Acurácia em Treino:  98.4%\n",
            "Iteração de Otimização:  30501, Acurácia em Treino: 100.0%\n",
            "Iteração de Otimização:  30601, Acurácia em Treino: 100.0%\n",
            "Iteração de Otimização:  30701, Acurácia em Treino: 100.0%\n",
            "Iteração de Otimização:  30801, Acurácia em Treino: 100.0%\n",
            "Iteração de Otimização:  30901, Acurácia em Treino: 100.0%\n",
            "Iteração de Otimização:  31001, Acurácia em Treino: 100.0%\n",
            "Iteração de Otimização:  31101, Acurácia em Treino: 100.0%\n",
            "Iteração de Otimização:  31201, Acurácia em Treino: 100.0%\n",
            "Iteração de Otimização:  31301, Acurácia em Treino: 100.0%\n",
            "Iteração de Otimização:  31401, Acurácia em Treino: 100.0%\n",
            "Iteração de Otimização:  31501, Acurácia em Treino: 100.0%\n",
            "Iteração de Otimização:  31601, Acurácia em Treino: 100.0%\n",
            "Iteração de Otimização:  31701, Acurácia em Treino: 100.0%\n",
            "Iteração de Otimização:  31801, Acurácia em Treino: 100.0%\n",
            "Iteração de Otimização:  31901, Acurácia em Treino: 100.0%\n",
            "Iteração de Otimização:  32001, Acurácia em Treino: 100.0%\n",
            "Iteração de Otimização:  32101, Acurácia em Treino: 100.0%\n",
            "Iteração de Otimização:  32201, Acurácia em Treino: 100.0%\n",
            "Iteração de Otimização:  32301, Acurácia em Treino: 100.0%\n",
            "Iteração de Otimização:  32401, Acurácia em Treino: 100.0%\n",
            "Iteração de Otimização:  32501, Acurácia em Treino: 100.0%\n",
            "Iteração de Otimização:  32601, Acurácia em Treino: 100.0%\n",
            "Iteração de Otimização:  32701, Acurácia em Treino: 100.0%\n",
            "Iteração de Otimização:  32801, Acurácia em Treino: 100.0%\n",
            "Iteração de Otimização:  32901, Acurácia em Treino: 100.0%\n",
            "Iteração de Otimização:  33001, Acurácia em Treino: 100.0%\n",
            "Iteração de Otimização:  33101, Acurácia em Treino: 100.0%\n",
            "Iteração de Otimização:  33201, Acurácia em Treino: 100.0%\n",
            "Iteração de Otimização:  33301, Acurácia em Treino: 100.0%\n",
            "Iteração de Otimização:  33401, Acurácia em Treino: 100.0%\n",
            "Iteração de Otimização:  33501, Acurácia em Treino: 100.0%\n",
            "Iteração de Otimização:  33601, Acurácia em Treino: 100.0%\n",
            "Iteração de Otimização:  33701, Acurácia em Treino: 100.0%\n",
            "Iteração de Otimização:  33801, Acurácia em Treino: 100.0%\n",
            "Iteração de Otimização:  33901, Acurácia em Treino: 100.0%\n",
            "Iteração de Otimização:  34001, Acurácia em Treino: 100.0%\n",
            "Iteração de Otimização:  34101, Acurácia em Treino: 100.0%\n",
            "Iteração de Otimização:  34201, Acurácia em Treino: 100.0%\n",
            "Iteração de Otimização:  34301, Acurácia em Treino: 100.0%\n",
            "Iteração de Otimização:  34401, Acurácia em Treino: 100.0%\n",
            "Iteração de Otimização:  34501, Acurácia em Treino: 100.0%\n",
            "Iteração de Otimização:  34601, Acurácia em Treino: 100.0%\n",
            "Iteração de Otimização:  34701, Acurácia em Treino: 100.0%\n",
            "Iteração de Otimização:  34801, Acurácia em Treino: 100.0%\n",
            "Iteração de Otimização:  34901, Acurácia em Treino: 100.0%\n",
            "Iteração de Otimização:  35001, Acurácia em Treino: 100.0%\n",
            "Iteração de Otimização:  35101, Acurácia em Treino: 100.0%\n",
            "Iteração de Otimização:  35201, Acurácia em Treino: 100.0%\n",
            "Iteração de Otimização:  35301, Acurácia em Treino: 100.0%\n",
            "Iteração de Otimização:  35401, Acurácia em Treino: 100.0%\n",
            "Iteração de Otimização:  35501, Acurácia em Treino: 100.0%\n",
            "Iteração de Otimização:  35601, Acurácia em Treino: 100.0%\n",
            "Iteração de Otimização:  35701, Acurácia em Treino: 100.0%\n",
            "Iteração de Otimização:  35801, Acurácia em Treino: 100.0%\n",
            "Iteração de Otimização:  35901, Acurácia em Treino: 100.0%\n",
            "Iteração de Otimização:  36001, Acurácia em Treino: 100.0%\n",
            "Iteração de Otimização:  36101, Acurácia em Treino: 100.0%\n",
            "Iteração de Otimização:  36201, Acurácia em Treino: 100.0%\n",
            "Iteração de Otimização:  36301, Acurácia em Treino: 100.0%\n",
            "Iteração de Otimização:  36401, Acurácia em Treino: 100.0%\n",
            "Iteração de Otimização:  36501, Acurácia em Treino: 100.0%\n",
            "Iteração de Otimização:  36601, Acurácia em Treino: 100.0%\n",
            "Iteração de Otimização:  36701, Acurácia em Treino: 100.0%\n",
            "Iteração de Otimização:  36801, Acurácia em Treino: 100.0%\n",
            "Iteração de Otimização:  36901, Acurácia em Treino: 100.0%\n",
            "Iteração de Otimização:  37001, Acurácia em Treino: 100.0%\n",
            "Iteração de Otimização:  37101, Acurácia em Treino: 100.0%\n",
            "Iteração de Otimização:  37201, Acurácia em Treino: 100.0%\n",
            "Iteração de Otimização:  37301, Acurácia em Treino: 100.0%\n",
            "Iteração de Otimização:  37401, Acurácia em Treino: 100.0%\n",
            "Iteração de Otimização:  37501, Acurácia em Treino: 100.0%\n",
            "Iteração de Otimização:  37601, Acurácia em Treino: 100.0%\n",
            "Iteração de Otimização:  37701, Acurácia em Treino: 100.0%\n",
            "Iteração de Otimização:  37801, Acurácia em Treino: 100.0%\n",
            "Iteração de Otimização:  37901, Acurácia em Treino: 100.0%\n",
            "Iteração de Otimização:  38001, Acurácia em Treino: 100.0%\n",
            "Iteração de Otimização:  38101, Acurácia em Treino: 100.0%\n",
            "Iteração de Otimização:  38201, Acurácia em Treino: 100.0%\n",
            "Iteração de Otimização:  38301, Acurácia em Treino: 100.0%\n",
            "Iteração de Otimização:  38401, Acurácia em Treino: 100.0%\n",
            "Iteração de Otimização:  38501, Acurácia em Treino: 100.0%\n",
            "Iteração de Otimização:  38601, Acurácia em Treino: 100.0%\n",
            "Iteração de Otimização:  38701, Acurácia em Treino: 100.0%\n",
            "Iteração de Otimização:  38801, Acurácia em Treino: 100.0%\n",
            "Iteração de Otimização:  38901, Acurácia em Treino: 100.0%\n",
            "Iteração de Otimização:  39001, Acurácia em Treino: 100.0%\n",
            "Iteração de Otimização:  39101, Acurácia em Treino: 100.0%\n",
            "Iteração de Otimização:  39201, Acurácia em Treino: 100.0%\n",
            "Iteração de Otimização:  39301, Acurácia em Treino: 100.0%\n",
            "Iteração de Otimização:  39401, Acurácia em Treino: 100.0%\n",
            "Iteração de Otimização:  39501, Acurácia em Treino: 100.0%\n",
            "Iteração de Otimização:  39601, Acurácia em Treino: 100.0%\n",
            "Iteração de Otimização:  39701, Acurácia em Treino: 100.0%\n",
            "Iteração de Otimização:  39801, Acurácia em Treino: 100.0%\n",
            "Iteração de Otimização:  39901, Acurácia em Treino: 100.0%\n",
            "Iteração de Otimização:  40001, Acurácia em Treino: 100.0%\n",
            "Iteração de Otimização:  40101, Acurácia em Treino: 100.0%\n",
            "Iteração de Otimização:  40201, Acurácia em Treino: 100.0%\n",
            "Iteração de Otimização:  40301, Acurácia em Treino: 100.0%\n",
            "Iteração de Otimização:  40401, Acurácia em Treino: 100.0%\n",
            "Iteração de Otimização:  40501, Acurácia em Treino: 100.0%\n",
            "Iteração de Otimização:  40601, Acurácia em Treino: 100.0%\n",
            "Iteração de Otimização:  40701, Acurácia em Treino: 100.0%\n",
            "Iteração de Otimização:  40801, Acurácia em Treino: 100.0%\n",
            "Iteração de Otimização:  40901, Acurácia em Treino: 100.0%\n",
            "Iteração de Otimização:  41001, Acurácia em Treino: 100.0%\n",
            "Iteração de Otimização:  41101, Acurácia em Treino: 100.0%\n",
            "Iteração de Otimização:  41201, Acurácia em Treino: 100.0%\n",
            "Iteração de Otimização:  41301, Acurácia em Treino: 100.0%\n",
            "Iteração de Otimização:  41401, Acurácia em Treino: 100.0%\n",
            "Iteração de Otimização:  41501, Acurácia em Treino: 100.0%\n",
            "Iteração de Otimização:  41601, Acurácia em Treino: 100.0%\n",
            "Iteração de Otimização:  41701, Acurácia em Treino: 100.0%\n",
            "Iteração de Otimização:  41801, Acurácia em Treino: 100.0%\n",
            "Iteração de Otimização:  41901, Acurácia em Treino: 100.0%\n",
            "Iteração de Otimização:  42001, Acurácia em Treino: 100.0%\n",
            "Iteração de Otimização:  42101, Acurácia em Treino: 100.0%\n",
            "Iteração de Otimização:  42201, Acurácia em Treino: 100.0%\n",
            "Iteração de Otimização:  42301, Acurácia em Treino: 100.0%\n",
            "Iteração de Otimização:  42401, Acurácia em Treino: 100.0%\n",
            "Iteração de Otimização:  42501, Acurácia em Treino: 100.0%\n",
            "Iteração de Otimização:  42601, Acurácia em Treino: 100.0%\n",
            "Iteração de Otimização:  42701, Acurácia em Treino: 100.0%\n",
            "Iteração de Otimização:  42801, Acurácia em Treino: 100.0%\n",
            "Iteração de Otimização:  42901, Acurácia em Treino: 100.0%\n",
            "Iteração de Otimização:  43001, Acurácia em Treino: 100.0%\n",
            "Iteração de Otimização:  43101, Acurácia em Treino: 100.0%\n",
            "Iteração de Otimização:  43201, Acurácia em Treino: 100.0%\n",
            "Iteração de Otimização:  43301, Acurácia em Treino: 100.0%\n",
            "Iteração de Otimização:  43401, Acurácia em Treino: 100.0%\n",
            "Iteração de Otimização:  43501, Acurácia em Treino: 100.0%\n",
            "Iteração de Otimização:  43601, Acurácia em Treino: 100.0%\n",
            "Iteração de Otimização:  43701, Acurácia em Treino: 100.0%\n",
            "Iteração de Otimização:  43801, Acurácia em Treino: 100.0%\n",
            "Iteração de Otimização:  43901, Acurácia em Treino: 100.0%\n",
            "Iteração de Otimização:  44001, Acurácia em Treino: 100.0%\n",
            "Iteração de Otimização:  44101, Acurácia em Treino:  96.9%\n",
            "Iteração de Otimização:  44201, Acurácia em Treino: 100.0%\n",
            "Iteração de Otimização:  44301, Acurácia em Treino: 100.0%\n",
            "Iteração de Otimização:  44401, Acurácia em Treino: 100.0%\n",
            "Iteração de Otimização:  44501, Acurácia em Treino: 100.0%\n",
            "Iteração de Otimização:  44601, Acurácia em Treino: 100.0%\n",
            "Iteração de Otimização:  44701, Acurácia em Treino: 100.0%\n",
            "Iteração de Otimização:  44801, Acurácia em Treino: 100.0%\n",
            "Iteração de Otimização:  44901, Acurácia em Treino: 100.0%\n",
            "Iteração de Otimização:  45001, Acurácia em Treino: 100.0%\n",
            "Iteração de Otimização:  45101, Acurácia em Treino: 100.0%\n",
            "Iteração de Otimização:  45201, Acurácia em Treino: 100.0%\n",
            "Iteração de Otimização:  45301, Acurácia em Treino: 100.0%\n",
            "Iteração de Otimização:  45401, Acurácia em Treino: 100.0%\n",
            "Iteração de Otimização:  45501, Acurácia em Treino: 100.0%\n",
            "Iteração de Otimização:  45601, Acurácia em Treino: 100.0%\n",
            "Iteração de Otimização:  45701, Acurácia em Treino: 100.0%\n",
            "Iteração de Otimização:  45801, Acurácia em Treino: 100.0%\n",
            "Iteração de Otimização:  45901, Acurácia em Treino: 100.0%\n",
            "Iteração de Otimização:  46001, Acurácia em Treino: 100.0%\n",
            "Iteração de Otimização:  46101, Acurácia em Treino: 100.0%\n",
            "Iteração de Otimização:  46201, Acurácia em Treino: 100.0%\n",
            "Iteração de Otimização:  46301, Acurácia em Treino: 100.0%\n",
            "Iteração de Otimização:  46401, Acurácia em Treino: 100.0%\n",
            "Iteração de Otimização:  46501, Acurácia em Treino: 100.0%\n",
            "Iteração de Otimização:  46601, Acurácia em Treino: 100.0%\n",
            "Iteração de Otimização:  46701, Acurácia em Treino: 100.0%\n",
            "Iteração de Otimização:  46801, Acurácia em Treino: 100.0%\n",
            "Iteração de Otimização:  46901, Acurácia em Treino: 100.0%\n",
            "Iteração de Otimização:  47001, Acurácia em Treino: 100.0%\n",
            "Iteração de Otimização:  47101, Acurácia em Treino: 100.0%\n",
            "Iteração de Otimização:  47201, Acurácia em Treino: 100.0%\n",
            "Iteração de Otimização:  47301, Acurácia em Treino: 100.0%\n",
            "Iteração de Otimização:  47401, Acurácia em Treino: 100.0%\n",
            "Iteração de Otimização:  47501, Acurácia em Treino: 100.0%\n",
            "Iteração de Otimização:  47601, Acurácia em Treino: 100.0%\n",
            "Iteração de Otimização:  47701, Acurácia em Treino: 100.0%\n",
            "Iteração de Otimização:  47801, Acurácia em Treino: 100.0%\n",
            "Iteração de Otimização:  47901, Acurácia em Treino: 100.0%\n",
            "Iteração de Otimização:  48001, Acurácia em Treino: 100.0%\n",
            "Iteração de Otimização:  48101, Acurácia em Treino: 100.0%\n",
            "Iteração de Otimização:  48201, Acurácia em Treino: 100.0%\n",
            "Iteração de Otimização:  48301, Acurácia em Treino: 100.0%\n",
            "Iteração de Otimização:  48401, Acurácia em Treino: 100.0%\n",
            "Iteração de Otimização:  48501, Acurácia em Treino: 100.0%\n",
            "Iteração de Otimização:  48601, Acurácia em Treino: 100.0%\n",
            "Iteração de Otimização:  48701, Acurácia em Treino: 100.0%\n",
            "Iteração de Otimização:  48801, Acurácia em Treino: 100.0%\n",
            "Iteração de Otimização:  48901, Acurácia em Treino: 100.0%\n",
            "Iteração de Otimização:  49001, Acurácia em Treino: 100.0%\n",
            "Iteração de Otimização:  49101, Acurácia em Treino: 100.0%\n",
            "Iteração de Otimização:  49201, Acurácia em Treino: 100.0%\n",
            "Iteração de Otimização:  49301, Acurácia em Treino: 100.0%\n",
            "Iteração de Otimização:  49401, Acurácia em Treino: 100.0%\n",
            "Iteração de Otimização:  49501, Acurácia em Treino: 100.0%\n",
            "Iteração de Otimização:  49601, Acurácia em Treino: 100.0%\n",
            "Iteração de Otimização:  49701, Acurácia em Treino: 100.0%\n",
            "Iteração de Otimização:  49801, Acurácia em Treino: 100.0%\n",
            "Iteração de Otimização:  49901, Acurácia em Treino: 100.0%\n",
            "Iteração de Otimização:  50001, Acurácia em Treino: 100.0%\n",
            "Iteração de Otimização:  50101, Acurácia em Treino: 100.0%\n",
            "Iteração de Otimização:  50201, Acurácia em Treino: 100.0%\n",
            "Iteração de Otimização:  50301, Acurácia em Treino: 100.0%\n",
            "Iteração de Otimização:  50401, Acurácia em Treino: 100.0%\n",
            "Iteração de Otimização:  50501, Acurácia em Treino: 100.0%\n",
            "Iteração de Otimização:  50601, Acurácia em Treino: 100.0%\n",
            "Iteração de Otimização:  50701, Acurácia em Treino: 100.0%\n",
            "Iteração de Otimização:  50801, Acurácia em Treino: 100.0%\n",
            "Iteração de Otimização:  50901, Acurácia em Treino: 100.0%\n",
            "Iteração de Otimização:  51001, Acurácia em Treino: 100.0%\n",
            "Iteração de Otimização:  51101, Acurácia em Treino: 100.0%\n",
            "Iteração de Otimização:  51201, Acurácia em Treino: 100.0%\n",
            "Iteração de Otimização:  51301, Acurácia em Treino: 100.0%\n",
            "Iteração de Otimização:  51401, Acurácia em Treino: 100.0%\n",
            "Iteração de Otimização:  51501, Acurácia em Treino: 100.0%\n",
            "Iteração de Otimização:  51601, Acurácia em Treino: 100.0%\n",
            "Iteração de Otimização:  51701, Acurácia em Treino: 100.0%\n",
            "Iteração de Otimização:  51801, Acurácia em Treino: 100.0%\n",
            "Iteração de Otimização:  51901, Acurácia em Treino: 100.0%\n",
            "Iteração de Otimização:  52001, Acurácia em Treino: 100.0%\n",
            "Iteração de Otimização:  52101, Acurácia em Treino: 100.0%\n",
            "Iteração de Otimização:  52201, Acurácia em Treino: 100.0%\n",
            "Iteração de Otimização:  52301, Acurácia em Treino: 100.0%\n",
            "Iteração de Otimização:  52401, Acurácia em Treino: 100.0%\n",
            "Iteração de Otimização:  52501, Acurácia em Treino: 100.0%\n",
            "Iteração de Otimização:  52601, Acurácia em Treino: 100.0%\n",
            "Iteração de Otimização:  52701, Acurácia em Treino: 100.0%\n",
            "Iteração de Otimização:  52801, Acurácia em Treino: 100.0%\n",
            "Iteração de Otimização:  52901, Acurácia em Treino: 100.0%\n",
            "Iteração de Otimização:  53001, Acurácia em Treino: 100.0%\n",
            "Iteração de Otimização:  53101, Acurácia em Treino: 100.0%\n",
            "Iteração de Otimização:  53201, Acurácia em Treino: 100.0%\n",
            "Iteração de Otimização:  53301, Acurácia em Treino: 100.0%\n",
            "Iteração de Otimização:  53401, Acurácia em Treino: 100.0%\n",
            "Iteração de Otimização:  53501, Acurácia em Treino: 100.0%\n",
            "Iteração de Otimização:  53601, Acurácia em Treino: 100.0%\n",
            "Iteração de Otimização:  53701, Acurácia em Treino: 100.0%\n",
            "Iteração de Otimização:  53801, Acurácia em Treino: 100.0%\n",
            "Iteração de Otimização:  53901, Acurácia em Treino: 100.0%\n",
            "Iteração de Otimização:  54001, Acurácia em Treino: 100.0%\n",
            "Iteração de Otimização:  54101, Acurácia em Treino: 100.0%\n",
            "Iteração de Otimização:  54201, Acurácia em Treino: 100.0%\n",
            "Iteração de Otimização:  54301, Acurácia em Treino: 100.0%\n",
            "Iteração de Otimização:  54401, Acurácia em Treino: 100.0%\n",
            "Iteração de Otimização:  54501, Acurácia em Treino: 100.0%\n",
            "Iteração de Otimização:  54601, Acurácia em Treino: 100.0%\n",
            "Iteração de Otimização:  54701, Acurácia em Treino: 100.0%\n",
            "Iteração de Otimização:  54801, Acurácia em Treino: 100.0%\n",
            "Iteração de Otimização:  54901, Acurácia em Treino: 100.0%\n",
            "Iteração de Otimização:  55001, Acurácia em Treino: 100.0%\n",
            "Iteração de Otimização:  55101, Acurácia em Treino: 100.0%\n",
            "Iteração de Otimização:  55201, Acurácia em Treino: 100.0%\n",
            "Iteração de Otimização:  55301, Acurácia em Treino: 100.0%\n",
            "Iteração de Otimização:  55401, Acurácia em Treino: 100.0%\n",
            "Iteração de Otimização:  55501, Acurácia em Treino: 100.0%\n",
            "Iteração de Otimização:  55601, Acurácia em Treino: 100.0%\n",
            "Iteração de Otimização:  55701, Acurácia em Treino: 100.0%\n",
            "Iteração de Otimização:  55801, Acurácia em Treino: 100.0%\n",
            "Iteração de Otimização:  55901, Acurácia em Treino: 100.0%\n",
            "Iteração de Otimização:  56001, Acurácia em Treino: 100.0%\n",
            "Iteração de Otimização:  56101, Acurácia em Treino: 100.0%\n",
            "Iteração de Otimização:  56201, Acurácia em Treino: 100.0%\n",
            "Iteração de Otimização:  56301, Acurácia em Treino: 100.0%\n",
            "Iteração de Otimização:  56401, Acurácia em Treino: 100.0%\n",
            "Iteração de Otimização:  56501, Acurácia em Treino: 100.0%\n",
            "Iteração de Otimização:  56601, Acurácia em Treino: 100.0%\n",
            "Iteração de Otimização:  56701, Acurácia em Treino: 100.0%\n",
            "Iteração de Otimização:  56801, Acurácia em Treino: 100.0%\n",
            "Iteração de Otimização:  56901, Acurácia em Treino: 100.0%\n",
            "Iteração de Otimização:  57001, Acurácia em Treino: 100.0%\n",
            "Iteração de Otimização:  57101, Acurácia em Treino: 100.0%\n",
            "Iteração de Otimização:  57201, Acurácia em Treino: 100.0%\n",
            "Iteração de Otimização:  57301, Acurácia em Treino: 100.0%\n",
            "Iteração de Otimização:  57401, Acurácia em Treino: 100.0%\n",
            "Iteração de Otimização:  57501, Acurácia em Treino: 100.0%\n",
            "Iteração de Otimização:  57601, Acurácia em Treino: 100.0%\n",
            "Iteração de Otimização:  57701, Acurácia em Treino: 100.0%\n",
            "Iteração de Otimização:  57801, Acurácia em Treino: 100.0%\n",
            "Iteração de Otimização:  57901, Acurácia em Treino: 100.0%\n",
            "Iteração de Otimização:  58001, Acurácia em Treino: 100.0%\n",
            "Iteração de Otimização:  58101, Acurácia em Treino: 100.0%\n",
            "Iteração de Otimização:  58201, Acurácia em Treino: 100.0%\n",
            "Iteração de Otimização:  58301, Acurácia em Treino: 100.0%\n",
            "Iteração de Otimização:  58401, Acurácia em Treino: 100.0%\n",
            "Iteração de Otimização:  58501, Acurácia em Treino: 100.0%\n",
            "Iteração de Otimização:  58601, Acurácia em Treino: 100.0%\n",
            "Iteração de Otimização:  58701, Acurácia em Treino: 100.0%\n",
            "Iteração de Otimização:  58801, Acurácia em Treino: 100.0%\n",
            "Iteração de Otimização:  58901, Acurácia em Treino: 100.0%\n",
            "Iteração de Otimização:  59001, Acurácia em Treino: 100.0%\n",
            "Iteração de Otimização:  59101, Acurácia em Treino: 100.0%\n",
            "Iteração de Otimização:  59201, Acurácia em Treino: 100.0%\n",
            "Iteração de Otimização:  59301, Acurácia em Treino: 100.0%\n",
            "Iteração de Otimização:  59401, Acurácia em Treino: 100.0%\n",
            "Iteração de Otimização:  59501, Acurácia em Treino: 100.0%\n",
            "Iteração de Otimização:  59601, Acurácia em Treino: 100.0%\n",
            "Iteração de Otimização:  59701, Acurácia em Treino: 100.0%\n",
            "Iteração de Otimização:  59801, Acurácia em Treino: 100.0%\n",
            "Iteração de Otimização:  59901, Acurácia em Treino: 100.0%\n",
            "Iteração de Otimização:  60001, Acurácia em Treino: 100.0%\n",
            "Iteração de Otimização:  60101, Acurácia em Treino: 100.0%\n",
            "Iteração de Otimização:  60201, Acurácia em Treino: 100.0%\n",
            "Iteração de Otimização:  60301, Acurácia em Treino: 100.0%\n",
            "Iteração de Otimização:  60401, Acurácia em Treino: 100.0%\n",
            "Iteração de Otimização:  60501, Acurácia em Treino: 100.0%\n",
            "Iteração de Otimização:  60601, Acurácia em Treino: 100.0%\n",
            "Iteração de Otimização:  60701, Acurácia em Treino: 100.0%\n",
            "Iteração de Otimização:  60801, Acurácia em Treino: 100.0%\n",
            "Iteração de Otimização:  60901, Acurácia em Treino: 100.0%\n",
            "Iteração de Otimização:  61001, Acurácia em Treino: 100.0%\n",
            "Iteração de Otimização:  61101, Acurácia em Treino: 100.0%\n",
            "Iteração de Otimização:  61201, Acurácia em Treino: 100.0%\n",
            "Iteração de Otimização:  61301, Acurácia em Treino: 100.0%\n",
            "Iteração de Otimização:  61401, Acurácia em Treino: 100.0%\n",
            "Iteração de Otimização:  61501, Acurácia em Treino: 100.0%\n",
            "Iteração de Otimização:  61601, Acurácia em Treino: 100.0%\n",
            "Iteração de Otimização:  61701, Acurácia em Treino: 100.0%\n",
            "Iteração de Otimização:  61801, Acurácia em Treino: 100.0%\n",
            "Iteração de Otimização:  61901, Acurácia em Treino: 100.0%\n",
            "Iteração de Otimização:  62001, Acurácia em Treino: 100.0%\n",
            "Iteração de Otimização:  62101, Acurácia em Treino: 100.0%\n",
            "Iteração de Otimização:  62201, Acurácia em Treino: 100.0%\n",
            "Iteração de Otimização:  62301, Acurácia em Treino: 100.0%\n",
            "Iteração de Otimização:  62401, Acurácia em Treino: 100.0%\n",
            "Iteração de Otimização:  62501, Acurácia em Treino: 100.0%\n",
            "Iteração de Otimização:  62601, Acurácia em Treino: 100.0%\n",
            "Iteração de Otimização:  62701, Acurácia em Treino: 100.0%\n",
            "Iteração de Otimização:  62801, Acurácia em Treino: 100.0%\n",
            "Iteração de Otimização:  62901, Acurácia em Treino: 100.0%\n",
            "Iteração de Otimização:  63001, Acurácia em Treino: 100.0%\n",
            "Iteração de Otimização:  63101, Acurácia em Treino: 100.0%\n",
            "Iteração de Otimização:  63201, Acurácia em Treino: 100.0%\n",
            "Iteração de Otimização:  63301, Acurácia em Treino: 100.0%\n",
            "Iteração de Otimização:  63401, Acurácia em Treino: 100.0%\n",
            "Iteração de Otimização:  63501, Acurácia em Treino: 100.0%\n",
            "Iteração de Otimização:  63601, Acurácia em Treino: 100.0%\n",
            "Iteração de Otimização:  63701, Acurácia em Treino: 100.0%\n",
            "Iteração de Otimização:  63801, Acurácia em Treino: 100.0%\n",
            "Iteração de Otimização:  63901, Acurácia em Treino: 100.0%\n",
            "Iteração de Otimização:  64001, Acurácia em Treino: 100.0%\n",
            "Iteração de Otimização:  64101, Acurácia em Treino: 100.0%\n",
            "Iteração de Otimização:  64201, Acurácia em Treino: 100.0%\n",
            "Iteração de Otimização:  64301, Acurácia em Treino: 100.0%\n",
            "Iteração de Otimização:  64401, Acurácia em Treino: 100.0%\n",
            "Iteração de Otimização:  64501, Acurácia em Treino: 100.0%\n",
            "Iteração de Otimização:  64601, Acurácia em Treino: 100.0%\n",
            "Iteração de Otimização:  64701, Acurácia em Treino: 100.0%\n",
            "Iteração de Otimização:  64801, Acurácia em Treino: 100.0%\n",
            "Iteração de Otimização:  64901, Acurácia em Treino: 100.0%\n",
            "Iteração de Otimização:  65001, Acurácia em Treino: 100.0%\n",
            "Iteração de Otimização:  65101, Acurácia em Treino: 100.0%\n",
            "Iteração de Otimização:  65201, Acurácia em Treino: 100.0%\n",
            "Iteração de Otimização:  65301, Acurácia em Treino: 100.0%\n",
            "Iteração de Otimização:  65401, Acurácia em Treino: 100.0%\n",
            "Iteração de Otimização:  65501, Acurácia em Treino: 100.0%\n",
            "Iteração de Otimização:  65601, Acurácia em Treino: 100.0%\n",
            "Iteração de Otimização:  65701, Acurácia em Treino: 100.0%\n",
            "Iteração de Otimização:  65801, Acurácia em Treino: 100.0%\n",
            "Iteração de Otimização:  65901, Acurácia em Treino: 100.0%\n",
            "Iteração de Otimização:  66001, Acurácia em Treino: 100.0%\n",
            "Iteração de Otimização:  66101, Acurácia em Treino: 100.0%\n",
            "Iteração de Otimização:  66201, Acurácia em Treino: 100.0%\n",
            "Iteração de Otimização:  66301, Acurácia em Treino: 100.0%\n",
            "Iteração de Otimização:  66401, Acurácia em Treino: 100.0%\n",
            "Iteração de Otimização:  66501, Acurácia em Treino: 100.0%\n",
            "Iteração de Otimização:  66601, Acurácia em Treino: 100.0%\n",
            "Iteração de Otimização:  66701, Acurácia em Treino: 100.0%\n",
            "Iteração de Otimização:  66801, Acurácia em Treino: 100.0%\n",
            "Iteração de Otimização:  66901, Acurácia em Treino: 100.0%\n",
            "Iteração de Otimização:  67001, Acurácia em Treino: 100.0%\n",
            "Iteração de Otimização:  67101, Acurácia em Treino: 100.0%\n",
            "Iteração de Otimização:  67201, Acurácia em Treino: 100.0%\n",
            "Iteração de Otimização:  67301, Acurácia em Treino: 100.0%\n",
            "Iteração de Otimização:  67401, Acurácia em Treino: 100.0%\n",
            "Iteração de Otimização:  67501, Acurácia em Treino: 100.0%\n",
            "Iteração de Otimização:  67601, Acurácia em Treino: 100.0%\n",
            "Iteração de Otimização:  67701, Acurácia em Treino: 100.0%\n",
            "Iteração de Otimização:  67801, Acurácia em Treino: 100.0%\n",
            "Iteração de Otimização:  67901, Acurácia em Treino: 100.0%\n",
            "Iteração de Otimização:  68001, Acurácia em Treino: 100.0%\n",
            "Iteração de Otimização:  68101, Acurácia em Treino: 100.0%\n",
            "Iteração de Otimização:  68201, Acurácia em Treino: 100.0%\n",
            "Iteração de Otimização:  68301, Acurácia em Treino: 100.0%\n",
            "Iteração de Otimização:  68401, Acurácia em Treino: 100.0%\n",
            "Iteração de Otimização:  68501, Acurácia em Treino: 100.0%\n",
            "Iteração de Otimização:  68601, Acurácia em Treino: 100.0%\n",
            "Iteração de Otimização:  68701, Acurácia em Treino: 100.0%\n",
            "Iteração de Otimização:  68801, Acurácia em Treino: 100.0%\n",
            "Iteração de Otimização:  68901, Acurácia em Treino: 100.0%\n",
            "Iteração de Otimização:  69001, Acurácia em Treino: 100.0%\n",
            "Iteração de Otimização:  69101, Acurácia em Treino: 100.0%\n",
            "Iteração de Otimização:  69201, Acurácia em Treino: 100.0%\n",
            "Iteração de Otimização:  69301, Acurácia em Treino: 100.0%\n",
            "Iteração de Otimização:  69401, Acurácia em Treino: 100.0%\n",
            "Iteração de Otimização:  69501, Acurácia em Treino: 100.0%\n",
            "Iteração de Otimização:  69601, Acurácia em Treino: 100.0%\n",
            "Iteração de Otimização:  69701, Acurácia em Treino: 100.0%\n",
            "Iteração de Otimização:  69801, Acurácia em Treino: 100.0%\n",
            "Iteração de Otimização:  69901, Acurácia em Treino: 100.0%\n",
            "Iteração de Otimização:  70001, Acurácia em Treino: 100.0%\n",
            "Iteração de Otimização:  70101, Acurácia em Treino: 100.0%\n",
            "Iteração de Otimização:  70201, Acurácia em Treino: 100.0%\n",
            "Iteração de Otimização:  70301, Acurácia em Treino: 100.0%\n",
            "Iteração de Otimização:  70401, Acurácia em Treino: 100.0%\n",
            "Iteração de Otimização:  70501, Acurácia em Treino: 100.0%\n",
            "Iteração de Otimização:  70601, Acurácia em Treino: 100.0%\n",
            "Iteração de Otimização:  70701, Acurácia em Treino: 100.0%\n",
            "Iteração de Otimização:  70801, Acurácia em Treino: 100.0%\n",
            "Iteração de Otimização:  70901, Acurácia em Treino: 100.0%\n",
            "Iteração de Otimização:  71001, Acurácia em Treino: 100.0%\n",
            "Iteração de Otimização:  71101, Acurácia em Treino: 100.0%\n",
            "Iteração de Otimização:  71201, Acurácia em Treino: 100.0%\n",
            "Iteração de Otimização:  71301, Acurácia em Treino: 100.0%\n",
            "Iteração de Otimização:  71401, Acurácia em Treino: 100.0%\n",
            "Iteração de Otimização:  71501, Acurácia em Treino: 100.0%\n",
            "Iteração de Otimização:  71601, Acurácia em Treino: 100.0%\n",
            "Iteração de Otimização:  71701, Acurácia em Treino: 100.0%\n",
            "Iteração de Otimização:  71801, Acurácia em Treino: 100.0%\n",
            "Iteração de Otimização:  71901, Acurácia em Treino: 100.0%\n",
            "Iteração de Otimização:  72001, Acurácia em Treino: 100.0%\n",
            "Iteração de Otimização:  72101, Acurácia em Treino:  98.4%\n",
            "Iteração de Otimização:  72201, Acurácia em Treino: 100.0%\n",
            "Iteração de Otimização:  72301, Acurácia em Treino: 100.0%\n",
            "Iteração de Otimização:  72401, Acurácia em Treino: 100.0%\n",
            "Iteração de Otimização:  72501, Acurácia em Treino: 100.0%\n",
            "Iteração de Otimização:  72601, Acurácia em Treino: 100.0%\n",
            "Iteração de Otimização:  72701, Acurácia em Treino: 100.0%\n",
            "Iteração de Otimização:  72801, Acurácia em Treino: 100.0%\n",
            "Iteração de Otimização:  72901, Acurácia em Treino: 100.0%\n",
            "Iteração de Otimização:  73001, Acurácia em Treino: 100.0%\n",
            "Iteração de Otimização:  73101, Acurácia em Treino: 100.0%\n",
            "Iteração de Otimização:  73201, Acurácia em Treino: 100.0%\n",
            "Iteração de Otimização:  73301, Acurácia em Treino: 100.0%\n",
            "Iteração de Otimização:  73401, Acurácia em Treino: 100.0%\n",
            "Iteração de Otimização:  73501, Acurácia em Treino: 100.0%\n",
            "Iteração de Otimização:  73601, Acurácia em Treino: 100.0%\n",
            "Iteração de Otimização:  73701, Acurácia em Treino: 100.0%\n",
            "Iteração de Otimização:  73801, Acurácia em Treino: 100.0%\n",
            "Iteração de Otimização:  73901, Acurácia em Treino: 100.0%\n",
            "Iteração de Otimização:  74001, Acurácia em Treino: 100.0%\n",
            "Iteração de Otimização:  74101, Acurácia em Treino: 100.0%\n",
            "Iteração de Otimização:  74201, Acurácia em Treino: 100.0%\n",
            "Iteração de Otimização:  74301, Acurácia em Treino: 100.0%\n",
            "Iteração de Otimização:  74401, Acurácia em Treino: 100.0%\n",
            "Iteração de Otimização:  74501, Acurácia em Treino: 100.0%\n",
            "Iteração de Otimização:  74601, Acurácia em Treino: 100.0%\n",
            "Iteração de Otimização:  74701, Acurácia em Treino: 100.0%\n",
            "Iteração de Otimização:  74801, Acurácia em Treino: 100.0%\n",
            "Iteração de Otimização:  74901, Acurácia em Treino: 100.0%\n",
            "Iteração de Otimização:  75001, Acurácia em Treino: 100.0%\n",
            "Iteração de Otimização:  75101, Acurácia em Treino: 100.0%\n",
            "Iteração de Otimização:  75201, Acurácia em Treino: 100.0%\n",
            "Iteração de Otimização:  75301, Acurácia em Treino: 100.0%\n",
            "Iteração de Otimização:  75401, Acurácia em Treino: 100.0%\n",
            "Iteração de Otimização:  75501, Acurácia em Treino: 100.0%\n",
            "Iteração de Otimização:  75601, Acurácia em Treino: 100.0%\n",
            "Iteração de Otimização:  75701, Acurácia em Treino: 100.0%\n",
            "Iteração de Otimização:  75801, Acurácia em Treino: 100.0%\n",
            "Iteração de Otimização:  75901, Acurácia em Treino: 100.0%\n",
            "Iteração de Otimização:  76001, Acurácia em Treino: 100.0%\n",
            "Iteração de Otimização:  76101, Acurácia em Treino: 100.0%\n",
            "Iteração de Otimização:  76201, Acurácia em Treino: 100.0%\n",
            "Iteração de Otimização:  76301, Acurácia em Treino: 100.0%\n",
            "Iteração de Otimização:  76401, Acurácia em Treino: 100.0%\n",
            "Iteração de Otimização:  76501, Acurácia em Treino: 100.0%\n",
            "Iteração de Otimização:  76601, Acurácia em Treino: 100.0%\n",
            "Iteração de Otimização:  76701, Acurácia em Treino: 100.0%\n",
            "Iteração de Otimização:  76801, Acurácia em Treino: 100.0%\n",
            "Iteração de Otimização:  76901, Acurácia em Treino: 100.0%\n",
            "Iteração de Otimização:  77001, Acurácia em Treino: 100.0%\n",
            "Iteração de Otimização:  77101, Acurácia em Treino: 100.0%\n",
            "Iteração de Otimização:  77201, Acurácia em Treino: 100.0%\n",
            "Iteração de Otimização:  77301, Acurácia em Treino: 100.0%\n",
            "Iteração de Otimização:  77401, Acurácia em Treino: 100.0%\n",
            "Iteração de Otimização:  77501, Acurácia em Treino: 100.0%\n",
            "Iteração de Otimização:  77601, Acurácia em Treino: 100.0%\n",
            "Iteração de Otimização:  77701, Acurácia em Treino: 100.0%\n",
            "Iteração de Otimização:  77801, Acurácia em Treino: 100.0%\n",
            "Iteração de Otimização:  77901, Acurácia em Treino: 100.0%\n",
            "Iteração de Otimização:  78001, Acurácia em Treino: 100.0%\n",
            "Iteração de Otimização:  78101, Acurácia em Treino: 100.0%\n",
            "Iteração de Otimização:  78201, Acurácia em Treino: 100.0%\n",
            "Iteração de Otimização:  78301, Acurácia em Treino: 100.0%\n",
            "Iteração de Otimização:  78401, Acurácia em Treino: 100.0%\n",
            "Iteração de Otimização:  78501, Acurácia em Treino: 100.0%\n",
            "Iteração de Otimização:  78601, Acurácia em Treino: 100.0%\n",
            "Iteração de Otimização:  78701, Acurácia em Treino: 100.0%\n",
            "Iteração de Otimização:  78801, Acurácia em Treino: 100.0%\n",
            "Iteração de Otimização:  78901, Acurácia em Treino: 100.0%\n",
            "Iteração de Otimização:  79001, Acurácia em Treino: 100.0%\n",
            "Iteração de Otimização:  79101, Acurácia em Treino: 100.0%\n",
            "Iteração de Otimização:  79201, Acurácia em Treino: 100.0%\n",
            "Iteração de Otimização:  79301, Acurácia em Treino: 100.0%\n",
            "Iteração de Otimização:  79401, Acurácia em Treino: 100.0%\n",
            "Iteração de Otimização:  79501, Acurácia em Treino: 100.0%\n",
            "Iteração de Otimização:  79601, Acurácia em Treino: 100.0%\n",
            "Iteração de Otimização:  79701, Acurácia em Treino: 100.0%\n",
            "Iteração de Otimização:  79801, Acurácia em Treino: 100.0%\n",
            "Iteração de Otimização:  79901, Acurácia em Treino: 100.0%\n",
            "Iteração de Otimização:  80001, Acurácia em Treino: 100.0%\n",
            "Iteração de Otimização:  80101, Acurácia em Treino: 100.0%\n",
            "Iteração de Otimização:  80201, Acurácia em Treino: 100.0%\n",
            "Iteração de Otimização:  80301, Acurácia em Treino: 100.0%\n",
            "Iteração de Otimização:  80401, Acurácia em Treino: 100.0%\n",
            "Iteração de Otimização:  80501, Acurácia em Treino: 100.0%\n",
            "Iteração de Otimização:  80601, Acurácia em Treino: 100.0%\n",
            "Iteração de Otimização:  80701, Acurácia em Treino: 100.0%\n",
            "Iteração de Otimização:  80801, Acurácia em Treino: 100.0%\n",
            "Iteração de Otimização:  80901, Acurácia em Treino: 100.0%\n",
            "Iteração de Otimização:  81001, Acurácia em Treino: 100.0%\n",
            "Iteração de Otimização:  81101, Acurácia em Treino: 100.0%\n",
            "Iteração de Otimização:  81201, Acurácia em Treino: 100.0%\n",
            "Iteração de Otimização:  81301, Acurácia em Treino: 100.0%\n",
            "Iteração de Otimização:  81401, Acurácia em Treino: 100.0%\n",
            "Iteração de Otimização:  81501, Acurácia em Treino: 100.0%\n",
            "Iteração de Otimização:  81601, Acurácia em Treino: 100.0%\n",
            "Iteração de Otimização:  81701, Acurácia em Treino: 100.0%\n",
            "Iteração de Otimização:  81801, Acurácia em Treino: 100.0%\n",
            "Iteração de Otimização:  81901, Acurácia em Treino: 100.0%\n",
            "Iteração de Otimização:  82001, Acurácia em Treino: 100.0%\n",
            "Iteração de Otimização:  82101, Acurácia em Treino: 100.0%\n",
            "Iteração de Otimização:  82201, Acurácia em Treino: 100.0%\n",
            "Iteração de Otimização:  82301, Acurácia em Treino: 100.0%\n",
            "Iteração de Otimização:  82401, Acurácia em Treino: 100.0%\n",
            "Iteração de Otimização:  82501, Acurácia em Treino: 100.0%\n",
            "Iteração de Otimização:  82601, Acurácia em Treino: 100.0%\n",
            "Iteração de Otimização:  82701, Acurácia em Treino: 100.0%\n",
            "Iteração de Otimização:  82801, Acurácia em Treino: 100.0%\n",
            "Iteração de Otimização:  82901, Acurácia em Treino: 100.0%\n",
            "Iteração de Otimização:  83001, Acurácia em Treino: 100.0%\n",
            "Iteração de Otimização:  83101, Acurácia em Treino: 100.0%\n",
            "Iteração de Otimização:  83201, Acurácia em Treino: 100.0%\n",
            "Iteração de Otimização:  83301, Acurácia em Treino: 100.0%\n",
            "Iteração de Otimização:  83401, Acurácia em Treino: 100.0%\n",
            "Iteração de Otimização:  83501, Acurácia em Treino: 100.0%\n",
            "Iteração de Otimização:  83601, Acurácia em Treino: 100.0%\n",
            "Iteração de Otimização:  83701, Acurácia em Treino: 100.0%\n",
            "Iteração de Otimização:  83801, Acurácia em Treino: 100.0%\n",
            "Iteração de Otimização:  83901, Acurácia em Treino: 100.0%\n",
            "Iteração de Otimização:  84001, Acurácia em Treino: 100.0%\n",
            "Iteração de Otimização:  84101, Acurácia em Treino: 100.0%\n",
            "Iteração de Otimização:  84201, Acurácia em Treino: 100.0%\n",
            "Iteração de Otimização:  84301, Acurácia em Treino: 100.0%\n",
            "Iteração de Otimização:  84401, Acurácia em Treino: 100.0%\n",
            "Iteração de Otimização:  84501, Acurácia em Treino: 100.0%\n",
            "Iteração de Otimização:  84601, Acurácia em Treino: 100.0%\n",
            "Iteração de Otimização:  84701, Acurácia em Treino: 100.0%\n",
            "Iteração de Otimização:  84801, Acurácia em Treino: 100.0%\n",
            "Iteração de Otimização:  84901, Acurácia em Treino: 100.0%\n",
            "Iteração de Otimização:  85001, Acurácia em Treino: 100.0%\n",
            "Iteração de Otimização:  85101, Acurácia em Treino: 100.0%\n",
            "Iteração de Otimização:  85201, Acurácia em Treino: 100.0%\n",
            "Iteração de Otimização:  85301, Acurácia em Treino: 100.0%\n",
            "Iteração de Otimização:  85401, Acurácia em Treino: 100.0%\n",
            "Iteração de Otimização:  85501, Acurácia em Treino: 100.0%\n",
            "Iteração de Otimização:  85601, Acurácia em Treino: 100.0%\n",
            "Iteração de Otimização:  85701, Acurácia em Treino: 100.0%\n",
            "Iteração de Otimização:  85801, Acurácia em Treino: 100.0%\n",
            "Iteração de Otimização:  85901, Acurácia em Treino: 100.0%\n",
            "Iteração de Otimização:  86001, Acurácia em Treino: 100.0%\n",
            "Iteração de Otimização:  86101, Acurácia em Treino: 100.0%\n",
            "Iteração de Otimização:  86201, Acurácia em Treino: 100.0%\n",
            "Iteração de Otimização:  86301, Acurácia em Treino: 100.0%\n",
            "Iteração de Otimização:  86401, Acurácia em Treino: 100.0%\n",
            "Iteração de Otimização:  86501, Acurácia em Treino: 100.0%\n",
            "Iteração de Otimização:  86601, Acurácia em Treino: 100.0%\n",
            "Iteração de Otimização:  86701, Acurácia em Treino: 100.0%\n",
            "Iteração de Otimização:  86801, Acurácia em Treino: 100.0%\n",
            "Iteração de Otimização:  86901, Acurácia em Treino: 100.0%\n",
            "Iteração de Otimização:  87001, Acurácia em Treino: 100.0%\n",
            "Iteração de Otimização:  87101, Acurácia em Treino: 100.0%\n",
            "Iteração de Otimização:  87201, Acurácia em Treino: 100.0%\n",
            "Iteração de Otimização:  87301, Acurácia em Treino: 100.0%\n",
            "Iteração de Otimização:  87401, Acurácia em Treino: 100.0%\n",
            "Iteração de Otimização:  87501, Acurácia em Treino: 100.0%\n",
            "Iteração de Otimização:  87601, Acurácia em Treino: 100.0%\n",
            "Iteração de Otimização:  87701, Acurácia em Treino: 100.0%\n",
            "Iteração de Otimização:  87801, Acurácia em Treino: 100.0%\n",
            "Iteração de Otimização:  87901, Acurácia em Treino: 100.0%\n",
            "Iteração de Otimização:  88001, Acurácia em Treino: 100.0%\n",
            "Iteração de Otimização:  88101, Acurácia em Treino: 100.0%\n",
            "Iteração de Otimização:  88201, Acurácia em Treino: 100.0%\n",
            "Iteração de Otimização:  88301, Acurácia em Treino: 100.0%\n",
            "Iteração de Otimização:  88401, Acurácia em Treino: 100.0%\n",
            "Iteração de Otimização:  88501, Acurácia em Treino: 100.0%\n",
            "Iteração de Otimização:  88601, Acurácia em Treino: 100.0%\n",
            "Iteração de Otimização:  88701, Acurácia em Treino: 100.0%\n",
            "Iteração de Otimização:  88801, Acurácia em Treino: 100.0%\n",
            "Iteração de Otimização:  88901, Acurácia em Treino: 100.0%\n",
            "Iteração de Otimização:  89001, Acurácia em Treino: 100.0%\n",
            "Iteração de Otimização:  89101, Acurácia em Treino: 100.0%\n",
            "Iteração de Otimização:  89201, Acurácia em Treino: 100.0%\n",
            "Iteração de Otimização:  89301, Acurácia em Treino: 100.0%\n",
            "Iteração de Otimização:  89401, Acurácia em Treino: 100.0%\n",
            "Iteração de Otimização:  89501, Acurácia em Treino: 100.0%\n",
            "Iteração de Otimização:  89601, Acurácia em Treino: 100.0%\n",
            "Iteração de Otimização:  89701, Acurácia em Treino: 100.0%\n",
            "Iteração de Otimização:  89801, Acurácia em Treino: 100.0%\n",
            "Iteração de Otimização:  89901, Acurácia em Treino: 100.0%\n",
            "Iteração de Otimização:  90001, Acurácia em Treino: 100.0%\n",
            "Iteração de Otimização:  90101, Acurácia em Treino: 100.0%\n",
            "Iteração de Otimização:  90201, Acurácia em Treino: 100.0%\n",
            "Iteração de Otimização:  90301, Acurácia em Treino: 100.0%\n",
            "Iteração de Otimização:  90401, Acurácia em Treino: 100.0%\n",
            "Iteração de Otimização:  90501, Acurácia em Treino: 100.0%\n",
            "Iteração de Otimização:  90601, Acurácia em Treino: 100.0%\n",
            "Iteração de Otimização:  90701, Acurácia em Treino: 100.0%\n",
            "Iteração de Otimização:  90801, Acurácia em Treino: 100.0%\n",
            "Iteração de Otimização:  90901, Acurácia em Treino: 100.0%\n",
            "Iteração de Otimização:  91001, Acurácia em Treino: 100.0%\n",
            "Iteração de Otimização:  91101, Acurácia em Treino: 100.0%\n",
            "Iteração de Otimização:  91201, Acurácia em Treino: 100.0%\n",
            "Iteração de Otimização:  91301, Acurácia em Treino: 100.0%\n",
            "Iteração de Otimização:  91401, Acurácia em Treino: 100.0%\n",
            "Iteração de Otimização:  91501, Acurácia em Treino: 100.0%\n",
            "Iteração de Otimização:  91601, Acurácia em Treino: 100.0%\n",
            "Iteração de Otimização:  91701, Acurácia em Treino: 100.0%\n",
            "Iteração de Otimização:  91801, Acurácia em Treino: 100.0%\n",
            "Iteração de Otimização:  91901, Acurácia em Treino: 100.0%\n",
            "Iteração de Otimização:  92001, Acurácia em Treino: 100.0%\n",
            "Iteração de Otimização:  92101, Acurácia em Treino: 100.0%\n",
            "Iteração de Otimização:  92201, Acurácia em Treino: 100.0%\n",
            "Iteração de Otimização:  92301, Acurácia em Treino: 100.0%\n",
            "Iteração de Otimização:  92401, Acurácia em Treino: 100.0%\n",
            "Iteração de Otimização:  92501, Acurácia em Treino: 100.0%\n",
            "Iteração de Otimização:  92601, Acurácia em Treino: 100.0%\n",
            "Iteração de Otimização:  92701, Acurácia em Treino: 100.0%\n",
            "Iteração de Otimização:  92801, Acurácia em Treino: 100.0%\n",
            "Iteração de Otimização:  92901, Acurácia em Treino: 100.0%\n",
            "Iteração de Otimização:  93001, Acurácia em Treino: 100.0%\n",
            "Iteração de Otimização:  93101, Acurácia em Treino: 100.0%\n",
            "Iteração de Otimização:  93201, Acurácia em Treino: 100.0%\n",
            "Iteração de Otimização:  93301, Acurácia em Treino: 100.0%\n",
            "Iteração de Otimização:  93401, Acurácia em Treino: 100.0%\n",
            "Iteração de Otimização:  93501, Acurácia em Treino: 100.0%\n",
            "Iteração de Otimização:  93601, Acurácia em Treino: 100.0%\n",
            "Iteração de Otimização:  93701, Acurácia em Treino: 100.0%\n",
            "Iteração de Otimização:  93801, Acurácia em Treino: 100.0%\n",
            "Iteração de Otimização:  93901, Acurácia em Treino: 100.0%\n",
            "Iteração de Otimização:  94001, Acurácia em Treino: 100.0%\n",
            "Iteração de Otimização:  94101, Acurácia em Treino: 100.0%\n",
            "Iteração de Otimização:  94201, Acurácia em Treino: 100.0%\n",
            "Iteração de Otimização:  94301, Acurácia em Treino: 100.0%\n",
            "Iteração de Otimização:  94401, Acurácia em Treino: 100.0%\n",
            "Iteração de Otimização:  94501, Acurácia em Treino: 100.0%\n",
            "Iteração de Otimização:  94601, Acurácia em Treino: 100.0%\n",
            "Iteração de Otimização:  94701, Acurácia em Treino: 100.0%\n",
            "Iteração de Otimização:  94801, Acurácia em Treino: 100.0%\n",
            "Iteração de Otimização:  94901, Acurácia em Treino: 100.0%\n",
            "Iteração de Otimização:  95001, Acurácia em Treino: 100.0%\n",
            "Iteração de Otimização:  95101, Acurácia em Treino: 100.0%\n",
            "Iteração de Otimização:  95201, Acurácia em Treino: 100.0%\n",
            "Iteração de Otimização:  95301, Acurácia em Treino: 100.0%\n",
            "Iteração de Otimização:  95401, Acurácia em Treino: 100.0%\n",
            "Iteração de Otimização:  95501, Acurácia em Treino: 100.0%\n",
            "Iteração de Otimização:  95601, Acurácia em Treino: 100.0%\n",
            "Iteração de Otimização:  95701, Acurácia em Treino: 100.0%\n",
            "Iteração de Otimização:  95801, Acurácia em Treino: 100.0%\n",
            "Iteração de Otimização:  95901, Acurácia em Treino: 100.0%\n",
            "Iteração de Otimização:  96001, Acurácia em Treino: 100.0%\n",
            "Iteração de Otimização:  96101, Acurácia em Treino: 100.0%\n",
            "Iteração de Otimização:  96201, Acurácia em Treino: 100.0%\n",
            "Iteração de Otimização:  96301, Acurácia em Treino: 100.0%\n",
            "Iteração de Otimização:  96401, Acurácia em Treino: 100.0%\n",
            "Iteração de Otimização:  96501, Acurácia em Treino: 100.0%\n",
            "Iteração de Otimização:  96601, Acurácia em Treino: 100.0%\n",
            "Iteração de Otimização:  96701, Acurácia em Treino: 100.0%\n",
            "Iteração de Otimização:  96801, Acurácia em Treino: 100.0%\n",
            "Iteração de Otimização:  96901, Acurácia em Treino: 100.0%\n",
            "Iteração de Otimização:  97001, Acurácia em Treino: 100.0%\n",
            "Iteração de Otimização:  97101, Acurácia em Treino: 100.0%\n",
            "Iteração de Otimização:  97201, Acurácia em Treino: 100.0%\n",
            "Iteração de Otimização:  97301, Acurácia em Treino: 100.0%\n",
            "Iteração de Otimização:  97401, Acurácia em Treino: 100.0%\n",
            "Iteração de Otimização:  97501, Acurácia em Treino: 100.0%\n",
            "Iteração de Otimização:  97601, Acurácia em Treino: 100.0%\n",
            "Iteração de Otimização:  97701, Acurácia em Treino: 100.0%\n",
            "Iteração de Otimização:  97801, Acurácia em Treino: 100.0%\n",
            "Iteração de Otimização:  97901, Acurácia em Treino: 100.0%\n",
            "Iteração de Otimização:  98001, Acurácia em Treino: 100.0%\n",
            "Iteração de Otimização:  98101, Acurácia em Treino: 100.0%\n",
            "Iteração de Otimização:  98201, Acurácia em Treino: 100.0%\n",
            "Iteração de Otimização:  98301, Acurácia em Treino: 100.0%\n",
            "Iteração de Otimização:  98401, Acurácia em Treino: 100.0%\n",
            "Iteração de Otimização:  98501, Acurácia em Treino: 100.0%\n",
            "Iteração de Otimização:  98601, Acurácia em Treino: 100.0%\n",
            "Iteração de Otimização:  98701, Acurácia em Treino: 100.0%\n",
            "Iteração de Otimização:  98801, Acurácia em Treino: 100.0%\n",
            "Iteração de Otimização:  98901, Acurácia em Treino: 100.0%\n",
            "Iteração de Otimização:  99001, Acurácia em Treino: 100.0%\n",
            "Iteração de Otimização:  99101, Acurácia em Treino: 100.0%\n",
            "Iteração de Otimização:  99201, Acurácia em Treino: 100.0%\n",
            "Iteração de Otimização:  99301, Acurácia em Treino: 100.0%\n",
            "Iteração de Otimização:  99401, Acurácia em Treino: 100.0%\n",
            "Iteração de Otimização:  99501, Acurácia em Treino: 100.0%\n",
            "Iteração de Otimização:  99601, Acurácia em Treino: 100.0%\n",
            "Iteração de Otimização:  99701, Acurácia em Treino: 100.0%\n",
            "Iteração de Otimização:  99801, Acurácia em Treino: 100.0%\n",
            "Iteração de Otimização:  99901, Acurácia em Treino: 100.0%\n",
            "Iteração de Otimização: 100001, Acurácia em Treino: 100.0%\n",
            "Iteração de Otimização: 100101, Acurácia em Treino: 100.0%\n",
            "Iteração de Otimização: 100201, Acurácia em Treino: 100.0%\n",
            "Iteração de Otimização: 100301, Acurácia em Treino: 100.0%\n",
            "Iteração de Otimização: 100401, Acurácia em Treino: 100.0%\n",
            "Iteração de Otimização: 100501, Acurácia em Treino: 100.0%\n",
            "Iteração de Otimização: 100601, Acurácia em Treino: 100.0%\n",
            "Iteração de Otimização: 100701, Acurácia em Treino: 100.0%\n",
            "Iteração de Otimização: 100801, Acurácia em Treino: 100.0%\n",
            "Iteração de Otimização: 100901, Acurácia em Treino: 100.0%\n",
            "Iteração de Otimização: 101001, Acurácia em Treino: 100.0%\n",
            "Iteração de Otimização: 101101, Acurácia em Treino: 100.0%\n",
            "Iteração de Otimização: 101201, Acurácia em Treino: 100.0%\n",
            "Iteração de Otimização: 101301, Acurácia em Treino: 100.0%\n",
            "Iteração de Otimização: 101401, Acurácia em Treino: 100.0%\n",
            "Iteração de Otimização: 101501, Acurácia em Treino: 100.0%\n",
            "Iteração de Otimização: 101601, Acurácia em Treino: 100.0%\n",
            "Iteração de Otimização: 101701, Acurácia em Treino: 100.0%\n",
            "Iteração de Otimização: 101801, Acurácia em Treino: 100.0%\n",
            "Iteração de Otimização: 101901, Acurácia em Treino: 100.0%\n",
            "Iteração de Otimização: 102001, Acurácia em Treino: 100.0%\n",
            "Iteração de Otimização: 102101, Acurácia em Treino: 100.0%\n",
            "Iteração de Otimização: 102201, Acurácia em Treino: 100.0%\n",
            "Iteração de Otimização: 102301, Acurácia em Treino: 100.0%\n",
            "Iteração de Otimização: 102401, Acurácia em Treino: 100.0%\n",
            "Iteração de Otimização: 102501, Acurácia em Treino: 100.0%\n",
            "Iteração de Otimização: 102601, Acurácia em Treino: 100.0%\n",
            "Iteração de Otimização: 102701, Acurácia em Treino: 100.0%\n",
            "Iteração de Otimização: 102801, Acurácia em Treino: 100.0%\n",
            "Iteração de Otimização: 102901, Acurácia em Treino: 100.0%\n",
            "Iteração de Otimização: 103001, Acurácia em Treino: 100.0%\n",
            "Iteração de Otimização: 103101, Acurácia em Treino: 100.0%\n",
            "Iteração de Otimização: 103201, Acurácia em Treino: 100.0%\n",
            "Iteração de Otimização: 103301, Acurácia em Treino: 100.0%\n",
            "Iteração de Otimização: 103401, Acurácia em Treino: 100.0%\n",
            "Iteração de Otimização: 103501, Acurácia em Treino: 100.0%\n",
            "Iteração de Otimização: 103601, Acurácia em Treino: 100.0%\n",
            "Iteração de Otimização: 103701, Acurácia em Treino: 100.0%\n",
            "Iteração de Otimização: 103801, Acurácia em Treino: 100.0%\n",
            "Iteração de Otimização: 103901, Acurácia em Treino: 100.0%\n",
            "Iteração de Otimização: 104001, Acurácia em Treino: 100.0%\n",
            "Iteração de Otimização: 104101, Acurácia em Treino: 100.0%\n",
            "Iteração de Otimização: 104201, Acurácia em Treino: 100.0%\n",
            "Iteração de Otimização: 104301, Acurácia em Treino: 100.0%\n",
            "Iteração de Otimização: 104401, Acurácia em Treino: 100.0%\n",
            "Iteração de Otimização: 104501, Acurácia em Treino: 100.0%\n",
            "Iteração de Otimização: 104601, Acurácia em Treino: 100.0%\n",
            "Iteração de Otimização: 104701, Acurácia em Treino: 100.0%\n",
            "Iteração de Otimização: 104801, Acurácia em Treino: 100.0%\n",
            "Iteração de Otimização: 104901, Acurácia em Treino: 100.0%\n",
            "Iteração de Otimização: 105001, Acurácia em Treino: 100.0%\n",
            "Iteração de Otimização: 105101, Acurácia em Treino: 100.0%\n",
            "Iteração de Otimização: 105201, Acurácia em Treino: 100.0%\n",
            "Iteração de Otimização: 105301, Acurácia em Treino: 100.0%\n",
            "Iteração de Otimização: 105401, Acurácia em Treino: 100.0%\n",
            "Iteração de Otimização: 105501, Acurácia em Treino: 100.0%\n",
            "Iteração de Otimização: 105601, Acurácia em Treino: 100.0%\n",
            "Iteração de Otimização: 105701, Acurácia em Treino: 100.0%\n",
            "Iteração de Otimização: 105801, Acurácia em Treino: 100.0%\n",
            "Iteração de Otimização: 105901, Acurácia em Treino: 100.0%\n",
            "Iteração de Otimização: 106001, Acurácia em Treino: 100.0%\n",
            "Iteração de Otimização: 106101, Acurácia em Treino: 100.0%\n",
            "Iteração de Otimização: 106201, Acurácia em Treino: 100.0%\n",
            "Iteração de Otimização: 106301, Acurácia em Treino: 100.0%\n",
            "Iteração de Otimização: 106401, Acurácia em Treino: 100.0%\n",
            "Iteração de Otimização: 106501, Acurácia em Treino: 100.0%\n",
            "Iteração de Otimização: 106601, Acurácia em Treino: 100.0%\n",
            "Iteração de Otimização: 106701, Acurácia em Treino: 100.0%\n",
            "Iteração de Otimização: 106801, Acurácia em Treino: 100.0%\n",
            "Iteração de Otimização: 106901, Acurácia em Treino: 100.0%\n",
            "Iteração de Otimização: 107001, Acurácia em Treino: 100.0%\n",
            "Iteração de Otimização: 107101, Acurácia em Treino: 100.0%\n",
            "Iteração de Otimização: 107201, Acurácia em Treino: 100.0%\n",
            "Iteração de Otimização: 107301, Acurácia em Treino: 100.0%\n",
            "Iteração de Otimização: 107401, Acurácia em Treino: 100.0%\n",
            "Iteração de Otimização: 107501, Acurácia em Treino: 100.0%\n",
            "Iteração de Otimização: 107601, Acurácia em Treino: 100.0%\n",
            "Iteração de Otimização: 107701, Acurácia em Treino: 100.0%\n",
            "Iteração de Otimização: 107801, Acurácia em Treino: 100.0%\n",
            "Iteração de Otimização: 107901, Acurácia em Treino: 100.0%\n",
            "Iteração de Otimização: 108001, Acurácia em Treino: 100.0%\n",
            "Iteração de Otimização: 108101, Acurácia em Treino: 100.0%\n",
            "Iteração de Otimização: 108201, Acurácia em Treino: 100.0%\n",
            "Iteração de Otimização: 108301, Acurácia em Treino: 100.0%\n",
            "Iteração de Otimização: 108401, Acurácia em Treino: 100.0%\n",
            "Iteração de Otimização: 108501, Acurácia em Treino: 100.0%\n",
            "Iteração de Otimização: 108601, Acurácia em Treino: 100.0%\n",
            "Iteração de Otimização: 108701, Acurácia em Treino: 100.0%\n",
            "Iteração de Otimização: 108801, Acurácia em Treino: 100.0%\n",
            "Iteração de Otimização: 108901, Acurácia em Treino: 100.0%\n",
            "Iteração de Otimização: 109001, Acurácia em Treino: 100.0%\n",
            "Iteração de Otimização: 109101, Acurácia em Treino: 100.0%\n",
            "Iteração de Otimização: 109201, Acurácia em Treino: 100.0%\n",
            "Iteração de Otimização: 109301, Acurácia em Treino: 100.0%\n",
            "Iteração de Otimização: 109401, Acurácia em Treino: 100.0%\n",
            "Iteração de Otimização: 109501, Acurácia em Treino: 100.0%\n",
            "Iteração de Otimização: 109601, Acurácia em Treino: 100.0%\n",
            "Iteração de Otimização: 109701, Acurácia em Treino: 100.0%\n",
            "Iteração de Otimização: 109801, Acurácia em Treino: 100.0%\n",
            "Iteração de Otimização: 109901, Acurácia em Treino: 100.0%\n",
            "Tempo gasto: 0:07:54\n",
            "Acurácia em Teste: 99.2% (9917 / 10000)\n",
            "Erros:\n"
          ],
          "name": "stdout"
        },
        {
          "output_type": "display_data",
          "data": {
            "image/png": "[encoded data removed]",
            "text/plain": [
              "<Figure size 432x288 with 9 Axes>"
            ]
          },
          "metadata": {
            "tags": []
          }
        },
        {
          "output_type": "stream",
          "text": [
            "Confusion Matrix:\n",
            "[[ 978    0    0    0    0    0    1    0    1    0]\n",
            " [   0 1133    0    1    0    0    0    0    1    0]\n",
            " [   1    0 1022    1    0    0    0    4    4    0]\n",
            " [   1    0    0 1003    0    2    0    1    3    0]\n",
            " [   0    0    1    0  975    0    1    0    0    5]\n",
            " [   2    0    0    7    0  881    1    0    0    1]\n",
            " [   4    2    0    1    3    2  945    0    1    0]\n",
            " [   0    2    3    0    0    0    0 1021    1    1]\n",
            " [   3    0    2    1    0    1    0    1  963    3]\n",
            " [   0    1    0    0    5    4    0    3    0  996]]\n"
          ],
          "name": "stdout"
        },
        {
          "output_type": "display_data",
          "data": {
            "image/png": "[encoded data removed]",
            "text/plain": [
              "<Figure size 288x288 with 2 Axes>"
            ]
          },
          "metadata": {
            "tags": []
          }
        }
      ]
    },
    {
      "metadata": {
        "id": "rgC1rlQWfDKS",
        "colab_type": "code",
        "colab": {
          "base_uri": "https://localhost:8080/",
          "height": 726
        },
        "outputId": "7542b962-1a5e-4c2d-b5ee-f802d54e7a70"
      },
      "cell_type": "code",
      "source": [
        "print_test_accuracy(show_example_errors = True, show_confusion_matrix = True)"
      ],
      "execution_count": 70,
      "outputs": [
        {
          "output_type": "stream",
          "text": [
            "Acurácia em Teste: 99.2% (9917 / 10000)\n",
            "Erros:\n"
          ],
          "name": "stdout"
        },
        {
          "output_type": "display_data",
          "data": {
            "image/png": "[encoded data removed]",
            "text/plain": [
              "<Figure size 432x288 with 9 Axes>"
            ]
          },
          "metadata": {
            "tags": []
          }
        },
        {
          "output_type": "stream",
          "text": [
            "Confusion Matrix:\n",
            "[[ 978    0    0    0    0    0    1    0    1    0]\n",
            " [   0 1133    0    1    0    0    0    0    1    0]\n",
            " [   1    0 1022    1    0    0    0    4    4    0]\n",
            " [   1    0    0 1003    0    2    0    1    3    0]\n",
            " [   0    0    1    0  975    0    1    0    0    5]\n",
            " [   2    0    0    7    0  881    1    0    0    1]\n",
            " [   4    2    0    1    3    2  945    0    1    0]\n",
            " [   0    2    3    0    0    0    0 1021    1    1]\n",
            " [   3    0    2    1    0    1    0    1  963    3]\n",
            " [   0    1    0    0    5    4    0    3    0  996]]\n"
          ],
          "name": "stdout"
        },
        {
          "output_type": "display_data",
          "data": {
            "image/png": "[encoded data removed]",
            "text/plain": [
              "<Figure size 288x288 with 2 Axes>"
            ]
          },
          "metadata": {
            "tags": []
          }
        }
      ]
    },
    {
      "metadata": {
        "id": "zwB_grdGJ77s",
        "colab_type": "text"
      },
      "cell_type": "markdown",
      "source": [
        "### Encerrando a Sessão TensorFlow"
      ]
    },
    {
      "metadata": {
        "id": "p4lpncBaJ77v",
        "colab_type": "code",
        "colab": {}
      },
      "cell_type": "code",
      "source": [
        "session.close()"
      ],
      "execution_count": 0,
      "outputs": []
    },
    {
      "metadata": {
        "id": "iTagVw1lJ77x",
        "colab_type": "text"
      },
      "cell_type": "markdown",
      "source": [
        "## Conclusão\n",
        "\n",
        "A Rede Convolucional obtém uma precisão de classificação de cerca de 99%, ou mesmo mais se você fizer alguns ajustes, em comparação com apenas 91% para o modelo linear simples. No entanto, a rede convolutiva também é muito mais complicada de implementar, e não é óbvio, ao analisar os pesos de filtro, por que isso funciona e por que às vezes ele falha."
      ]
    }
  ]
}