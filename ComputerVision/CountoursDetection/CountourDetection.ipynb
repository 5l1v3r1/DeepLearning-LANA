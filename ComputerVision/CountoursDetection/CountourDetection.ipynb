{
 "cells": [
  {
   "cell_type": "markdown",
   "metadata": {},
   "source": [
    "# Countour Detection"
   ]
  },
  {
   "cell_type": "code",
   "execution_count": 3,
   "metadata": {},
   "outputs": [
    {
     "name": "stdout",
     "output_type": "stream",
     "text": [
      "Contorno #1 -- Area: 9604.00, Perimetero: 392.00\n",
      "Contorno #2 -- Area: 14641.00, Perimetero: 484.00\n",
      "Contorno #3 -- Area: 8965.00, Perimetero: 436.00\n",
      "Contorno #4 -- Area: 37385.00, Perimetero: 722.72\n",
      "Contorno #5 -- Area: 4620.00, Perimetero: 298.00\n",
      "Contorno #6 -- Area: 10816.00, Perimetero: 416.00\n",
      "Contorno #7 -- Area: 3969.00, Perimetero: 252.00\n",
      "Contorno #8 -- Area: 30276.00, Perimetero: 696.00\n",
      "Contorno #9 -- Area: 8550.00, Perimetero: 517.48\n",
      "Contorno #10 -- Area: 7970.00, Perimetero: 446.79\n",
      "Contorno #11 -- Area: 1681.00, Perimetero: 164.00\n",
      "Contorno #12 -- Area: 7632.00, Perimetero: 414.00\n",
      "Contorno #13 -- Area: 14593.00, Perimetero: 508.33\n"
     ]
    },
    {
     "data": {
      "image/png": "[encoded data removed]",
      "text/plain": [
       "<Figure size 1296x720 with 1 Axes>"
      ]
     },
     "metadata": {
      "needs_background": "light"
     },
     "output_type": "display_data"
    },
    {
     "name": "stdout",
     "output_type": "stream",
     "text": [
      "{'m00': 14593.0, 'm10': 1670898.5, 'm01': 985027.5, 'm20': 230264008.3333333, 'm11': 112785648.75, 'm02': 73864432.33333333, 'm30': 35283892743.25, 'm21': 15542820562.5, 'm12': 8457477502.166667, 'm03': 5981484453.75, 'mu20': 38946130.08333328, 'mu11': 0.0, 'mu02': 7375076.083333328, 'mu30': 7.62939453125e-06, 'mu21': -4.76837158203125e-07, 'mu12': 8.344650268554688e-07, 'mu03': 9.5367431640625e-07, 'nu20': 0.18288376131939701, 'nu11': 0.0, 'nu02': 0.0346319814382258, 'nu30': 2.965709562740706e-16, 'nu21': -1.8535684767129412e-17, 'nu12': 3.243744834247647e-17, 'nu03': 3.7071369534258824e-17}\n"
     ]
    }
   ],
   "source": [
    "import numpy as np\n",
    "import argparse\n",
    "import cv2\n",
    " \n",
    "import matplotlib.pyplot as plt\n",
    "import numpy as np\n",
    "import sys\n",
    "%matplotlib inline    \n",
    "    \n",
    "# Argumentos\n",
    "#ap = argparse.ArgumentParser()\n",
    "#ap.add_argument(\"-i\", \"--image\", default=\"images/shapes.png\", help=\"Canminho para imagem\")\n",
    "#args = vars(ap.parse_args())\n",
    " \n",
    "# Carrega imagem\n",
    "image = cv2.imread(\"images/shapes.png\")\n",
    "\n",
    "# Converte para escala de cinza\n",
    "gray = cv2.cvtColor(image, cv2.COLOR_BGR2GRAY)\n",
    " \n",
    "# Encontra os contornos externos\n",
    "cnts, _  = cv2.findContours(gray.copy(), cv2.RETR_EXTERNAL, cv2.CHAIN_APPROX_SIMPLE)\n",
    "clone = image.copy()\n",
    " \n",
    "# Loop por todos os contornos\n",
    "for (i, c) in enumerate(cnts):\n",
    "\t# Calcula a área e o perímetro do contorno\n",
    "\tarea = cv2.contourArea(c)\n",
    "\tperimeter = cv2.arcLength(c, True)\n",
    "\tprint (\"Contorno #%d -- Area: %.2f, Perimetero: %.2f\" % (i + 1, area, perimeter))\n",
    " \n",
    "\t# Desenha o contorno na imagem\n",
    "\tcv2.drawContours(clone, [c], -1, (0, 255, 0), 2)\n",
    " \n",
    "\t# Calcula o centro do contorno e desenha o número do contorno\n",
    "\tM = cv2.moments(c)\n",
    "\tcX = int(M[\"m10\"] / M[\"m00\"])\n",
    "\tcY = int(M[\"m01\"] / M[\"m00\"])\n",
    "\tcv2.putText(clone, \"#%d\" % (i + 1), (cX - 20, cY), cv2.FONT_HERSHEY_SIMPLEX,\n",
    "\t\t1.25, (255, 255, 255), 4)\n",
    " \n",
    "# Output\n",
    "plt.figure(figsize=(18,10))\n",
    "plt.imshow(clone)\n",
    "plt.show()\n",
    "#cv2.imshow(\"Contours\", clone)\n",
    "#cv2.waitKey(0)\n",
    "\n",
    "print(M)"
   ]
  }
 ],
 "metadata": {
  "kernelspec": {
   "display_name": "Python 3",
   "language": "python",
   "name": "python3"
  },
  "language_info": {
   "codemirror_mode": {
    "name": "ipython",
    "version": 3
   },
   "file_extension": ".py",
   "mimetype": "text/x-python",
   "name": "python",
   "nbconvert_exporter": "python",
   "pygments_lexer": "ipython3",
   "version": "3.7.2"
  }
 },
 "nbformat": 4,
 "nbformat_minor": 2
}
