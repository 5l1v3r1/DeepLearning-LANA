{
  "nbformat": 4,
  "nbformat_minor": 0,
  "metadata": {
    "colab": {
      "name": "Convnet-01.ipynb",
      "version": "0.3.2",
      "provenance": [],
      "collapsed_sections": [],
      "include_colab_link": true
    },
    "kernelspec": {
      "name": "python3",
      "display_name": "Python 3"
    },
    "accelerator": "GPU"
  },
  "cells": [
    {
      "cell_type": "markdown",
      "metadata": {
        "id": "view-in-github",
        "colab_type": "text"
      },
      "source": [
        "<a href=\"https://colab.research.google.com/github/vladimiralencar/DeepLearning-LANA/blob/master/ComputerVision/DeepLearning/ConvNet01/Convnet_01.ipynb\" target=\"_parent\"><img src=\"https://colab.research.google.com/assets/colab-badge.svg\" alt=\"Open In Colab\"/></a>"
      ]
    },
    {
      "metadata": {
        "id": "YPNO9z-h-COD",
        "colab_type": "text"
      },
      "cell_type": "markdown",
      "source": [
        "# ConvNet - Rede Neural Convolucional"
      ]
    },
    {
      "metadata": {
        "id": "sTYUmKxN99FR",
        "colab_type": "text"
      },
      "cell_type": "markdown",
      "source": [
        "## Leitura de dados"
      ]
    },
    {
      "metadata": {
        "id": "DH4GmQ5H8i_W",
        "colab_type": "code",
        "colab": {
          "base_uri": "https://localhost:8080/",
          "height": 224
        },
        "outputId": "c4016e2b-28d3-4627-91a3-a53c269e2e55"
      },
      "cell_type": "code",
      "source": [
        "!wget https://raw.githubusercontent.com/vladimiralencar/DeepLearning-LANA/master/ComputerVision/DeepLearning/ConvNet01/convnet.py"
      ],
      "execution_count": 1,
      "outputs": [
        {
          "output_type": "stream",
          "text": [
            "--2019-04-19 00:24:18--  https://raw.githubusercontent.com/vladimiralencar/DeepLearning-LANA/master/ComputerVision/DeepLearning/ConvNet01/convnet.py\n",
            "Resolving raw.githubusercontent.com (raw.githubusercontent.com)... 151.101.0.133, 151.101.64.133, 151.101.128.133, ...\n",
            "Connecting to raw.githubusercontent.com (raw.githubusercontent.com)|151.101.0.133|:443... connected.\n",
            "HTTP request sent, awaiting response... 200 OK\n",
            "Length: 1478 (1.4K) [text/plain]\n",
            "Saving to: ‘convnet.py’\n",
            "\n",
            "convnet.py          100%[===================>]   1.44K  --.-KB/s    in 0s      \n",
            "\n",
            "2019-04-19 00:24:23 (191 MB/s) - ‘convnet.py’ saved [1478/1478]\n",
            "\n"
          ],
          "name": "stdout"
        }
      ]
    },
    {
      "metadata": {
        "id": "4KgrRRHc8Ot-",
        "colab_type": "code",
        "colab": {
          "base_uri": "https://localhost:8080/",
          "height": 850
        },
        "outputId": "9d8a43eb-3345-4366-9973-41ca8d05f6b9"
      },
      "cell_type": "code",
      "source": [
        "# Rede Neural Convolucional Para Classificação de Imagens\n",
        "\n",
        "\n",
        "# import the necessary packages\n",
        "from convnet import ConvNetFactory\n",
        "from keras.utils import np_utils\n",
        "from keras.optimizers import SGD\n",
        "from keras.datasets import cifar10\n",
        "\n",
        "\n",
        "network='vanilla'\n",
        "model_path='modelo.hdf5'\n",
        "epochs=20\n",
        "dropout=-1\n",
        "activation=\"tanh\"\n",
        "batch_size=32\n",
        "verbose=1\n",
        "\n",
        "\n",
        "# Carrega os dados de treinamento e teste e, em seguida, dimensiona no intervalo [0, 1]\n",
        "print(\"\\nCarregando os dados de treino...\")\n",
        "((trainData, trainLabels), (testData, testLabels)) = cifar10.load_data()\n",
        "trainData = trainData.astype(\"float\") / 255.0\n",
        "testData = testData.astype(\"float\") / 255.0\n",
        "\n",
        "# Transforma os rótulos de treinamento e teste em vetores no intervalo [0, numClasses]\n",
        "# Isso gera um vetor para cada rótulo, onde o índice do rótulo é definido como `1` e todas as outras entradas para `0`\n",
        "# No caso do CIFAR-10, existem 10 rótulos de classe\n",
        "trainLabels = np_utils.to_categorical(trainLabels, 10)\n",
        "testLabels = np_utils.to_categorical(testLabels, 10)\n",
        "\n",
        "# Coleta os argumentos\n",
        "kargs = {\"dropout\": dropout > 0, \"activation\": activation}\n",
        "\n",
        "# Treina o modelo usando SGD\n",
        "print(\"Compilando o modelo...\")\n",
        "model = ConvNetFactory.build(network, 3, 32, 32, 10, **kargs)\n",
        "sgd = SGD(lr=0.01, decay=1e-6, momentum=0.9, nesterov=True)\n",
        "model.compile(loss=\"categorical_crossentropy\", optimizer=sgd, metrics=[\"accuracy\"])\n",
        "\n",
        "# Inicia o treinamento\n",
        "print(\"Iniciando o treinamento...\\n\")\n",
        "model.fit(trainData, trainLabels, batch_size=batch_size, epochs=epochs, verbose=verbose)\n",
        "\n",
        "# Mostra a acurácia nos dados de teste\n",
        "(loss, accuracy) = model.evaluate(testData, testLabels, batch_size=batch_size, verbose=verbose)\n",
        "print(\"Acurácia: {:.2f}%\".format(accuracy * 100))\n",
        "\n",
        "# Salva o modelo \n",
        "print(\"\\nSalvando o modelo...\")\n",
        "model.save(model_path)"
      ],
      "execution_count": 4,
      "outputs": [
        {
          "output_type": "stream",
          "text": [
            "\n",
            "Carregando os dados de treino...\n",
            "Compilando o modelo...\n",
            "Iniciando o treinamento...\n",
            "\n",
            "Epoch 1/20\n",
            "50000/50000 [==============================] - 7s 131us/step - loss: 1.5846 - acc: 0.4431\n",
            "Epoch 2/20\n",
            "50000/50000 [==============================] - 6s 128us/step - loss: 1.3546 - acc: 0.5271\n",
            "Epoch 3/20\n",
            "50000/50000 [==============================] - 6s 128us/step - loss: 1.2227 - acc: 0.5785\n",
            "Epoch 4/20\n",
            "50000/50000 [==============================] - 7s 141us/step - loss: 1.1162 - acc: 0.6147\n",
            "Epoch 5/20\n",
            "50000/50000 [==============================] - 7s 137us/step - loss: 1.0407 - acc: 0.6417\n",
            "Epoch 6/20\n",
            "50000/50000 [==============================] - 6s 127us/step - loss: 0.9743 - acc: 0.6646\n",
            "Epoch 7/20\n",
            "50000/50000 [==============================] - 6s 129us/step - loss: 0.9130 - acc: 0.6838\n",
            "Epoch 8/20\n",
            "50000/50000 [==============================] - 6s 128us/step - loss: 0.8604 - acc: 0.7041\n",
            "Epoch 9/20\n",
            "50000/50000 [==============================] - 6s 127us/step - loss: 0.8156 - acc: 0.7182\n",
            "Epoch 10/20\n",
            "50000/50000 [==============================] - 6s 128us/step - loss: 0.7637 - acc: 0.7338\n",
            "Epoch 11/20\n",
            "50000/50000 [==============================] - 6s 128us/step - loss: 0.7220 - acc: 0.7501\n",
            "Epoch 12/20\n",
            "50000/50000 [==============================] - 6s 128us/step - loss: 0.6775 - acc: 0.7644\n",
            "Epoch 13/20\n",
            "50000/50000 [==============================] - 6s 128us/step - loss: 0.6334 - acc: 0.7815\n",
            "Epoch 14/20\n",
            "50000/50000 [==============================] - 6s 128us/step - loss: 0.5945 - acc: 0.7928\n",
            "Epoch 15/20\n",
            "50000/50000 [==============================] - 6s 128us/step - loss: 0.5577 - acc: 0.8061\n",
            "Epoch 16/20\n",
            "50000/50000 [==============================] - 7s 135us/step - loss: 0.5273 - acc: 0.8157\n",
            "Epoch 17/20\n",
            "50000/50000 [==============================] - 7s 143us/step - loss: 0.4930 - acc: 0.8296\n",
            "Epoch 18/20\n",
            "50000/50000 [==============================] - 6s 128us/step - loss: 0.4704 - acc: 0.8353\n",
            "Epoch 19/20\n",
            "50000/50000 [==============================] - 6s 128us/step - loss: 0.4388 - acc: 0.8476\n",
            "Epoch 20/20\n",
            "50000/50000 [==============================] - 6s 128us/step - loss: 0.4093 - acc: 0.8585\n",
            "10000/10000 [==============================] - 1s 85us/step\n",
            "Acurácia: 54.20%\n",
            "\n",
            "Salvando o modelo...\n"
          ],
          "name": "stdout"
        }
      ]
    },
    {
      "metadata": {
        "id": "Ykott3isAwKz",
        "colab_type": "text"
      },
      "cell_type": "markdown",
      "source": [
        "## Faz download do arquivo de pesos do Modelo"
      ]
    },
    {
      "metadata": {
        "id": "EH5Z9oYe_hYL",
        "colab_type": "code",
        "colab": {}
      },
      "cell_type": "code",
      "source": [
        "#from google.colab import files \n",
        "#files.download(model_path)"
      ],
      "execution_count": 0,
      "outputs": []
    },
    {
      "metadata": {
        "id": "cDUC4wJO98hV",
        "colab_type": "code",
        "colab": {
          "base_uri": "https://localhost:8080/",
          "height": 34
        },
        "outputId": "aa91518d-139c-4046-b313-ad7880b769a8"
      },
      "cell_type": "code",
      "source": [
        "!ls"
      ],
      "execution_count": 5,
      "outputs": [
        {
          "output_type": "stream",
          "text": [
            "convnet.py  modelo.hdf5  __pycache__  sample_data\n"
          ],
          "name": "stdout"
        }
      ]
    }
  ]
}