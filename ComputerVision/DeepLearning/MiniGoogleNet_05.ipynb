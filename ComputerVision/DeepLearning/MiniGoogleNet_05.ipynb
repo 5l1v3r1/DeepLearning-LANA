{
  "nbformat": 4,
  "nbformat_minor": 0,
  "metadata": {
    "colab": {
      "name": "MiniGoogleNet-05.ipynb",
      "version": "0.3.2",
      "provenance": [],
      "collapsed_sections": [],
      "include_colab_link": true
    },
    "kernelspec": {
      "name": "python3",
      "display_name": "Python 3"
    },
    "accelerator": "GPU"
  },
  "cells": [
    {
      "cell_type": "markdown",
      "metadata": {
        "id": "view-in-github",
        "colab_type": "text"
      },
      "source": [
        "<a href=\"https://colab.research.google.com/github/vladimiralencar/DeepLearning-LANA/blob/master/ComputerVision/DeepLearning/MiniGoogleNet_05.ipynb\" target=\"_parent\"><img src=\"https://colab.research.google.com/assets/colab-badge.svg\" alt=\"Open In Colab\"/></a>"
      ]
    },
    {
      "metadata": {
        "id": "YPNO9z-h-COD",
        "colab_type": "text"
      },
      "cell_type": "markdown",
      "source": [
        "# LeNet - Rede Neural Convolucional - Classificação de Imagens - Cifar10"
      ]
    },
    {
      "metadata": {
        "id": "sTYUmKxN99FR",
        "colab_type": "text"
      },
      "cell_type": "markdown",
      "source": [
        "## Leitura de dados"
      ]
    },
    {
      "metadata": {
        "id": "DH4GmQ5H8i_W",
        "colab_type": "code",
        "colab": {
          "base_uri": "https://localhost:8080/",
          "height": 411
        },
        "outputId": "9a96aef7-d32b-4ddd-b71d-a3947b9df5cf"
      },
      "cell_type": "code",
      "source": [
        "!wget https://raw.githubusercontent.com/vladimiralencar/DeepLearning-LANA/master/ComputerVision/DeepLearning/minigooglenet.py\n",
        "!wget https://raw.githubusercontent.com/vladimiralencar/DeepLearning-LANA/master/ComputerVision/DeepLearning/trainingmonitor.py"
      ],
      "execution_count": 1,
      "outputs": [
        {
          "output_type": "stream",
          "text": [
            "--2019-04-19 16:17:25--  https://raw.githubusercontent.com/vladimiralencar/DeepLearning-LANA/master/ComputerVision/DeepLearning/minigooglenet.py\n",
            "Resolving raw.githubusercontent.com (raw.githubusercontent.com)... 151.101.0.133, 151.101.64.133, 151.101.128.133, ...\n",
            "Connecting to raw.githubusercontent.com (raw.githubusercontent.com)|151.101.0.133|:443... connected.\n",
            "HTTP request sent, awaiting response... 200 OK\n",
            "Length: 3686 (3.6K) [text/plain]\n",
            "Saving to: ‘minigooglenet.py’\n",
            "\n",
            "\rminigooglenet.py      0%[                    ]       0  --.-KB/s               \rminigooglenet.py    100%[===================>]   3.60K  --.-KB/s    in 0s      \n",
            "\n",
            "2019-04-19 16:17:26 (47.2 MB/s) - ‘minigooglenet.py’ saved [3686/3686]\n",
            "\n",
            "--2019-04-19 16:17:27--  https://raw.githubusercontent.com/vladimiralencar/DeepLearning-LANA/master/ComputerVision/DeepLearning/trainingmonitor.py\n",
            "Resolving raw.githubusercontent.com (raw.githubusercontent.com)... 151.101.0.133, 151.101.64.133, 151.101.128.133, ...\n",
            "Connecting to raw.githubusercontent.com (raw.githubusercontent.com)|151.101.0.133|:443... connected.\n",
            "HTTP request sent, awaiting response... 200 OK\n",
            "Length: 1395 (1.4K) [text/plain]\n",
            "Saving to: ‘trainingmonitor.py’\n",
            "\n",
            "trainingmonitor.py  100%[===================>]   1.36K  --.-KB/s    in 0s      \n",
            "\n",
            "2019-04-19 16:17:27 (230 MB/s) - ‘trainingmonitor.py’ saved [1395/1395]\n",
            "\n"
          ],
          "name": "stdout"
        }
      ]
    },
    {
      "metadata": {
        "id": "FEgdtdvhknno",
        "colab_type": "code",
        "colab": {
          "base_uri": "https://localhost:8080/",
          "height": 136
        },
        "outputId": "0a358281-5adc-49b9-97de-e6d830c2eb8c"
      },
      "cell_type": "code",
      "source": [
        "!ls -ila "
      ],
      "execution_count": 2,
      "outputs": [
        {
          "output_type": "stream",
          "text": [
            "total 32\n",
            "23199751 drwxr-xr-x 1 root root 4096 Apr 19 16:17 .\n",
            " 5373954 drwxr-xr-x 1 root root 4096 Apr 19 16:16 ..\n",
            "23199752 drwxr-xr-x 1 root root 4096 Apr  4 20:19 .config\n",
            " 5637282 -rw-r--r-- 1 root root 3686 Apr 19 16:17 minigooglenet.py\n",
            " 9306120 drwxr-xr-x 1 root root 4096 Apr  4 20:20 sample_data\n",
            " 5637284 -rw-r--r-- 1 root root 1395 Apr 19 16:17 trainingmonitor.py\n"
          ],
          "name": "stdout"
        }
      ]
    },
    {
      "metadata": {
        "id": "xKol9pLuGD75",
        "colab_type": "code",
        "colab": {
          "base_uri": "https://localhost:8080/",
          "height": 2689
        },
        "outputId": "5e38dbf1-a63a-48f9-cf1e-da0b77c10971"
      },
      "cell_type": "code",
      "source": [
        "# Mini GoogleLeNet\n",
        "\n",
        "# Imports\n",
        "import os\n",
        "import numpy as np\n",
        "import matplotlib\n",
        "matplotlib.use(\"Agg\")\n",
        "from sklearn.preprocessing import LabelBinarizer\n",
        "from minigooglenet import MiniGoogLeNet\n",
        "from trainingmonitor import TrainingMonitor\n",
        "from keras.optimizers import SGD\n",
        "from keras.datasets import cifar10\n",
        "from keras.callbacks import LearningRateScheduler\n",
        "from keras.preprocessing.image import ImageDataGenerator\n",
        "\n",
        "\n",
        "modelo_path=''\n",
        "output='' \n",
        "\n",
        "\n",
        "# Define o número total de épocas para treinar junto com a taxa inicial de aprendizado\n",
        "NUM_EPOCHS = 70\n",
        "INIT_LR = 5e-3 # taxa de aprendizagem inicial\n",
        "\n",
        "def poly_decay(epoch):\n",
        "\n",
        "    # Inicializa o número máximo de épocas, a taxa básica de aprendizado e a potência do polinômio\n",
        "    maxEpochs = NUM_EPOCHS\n",
        "    baseLR = INIT_LR\n",
        "    power = 1.0\n",
        "\n",
        "    # Calcula a nova taxa de aprendizagem baseada em polynomial decay\n",
        "    alpha = baseLR * (1 - (epoch / float(maxEpochs))) ** power\n",
        "\n",
        "    # Retorna a nova taxa de aprendizagem\n",
        "    return alpha\n",
        "\n",
        "# Carrega os dados de treinamento e teste, convertendo as imagens de inteiros para float\n",
        "print(\"Carregando o Dataset CIFAR-10...\")\n",
        "((trainX, trainY), (testX, testY)) = cifar10.load_data()\n",
        "trainX = trainX.astype(\"float\")\n",
        "testX = testX.astype(\"float\")\n",
        "\n",
        "# Aplica subtração média aos dados\n",
        "mean = np.mean(trainX, axis=0)\n",
        "trainX -= mean\n",
        "testX -= mean\n",
        "\n",
        "# Converte os labels de inteiros para vetores\n",
        "lb = LabelBinarizer()\n",
        "trainY = lb.fit_transform(trainY)\n",
        "testY = lb.transform(testY)\n",
        "\n",
        "# Construindo o Gerador de Imagens para o Data Augmentation\n",
        "aug = ImageDataGenerator(width_shift_range=0.1, height_shift_range=0.1, horizontal_flip=True, fill_mode=\"nearest\")\n",
        "\n",
        "# Callbacks\n",
        "figPath = os.path.sep.join([output, \"{}.png\".format(os.getpid())])\n",
        "jsonPath = os.path.sep.join([output, \"{}.json\".format(os.getpid())])\n",
        "callbacks = [TrainingMonitor(figPath, jsonPath=jsonPath), LearningRateScheduler(poly_decay)]\n",
        "\n",
        "# Inicializa o otimizador e o modelo\n",
        "print(\"Compilando o modelo...\")\n",
        "opt = SGD(lr=INIT_LR, momentum=0.9)\n",
        "model = MiniGoogLeNet.build(width=32, height=32, depth=3, classes=10)\n",
        "model.compile(loss=\"categorical_crossentropy\", optimizer=opt, metrics=[\"accuracy\"])\n",
        "\n",
        "# Treina a rede\n",
        "print(\"Treinamento...\")\n",
        "model.fit_generator(aug.flow(trainX,\n",
        "                             trainY,\n",
        "                             batch_size=64),\n",
        "                    validation_data=(testX, testY),\n",
        "                    steps_per_epoch=len(trainX) // 64,\n",
        "                    epochs=NUM_EPOCHS,\n",
        "                    callbacks=callbacks,\n",
        "                    verbose=1)\n",
        "\n",
        "# Salva o modelo\n",
        "print(\"Salvando o modelo...\")\n",
        "modelo_path='minigooglenet_cifar10.hdf5'\n",
        "model.save(modelo_path)\n",
        "\n"
      ],
      "execution_count": 3,
      "outputs": [
        {
          "output_type": "stream",
          "text": [
            "Using TensorFlow backend.\n"
          ],
          "name": "stderr"
        },
        {
          "output_type": "stream",
          "text": [
            "Carregando o Dataset CIFAR-10...\n",
            "Downloading data from https://www.cs.toronto.edu/~kriz/cifar-10-python.tar.gz\n",
            "170500096/170498071 [==============================] - 20s 0us/step\n",
            "Compilando o modelo...\n",
            "WARNING:tensorflow:From /usr/local/lib/python3.6/dist-packages/tensorflow/python/framework/op_def_library.py:263: colocate_with (from tensorflow.python.framework.ops) is deprecated and will be removed in a future version.\n",
            "Instructions for updating:\n",
            "Colocations handled automatically by placer.\n",
            "WARNING:tensorflow:From /usr/local/lib/python3.6/dist-packages/keras/backend/tensorflow_backend.py:3445: calling dropout (from tensorflow.python.ops.nn_ops) with keep_prob is deprecated and will be removed in a future version.\n",
            "Instructions for updating:\n",
            "Please use `rate` instead of `keep_prob`. Rate should be set to `rate = 1 - keep_prob`.\n",
            "Treinamento...\n",
            "WARNING:tensorflow:From /usr/local/lib/python3.6/dist-packages/tensorflow/python/ops/math_ops.py:3066: to_int32 (from tensorflow.python.ops.math_ops) is deprecated and will be removed in a future version.\n",
            "Instructions for updating:\n",
            "Use tf.cast instead.\n",
            "Epoch 1/70\n",
            "781/781 [==============================] - 46s 59ms/step - loss: 1.4877 - acc: 0.4587 - val_loss: 2.1116 - val_acc: 0.4352\n",
            "Epoch 2/70\n",
            "781/781 [==============================] - 40s 51ms/step - loss: 1.0791 - acc: 0.6154 - val_loss: 1.0169 - val_acc: 0.6456\n",
            "Epoch 3/70\n",
            "781/781 [==============================] - 40s 51ms/step - loss: 0.9102 - acc: 0.6806 - val_loss: 1.0003 - val_acc: 0.6487\n",
            "Epoch 4/70\n",
            "781/781 [==============================] - 40s 51ms/step - loss: 0.8026 - acc: 0.7199 - val_loss: 0.8339 - val_acc: 0.7166\n",
            "Epoch 5/70\n",
            "781/781 [==============================] - 40s 51ms/step - loss: 0.7198 - acc: 0.7523 - val_loss: 0.7473 - val_acc: 0.7379\n",
            "Epoch 6/70\n",
            "781/781 [==============================] - 40s 51ms/step - loss: 0.6569 - acc: 0.7744 - val_loss: 0.6490 - val_acc: 0.7804\n",
            "Epoch 7/70\n",
            "781/781 [==============================] - 40s 51ms/step - loss: 0.6089 - acc: 0.7897 - val_loss: 0.6520 - val_acc: 0.7784\n",
            "Epoch 8/70\n",
            "781/781 [==============================] - 40s 52ms/step - loss: 0.5725 - acc: 0.8040 - val_loss: 0.6155 - val_acc: 0.7982\n",
            "Epoch 9/70\n",
            "781/781 [==============================] - 40s 51ms/step - loss: 0.5271 - acc: 0.8191 - val_loss: 0.5851 - val_acc: 0.8023\n",
            "Epoch 10/70\n",
            "781/781 [==============================] - 40s 51ms/step - loss: 0.4967 - acc: 0.8322 - val_loss: 0.9466 - val_acc: 0.7196\n",
            "Epoch 11/70\n",
            "781/781 [==============================] - 40s 51ms/step - loss: 0.4772 - acc: 0.8373 - val_loss: 0.5547 - val_acc: 0.8211\n",
            "Epoch 12/70\n",
            "781/781 [==============================] - 40s 52ms/step - loss: 0.4503 - acc: 0.8455 - val_loss: 0.7465 - val_acc: 0.7628\n",
            "Epoch 13/70\n",
            "781/781 [==============================] - 40s 51ms/step - loss: 0.4263 - acc: 0.8534 - val_loss: 0.6035 - val_acc: 0.8008\n",
            "Epoch 14/70\n",
            "781/781 [==============================] - 40s 51ms/step - loss: 0.4110 - acc: 0.8586 - val_loss: 0.7353 - val_acc: 0.7775\n",
            "Epoch 15/70\n",
            "781/781 [==============================] - 40s 51ms/step - loss: 0.3885 - acc: 0.8671 - val_loss: 0.6434 - val_acc: 0.8081\n",
            "Epoch 16/70\n",
            "781/781 [==============================] - 40s 51ms/step - loss: 0.3679 - acc: 0.8748 - val_loss: 0.5581 - val_acc: 0.8255\n",
            "Epoch 17/70\n",
            "781/781 [==============================] - 40s 51ms/step - loss: 0.3593 - acc: 0.8773 - val_loss: 1.0017 - val_acc: 0.7334\n",
            "Epoch 18/70\n",
            "781/781 [==============================] - 40s 51ms/step - loss: 0.3393 - acc: 0.8838 - val_loss: 0.5505 - val_acc: 0.8283\n",
            "Epoch 19/70\n",
            "781/781 [==============================] - 40s 51ms/step - loss: 0.3228 - acc: 0.8884 - val_loss: 0.5014 - val_acc: 0.8409\n",
            "Epoch 20/70\n",
            "781/781 [==============================] - 40s 52ms/step - loss: 0.3164 - acc: 0.8921 - val_loss: 0.5859 - val_acc: 0.8076\n",
            "Epoch 21/70\n",
            "781/781 [==============================] - 40s 51ms/step - loss: 0.2999 - acc: 0.8967 - val_loss: 0.4073 - val_acc: 0.8690\n",
            "Epoch 22/70\n",
            "781/781 [==============================] - 40s 51ms/step - loss: 0.2889 - acc: 0.9001 - val_loss: 0.5509 - val_acc: 0.8325\n",
            "Epoch 23/70\n",
            "781/781 [==============================] - 40s 51ms/step - loss: 0.2754 - acc: 0.9059 - val_loss: 0.4232 - val_acc: 0.8633\n",
            "Epoch 24/70\n",
            "781/781 [==============================] - 40s 51ms/step - loss: 0.2652 - acc: 0.9065 - val_loss: 0.5477 - val_acc: 0.8407\n",
            "Epoch 25/70\n",
            "781/781 [==============================] - 40s 51ms/step - loss: 0.2525 - acc: 0.9133 - val_loss: 0.6120 - val_acc: 0.8203\n",
            "Epoch 26/70\n",
            "781/781 [==============================] - 40s 51ms/step - loss: 0.2422 - acc: 0.9164 - val_loss: 0.5219 - val_acc: 0.8462\n",
            "Epoch 27/70\n",
            "781/781 [==============================] - 40s 51ms/step - loss: 0.2389 - acc: 0.9174 - val_loss: 0.4928 - val_acc: 0.8484\n",
            "Epoch 28/70\n",
            "781/781 [==============================] - 40s 51ms/step - loss: 0.2248 - acc: 0.9226 - val_loss: 0.4820 - val_acc: 0.8472\n",
            "Epoch 29/70\n",
            "781/781 [==============================] - 40s 51ms/step - loss: 0.2231 - acc: 0.9219 - val_loss: 0.5699 - val_acc: 0.8340\n",
            "Epoch 30/70\n",
            "781/781 [==============================] - 40s 52ms/step - loss: 0.2117 - acc: 0.9275 - val_loss: 0.4142 - val_acc: 0.8711\n",
            "Epoch 31/70\n",
            "781/781 [==============================] - 40s 51ms/step - loss: 0.2033 - acc: 0.9294 - val_loss: 0.5227 - val_acc: 0.8575\n",
            "Epoch 32/70\n",
            "781/781 [==============================] - 40s 51ms/step - loss: 0.1994 - acc: 0.9310 - val_loss: 0.4264 - val_acc: 0.8687\n",
            "Epoch 33/70\n",
            "781/781 [==============================] - 40s 51ms/step - loss: 0.1894 - acc: 0.9345 - val_loss: 0.4529 - val_acc: 0.8658\n",
            "Epoch 34/70\n",
            "781/781 [==============================] - 40s 51ms/step - loss: 0.1790 - acc: 0.9377 - val_loss: 0.4892 - val_acc: 0.8543\n",
            "Epoch 35/70\n",
            "781/781 [==============================] - 40s 51ms/step - loss: 0.1786 - acc: 0.9381 - val_loss: 0.4546 - val_acc: 0.8657\n",
            "Epoch 36/70\n",
            "781/781 [==============================] - 40s 51ms/step - loss: 0.1739 - acc: 0.9389 - val_loss: 0.4717 - val_acc: 0.8556\n",
            "Epoch 37/70\n",
            "781/781 [==============================] - 40s 51ms/step - loss: 0.1651 - acc: 0.9433 - val_loss: 0.5034 - val_acc: 0.8489\n",
            "Epoch 38/70\n",
            "781/781 [==============================] - 40s 52ms/step - loss: 0.1575 - acc: 0.9445 - val_loss: 0.5239 - val_acc: 0.8513\n",
            "Epoch 39/70\n",
            "781/781 [==============================] - 40s 51ms/step - loss: 0.1513 - acc: 0.9477 - val_loss: 0.4765 - val_acc: 0.8675\n",
            "Epoch 40/70\n",
            "781/781 [==============================] - 40s 51ms/step - loss: 0.1457 - acc: 0.9495 - val_loss: 0.4023 - val_acc: 0.8757\n",
            "Epoch 41/70\n",
            "781/781 [==============================] - 40s 51ms/step - loss: 0.1414 - acc: 0.9512 - val_loss: 0.5163 - val_acc: 0.8561\n",
            "Epoch 42/70\n",
            "781/781 [==============================] - 40s 51ms/step - loss: 0.1362 - acc: 0.9536 - val_loss: 0.3814 - val_acc: 0.8811\n",
            "Epoch 43/70\n",
            "781/781 [==============================] - 40s 51ms/step - loss: 0.1305 - acc: 0.9562 - val_loss: 0.4199 - val_acc: 0.8771\n",
            "Epoch 44/70\n",
            "781/781 [==============================] - 40s 51ms/step - loss: 0.1283 - acc: 0.9561 - val_loss: 0.4770 - val_acc: 0.8714\n",
            "Epoch 45/70\n",
            "781/781 [==============================] - 40s 51ms/step - loss: 0.1204 - acc: 0.9574 - val_loss: 0.3761 - val_acc: 0.8880\n",
            "Epoch 46/70\n",
            "781/781 [==============================] - 40s 51ms/step - loss: 0.1202 - acc: 0.9585 - val_loss: 0.4104 - val_acc: 0.8828\n",
            "Epoch 47/70\n",
            "781/781 [==============================] - 40s 51ms/step - loss: 0.1106 - acc: 0.9617 - val_loss: 0.4262 - val_acc: 0.8786\n",
            "Epoch 48/70\n",
            "781/781 [==============================] - 40s 51ms/step - loss: 0.1036 - acc: 0.9643 - val_loss: 0.4191 - val_acc: 0.8807\n",
            "Epoch 49/70\n",
            "781/781 [==============================] - 40s 51ms/step - loss: 0.1031 - acc: 0.9655 - val_loss: 0.4573 - val_acc: 0.8771\n",
            "Epoch 50/70\n",
            "781/781 [==============================] - 40s 51ms/step - loss: 0.0984 - acc: 0.9657 - val_loss: 0.4004 - val_acc: 0.8851\n",
            "Epoch 51/70\n",
            "781/781 [==============================] - 40s 51ms/step - loss: 0.0966 - acc: 0.9666 - val_loss: 0.4122 - val_acc: 0.8882\n",
            "Epoch 52/70\n",
            "781/781 [==============================] - 40s 51ms/step - loss: 0.0932 - acc: 0.9682 - val_loss: 0.4112 - val_acc: 0.8849\n",
            "Epoch 53/70\n",
            "781/781 [==============================] - 40s 51ms/step - loss: 0.0865 - acc: 0.9703 - val_loss: 0.4499 - val_acc: 0.8806\n",
            "Epoch 54/70\n",
            "781/781 [==============================] - 40s 52ms/step - loss: 0.0863 - acc: 0.9709 - val_loss: 0.4163 - val_acc: 0.8854\n",
            "Epoch 55/70\n",
            "781/781 [==============================] - 40s 51ms/step - loss: 0.0834 - acc: 0.9721 - val_loss: 0.3901 - val_acc: 0.8875\n",
            "Epoch 56/70\n",
            "781/781 [==============================] - 40s 51ms/step - loss: 0.0798 - acc: 0.9733 - val_loss: 0.4371 - val_acc: 0.8812\n",
            "Epoch 57/70\n",
            "781/781 [==============================] - 40s 51ms/step - loss: 0.0771 - acc: 0.9746 - val_loss: 0.3935 - val_acc: 0.8916\n",
            "Epoch 58/70\n",
            "781/781 [==============================] - 40s 51ms/step - loss: 0.0699 - acc: 0.9766 - val_loss: 0.3903 - val_acc: 0.8942\n",
            "Epoch 59/70\n",
            "781/781 [==============================] - 40s 51ms/step - loss: 0.0708 - acc: 0.9770 - val_loss: 0.3866 - val_acc: 0.8952\n",
            "Epoch 60/70\n",
            "781/781 [==============================] - 40s 51ms/step - loss: 0.0686 - acc: 0.9774 - val_loss: 0.3914 - val_acc: 0.8920\n",
            "Epoch 61/70\n",
            "781/781 [==============================] - 40s 51ms/step - loss: 0.0618 - acc: 0.9803 - val_loss: 0.3756 - val_acc: 0.8944\n",
            "Epoch 62/70\n",
            "781/781 [==============================] - 40s 51ms/step - loss: 0.0655 - acc: 0.9785 - val_loss: 0.3614 - val_acc: 0.8980\n",
            "Epoch 63/70\n",
            "781/781 [==============================] - 40s 51ms/step - loss: 0.0584 - acc: 0.9813 - val_loss: 0.3648 - val_acc: 0.8998\n",
            "Epoch 64/70\n",
            "781/781 [==============================] - 40s 51ms/step - loss: 0.0603 - acc: 0.9797 - val_loss: 0.3632 - val_acc: 0.9017\n",
            "Epoch 65/70\n",
            "781/781 [==============================] - 40s 51ms/step - loss: 0.0567 - acc: 0.9818 - val_loss: 0.3650 - val_acc: 0.8985\n",
            "Epoch 66/70\n",
            "781/781 [==============================] - 40s 52ms/step - loss: 0.0563 - acc: 0.9825 - val_loss: 0.3672 - val_acc: 0.8971\n",
            "Epoch 67/70\n",
            "781/781 [==============================] - 40s 51ms/step - loss: 0.0542 - acc: 0.9827 - val_loss: 0.3586 - val_acc: 0.9010\n",
            "Epoch 68/70\n",
            "781/781 [==============================] - 40s 51ms/step - loss: 0.0516 - acc: 0.9834 - val_loss: 0.3612 - val_acc: 0.9004\n",
            "Epoch 69/70\n",
            "781/781 [==============================] - 40s 51ms/step - loss: 0.0518 - acc: 0.9835 - val_loss: 0.3600 - val_acc: 0.8989\n",
            "Epoch 70/70\n",
            "781/781 [==============================] - 40s 51ms/step - loss: 0.0504 - acc: 0.9851 - val_loss: 0.3585 - val_acc: 0.9003\n",
            "Salvando o modelo...\n"
          ],
          "name": "stdout"
        }
      ]
    },
    {
      "metadata": {
        "id": "DAjDTJLWGISZ",
        "colab_type": "code",
        "colab": {
          "base_uri": "https://localhost:8080/",
          "height": 51
        },
        "outputId": "aa395910-a975-43cf-ec44-56334975975c"
      },
      "cell_type": "code",
      "source": [
        "!ls"
      ],
      "execution_count": 4,
      "outputs": [
        {
          "output_type": "stream",
          "text": [
            "minigooglenet_cifar10.hdf5  __pycache__  trainingmonitor.py\n",
            "minigooglenet.py\t    sample_data\n"
          ],
          "name": "stdout"
        }
      ]
    },
    {
      "metadata": {
        "id": "Ykott3isAwKz",
        "colab_type": "text"
      },
      "cell_type": "markdown",
      "source": [
        "## Faz download do arquivo de pesos do Modelo"
      ]
    },
    {
      "metadata": {
        "id": "EH5Z9oYe_hYL",
        "colab_type": "code",
        "colab": {}
      },
      "cell_type": "code",
      "source": [
        "from google.colab import files \n",
        "modelo_path='minigooglenet_cifar10.hdf5'\n",
        "files.download(modelo_path)"
      ],
      "execution_count": 0,
      "outputs": []
    },
    {
      "metadata": {
        "id": "3vJ9kO7nGF9y",
        "colab_type": "code",
        "colab": {}
      },
      "cell_type": "code",
      "source": [
        ""
      ],
      "execution_count": 0,
      "outputs": []
    },
    {
      "metadata": {
        "id": "12zlwm2VGGGi",
        "colab_type": "code",
        "colab": {}
      },
      "cell_type": "code",
      "source": [
        ""
      ],
      "execution_count": 0,
      "outputs": []
    }
  ]
}