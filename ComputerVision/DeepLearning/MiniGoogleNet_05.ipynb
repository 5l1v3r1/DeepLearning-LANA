{
  "nbformat": 4,
  "nbformat_minor": 0,
  "metadata": {
    "colab": {
      "name": "MiniGoogleNet-05.ipynb",
      "version": "0.3.2",
      "provenance": [],
      "collapsed_sections": [],
      "include_colab_link": true
    },
    "kernelspec": {
      "name": "python3",
      "display_name": "Python 3"
    },
    "accelerator": "GPU"
  },
  "cells": [
    {
      "cell_type": "markdown",
      "metadata": {
        "id": "view-in-github",
        "colab_type": "text"
      },
      "source": [
        "<a href=\"https://colab.research.google.com/github/vladimiralencar/DeepLearning-LANA/blob/master/ComputerVision/DeepLearning/MiniGoogleNet_05.ipynb\" target=\"_parent\"><img src=\"https://colab.research.google.com/assets/colab-badge.svg\" alt=\"Open In Colab\"/></a>"
      ]
    },
    {
      "metadata": {
        "id": "YPNO9z-h-COD",
        "colab_type": "text"
      },
      "cell_type": "markdown",
      "source": [
        "# LeNet - Rede Neural Convolucional - Classificação de Imagens - Cifar10"
      ]
    },
    {
      "metadata": {
        "id": "sTYUmKxN99FR",
        "colab_type": "text"
      },
      "cell_type": "markdown",
      "source": [
        "## Leitura de dados"
      ]
    },
    {
      "metadata": {
        "id": "DH4GmQ5H8i_W",
        "colab_type": "code",
        "colab": {
          "base_uri": "https://localhost:8080/",
          "height": 411
        },
        "outputId": "247b0a9b-365b-4a57-b24d-c8886c2bcaa7"
      },
      "cell_type": "code",
      "source": [
        "!wget https://raw.githubusercontent.com/vladimiralencar/DeepLearning-LANA/master/ComputerVision/DeepLearning/minigooglenet.py\n",
        "!wget https://raw.githubusercontent.com/vladimiralencar/DeepLearning-LANA/master/ComputerVision/DeepLearning/trainingmonitor.py"
      ],
      "execution_count": 1,
      "outputs": [
        {
          "output_type": "stream",
          "text": [
            "--2019-04-19 15:01:13--  https://raw.githubusercontent.com/vladimiralencar/DeepLearning-LANA/master/ComputerVision/DeepLearning/minigooglenet.py\n",
            "Resolving raw.githubusercontent.com (raw.githubusercontent.com)... 151.101.0.133, 151.101.64.133, 151.101.128.133, ...\n",
            "Connecting to raw.githubusercontent.com (raw.githubusercontent.com)|151.101.0.133|:443... connected.\n",
            "HTTP request sent, awaiting response... 200 OK\n",
            "Length: 3686 (3.6K) [text/plain]\n",
            "Saving to: ‘minigooglenet.py’\n",
            "\n",
            "\rminigooglenet.py      0%[                    ]       0  --.-KB/s               \rminigooglenet.py    100%[===================>]   3.60K  --.-KB/s    in 0s      \n",
            "\n",
            "2019-04-19 15:01:14 (91.6 MB/s) - ‘minigooglenet.py’ saved [3686/3686]\n",
            "\n",
            "--2019-04-19 15:01:15--  https://raw.githubusercontent.com/vladimiralencar/DeepLearning-LANA/master/ComputerVision/DeepLearning/trainingmonitor.py\n",
            "Resolving raw.githubusercontent.com (raw.githubusercontent.com)... 151.101.0.133, 151.101.64.133, 151.101.128.133, ...\n",
            "Connecting to raw.githubusercontent.com (raw.githubusercontent.com)|151.101.0.133|:443... connected.\n",
            "HTTP request sent, awaiting response... 200 OK\n",
            "Length: 1395 (1.4K) [text/plain]\n",
            "Saving to: ‘trainingmonitor.py’\n",
            "\n",
            "trainingmonitor.py  100%[===================>]   1.36K  --.-KB/s    in 0s      \n",
            "\n",
            "2019-04-19 15:01:15 (231 MB/s) - ‘trainingmonitor.py’ saved [1395/1395]\n",
            "\n"
          ],
          "name": "stdout"
        }
      ]
    },
    {
      "metadata": {
        "id": "FEgdtdvhknno",
        "colab_type": "code",
        "colab": {
          "base_uri": "https://localhost:8080/",
          "height": 136
        },
        "outputId": "43463950-8d81-4c17-c0ba-f880507d5cdd"
      },
      "cell_type": "code",
      "source": [
        "!ls -ila "
      ],
      "execution_count": 2,
      "outputs": [
        {
          "output_type": "stream",
          "text": [
            "total 32\n",
            "23199751 drwxr-xr-x 1 root root 4096 Apr 19 15:01 .\n",
            "16777218 drwxr-xr-x 1 root root 4096 Apr 19 15:00 ..\n",
            "23199752 drwxr-xr-x 1 root root 4096 Apr  4 20:19 .config\n",
            " 5375138 -rw-r--r-- 1 root root 3686 Apr 19 15:01 minigooglenet.py\n",
            " 9306120 drwxr-xr-x 1 root root 4096 Apr  4 20:20 sample_data\n",
            " 5375140 -rw-r--r-- 1 root root 1395 Apr 19 15:01 trainingmonitor.py\n"
          ],
          "name": "stdout"
        }
      ]
    },
    {
      "metadata": {
        "id": "xKol9pLuGD75",
        "colab_type": "code",
        "colab": {
          "base_uri": "https://localhost:8080/",
          "height": 1312
        },
        "outputId": "b50ba1ef-d461-44d0-e6a8-38e0ebf86416"
      },
      "cell_type": "code",
      "source": [
        "# Mini GoogleLeNet\n",
        "\n",
        "# Imports\n",
        "import os\n",
        "import numpy as np\n",
        "import matplotlib\n",
        "matplotlib.use(\"Agg\")\n",
        "from sklearn.preprocessing import LabelBinarizer\n",
        "from minigooglenet import MiniGoogLeNet\n",
        "from trainingmonitor import TrainingMonitor\n",
        "from keras.optimizers import SGD\n",
        "from keras.datasets import cifar10\n",
        "from keras.callbacks import LearningRateScheduler\n",
        "from keras.preprocessing.image import ImageDataGenerator\n",
        "\n",
        "\n",
        "modelo_path=''\n",
        "output='' \n",
        "\n",
        "\n",
        "# Define o número total de épocas para treinar junto com a taxa inicial de aprendizado\n",
        "NUM_EPOCHS = 70\n",
        "INIT_LR = 5e-3 # taxa de aprendizagem inicial\n",
        "\n",
        "def poly_decay(epoch):\n",
        "\n",
        "    # Inicializa o número máximo de épocas, a taxa básica de aprendizado e a potência do polinômio\n",
        "    maxEpochs = NUM_EPOCHS\n",
        "    baseLR = INIT_LR\n",
        "    power = 1.0\n",
        "\n",
        "    # Calcula a nova taxa de aprendizagem baseada em polynomial decay\n",
        "    alpha = baseLR * (1 - (epoch / float(maxEpochs))) ** power\n",
        "\n",
        "    # Retorna a nova taxa de aprendizagem\n",
        "    return alpha\n",
        "\n",
        "# Carrega os dados de treinamento e teste, convertendo as imagens de inteiros para float\n",
        "print(\"Carregando o Dataset CIFAR-10...\")\n",
        "((trainX, trainY), (testX, testY)) = cifar10.load_data()\n",
        "trainX = trainX.astype(\"float\")\n",
        "testX = testX.astype(\"float\")\n",
        "\n",
        "# Aplica subtração média aos dados\n",
        "mean = np.mean(trainX, axis=0)\n",
        "trainX -= mean\n",
        "testX -= mean\n",
        "\n",
        "# Converte os labels de inteiros para vetores\n",
        "lb = LabelBinarizer()\n",
        "trainY = lb.fit_transform(trainY)\n",
        "testY = lb.transform(testY)\n",
        "\n",
        "# Construindo o Gerador de Imagens para o Data Augmentation\n",
        "aug = ImageDataGenerator(width_shift_range=0.1, height_shift_range=0.1, horizontal_flip=True, fill_mode=\"nearest\")\n",
        "\n",
        "# Callbacks\n",
        "figPath = os.path.sep.join([output, \"{}.png\".format(os.getpid())])\n",
        "jsonPath = os.path.sep.join([output, \"{}.json\".format(os.getpid())])\n",
        "callbacks = [TrainingMonitor(figPath, jsonPath=jsonPath), LearningRateScheduler(poly_decay)]\n",
        "\n",
        "# Inicializa o otimizador e o modelo\n",
        "print(\"Compilando o modelo...\")\n",
        "opt = SGD(lr=INIT_LR, momentum=0.9)\n",
        "model = MiniGoogLeNet.build(width=32, height=32, depth=3, classes=10)\n",
        "model.compile(loss=\"categorical_crossentropy\", optimizer=opt, metrics=[\"accuracy\"])\n",
        "\n",
        "# Treina a rede\n",
        "print(\"Treinamento...\")\n",
        "model.fit_generator(aug.flow(trainX,\n",
        "                             trainY,\n",
        "                             batch_size=64),\n",
        "                    validation_data=(testX, testY),\n",
        "                    steps_per_epoch=len(trainX) // 64,\n",
        "                    epochs=NUM_EPOCHS,\n",
        "                    callbacks=callbacks,\n",
        "                    verbose=1)\n",
        "\n",
        "# Salva o modelo\n",
        "print(\"Salvando o modelo...\")\n",
        "modelo_path='minigooglenet_cifar10.hdf5'\n",
        "model.save(model_path)\n",
        "\n"
      ],
      "execution_count": 0,
      "outputs": [
        {
          "output_type": "stream",
          "text": [
            "Using TensorFlow backend.\n"
          ],
          "name": "stderr"
        },
        {
          "output_type": "stream",
          "text": [
            "Carregando o Dataset CIFAR-10...\n",
            "Downloading data from https://www.cs.toronto.edu/~kriz/cifar-10-python.tar.gz\n",
            "170500096/170498071 [==============================] - 76s 0us/step\n",
            "Compilando o modelo...\n",
            "WARNING:tensorflow:From /usr/local/lib/python3.6/dist-packages/tensorflow/python/framework/op_def_library.py:263: colocate_with (from tensorflow.python.framework.ops) is deprecated and will be removed in a future version.\n",
            "Instructions for updating:\n",
            "Colocations handled automatically by placer.\n",
            "WARNING:tensorflow:From /usr/local/lib/python3.6/dist-packages/keras/backend/tensorflow_backend.py:3445: calling dropout (from tensorflow.python.ops.nn_ops) with keep_prob is deprecated and will be removed in a future version.\n",
            "Instructions for updating:\n",
            "Please use `rate` instead of `keep_prob`. Rate should be set to `rate = 1 - keep_prob`.\n",
            "Treinamento...\n",
            "WARNING:tensorflow:From /usr/local/lib/python3.6/dist-packages/tensorflow/python/ops/math_ops.py:3066: to_int32 (from tensorflow.python.ops.math_ops) is deprecated and will be removed in a future version.\n",
            "Instructions for updating:\n",
            "Use tf.cast instead.\n",
            "Epoch 1/70\n",
            "781/781 [==============================] - 45s 58ms/step - loss: 1.4886 - acc: 0.4570 - val_loss: 1.3457 - val_acc: 0.5387\n",
            "Epoch 2/70\n",
            "781/781 [==============================] - 40s 51ms/step - loss: 1.0725 - acc: 0.6201 - val_loss: 1.0210 - val_acc: 0.6349\n",
            "Epoch 3/70\n",
            "781/781 [==============================] - 41s 52ms/step - loss: 0.9031 - acc: 0.6826 - val_loss: 0.8788 - val_acc: 0.6962\n",
            "Epoch 4/70\n",
            "781/781 [==============================] - 40s 52ms/step - loss: 0.7920 - acc: 0.7248 - val_loss: 0.8497 - val_acc: 0.7155\n",
            "Epoch 5/70\n",
            "781/781 [==============================] - 40s 52ms/step - loss: 0.7085 - acc: 0.7559 - val_loss: 0.7195 - val_acc: 0.7547\n",
            "Epoch 6/70\n",
            "781/781 [==============================] - 40s 51ms/step - loss: 0.6455 - acc: 0.7775 - val_loss: 1.0192 - val_acc: 0.6765\n",
            "Epoch 7/70\n",
            "781/781 [==============================] - 40s 52ms/step - loss: 0.5981 - acc: 0.7962 - val_loss: 0.7579 - val_acc: 0.7549\n",
            "Epoch 8/70\n",
            "781/781 [==============================] - 40s 52ms/step - loss: 0.5522 - acc: 0.8114 - val_loss: 0.6382 - val_acc: 0.7835\n",
            "Epoch 9/70\n",
            "781/781 [==============================] - 40s 52ms/step - loss: 0.5154 - acc: 0.8232 - val_loss: 0.6591 - val_acc: 0.7827\n",
            "Epoch 10/70\n",
            "781/781 [==============================] - 40s 51ms/step - loss: 0.4899 - acc: 0.8340 - val_loss: 0.6298 - val_acc: 0.7983\n",
            "Epoch 11/70\n",
            "781/781 [==============================] - 40s 52ms/step - loss: 0.4609 - acc: 0.8419 - val_loss: 0.5779 - val_acc: 0.8111\n",
            "Epoch 12/70\n",
            "781/781 [==============================] - 41s 52ms/step - loss: 0.4412 - acc: 0.8495 - val_loss: 0.6217 - val_acc: 0.8100\n",
            "Epoch 13/70\n",
            "781/781 [==============================] - 41s 52ms/step - loss: 0.4141 - acc: 0.8571 - val_loss: 0.5615 - val_acc: 0.8219\n",
            "Epoch 14/70\n",
            "781/781 [==============================] - 40s 51ms/step - loss: 0.4016 - acc: 0.8640 - val_loss: 0.4852 - val_acc: 0.8369\n",
            "Epoch 15/70\n",
            "781/781 [==============================] - 41s 52ms/step - loss: 0.3812 - acc: 0.8698 - val_loss: 0.7395 - val_acc: 0.7859\n",
            "Epoch 16/70\n",
            "781/781 [==============================] - 40s 51ms/step - loss: 0.3631 - acc: 0.8758 - val_loss: 0.5359 - val_acc: 0.8187\n",
            "Epoch 17/70\n",
            "781/781 [==============================] - 40s 52ms/step - loss: 0.3449 - acc: 0.8817 - val_loss: 0.5093 - val_acc: 0.8422\n",
            "Epoch 18/70\n",
            "781/781 [==============================] - 40s 51ms/step - loss: 0.3342 - acc: 0.8841 - val_loss: 0.6317 - val_acc: 0.8063\n",
            "Epoch 19/70\n",
            "781/781 [==============================] - 41s 52ms/step - loss: 0.3149 - acc: 0.8915 - val_loss: 0.5400 - val_acc: 0.8393\n",
            "Epoch 20/70\n",
            "781/781 [==============================] - 40s 52ms/step - loss: 0.3059 - acc: 0.8951 - val_loss: 0.5400 - val_acc: 0.8349\n",
            "Epoch 21/70\n",
            "781/781 [==============================] - 41s 52ms/step - loss: 0.2976 - acc: 0.8968 - val_loss: 0.4584 - val_acc: 0.8517\n",
            "Epoch 22/70\n",
            "781/781 [==============================] - 40s 51ms/step - loss: 0.2813 - acc: 0.9035 - val_loss: 0.5338 - val_acc: 0.8351\n",
            "Epoch 23/70\n",
            "781/781 [==============================] - 40s 52ms/step - loss: 0.2730 - acc: 0.9065 - val_loss: 0.4462 - val_acc: 0.8575\n",
            "Epoch 24/70\n",
            "781/781 [==============================] - 40s 52ms/step - loss: 0.2621 - acc: 0.9098 - val_loss: 0.4500 - val_acc: 0.8577\n",
            "Epoch 25/70\n",
            "781/781 [==============================] - 41s 52ms/step - loss: 0.2507 - acc: 0.9142 - val_loss: 0.5488 - val_acc: 0.8307\n",
            "Epoch 26/70\n",
            "781/781 [==============================] - 40s 51ms/step - loss: 0.2432 - acc: 0.9156 - val_loss: 0.4320 - val_acc: 0.8664\n",
            "Epoch 27/70\n",
            "781/781 [==============================] - 41s 52ms/step - loss: 0.2302 - acc: 0.9208 - val_loss: 0.4456 - val_acc: 0.8649\n",
            "Epoch 28/70\n",
            "781/781 [==============================] - 40s 52ms/step - loss: 0.2217 - acc: 0.9239 - val_loss: 0.5149 - val_acc: 0.8490\n",
            "Epoch 29/70\n",
            "781/781 [==============================] - 40s 52ms/step - loss: 0.2200 - acc: 0.9237 - val_loss: 0.4691 - val_acc: 0.8595\n",
            "Epoch 30/70\n",
            "611/781 [======================>.......] - ETA: 8s - loss: 0.2109 - acc: 0.9267"
          ],
          "name": "stdout"
        }
      ]
    },
    {
      "metadata": {
        "id": "DAjDTJLWGISZ",
        "colab_type": "code",
        "colab": {}
      },
      "cell_type": "code",
      "source": [
        ""
      ],
      "execution_count": 0,
      "outputs": []
    },
    {
      "metadata": {
        "id": "Ykott3isAwKz",
        "colab_type": "text"
      },
      "cell_type": "markdown",
      "source": [
        "## Faz download do arquivo de pesos do Modelo"
      ]
    },
    {
      "metadata": {
        "id": "EH5Z9oYe_hYL",
        "colab_type": "code",
        "colab": {}
      },
      "cell_type": "code",
      "source": [
        "from google.colab import files \n",
        "modelo_path='minigooglenet_cifar10.hdf5'\n",
        "files.download(model_path)"
      ],
      "execution_count": 0,
      "outputs": []
    },
    {
      "metadata": {
        "id": "3vJ9kO7nGF9y",
        "colab_type": "code",
        "colab": {}
      },
      "cell_type": "code",
      "source": [
        ""
      ],
      "execution_count": 0,
      "outputs": []
    },
    {
      "metadata": {
        "id": "12zlwm2VGGGi",
        "colab_type": "code",
        "colab": {}
      },
      "cell_type": "code",
      "source": [
        ""
      ],
      "execution_count": 0,
      "outputs": []
    }
  ]
}