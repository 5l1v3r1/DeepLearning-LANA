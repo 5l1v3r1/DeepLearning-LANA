{
  "nbformat": 4,
  "nbformat_minor": 0,
  "metadata": {
    "colab": {
      "name": "Convnet-01.ipynb",
      "version": "0.3.2",
      "provenance": [],
      "collapsed_sections": [],
      "include_colab_link": true
    },
    "kernelspec": {
      "name": "python3",
      "display_name": "Python 3"
    },
    "accelerator": "GPU"
  },
  "cells": [
    {
      "cell_type": "markdown",
      "metadata": {
        "id": "view-in-github",
        "colab_type": "text"
      },
      "source": [
        "<a href=\"https://colab.research.google.com/github/vladimiralencar/DeepLearning-LANA/blob/master/ComputerVision/DeepLearning/Convnet_01.ipynb\" target=\"_parent\"><img src=\"https://colab.research.google.com/assets/colab-badge.svg\" alt=\"Open In Colab\"/></a>"
      ]
    },
    {
      "metadata": {
        "id": "YPNO9z-h-COD",
        "colab_type": "text"
      },
      "cell_type": "markdown",
      "source": [
        "# ConvNet - Rede Neural Convolucional - Classificação de Imagens - Cifar10"
      ]
    },
    {
      "metadata": {
        "id": "sTYUmKxN99FR",
        "colab_type": "text"
      },
      "cell_type": "markdown",
      "source": [
        "## Leitura de dados"
      ]
    },
    {
      "metadata": {
        "id": "DH4GmQ5H8i_W",
        "colab_type": "code",
        "colab": {
          "base_uri": "https://localhost:8080/",
          "height": 224
        },
        "outputId": "6f004779-9d9b-4762-c8bc-4102247225d3"
      },
      "cell_type": "code",
      "source": [
        "!wget https://raw.githubusercontent.com/vladimiralencar/DeepLearning-LANA/master/ComputerVision/DeepLearning/convnet.py"
      ],
      "execution_count": 10,
      "outputs": [
        {
          "output_type": "stream",
          "text": [
            "--2019-04-19 01:21:03--  https://raw.githubusercontent.com/vladimiralencar/DeepLearning-LANA/master/ComputerVision/DeepLearning/convnet.py\n",
            "Resolving raw.githubusercontent.com (raw.githubusercontent.com)... 151.101.0.133, 151.101.64.133, 151.101.128.133, ...\n",
            "Connecting to raw.githubusercontent.com (raw.githubusercontent.com)|151.101.0.133|:443... connected.\n",
            "HTTP request sent, awaiting response... 200 OK\n",
            "Length: 6344 (6.2K) [text/plain]\n",
            "Saving to: ‘convnet.py’\n",
            "\n",
            "\rconvnet.py            0%[                    ]       0  --.-KB/s               \rconvnet.py          100%[===================>]   6.20K  --.-KB/s    in 0s      \n",
            "\n",
            "2019-04-19 01:21:03 (85.4 MB/s) - ‘convnet.py’ saved [6344/6344]\n",
            "\n"
          ],
          "name": "stdout"
        }
      ]
    },
    {
      "metadata": {
        "id": "4KgrRRHc8Ot-",
        "colab_type": "code",
        "colab": {
          "base_uri": "https://localhost:8080/",
          "height": 850
        },
        "outputId": "b374d88d-3b51-4a5a-e03d-5c84d7fa6928"
      },
      "cell_type": "code",
      "source": [
        "# Rede Neural Convolucional Para Classificação de Imagens\n",
        "\n",
        "\n",
        "# import the necessary packages\n",
        "from convnet import ConvNetFactory\n",
        "from keras.utils import np_utils\n",
        "from keras.optimizers import SGD\n",
        "from keras.datasets import cifar10\n",
        "\n",
        "\n",
        "network='vanilla'\n",
        "model_path='modelo.hdf5'\n",
        "epochs=20\n",
        "dropout=-1\n",
        "activation=\"tanh\"\n",
        "batch_size=32\n",
        "verbose=1\n",
        "\n",
        "\n",
        "# Carrega os dados de treinamento e teste e, em seguida, dimensiona no intervalo [0, 1]\n",
        "print(\"\\nCarregando os dados de treino...\")\n",
        "((trainData, trainLabels), (testData, testLabels)) = cifar10.load_data()\n",
        "trainData = trainData.astype(\"float\") / 255.0\n",
        "testData = testData.astype(\"float\") / 255.0\n",
        "\n",
        "# Transforma os rótulos de treinamento e teste em vetores no intervalo [0, numClasses]\n",
        "# Isso gera um vetor para cada rótulo, onde o índice do rótulo é definido como `1` e todas as outras entradas para `0`\n",
        "# No caso do CIFAR-10, existem 10 rótulos de classe\n",
        "trainLabels = np_utils.to_categorical(trainLabels, 10)\n",
        "testLabels = np_utils.to_categorical(testLabels, 10)\n",
        "\n",
        "# Coleta os argumentos\n",
        "kargs = {\"dropout\": dropout > 0, \"activation\": activation}\n",
        "\n",
        "# Treina o modelo usando SGD\n",
        "print(\"Compilando o modelo...\")      # número de cores - 3, 32x32 largura e altura, 10 classes\n",
        "model = ConvNetFactory.build(network, 3, 32, 32, 10, **kargs)\n",
        "sgd = SGD(lr=0.01, decay=1e-6, momentum=0.9, nesterov=True)\n",
        "model.compile(loss=\"categorical_crossentropy\", optimizer=sgd, metrics=[\"accuracy\"])\n",
        "\n",
        "# Inicia o treinamento\n",
        "print(\"Iniciando o treinamento...\\n\")\n",
        "model.fit(trainData, trainLabels, batch_size=batch_size, epochs=epochs, verbose=verbose)\n",
        "\n",
        "# Mostra a acurácia nos dados de teste\n",
        "(loss, accuracy) = model.evaluate(testData, testLabels, batch_size=batch_size, verbose=verbose)\n",
        "print(\"Acurácia: {:.2f}%\".format(accuracy * 100))\n",
        "\n",
        "# Salva o modelo \n",
        "print(\"\\nSalvando o modelo...\")\n",
        "model.save(model_path)"
      ],
      "execution_count": 11,
      "outputs": [
        {
          "output_type": "stream",
          "text": [
            "\n",
            "Carregando os dados de treino...\n",
            "Compilando o modelo...\n",
            "Iniciando o treinamento...\n",
            "\n",
            "Epoch 1/20\n",
            "50000/50000 [==============================] - 8s 150us/step - loss: 1.5858 - acc: 0.4384\n",
            "Epoch 2/20\n",
            "50000/50000 [==============================] - 7s 141us/step - loss: 1.3152 - acc: 0.5441\n",
            "Epoch 3/20\n",
            "50000/50000 [==============================] - 7s 138us/step - loss: 1.2142 - acc: 0.5795\n",
            "Epoch 4/20\n",
            "50000/50000 [==============================] - 7s 138us/step - loss: 1.1276 - acc: 0.6112\n",
            "Epoch 5/20\n",
            "50000/50000 [==============================] - 7s 134us/step - loss: 1.0682 - acc: 0.6305\n",
            "Epoch 6/20\n",
            "50000/50000 [==============================] - 7s 145us/step - loss: 1.0101 - acc: 0.6512\n",
            "Epoch 7/20\n",
            "50000/50000 [==============================] - 7s 133us/step - loss: 0.9516 - acc: 0.6692\n",
            "Epoch 8/20\n",
            "50000/50000 [==============================] - 7s 133us/step - loss: 0.8969 - acc: 0.6893\n",
            "Epoch 9/20\n",
            "50000/50000 [==============================] - 7s 132us/step - loss: 0.8460 - acc: 0.7056\n",
            "Epoch 10/20\n",
            "50000/50000 [==============================] - 7s 131us/step - loss: 0.8025 - acc: 0.7235\n",
            "Epoch 11/20\n",
            "50000/50000 [==============================] - 7s 131us/step - loss: 0.7536 - acc: 0.7384\n",
            "Epoch 12/20\n",
            "50000/50000 [==============================] - 7s 138us/step - loss: 0.7203 - acc: 0.7501\n",
            "Epoch 13/20\n",
            "50000/50000 [==============================] - 7s 144us/step - loss: 0.6781 - acc: 0.7643\n",
            "Epoch 14/20\n",
            "50000/50000 [==============================] - 7s 130us/step - loss: 0.6412 - acc: 0.7766\n",
            "Epoch 15/20\n",
            "50000/50000 [==============================] - 7s 131us/step - loss: 0.6051 - acc: 0.7899\n",
            "Epoch 16/20\n",
            "50000/50000 [==============================] - 7s 140us/step - loss: 0.5723 - acc: 0.7980\n",
            "Epoch 17/20\n",
            "50000/50000 [==============================] - 7s 147us/step - loss: 0.5398 - acc: 0.8127\n",
            "Epoch 18/20\n",
            "50000/50000 [==============================] - 6s 129us/step - loss: 0.5162 - acc: 0.8170\n",
            "Epoch 19/20\n",
            "50000/50000 [==============================] - 6s 130us/step - loss: 0.4788 - acc: 0.8326\n",
            "Epoch 20/20\n",
            "50000/50000 [==============================] - 6s 129us/step - loss: 0.4588 - acc: 0.8402\n",
            "10000/10000 [==============================] - 1s 85us/step\n",
            "Acurácia: 55.22%\n",
            "\n",
            "Salvando o modelo...\n"
          ],
          "name": "stdout"
        }
      ]
    },
    {
      "metadata": {
        "id": "Ykott3isAwKz",
        "colab_type": "text"
      },
      "cell_type": "markdown",
      "source": [
        "## Faz download do arquivo de pesos do Modelo"
      ]
    },
    {
      "metadata": {
        "id": "EH5Z9oYe_hYL",
        "colab_type": "code",
        "colab": {}
      },
      "cell_type": "code",
      "source": [
        "#from google.colab import files \n",
        "#files.download(model_path)"
      ],
      "execution_count": 0,
      "outputs": []
    }
  ]
}