{
  "nbformat": 4,
  "nbformat_minor": 0,
  "metadata": {
    "colab": {
      "name": "KarpathyNet-03.ipynb",
      "version": "0.3.2",
      "provenance": [],
      "collapsed_sections": [],
      "include_colab_link": true
    },
    "kernelspec": {
      "name": "python3",
      "display_name": "Python 3"
    },
    "accelerator": "GPU"
  },
  "cells": [
    {
      "cell_type": "markdown",
      "metadata": {
        "id": "view-in-github",
        "colab_type": "text"
      },
      "source": [
        "<a href=\"https://colab.research.google.com/github/vladimiralencar/DeepLearning-LANA/blob/master/ComputerVision/DeepLearning/KarpathyNet_03.ipynb\" target=\"_parent\"><img src=\"https://colab.research.google.com/assets/colab-badge.svg\" alt=\"Open In Colab\"/></a>"
      ]
    },
    {
      "metadata": {
        "id": "YPNO9z-h-COD",
        "colab_type": "text"
      },
      "cell_type": "markdown",
      "source": [
        "# LeNet - Rede Neural Convolucional - Classificação de Imagens - Cifar10"
      ]
    },
    {
      "metadata": {
        "id": "sTYUmKxN99FR",
        "colab_type": "text"
      },
      "cell_type": "markdown",
      "source": [
        "## Leitura de dados"
      ]
    },
    {
      "metadata": {
        "id": "DH4GmQ5H8i_W",
        "colab_type": "code",
        "colab": {
          "base_uri": "https://localhost:8080/",
          "height": 224
        },
        "outputId": "88ff78b3-6cc7-4725-d54d-01ab8dea89f5"
      },
      "cell_type": "code",
      "source": [
        "!wget https://raw.githubusercontent.com/vladimiralencar/DeepLearning-LANA/master/ComputerVision/DeepLearning/convnet.py"
      ],
      "execution_count": 1,
      "outputs": [
        {
          "output_type": "stream",
          "text": [
            "--2019-04-19 01:54:15--  https://raw.githubusercontent.com/vladimiralencar/DeepLearning-LANA/master/ComputerVision/DeepLearning/convnet.py\n",
            "Resolving raw.githubusercontent.com (raw.githubusercontent.com)... 151.101.0.133, 151.101.64.133, 151.101.128.133, ...\n",
            "Connecting to raw.githubusercontent.com (raw.githubusercontent.com)|151.101.0.133|:443... connected.\n",
            "HTTP request sent, awaiting response... 200 OK\n",
            "Length: 6344 (6.2K) [text/plain]\n",
            "Saving to: ‘convnet.py’\n",
            "\n",
            "\rconvnet.py            0%[                    ]       0  --.-KB/s               \rconvnet.py          100%[===================>]   6.20K  --.-KB/s    in 0s      \n",
            "\n",
            "2019-04-19 01:54:15 (146 MB/s) - ‘convnet.py’ saved [6344/6344]\n",
            "\n"
          ],
          "name": "stdout"
        }
      ]
    },
    {
      "metadata": {
        "id": "UCAwf0EQTJ-0",
        "colab_type": "code",
        "colab": {
          "base_uri": "https://localhost:8080/",
          "height": 921
        },
        "outputId": "733f8171-4839-4026-e0cc-9e7cdb9c4a7f"
      },
      "cell_type": "code",
      "source": [
        "# Rede Neural Convolucional Para Classificação de Imagens\n",
        "\n",
        "\n",
        "# import the necessary packages\n",
        "from convnet import ConvNetFactory\n",
        "from keras.utils import np_utils\n",
        "from keras.optimizers import SGD\n",
        "from keras.datasets import cifar10\n",
        "\n",
        "# hiperparametros\n",
        "network='karpathynet'\n",
        "model_path='modelo.hdf5'\n",
        "epochs=20\n",
        "dropout=1\n",
        "activation=\"tanh\"\n",
        "batch_size=32\n",
        "verbose=1\n",
        "\n",
        "# Carrega os dados de treinamento e teste e, em seguida, dimensiona no intervalo [0, 1]\n",
        "print(\"\\nCarregando os dados de treino...\")\n",
        "((trainData, trainLabels), (testData, testLabels)) = cifar10.load_data()\n",
        "trainData = trainData.astype(\"float\") / 255.0\n",
        "testData = testData.astype(\"float\") / 255.0\n",
        "\n",
        "# Transforma os rótulos de treinamento e teste em vetores no intervalo [0, numClasses]\n",
        "# Isso gera um vetor para cada rótulo, onde o índice do rótulo é definido como `1` e todas as outras entradas para `0`\n",
        "# No caso do CIFAR-10, existem 10 rótulos de classe\n",
        "trainLabels = np_utils.to_categorical(trainLabels, 10)\n",
        "testLabels = np_utils.to_categorical(testLabels, 10)\n",
        "\n",
        "# Coleta os argumentos\n",
        "kargs = {\"dropout\": dropout > 0, \"activation\": activation}\n",
        "\n",
        "# Treina o modelo usando SGD\n",
        "print(\"Compilando o modelo...\")\n",
        "model = ConvNetFactory.build(network, 3, 32, 32, 10, **kargs)\n",
        "sgd = SGD(lr=0.01, decay=1e-6, momentum=0.9, nesterov=True)\n",
        "model.compile(loss=\"categorical_crossentropy\", optimizer=sgd, metrics=[\"accuracy\"])\n",
        "\n",
        "# Inicia o treinamento\n",
        "print(\"Iniciando o treinamento...\\n\")\n",
        "model.fit(trainData, trainLabels, batch_size=batch_size, epochs=epochs, verbose=verbose)\n",
        "\n",
        "# Mostra a acurácia nos dados de teste\n",
        "(loss, accuracy) = model.evaluate(testData, testLabels, batch_size=batch_size, verbose=verbose)\n",
        "print(\"Acurácia: {:.2f}%\".format(accuracy * 100))\n",
        "\n",
        "# Salva o modelo \n",
        "print(\"\\nSalvando o modelo...\")\n",
        "model.save(model_path)"
      ],
      "execution_count": 4,
      "outputs": [
        {
          "output_type": "stream",
          "text": [
            "\n",
            "Carregando os dados de treino...\n",
            "Compilando o modelo...\n",
            "WARNING:tensorflow:From /usr/local/lib/python3.6/dist-packages/keras/backend/tensorflow_backend.py:3445: calling dropout (from tensorflow.python.ops.nn_ops) with keep_prob is deprecated and will be removed in a future version.\n",
            "Instructions for updating:\n",
            "Please use `rate` instead of `keep_prob`. Rate should be set to `rate = 1 - keep_prob`.\n",
            "Iniciando o treinamento...\n",
            "\n",
            "Epoch 1/20\n",
            "50000/50000 [==============================] - 10s 192us/step - loss: 1.9142 - acc: 0.2762\n",
            "Epoch 2/20\n",
            "50000/50000 [==============================] - 9s 186us/step - loss: 1.6378 - acc: 0.3932\n",
            "Epoch 3/20\n",
            "50000/50000 [==============================] - 11s 211us/step - loss: 1.5373 - acc: 0.4356\n",
            "Epoch 4/20\n",
            "50000/50000 [==============================] - 9s 189us/step - loss: 1.4815 - acc: 0.4589\n",
            "Epoch 5/20\n",
            "50000/50000 [==============================] - 9s 186us/step - loss: 1.4375 - acc: 0.4820\n",
            "Epoch 6/20\n",
            "50000/50000 [==============================] - 10s 199us/step - loss: 1.4188 - acc: 0.4913\n",
            "Epoch 7/20\n",
            "50000/50000 [==============================] - 10s 194us/step - loss: 1.3860 - acc: 0.5014\n",
            "Epoch 8/20\n",
            "50000/50000 [==============================] - 9s 187us/step - loss: 1.3760 - acc: 0.5097\n",
            "Epoch 9/20\n",
            "50000/50000 [==============================] - 9s 187us/step - loss: 1.3628 - acc: 0.5167\n",
            "Epoch 10/20\n",
            "50000/50000 [==============================] - 10s 192us/step - loss: 1.3534 - acc: 0.5220\n",
            "Epoch 11/20\n",
            "50000/50000 [==============================] - 10s 190us/step - loss: 1.3511 - acc: 0.5202\n",
            "Epoch 12/20\n",
            "50000/50000 [==============================] - 9s 188us/step - loss: 1.3426 - acc: 0.5246\n",
            "Epoch 13/20\n",
            "50000/50000 [==============================] - 10s 199us/step - loss: 1.3452 - acc: 0.5273\n",
            "Epoch 14/20\n",
            "50000/50000 [==============================] - 10s 193us/step - loss: 1.3299 - acc: 0.5295\n",
            "Epoch 15/20\n",
            "50000/50000 [==============================] - 10s 202us/step - loss: 1.3337 - acc: 0.5297\n",
            "Epoch 16/20\n",
            "50000/50000 [==============================] - 9s 189us/step - loss: 1.3174 - acc: 0.5361\n",
            "Epoch 17/20\n",
            "50000/50000 [==============================] - 9s 188us/step - loss: 1.3306 - acc: 0.5319\n",
            "Epoch 18/20\n",
            "50000/50000 [==============================] - 9s 187us/step - loss: 1.3207 - acc: 0.5373\n",
            "Epoch 19/20\n",
            "50000/50000 [==============================] - 9s 188us/step - loss: 1.3213 - acc: 0.5363\n",
            "Epoch 20/20\n",
            "50000/50000 [==============================] - 9s 189us/step - loss: 1.3160 - acc: 0.5366\n",
            "10000/10000 [==============================] - 1s 99us/step\n",
            "Acurácia: 61.97%\n",
            "\n",
            "Salvando o modelo...\n"
          ],
          "name": "stdout"
        }
      ]
    },
    {
      "metadata": {
        "id": "Ykott3isAwKz",
        "colab_type": "text"
      },
      "cell_type": "markdown",
      "source": [
        "## Faz download do arquivo de pesos do Modelo"
      ]
    },
    {
      "metadata": {
        "id": "EH5Z9oYe_hYL",
        "colab_type": "code",
        "colab": {}
      },
      "cell_type": "code",
      "source": [
        "#from google.colab import files \n",
        "#files.download(model_path)"
      ],
      "execution_count": 0,
      "outputs": []
    }
  ]
}