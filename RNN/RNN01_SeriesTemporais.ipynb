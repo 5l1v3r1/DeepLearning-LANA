{
  "nbformat": 4,
  "nbformat_minor": 0,
  "metadata": {
    "colab": {
      "name": "RNN01-SeriesTemporais.ipynb",
      "version": "0.3.2",
      "provenance": [],
      "collapsed_sections": [],
      "include_colab_link": true
    },
    "kernelspec": {
      "display_name": "Python 3",
      "language": "python",
      "name": "python3"
    }
  },
  "cells": [
    {
      "cell_type": "markdown",
      "metadata": {
        "id": "view-in-github",
        "colab_type": "text"
      },
      "source": [
        "<a href=\"https://colab.research.google.com/github/vladimiralencar/DeepLearning-LANA/blob/master/RNN/RNN01_SeriesTemporais.ipynb\" target=\"_parent\"><img src=\"https://colab.research.google.com/assets/colab-badge.svg\" alt=\"Open In Colab\"/></a>"
      ]
    },
    {
      "metadata": {
        "collapsed": true,
        "id": "4VUKCMBqmMTs",
        "colab_type": "text"
      },
      "cell_type": "markdown",
      "source": [
        "# Recurrent Neural Networks"
      ]
    },
    {
      "metadata": {
        "id": "NxDi2Mrdm3_4",
        "colab_type": "text"
      },
      "cell_type": "markdown",
      "source": [
        "## carga dos dados"
      ]
    },
    {
      "metadata": {
        "id": "xBFkKgirngDk",
        "colab_type": "code",
        "colab": {
          "base_uri": "https://localhost:8080/",
          "height": 136
        },
        "outputId": "c060a0cc-f15f-473a-8add-9fb55f21c58e"
      },
      "cell_type": "code",
      "source": [
        "# usando o Git para clonar o folder\n",
        "!rm -Rf DeepLearning-LANA\n",
        "!git clone https://github.com/vladimiralencar/DeepLearning-LANA.git"
      ],
      "execution_count": 33,
      "outputs": [
        {
          "output_type": "stream",
          "text": [
            "Cloning into 'DeepLearning-LANA'...\n",
            "remote: Enumerating objects: 53, done.\u001b[K\n",
            "remote: Counting objects:   1% (1/53)   \u001b[K\rremote: Counting objects:   3% (2/53)   \u001b[K\rremote: Counting objects:   5% (3/53)   \u001b[K\rremote: Counting objects:   7% (4/53)   \u001b[K\rremote: Counting objects:   9% (5/53)   \u001b[K\rremote: Counting objects:  11% (6/53)   \u001b[K\rremote: Counting objects:  13% (7/53)   \u001b[K\rremote: Counting objects:  15% (8/53)   \u001b[K\rremote: Counting objects:  16% (9/53)   \u001b[K\rremote: Counting objects:  18% (10/53)   \u001b[K\rremote: Counting objects:  20% (11/53)   \u001b[K\rremote: Counting objects:  22% (12/53)   \u001b[K\rremote: Counting objects:  24% (13/53)   \u001b[K\rremote: Counting objects:  26% (14/53)   \u001b[K\rremote: Counting objects:  28% (15/53)   \u001b[K\rremote: Counting objects:  30% (16/53)   \u001b[K\rremote: Counting objects:  32% (17/53)   \u001b[K\rremote: Counting objects:  33% (18/53)   \u001b[K\rremote: Counting objects:  35% (19/53)   \u001b[K\rremote: Counting objects:  37% (20/53)   \u001b[K\rremote: Counting objects:  39% (21/53)   \u001b[K\rremote: Counting objects:  41% (22/53)   \u001b[K\rremote: Counting objects:  43% (23/53)   \u001b[K\rremote: Counting objects:  45% (24/53)   \u001b[K\rremote: Counting objects:  47% (25/53)   \u001b[K\rremote: Counting objects:  49% (26/53)   \u001b[K\rremote: Counting objects:  50% (27/53)   \u001b[K\rremote: Counting objects:  52% (28/53)   \u001b[K\rremote: Counting objects:  54% (29/53)   \u001b[K\rremote: Counting objects:  56% (30/53)   \u001b[K\rremote: Counting objects:  58% (31/53)   \u001b[K\rremote: Counting objects:  60% (32/53)   \u001b[K\rremote: Counting objects:  62% (33/53)   \u001b[K\rremote: Counting objects:  64% (34/53)   \u001b[K\rremote: Counting objects:  66% (35/53)   \u001b[K\rremote: Counting objects:  67% (36/53)   \u001b[K\rremote: Counting objects:  69% (37/53)   \u001b[K\rremote: Counting objects:  71% (38/53)   \u001b[K\rremote: Counting objects:  73% (39/53)   \u001b[K\rremote: Counting objects:  75% (40/53)   \u001b[K\rremote: Counting objects:  77% (41/53)   \u001b[K\rremote: Counting objects:  79% (42/53)   \u001b[K\rremote: Counting objects:  81% (43/53)   \u001b[K\rremote: Counting objects:  83% (44/53)   \u001b[K\rremote: Counting objects:  84% (45/53)   \u001b[K\rremote: Counting objects:  86% (46/53)   \u001b[K\rremote: Counting objects:  88% (47/53)   \u001b[K\rremote: Counting objects:  90% (48/53)   \u001b[K\rremote: Counting objects:  92% (49/53)   \u001b[K\rremote: Counting objects:  94% (50/53)   \u001b[K\rremote: Counting objects:  96% (51/53)   \u001b[K\rremote: Counting objects:  98% (52/53)   \u001b[K\rremote: Counting objects: 100% (53/53)   \u001b[K\rremote: Counting objects: 100% (53/53), done.\u001b[K\n",
            "remote: Compressing objects: 100% (53/53), done.\u001b[K\n",
            "remote: Total 757 (delta 19), reused 0 (delta 0), pack-reused 704\u001b[K\n",
            "Receiving objects: 100% (757/757), 49.78 MiB | 43.16 MiB/s, done.\n",
            "Resolving deltas: 100% (316/316), done.\n"
          ],
          "name": "stdout"
        }
      ]
    },
    {
      "metadata": {
        "id": "Z8JjAMxWn3db",
        "colab_type": "code",
        "colab": {}
      },
      "cell_type": "code",
      "source": [
        "!cp -Rf DeepLearning-LANA/RNN/images images\n",
        "!cp -Rf DeepLearning-LANA/RNN/data data"
      ],
      "execution_count": 0,
      "outputs": []
    },
    {
      "metadata": {
        "id": "iUcNoGuEmMTw",
        "colab_type": "text"
      },
      "cell_type": "markdown",
      "source": [
        "Redes Neurais Recorrentes ou RNNs são um tipo especial de rede neural projetada para problemas sequenciais. Considerando uma rede padrão Multilayer Perceptron, uma rede neural recorrente pode ser pensada como a adição de loops à arquitetura. Por exemplo, em uma dada camada, cada neurônio pode passar seu sinal para frente (feed-forward) e também para o lado. \n",
        "\n",
        "Uma Rede Neural Recorrente é basicamente uma rede neural que pode ser usada quando seus dados são tratados como uma sequência, onde a ordem particular dos pontos de dados é importante e esta sequência pode ser de comprimento arbitrário.\n",
        "\n",
        "O exemplo mais claro é talvez uma série temporal de números, onde a tarefa é prever o próximo valor de acordo com valores anteriores. A entrada para a RNN em cada passo de tempo é o valor atual, bem como um vetor de estado que representa o que a rede \"viu\" no tempo - etapas anteriores. Este estado-vetor é a memória codificada da RNN, inicialmente definida como zero."
      ]
    },
    {
      "metadata": {
        "id": "HyE9XLk8x9E4",
        "colab_type": "text"
      },
      "cell_type": "markdown",
      "source": [
        "![rnn](https://raw.githubusercontent.com/vladimiralencar/DeepLearning-LANA/master/RNN/images/rnn01.png )"
      ]
    },
    {
      "metadata": {
        "id": "noRDOyVwxOyT",
        "colab_type": "text"
      },
      "cell_type": "markdown",
      "source": [
        "![](file/images/rnn01.png )"
      ]
    },
    {
      "metadata": {
        "id": "Iac6zYQtmMT0",
        "colab_type": "text"
      },
      "cell_type": "markdown",
      "source": [
        "## Sequências\n",
        "\n",
        "Mas você pode estar se perguntando: o que torna a Recurrent Neural Network tão especial? Uma limitação flagrante das Redes Neurais clássicas (e também das Redes Convolucionais) é que seu modelo é muito restrito: eles aceitam um vetor de tamanho fixo como entrada (por exemplo, uma imagem) e produzem um vetor de tamanho fixo como saída (por exemplo, probabilidades de diferentes classes ). Não só isso: esses modelos executam esse mapeamento usando uma quantidade fixa de etapas computacionais (por exemplo, o número de camadas no modelo). A principal razão pela qual as redes recorrentes são mais eficientes é que elas nos permitem operar sobre sequências de vetores: sequências na entrada, na saída ou no caso mais geral em ambos. Alguns exemplos podem tornar isso mais concreto:\n",
        "\n",
        "![RNN](https://github.com/vladimiralencar/DeepLearning-LANA/raw/master/RNN/images/diags.jpeg \"RNN\")\n"
      ]
    },
    {
      "metadata": {
        "id": "1Lhk8B_CmMT1",
        "colab_type": "text"
      },
      "cell_type": "markdown",
      "source": [
        "Existem alguns tipos de problemas que são melhor enquadrados envolvendo uma sequência como entrada ou\n",
        "uma saída. Por exemplo, considere um problema de séries temporais univariadas, como o preço de ações ns bolsas de valores ao longo do tempo. Este conjunto de dados pode ser enquadrado como um problema de previsão para uma Rede Multilayer Perceptron clássica, definindo um tamanho de janela (por exemplo, 5) e treinando a rede para aprender a fazer previsões de curto prazo a partir da janela de entrada de tamanho x."
      ]
    },
    {
      "metadata": {
        "id": "Rwnv9967mMT3",
        "colab_type": "text"
      },
      "cell_type": "markdown",
      "source": [
        "Isso funcionaria, mas é muito limitado. A janela de entradas adiciona memória ao problema, mas é limitado a apenas um número x de pontos e deve ser escolhido com um conhecimento adequado do problema. Um valor de janela inadequado não capturaria as tendências mais amplas em minutos, horas e dias que podem ser relevantes para fazer uma previsão. De uma previsão para a próxima, a rede só conhece as entradas especificadas que são fornecidas. \n",
        "\n",
        "Consideremos a seguinte taxonomia de problemas de sequência que requerem um mapeamento de uma entrada para um resultado:\n",
        "\n",
        "* One-to-Many: saída de sequência, usada para gerar legendas para imagens em vídeos.\n",
        "* Many-to-One: entrada de sequência, para classificação de sentimento.\n",
        "* Many-to-Many: sequência de entrada e saída, para tradução automática.\n",
        "* Synchronized Many-to-Many: sequências sincronizadas de entrada e saída, para classificar vídeo."
      ]
    },
    {
      "metadata": {
        "id": "N07otJe_mMT4",
        "colab_type": "text"
      },
      "cell_type": "markdown",
      "source": [
        "## Como Treinar Redes Neurais Recorrentes (BPTT ou BackPropagation Through Time)\n",
        "\n",
        "\n",
        "A RNN consiste em um grupo de unidades de entrada rotuladas (representada pela letra u neste diagrama) e unidades de saída rotuladas (representadas pela letra y neste diagrama). Existem também as unidades ocultas que fazem a maior parte do trabalho interessante. Você pode notar que a ilustração mostra um fluxo unidirecional de informações das unidades de entrada para as unidades ocultas, bem como outro fluxo unidirecional de informações das unidades ocultas para as unidades de saída. Entretanto, existem conexões cíclicas nas camadas ocultas, que é exatamente a arquitetura de RNN’s. Em alguns casos, as RNNs quebram as restrições com conexões que conduzem das unidades de saída de volta para as unidades ocultas. Estes são chamados \"backprojections\", e fazem a análise de RNNs muito mais complexa. As mesmas técnicas que discutimos aqui também se aplicam a RNNs com backprojections. Existem muitas dificuldades técnicas envolvidas no treinamento redes neurais recorrentes, e ainda é uma área muito ativa em pesquisa. \n",
        "\n",
        "![RNN](https://raw.githubusercontent.com/vladimiralencar/DeepLearning-LANA/master/RNN/images/rnn02.png \"RNN\")\n",
        "\n",
        "Em um modelo Multiplayer Perceptron clássico, o erro da rede é retro-propagado e usado para atualizar os pesos da rede. Entretanto, essa mesma estratégia em uma rede neural recorrente provoca 2 possíveis consequências com o gradiente: tende ao infinito, quando o valor é muito grande, ou a degradação, quando o valor é muito pequeno, devido as conexões recorrentes. Ambos os casos são problemas, mas foram resolvidos (ou amenizados) com uma modificação na técnica de Backpropagation chamada BPTT ou BackPropagation Through Time.\n",
        "\n",
        "Uma vez definida a arquitetura da RNN, é possível iniciar o treinamento por meio da minimização de uma função de custo J. Nesse caso, uma variante do algoritmo backpropagation é utilizada, a denominada retropropagação através do tempo (Backpropagation Through Time, BPTT). O BPTT pode ser entendido se considerarmos que uma RNN corresponde a uma rede alimentada adiante (ou feed forward) com uma camada para cada passo de tempo e na qual a matriz de pesos de cada camada é a mesma, se considerarmos o desdobramento da rede através do tempo. (Aliás, é dessa perspectiva que se originou o nome do algoritmo BPTT.) Dessa forma, após o fornecimento da sequência de entrada, os gradientes são calculados (da mesma maneira que nas redes feed-forward) e posteriormente alterados para manter a restrição de igualdade da matriz de pesos em cada camada oculta. \n",
        "\n",
        "![BPTT](https://raw.githubusercontent.com/vladimiralencar/DeepLearning-LANA/master/RNN/images/BPTT.png \"BPTT\")"
      ]
    },
    {
      "metadata": {
        "collapsed": true,
        "id": "Gz13Kjq4mMT5",
        "colab_type": "text"
      },
      "cell_type": "markdown",
      "source": [
        "## Como Obter Gradientes Estáveis Durante o Treinamento da RNN\n",
        "\n",
        "Quando Backpropagation é usado em redes neurais profundas e redes neurais recorrentes, os gradientes que são calculados para atualizar os pesos podem ser tornar instáveis. Os gradientes podem assumir valores muito grandes, levando ao que chamados de \"explosão dos gradientes\" ou valores muitos pequenos, levando ao que chamamos de \"degradação dos gradientes\" (Vanishing Gradient). Ambos os casos são ruins e tornam o treinamento instável e a rede com previsões não confiáveis.\n",
        "\n",
        "Este problema é aliviado em redes neurais profundas através do uso da função de ativação ReLu e com o uso de técnicas mais exóticas e menos populares como o uso de Pré-treinamento não supervisionado de camadas. Nas arquiteturas redes neurais recorrentes, esse problema foi amenizado usando um novo tipo de arquitetura chamada Long Short-Term Memory Networks (LSTMs) que permite a formação de redes recorrentes profundas."
      ]
    },
    {
      "metadata": {
        "collapsed": true,
        "id": "CfOWqdftmMT7",
        "colab_type": "text"
      },
      "cell_type": "markdown",
      "source": [
        "## LSTMs\n",
        "\n",
        "A principal característica das RNNs para a classificação de sequências é a habilidade de usar informação contextual para realizar o mapeamento entre as entradas e as saídas. O problema é que a influência de uma entrada na camada intermediária e, consequentemente, na camada de saída, ou cresce exponencialmente ou é diluída enquanto circula pelas conexões recorrentes da rede. Conhecidos como problemas de explosão do gradiente e dissipação do gradiente (vanishing gradient problem), eles tornam difícil para RNNs aprender tarefas que contenham mais que dez atrasos no tempo (timesteps) entre a apresentação de entradas relevantes e eventos esperados. Neste diagrama é possível observar a dissipação do gradiente com o tempo. À medida que novas entradas são apresentadas à rede, a ativação da camada intermediária é sobrescrita e a rede ”esquece‟ as primeiras entradas. Dentre várias soluções propostas para reduzir os impactos da dissipação do gradiente em RNNs, a solução mais efetiva é a arquitetura Long Short-Term Memory (LSTM).\n",
        "\n",
        "![RNN](https://raw.githubusercontent.com/vladimiralencar/DeepLearning-LANA/master/RNN/images/rnn03.png \"RNN\")\n",
        "\n",
        "As Long Short-Term Memory Networks (LSTMs) são redes neurais recorrentes treinadas usando a retro-propagação ao longo do tempo (BPTT) e ajudam a superar o problema da degradação do gradiente. Assim sendo, essa arquitetura pode ser usada para criar redes recorrentes grandes (empilhadas), que, por sua vez, podem ser usadas para endereçar problemas de sequência e obter resultados de ponta. \n",
        "\n",
        "Ao invés de neurônios, as redes LSTM possuem blocos de memória conectados em camadas. Um bloco tem componentes que o tornam mais inteligente do que um neurônio clássico e uma memória para sequências recentes. Um bloco contém \"portões\" que gerenciam o estado e a saída do bloco. Uma unidade opera em uma sequência de entrada e cada portão dentro de uma unidade usa a função de ativação sigmoid para controlar se eles são acionados ou não, fazendo a mudança de estado e adição de informação. Existem três tipos de portões dentro de uma unidade de memória:\n",
        "\n",
        "* Forget Gate: condicionalmente decide que informação deve ser descartada da unidade.\n",
        "* Input Gate: condicionalmente decide que valores do input que devem ter o estado de memória atualizado.\n",
        "* Output Gate: condicionalmente decide o que gerar como output com base no input e na memória da unidade.\n",
        "\n",
        "![LSTM](https://raw.githubusercontent.com/vladimiralencar/DeepLearning-LANA/master/RNN/images/lstm.jpg \"LSTM\")\n",
        "\n",
        "A arquitetura LSTM consiste de um conjunto de sub-redes conectadas recorrentemente. Essas sub-redes, chamadas de blocos de memória, podem ser consideradas uma metáfora de chips de memória. Cada bloco possui uma ou mais células de memória autoconectadas e três unidades de multiplicação que definem a operação que deve ser realizada, as portas de entrada, saída e de esquecimento. Voltando à analogia com chips de memória, essas operações podem ser interpretadas como as operações de escrita, leitura e de limpeza (reset) dos circuitos.\n",
        "\n",
        "A única diferença estrutural de uma rede LSTM para uma RNN é que os elementos da camada intermediária deixam de ser neurônios com funções de ativação não lineares e passam a ser blocos de memória. O chaveamento das portas permite preservar a informação do bloco por muito tempo, evitando o problema da degradação do gradiente. Enquanto a porta de entrada estiver fechada, a ativação da célula de informação não será alterada, podendo ser acessada em um outro momento ativando a porta de saída. A informação é mantida na célula através de uma conexão recorrente de peso 1.\n",
        "\n",
        "![RNN](https://raw.githubusercontent.com/vladimiralencar/DeepLearning-LANA/master/RNN/images/rnn04.png \"RNN\")\n",
        "\n",
        "A Rede LSTM preserva o gradiente da informação como ilustrado nesse diagrama. A sensibilidade do bloco de memória pode ser controlada pela porta de saída sem afetar a célula de informação do bloco. Por fim, a entrada só afeta a informação quando a porta de entrada está aberta.\n",
        "\n",
        "Cada unidade é como uma mini-máquina de estado onde os portões das unidades têm pesos que são aprendidos durante o procedimento de treinamento. Isso permite uma aprendizagem sofisticada e memória em cada uma das camadas de LSTMs, e não é difícil imaginar abstrações de ordem superior quando utilizadas várias camadas."
      ]
    },
    {
      "metadata": {
        "id": "p--4_UfRmMT8",
        "colab_type": "text"
      },
      "cell_type": "markdown",
      "source": [
        "## Prevendo Séries Temporais com Multilayer Perceptron\n",
        "\n",
        "A previsão de séries temporais é um problema difícil para o aprendizado da máquina.\n",
        "\n",
        "O problema que vamos analisar é a previsão dos passageiros das companhias aéreas internacionais. Este é um problema em que, dado um ano e um mês, a tarefa é prever o número de passageiros das linhas aéreas internacionais em unidades de 1.000. Os dados variam de janeiro de 1949 a dezembro 1960 ou 12 anos, com 144 observações. O conjunto de dados está disponível gratuitamente no DataMarket, aqui: https://datamarket.com/data/set/22u3/international-airline-passengers-monthly-totals-in-thousands-jan-49-dec-60#!ds=22u3&display=line, com o nome internacional-companhia aérea-passageiros.csv (você encontra o arquivo em anexo com o nome passageiros.csv). "
      ]
    },
    {
      "metadata": {
        "id": "IVPBgxxsmMT-",
        "colab_type": "code",
        "colab": {
          "base_uri": "https://localhost:8080/",
          "height": 34
        },
        "outputId": "9d88b571-55f5-45e8-d645-87f40ad7034e"
      },
      "cell_type": "code",
      "source": [
        "# Imports\n",
        "import math\n",
        "import pandas\n",
        "import numpy\n",
        "import matplotlib.pyplot as plt\n",
        "from keras.models import Sequential\n",
        "from keras.layers import Dense"
      ],
      "execution_count": 35,
      "outputs": [
        {
          "output_type": "stream",
          "text": [
            "Using TensorFlow backend.\n"
          ],
          "name": "stderr"
        }
      ]
    },
    {
      "metadata": {
        "id": "_1vF326wmMUG",
        "colab_type": "code",
        "colab": {}
      },
      "cell_type": "code",
      "source": [
        "# Random seed \n",
        "numpy.random.seed(7)"
      ],
      "execution_count": 0,
      "outputs": []
    },
    {
      "metadata": {
        "id": "GTJxB13GmMUJ",
        "colab_type": "code",
        "colab": {
          "base_uri": "https://localhost:8080/",
          "height": 68
        },
        "outputId": "a037fd2a-3ef5-442b-8b85-3794d6a8b395"
      },
      "cell_type": "code",
      "source": [
        "# Carregando os dados\n",
        "# Podemos carregar este conjunto de dados facilmente usando a biblioteca Pandas. Não estamos interessados na data,\n",
        "# pois que cada observação é separada pelo mesmo intervalo de um mês. Portanto, quando\n",
        "# carregamos o conjunto de dados, podemos excluir a primeira coluna. O conjunto de dados baixado também tem rodapé\n",
        "# com informações que podemos excluir com o argumento skipfooter para pandas.read_csv() \n",
        "# Uma vez carregado, podemos plotar facilmente todo o conjunto de dados. \n",
        "dataframe = pandas.read_csv('data/passageiros.csv', usecols = [1], engine = 'python', skipfooter = 3)\n",
        "dataset = dataframe.values\n",
        "dataset = dataset.astype('float32')\n",
        "dataset[:3]"
      ],
      "execution_count": 37,
      "outputs": [
        {
          "output_type": "execute_result",
          "data": {
            "text/plain": [
              "array([[112.],\n",
              "       [118.],\n",
              "       [132.]], dtype=float32)"
            ]
          },
          "metadata": {
            "tags": []
          },
          "execution_count": 37
        }
      ]
    },
    {
      "metadata": {
        "id": "GkMGiVhwmMUN",
        "colab_type": "code",
        "colab": {
          "base_uri": "https://localhost:8080/",
          "height": 347
        },
        "outputId": "acd022e4-8641-453c-8d32-a8615b8022e1"
      },
      "cell_type": "code",
      "source": [
        "plt.plot(dataset)\n",
        "plt.show()"
      ],
      "execution_count": 38,
      "outputs": [
        {
          "output_type": "display_data",
          "data": {
            "image/png": "[encoded data removed]",
            "text/plain": [
              "<Figure size 576x396 with 1 Axes>"
            ]
          },
          "metadata": {
            "tags": []
          }
        }
      ]
    },
    {
      "metadata": {
        "id": "ePzO_zzAmMUQ",
        "colab_type": "code",
        "colab": {
          "base_uri": "https://localhost:8080/",
          "height": 34
        },
        "outputId": "79a3dff8-ff44-4e4e-ce4b-634e51435500"
      },
      "cell_type": "code",
      "source": [
        "# Split em treino e teste\n",
        "# Separa os dados em 67% das observações que podemos usar para treinamento do nosso modelo, deixando os 33% \n",
        "# restantes para testar o modelo.\n",
        "train_size = int(len(dataset) * 0.67)\n",
        "test_size = len(dataset) - train_size\n",
        "train, test = dataset[0:train_size,:], dataset[train_size:len(dataset),:]\n",
        "print(len(train), len(test))"
      ],
      "execution_count": 39,
      "outputs": [
        {
          "output_type": "stream",
          "text": [
            "96 48\n"
          ],
          "name": "stdout"
        }
      ]
    },
    {
      "metadata": {
        "id": "wLK0F092mMUT",
        "colab_type": "code",
        "colab": {}
      },
      "cell_type": "code",
      "source": [
        "# Agora podemos definir uma função para criar um novo conjunto de dados como descrito acima. A função\n",
        "# recebe 2 argumentos: o conjunto de dados, que é um array NumPy que queremos converter em um dataset e\n",
        "# look back que é o número de etapas de tempo anteriores para usar como variáveis de entrada para prever\n",
        "# O próximo período de tempo, neste caso, definido como 1. Esse padrão criará um conjunto de dados onde X é\n",
        "# o número de passageiros em um determinado momento (t) e Y é o número de passageiros no próximo\n",
        "# momento (t + 1). \n",
        "def create_dataset(dataset, look_back = 1):\n",
        "    dataX, dataY = [], []\n",
        "    for i in range(len(dataset)-look_back-1):\n",
        "        a = dataset[i:(i+look_back), 0]\n",
        "        dataX.append(a)\n",
        "        dataY.append(dataset[i + look_back, 0])\n",
        "    return numpy.array(dataX), numpy.array(dataY)"
      ],
      "execution_count": 0,
      "outputs": []
    },
    {
      "metadata": {
        "id": "JkRah1RhmMUW",
        "colab_type": "code",
        "colab": {
          "base_uri": "https://localhost:8080/",
          "height": 119
        },
        "outputId": "08b113ce-7127-46a0-fbed-7d50049d7662"
      },
      "cell_type": "code",
      "source": [
        "# Reshape em X = t e Y = t + 1\n",
        "look_back = 1\n",
        "trainX, trainY = create_dataset(train, look_back)\n",
        "testX, testY = create_dataset(test, look_back)\n",
        "\n",
        "# Imprimindo dataset de treino\n",
        "print(trainX[0:1], trainY[0:1])\n",
        "print(trainX[1], trainY[1])\n",
        "print(trainX[2], trainY[2])\n",
        "\n",
        "# Imprimindo dataset original\n",
        "print(\"\\n\", dataset[0:2])"
      ],
      "execution_count": 41,
      "outputs": [
        {
          "output_type": "stream",
          "text": [
            "[[112.]] [118.]\n",
            "[118.] 132.0\n",
            "[132.] 129.0\n",
            "\n",
            " [[112.]\n",
            " [118.]]\n"
          ],
          "name": "stdout"
        }
      ]
    },
    {
      "metadata": {
        "id": "VHtL8g1YmMUa",
        "colab_type": "code",
        "colab": {
          "base_uri": "https://localhost:8080/",
          "height": 204
        },
        "outputId": "78b942f7-12d8-45a3-f001-c003ae16871b"
      },
      "cell_type": "code",
      "source": [
        "# Cria o modelo MLP com 1 input, 1 camada oculta com 8 neurônios e uma camada de saída\n",
        "model = Sequential()\n",
        "\n",
        "# Camada oculta\n",
        "model.add(Dense(8, input_dim = look_back, activation = 'relu'))\n",
        "\n",
        "# Camada de saída\n",
        "model.add(Dense(1))\n",
        "\n",
        "# Compilação\n",
        "model.compile(loss = 'mean_squared_error', optimizer = 'adam')\n",
        "\n",
        "model.summary()"
      ],
      "execution_count": 42,
      "outputs": [
        {
          "output_type": "stream",
          "text": [
            "_________________________________________________________________\n",
            "Layer (type)                 Output Shape              Param #   \n",
            "=================================================================\n",
            "dense_1 (Dense)              (None, 8)                 16        \n",
            "_________________________________________________________________\n",
            "dense_2 (Dense)              (None, 1)                 9         \n",
            "=================================================================\n",
            "Total params: 25\n",
            "Trainable params: 25\n",
            "Non-trainable params: 0\n",
            "_________________________________________________________________\n"
          ],
          "name": "stdout"
        }
      ]
    },
    {
      "metadata": {
        "id": "lXXBWWmwmMUf",
        "colab_type": "code",
        "colab": {
          "base_uri": "https://localhost:8080/",
          "height": 6834
        },
        "outputId": "c1c55b01-2380-4234-fc67-51bed93820a6"
      },
      "cell_type": "code",
      "source": [
        "# Fit do modelo\n",
        "model.fit(trainX, trainY, epochs = 200, batch_size = 2, verbose = 2)"
      ],
      "execution_count": 43,
      "outputs": [
        {
          "output_type": "stream",
          "text": [
            "Epoch 1/200\n",
            " - 0s - loss: 47508.4007\n",
            "Epoch 2/200\n",
            " - 0s - loss: 41619.7269\n",
            "Epoch 3/200\n",
            " - 0s - loss: 35679.2465\n",
            "Epoch 4/200\n",
            " - 0s - loss: 29483.2489\n",
            "Epoch 5/200\n",
            " - 0s - loss: 23408.4911\n",
            "Epoch 6/200\n",
            " - 0s - loss: 17716.2595\n",
            "Epoch 7/200\n",
            " - 0s - loss: 12774.5300\n",
            "Epoch 8/200\n",
            " - 0s - loss: 8680.7539\n",
            "Epoch 9/200\n",
            " - 0s - loss: 5586.8180\n",
            "Epoch 10/200\n",
            " - 0s - loss: 3433.8162\n",
            "Epoch 11/200\n",
            " - 0s - loss: 2067.8225\n",
            "Epoch 12/200\n",
            " - 0s - loss: 1289.9466\n",
            "Epoch 13/200\n",
            " - 0s - loss: 867.1934\n",
            "Epoch 14/200\n",
            " - 0s - loss: 675.0437\n",
            "Epoch 15/200\n",
            " - 0s - loss: 585.1635\n",
            "Epoch 16/200\n",
            " - 0s - loss: 555.1286\n",
            "Epoch 17/200\n",
            " - 0s - loss: 546.7035\n",
            "Epoch 18/200\n",
            " - 0s - loss: 547.3941\n",
            "Epoch 19/200\n",
            " - 0s - loss: 538.8365\n",
            "Epoch 20/200\n",
            " - 0s - loss: 538.5330\n",
            "Epoch 21/200\n",
            " - 0s - loss: 536.9799\n",
            "Epoch 22/200\n",
            " - 0s - loss: 536.0264\n",
            "Epoch 23/200\n",
            " - 0s - loss: 537.1216\n",
            "Epoch 24/200\n",
            " - 0s - loss: 535.7811\n",
            "Epoch 25/200\n",
            " - 0s - loss: 538.2071\n",
            "Epoch 26/200\n",
            " - 0s - loss: 538.4691\n",
            "Epoch 27/200\n",
            " - 0s - loss: 538.2263\n",
            "Epoch 28/200\n",
            " - 0s - loss: 537.3778\n",
            "Epoch 29/200\n",
            " - 0s - loss: 538.2790\n",
            "Epoch 30/200\n",
            " - 0s - loss: 539.0508\n",
            "Epoch 31/200\n",
            " - 0s - loss: 536.2924\n",
            "Epoch 32/200\n",
            " - 0s - loss: 538.9996\n",
            "Epoch 33/200\n",
            " - 0s - loss: 536.8484\n",
            "Epoch 34/200\n",
            " - 0s - loss: 539.1768\n",
            "Epoch 35/200\n",
            " - 0s - loss: 537.3486\n",
            "Epoch 36/200\n",
            " - 0s - loss: 538.6015\n",
            "Epoch 37/200\n",
            " - 0s - loss: 538.0597\n",
            "Epoch 38/200\n",
            " - 0s - loss: 541.0648\n",
            "Epoch 39/200\n",
            " - 0s - loss: 538.1934\n",
            "Epoch 40/200\n",
            " - 0s - loss: 536.2551\n",
            "Epoch 41/200\n",
            " - 0s - loss: 536.8784\n",
            "Epoch 42/200\n",
            " - 0s - loss: 538.0651\n",
            "Epoch 43/200\n",
            " - 0s - loss: 542.7794\n",
            "Epoch 44/200\n",
            " - 0s - loss: 538.2570\n",
            "Epoch 45/200\n",
            " - 0s - loss: 537.6717\n",
            "Epoch 46/200\n",
            " - 0s - loss: 541.4269\n",
            "Epoch 47/200\n",
            " - 0s - loss: 540.7005\n",
            "Epoch 48/200\n",
            " - 0s - loss: 540.6754\n",
            "Epoch 49/200\n",
            " - 0s - loss: 535.4641\n",
            "Epoch 50/200\n",
            " - 0s - loss: 539.8957\n",
            "Epoch 51/200\n",
            " - 0s - loss: 538.1552\n",
            "Epoch 52/200\n",
            " - 0s - loss: 535.3372\n",
            "Epoch 53/200\n",
            " - 0s - loss: 536.7883\n",
            "Epoch 54/200\n",
            " - 0s - loss: 542.9255\n",
            "Epoch 55/200\n",
            " - 0s - loss: 537.2205\n",
            "Epoch 56/200\n",
            " - 0s - loss: 541.2052\n",
            "Epoch 57/200\n",
            " - 0s - loss: 549.5499\n",
            "Epoch 58/200\n",
            " - 0s - loss: 544.1294\n",
            "Epoch 59/200\n",
            " - 0s - loss: 540.0605\n",
            "Epoch 60/200\n",
            " - 0s - loss: 540.7276\n",
            "Epoch 61/200\n",
            " - 0s - loss: 540.3394\n",
            "Epoch 62/200\n",
            " - 0s - loss: 543.9002\n",
            "Epoch 63/200\n",
            " - 0s - loss: 537.8550\n",
            "Epoch 64/200\n",
            " - 0s - loss: 540.4988\n",
            "Epoch 65/200\n",
            " - 0s - loss: 537.9608\n",
            "Epoch 66/200\n",
            " - 0s - loss: 538.8402\n",
            "Epoch 67/200\n",
            " - 0s - loss: 549.7356\n",
            "Epoch 68/200\n",
            " - 0s - loss: 558.7591\n",
            "Epoch 69/200\n",
            " - 0s - loss: 537.8382\n",
            "Epoch 70/200\n",
            " - 0s - loss: 537.5487\n",
            "Epoch 71/200\n",
            " - 0s - loss: 543.5074\n",
            "Epoch 72/200\n",
            " - 0s - loss: 540.4278\n",
            "Epoch 73/200\n",
            " - 0s - loss: 540.0841\n",
            "Epoch 74/200\n",
            " - 0s - loss: 538.8077\n",
            "Epoch 75/200\n",
            " - 0s - loss: 540.9865\n",
            "Epoch 76/200\n",
            " - 0s - loss: 537.0859\n",
            "Epoch 77/200\n",
            " - 0s - loss: 540.0613\n",
            "Epoch 78/200\n",
            " - 0s - loss: 535.3520\n",
            "Epoch 79/200\n",
            " - 0s - loss: 541.5875\n",
            "Epoch 80/200\n",
            " - 0s - loss: 540.8622\n",
            "Epoch 81/200\n",
            " - 0s - loss: 537.5923\n",
            "Epoch 82/200\n",
            " - 0s - loss: 536.5656\n",
            "Epoch 83/200\n",
            " - 0s - loss: 549.5640\n",
            "Epoch 84/200\n",
            " - 0s - loss: 545.8237\n",
            "Epoch 85/200\n",
            " - 0s - loss: 538.5535\n",
            "Epoch 86/200\n",
            " - 0s - loss: 538.1977\n",
            "Epoch 87/200\n",
            " - 0s - loss: 537.5310\n",
            "Epoch 88/200\n",
            " - 0s - loss: 539.7140\n",
            "Epoch 89/200\n",
            " - 0s - loss: 541.6897\n",
            "Epoch 90/200\n",
            " - 0s - loss: 548.9246\n",
            "Epoch 91/200\n",
            " - 0s - loss: 543.7336\n",
            "Epoch 92/200\n",
            " - 0s - loss: 540.1121\n",
            "Epoch 93/200\n",
            " - 0s - loss: 538.2211\n",
            "Epoch 94/200\n",
            " - 0s - loss: 536.7752\n",
            "Epoch 95/200\n",
            " - 0s - loss: 543.4008\n",
            "Epoch 96/200\n",
            " - 0s - loss: 538.1060\n",
            "Epoch 97/200\n",
            " - 0s - loss: 539.9245\n",
            "Epoch 98/200\n",
            " - 0s - loss: 537.8861\n",
            "Epoch 99/200\n",
            " - 0s - loss: 541.8804\n",
            "Epoch 100/200\n",
            " - 0s - loss: 538.2108\n",
            "Epoch 101/200\n",
            " - 0s - loss: 537.9103\n",
            "Epoch 102/200\n",
            " - 0s - loss: 536.2737\n",
            "Epoch 103/200\n",
            " - 0s - loss: 542.0658\n",
            "Epoch 104/200\n",
            " - 0s - loss: 534.6673\n",
            "Epoch 105/200\n",
            " - 0s - loss: 542.8567\n",
            "Epoch 106/200\n",
            " - 0s - loss: 540.4588\n",
            "Epoch 107/200\n",
            " - 0s - loss: 538.4264\n",
            "Epoch 108/200\n",
            " - 0s - loss: 541.5720\n",
            "Epoch 109/200\n",
            " - 0s - loss: 536.9202\n",
            "Epoch 110/200\n",
            " - 0s - loss: 541.7027\n",
            "Epoch 111/200\n",
            " - 0s - loss: 537.9530\n",
            "Epoch 112/200\n",
            " - 0s - loss: 540.5572\n",
            "Epoch 113/200\n",
            " - 0s - loss: 539.6316\n",
            "Epoch 114/200\n",
            " - 0s - loss: 534.2773\n",
            "Epoch 115/200\n",
            " - 0s - loss: 544.9197\n",
            "Epoch 116/200\n",
            " - 0s - loss: 538.8416\n",
            "Epoch 117/200\n",
            " - 0s - loss: 539.7733\n",
            "Epoch 118/200\n",
            " - 0s - loss: 539.0309\n",
            "Epoch 119/200\n",
            " - 0s - loss: 540.0624\n",
            "Epoch 120/200\n",
            " - 0s - loss: 538.5754\n",
            "Epoch 121/200\n",
            " - 0s - loss: 539.9150\n",
            "Epoch 122/200\n",
            " - 0s - loss: 539.8791\n",
            "Epoch 123/200\n",
            " - 0s - loss: 538.2963\n",
            "Epoch 124/200\n",
            " - 0s - loss: 537.4977\n",
            "Epoch 125/200\n",
            " - 0s - loss: 546.9339\n",
            "Epoch 126/200\n",
            " - 0s - loss: 534.9721\n",
            "Epoch 127/200\n",
            " - 0s - loss: 538.2620\n",
            "Epoch 128/200\n",
            " - 0s - loss: 542.0788\n",
            "Epoch 129/200\n",
            " - 0s - loss: 540.1603\n",
            "Epoch 130/200\n",
            " - 0s - loss: 540.9398\n",
            "Epoch 131/200\n",
            " - 0s - loss: 540.5174\n",
            "Epoch 132/200\n",
            " - 0s - loss: 541.9304\n",
            "Epoch 133/200\n",
            " - 0s - loss: 546.7696\n",
            "Epoch 134/200\n",
            " - 0s - loss: 536.5135\n",
            "Epoch 135/200\n",
            " - 0s - loss: 537.8885\n",
            "Epoch 136/200\n",
            " - 0s - loss: 546.7965\n",
            "Epoch 137/200\n",
            " - 0s - loss: 539.0933\n",
            "Epoch 138/200\n",
            " - 0s - loss: 543.9658\n",
            "Epoch 139/200\n",
            " - 0s - loss: 540.2033\n",
            "Epoch 140/200\n",
            " - 0s - loss: 554.7346\n",
            "Epoch 141/200\n",
            " - 0s - loss: 535.4820\n",
            "Epoch 142/200\n",
            " - 0s - loss: 539.8002\n",
            "Epoch 143/200\n",
            " - 0s - loss: 535.6922\n",
            "Epoch 144/200\n",
            " - 0s - loss: 536.6486\n",
            "Epoch 145/200\n",
            " - 0s - loss: 540.3597\n",
            "Epoch 146/200\n",
            " - 0s - loss: 547.7704\n",
            "Epoch 147/200\n",
            " - 0s - loss: 546.7942\n",
            "Epoch 148/200\n",
            " - 0s - loss: 542.7994\n",
            "Epoch 149/200\n",
            " - 0s - loss: 538.0800\n",
            "Epoch 150/200\n",
            " - 0s - loss: 539.9113\n",
            "Epoch 151/200\n",
            " - 0s - loss: 538.2345\n",
            "Epoch 152/200\n",
            " - 0s - loss: 542.6562\n",
            "Epoch 153/200\n",
            " - 0s - loss: 542.0499\n",
            "Epoch 154/200\n",
            " - 0s - loss: 534.9969\n",
            "Epoch 155/200\n",
            " - 0s - loss: 541.8801\n",
            "Epoch 156/200\n",
            " - 0s - loss: 535.1741\n",
            "Epoch 157/200\n",
            " - 0s - loss: 543.3243\n",
            "Epoch 158/200\n",
            " - 0s - loss: 544.6591\n",
            "Epoch 159/200\n",
            " - 0s - loss: 536.2710\n",
            "Epoch 160/200\n",
            " - 0s - loss: 537.5012\n",
            "Epoch 161/200\n",
            " - 0s - loss: 536.8787\n",
            "Epoch 162/200\n",
            " - 0s - loss: 561.2327\n",
            "Epoch 163/200\n",
            " - 0s - loss: 548.3070\n",
            "Epoch 164/200\n",
            " - 0s - loss: 537.9430\n",
            "Epoch 165/200\n",
            " - 0s - loss: 537.0721\n",
            "Epoch 166/200\n",
            " - 0s - loss: 540.8812\n",
            "Epoch 167/200\n",
            " - 0s - loss: 535.9839\n",
            "Epoch 168/200\n",
            " - 0s - loss: 540.2038\n",
            "Epoch 169/200\n",
            " - 0s - loss: 537.2612\n",
            "Epoch 170/200\n",
            " - 0s - loss: 550.7930\n",
            "Epoch 171/200\n",
            " - 0s - loss: 541.4729\n",
            "Epoch 172/200\n",
            " - 0s - loss: 540.1924\n",
            "Epoch 173/200\n",
            " - 0s - loss: 547.6943\n",
            "Epoch 174/200\n",
            " - 0s - loss: 542.1946\n",
            "Epoch 175/200\n",
            " - 0s - loss: 537.1701\n",
            "Epoch 176/200\n",
            " - 0s - loss: 541.2272\n",
            "Epoch 177/200\n",
            " - 0s - loss: 533.9240\n",
            "Epoch 178/200\n",
            " - 0s - loss: 536.9766\n",
            "Epoch 179/200\n",
            " - 0s - loss: 538.5021\n",
            "Epoch 180/200\n",
            " - 0s - loss: 542.0446\n",
            "Epoch 181/200\n",
            " - 0s - loss: 555.3935\n",
            "Epoch 182/200\n",
            " - 0s - loss: 541.5838\n",
            "Epoch 183/200\n",
            " - 0s - loss: 535.3346\n",
            "Epoch 184/200\n",
            " - 0s - loss: 534.6166\n",
            "Epoch 185/200\n",
            " - 0s - loss: 556.3773\n",
            "Epoch 186/200\n",
            " - 0s - loss: 536.3123\n",
            "Epoch 187/200\n",
            " - 0s - loss: 536.3267\n",
            "Epoch 188/200\n",
            " - 0s - loss: 539.2416\n",
            "Epoch 189/200\n",
            " - 0s - loss: 541.8297\n",
            "Epoch 190/200\n",
            " - 0s - loss: 539.0215\n",
            "Epoch 191/200\n",
            " - 0s - loss: 537.5241\n",
            "Epoch 192/200\n",
            " - 0s - loss: 539.5372\n",
            "Epoch 193/200\n",
            " - 0s - loss: 546.4690\n",
            "Epoch 194/200\n",
            " - 0s - loss: 542.1809\n",
            "Epoch 195/200\n",
            " - 0s - loss: 535.3081\n",
            "Epoch 196/200\n",
            " - 0s - loss: 551.2705\n",
            "Epoch 197/200\n",
            " - 0s - loss: 543.7844\n",
            "Epoch 198/200\n",
            " - 0s - loss: 538.5892\n",
            "Epoch 199/200\n",
            " - 0s - loss: 539.1441\n",
            "Epoch 200/200\n",
            " - 0s - loss: 533.8352\n"
          ],
          "name": "stdout"
        },
        {
          "output_type": "execute_result",
          "data": {
            "text/plain": [
              "<keras.callbacks.History at 0x7f49f91a0e10>"
            ]
          },
          "metadata": {
            "tags": []
          },
          "execution_count": 43
        }
      ]
    },
    {
      "metadata": {
        "id": "QPvAeaAymMUk",
        "colab_type": "code",
        "colab": {
          "base_uri": "https://localhost:8080/",
          "height": 51
        },
        "outputId": "4c4f562c-561f-48cb-bdc0-517b2a06925e"
      },
      "cell_type": "code",
      "source": [
        "# Estima a performance do modelo\n",
        "# Tomando a raiz quadrada das estimativas de desempenho, podemos ver que o modelo tem um\n",
        "# erro médio de 23 passageiros (em milhares) no conjunto de dados de treinamento e 48 passageiros (em\n",
        "# milhares) no conjunto de dados de teste.\n",
        "\n",
        "trainScore = model.evaluate(trainX, trainY, verbose = 0)\n",
        "print('Score em Treino: %.2f MSE (%.2f RMSE)' % (trainScore, math.sqrt(trainScore)))\n",
        "testScore = model.evaluate(testX, testY, verbose = 0)\n",
        "print('Score em Teste: %.2f MSE (%.2f RMSE)' % (testScore, math.sqrt(testScore)))"
      ],
      "execution_count": 44,
      "outputs": [
        {
          "output_type": "stream",
          "text": [
            "Score em Treino: 531.71 MSE (23.06 RMSE)\n",
            "Score em Teste: 2355.06 MSE (48.53 RMSE)\n"
          ],
          "name": "stdout"
        }
      ]
    },
    {
      "metadata": {
        "id": "aVbTPNKomMUo",
        "colab_type": "code",
        "colab": {}
      },
      "cell_type": "code",
      "source": [
        "# Gera previsões\n",
        "trainPredict = model.predict(trainX)\n",
        "testPredict = model.predict(testX)"
      ],
      "execution_count": 0,
      "outputs": []
    },
    {
      "metadata": {
        "id": "n2JpEQKzmMUr",
        "colab_type": "code",
        "colab": {}
      },
      "cell_type": "code",
      "source": [
        "# Ajusta os dados de treino para o Plot\n",
        "trainPredictPlot = numpy.empty_like(dataset)\n",
        "trainPredictPlot[:, :] = numpy.nan\n",
        "trainPredictPlot[look_back:len(trainPredict)+look_back, :] = trainPredict"
      ],
      "execution_count": 0,
      "outputs": []
    },
    {
      "metadata": {
        "id": "kNsls-wwmMUw",
        "colab_type": "code",
        "colab": {}
      },
      "cell_type": "code",
      "source": [
        "# Ajusta os dados de teste para o Plot\n",
        "testPredictPlot = numpy.empty_like(dataset)\n",
        "testPredictPlot[:, :] = numpy.nan\n",
        "testPredictPlot[len(trainPredict)+(look_back*2)+1:len(dataset)-1, :] = testPredict"
      ],
      "execution_count": 0,
      "outputs": []
    },
    {
      "metadata": {
        "id": "FmXSlosFmMUz",
        "colab_type": "code",
        "colab": {
          "base_uri": "https://localhost:8080/",
          "height": 347
        },
        "outputId": "9bdf368f-d579-4d1f-fcfb-05e0fc57fb38"
      },
      "cell_type": "code",
      "source": [
        "# Plot do baseline e previsões\n",
        "# Podemos ver que o modelo fez um trabalho bastante ruim tanto no treinamento quanto no teste.\n",
        "# Ele basicamente previu a saída exatamente como o mesmo valor de entrada.\n",
        "plt.plot(dataset)\n",
        "plt.plot(trainPredictPlot)\n",
        "plt.plot(testPredictPlot)\n",
        "plt.show()"
      ],
      "execution_count": 48,
      "outputs": [
        {
          "output_type": "display_data",
          "data": {
            "image/png": "[encoded data removed]",
            "text/plain": [
              "<Figure size 576x396 with 1 Axes>"
            ]
          },
          "metadata": {
            "tags": []
          }
        }
      ]
    },
    {
      "metadata": {
        "id": "ZGlOZfhqmMU5",
        "colab_type": "text"
      },
      "cell_type": "markdown",
      "source": [
        "## Prevendo Séries Temporais com Multilayer Perceptron e Usando Método Window\n",
        "\n",
        "Podemos também tentar resolver o problema de modo que várias etapas de tempo recente possam ser usadas para a previsão do próximo passo. Isso é chamado de método de janela (Window) e o tamanho da janela é um parâmetro que pode ser sintonizado para cada problema. Por exemplo, dado o tempo atual (t) nós queremos prever o valor na próxima vez na sequência (t + 1), podemos usar o tempo atual (T) bem como os dois tempos anteriores (t-1 e t-2). Quando formulado como um problema de regressão, as variáveis de entrada são t-2, t-1, t e a variável de saída é t + 1."
      ]
    },
    {
      "metadata": {
        "id": "91U0YIXHmMU6",
        "colab_type": "code",
        "colab": {
          "base_uri": "https://localhost:8080/",
          "height": 170
        },
        "outputId": "a6a80482-ff66-4757-96fe-5f38308405f0"
      },
      "cell_type": "code",
      "source": [
        "# Imports\n",
        "import numpy\n",
        "import matplotlib.pyplot as plt\n",
        "import pandas\n",
        "import math\n",
        "from keras.models import Sequential\n",
        "from keras.layers import Dense\n",
        "\n",
        "# Converte o array em matriz com o próximo valor t+1\n",
        "# Esta função nos permite formular melhor o problema da série temporal aumentando o argumento look_back . \n",
        "def create_dataset(dataset, look_back = 1):\n",
        "    dataX, dataY = [], []\n",
        "    for i in range(len(dataset)-look_back-1):\n",
        "        a = dataset[i:(i+look_back), 0]\n",
        "        dataX.append(a)\n",
        "        dataY.append(dataset[i + look_back, 0])\n",
        "    return numpy.array(dataX), numpy.array(dataY)\n",
        "\n",
        "# Random seed \n",
        "numpy.random.seed(7)\n",
        "\n",
        "# Carregando o dataset\n",
        "dataframe = pandas.read_csv('data/passageiros.csv', usecols = [1], engine = 'python', skipfooter = 3)\n",
        "dataset = dataframe.values\n",
        "dataset = dataset.astype('float32')\n",
        "\n",
        "# Split em treino e teste\n",
        "train_size = int(len(dataset) * 0.67)\n",
        "test_size = len(dataset) - train_size\n",
        "train, test = dataset[0:train_size,:], dataset[train_size:len(dataset),:]\n",
        "print(len(train), len(test))\n",
        "\n",
        "# Reshape - Perceba o valor da variável look_back\n",
        "look_back = 13\n",
        "trainX, trainY = create_dataset(train, look_back)\n",
        "testX, testY = create_dataset(test, look_back)\n",
        "\n",
        "# Imprimindo dataset de treino e dataset original\n",
        "print(\"\\n\")\n",
        "print(\"Dataset de treino: \", trainX[0:1], trainY[0:1])\n",
        "print(\"\\nDataset original: \", dataset[0:2])\n",
        "print(\"\\n\")"
      ],
      "execution_count": 49,
      "outputs": [
        {
          "output_type": "stream",
          "text": [
            "96 48\n",
            "\n",
            "\n",
            "Dataset de treino:  [[112. 118. 132. 129. 121. 135. 148. 148. 136. 119. 104. 118. 115.]] [126.]\n",
            "\n",
            "Dataset original:  [[112.]\n",
            " [118.]]\n",
            "\n",
            "\n"
          ],
          "name": "stdout"
        }
      ]
    },
    {
      "metadata": {
        "id": "2lXUNd4emMU-",
        "colab_type": "code",
        "colab": {
          "base_uri": "https://localhost:8080/",
          "height": 204
        },
        "outputId": "20319307-362d-42c9-957c-4267a1dfdab3"
      },
      "cell_type": "code",
      "source": [
        "# Modelo MLP\n",
        "model = Sequential()\n",
        "model.add(Dense(8, input_dim = look_back, activation = 'relu'))\n",
        "model.add(Dense(1))\n",
        "model.compile(loss = 'mean_squared_error', optimizer = 'adam')\n",
        "model.summary()"
      ],
      "execution_count": 50,
      "outputs": [
        {
          "output_type": "stream",
          "text": [
            "_________________________________________________________________\n",
            "Layer (type)                 Output Shape              Param #   \n",
            "=================================================================\n",
            "dense_3 (Dense)              (None, 8)                 112       \n",
            "_________________________________________________________________\n",
            "dense_4 (Dense)              (None, 1)                 9         \n",
            "=================================================================\n",
            "Total params: 121\n",
            "Trainable params: 121\n",
            "Non-trainable params: 0\n",
            "_________________________________________________________________\n"
          ],
          "name": "stdout"
        }
      ]
    },
    {
      "metadata": {
        "id": "FoSCBf0LmMVB",
        "colab_type": "code",
        "colab": {
          "base_uri": "https://localhost:8080/",
          "height": 6834
        },
        "outputId": "c53101c5-7469-4577-b241-a55f25351772"
      },
      "cell_type": "code",
      "source": [
        "model.fit(trainX, trainY, epochs=200, batch_size=2, verbose=2)"
      ],
      "execution_count": 51,
      "outputs": [
        {
          "output_type": "stream",
          "text": [
            "Epoch 1/200\n",
            " - 0s - loss: 36638.9452\n",
            "Epoch 2/200\n",
            " - 0s - loss: 9501.4933\n",
            "Epoch 3/200\n",
            " - 0s - loss: 1691.4088\n",
            "Epoch 4/200\n",
            " - 0s - loss: 922.0133\n",
            "Epoch 5/200\n",
            " - 0s - loss: 876.8827\n",
            "Epoch 6/200\n",
            " - 0s - loss: 861.1050\n",
            "Epoch 7/200\n",
            " - 0s - loss: 863.8991\n",
            "Epoch 8/200\n",
            " - 0s - loss: 868.0676\n",
            "Epoch 9/200\n",
            " - 0s - loss: 845.8913\n",
            "Epoch 10/200\n",
            " - 0s - loss: 846.8072\n",
            "Epoch 11/200\n",
            " - 0s - loss: 857.9364\n",
            "Epoch 12/200\n",
            " - 0s - loss: 828.5148\n",
            "Epoch 13/200\n",
            " - 0s - loss: 806.9274\n",
            "Epoch 14/200\n",
            " - 0s - loss: 811.1057\n",
            "Epoch 15/200\n",
            " - 0s - loss: 802.9467\n",
            "Epoch 16/200\n",
            " - 0s - loss: 793.2651\n",
            "Epoch 17/200\n",
            " - 0s - loss: 773.3118\n",
            "Epoch 18/200\n",
            " - 0s - loss: 772.6142\n",
            "Epoch 19/200\n",
            " - 0s - loss: 765.9035\n",
            "Epoch 20/200\n",
            " - 0s - loss: 761.8408\n",
            "Epoch 21/200\n",
            " - 0s - loss: 747.6406\n",
            "Epoch 22/200\n",
            " - 0s - loss: 738.5848\n",
            "Epoch 23/200\n",
            " - 0s - loss: 723.4060\n",
            "Epoch 24/200\n",
            " - 0s - loss: 743.1309\n",
            "Epoch 25/200\n",
            " - 0s - loss: 732.7761\n",
            "Epoch 26/200\n",
            " - 0s - loss: 704.9733\n",
            "Epoch 27/200\n",
            " - 0s - loss: 698.9100\n",
            "Epoch 28/200\n",
            " - 0s - loss: 693.4383\n",
            "Epoch 29/200\n",
            " - 0s - loss: 687.9868\n",
            "Epoch 30/200\n",
            " - 0s - loss: 691.3295\n",
            "Epoch 31/200\n",
            " - 0s - loss: 721.5506\n",
            "Epoch 32/200\n",
            " - 0s - loss: 687.6387\n",
            "Epoch 33/200\n",
            " - 0s - loss: 646.0854\n",
            "Epoch 34/200\n",
            " - 0s - loss: 663.0100\n",
            "Epoch 35/200\n",
            " - 0s - loss: 647.8065\n",
            "Epoch 36/200\n",
            " - 0s - loss: 641.6106\n",
            "Epoch 37/200\n",
            " - 0s - loss: 624.1113\n",
            "Epoch 38/200\n",
            " - 0s - loss: 651.1371\n",
            "Epoch 39/200\n",
            " - 0s - loss: 641.2264\n",
            "Epoch 40/200\n",
            " - 0s - loss: 599.8641\n",
            "Epoch 41/200\n",
            " - 0s - loss: 590.8763\n",
            "Epoch 42/200\n",
            " - 0s - loss: 591.4049\n",
            "Epoch 43/200\n",
            " - 0s - loss: 588.7106\n",
            "Epoch 44/200\n",
            " - 0s - loss: 567.7752\n",
            "Epoch 45/200\n",
            " - 0s - loss: 558.5955\n",
            "Epoch 46/200\n",
            " - 0s - loss: 573.8775\n",
            "Epoch 47/200\n",
            " - 0s - loss: 532.2125\n",
            "Epoch 48/200\n",
            " - 0s - loss: 591.1579\n",
            "Epoch 49/200\n",
            " - 0s - loss: 556.0637\n",
            "Epoch 50/200\n",
            " - 0s - loss: 507.6489\n",
            "Epoch 51/200\n",
            " - 0s - loss: 520.7954\n",
            "Epoch 52/200\n",
            " - 0s - loss: 506.9905\n",
            "Epoch 53/200\n",
            " - 0s - loss: 503.8440\n",
            "Epoch 54/200\n",
            " - 0s - loss: 493.0085\n",
            "Epoch 55/200\n",
            " - 0s - loss: 500.3147\n",
            "Epoch 56/200\n",
            " - 0s - loss: 483.7664\n",
            "Epoch 57/200\n",
            " - 0s - loss: 494.9154\n",
            "Epoch 58/200\n",
            " - 0s - loss: 471.8026\n",
            "Epoch 59/200\n",
            " - 0s - loss: 470.1997\n",
            "Epoch 60/200\n",
            " - 0s - loss: 461.7760\n",
            "Epoch 61/200\n",
            " - 0s - loss: 459.6710\n",
            "Epoch 62/200\n",
            " - 0s - loss: 458.8273\n",
            "Epoch 63/200\n",
            " - 0s - loss: 448.8637\n",
            "Epoch 64/200\n",
            " - 0s - loss: 433.5231\n",
            "Epoch 65/200\n",
            " - 0s - loss: 450.0506\n",
            "Epoch 66/200\n",
            " - 0s - loss: 430.3613\n",
            "Epoch 67/200\n",
            " - 0s - loss: 419.8803\n",
            "Epoch 68/200\n",
            " - 0s - loss: 453.2606\n",
            "Epoch 69/200\n",
            " - 0s - loss: 421.6768\n",
            "Epoch 70/200\n",
            " - 0s - loss: 399.9656\n",
            "Epoch 71/200\n",
            " - 0s - loss: 399.5724\n",
            "Epoch 72/200\n",
            " - 0s - loss: 404.4114\n",
            "Epoch 73/200\n",
            " - 0s - loss: 387.6681\n",
            "Epoch 74/200\n",
            " - 0s - loss: 386.2556\n",
            "Epoch 75/200\n",
            " - 0s - loss: 384.8378\n",
            "Epoch 76/200\n",
            " - 0s - loss: 377.4441\n",
            "Epoch 77/200\n",
            " - 0s - loss: 372.1167\n",
            "Epoch 78/200\n",
            " - 0s - loss: 366.9793\n",
            "Epoch 79/200\n",
            " - 0s - loss: 367.7550\n",
            "Epoch 80/200\n",
            " - 0s - loss: 359.4052\n",
            "Epoch 81/200\n",
            " - 0s - loss: 369.8418\n",
            "Epoch 82/200\n",
            " - 0s - loss: 333.5932\n",
            "Epoch 83/200\n",
            " - 0s - loss: 354.9165\n",
            "Epoch 84/200\n",
            " - 0s - loss: 347.1270\n",
            "Epoch 85/200\n",
            " - 0s - loss: 331.9260\n",
            "Epoch 86/200\n",
            " - 0s - loss: 350.0630\n",
            "Epoch 87/200\n",
            " - 0s - loss: 327.1467\n",
            "Epoch 88/200\n",
            " - 0s - loss: 342.8831\n",
            "Epoch 89/200\n",
            " - 0s - loss: 360.4013\n",
            "Epoch 90/200\n",
            " - 0s - loss: 333.3515\n",
            "Epoch 91/200\n",
            " - 0s - loss: 335.2248\n",
            "Epoch 92/200\n",
            " - 0s - loss: 378.5292\n",
            "Epoch 93/200\n",
            " - 0s - loss: 317.8140\n",
            "Epoch 94/200\n",
            " - 0s - loss: 335.4953\n",
            "Epoch 95/200\n",
            " - 0s - loss: 318.0244\n",
            "Epoch 96/200\n",
            " - 0s - loss: 312.4532\n",
            "Epoch 97/200\n",
            " - 0s - loss: 313.1426\n",
            "Epoch 98/200\n",
            " - 0s - loss: 318.8055\n",
            "Epoch 99/200\n",
            " - 0s - loss: 321.7366\n",
            "Epoch 100/200\n",
            " - 0s - loss: 316.7332\n",
            "Epoch 101/200\n",
            " - 0s - loss: 307.8973\n",
            "Epoch 102/200\n",
            " - 0s - loss: 298.8327\n",
            "Epoch 103/200\n",
            " - 0s - loss: 292.9133\n",
            "Epoch 104/200\n",
            " - 0s - loss: 297.2700\n",
            "Epoch 105/200\n",
            " - 0s - loss: 316.3459\n",
            "Epoch 106/200\n",
            " - 0s - loss: 290.3621\n",
            "Epoch 107/200\n",
            " - 0s - loss: 289.2642\n",
            "Epoch 108/200\n",
            " - 0s - loss: 283.6888\n",
            "Epoch 109/200\n",
            " - 0s - loss: 292.6930\n",
            "Epoch 110/200\n",
            " - 0s - loss: 278.1883\n",
            "Epoch 111/200\n",
            " - 0s - loss: 290.3653\n",
            "Epoch 112/200\n",
            " - 0s - loss: 315.8285\n",
            "Epoch 113/200\n",
            " - 0s - loss: 284.7601\n",
            "Epoch 114/200\n",
            " - 0s - loss: 293.2131\n",
            "Epoch 115/200\n",
            " - 0s - loss: 272.6815\n",
            "Epoch 116/200\n",
            " - 0s - loss: 270.8012\n",
            "Epoch 117/200\n",
            " - 0s - loss: 266.8258\n",
            "Epoch 118/200\n",
            " - 0s - loss: 278.7572\n",
            "Epoch 119/200\n",
            " - 0s - loss: 274.8939\n",
            "Epoch 120/200\n",
            " - 0s - loss: 266.0243\n",
            "Epoch 121/200\n",
            " - 0s - loss: 272.1452\n",
            "Epoch 122/200\n",
            " - 0s - loss: 265.1961\n",
            "Epoch 123/200\n",
            " - 0s - loss: 274.4626\n",
            "Epoch 124/200\n",
            " - 0s - loss: 259.0421\n",
            "Epoch 125/200\n",
            " - 0s - loss: 246.1651\n",
            "Epoch 126/200\n",
            " - 0s - loss: 271.9600\n",
            "Epoch 127/200\n",
            " - 0s - loss: 247.1138\n",
            "Epoch 128/200\n",
            " - 0s - loss: 258.4168\n",
            "Epoch 129/200\n",
            " - 0s - loss: 255.1328\n",
            "Epoch 130/200\n",
            " - 0s - loss: 267.0212\n",
            "Epoch 131/200\n",
            " - 0s - loss: 251.6341\n",
            "Epoch 132/200\n",
            " - 0s - loss: 283.4782\n",
            "Epoch 133/200\n",
            " - 0s - loss: 272.4216\n",
            "Epoch 134/200\n",
            " - 0s - loss: 243.5060\n",
            "Epoch 135/200\n",
            " - 0s - loss: 250.1977\n",
            "Epoch 136/200\n",
            " - 0s - loss: 247.1957\n",
            "Epoch 137/200\n",
            " - 0s - loss: 241.7390\n",
            "Epoch 138/200\n",
            " - 0s - loss: 244.9479\n",
            "Epoch 139/200\n",
            " - 0s - loss: 233.8702\n",
            "Epoch 140/200\n",
            " - 0s - loss: 242.9078\n",
            "Epoch 141/200\n",
            " - 0s - loss: 238.9567\n",
            "Epoch 142/200\n",
            " - 0s - loss: 234.1570\n",
            "Epoch 143/200\n",
            " - 0s - loss: 230.4636\n",
            "Epoch 144/200\n",
            " - 0s - loss: 234.0673\n",
            "Epoch 145/200\n",
            " - 0s - loss: 242.4399\n",
            "Epoch 146/200\n",
            " - 0s - loss: 258.7688\n",
            "Epoch 147/200\n",
            " - 0s - loss: 229.5768\n",
            "Epoch 148/200\n",
            " - 0s - loss: 232.7617\n",
            "Epoch 149/200\n",
            " - 0s - loss: 231.1009\n",
            "Epoch 150/200\n",
            " - 0s - loss: 230.5035\n",
            "Epoch 151/200\n",
            " - 0s - loss: 249.9717\n",
            "Epoch 152/200\n",
            " - 0s - loss: 233.0316\n",
            "Epoch 153/200\n",
            " - 0s - loss: 226.0754\n",
            "Epoch 154/200\n",
            " - 0s - loss: 219.0266\n",
            "Epoch 155/200\n",
            " - 0s - loss: 248.5195\n",
            "Epoch 156/200\n",
            " - 0s - loss: 217.6597\n",
            "Epoch 157/200\n",
            " - 0s - loss: 216.6295\n",
            "Epoch 158/200\n",
            " - 0s - loss: 231.9416\n",
            "Epoch 159/200\n",
            " - 0s - loss: 231.6058\n",
            "Epoch 160/200\n",
            " - 0s - loss: 230.1133\n",
            "Epoch 161/200\n",
            " - 0s - loss: 213.2287\n",
            "Epoch 162/200\n",
            " - 0s - loss: 262.6856\n",
            "Epoch 163/200\n",
            " - 0s - loss: 211.2025\n",
            "Epoch 164/200\n",
            " - 0s - loss: 210.2527\n",
            "Epoch 165/200\n",
            " - 0s - loss: 220.1341\n",
            "Epoch 166/200\n",
            " - 0s - loss: 212.4572\n",
            "Epoch 167/200\n",
            " - 0s - loss: 211.8906\n",
            "Epoch 168/200\n",
            " - 0s - loss: 203.4719\n",
            "Epoch 169/200\n",
            " - 0s - loss: 221.3772\n",
            "Epoch 170/200\n",
            " - 0s - loss: 212.7033\n",
            "Epoch 171/200\n",
            " - 0s - loss: 198.7480\n",
            "Epoch 172/200\n",
            " - 0s - loss: 216.1480\n",
            "Epoch 173/200\n",
            " - 0s - loss: 233.8330\n",
            "Epoch 174/200\n",
            " - 0s - loss: 206.2448\n",
            "Epoch 175/200\n",
            " - 0s - loss: 217.7438\n",
            "Epoch 176/200\n",
            " - 0s - loss: 196.6792\n",
            "Epoch 177/200\n",
            " - 0s - loss: 190.2173\n",
            "Epoch 178/200\n",
            " - 0s - loss: 202.8524\n",
            "Epoch 179/200\n",
            " - 0s - loss: 209.6893\n",
            "Epoch 180/200\n",
            " - 0s - loss: 196.3860\n",
            "Epoch 181/200\n",
            " - 0s - loss: 218.6849\n",
            "Epoch 182/200\n",
            " - 0s - loss: 214.2496\n",
            "Epoch 183/200\n",
            " - 0s - loss: 194.5579\n",
            "Epoch 184/200\n",
            " - 0s - loss: 196.0043\n",
            "Epoch 185/200\n",
            " - 0s - loss: 199.8180\n",
            "Epoch 186/200\n",
            " - 0s - loss: 188.8562\n",
            "Epoch 187/200\n",
            " - 0s - loss: 203.5172\n",
            "Epoch 188/200\n",
            " - 0s - loss: 198.8761\n",
            "Epoch 189/200\n",
            " - 0s - loss: 229.7606\n",
            "Epoch 190/200\n",
            " - 0s - loss: 199.7552\n",
            "Epoch 191/200\n",
            " - 0s - loss: 190.0479\n",
            "Epoch 192/200\n",
            " - 0s - loss: 205.6506\n",
            "Epoch 193/200\n",
            " - 0s - loss: 199.0759\n",
            "Epoch 194/200\n",
            " - 0s - loss: 195.7649\n",
            "Epoch 195/200\n",
            " - 0s - loss: 203.5522\n",
            "Epoch 196/200\n",
            " - 0s - loss: 183.9035\n",
            "Epoch 197/200\n",
            " - 0s - loss: 180.4197\n",
            "Epoch 198/200\n",
            " - 0s - loss: 215.8482\n",
            "Epoch 199/200\n",
            " - 0s - loss: 215.6088\n",
            "Epoch 200/200\n",
            " - 0s - loss: 179.0956\n"
          ],
          "name": "stdout"
        },
        {
          "output_type": "execute_result",
          "data": {
            "text/plain": [
              "<keras.callbacks.History at 0x7f49f342ad30>"
            ]
          },
          "metadata": {
            "tags": []
          },
          "execution_count": 51
        }
      ]
    },
    {
      "metadata": {
        "id": "UhU97qC2mMVE",
        "colab_type": "code",
        "colab": {
          "base_uri": "https://localhost:8080/",
          "height": 51
        },
        "outputId": "58642957-2bf0-4636-d542-913a2cf9d21b"
      },
      "cell_type": "code",
      "source": [
        "# Performance do Modelo\n",
        "trainScore = model.evaluate(trainX, trainY, verbose=0)\n",
        "print('Score em Treino: %.2f MSE (%.2f RMSE)' % (trainScore, math.sqrt(trainScore)))\n",
        "testScore = model.evaluate(testX, testY, verbose=0)\n",
        "print('Score em Teste: %.2f MSE (%.2f RMSE)' % (testScore, math.sqrt(testScore)))\n",
        "\n",
        "# Previsões para treino e teste\n",
        "trainPredict = model.predict(trainX)\n",
        "testPredict = model.predict(testX)\n",
        "\n",
        "# Ajustando as previsões de treino para o Plot\n",
        "trainPredictPlot = numpy.empty_like(dataset)\n",
        "trainPredictPlot[:, :] = numpy.nan\n",
        "trainPredictPlot[look_back:len(trainPredict)+look_back, :] = trainPredict\n",
        "\n",
        "# Ajustando as previsões de teste para o Plot\n",
        "testPredictPlot = numpy.empty_like(dataset)\n",
        "testPredictPlot[:, :] = numpy.nan\n",
        "testPredictPlot[len(trainPredict)+(look_back*2)+1:len(dataset)-1, :] = testPredict"
      ],
      "execution_count": 52,
      "outputs": [
        {
          "output_type": "stream",
          "text": [
            "Score em Treino: 204.02 MSE (14.28 RMSE)\n",
            "Score em Teste: 559.53 MSE (23.65 RMSE)\n"
          ],
          "name": "stdout"
        }
      ]
    },
    {
      "metadata": {
        "id": "RPHWdso5mMVI",
        "colab_type": "code",
        "colab": {
          "base_uri": "https://localhost:8080/",
          "height": 347
        },
        "outputId": "1ead24ae-0726-48ee-9d0e-3212f06e347d"
      },
      "cell_type": "code",
      "source": [
        "# Plot do baseline e previsões\n",
        "# Podemos ver que o erro foi reduzido em comparação com o da seção anterior. \n",
        "# O tamanho da janela e a arquitetura da rede não foram sintonizados, isso é apenas uma demonstração de como\n",
        "# enquadrar um problema de previsão em séries temporais. \n",
        "# Tomando a raiz quadrada dos escores de desempenho, podemos ver o erro médio no conjunto de dados de treinamento \n",
        "# foi de 14 passageiros (em milhares por mês) e o erro médio no conjunto de teste não visto foi de 23 passageiros \n",
        "# (em milhares por mês).\n",
        "plt.plot(dataset)\n",
        "plt.plot(trainPredictPlot)\n",
        "plt.plot(testPredictPlot)\n",
        "plt.show()"
      ],
      "execution_count": 53,
      "outputs": [
        {
          "output_type": "display_data",
          "data": {
            "image/png": "[encoded data removed]",
            "text/plain": [
              "<Figure size 576x396 with 1 Axes>"
            ]
          },
          "metadata": {
            "tags": []
          }
        }
      ]
    }
  ]
}