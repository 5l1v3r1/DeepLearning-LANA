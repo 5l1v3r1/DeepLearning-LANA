{
  "nbformat": 4,
  "nbformat_minor": 0,
  "metadata": {
    "colab": {
      "name": "Detecção de Anomalias com Modelos Autoencoder.ipynb",
      "version": "0.3.2",
      "provenance": [],
      "collapsed_sections": [
        "tp0-hnpkoutw",
        "pgwQuwEHout4",
        "-R1ciVlXouuH"
      ],
      "include_colab_link": true
    },
    "kernelspec": {
      "display_name": "Python 3",
      "language": "python",
      "name": "python3"
    }
  },
  "cells": [
    {
      "cell_type": "markdown",
      "metadata": {
        "id": "view-in-github",
        "colab_type": "text"
      },
      "source": [
        "<a href=\"https://colab.research.google.com/github/vladimiralencar/DeepLearning-LANA/blob/master/RNN/Detecc%CC%A7a%CC%83o_de_Anomalias_com_Modelos_Autoencoder.ipynb\" target=\"_parent\"><img src=\"https://colab.research.google.com/assets/colab-badge.svg\" alt=\"Open In Colab\"/></a>"
      ]
    },
    {
      "metadata": {
        "id": "xOowA9aPourR",
        "colab_type": "text"
      },
      "cell_type": "markdown",
      "source": [
        "## Detecção de Anomalias com Modelos Autoencoder"
      ]
    },
    {
      "metadata": {
        "id": "X1iwUc-0ourT",
        "colab_type": "text"
      },
      "cell_type": "markdown",
      "source": [
        "É domingo de manhã e você acorda com um grande sorriso no seu rosto. Hoje será um ótimo dia! Um hora depois seu telefone toca. Você pega lentamente o aparelho e ouve o seguinte: \"Eu sou Michele, sua agente pessoal do banco XPTO.\" O que poderia ser tão urgente para alguém do banco ligar para você domingo pela manhã? \"O Senhor autorizou uma transação de R$ 3,358.65 por 100 cópias do Titanfall 2?\" (Titanfall 2 é um game). Imediatamente, você começa a pensar nas últimas compras que fez e que não incluíram várias cópias do Titanfall. \"Não, eu não fiz!?\". A resposta de Michele é rápida e direta - \"Obrigado, estamos verificando\". Mas como Michele sabia que essa transação era suspeita? Afinal, você encomendou 10 novos smartphones usando o mesmo cartão de crédito na semana passada - e Michele não ligou para verificar. Algum modelo preditivo anti-fraude está ajudando Michele.\n",
        "\n",
        "As perdas anuais de fraude global atingiram US$ 21,8 bilhões em 2015, de acordo com [Nilson Report](https://www.nilsonreport.com/upload/content_promo/The_Nilson_Report_10-17-2016.pdf). \n",
        "\n",
        "Cerca de 12 centavos por US$ 100 foram roubados nos EUA durante 2015. \n",
        "\n",
        "Neste Mini-Projeto iremos treinar uma Rede Neural de Autoencoder (implementada em Keras) em forma não supervisionada (ou semi-supervisionada) para detecção de anomalias em dados de transações de cartão de crédito. O modelo treinado será avaliado em conjuntos de dados pré-rotulados e anônimos.\n",
        "\n",
        "Todo o Jupyter Notebook está devidamente documentado. Estude o Mini-Projeto para ter um exemplo de aplicação prática de Autoencoders em outros domínios além do reconhecimento de imagens."
      ]
    },
    {
      "metadata": {
        "id": "7_r8DRavourU",
        "colab_type": "code",
        "colab": {},
        "outputId": "a0f4cd8f-dfa5-42cb-a3c3-dfdbc01b98b2"
      },
      "cell_type": "code",
      "source": [
        "# Imports\n",
        "import pandas as pd\n",
        "import numpy as np\n",
        "import pickle\n",
        "import matplotlib.pyplot as plt\n",
        "import tensorflow as tf\n",
        "import seaborn as sns\n",
        "from scipy import stats\n",
        "from pylab import rcParams\n",
        "from sklearn.model_selection import train_test_split\n",
        "from keras.models import Model, load_model\n",
        "from keras.layers import Input, Dense\n",
        "from keras.callbacks import ModelCheckpoint, TensorBoard\n",
        "from keras import regularizers\n",
        "\n",
        "%matplotlib inline\n",
        "\n",
        "sns.set(style='whitegrid', palette='muted', font_scale=1.5)\n",
        "\n",
        "rcParams['figure.figsize'] = 14, 8\n",
        "\n",
        "RANDOM_SEED = 42\n",
        "LABELS = [\"Normal\", \"Fraude\"]"
      ],
      "execution_count": 0,
      "outputs": [
        {
          "output_type": "stream",
          "text": [
            "Using TensorFlow backend.\n"
          ],
          "name": "stderr"
        }
      ]
    },
    {
      "metadata": {
        "id": "2r98nKnQourb",
        "colab_type": "text"
      },
      "cell_type": "markdown",
      "source": [
        "# Carregando os Dados\n",
        "\n",
        "O conjunto de dados que vamos usar pode ser baixado do [Kaggle] (https://www.kaggle.com/dalpozz/creditcardfraud). Ele contém dados sobre transações com cartão de crédito ocorridas durante um período de dois dias, com 492 fraudes de 284.807 transações.\n",
        "\n",
        "Todas as variáveis no conjunto de dados são numéricas. Os dados foram transformados usando transformação PCA por motivos de privacidade. Os dois recursos que não foram alterados são Time and Amount. O tempo contém os segundos decorridos entre cada transação e a primeira transação no conjunto de dados."
      ]
    },
    {
      "metadata": {
        "id": "d2irCXAmourc",
        "colab_type": "code",
        "colab": {}
      },
      "cell_type": "code",
      "source": [
        "!wget \n",
        "df = pd.read_csv(\"creditcard.csv\")"
      ],
      "execution_count": 0,
      "outputs": []
    },
    {
      "metadata": {
        "id": "eEZwg_vxourg",
        "colab_type": "text"
      },
      "cell_type": "markdown",
      "source": [
        "# Análise Exploratória"
      ]
    },
    {
      "metadata": {
        "id": "I4lvWwNNouri",
        "colab_type": "code",
        "colab": {},
        "outputId": "adf29c48-303e-4d44-a580-dc0cc20fed90"
      },
      "cell_type": "code",
      "source": [
        "df.shape"
      ],
      "execution_count": 0,
      "outputs": [
        {
          "output_type": "execute_result",
          "data": {
            "text/plain": [
              "(284807, 31)"
            ]
          },
          "metadata": {
            "tags": []
          },
          "execution_count": 3
        }
      ]
    },
    {
      "metadata": {
        "id": "UQOUq_F_ourp",
        "colab_type": "text"
      },
      "cell_type": "markdown",
      "source": [
        "31 colunas, 2 das quais são Time and Amount. O resto é produzido a partir da transformação PCA. Vamos verificar se há valores missing:"
      ]
    },
    {
      "metadata": {
        "id": "-c-aP8Ccourq",
        "colab_type": "code",
        "colab": {},
        "outputId": "4f8520b4-dd00-405e-fc9a-af43d5f541c8"
      },
      "cell_type": "code",
      "source": [
        "df.isnull().values.any()"
      ],
      "execution_count": 0,
      "outputs": [
        {
          "output_type": "execute_result",
          "data": {
            "text/plain": [
              "False"
            ]
          },
          "metadata": {
            "tags": []
          },
          "execution_count": 4
        }
      ]
    },
    {
      "metadata": {
        "id": "CTsswylwourx",
        "colab_type": "code",
        "colab": {},
        "outputId": "d5a7ab1b-484e-4f18-9a89-aa4d3eb6e4fe"
      },
      "cell_type": "code",
      "source": [
        "df.head()"
      ],
      "execution_count": 0,
      "outputs": [
        {
          "output_type": "execute_result",
          "data": {
            "text/html": [
              "<div>\n",
              "<style scoped>\n",
              "    .dataframe tbody tr th:only-of-type {\n",
              "        vertical-align: middle;\n",
              "    }\n",
              "\n",
              "    .dataframe tbody tr th {\n",
              "        vertical-align: top;\n",
              "    }\n",
              "\n",
              "    .dataframe thead th {\n",
              "        text-align: right;\n",
              "    }\n",
              "</style>\n",
              "<table border=\"1\" class=\"dataframe\">\n",
              "  <thead>\n",
              "    <tr style=\"text-align: right;\">\n",
              "      <th></th>\n",
              "      <th>Time</th>\n",
              "      <th>V1</th>\n",
              "      <th>V2</th>\n",
              "      <th>V3</th>\n",
              "      <th>V4</th>\n",
              "      <th>V5</th>\n",
              "      <th>V6</th>\n",
              "      <th>V7</th>\n",
              "      <th>V8</th>\n",
              "      <th>V9</th>\n",
              "      <th>...</th>\n",
              "      <th>V21</th>\n",
              "      <th>V22</th>\n",
              "      <th>V23</th>\n",
              "      <th>V24</th>\n",
              "      <th>V25</th>\n",
              "      <th>V26</th>\n",
              "      <th>V27</th>\n",
              "      <th>V28</th>\n",
              "      <th>Amount</th>\n",
              "      <th>Class</th>\n",
              "    </tr>\n",
              "  </thead>\n",
              "  <tbody>\n",
              "    <tr>\n",
              "      <th>0</th>\n",
              "      <td>0.0</td>\n",
              "      <td>-1.359807</td>\n",
              "      <td>-0.072781</td>\n",
              "      <td>2.536347</td>\n",
              "      <td>1.378155</td>\n",
              "      <td>-0.338321</td>\n",
              "      <td>0.462388</td>\n",
              "      <td>0.239599</td>\n",
              "      <td>0.098698</td>\n",
              "      <td>0.363787</td>\n",
              "      <td>...</td>\n",
              "      <td>-0.018307</td>\n",
              "      <td>0.277838</td>\n",
              "      <td>-0.110474</td>\n",
              "      <td>0.066928</td>\n",
              "      <td>0.128539</td>\n",
              "      <td>-0.189115</td>\n",
              "      <td>0.133558</td>\n",
              "      <td>-0.021053</td>\n",
              "      <td>149.62</td>\n",
              "      <td>0</td>\n",
              "    </tr>\n",
              "    <tr>\n",
              "      <th>1</th>\n",
              "      <td>0.0</td>\n",
              "      <td>1.191857</td>\n",
              "      <td>0.266151</td>\n",
              "      <td>0.166480</td>\n",
              "      <td>0.448154</td>\n",
              "      <td>0.060018</td>\n",
              "      <td>-0.082361</td>\n",
              "      <td>-0.078803</td>\n",
              "      <td>0.085102</td>\n",
              "      <td>-0.255425</td>\n",
              "      <td>...</td>\n",
              "      <td>-0.225775</td>\n",
              "      <td>-0.638672</td>\n",
              "      <td>0.101288</td>\n",
              "      <td>-0.339846</td>\n",
              "      <td>0.167170</td>\n",
              "      <td>0.125895</td>\n",
              "      <td>-0.008983</td>\n",
              "      <td>0.014724</td>\n",
              "      <td>2.69</td>\n",
              "      <td>0</td>\n",
              "    </tr>\n",
              "    <tr>\n",
              "      <th>2</th>\n",
              "      <td>1.0</td>\n",
              "      <td>-1.358354</td>\n",
              "      <td>-1.340163</td>\n",
              "      <td>1.773209</td>\n",
              "      <td>0.379780</td>\n",
              "      <td>-0.503198</td>\n",
              "      <td>1.800499</td>\n",
              "      <td>0.791461</td>\n",
              "      <td>0.247676</td>\n",
              "      <td>-1.514654</td>\n",
              "      <td>...</td>\n",
              "      <td>0.247998</td>\n",
              "      <td>0.771679</td>\n",
              "      <td>0.909412</td>\n",
              "      <td>-0.689281</td>\n",
              "      <td>-0.327642</td>\n",
              "      <td>-0.139097</td>\n",
              "      <td>-0.055353</td>\n",
              "      <td>-0.059752</td>\n",
              "      <td>378.66</td>\n",
              "      <td>0</td>\n",
              "    </tr>\n",
              "    <tr>\n",
              "      <th>3</th>\n",
              "      <td>1.0</td>\n",
              "      <td>-0.966272</td>\n",
              "      <td>-0.185226</td>\n",
              "      <td>1.792993</td>\n",
              "      <td>-0.863291</td>\n",
              "      <td>-0.010309</td>\n",
              "      <td>1.247203</td>\n",
              "      <td>0.237609</td>\n",
              "      <td>0.377436</td>\n",
              "      <td>-1.387024</td>\n",
              "      <td>...</td>\n",
              "      <td>-0.108300</td>\n",
              "      <td>0.005274</td>\n",
              "      <td>-0.190321</td>\n",
              "      <td>-1.175575</td>\n",
              "      <td>0.647376</td>\n",
              "      <td>-0.221929</td>\n",
              "      <td>0.062723</td>\n",
              "      <td>0.061458</td>\n",
              "      <td>123.50</td>\n",
              "      <td>0</td>\n",
              "    </tr>\n",
              "    <tr>\n",
              "      <th>4</th>\n",
              "      <td>2.0</td>\n",
              "      <td>-1.158233</td>\n",
              "      <td>0.877737</td>\n",
              "      <td>1.548718</td>\n",
              "      <td>0.403034</td>\n",
              "      <td>-0.407193</td>\n",
              "      <td>0.095921</td>\n",
              "      <td>0.592941</td>\n",
              "      <td>-0.270533</td>\n",
              "      <td>0.817739</td>\n",
              "      <td>...</td>\n",
              "      <td>-0.009431</td>\n",
              "      <td>0.798278</td>\n",
              "      <td>-0.137458</td>\n",
              "      <td>0.141267</td>\n",
              "      <td>-0.206010</td>\n",
              "      <td>0.502292</td>\n",
              "      <td>0.219422</td>\n",
              "      <td>0.215153</td>\n",
              "      <td>69.99</td>\n",
              "      <td>0</td>\n",
              "    </tr>\n",
              "  </tbody>\n",
              "</table>\n",
              "<p>5 rows × 31 columns</p>\n",
              "</div>"
            ],
            "text/plain": [
              "   Time        V1        V2        V3        V4        V5        V6        V7  \\\n",
              "0   0.0 -1.359807 -0.072781  2.536347  1.378155 -0.338321  0.462388  0.239599   \n",
              "1   0.0  1.191857  0.266151  0.166480  0.448154  0.060018 -0.082361 -0.078803   \n",
              "2   1.0 -1.358354 -1.340163  1.773209  0.379780 -0.503198  1.800499  0.791461   \n",
              "3   1.0 -0.966272 -0.185226  1.792993 -0.863291 -0.010309  1.247203  0.237609   \n",
              "4   2.0 -1.158233  0.877737  1.548718  0.403034 -0.407193  0.095921  0.592941   \n",
              "\n",
              "         V8        V9  ...         V21       V22       V23       V24  \\\n",
              "0  0.098698  0.363787  ...   -0.018307  0.277838 -0.110474  0.066928   \n",
              "1  0.085102 -0.255425  ...   -0.225775 -0.638672  0.101288 -0.339846   \n",
              "2  0.247676 -1.514654  ...    0.247998  0.771679  0.909412 -0.689281   \n",
              "3  0.377436 -1.387024  ...   -0.108300  0.005274 -0.190321 -1.175575   \n",
              "4 -0.270533  0.817739  ...   -0.009431  0.798278 -0.137458  0.141267   \n",
              "\n",
              "        V25       V26       V27       V28  Amount  Class  \n",
              "0  0.128539 -0.189115  0.133558 -0.021053  149.62      0  \n",
              "1  0.167170  0.125895 -0.008983  0.014724    2.69      0  \n",
              "2 -0.327642 -0.139097 -0.055353 -0.059752  378.66      0  \n",
              "3  0.647376 -0.221929  0.062723  0.061458  123.50      0  \n",
              "4 -0.206010  0.502292  0.219422  0.215153   69.99      0  \n",
              "\n",
              "[5 rows x 31 columns]"
            ]
          },
          "metadata": {
            "tags": []
          },
          "execution_count": 5
        }
      ]
    },
    {
      "metadata": {
        "id": "2XtmNGg0our2",
        "colab_type": "code",
        "colab": {},
        "outputId": "86f7ffd9-5dba-464a-d77e-b59a5786f54c"
      },
      "cell_type": "code",
      "source": [
        "df.columns"
      ],
      "execution_count": 0,
      "outputs": [
        {
          "output_type": "execute_result",
          "data": {
            "text/plain": [
              "Index(['Time', 'V1', 'V2', 'V3', 'V4', 'V5', 'V6', 'V7', 'V8', 'V9', 'V10',\n",
              "       'V11', 'V12', 'V13', 'V14', 'V15', 'V16', 'V17', 'V18', 'V19', 'V20',\n",
              "       'V21', 'V22', 'V23', 'V24', 'V25', 'V26', 'V27', 'V28', 'Amount',\n",
              "       'Class'],\n",
              "      dtype='object')"
            ]
          },
          "metadata": {
            "tags": []
          },
          "execution_count": 8
        }
      ]
    },
    {
      "metadata": {
        "id": "v8ezMvkRour8",
        "colab_type": "code",
        "colab": {},
        "outputId": "3580df04-1643-47eb-bad1-e80e420d0bd8"
      },
      "cell_type": "code",
      "source": [
        "pd.value_counts(df['Class'], sort = True)"
      ],
      "execution_count": 0,
      "outputs": [
        {
          "output_type": "execute_result",
          "data": {
            "text/plain": [
              "0    284315\n",
              "1       492\n",
              "Name: Class, dtype: int64"
            ]
          },
          "metadata": {
            "tags": []
          },
          "execution_count": 9
        }
      ]
    },
    {
      "metadata": {
        "id": "p8-V8ueUousE",
        "colab_type": "code",
        "colab": {},
        "outputId": "c694c148-4f36-4238-f960-2ecd3c08552f"
      },
      "cell_type": "code",
      "source": [
        "count_classes = pd.value_counts(df['Class'], sort = True)\n",
        "count_classes.plot(kind = 'bar', rot=0)\n",
        "plt.title(\"Distribuição\")\n",
        "plt.xticks(range(2), LABELS)\n",
        "plt.xlabel(\"Classe\")\n",
        "plt.ylabel(\"Frequência\");"
      ],
      "execution_count": 0,
      "outputs": [
        {
          "output_type": "display_data",
          "data": {
            "image/png": "[encoded data removed]",
            "text/plain": [
              "<matplotlib.figure.Figure at 0x7fe7a492b4a8>"
            ]
          },
          "metadata": {
            "tags": [],
            "needs_background": "light"
          }
        }
      ]
    },
    {
      "metadata": {
        "id": "ts4KfBEEousL",
        "colab_type": "text"
      },
      "cell_type": "markdown",
      "source": [
        "Nós temos um conjunto de dados altamente desequilibrado em nossas mãos. As transações normais dominam as fraudulentas por uma grande margem. Vejamos os dois tipos de transações:"
      ]
    },
    {
      "metadata": {
        "id": "R1orSU0dousN",
        "colab_type": "code",
        "colab": {}
      },
      "cell_type": "code",
      "source": [
        "frauds = df[df.Class == 1]\n",
        "normal = df[df.Class == 0]"
      ],
      "execution_count": 0,
      "outputs": []
    },
    {
      "metadata": {
        "id": "AZmstj_EousQ",
        "colab_type": "code",
        "colab": {},
        "outputId": "50d0b405-cd69-4e2c-d843-6a1973154ead"
      },
      "cell_type": "code",
      "source": [
        "frauds.shape"
      ],
      "execution_count": 0,
      "outputs": [
        {
          "output_type": "execute_result",
          "data": {
            "text/plain": [
              "(492, 31)"
            ]
          },
          "metadata": {
            "tags": []
          },
          "execution_count": 12
        }
      ]
    },
    {
      "metadata": {
        "id": "AVXGZZYHousZ",
        "colab_type": "code",
        "colab": {},
        "outputId": "fb93888b-810f-4630-b0d0-bb6f2d23daec"
      },
      "cell_type": "code",
      "source": [
        "normal.shape"
      ],
      "execution_count": 0,
      "outputs": [
        {
          "output_type": "execute_result",
          "data": {
            "text/plain": [
              "(284315, 31)"
            ]
          },
          "metadata": {
            "tags": []
          },
          "execution_count": 13
        }
      ]
    },
    {
      "metadata": {
        "id": "QUU_0uF3ousd",
        "colab_type": "text"
      },
      "cell_type": "markdown",
      "source": [
        "Quão diferente é a quantidade de dinheiro usada em diferentes classes de transações?"
      ]
    },
    {
      "metadata": {
        "id": "XMvz_RvHouse",
        "colab_type": "code",
        "colab": {},
        "outputId": "ec02defd-9abc-4a1c-b3c8-15e34fb7d305"
      },
      "cell_type": "code",
      "source": [
        "frauds.Amount.describe()"
      ],
      "execution_count": 0,
      "outputs": [
        {
          "output_type": "execute_result",
          "data": {
            "text/plain": [
              "count     492.000000\n",
              "mean      122.211321\n",
              "std       256.683288\n",
              "min         0.000000\n",
              "25%         1.000000\n",
              "50%         9.250000\n",
              "75%       105.890000\n",
              "max      2125.870000\n",
              "Name: Amount, dtype: float64"
            ]
          },
          "metadata": {
            "tags": []
          },
          "execution_count": 14
        }
      ]
    },
    {
      "metadata": {
        "scrolled": true,
        "id": "U7g2Kq6Dousj",
        "colab_type": "code",
        "colab": {},
        "outputId": "95878384-496e-457b-9994-a4a3c3b578b4"
      },
      "cell_type": "code",
      "source": [
        "normal.Amount.describe()"
      ],
      "execution_count": 0,
      "outputs": [
        {
          "output_type": "execute_result",
          "data": {
            "text/plain": [
              "count    284315.000000\n",
              "mean         88.291022\n",
              "std         250.105092\n",
              "min           0.000000\n",
              "25%           5.650000\n",
              "50%          22.000000\n",
              "75%          77.050000\n",
              "max       25691.160000\n",
              "Name: Amount, dtype: float64"
            ]
          },
          "metadata": {
            "tags": []
          },
          "execution_count": 15
        }
      ]
    },
    {
      "metadata": {
        "id": "p8INFaygousn",
        "colab_type": "text"
      },
      "cell_type": "markdown",
      "source": [
        "Vamos criar uma representação mais gráfica:"
      ]
    },
    {
      "metadata": {
        "id": "JriZJB2eouso",
        "colab_type": "code",
        "colab": {},
        "outputId": "e2748757-a08e-4ee1-9976-b59e27263888"
      },
      "cell_type": "code",
      "source": [
        "f, (ax1, ax2) = plt.subplots(2, 1, sharex=True)\n",
        "f.suptitle('Montante por transação por classe')\n",
        "\n",
        "bins = 50\n",
        "\n",
        "ax1.hist(frauds.Amount, bins = bins)\n",
        "ax1.set_title('Fraude')\n",
        "\n",
        "ax2.hist(normal.Amount, bins = bins)\n",
        "ax2.set_title('Normal')\n",
        "\n",
        "plt.xlabel('Total ($)')\n",
        "plt.ylabel('Número de Transações')\n",
        "plt.xlim((0, 20000))\n",
        "plt.yscale('log')\n",
        "plt.show();"
      ],
      "execution_count": 0,
      "outputs": [
        {
          "output_type": "display_data",
          "data": {
            "image/png": "[encoded data removed]",
            "text/plain": [
              "<matplotlib.figure.Figure at 0x7fe7a48fc550>"
            ]
          },
          "metadata": {
            "tags": [],
            "needs_background": "light"
          }
        }
      ]
    },
    {
      "metadata": {
        "id": "9OHn_Hnoouss",
        "colab_type": "text"
      },
      "cell_type": "markdown",
      "source": [
        "As transações fraudulentas ocorrem com mais frequência em determinados momentos? Não parece que o horário da transação realmente importa."
      ]
    },
    {
      "metadata": {
        "id": "cdF2vr5Uoust",
        "colab_type": "code",
        "colab": {},
        "outputId": "25c8f99c-8495-4880-b79a-84b864ba6b8a"
      },
      "cell_type": "code",
      "source": [
        "f, (ax1, ax2) = plt.subplots(2, 1, sharex=True)\n",
        "f.suptitle('Hora da transação vs Valor por classe')\n",
        "\n",
        "ax1.scatter(frauds.Time, frauds.Amount)\n",
        "ax1.set_title('Fraude')\n",
        "\n",
        "ax2.scatter(normal.Time, normal.Amount)\n",
        "ax2.set_title('Normal')\n",
        "\n",
        "plt.xlabel('Tempo (em segundos)')\n",
        "plt.ylabel('Quantidade')\n",
        "plt.show()"
      ],
      "execution_count": 0,
      "outputs": [
        {
          "output_type": "display_data",
          "data": {
            "image/png": "[encoded data removed]",
            "text/plain": [
              "<matplotlib.figure.Figure at 0x7fe7a35c2a20>"
            ]
          },
          "metadata": {
            "tags": [],
            "needs_background": "light"
          }
        }
      ]
    },
    {
      "metadata": {
        "id": "H6VDjm5housx",
        "colab_type": "text"
      },
      "cell_type": "markdown",
      "source": [
        "# Autoencoders\n",
        "\n",
        "Os autoencoders podem parecer bastante estranhos no início. O trabalho desses modelos é prever a entrada, dada a mesma entrada. O autoencoder tenta aprender a aproximar a seguinte função de identidade:\n",
        "\n",
        "$$\\textstyle f_{W,b}(x) \\approx x$$\n",
        "\n",
        "Ao tentar fazer exatamente isso pode parecer trivial no início, mas é importante notar que queremos aprender uma representação comprimida dos dados. Isso pode ser feito limitando o número de unidades ocultas no modelo. \n",
        "\n",
        "Aqui está uma representação visual do que um Autoencoder pode aprender:\n",
        "\n",
        "![](images/mushroom_encoder.png)\n",
        "\n",
        "## Erro de Reconstrução\n",
        "\n",
        "Otimizamos os parâmetros do nosso modelo de Autoencoder de forma a que um tipo especial de erro - erro de reconstrução seja minimizado. Na prática, o erro quadrático tradicional é frequentemente usado:\n",
        "\n",
        "$$\\textstyle L(x,x') = ||\\, x - x'||^2$$"
      ]
    },
    {
      "metadata": {
        "id": "SxFLp5g0ousz",
        "colab_type": "text"
      },
      "cell_type": "markdown",
      "source": [
        "# Preperando os Dados\n",
        "\n",
        "Primeiro, vamos remover a coluna Tempo (não a usaremos) e usar o StandardScaler do Scikit na variável Amount. O escalador remove a média e escala os valores para variância unitária:"
      ]
    },
    {
      "metadata": {
        "id": "k-LV8Mnpous0",
        "colab_type": "code",
        "colab": {}
      },
      "cell_type": "code",
      "source": [
        "from sklearn.preprocessing import StandardScaler\n",
        "\n",
        "data = df.drop(['Time'], axis=1)\n",
        "\n",
        "data['Amount'] = StandardScaler().fit_transform(data['Amount'].values.reshape(-1, 1))"
      ],
      "execution_count": 0,
      "outputs": []
    },
    {
      "metadata": {
        "id": "XYSb2RD4ous3",
        "colab_type": "text"
      },
      "cell_type": "markdown",
      "source": [
        "Treinar nosso Autoencoder vai ser um pouco diferente do que estamos acostumados. Digamos que você tenha um conjunto de dados contendo muitas transações não fraudulentas em mãos. Você deseja detectar qualquer anomalia em novas transações. Nós criaremos esta situação treinando apenas nosso modelo nas transações normais. Reservar a classe correta no conjunto de testes nos dará uma maneira de avaliar o desempenho do nosso modelo. Reservaremos 20% dos nossos dados para testes:"
      ]
    },
    {
      "metadata": {
        "id": "vRBwRptyous4",
        "colab_type": "code",
        "colab": {}
      },
      "cell_type": "code",
      "source": [
        "X_train, X_test = train_test_split(data, test_size=0.2, random_state=RANDOM_SEED)\n",
        "X_train = X_train[X_train.Class == 0]\n",
        "X_train = X_train.drop(['Class'], axis=1)\n",
        "\n",
        "y_test = X_test['Class']\n",
        "X_test = X_test.drop(['Class'], axis=1)\n",
        "\n",
        "X_train = X_train.values\n",
        "X_test = X_test.values"
      ],
      "execution_count": 0,
      "outputs": []
    },
    {
      "metadata": {
        "id": "iZB8HkMsous7",
        "colab_type": "code",
        "colab": {},
        "outputId": "aea52691-dd0b-492e-90e7-9bdbd901ce3a"
      },
      "cell_type": "code",
      "source": [
        "X_train.shape"
      ],
      "execution_count": 0,
      "outputs": [
        {
          "output_type": "execute_result",
          "data": {
            "text/plain": [
              "(227451, 29)"
            ]
          },
          "metadata": {
            "tags": []
          },
          "execution_count": 20
        }
      ]
    },
    {
      "metadata": {
        "id": "dFw6ZZ_Kous_",
        "colab_type": "text"
      },
      "cell_type": "markdown",
      "source": [
        "# Criando o Modelo\n",
        "\n",
        "Nosso Autoencoder usa 4 camadas totalmente conectadas com 14, 7, 7 e 29 neurônios, respectivamente. As duas primeiras camadas são usadas para o nosso codificador, as duas últimas são para o decodificador. Além disso, a regularização L1 será usada durante o treinamento:"
      ]
    },
    {
      "metadata": {
        "id": "_ANSePnsoutA",
        "colab_type": "code",
        "colab": {}
      },
      "cell_type": "code",
      "source": [
        "input_dim = X_train.shape[1]\n",
        "encoding_dim = 14"
      ],
      "execution_count": 0,
      "outputs": []
    },
    {
      "metadata": {
        "id": "AWcZXVNpoutD",
        "colab_type": "code",
        "colab": {}
      },
      "cell_type": "code",
      "source": [
        "input_layer = Input(shape=(input_dim, ))\n",
        "\n",
        "# Encoder\n",
        "encoder = Dense(encoding_dim, activation=\"tanh\", activity_regularizer=regularizers.l1(10e-5))(input_layer)\n",
        "encoder = Dense(int(encoding_dim / 2), activation=\"relu\")(encoder)\n",
        "\n",
        "# Decoder\n",
        "decoder = Dense(int(encoding_dim / 2), activation='tanh')(encoder)\n",
        "decoder = Dense(input_dim, activation='relu')(decoder)\n",
        "\n",
        "# Modelo\n",
        "autoencoder = Model(inputs=input_layer, outputs=decoder)"
      ],
      "execution_count": 0,
      "outputs": []
    },
    {
      "metadata": {
        "id": "ybY9y95EoutI",
        "colab_type": "text"
      },
      "cell_type": "markdown",
      "source": [
        "Vamos treinar nosso modelo por 100 épocas com um tamanho de lote de 32 amostras e salvar o modelo de melhor desempenho em um arquivo. O ModelCheckpoint fornecido pela Keras é realmente útil para essas tarefas. Além disso, o progresso do treinamento será exportado em um formato que possa ser lido pelo TensorBoard."
      ]
    },
    {
      "metadata": {
        "id": "rNMfqUzYoutJ",
        "colab_type": "code",
        "colab": {},
        "outputId": "6ff3ece3-7cad-44b2-f6d7-d1a1e8e8430f"
      },
      "cell_type": "code",
      "source": [
        "nb_epoch = 100\n",
        "batch_size = 32\n",
        "\n",
        "autoencoder.compile(optimizer='adam', loss='mean_squared_error', metrics=['accuracy'])\n",
        "\n",
        "checkpointer = ModelCheckpoint(filepath=\"model.h5\",verbose=0,save_best_only=True)\n",
        "\n",
        "tensorboard = TensorBoard(log_dir='./logs', histogram_freq=0, write_graph=True, write_images=True)\n",
        "\n",
        "history = autoencoder.fit(X_train, X_train,\n",
        "                          epochs = nb_epoch,\n",
        "                          batch_size = batch_size,\n",
        "                          shuffle = True,\n",
        "                          validation_data = (X_test, X_test),\n",
        "                          verbose = 1,\n",
        "                          callbacks = [checkpointer, tensorboard]).history"
      ],
      "execution_count": 0,
      "outputs": [
        {
          "output_type": "stream",
          "text": [
            "Train on 227451 samples, validate on 56962 samples\n",
            "Epoch 1/100\n",
            "227451/227451 [==============================] - 8s - loss: 0.8161 - acc: 0.5835 - val_loss: 0.7925 - val_acc: 0.6461\n",
            "Epoch 2/100\n",
            "227451/227451 [==============================] - 8s - loss: 0.7507 - acc: 0.6546 - val_loss: 0.7753 - val_acc: 0.6625\n",
            "Epoch 3/100\n",
            "227451/227451 [==============================] - 8s - loss: 0.7397 - acc: 0.6674 - val_loss: 0.7665 - val_acc: 0.6739\n",
            "Epoch 4/100\n",
            "227451/227451 [==============================] - 8s - loss: 0.7347 - acc: 0.6728 - val_loss: 0.7712 - val_acc: 0.6654\n",
            "Epoch 5/100\n",
            "227451/227451 [==============================] - 8s - loss: 0.7325 - acc: 0.6754 - val_loss: 0.7637 - val_acc: 0.6700\n",
            "Epoch 6/100\n",
            "227451/227451 [==============================] - 8s - loss: 0.7306 - acc: 0.6771 - val_loss: 0.7620 - val_acc: 0.6766\n",
            "Epoch 7/100\n",
            "227451/227451 [==============================] - 8s - loss: 0.7293 - acc: 0.6785 - val_loss: 0.7606 - val_acc: 0.6864\n",
            "Epoch 8/100\n",
            "227451/227451 [==============================] - 8s - loss: 0.7278 - acc: 0.6837 - val_loss: 0.7577 - val_acc: 0.6833\n",
            "Epoch 9/100\n",
            "227451/227451 [==============================] - 8s - loss: 0.7266 - acc: 0.6869 - val_loss: 0.7667 - val_acc: 0.6843\n",
            "Epoch 10/100\n",
            "227451/227451 [==============================] - 8s - loss: 0.7254 - acc: 0.6892 - val_loss: 0.7585 - val_acc: 0.6870\n",
            "Epoch 11/100\n",
            "227451/227451 [==============================] - 8s - loss: 0.7250 - acc: 0.6881 - val_loss: 0.7574 - val_acc: 0.6901\n",
            "Epoch 12/100\n",
            "227451/227451 [==============================] - 8s - loss: 0.7244 - acc: 0.6898 - val_loss: 0.7569 - val_acc: 0.6871\n",
            "Epoch 13/100\n",
            "227451/227451 [==============================] - 8s - loss: 0.7243 - acc: 0.6897 - val_loss: 0.7560 - val_acc: 0.6886\n",
            "Epoch 14/100\n",
            "227451/227451 [==============================] - 8s - loss: 0.7238 - acc: 0.6895 - val_loss: 0.7581 - val_acc: 0.6830\n",
            "Epoch 15/100\n",
            "227451/227451 [==============================] - 8s - loss: 0.7233 - acc: 0.6903 - val_loss: 0.7553 - val_acc: 0.6940\n",
            "Epoch 16/100\n",
            "227451/227451 [==============================] - 8s - loss: 0.7241 - acc: 0.6898 - val_loss: 0.7569 - val_acc: 0.6874\n",
            "Epoch 17/100\n",
            "227451/227451 [==============================] - 8s - loss: 0.7225 - acc: 0.6902 - val_loss: 0.7551 - val_acc: 0.6871\n",
            "Epoch 18/100\n",
            "227451/227451 [==============================] - 8s - loss: 0.7231 - acc: 0.6902 - val_loss: 0.7595 - val_acc: 0.6887\n",
            "Epoch 19/100\n",
            "227451/227451 [==============================] - 8s - loss: 0.7228 - acc: 0.6897 - val_loss: 0.7608 - val_acc: 0.6812\n",
            "Epoch 20/100\n",
            "227451/227451 [==============================] - 8s - loss: 0.7229 - acc: 0.6910 - val_loss: 0.7608 - val_acc: 0.6786\n",
            "Epoch 21/100\n",
            "227451/227451 [==============================] - 8s - loss: 0.7222 - acc: 0.6912 - val_loss: 0.7566 - val_acc: 0.6861\n",
            "Epoch 22/100\n",
            "227451/227451 [==============================] - 8s - loss: 0.7226 - acc: 0.6912 - val_loss: 0.7530 - val_acc: 0.6910\n",
            "Epoch 23/100\n",
            "227451/227451 [==============================] - 8s - loss: 0.7223 - acc: 0.6918 - val_loss: 0.7565 - val_acc: 0.6888\n",
            "Epoch 24/100\n",
            "227451/227451 [==============================] - 8s - loss: 0.7223 - acc: 0.6919 - val_loss: 0.7565 - val_acc: 0.6906\n",
            "Epoch 25/100\n",
            "227451/227451 [==============================] - 8s - loss: 0.7221 - acc: 0.6915 - val_loss: 0.7530 - val_acc: 0.6928\n",
            "Epoch 26/100\n",
            "227451/227451 [==============================] - 8s - loss: 0.7219 - acc: 0.6926 - val_loss: 0.7560 - val_acc: 0.6879\n",
            "Epoch 27/100\n",
            "227451/227451 [==============================] - 8s - loss: 0.7224 - acc: 0.6920 - val_loss: 0.7549 - val_acc: 0.6894\n",
            "Epoch 28/100\n",
            "227451/227451 [==============================] - 8s - loss: 0.7219 - acc: 0.6922 - val_loss: 0.7529 - val_acc: 0.6920\n",
            "Epoch 29/100\n",
            "227451/227451 [==============================] - 8s - loss: 0.7225 - acc: 0.6917 - val_loss: 0.7530 - val_acc: 0.6917\n",
            "Epoch 30/100\n",
            "227451/227451 [==============================] - 8s - loss: 0.7216 - acc: 0.6917 - val_loss: 0.7542 - val_acc: 0.6907\n",
            "Epoch 31/100\n",
            "227451/227451 [==============================] - 8s - loss: 0.7214 - acc: 0.6920 - val_loss: 0.7537 - val_acc: 0.6899\n",
            "Epoch 32/100\n",
            "227451/227451 [==============================] - 8s - loss: 0.7217 - acc: 0.6913 - val_loss: 0.7574 - val_acc: 0.6830\n",
            "Epoch 33/100\n",
            "227451/227451 [==============================] - 8s - loss: 0.7212 - acc: 0.6923 - val_loss: 0.7549 - val_acc: 0.6881\n",
            "Epoch 34/100\n",
            "227451/227451 [==============================] - 8s - loss: 0.7213 - acc: 0.6919 - val_loss: 0.7540 - val_acc: 0.6878\n",
            "Epoch 35/100\n",
            "227451/227451 [==============================] - 8s - loss: 0.7212 - acc: 0.6916 - val_loss: 0.7534 - val_acc: 0.6915\n",
            "Epoch 36/100\n",
            "227451/227451 [==============================] - 8s - loss: 0.7209 - acc: 0.6916 - val_loss: 0.7580 - val_acc: 0.6841\n",
            "Epoch 37/100\n",
            "227451/227451 [==============================] - 8s - loss: 0.7208 - acc: 0.6912 - val_loss: 0.7572 - val_acc: 0.6872\n",
            "Epoch 38/100\n",
            "227451/227451 [==============================] - 8s - loss: 0.7208 - acc: 0.6921 - val_loss: 0.7559 - val_acc: 0.6929\n",
            "Epoch 39/100\n",
            "227451/227451 [==============================] - 8s - loss: 0.7209 - acc: 0.6915 - val_loss: 0.7523 - val_acc: 0.6948\n",
            "Epoch 40/100\n",
            "227451/227451 [==============================] - 8s - loss: 0.7203 - acc: 0.6919 - val_loss: 0.7541 - val_acc: 0.6889\n",
            "Epoch 41/100\n",
            "227451/227451 [==============================] - 8s - loss: 0.7211 - acc: 0.6920 - val_loss: 0.7536 - val_acc: 0.6925\n",
            "Epoch 42/100\n",
            "227451/227451 [==============================] - 8s - loss: 0.7210 - acc: 0.6912 - val_loss: 0.7547 - val_acc: 0.6929\n",
            "Epoch 43/100\n",
            "227451/227451 [==============================] - 8s - loss: 0.7210 - acc: 0.6916 - val_loss: 0.7531 - val_acc: 0.6925\n",
            "Epoch 44/100\n",
            "227451/227451 [==============================] - 8s - loss: 0.7202 - acc: 0.6921 - val_loss: 0.7617 - val_acc: 0.6784\n",
            "Epoch 45/100\n",
            "227451/227451 [==============================] - 8s - loss: 0.7198 - acc: 0.6926 - val_loss: 0.7513 - val_acc: 0.6922\n",
            "Epoch 46/100\n",
            "227451/227451 [==============================] - 8s - loss: 0.7198 - acc: 0.6920 - val_loss: 0.7535 - val_acc: 0.6925\n",
            "Epoch 47/100\n",
            "227451/227451 [==============================] - 8s - loss: 0.7195 - acc: 0.6939 - val_loss: 0.7603 - val_acc: 0.6877\n",
            "Epoch 48/100\n",
            "227451/227451 [==============================] - 8s - loss: 0.7195 - acc: 0.6934 - val_loss: 0.7514 - val_acc: 0.6907\n",
            "Epoch 49/100\n",
            "227451/227451 [==============================] - 8s - loss: 0.7194 - acc: 0.6930 - val_loss: 0.7531 - val_acc: 0.6905\n",
            "Epoch 50/100\n",
            "227451/227451 [==============================] - 8s - loss: 0.7195 - acc: 0.6931 - val_loss: 0.7556 - val_acc: 0.6891\n",
            "Epoch 51/100\n",
            "227451/227451 [==============================] - 8s - loss: 0.7193 - acc: 0.6940 - val_loss: 0.7542 - val_acc: 0.6924\n",
            "Epoch 52/100\n",
            "227451/227451 [==============================] - 8s - loss: 0.7195 - acc: 0.6930 - val_loss: 0.7536 - val_acc: 0.6817\n",
            "Epoch 53/100\n",
            "227451/227451 [==============================] - 8s - loss: 0.7198 - acc: 0.6932 - val_loss: 0.7523 - val_acc: 0.6945\n",
            "Epoch 54/100\n",
            "227451/227451 [==============================] - 8s - loss: 0.7195 - acc: 0.6933 - val_loss: 0.7518 - val_acc: 0.6969\n",
            "Epoch 55/100\n",
            "227451/227451 [==============================] - 8s - loss: 0.7197 - acc: 0.6938 - val_loss: 0.7541 - val_acc: 0.6899\n",
            "Epoch 56/100\n",
            "227451/227451 [==============================] - 8s - loss: 0.7190 - acc: 0.6936 - val_loss: 0.7542 - val_acc: 0.6823\n",
            "Epoch 57/100\n",
            "227451/227451 [==============================] - 8s - loss: 0.7202 - acc: 0.6938 - val_loss: 0.7553 - val_acc: 0.6959\n",
            "Epoch 58/100\n",
            "227451/227451 [==============================] - 8s - loss: 0.7193 - acc: 0.6943 - val_loss: 0.7579 - val_acc: 0.6901\n",
            "Epoch 59/100\n",
            "227451/227451 [==============================] - 8s - loss: 0.7190 - acc: 0.6940 - val_loss: 0.7548 - val_acc: 0.6875\n",
            "Epoch 60/100\n",
            "227451/227451 [==============================] - 8s - loss: 0.7193 - acc: 0.6941 - val_loss: 0.7655 - val_acc: 0.6836\n",
            "Epoch 61/100\n",
            "227451/227451 [==============================] - 8s - loss: 0.7187 - acc: 0.6943 - val_loss: 0.7530 - val_acc: 0.6919\n",
            "Epoch 62/100\n",
            "227451/227451 [==============================] - 8s - loss: 0.7194 - acc: 0.6941 - val_loss: 0.7531 - val_acc: 0.6977\n",
            "Epoch 63/100\n"
          ],
          "name": "stdout"
        },
        {
          "output_type": "stream",
          "text": [
            "227451/227451 [==============================] - 8s - loss: 0.7192 - acc: 0.6937 - val_loss: 0.7530 - val_acc: 0.6880\n",
            "Epoch 64/100\n",
            "227451/227451 [==============================] - 8s - loss: 0.7192 - acc: 0.6944 - val_loss: 0.7560 - val_acc: 0.6863\n",
            "Epoch 65/100\n",
            "227451/227451 [==============================] - 8s - loss: 0.7187 - acc: 0.6937 - val_loss: 0.7512 - val_acc: 0.6954\n",
            "Epoch 66/100\n",
            "227451/227451 [==============================] - 8s - loss: 0.7186 - acc: 0.6944 - val_loss: 0.7514 - val_acc: 0.6889\n",
            "Epoch 67/100\n",
            "227451/227451 [==============================] - 8s - loss: 0.7194 - acc: 0.6941 - val_loss: 0.7520 - val_acc: 0.6915\n",
            "Epoch 68/100\n",
            "227451/227451 [==============================] - 8s - loss: 0.7189 - acc: 0.6948 - val_loss: 0.7514 - val_acc: 0.6920\n",
            "Epoch 69/100\n",
            "227451/227451 [==============================] - 8s - loss: 0.7187 - acc: 0.6949 - val_loss: 0.7517 - val_acc: 0.6928\n",
            "Epoch 70/100\n",
            "227451/227451 [==============================] - 8s - loss: 0.7190 - acc: 0.6943 - val_loss: 0.7515 - val_acc: 0.6907\n",
            "Epoch 71/100\n",
            "227451/227451 [==============================] - 8s - loss: 0.7190 - acc: 0.6938 - val_loss: 0.7528 - val_acc: 0.6905\n",
            "Epoch 72/100\n",
            "227451/227451 [==============================] - 8s - loss: 0.7189 - acc: 0.6943 - val_loss: 0.7519 - val_acc: 0.6882\n",
            "Epoch 73/100\n",
            "227451/227451 [==============================] - 8s - loss: 0.7186 - acc: 0.6942 - val_loss: 0.7524 - val_acc: 0.6915\n",
            "Epoch 74/100\n",
            "227451/227451 [==============================] - 8s - loss: 0.7190 - acc: 0.6947 - val_loss: 0.7565 - val_acc: 0.6898\n",
            "Epoch 75/100\n",
            "227451/227451 [==============================] - 8s - loss: 0.7193 - acc: 0.6940 - val_loss: 0.7527 - val_acc: 0.6937\n",
            "Epoch 76/100\n",
            "227451/227451 [==============================] - 8s - loss: 0.7188 - acc: 0.6944 - val_loss: 0.7523 - val_acc: 0.6959\n",
            "Epoch 77/100\n",
            "227451/227451 [==============================] - 8s - loss: 0.7186 - acc: 0.6936 - val_loss: 0.7573 - val_acc: 0.6867\n",
            "Epoch 78/100\n",
            "227451/227451 [==============================] - 8s - loss: 0.7190 - acc: 0.6940 - val_loss: 0.7511 - val_acc: 0.6898\n",
            "Epoch 79/100\n",
            "227451/227451 [==============================] - 8s - loss: 0.7192 - acc: 0.6930 - val_loss: 0.7520 - val_acc: 0.6926\n",
            "Epoch 80/100\n",
            "227451/227451 [==============================] - 8s - loss: 0.7186 - acc: 0.6938 - val_loss: 0.7526 - val_acc: 0.6964\n",
            "Epoch 81/100\n",
            "227451/227451 [==============================] - 8s - loss: 0.7202 - acc: 0.6945 - val_loss: 0.7515 - val_acc: 0.7011\n",
            "Epoch 82/100\n",
            "227451/227451 [==============================] - 8s - loss: 0.7185 - acc: 0.6958 - val_loss: 0.7630 - val_acc: 0.6762\n",
            "Epoch 83/100\n",
            "227451/227451 [==============================] - 8s - loss: 0.7190 - acc: 0.6948 - val_loss: 0.7550 - val_acc: 0.6916\n",
            "Epoch 84/100\n",
            "227451/227451 [==============================] - 8s - loss: 0.7194 - acc: 0.6948 - val_loss: 0.7539 - val_acc: 0.6917\n",
            "Epoch 85/100\n",
            "227451/227451 [==============================] - 8s - loss: 0.7185 - acc: 0.6946 - val_loss: 0.7514 - val_acc: 0.6924\n",
            "Epoch 86/100\n",
            "227451/227451 [==============================] - 8s - loss: 0.7188 - acc: 0.6943 - val_loss: 0.7522 - val_acc: 0.6875\n",
            "Epoch 87/100\n",
            "227451/227451 [==============================] - 8s - loss: 0.7184 - acc: 0.6945 - val_loss: 0.7526 - val_acc: 0.6927\n",
            "Epoch 88/100\n",
            "227451/227451 [==============================] - 8s - loss: 0.7190 - acc: 0.6947 - val_loss: 0.7523 - val_acc: 0.6956\n",
            "Epoch 89/100\n",
            "227451/227451 [==============================] - 8s - loss: 0.7185 - acc: 0.6952 - val_loss: 0.7524 - val_acc: 0.6936\n",
            "Epoch 90/100\n",
            "227451/227451 [==============================] - 8s - loss: 0.7179 - acc: 0.6951 - val_loss: 0.7518 - val_acc: 0.6897\n",
            "Epoch 91/100\n",
            "227451/227451 [==============================] - 8s - loss: 0.7191 - acc: 0.6937 - val_loss: 0.7525 - val_acc: 0.6865\n",
            "Epoch 92/100\n",
            "227451/227451 [==============================] - 8s - loss: 0.7187 - acc: 0.6934 - val_loss: 0.7726 - val_acc: 0.6587\n",
            "Epoch 93/100\n",
            "227451/227451 [==============================] - 8s - loss: 0.7183 - acc: 0.6942 - val_loss: 0.7518 - val_acc: 0.6974\n",
            "Epoch 94/100\n",
            "227451/227451 [==============================] - 8s - loss: 0.7185 - acc: 0.6951 - val_loss: 0.7507 - val_acc: 0.6904\n",
            "Epoch 95/100\n",
            "227451/227451 [==============================] - 8s - loss: 0.7185 - acc: 0.6941 - val_loss: 0.7512 - val_acc: 0.6920\n",
            "Epoch 96/100\n",
            "227451/227451 [==============================] - 8s - loss: 0.7185 - acc: 0.6941 - val_loss: 0.7522 - val_acc: 0.6928\n",
            "Epoch 97/100\n",
            "227451/227451 [==============================] - 8s - loss: 0.7180 - acc: 0.6952 - val_loss: 0.7521 - val_acc: 0.6857\n",
            "Epoch 98/100\n",
            "227451/227451 [==============================] - 8s - loss: 0.7184 - acc: 0.6950 - val_loss: 0.7508 - val_acc: 0.6947\n",
            "Epoch 99/100\n",
            "227451/227451 [==============================] - 8s - loss: 0.7184 - acc: 0.6943 - val_loss: 0.7547 - val_acc: 0.6867\n",
            "Epoch 100/100\n",
            "227451/227451 [==============================] - 8s - loss: 0.7189 - acc: 0.6940 - val_loss: 0.7513 - val_acc: 0.6959\n"
          ],
          "name": "stdout"
        }
      ]
    },
    {
      "metadata": {
        "id": "l9rWUbGJoutQ",
        "colab_type": "code",
        "colab": {}
      },
      "cell_type": "code",
      "source": [
        "autoencoder = load_model('model.h5')"
      ],
      "execution_count": 0,
      "outputs": []
    },
    {
      "metadata": {
        "id": "xdcJhZ3ioutV",
        "colab_type": "text"
      },
      "cell_type": "markdown",
      "source": [
        "# Avaliação"
      ]
    },
    {
      "metadata": {
        "id": "YvoXfRCXoutW",
        "colab_type": "code",
        "colab": {},
        "outputId": "ed34e1f0-23fc-4ffc-d5fd-7963e842aefb"
      },
      "cell_type": "code",
      "source": [
        "plt.plot(history['loss'])\n",
        "plt.plot(history['val_loss'])\n",
        "plt.title('model loss')\n",
        "plt.ylabel('loss')\n",
        "plt.xlabel('epoch')\n",
        "plt.legend(['train', 'test'], loc='upper right');"
      ],
      "execution_count": 0,
      "outputs": [
        {
          "output_type": "display_data",
          "data": {
            "image/png": "[encoded data removed]",
            "text/plain": [
              "<matplotlib.figure.Figure at 0x7fe7a35570f0>"
            ]
          },
          "metadata": {
            "tags": [],
            "needs_background": "light"
          }
        }
      ]
    },
    {
      "metadata": {
        "id": "mL1s_4BRoutb",
        "colab_type": "text"
      },
      "cell_type": "markdown",
      "source": [
        "O erro de reconstrução em nossos dados de treinamento e teste parece convergir bem. É baixo o suficiente? Vamos dar uma olhada na distribuição de erros:"
      ]
    },
    {
      "metadata": {
        "id": "8rNjaaPooutd",
        "colab_type": "code",
        "colab": {}
      },
      "cell_type": "code",
      "source": [
        "predictions = autoencoder.predict(X_test)"
      ],
      "execution_count": 0,
      "outputs": []
    },
    {
      "metadata": {
        "id": "yEjpooEloutj",
        "colab_type": "code",
        "colab": {}
      },
      "cell_type": "code",
      "source": [
        "mse = np.mean(np.power(X_test - predictions, 2), axis=1)\n",
        "error_df = pd.DataFrame({'reconstruction_error': mse, 'true_class': y_test})"
      ],
      "execution_count": 0,
      "outputs": []
    },
    {
      "metadata": {
        "id": "KxQb8gB6outo",
        "colab_type": "code",
        "colab": {},
        "outputId": "c54c9d34-1784-40d9-d443-11c1d62b37f5"
      },
      "cell_type": "code",
      "source": [
        "error_df.describe()"
      ],
      "execution_count": 0,
      "outputs": [
        {
          "output_type": "execute_result",
          "data": {
            "text/html": [
              "<div>\n",
              "<style scoped>\n",
              "    .dataframe tbody tr th:only-of-type {\n",
              "        vertical-align: middle;\n",
              "    }\n",
              "\n",
              "    .dataframe tbody tr th {\n",
              "        vertical-align: top;\n",
              "    }\n",
              "\n",
              "    .dataframe thead th {\n",
              "        text-align: right;\n",
              "    }\n",
              "</style>\n",
              "<table border=\"1\" class=\"dataframe\">\n",
              "  <thead>\n",
              "    <tr style=\"text-align: right;\">\n",
              "      <th></th>\n",
              "      <th>reconstruction_error</th>\n",
              "      <th>true_class</th>\n",
              "    </tr>\n",
              "  </thead>\n",
              "  <tbody>\n",
              "    <tr>\n",
              "      <th>count</th>\n",
              "      <td>56962.000000</td>\n",
              "      <td>56962.000000</td>\n",
              "    </tr>\n",
              "    <tr>\n",
              "      <th>mean</th>\n",
              "      <td>0.742471</td>\n",
              "      <td>0.001720</td>\n",
              "    </tr>\n",
              "    <tr>\n",
              "      <th>std</th>\n",
              "      <td>3.419506</td>\n",
              "      <td>0.041443</td>\n",
              "    </tr>\n",
              "    <tr>\n",
              "      <th>min</th>\n",
              "      <td>0.040365</td>\n",
              "      <td>0.000000</td>\n",
              "    </tr>\n",
              "    <tr>\n",
              "      <th>25%</th>\n",
              "      <td>0.240446</td>\n",
              "      <td>0.000000</td>\n",
              "    </tr>\n",
              "    <tr>\n",
              "      <th>50%</th>\n",
              "      <td>0.396927</td>\n",
              "      <td>0.000000</td>\n",
              "    </tr>\n",
              "    <tr>\n",
              "      <th>75%</th>\n",
              "      <td>0.625687</td>\n",
              "      <td>0.000000</td>\n",
              "    </tr>\n",
              "    <tr>\n",
              "      <th>max</th>\n",
              "      <td>254.064916</td>\n",
              "      <td>1.000000</td>\n",
              "    </tr>\n",
              "  </tbody>\n",
              "</table>\n",
              "</div>"
            ],
            "text/plain": [
              "       reconstruction_error    true_class\n",
              "count          56962.000000  56962.000000\n",
              "mean               0.742471      0.001720\n",
              "std                3.419506      0.041443\n",
              "min                0.040365      0.000000\n",
              "25%                0.240446      0.000000\n",
              "50%                0.396927      0.000000\n",
              "75%                0.625687      0.000000\n",
              "max              254.064916      1.000000"
            ]
          },
          "metadata": {
            "tags": []
          },
          "execution_count": 29
        }
      ]
    },
    {
      "metadata": {
        "id": "tp0-hnpkoutw",
        "colab_type": "text"
      },
      "cell_type": "markdown",
      "source": [
        "## Erro de Reconstrução sem Fraude"
      ]
    },
    {
      "metadata": {
        "id": "z3VFvKgboutz",
        "colab_type": "code",
        "colab": {},
        "outputId": "8ee5755c-6542-496f-f94f-3800f8804732"
      },
      "cell_type": "code",
      "source": [
        "fig = plt.figure()\n",
        "ax = fig.add_subplot(111)\n",
        "normal_error_df = error_df[(error_df['true_class']== 0) & (error_df['reconstruction_error'] < 10)]\n",
        "_ = ax.hist(normal_error_df.reconstruction_error.values, bins=10)"
      ],
      "execution_count": 0,
      "outputs": [
        {
          "output_type": "display_data",
          "data": {
            "image/png": "[encoded data removed]",
            "text/plain": [
              "<matplotlib.figure.Figure at 0x7fe7a35c2ef0>"
            ]
          },
          "metadata": {
            "tags": [],
            "needs_background": "light"
          }
        }
      ]
    },
    {
      "metadata": {
        "id": "pgwQuwEHout4",
        "colab_type": "text"
      },
      "cell_type": "markdown",
      "source": [
        "## Erro de Reconstrução com Fraude"
      ]
    },
    {
      "metadata": {
        "id": "yvE6U89Aout4",
        "colab_type": "code",
        "colab": {},
        "outputId": "5d1a2a7d-62bb-4079-cbf5-88c7d148f1dc"
      },
      "cell_type": "code",
      "source": [
        "fig = plt.figure()\n",
        "ax = fig.add_subplot(111)\n",
        "fraud_error_df = error_df[error_df['true_class'] == 1]\n",
        "_ = ax.hist(fraud_error_df.reconstruction_error.values, bins=10)"
      ],
      "execution_count": 0,
      "outputs": [
        {
          "output_type": "display_data",
          "data": {
            "image/png": "[encoded data removed]",
            "text/plain": [
              "<matplotlib.figure.Figure at 0x7fe7a360fcc0>"
            ]
          },
          "metadata": {
            "tags": [],
            "needs_background": "light"
          }
        }
      ]
    },
    {
      "metadata": {
        "id": "LMu-3s1Nout8",
        "colab_type": "code",
        "colab": {}
      },
      "cell_type": "code",
      "source": [
        "from sklearn.metrics import (confusion_matrix, precision_recall_curve, auc,\n",
        "                             roc_curve, recall_score, classification_report, f1_score,\n",
        "                             precision_recall_fscore_support)"
      ],
      "execution_count": 0,
      "outputs": []
    },
    {
      "metadata": {
        "id": "R1A0t4x3out_",
        "colab_type": "text"
      },
      "cell_type": "markdown",
      "source": [
        "As curvas ROC são uma ferramenta muito útil para entender o desempenho dos classificadores binários. No entanto, nosso caso é um pouco fora do comum. Temos um conjunto de dados muito desequilibrado. No entanto, vamos dar uma olhada na nossa curva ROC:"
      ]
    },
    {
      "metadata": {
        "id": "J8-f8DLCouuB",
        "colab_type": "code",
        "colab": {},
        "outputId": "d560b30a-741f-42e8-93d3-2a224f65bce8"
      },
      "cell_type": "code",
      "source": [
        "fpr, tpr, thresholds = roc_curve(error_df.true_class, error_df.reconstruction_error)\n",
        "roc_auc = auc(fpr, tpr)\n",
        "\n",
        "plt.title('Receiver Operating Characteristic (ROC)')\n",
        "plt.plot(fpr, tpr, label='AUC = %0.4f'% roc_auc)\n",
        "plt.legend(loc='lower right')\n",
        "plt.plot([0,1],[0,1],'r--')\n",
        "plt.xlim([-0.001, 1])\n",
        "plt.ylim([0, 1.001])\n",
        "plt.ylabel('Taxa de Verdadeiro Positivo')\n",
        "plt.xlabel('Taxa de Falso Positivo')\n",
        "plt.show();"
      ],
      "execution_count": 0,
      "outputs": [
        {
          "output_type": "display_data",
          "data": {
            "image/png": "[encoded data removed]",
            "text/plain": [
              "<matplotlib.figure.Figure at 0x7fe7587a9208>"
            ]
          },
          "metadata": {
            "tags": [],
            "needs_background": "light"
          }
        }
      ]
    },
    {
      "metadata": {
        "id": "-R1ciVlXouuH",
        "colab_type": "text"
      },
      "cell_type": "markdown",
      "source": [
        "A curva ROC permite visualizar a taxa de verdadeiros positivos versus a taxa de falsos positivos, em diferentes valores. Basicamente, queremos que a linha azul seja o mais próxima possível do canto superior esquerdo. Embora nossos resultados parecem muito bons, temos que ter em mente a natureza do nosso conjunto de dados. O ROC não parece muito útil para nós. \n",
        "\n",
        "## Precision vs Recall\n",
        "\n",
        "<img src=\"images/roc.png\" />\n",
        "\n",
        "Precisão e recall são definidos da seguinte forma:\n",
        "\n",
        "$$\\text{Precision} = \\frac{\\text{true positives}}{\\text{true positives} + \\text{false positives}}$$\n",
        "\n",
        "$$\\text{Recall} = \\frac{\\text{true positives}}{\\text{true positives} + \\text{false negatives}}$$\n",
        "\n",
        "Vamos tirar um exemplo da Recuperação de Informações para entender melhor a precisão e o recall. A precisão mede a relevância dos resultados obtidos. Recall, por outro lado, mede quantos resultados relevantes são retornados. Ambos os valores podem ter valores entre 0 e 1. Você gostaria de ter um sistema com os dois valores iguais a 1.\n",
        "\n",
        "Vamos retornar ao nosso exemplo da Recuperação de Informações. Recall elevada, mas Precisão baixa, significa muitos resultados, a maioria dos quais tem baixa ou nenhuma relevância. Quando a Precisão é alta, mas o Recall é baixo, temos o oposto - poucos resultados retornados com alta relevância. Idealmente, você gostaria de alta precisão e alto recall - muitos resultados altamente relevantes."
      ]
    },
    {
      "metadata": {
        "id": "hafaT5koouuN",
        "colab_type": "code",
        "colab": {},
        "outputId": "7a86d2b5-5996-4096-9471-cb4ad98509b0"
      },
      "cell_type": "code",
      "source": [
        "precision, recall, th = precision_recall_curve(error_df.true_class, error_df.reconstruction_error)\n",
        "plt.plot(recall, precision, 'b', label='Precision-Recall curve')\n",
        "plt.title('Recall vs Precision')\n",
        "plt.xlabel('Recall')\n",
        "plt.ylabel('Precision')\n",
        "plt.show()"
      ],
      "execution_count": 0,
      "outputs": [
        {
          "output_type": "display_data",
          "data": {
            "image/png": "[encoded data removed]",
            "text/plain": [
              "<matplotlib.figure.Figure at 0x7fe7587bb128>"
            ]
          },
          "metadata": {
            "tags": [],
            "needs_background": "light"
          }
        }
      ]
    },
    {
      "metadata": {
        "id": "BtL4xMRsouuT",
        "colab_type": "text"
      },
      "cell_type": "markdown",
      "source": [
        "Uma área alta sob a curva representa tanto o recall alto quanto a alta precisão, onde a alta precisão se relaciona com uma baixa taxa de falsos positivos, e o recall alto se refere a uma baixa taxa de falso negativo. Scores elevados para ambos mostram que o classificador está retornando resultados precisos (alta precisão), além de retornar a maioria de todos os resultados positivos (recall elevado)."
      ]
    },
    {
      "metadata": {
        "id": "T5dzMOWXouua",
        "colab_type": "code",
        "colab": {},
        "outputId": "09e2b7cd-1458-468c-87d4-71d93d1666d0"
      },
      "cell_type": "code",
      "source": [
        "plt.plot(th, precision[1:], 'b', label='Threshold-Precision curve')\n",
        "plt.title('Precision for different threshold values')\n",
        "plt.xlabel('Threshold')\n",
        "plt.ylabel('Precision')\n",
        "plt.show()"
      ],
      "execution_count": 0,
      "outputs": [
        {
          "output_type": "display_data",
          "data": {
            "image/png": "[encoded data removed]",
            "text/plain": [
              "<matplotlib.figure.Figure at 0x7fe7a3557e48>"
            ]
          },
          "metadata": {
            "tags": [],
            "needs_background": "light"
          }
        }
      ]
    },
    {
      "metadata": {
        "id": "seoHGI1Qouue",
        "colab_type": "text"
      },
      "cell_type": "markdown",
      "source": [
        "Você pode ver que, à medida que o erro de reconstrução aumenta, nossa precisão aumenta também. Vamos dar uma olhada no recall:"
      ]
    },
    {
      "metadata": {
        "id": "6f9L_0GIouuf",
        "colab_type": "code",
        "colab": {},
        "outputId": "66e9447f-f95f-4583-824c-17da87c7c948"
      },
      "cell_type": "code",
      "source": [
        "plt.plot(th, recall[1:], 'b', label='Threshold-Recall curve')\n",
        "plt.title('Recall for different threshold values')\n",
        "plt.xlabel('Reconstruction error')\n",
        "plt.ylabel('Recall')\n",
        "plt.show()"
      ],
      "execution_count": 0,
      "outputs": [
        {
          "output_type": "display_data",
          "data": {
            "image/png": "[encoded data removed]",
            "text/plain": [
              "<matplotlib.figure.Figure at 0x7fe7506d9da0>"
            ]
          },
          "metadata": {
            "tags": [],
            "needs_background": "light"
          }
        }
      ]
    },
    {
      "metadata": {
        "id": "BV8evyQ0ouuj",
        "colab_type": "text"
      },
      "cell_type": "markdown",
      "source": [
        "Aqui, temos a situação exata oposta. À medida que o erro de reconstrução aumenta, a revogação diminui."
      ]
    },
    {
      "metadata": {
        "id": "8UIENTdTouul",
        "colab_type": "text"
      },
      "cell_type": "markdown",
      "source": [
        "# Previsões\n",
        "\n",
        "Nosso modelo é um pouco diferente desta vez. Não sabe como prever novos valores. Mas não precisamos disso. Para prever se uma transação nova ou não é normal ou fraudulenta, calcularemos o erro de reconstrução dos próprios dados da transação. Se o erro for maior que um limite predefinido, o marcaremos como uma fraude (já que nosso modelo deve ter um erro baixo nas transações normais). Vamos escolher esse valor:"
      ]
    },
    {
      "metadata": {
        "id": "5KbQoWwZouun",
        "colab_type": "code",
        "colab": {}
      },
      "cell_type": "code",
      "source": [
        "threshold = 2.9"
      ],
      "execution_count": 0,
      "outputs": []
    },
    {
      "metadata": {
        "id": "kUaxjD4kouup",
        "colab_type": "text"
      },
      "cell_type": "markdown",
      "source": [
        "E veja o quão bem estamos dividindo os dois tipos de transações:"
      ]
    },
    {
      "metadata": {
        "id": "YDUWbvNnouuq",
        "colab_type": "code",
        "colab": {},
        "outputId": "1fad9d96-5411-47c2-87f3-15169e6c272b"
      },
      "cell_type": "code",
      "source": [
        "groups = error_df.groupby('true_class')\n",
        "fig, ax = plt.subplots()\n",
        "\n",
        "for name, group in groups:\n",
        "    ax.plot(group.index, group.reconstruction_error, marker='o', ms=3.5, linestyle='',\n",
        "            label= \"Fraud\" if name == 1 else \"Normal\")\n",
        "ax.hlines(threshold, ax.get_xlim()[0], ax.get_xlim()[1], colors=\"r\", zorder=100, label='Threshold')\n",
        "ax.legend()\n",
        "plt.title(\"Erro de Reconstrução Para Diferentes Classes\")\n",
        "plt.ylabel(\"Erro de Reconstrução\")\n",
        "plt.xlabel(\"Index\")\n",
        "plt.show();"
      ],
      "execution_count": 0,
      "outputs": [
        {
          "output_type": "display_data",
          "data": {
            "image/png": "[encoded data removed]",
            "text/plain": [
              "<matplotlib.figure.Figure at 0x7fe75069ca20>"
            ]
          },
          "metadata": {
            "tags": [],
            "needs_background": "light"
          }
        }
      ]
    },
    {
      "metadata": {
        "id": "VOuFbyebouuu",
        "colab_type": "text"
      },
      "cell_type": "markdown",
      "source": [
        "Eu sei, essa tabela pode ser um pouco enganadora. Vamos dar uma olhada na matriz de confusão:"
      ]
    },
    {
      "metadata": {
        "id": "rxUMLJxuouux",
        "colab_type": "code",
        "colab": {},
        "outputId": "c501c96b-1d15-4ff4-9970-0b6a83052a71"
      },
      "cell_type": "code",
      "source": [
        "y_pred = [1 if e > threshold else 0 for e in error_df.reconstruction_error.values]\n",
        "conf_matrix = confusion_matrix(error_df.true_class, y_pred)\n",
        "\n",
        "plt.figure(figsize=(12, 12))\n",
        "sns.heatmap(conf_matrix, xticklabels=LABELS, yticklabels=LABELS, annot=True, fmt=\"d\");\n",
        "plt.title(\"Confusion matrix\")\n",
        "plt.ylabel('True class')\n",
        "plt.xlabel('Predicted class')\n",
        "plt.show()"
      ],
      "execution_count": 0,
      "outputs": [
        {
          "output_type": "display_data",
          "data": {
            "image/png": "[encoded data removed]",
            "text/plain": [
              "<matplotlib.figure.Figure at 0x7fe7037779b0>"
            ]
          },
          "metadata": {
            "tags": [],
            "needs_background": "light"
          }
        }
      ]
    },
    {
      "metadata": {
        "id": "tDxKwtTbouu4",
        "colab_type": "text"
      },
      "cell_type": "markdown",
      "source": [
        "Nosso modelo parece pegar muitos dos casos fraudulentos. O número de transações normais classificadas como fraudes é realmente alto. Isto é realmente um problema? Provavelmente é. Você pode querer aumentar ou diminuir o valor do limite, dependendo do problema. Essa é com você.\n",
        "\n",
        "# Conclusão\n",
        "\n",
        "Criamos um autoencoder profundo em Keras que pode reconstruir o que as transações não fraudulentas se parecem. Pense nisso, nós demos muitos exemplos de uma classe (transações normais) para um modelo e aprendemos (um pouco) como discriminar se os novos exemplos pertencem ou não a essa mesma classe. Não é legal? Nosso conjunto de dados era um pouco mágico. Nós realmente não sabemos como são as características originais.\n",
        "\n",
        "\n",
        "# Referências\n",
        "\n",
        "- [Stanford tutorial on Autoencoders](http://ufldl.stanford.edu/tutorial/unsupervised/Autoencoders/)\n"
      ]
    }
  ]
}