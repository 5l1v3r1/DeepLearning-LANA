{
 "cells": [
  {
   "cell_type": "markdown",
   "metadata": {},
   "source": [
    "# Multilayer Perceptron"
   ]
  },
  {
   "cell_type": "markdown",
   "metadata": {},
   "source": [
    "Historicamente, Perceptron foi o nome dado a um modelo de rede neural com uma única camada linear. Se o modelo tem múltiplas camadas, chamamos de Perceptron Multicamada (MLP - Multilayer Perceprtron). Cada nó na primeira camada recebe uma entrada e dispara de acordo com os limites de decisão locais predefinidos (thresholds). Em seguida, a saída da primeira camada é passada para a segunda camada, cujos resultados são passados para a camada de saída final consistindo de um único neurônio. \n",
    "\n",
    "A rede pode ser densa, o que significa que cada neurônio em uma camada está conectado a todos os neurônios localizados na camada anterior e a todos os neurônios na camada seguinte."
   ]
  },
  {
   "cell_type": "markdown",
   "metadata": {},
   "source": [
    "### Treinando Redes Neurais com Keras"
   ]
  },
  {
   "cell_type": "markdown",
   "metadata": {},
   "source": [
    "Vamos considerar um único neurônio. Quais são as melhores escolhas para o peso w e o bias b? Idealmente, gostaríamos de fornecer um conjunto de exemplos de treinamento e deixar o computador ajustar o peso e o bias de tal forma que os erros produzidos na saída sejam minimizados. A fim de tornar isso um pouco mais concreto, vamos supor que temos um conjunto de imagens de gatos e outro conjunto separado de imagens que não contenham gatos. Por uma questão de simplicidade, suponha que cada neurônio olhe para um único valor de pixel de entrada. Enquanto o computador processa essas imagens, gostaríamos que nosso neurônio ajustasse seus pesos e bias para que tenhamos menos e menos imagens erroneamente reconhecidas como não-gatos. Essa abordagem parece muito intuitiva, mas exige que uma pequena alteração nos pesos (e/ou bias) cause apenas uma pequena mudança nas saídas."
   ]
  },
  {
   "cell_type": "markdown",
   "metadata": {},
   "source": [
    "Se tivermos um grande salto de saída, não podemos aprender progressivamente. Afinal, as crianças aprendem pouco a pouco. Infelizmente, o perceptron não mostra esse comportamento \"pouco a pouco\". Um perceptron é 0 ou 1 e isso é um grande salto e não vai ajudá-lo a aprender. Precisamos de algo diferente, mais suave. Precisamos de uma função que mude progressivamente de 0 para 1 sem descontinuidade. Matematicamente, isso significa que precisamos de uma função contínua que nos permita calcular a derivada."
   ]
  },
  {
   "cell_type": "markdown",
   "metadata": {},
   "source": [
    "Cada neurônio pode ser inicializado com pesos específicos. Keras oferece algumas opções, a mais comum são:\n",
    "\n",
    "Random_uniform: Os pesos são inicializados com valores uniformemente pequenos e aleatórios em (-0,05, 0,05). \n",
    "\n",
    "Random_normal: Os pesos são inicializados de acordo com uma distribuição Gaussiana, com média zero e pequeno desvio padrão de 0,05. \n",
    "\n",
    "Zero: Todos os pesos são inicializados para zero."
   ]
  },
  {
   "cell_type": "code",
   "execution_count": 1,
   "metadata": {},
   "outputs": [],
   "source": [
    "# !pip install keras\n",
    "# !pip install tensorflow\n",
    "# !pip install scikit-learn\n",
    "# !pip install numpy"
   ]
  },
  {
   "cell_type": "code",
   "execution_count": 2,
   "metadata": {},
   "outputs": [
    {
     "name": "stderr",
     "output_type": "stream",
     "text": [
      "Using TensorFlow backend.\n",
      "/Users/vladimiralencar/anaconda3/lib/python3.7/importlib/_bootstrap.py:219: RuntimeWarning: compiletime version 3.6 of module 'tensorflow.python.framework.fast_tensor_util' does not match runtime version 3.7\n",
      "  return f(*args, **kwds)\n"
     ]
    }
   ],
   "source": [
    "from keras.models import Sequential\n",
    "from keras.layers import Dense\n",
    "from sklearn.model_selection import train_test_split\n",
    "import numpy "
   ]
  },
  {
   "cell_type": "code",
   "execution_count": 3,
   "metadata": {},
   "outputs": [],
   "source": [
    "# Random seed\n",
    "seed = 7\n",
    "numpy.random.seed(seed)"
   ]
  },
  {
   "cell_type": "markdown",
   "metadata": {},
   "source": [
    "https://archive.ics.uci.edu/ml/datasets/pima+indians+diabetes"
   ]
  },
  {
   "cell_type": "code",
   "execution_count": 5,
   "metadata": {},
   "outputs": [],
   "source": [
    "# Dataset Diabetes\n",
    "# 1. Number of times pregnant\n",
    "# 2. Plasma glucose concentration a 2 hours in an oral glucose tolerance test\n",
    "# 3. Diastolic blood pressure (mm Hg)\n",
    "# 4. Triceps skin fold thickness (mm)\n",
    "# 5. 2-Hour serum insulin (mu U/ml)\n",
    "# 6. Body mass index (weight in kg/(height in m)^2)\n",
    "# 7. Diabetes pedigree function\n",
    "# 8. Age (years)\n",
    "# 9. Class variable (0 or 1)"
   ]
  },
  {
   "cell_type": "code",
   "execution_count": 6,
   "metadata": {},
   "outputs": [
    {
     "data": {
      "text/plain": [
       "array([[  6.   , 148.   ,  72.   ,  35.   ,   0.   ,  33.6  ,   0.627,\n",
       "         50.   ,   1.   ],\n",
       "       [  1.   ,  85.   ,  66.   ,  29.   ,   0.   ,  26.6  ,   0.351,\n",
       "         31.   ,   0.   ]])"
      ]
     },
     "execution_count": 6,
     "metadata": {},
     "output_type": "execute_result"
    }
   ],
   "source": [
    "# Carregando o dataset\n",
    "file = \"data.csv\"\n",
    "dataset = numpy.loadtxt(\"data.csv\", delimiter=\",\")\n",
    "dataset[:2]"
   ]
  },
  {
   "cell_type": "code",
   "execution_count": 7,
   "metadata": {},
   "outputs": [
    {
     "data": {
      "text/plain": [
       "array([[  6.   , 148.   ,  72.   , ...,   0.627,  50.   ,   1.   ],\n",
       "       [  1.   ,  85.   ,  66.   , ...,   0.351,  31.   ,   0.   ],\n",
       "       [  8.   , 183.   ,  64.   , ...,   0.672,  32.   ,   1.   ],\n",
       "       ...,\n",
       "       [  5.   , 121.   ,  72.   , ...,   0.245,  30.   ,   0.   ],\n",
       "       [  1.   , 126.   ,  60.   , ...,   0.349,  47.   ,   1.   ],\n",
       "       [  1.   ,  93.   ,  70.   , ...,   0.315,  23.   ,   0.   ]])"
      ]
     },
     "execution_count": 7,
     "metadata": {},
     "output_type": "execute_result"
    }
   ],
   "source": [
    "# Imprime o dataset\n",
    "dataset"
   ]
  },
  {
   "cell_type": "code",
   "execution_count": 8,
   "metadata": {},
   "outputs": [],
   "source": [
    "# Split em variáveis de input (X) e output (Y) \n",
    "X = dataset[:,0:8]\n",
    "Y = dataset[:,8]"
   ]
  },
  {
   "cell_type": "code",
   "execution_count": 9,
   "metadata": {},
   "outputs": [],
   "source": [
    "# split into 67% for train and 33% for test\n",
    "X_train, X_test, y_train, y_test = train_test_split(X, Y, test_size=0.33, random_state=seed)"
   ]
  },
  {
   "cell_type": "markdown",
   "metadata": {},
   "source": [
    "## Colocar os dados em Escala (Padronização)"
   ]
  },
  {
   "cell_type": "code",
   "execution_count": 10,
   "metadata": {},
   "outputs": [],
   "source": [
    "mu, sigma = X_train.mean(axis=0), X_train.std(axis=0)\n",
    "X_train = (X_train - mu) / sigma\n",
    "\n",
    "mu, sigma = X_test.mean(axis=0), X_test.std(axis=0)\n",
    "X_test = (X_test - mu) / sigma"
   ]
  },
  {
   "cell_type": "code",
   "execution_count": 14,
   "metadata": {},
   "outputs": [
    {
     "data": {
      "text/plain": [
       "array([[-0.86  , -1.1281, -0.4467, -0.5708, -0.326 , -0.5625,  0.262 ,\n",
       "        -0.8511],\n",
       "       [ 0.8356,  1.8639,  0.7   , -0.0025,  0.8771,  0.5194,  0.2801,\n",
       "         1.3481],\n",
       "       [ 2.5311,  0.9104,  1.0127,  0.7553, -0.4391, -0.6122,  0.7177,\n",
       "         0.6965]])"
      ]
     },
     "execution_count": 14,
     "metadata": {},
     "output_type": "execute_result"
    }
   ],
   "source": [
    "numpy.set_printoptions(precision=4, suppress=True)\n",
    "X_test[:3]"
   ]
  },
  {
   "cell_type": "markdown",
   "metadata": {},
   "source": [
    "https://keras.io/initializers/"
   ]
  },
  {
   "cell_type": "code",
   "execution_count": 15,
   "metadata": {},
   "outputs": [],
   "source": [
    "# Cria o modelo\n",
    "# kernel_initializer - inicialização dos pesos\n",
    "\n",
    "model = Sequential()\n",
    "model.add(Dense(12, input_dim = 8, kernel_initializer = 'uniform', activation = 'relu'))\n",
    "model.add(Dense(8, kernel_initializer = 'uniform', activation = 'relu'))\n",
    "model.add(Dense(1, kernel_initializer = 'uniform', activation = 'sigmoid'))"
   ]
  },
  {
   "cell_type": "code",
   "execution_count": 16,
   "metadata": {},
   "outputs": [
    {
     "name": "stdout",
     "output_type": "stream",
     "text": [
      "_________________________________________________________________\n",
      "Layer (type)                 Output Shape              Param #   \n",
      "=================================================================\n",
      "dense_1 (Dense)              (None, 12)                108       \n",
      "_________________________________________________________________\n",
      "dense_2 (Dense)              (None, 8)                 104       \n",
      "_________________________________________________________________\n",
      "dense_3 (Dense)              (None, 1)                 9         \n",
      "=================================================================\n",
      "Total params: 221\n",
      "Trainable params: 221\n",
      "Non-trainable params: 0\n",
      "_________________________________________________________________\n"
     ]
    }
   ],
   "source": [
    "model.summary()"
   ]
  },
  {
   "cell_type": "markdown",
   "metadata": {},
   "source": [
    "![Neural network 1 hidden layer](01-arquitetura-rede-neural.png \"Rede Neural com 1 Camada Oculta\")"
   ]
  },
  {
   "cell_type": "markdown",
   "metadata": {},
   "source": [
    "### Função Sigmóide"
   ]
  },
  {
   "cell_type": "markdown",
   "metadata": {},
   "source": [
    "A função sigmóide é uma função matemática de amplo uso em campos como a economia e a computação. O nome \"sigmóide\" vem da forma em S do seu gráfico. Um neurônio pode usar o sigmóide para calcular a função não-linear. Um neurônio com ativação sigmóide tem um comportamento semelhante ao perceptron, mas as mudanças são graduais e os valores de saída, como 0.3537 ou 0.147191, são perfeitamente legítimos. A função de ativação sigmóide é comumente utilizada por redes neurais com propagação positiva (Feedforward) que precisam ter como saída apenas números positivos, em redes neurais multicamadas e em outras redes com sinais contínuos."
   ]
  },
  {
   "cell_type": "markdown",
   "metadata": {},
   "source": [
    "### Função ReLu"
   ]
  },
  {
   "cell_type": "markdown",
   "metadata": {},
   "source": [
    "O sigmóide não é o único tipo de função de ativação suave usada para redes neurais. Recentemente, uma função muito simples chamada unidade linear rectificada (ReLU) tornou-se muito popular porque gera resultados experimentais muito bons. Uma ReLU é simplesmente definida como uma função não-linear e a função é zero para valores negativos e cresce linearmente para valores positivos.\n",
    "Sigmoid e ReLU são geralmente chamados funções de ativação das redes neurais. Essas mudanças graduais, típicas das funções Sigmóide e ReLU, são os blocos básicos para o desenvolvimento de um algoritmo de aprendizado que se adapta pouco a pouco, reduzindo progressivamente os erros cometidos pelas redes."
   ]
  },
  {
   "cell_type": "code",
   "execution_count": 17,
   "metadata": {},
   "outputs": [],
   "source": [
    "# Compilação do modelo\n",
    "# Precisamos selecionar o otimizador que é o algoritmo específico usado para atualizar pesos enquanto \n",
    "# treinamos nosso modelo.\n",
    "# Precisamos selecionar também a função objetivo que é usada pelo otimizador para navegar no espaço de pesos \n",
    "# (frequentemente, as funções objetivo são chamadas de função de perda (loss) e o processo de otimização é definido \n",
    "# como um processo de minimização de perdas).\n",
    "# Outras funções aqui: https://keras.io/losses/\n",
    "# A função objetivo \"categorical_crossentropy\" é a função objetivo adequada para predições de rótulos multiclass e \n",
    "# binary_crossentropy para classificação binária. \n",
    "# A métrica é usada para medir a performance do modelo. Outras métricas: https://keras.io/metrics/\n",
    "# As métricas são semelhantes às funções objetivo, com a única diferença de que elas não são usadas para \n",
    "# treinar um modelo, mas apenas para avaliar um modelo. \n",
    "model.compile(loss = 'binary_crossentropy', optimizer = 'adam', metrics = ['accuracy']) # loss - treina o modelo\n",
    "                                                                                        # metrics - avalia o modelo"
   ]
  },
  {
   "cell_type": "code",
   "execution_count": 19,
   "metadata": {},
   "outputs": [
    {
     "data": {
      "text/plain": [
       "514"
      ]
     },
     "execution_count": 19,
     "metadata": {},
     "output_type": "execute_result"
    }
   ],
   "source": [
    "len(X_train)"
   ]
  },
  {
   "cell_type": "code",
   "execution_count": 18,
   "metadata": {},
   "outputs": [
    {
     "name": "stdout",
     "output_type": "stream",
     "text": [
      "Epoch 1/200\n",
      "514/514 [==============================] - 2s 3ms/step - loss: 0.6891 - acc: 0.6576A: 4s - loss: 0.6922 - acc: 0.\n",
      "Epoch 2/200\n",
      "514/514 [==============================] - 0s 824us/step - loss: 0.6631 - acc: 0.6576\n",
      "Epoch 3/200\n",
      "514/514 [==============================] - 0s 749us/step - loss: 0.5913 - acc: 0.6576\n",
      "Epoch 4/200\n",
      "514/514 [==============================] - 0s 398us/step - loss: 0.5250 - acc: 0.7393\n",
      "Epoch 5/200\n",
      "514/514 [==============================] - 0s 295us/step - loss: 0.4965 - acc: 0.7724\n",
      "Epoch 6/200\n",
      "514/514 [==============================] - 0s 340us/step - loss: 0.4784 - acc: 0.7763\n",
      "Epoch 7/200\n",
      "514/514 [==============================] - 0s 325us/step - loss: 0.4676 - acc: 0.7763\n",
      "Epoch 8/200\n",
      "514/514 [==============================] - 0s 521us/step - loss: 0.4586 - acc: 0.7860\n",
      "Epoch 9/200\n",
      "514/514 [==============================] - 0s 424us/step - loss: 0.4534 - acc: 0.7899\n",
      "Epoch 10/200\n",
      "514/514 [==============================] - 0s 370us/step - loss: 0.4511 - acc: 0.7879\n",
      "Epoch 11/200\n",
      "514/514 [==============================] - 0s 275us/step - loss: 0.4486 - acc: 0.7879\n",
      "Epoch 12/200\n",
      "514/514 [==============================] - 0s 293us/step - loss: 0.4470 - acc: 0.7938\n",
      "Epoch 13/200\n",
      "514/514 [==============================] - 0s 359us/step - loss: 0.4465 - acc: 0.7879\n",
      "Epoch 14/200\n",
      "514/514 [==============================] - 0s 246us/step - loss: 0.4436 - acc: 0.7918\n",
      "Epoch 15/200\n",
      "514/514 [==============================] - 0s 293us/step - loss: 0.4422 - acc: 0.7977\n",
      "Epoch 16/200\n",
      "514/514 [==============================] - 0s 325us/step - loss: 0.4414 - acc: 0.7938\n",
      "Epoch 17/200\n",
      "514/514 [==============================] - 0s 332us/step - loss: 0.4395 - acc: 0.7957\n",
      "Epoch 18/200\n",
      "514/514 [==============================] - 0s 271us/step - loss: 0.4390 - acc: 0.7938\n",
      "Epoch 19/200\n",
      "514/514 [==============================] - 0s 300us/step - loss: 0.4368 - acc: 0.7957\n",
      "Epoch 20/200\n",
      "514/514 [==============================] - 0s 377us/step - loss: 0.4357 - acc: 0.7918\n",
      "Epoch 21/200\n",
      "514/514 [==============================] - 0s 305us/step - loss: 0.4348 - acc: 0.7918\n",
      "Epoch 22/200\n",
      "514/514 [==============================] - 0s 278us/step - loss: 0.4349 - acc: 0.7977\n",
      "Epoch 23/200\n",
      "514/514 [==============================] - 0s 259us/step - loss: 0.4334 - acc: 0.7899\n",
      "Epoch 24/200\n",
      "514/514 [==============================] - 0s 334us/step - loss: 0.4328 - acc: 0.7957\n",
      "Epoch 25/200\n",
      "514/514 [==============================] - 0s 296us/step - loss: 0.4316 - acc: 0.7918\n",
      "Epoch 26/200\n",
      "514/514 [==============================] - 0s 363us/step - loss: 0.4315 - acc: 0.7918\n",
      "Epoch 27/200\n",
      "514/514 [==============================] - 0s 308us/step - loss: 0.4298 - acc: 0.7918\n",
      "Epoch 28/200\n",
      "514/514 [==============================] - 0s 336us/step - loss: 0.4290 - acc: 0.7918\n",
      "Epoch 29/200\n",
      "514/514 [==============================] - 0s 401us/step - loss: 0.4288 - acc: 0.7918\n",
      "Epoch 30/200\n",
      "514/514 [==============================] - 0s 313us/step - loss: 0.4295 - acc: 0.7918\n",
      "Epoch 31/200\n",
      "514/514 [==============================] - 0s 319us/step - loss: 0.4267 - acc: 0.7957\n",
      "Epoch 32/200\n",
      "514/514 [==============================] - 0s 347us/step - loss: 0.4261 - acc: 0.7918\n",
      "Epoch 33/200\n",
      "514/514 [==============================] - 0s 399us/step - loss: 0.4254 - acc: 0.7879\n",
      "Epoch 34/200\n",
      "514/514 [==============================] - 0s 330us/step - loss: 0.4253 - acc: 0.7957\n",
      "Epoch 35/200\n",
      "514/514 [==============================] - 0s 318us/step - loss: 0.4250 - acc: 0.7938\n",
      "Epoch 36/200\n",
      "514/514 [==============================] - 0s 303us/step - loss: 0.4244 - acc: 0.7899\n",
      "Epoch 37/200\n",
      "514/514 [==============================] - 0s 404us/step - loss: 0.4234 - acc: 0.7918\n",
      "Epoch 38/200\n",
      "514/514 [==============================] - 0s 492us/step - loss: 0.4226 - acc: 0.7879\n",
      "Epoch 39/200\n",
      "514/514 [==============================] - 0s 359us/step - loss: 0.4221 - acc: 0.7879\n",
      "Epoch 40/200\n",
      "514/514 [==============================] - 0s 314us/step - loss: 0.4208 - acc: 0.7899\n",
      "Epoch 41/200\n",
      "514/514 [==============================] - 0s 286us/step - loss: 0.4212 - acc: 0.7879\n",
      "Epoch 42/200\n",
      "514/514 [==============================] - 0s 365us/step - loss: 0.4198 - acc: 0.7899\n",
      "Epoch 43/200\n",
      "514/514 [==============================] - 0s 330us/step - loss: 0.4198 - acc: 0.7879\n",
      "Epoch 44/200\n",
      "514/514 [==============================] - 0s 326us/step - loss: 0.4201 - acc: 0.7938\n",
      "Epoch 45/200\n",
      "514/514 [==============================] - 0s 299us/step - loss: 0.4184 - acc: 0.7918\n",
      "Epoch 46/200\n",
      "514/514 [==============================] - 0s 295us/step - loss: 0.4171 - acc: 0.7938\n",
      "Epoch 47/200\n",
      "514/514 [==============================] - 0s 300us/step - loss: 0.4167 - acc: 0.7938\n",
      "Epoch 48/200\n",
      "514/514 [==============================] - 0s 342us/step - loss: 0.4165 - acc: 0.7957\n",
      "Epoch 49/200\n",
      "514/514 [==============================] - 0s 286us/step - loss: 0.4149 - acc: 0.7938\n",
      "Epoch 50/200\n",
      "514/514 [==============================] - 0s 349us/step - loss: 0.4156 - acc: 0.7918\n",
      "Epoch 51/200\n",
      "514/514 [==============================] - 0s 453us/step - loss: 0.4133 - acc: 0.7938\n",
      "Epoch 52/200\n",
      "514/514 [==============================] - 0s 271us/step - loss: 0.4139 - acc: 0.7957\n",
      "Epoch 53/200\n",
      "514/514 [==============================] - 0s 245us/step - loss: 0.4135 - acc: 0.7938\n",
      "Epoch 54/200\n",
      "514/514 [==============================] - 0s 329us/step - loss: 0.4130 - acc: 0.7977\n",
      "Epoch 55/200\n",
      "514/514 [==============================] - 0s 235us/step - loss: 0.4125 - acc: 0.7899\n",
      "Epoch 56/200\n",
      "514/514 [==============================] - 0s 274us/step - loss: 0.4103 - acc: 0.7918\n",
      "Epoch 57/200\n",
      "514/514 [==============================] - 0s 222us/step - loss: 0.4097 - acc: 0.7938\n",
      "Epoch 58/200\n",
      "514/514 [==============================] - 0s 220us/step - loss: 0.4092 - acc: 0.7996\n",
      "Epoch 59/200\n",
      "514/514 [==============================] - 0s 357us/step - loss: 0.4084 - acc: 0.7957\n",
      "Epoch 60/200\n",
      "514/514 [==============================] - 0s 330us/step - loss: 0.4074 - acc: 0.7977\n",
      "Epoch 61/200\n",
      "514/514 [==============================] - 0s 253us/step - loss: 0.4066 - acc: 0.7918\n",
      "Epoch 62/200\n",
      "514/514 [==============================] - 0s 200us/step - loss: 0.4060 - acc: 0.7938\n",
      "Epoch 63/200\n",
      "514/514 [==============================] - 0s 260us/step - loss: 0.4060 - acc: 0.7938\n",
      "Epoch 64/200\n",
      "514/514 [==============================] - 0s 239us/step - loss: 0.4051 - acc: 0.7899\n",
      "Epoch 65/200\n",
      "514/514 [==============================] - 0s 195us/step - loss: 0.4049 - acc: 0.7918\n",
      "Epoch 66/200\n",
      "514/514 [==============================] - 0s 200us/step - loss: 0.4034 - acc: 0.8016\n",
      "Epoch 67/200\n",
      "514/514 [==============================] - 0s 274us/step - loss: 0.4027 - acc: 0.7879\n",
      "Epoch 68/200\n",
      "514/514 [==============================] - 0s 338us/step - loss: 0.4022 - acc: 0.7957\n",
      "Epoch 69/200\n",
      "514/514 [==============================] - 0s 423us/step - loss: 0.4014 - acc: 0.7938\n",
      "Epoch 70/200\n",
      "514/514 [==============================] - 0s 222us/step - loss: 0.4000 - acc: 0.7918\n",
      "Epoch 71/200\n",
      "514/514 [==============================] - 0s 232us/step - loss: 0.3988 - acc: 0.7957\n",
      "Epoch 72/200\n",
      "514/514 [==============================] - 0s 225us/step - loss: 0.3985 - acc: 0.7957\n",
      "Epoch 73/200\n",
      "514/514 [==============================] - 0s 228us/step - loss: 0.3973 - acc: 0.7977\n",
      "Epoch 74/200\n",
      "514/514 [==============================] - 0s 205us/step - loss: 0.3968 - acc: 0.7957\n",
      "Epoch 75/200\n",
      "514/514 [==============================] - 0s 244us/step - loss: 0.3964 - acc: 0.7899\n",
      "Epoch 76/200\n",
      "514/514 [==============================] - 0s 273us/step - loss: 0.3962 - acc: 0.7938\n",
      "Epoch 77/200\n",
      "514/514 [==============================] - 0s 272us/step - loss: 0.3964 - acc: 0.7996\n",
      "Epoch 78/200\n",
      "514/514 [==============================] - 0s 286us/step - loss: 0.3947 - acc: 0.7938\n",
      "Epoch 79/200\n",
      "514/514 [==============================] - 0s 366us/step - loss: 0.3947 - acc: 0.7899\n",
      "Epoch 80/200\n",
      "514/514 [==============================] - 0s 281us/step - loss: 0.3930 - acc: 0.7977\n",
      "Epoch 81/200\n",
      "514/514 [==============================] - 0s 243us/step - loss: 0.3927 - acc: 0.7957\n",
      "Epoch 82/200\n",
      "514/514 [==============================] - 0s 478us/step - loss: 0.3927 - acc: 0.7957\n",
      "Epoch 83/200\n"
     ]
    },
    {
     "name": "stdout",
     "output_type": "stream",
     "text": [
      "514/514 [==============================] - 0s 224us/step - loss: 0.3924 - acc: 0.8016\n",
      "Epoch 84/200\n",
      "514/514 [==============================] - 0s 219us/step - loss: 0.3925 - acc: 0.7996\n",
      "Epoch 85/200\n",
      "514/514 [==============================] - 0s 259us/step - loss: 0.3897 - acc: 0.7977\n",
      "Epoch 86/200\n",
      "514/514 [==============================] - 0s 596us/step - loss: 0.3906 - acc: 0.8016\n",
      "Epoch 87/200\n",
      "514/514 [==============================] - 0s 346us/step - loss: 0.3888 - acc: 0.7957\n",
      "Epoch 88/200\n",
      "514/514 [==============================] - 0s 297us/step - loss: 0.3887 - acc: 0.7996\n",
      "Epoch 89/200\n",
      "514/514 [==============================] - 0s 245us/step - loss: 0.3886 - acc: 0.8016\n",
      "Epoch 90/200\n",
      "514/514 [==============================] - 0s 289us/step - loss: 0.3880 - acc: 0.8016\n",
      "Epoch 91/200\n",
      "514/514 [==============================] - 0s 377us/step - loss: 0.3878 - acc: 0.8016\n",
      "Epoch 92/200\n",
      "514/514 [==============================] - 0s 420us/step - loss: 0.3870 - acc: 0.8016\n",
      "Epoch 93/200\n",
      "514/514 [==============================] - 0s 349us/step - loss: 0.3875 - acc: 0.8016\n",
      "Epoch 94/200\n",
      "514/514 [==============================] - 0s 417us/step - loss: 0.3856 - acc: 0.8054\n",
      "Epoch 95/200\n",
      "514/514 [==============================] - 0s 290us/step - loss: 0.3861 - acc: 0.8016\n",
      "Epoch 96/200\n",
      "514/514 [==============================] - 0s 385us/step - loss: 0.3851 - acc: 0.8016\n",
      "Epoch 97/200\n",
      "514/514 [==============================] - 0s 327us/step - loss: 0.3854 - acc: 0.8054\n",
      "Epoch 98/200\n",
      "514/514 [==============================] - 0s 331us/step - loss: 0.3858 - acc: 0.8016\n",
      "Epoch 99/200\n",
      "514/514 [==============================] - 0s 440us/step - loss: 0.3850 - acc: 0.8016\n",
      "Epoch 100/200\n",
      "514/514 [==============================] - 0s 349us/step - loss: 0.3848 - acc: 0.7996\n",
      "Epoch 101/200\n",
      "514/514 [==============================] - 0s 383us/step - loss: 0.3826 - acc: 0.8016\n",
      "Epoch 102/200\n",
      "514/514 [==============================] - 0s 327us/step - loss: 0.3838 - acc: 0.8054\n",
      "Epoch 103/200\n",
      "514/514 [==============================] - 0s 368us/step - loss: 0.3829 - acc: 0.8074\n",
      "Epoch 104/200\n",
      "514/514 [==============================] - 0s 407us/step - loss: 0.3818 - acc: 0.8035\n",
      "Epoch 105/200\n",
      "514/514 [==============================] - 0s 256us/step - loss: 0.3817 - acc: 0.8016\n",
      "Epoch 106/200\n",
      "514/514 [==============================] - 0s 330us/step - loss: 0.3814 - acc: 0.8054\n",
      "Epoch 107/200\n",
      "514/514 [==============================] - 0s 246us/step - loss: 0.3816 - acc: 0.8132\n",
      "Epoch 108/200\n",
      "514/514 [==============================] - 0s 298us/step - loss: 0.3814 - acc: 0.8074\n",
      "Epoch 109/200\n",
      "514/514 [==============================] - 0s 356us/step - loss: 0.3814 - acc: 0.8035\n",
      "Epoch 110/200\n",
      "514/514 [==============================] - 0s 379us/step - loss: 0.3811 - acc: 0.8074\n",
      "Epoch 111/200\n",
      "514/514 [==============================] - 0s 323us/step - loss: 0.3792 - acc: 0.8074\n",
      "Epoch 112/200\n",
      "514/514 [==============================] - 0s 249us/step - loss: 0.3793 - acc: 0.8035\n",
      "Epoch 113/200\n",
      "514/514 [==============================] - 0s 236us/step - loss: 0.3806 - acc: 0.7957\n",
      "Epoch 114/200\n",
      "514/514 [==============================] - 0s 249us/step - loss: 0.3775 - acc: 0.8093\n",
      "Epoch 115/200\n",
      "514/514 [==============================] - 0s 270us/step - loss: 0.3779 - acc: 0.8074\n",
      "Epoch 116/200\n",
      "514/514 [==============================] - 0s 234us/step - loss: 0.3778 - acc: 0.8074\n",
      "Epoch 117/200\n",
      "514/514 [==============================] - 0s 243us/step - loss: 0.3767 - acc: 0.8113\n",
      "Epoch 118/200\n",
      "514/514 [==============================] - 0s 339us/step - loss: 0.3766 - acc: 0.8132\n",
      "Epoch 119/200\n",
      "514/514 [==============================] - 0s 369us/step - loss: 0.3777 - acc: 0.8132\n",
      "Epoch 120/200\n",
      "514/514 [==============================] - 0s 489us/step - loss: 0.3764 - acc: 0.8093\n",
      "Epoch 121/200\n",
      "514/514 [==============================] - 0s 476us/step - loss: 0.3759 - acc: 0.8113\n",
      "Epoch 122/200\n",
      "514/514 [==============================] - 0s 524us/step - loss: 0.3783 - acc: 0.8132\n",
      "Epoch 123/200\n",
      "514/514 [==============================] - 0s 411us/step - loss: 0.3752 - acc: 0.8074\n",
      "Epoch 124/200\n",
      "514/514 [==============================] - 0s 343us/step - loss: 0.3753 - acc: 0.8074\n",
      "Epoch 125/200\n",
      "514/514 [==============================] - 0s 344us/step - loss: 0.3755 - acc: 0.8093\n",
      "Epoch 126/200\n",
      "514/514 [==============================] - 0s 287us/step - loss: 0.3741 - acc: 0.8132\n",
      "Epoch 127/200\n",
      "514/514 [==============================] - 0s 357us/step - loss: 0.3738 - acc: 0.8054\n",
      "Epoch 128/200\n",
      "514/514 [==============================] - 0s 340us/step - loss: 0.3735 - acc: 0.8113\n",
      "Epoch 129/200\n",
      "514/514 [==============================] - 0s 353us/step - loss: 0.3731 - acc: 0.8074\n",
      "Epoch 130/200\n",
      "514/514 [==============================] - 0s 278us/step - loss: 0.3723 - acc: 0.8132\n",
      "Epoch 131/200\n",
      "514/514 [==============================] - 0s 265us/step - loss: 0.3719 - acc: 0.8113\n",
      "Epoch 132/200\n",
      "514/514 [==============================] - 0s 248us/step - loss: 0.3717 - acc: 0.8152\n",
      "Epoch 133/200\n",
      "514/514 [==============================] - 0s 299us/step - loss: 0.3712 - acc: 0.8113\n",
      "Epoch 134/200\n",
      "514/514 [==============================] - 0s 430us/step - loss: 0.3737 - acc: 0.8035\n",
      "Epoch 135/200\n",
      "514/514 [==============================] - 0s 354us/step - loss: 0.3705 - acc: 0.8171\n",
      "Epoch 136/200\n",
      "514/514 [==============================] - 0s 404us/step - loss: 0.3698 - acc: 0.8152\n",
      "Epoch 137/200\n",
      "514/514 [==============================] - 0s 264us/step - loss: 0.3719 - acc: 0.8132\n",
      "Epoch 138/200\n",
      "514/514 [==============================] - 0s 274us/step - loss: 0.3724 - acc: 0.8171\n",
      "Epoch 139/200\n",
      "514/514 [==============================] - 0s 234us/step - loss: 0.3722 - acc: 0.8132\n",
      "Epoch 140/200\n",
      "514/514 [==============================] - 0s 352us/step - loss: 0.3695 - acc: 0.8171\n",
      "Epoch 141/200\n",
      "514/514 [==============================] - 0s 265us/step - loss: 0.3699 - acc: 0.8152\n",
      "Epoch 142/200\n",
      "514/514 [==============================] - 0s 273us/step - loss: 0.3722 - acc: 0.8210\n",
      "Epoch 143/200\n",
      "514/514 [==============================] - 0s 265us/step - loss: 0.3703 - acc: 0.8152\n",
      "Epoch 144/200\n",
      "514/514 [==============================] - 0s 248us/step - loss: 0.3689 - acc: 0.8152\n",
      "Epoch 145/200\n",
      "514/514 [==============================] - 0s 261us/step - loss: 0.3692 - acc: 0.8171\n",
      "Epoch 146/200\n",
      "514/514 [==============================] - 0s 256us/step - loss: 0.3696 - acc: 0.8191\n",
      "Epoch 147/200\n",
      "514/514 [==============================] - 0s 460us/step - loss: 0.3687 - acc: 0.8210\n",
      "Epoch 148/200\n",
      "514/514 [==============================] - 0s 323us/step - loss: 0.3672 - acc: 0.8210\n",
      "Epoch 149/200\n",
      "514/514 [==============================] - 0s 317us/step - loss: 0.3673 - acc: 0.8249\n",
      "Epoch 150/200\n",
      "514/514 [==============================] - 0s 329us/step - loss: 0.3683 - acc: 0.8230\n",
      "Epoch 151/200\n",
      "514/514 [==============================] - 0s 286us/step - loss: 0.3681 - acc: 0.8249\n",
      "Epoch 152/200\n",
      "514/514 [==============================] - 0s 367us/step - loss: 0.3679 - acc: 0.8171\n",
      "Epoch 153/200\n",
      "514/514 [==============================] - 0s 487us/step - loss: 0.3680 - acc: 0.8230\n",
      "Epoch 154/200\n",
      "514/514 [==============================] - 0s 294us/step - loss: 0.3676 - acc: 0.8268\n",
      "Epoch 155/200\n",
      "514/514 [==============================] - 0s 393us/step - loss: 0.3672 - acc: 0.8249\n",
      "Epoch 156/200\n",
      "514/514 [==============================] - 0s 450us/step - loss: 0.3654 - acc: 0.8249\n",
      "Epoch 157/200\n",
      "514/514 [==============================] - 0s 329us/step - loss: 0.3658 - acc: 0.8191\n",
      "Epoch 158/200\n",
      "514/514 [==============================] - 0s 269us/step - loss: 0.3665 - acc: 0.8249\n",
      "Epoch 159/200\n",
      "514/514 [==============================] - 0s 460us/step - loss: 0.3660 - acc: 0.8210\n",
      "Epoch 160/200\n",
      "514/514 [==============================] - 0s 284us/step - loss: 0.3659 - acc: 0.8249\n",
      "Epoch 161/200\n",
      "514/514 [==============================] - 0s 300us/step - loss: 0.3646 - acc: 0.8230\n",
      "Epoch 162/200\n",
      "514/514 [==============================] - 0s 343us/step - loss: 0.3683 - acc: 0.8249\n",
      "Epoch 163/200\n",
      "514/514 [==============================] - 0s 393us/step - loss: 0.3657 - acc: 0.8249\n",
      "Epoch 164/200\n",
      "514/514 [==============================] - 0s 258us/step - loss: 0.3656 - acc: 0.8191\n",
      "Epoch 165/200\n"
     ]
    },
    {
     "name": "stdout",
     "output_type": "stream",
     "text": [
      "514/514 [==============================] - 0s 250us/step - loss: 0.3664 - acc: 0.8230\n",
      "Epoch 166/200\n",
      "514/514 [==============================] - 0s 285us/step - loss: 0.3664 - acc: 0.8210\n",
      "Epoch 167/200\n",
      "514/514 [==============================] - 0s 223us/step - loss: 0.3666 - acc: 0.8230\n",
      "Epoch 168/200\n",
      "514/514 [==============================] - 0s 367us/step - loss: 0.3647 - acc: 0.8268\n",
      "Epoch 169/200\n",
      "514/514 [==============================] - 0s 422us/step - loss: 0.3653 - acc: 0.8268\n",
      "Epoch 170/200\n",
      "514/514 [==============================] - 0s 240us/step - loss: 0.3663 - acc: 0.8191\n",
      "Epoch 171/200\n",
      "514/514 [==============================] - 0s 238us/step - loss: 0.3630 - acc: 0.8327\n",
      "Epoch 172/200\n",
      "514/514 [==============================] - 0s 363us/step - loss: 0.3664 - acc: 0.8210\n",
      "Epoch 173/200\n",
      "514/514 [==============================] - 0s 388us/step - loss: 0.3646 - acc: 0.8249\n",
      "Epoch 174/200\n",
      "514/514 [==============================] - 0s 295us/step - loss: 0.3631 - acc: 0.8230\n",
      "Epoch 175/200\n",
      "514/514 [==============================] - 0s 374us/step - loss: 0.3630 - acc: 0.8249\n",
      "Epoch 176/200\n",
      "514/514 [==============================] - 0s 362us/step - loss: 0.3616 - acc: 0.8307\n",
      "Epoch 177/200\n",
      "514/514 [==============================] - 0s 300us/step - loss: 0.3657 - acc: 0.8288\n",
      "Epoch 178/200\n",
      "514/514 [==============================] - 0s 238us/step - loss: 0.3625 - acc: 0.8210\n",
      "Epoch 179/200\n",
      "514/514 [==============================] - 0s 258us/step - loss: 0.3638 - acc: 0.8268\n",
      "Epoch 180/200\n",
      "514/514 [==============================] - 0s 344us/step - loss: 0.3622 - acc: 0.8327\n",
      "Epoch 181/200\n",
      "514/514 [==============================] - 0s 422us/step - loss: 0.3634 - acc: 0.8152\n",
      "Epoch 182/200\n",
      "514/514 [==============================] - 0s 364us/step - loss: 0.3618 - acc: 0.8288\n",
      "Epoch 183/200\n",
      "514/514 [==============================] - 0s 292us/step - loss: 0.3648 - acc: 0.8210\n",
      "Epoch 184/200\n",
      "514/514 [==============================] - 0s 234us/step - loss: 0.3630 - acc: 0.8268\n",
      "Epoch 185/200\n",
      "514/514 [==============================] - 0s 278us/step - loss: 0.3615 - acc: 0.8230\n",
      "Epoch 186/200\n",
      "514/514 [==============================] - 0s 756us/step - loss: 0.3619 - acc: 0.8249\n",
      "Epoch 187/200\n",
      "514/514 [==============================] - 0s 384us/step - loss: 0.3606 - acc: 0.8249\n",
      "Epoch 188/200\n",
      "514/514 [==============================] - 0s 177us/step - loss: 0.3609 - acc: 0.8230\n",
      "Epoch 189/200\n",
      "514/514 [==============================] - 0s 228us/step - loss: 0.3614 - acc: 0.8230\n",
      "Epoch 190/200\n",
      "514/514 [==============================] - 0s 311us/step - loss: 0.3616 - acc: 0.8307\n",
      "Epoch 191/200\n",
      "514/514 [==============================] - 0s 296us/step - loss: 0.3613 - acc: 0.8288\n",
      "Epoch 192/200\n",
      "514/514 [==============================] - 0s 229us/step - loss: 0.3605 - acc: 0.8327\n",
      "Epoch 193/200\n",
      "514/514 [==============================] - 0s 381us/step - loss: 0.3627 - acc: 0.8268\n",
      "Epoch 194/200\n",
      "514/514 [==============================] - 0s 346us/step - loss: 0.3604 - acc: 0.8152\n",
      "Epoch 195/200\n",
      "514/514 [==============================] - 0s 283us/step - loss: 0.3598 - acc: 0.8230\n",
      "Epoch 196/200\n",
      "514/514 [==============================] - 0s 397us/step - loss: 0.3606 - acc: 0.8210\n",
      "Epoch 197/200\n",
      "514/514 [==============================] - 0s 465us/step - loss: 0.3601 - acc: 0.8249\n",
      "Epoch 198/200\n",
      "514/514 [==============================] - 0s 384us/step - loss: 0.3608 - acc: 0.8171\n",
      "Epoch 199/200\n",
      "514/514 [==============================] - 0s 302us/step - loss: 0.3600 - acc: 0.8288\n",
      "Epoch 200/200\n",
      "514/514 [==============================] - 0s 330us/step - loss: 0.3603 - acc: 0.8249\n"
     ]
    },
    {
     "data": {
      "text/plain": [
       "<keras.callbacks.History at 0x1a3207e978>"
      ]
     },
     "execution_count": 18,
     "metadata": {},
     "output_type": "execute_result"
    }
   ],
   "source": [
    "# Treinamento do modelo\n",
    "# Epochs: Este é o número de vezes que o modelo é exposto ao conjunto de treinamento. Em cada iteração, \n",
    "# o otimizador tenta ajustar os pesos para que a função objetivo seja minimizada. \n",
    "# Batch_size: Esse é o número de instâncias de treinamento observadas antes que o otimizador execute uma \n",
    "# atualização de peso.\n",
    "model.fit(X_train, y_train, epochs = 200, batch_size = 10)"
   ]
  },
  {
   "cell_type": "code",
   "execution_count": 20,
   "metadata": {},
   "outputs": [
    {
     "name": "stdout",
     "output_type": "stream",
     "text": [
      "254/254 [==============================] - 0s 281us/step\n",
      "\n",
      "Loss: 0.61, Acurácia: 78.74%\n"
     ]
    }
   ],
   "source": [
    "# Avalia o modelo com os dados de teste\n",
    "# Uma vez treinado o modelo, podemos avaliá-lo no conjunto de testes que contém novos exemplos não vistos. \n",
    "# Desta forma, podemos obter o valor mínimo alcançado pela função objetivo e o melhor valor alcançado pela métrica \n",
    "# de avaliação. Note-se que o conjunto de treinamento e o conjunto de teste são rigorosamente separados. \n",
    "# Não vale a pena avaliar um modelo em um exemplo que já foi usado para treinamento. \n",
    "# A aprendizagem é essencialmente um processo destinado a generalizar observações invisíveis e não a memorizar \n",
    "# o que já é conhecido.\n",
    "loss, accuracy = model.evaluate(X_test, y_test)\n",
    "print(\"\\nLoss: %.2f, Acurácia: %.2f%%\" % (loss, accuracy*100))"
   ]
  },
  {
   "cell_type": "code",
   "execution_count": 21,
   "metadata": {},
   "outputs": [],
   "source": [
    "# Gera as previsões\n",
    "\n",
    "mu, sigma = X.mean(axis=0), X.std(axis=0)\n",
    "X = (X - mu) / sigma\n",
    "predictions = model.predict(X)"
   ]
  },
  {
   "cell_type": "code",
   "execution_count": 22,
   "metadata": {},
   "outputs": [
    {
     "data": {
      "text/plain": [
       "array([[0.4446],\n",
       "       [0.0361],\n",
       "       [0.9137]], dtype=float32)"
      ]
     },
     "execution_count": 22,
     "metadata": {},
     "output_type": "execute_result"
    }
   ],
   "source": [
    "predictions[:3]"
   ]
  },
  {
   "cell_type": "code",
   "execution_count": 23,
   "metadata": {},
   "outputs": [
    {
     "name": "stdout",
     "output_type": "stream",
     "text": [
      "[0.0, 0.0, 1.0, 0.0, 1.0, 0.0, 0.0, 1.0, 1.0, 0.0, 0.0, 1.0, 0.0, 1.0, 1.0, 1.0, 0.0, 0.0, 0.0, 0.0, 0.0, 0.0, 1.0, 0.0, 1.0, 0.0, 1.0, 0.0, 0.0, 0.0, 0.0, 1.0, 0.0, 0.0, 1.0, 0.0, 1.0, 0.0, 0.0, 1.0, 1.0, 1.0, 0.0, 1.0, 1.0, 1.0, 1.0, 0.0, 0.0, 0.0, 0.0, 0.0, 0.0, 1.0, 1.0, 0.0, 1.0, 1.0, 1.0, 0.0, 0.0, 1.0, 0.0, 0.0, 0.0, 0.0, 1.0, 1.0, 0.0, 0.0, 0.0, 1.0, 1.0, 0.0, 0.0, 0.0, 0.0, 0.0, 1.0, 0.0, 0.0, 0.0, 0.0, 0.0, 1.0, 0.0, 0.0, 0.0, 1.0, 0.0, 0.0, 0.0, 0.0, 0.0, 0.0, 1.0, 0.0, 0.0, 0.0, 0.0, 1.0, 0.0, 0.0, 0.0, 0.0, 0.0, 0.0, 1.0, 0.0, 0.0, 1.0, 1.0, 0.0, 0.0, 1.0, 0.0, 1.0, 0.0, 0.0, 0.0, 1.0, 0.0, 0.0, 0.0, 0.0, 0.0, 0.0, 0.0, 1.0, 0.0, 1.0, 1.0, 1.0, 0.0, 0.0, 0.0, 0.0, 0.0, 1.0, 0.0, 0.0, 0.0, 0.0, 0.0, 1.0, 0.0, 0.0, 0.0, 0.0, 0.0, 0.0, 0.0, 1.0, 0.0, 1.0, 1.0, 0.0, 0.0, 0.0, 1.0, 1.0, 0.0, 0.0, 0.0, 1.0, 0.0, 1.0, 1.0, 0.0, 0.0, 0.0, 1.0, 0.0, 0.0, 0.0, 1.0, 0.0, 0.0, 1.0, 1.0, 0.0, 0.0, 0.0, 0.0, 1.0, 1.0, 1.0, 1.0, 1.0, 0.0, 0.0, 1.0, 1.0, 1.0, 0.0, 1.0, 0.0, 0.0, 1.0, 1.0, 0.0, 1.0, 0.0, 0.0, 0.0, 0.0, 1.0, 1.0, 0.0, 1.0, 0.0, 0.0, 0.0, 1.0, 0.0, 1.0, 0.0, 0.0, 0.0, 1.0, 1.0, 1.0, 1.0, 0.0, 0.0, 0.0, 0.0, 1.0, 1.0, 0.0, 1.0, 1.0, 0.0, 1.0, 0.0, 1.0, 1.0, 1.0, 1.0, 0.0, 0.0, 0.0, 0.0, 0.0, 1.0, 1.0, 1.0, 0.0, 0.0, 0.0, 0.0, 0.0, 0.0, 0.0, 1.0, 0.0, 1.0, 0.0, 1.0, 1.0, 1.0, 1.0, 0.0, 0.0, 1.0, 0.0, 1.0, 1.0, 0.0, 1.0, 1.0, 0.0, 0.0, 0.0, 0.0, 0.0, 0.0, 0.0, 0.0, 0.0, 1.0, 1.0, 0.0, 1.0, 0.0, 0.0, 1.0, 1.0, 0.0, 0.0, 0.0, 0.0, 1.0, 0.0, 0.0, 1.0, 0.0, 0.0, 1.0, 0.0, 1.0, 1.0, 0.0, 0.0, 0.0, 0.0, 1.0, 0.0, 0.0, 1.0, 0.0, 0.0, 0.0, 0.0, 1.0, 0.0, 0.0, 1.0, 0.0, 1.0, 0.0, 0.0, 0.0, 1.0, 0.0, 0.0, 1.0, 1.0, 0.0, 0.0, 0.0, 0.0, 1.0, 0.0, 0.0, 0.0, 1.0, 0.0, 1.0, 1.0, 0.0, 0.0, 0.0, 0.0, 0.0, 0.0, 0.0, 0.0, 0.0, 0.0, 0.0, 0.0, 0.0, 0.0, 0.0, 1.0, 1.0, 1.0, 0.0, 1.0, 1.0, 0.0, 0.0, 0.0, 1.0, 0.0, 1.0, 0.0, 0.0, 1.0, 1.0, 0.0, 0.0, 0.0, 0.0, 1.0, 0.0, 0.0, 1.0, 1.0, 0.0, 0.0, 0.0, 0.0, 0.0, 0.0, 1.0, 0.0, 1.0, 0.0, 1.0, 1.0, 0.0, 0.0, 1.0, 0.0, 0.0, 0.0, 0.0, 1.0, 0.0, 0.0, 0.0, 0.0, 1.0, 0.0, 1.0, 0.0, 1.0, 1.0, 0.0, 0.0, 1.0, 0.0, 0.0, 0.0, 0.0, 1.0, 0.0, 0.0, 0.0, 0.0, 0.0, 0.0, 1.0, 1.0, 0.0, 1.0, 0.0, 1.0, 0.0, 0.0, 0.0, 0.0, 0.0, 1.0, 1.0, 1.0, 0.0, 0.0, 1.0, 0.0, 0.0, 1.0, 1.0, 1.0, 0.0, 0.0, 0.0, 0.0, 0.0, 0.0, 0.0, 0.0, 0.0, 1.0, 0.0, 0.0, 1.0, 0.0, 0.0, 0.0, 0.0, 0.0, 0.0, 0.0, 0.0, 0.0, 1.0, 1.0, 1.0, 0.0, 0.0, 0.0, 0.0, 0.0, 0.0, 0.0, 0.0, 0.0, 1.0, 0.0, 0.0, 0.0, 1.0, 0.0, 0.0, 1.0, 0.0, 1.0, 0.0, 0.0, 0.0, 1.0, 0.0, 0.0, 0.0, 0.0, 1.0, 1.0, 0.0, 0.0, 0.0, 0.0, 0.0, 0.0, 1.0, 0.0, 0.0, 0.0, 0.0, 0.0, 0.0, 0.0, 0.0, 1.0, 1.0, 0.0, 0.0, 0.0, 0.0, 0.0, 0.0, 1.0, 0.0, 0.0, 0.0, 0.0, 0.0, 0.0, 0.0, 0.0, 0.0, 0.0, 0.0, 1.0, 0.0, 0.0, 0.0, 1.0, 1.0, 0.0, 0.0, 0.0, 0.0, 1.0, 1.0, 0.0, 1.0, 1.0, 0.0, 0.0, 0.0, 0.0, 0.0, 0.0, 0.0, 0.0, 0.0, 0.0, 0.0, 1.0, 0.0, 0.0, 0.0, 0.0, 0.0, 0.0, 1.0, 0.0, 0.0, 0.0, 0.0, 0.0, 0.0, 0.0, 0.0, 0.0, 1.0, 1.0, 0.0, 0.0, 0.0, 0.0, 1.0, 0.0, 1.0, 0.0, 1.0, 0.0, 1.0, 0.0, 1.0, 0.0, 1.0, 1.0, 0.0, 0.0, 1.0, 0.0, 0.0, 0.0, 0.0, 1.0, 1.0, 0.0, 1.0, 0.0, 0.0, 0.0, 0.0, 1.0, 1.0, 1.0, 1.0, 0.0, 0.0, 0.0, 1.0, 1.0, 0.0, 0.0, 1.0, 0.0, 0.0, 0.0, 0.0, 0.0, 1.0, 0.0, 1.0, 0.0, 0.0, 0.0, 0.0, 1.0, 0.0, 0.0, 1.0, 0.0, 0.0, 0.0, 1.0, 0.0, 0.0, 0.0, 0.0, 1.0, 1.0, 0.0, 0.0, 0.0, 0.0, 0.0, 0.0, 0.0, 0.0, 1.0, 0.0, 0.0, 1.0, 1.0, 1.0, 1.0, 0.0, 0.0, 0.0, 0.0, 0.0, 0.0, 1.0, 0.0, 0.0, 1.0, 0.0, 1.0, 1.0, 0.0, 0.0, 0.0, 0.0, 1.0, 0.0, 0.0, 0.0, 0.0, 0.0, 0.0, 0.0, 1.0, 0.0, 1.0, 0.0, 1.0, 0.0, 1.0, 1.0, 0.0, 0.0, 1.0, 0.0, 0.0, 1.0, 1.0, 0.0, 0.0, 0.0, 0.0, 1.0, 0.0, 0.0, 0.0, 1.0, 0.0, 0.0, 1.0, 1.0, 0.0, 0.0, 0.0, 0.0, 0.0, 1.0, 0.0, 0.0, 0.0, 0.0, 0.0, 0.0, 0.0, 0.0, 0.0, 1.0, 0.0, 0.0, 0.0, 0.0, 0.0, 0.0, 1.0, 1.0, 0.0, 0.0, 1.0, 1.0, 0.0, 1.0, 1.0, 1.0, 1.0, 1.0, 0.0, 0.0, 1.0, 1.0, 1.0, 0.0, 1.0, 0.0, 1.0, 0.0, 1.0, 0.0, 0.0, 0.0, 0.0, 1.0, 0.0]\n",
      "Acurácia das Previsões: 81.38%\n"
     ]
    }
   ],
   "source": [
    "# Ajusta as previsões e imprime o resultado\n",
    "rounded = [round(x[0]) for x in predictions]\n",
    "print(rounded)\n",
    "accuracy = numpy.mean(rounded == Y)\n",
    "print(\"Acurácia das Previsões: %.2f%%\" % (accuracy*100))"
   ]
  }
 ],
 "metadata": {
  "kernelspec": {
   "display_name": "Python 3",
   "language": "python",
   "name": "python3"
  },
  "language_info": {
   "codemirror_mode": {
    "name": "ipython",
    "version": 3
   },
   "file_extension": ".py",
   "mimetype": "text/x-python",
   "name": "python",
   "nbconvert_exporter": "python",
   "pygments_lexer": "ipython3",
   "version": "3.7.1"
  }
 },
 "nbformat": 4,
 "nbformat_minor": 2
}
