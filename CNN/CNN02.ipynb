{
  "nbformat": 4,
  "nbformat_minor": 0,
  "metadata": {
    "colab": {
      "name": "CNN02.ipynb",
      "version": "0.3.2",
      "provenance": [],
      "collapsed_sections": [
        "EXM0QsztVGVm",
        "aVdo5gVVVGVr",
        "dA4uYqwmVGV2",
        "fLK2HkaNVGV3",
        "Nl-LwET7VGWC",
        "exhy9EybVGWQ",
        "R___sAkRVGWU",
        "zx1baFTLVGWb",
        "GTZPnpWxVGWo",
        "zQd8LJgLVGW8",
        "wPWDRwQQVGXA",
        "m8vcdYtDVGXM",
        "-JGOMgSgVGXR",
        "FmsFTW1mVGXS",
        "uFQ3u1lMVGXV",
        "VSu4r08MVGXn",
        "wXDSLTOdVGXz",
        "o74OL9lHVGX3",
        "k1tpcBXLVGYA",
        "Sii58SHyVGYC",
        "36kDMnCLVGYI",
        "aDbWJzZzVGYM",
        "F83CIBF5VGYP",
        "v60qFMBiVGYS",
        "fWPeTbrnVGYW",
        "MPJWw_SBVGYk",
        "FJiEvghVVGYv",
        "R6FrBfM6VGY1",
        "2kLofgnnVGZH",
        "4YtuIhRfVGZb",
        "H4HkTPH0VGZe"
      ],
      "include_colab_link": true
    },
    "kernelspec": {
      "name": "python3",
      "display_name": "Python 3"
    },
    "accelerator": "GPU"
  },
  "cells": [
    {
      "cell_type": "markdown",
      "metadata": {
        "id": "view-in-github",
        "colab_type": "text"
      },
      "source": [
        "<a href=\"https://colab.research.google.com/github/vladimiralencar/DeepLearning-LANA/blob/master/CNN/CNN02.ipynb\" target=\"_parent\"><img src=\"https://colab.research.google.com/assets/colab-badge.svg\" alt=\"Open In Colab\"/></a>"
      ]
    },
    {
      "metadata": {
        "id": "euUpBJa8VGUW",
        "colab_type": "text"
      },
      "cell_type": "markdown",
      "source": [
        "# CNN Para Reconhecimento de Imagens com CIFAR-10"
      ]
    },
    {
      "metadata": {
        "id": "ylAyw2BMZwwJ",
        "colab_type": "text"
      },
      "cell_type": "markdown",
      "source": [
        "## Criando um ambiente virtual no Google Colab"
      ]
    },
    {
      "metadata": {
        "id": "hXu0HXosXqE8",
        "colab_type": "code",
        "colab": {}
      },
      "cell_type": "code",
      "source": [
        "!pip install virtualenv\n",
        "!virtualenv tf\n",
        "!source tf/bin/activate\n",
        "!pip uninstall --y tensorflow \n",
        "!pip install tensorflow==1.7 prettytensor==0.7.4"
      ],
      "execution_count": 0,
      "outputs": []
    },
    {
      "metadata": {
        "id": "833K_AEKaIRo",
        "colab_type": "code",
        "colab": {}
      },
      "cell_type": "code",
      "source": [
        "!source tf/bin/activate\n",
        "import tensorflow as tf\n",
        "tf.__version__"
      ],
      "execution_count": 0,
      "outputs": []
    },
    {
      "metadata": {
        "id": "yBkNwEHpVSOZ",
        "colab_type": "text"
      },
      "cell_type": "markdown",
      "source": [
        "## Carregando arquivos"
      ]
    },
    {
      "metadata": {
        "id": "hI8fcmpejASL",
        "colab_type": "code",
        "colab": {}
      },
      "cell_type": "code",
      "source": [
        "!wget https://raw.githubusercontent.com/vladimiralencar/DeepLearning-LANA/master/CNN/images/network_flowchart.png\n",
        "!mkdir images\n",
        "!cp *.png images"
      ],
      "execution_count": 0,
      "outputs": []
    },
    {
      "metadata": {
        "id": "22jEypfenHls",
        "colab_type": "code",
        "colab": {}
      },
      "cell_type": "code",
      "source": [
        "!wget https://raw.githubusercontent.com/vladimiralencar/DeepLearning-LANA/master/CNN/cache.py\n",
        "!wget https://raw.githubusercontent.com/vladimiralencar/DeepLearning-LANA/master/CNN/cifar10.py\n",
        "!wget https://raw.githubusercontent.com/vladimiralencar/DeepLearning-LANA/master/CNN/dataset.py\n",
        "!wget https://raw.githubusercontent.com/vladimiralencar/DeepLearning-LANA/master/CNN/download.py\n",
        "!ls"
      ],
      "execution_count": 0,
      "outputs": []
    },
    {
      "metadata": {
        "id": "xGoHL478VWjN",
        "colab_type": "code",
        "colab": {}
      },
      "cell_type": "code",
      "source": [
        "#from google.colab import files\n",
        "#files.upload()\n",
        "#!mkdir images\n",
        "#!cp *.png images"
      ],
      "execution_count": 0,
      "outputs": []
    },
    {
      "metadata": {
        "id": "Lxi-6b-WVGUX",
        "colab_type": "text"
      },
      "cell_type": "markdown",
      "source": [
        "## Introdução\n",
        "\n",
        "Veremos agora como construir uma Rede Neural Convolucional para classificar imagens no conjunto de dados CIFAR-10. \n",
        "\n",
        "https://www.cs.toronto.edu/~kriz/cifar.html"
      ]
    },
    {
      "metadata": {
        "id": "aWocXVamVGUY",
        "colab_type": "text"
      },
      "cell_type": "markdown",
      "source": [
        "## Flowchart"
      ]
    },
    {
      "metadata": {
        "id": "KCTmheWxVGUZ",
        "colab_type": "text"
      },
      "cell_type": "markdown",
      "source": [
        "O gráfico a seguir mostra aproximadamente como o fluxo de dados da Rede Neural Convolucional é implementado abaixo. Primeiro, a rede possui uma camada de pré-processamento que distorce as imagens de entrada de modo a inflar artificialmente o conjunto de treinamento. Em seguida, a rede possui duas camadas convolucionais, duas camadas totalmente conectadas e, finalmente, uma camada de classificação softmax. Os pesos e saídas das camadas convolucionais são mostrados com mais detalhes nos gráficos maiores abaixo."
      ]
    },
    {
      "metadata": {
        "scrolled": false,
        "id": "xmehpPLPVGUa",
        "colab_type": "code",
        "colab": {}
      },
      "cell_type": "code",
      "source": [
        "from IPython.display import Image\n",
        "Image('images/network_flowchart.png')"
      ],
      "execution_count": 0,
      "outputs": []
    },
    {
      "metadata": {
        "id": "k0TkU1Q6VGUk",
        "colab_type": "code",
        "colab": {}
      },
      "cell_type": "code",
      "source": [
        "# Verifique se GPU tem memória disponível\n",
        "!nvidia-smi"
      ],
      "execution_count": 0,
      "outputs": []
    },
    {
      "metadata": {
        "id": "SIZRHfF5VGUo",
        "colab_type": "text"
      },
      "cell_type": "markdown",
      "source": [
        "## Imports"
      ]
    },
    {
      "metadata": {
        "id": "AxBJgz-KVGUp",
        "colab_type": "code",
        "colab": {}
      },
      "cell_type": "code",
      "source": [
        "%matplotlib inline\n",
        "import matplotlib.pyplot as plt\n",
        "import tensorflow as tf\n",
        "import numpy as np\n",
        "from sklearn.metrics import confusion_matrix\n",
        "import time\n",
        "from datetime import timedelta\n",
        "import math\n",
        "import os\n",
        "\n",
        "# O PrettyTensor simplifica a construção de Redes Neurais com TensorFlow\n",
        "# https://github.com/google/prettytensor\n",
        "import prettytensor as pt"
      ],
      "execution_count": 0,
      "outputs": []
    },
    {
      "metadata": {
        "id": "e4plDrjuVGUs",
        "colab_type": "text"
      },
      "cell_type": "markdown",
      "source": [
        "Esse modelo foi desenvolvido usando a versão Python 3.6 (Anaconda) e TensorFlow:"
      ]
    },
    {
      "metadata": {
        "scrolled": true,
        "id": "zm7RvrZvVGUt",
        "colab_type": "code",
        "colab": {}
      },
      "cell_type": "code",
      "source": [
        "tf.__version__"
      ],
      "execution_count": 0,
      "outputs": []
    },
    {
      "metadata": {
        "id": "i90BFDYtVGUz",
        "colab_type": "text"
      },
      "cell_type": "markdown",
      "source": [
        "Versão do PrettyTensor:"
      ]
    },
    {
      "metadata": {
        "id": "jVC7eVR_VGU1",
        "colab_type": "code",
        "colab": {}
      },
      "cell_type": "code",
      "source": [
        "pt.__version__"
      ],
      "execution_count": 0,
      "outputs": []
    },
    {
      "metadata": {
        "id": "T3VMn5VrVGU6",
        "colab_type": "text"
      },
      "cell_type": "markdown",
      "source": [
        "## Carregando os Dados"
      ]
    },
    {
      "metadata": {
        "id": "h9LkVhM8VGU8",
        "colab_type": "code",
        "colab": {}
      },
      "cell_type": "code",
      "source": [
        "import cifar10"
      ],
      "execution_count": 0,
      "outputs": []
    },
    {
      "metadata": {
        "scrolled": true,
        "id": "qj3JtxEXVGVA",
        "colab_type": "code",
        "colab": {}
      },
      "cell_type": "code",
      "source": [
        "# O conjunto de dados CIFAR-10 é de cerca de 163 MB e será baixado automaticamente caso não seja encontrado.\n",
        "cifar10.maybe_download_and_extract()"
      ],
      "execution_count": 0,
      "outputs": []
    },
    {
      "metadata": {
        "id": "t65ZCX17VGVF",
        "colab_type": "code",
        "colab": {}
      },
      "cell_type": "code",
      "source": [
        "class_names = cifar10.load_class_names()\n",
        "class_names"
      ],
      "execution_count": 0,
      "outputs": []
    },
    {
      "metadata": {
        "id": "LokVRGk6VGVK",
        "colab_type": "code",
        "colab": {}
      },
      "cell_type": "code",
      "source": [
        "images_train, cls_train, labels_train = cifar10.load_training_data()"
      ],
      "execution_count": 0,
      "outputs": []
    },
    {
      "metadata": {
        "id": "xN5UhAELVGVN",
        "colab_type": "code",
        "colab": {}
      },
      "cell_type": "code",
      "source": [
        "images_test, cls_test, labels_test = cifar10.load_test_data()"
      ],
      "execution_count": 0,
      "outputs": []
    },
    {
      "metadata": {
        "scrolled": true,
        "id": "3IKbVob8VGVR",
        "colab_type": "code",
        "colab": {}
      },
      "cell_type": "code",
      "source": [
        "print(\"- Dataset de Treino:\\t\\t{}\".format(len(images_train)))\n",
        "print(\"- Dataset de Teste:\\t\\t{}\".format(len(images_test)))"
      ],
      "execution_count": 0,
      "outputs": []
    },
    {
      "metadata": {
        "id": "OQSx28vVVGVY",
        "colab_type": "code",
        "colab": {}
      },
      "cell_type": "code",
      "source": [
        "from cifar10 import img_size, num_channels, num_classes"
      ],
      "execution_count": 0,
      "outputs": []
    },
    {
      "metadata": {
        "id": "8QCCmMykVGVf",
        "colab_type": "code",
        "colab": {}
      },
      "cell_type": "code",
      "source": [
        "# As imagens são 32x32, mas iremos reduzir o tamanho para 24x24 a fim de dminuir o tempo de treinamento\n",
        "img_size_cropped = 24"
      ],
      "execution_count": 0,
      "outputs": []
    },
    {
      "metadata": {
        "id": "EXM0QsztVGVm",
        "colab_type": "text"
      },
      "cell_type": "markdown",
      "source": [
        "### Função Para Plot de Imagens"
      ]
    },
    {
      "metadata": {
        "id": "7vZEPv3kVGVo",
        "colab_type": "code",
        "colab": {}
      },
      "cell_type": "code",
      "source": [
        "def plot_images(images, cls_true, cls_pred=None, smooth=True):\n",
        "\n",
        "    assert len(images) == len(cls_true) == 9\n",
        "\n",
        "    fig, axes = plt.subplots(3, 3)\n",
        "\n",
        "    if cls_pred is None:\n",
        "        hspace = 0.3\n",
        "    else:\n",
        "        hspace = 0.6\n",
        "    fig.subplots_adjust(hspace=hspace, wspace=0.3)\n",
        "\n",
        "    for i, ax in enumerate(axes.flat):\n",
        "        if smooth:\n",
        "            interpolation = 'spline16'\n",
        "        else:\n",
        "            interpolation = 'nearest'\n",
        "\n",
        "        ax.imshow(images[i, :, :, :], interpolation=interpolation)\n",
        "            \n",
        "        cls_true_name = class_names[cls_true[i]]\n",
        "\n",
        "        if cls_pred is None:\n",
        "            xlabel = \"True: {0}\".format(cls_true_name)\n",
        "        else:\n",
        "            cls_pred_name = class_names[cls_pred[i]]\n",
        "\n",
        "            xlabel = \"Label Original: {0}\\nPrevisão: {1}\".format(cls_true_name, cls_pred_name)\n",
        "\n",
        "        ax.set_xlabel(xlabel)\n",
        "        \n",
        "        ax.set_xticks([])\n",
        "        ax.set_yticks([])\n",
        "    \n",
        "    plt.show()"
      ],
      "execution_count": 0,
      "outputs": []
    },
    {
      "metadata": {
        "id": "aVdo5gVVVGVr",
        "colab_type": "text"
      },
      "cell_type": "markdown",
      "source": [
        "### Plot de Algumas Imagens"
      ]
    },
    {
      "metadata": {
        "scrolled": true,
        "id": "CuxB8cLtVGVs",
        "colab_type": "code",
        "colab": {}
      },
      "cell_type": "code",
      "source": [
        "images = images_test[0:9]\n",
        "\n",
        "cls_true = cls_test[0:9]\n",
        "\n",
        "plot_images(images=images, cls_true=cls_true, smooth=False)"
      ],
      "execution_count": 0,
      "outputs": []
    },
    {
      "metadata": {
        "id": "4YSgZdglVGVw",
        "colab_type": "code",
        "colab": {}
      },
      "cell_type": "code",
      "source": [
        "# As imagens pixeladas acima são o que a rede neural receberá como entrada. \n",
        "# As imagens podem ser um pouco mais fáceis para o olho humano reconhecer se \"alisamos\" os pixels.\n",
        "plot_images(images=images, cls_true=cls_true, smooth=True)"
      ],
      "execution_count": 0,
      "outputs": []
    },
    {
      "metadata": {
        "id": "dA4uYqwmVGV2",
        "colab_type": "text"
      },
      "cell_type": "markdown",
      "source": [
        "## Criando o Grafo no TensorFlow "
      ]
    },
    {
      "metadata": {
        "id": "fLK2HkaNVGV3",
        "colab_type": "text"
      },
      "cell_type": "markdown",
      "source": [
        "### Placeholders"
      ]
    },
    {
      "metadata": {
        "id": "c8Qa2UPpVGV5",
        "colab_type": "code",
        "colab": {}
      },
      "cell_type": "code",
      "source": [
        "x = tf.placeholder(tf.float32, shape=[None, img_size, img_size, num_channels], name='x')"
      ],
      "execution_count": 0,
      "outputs": []
    },
    {
      "metadata": {
        "id": "XwLHaNAxVGV8",
        "colab_type": "code",
        "colab": {}
      },
      "cell_type": "code",
      "source": [
        "y_true = tf.placeholder(tf.float32, shape=[None, num_classes], name='y_true')"
      ],
      "execution_count": 0,
      "outputs": []
    },
    {
      "metadata": {
        "id": "SmTxkaaxVGV_",
        "colab_type": "code",
        "colab": {}
      },
      "cell_type": "code",
      "source": [
        "y_true_cls = tf.argmax(y_true, dimension=1)"
      ],
      "execution_count": 0,
      "outputs": []
    },
    {
      "metadata": {
        "id": "Nl-LwET7VGWC",
        "colab_type": "text"
      },
      "cell_type": "markdown",
      "source": [
        "### Função Para Pré-Processamento dos Dados"
      ]
    },
    {
      "metadata": {
        "id": "01s3uzPoVGWD",
        "colab_type": "code",
        "colab": {}
      },
      "cell_type": "code",
      "source": [
        "def pre_process_image(image, training):\n",
        " \n",
        "    if training:\n",
        "        image = tf.random_crop(image, size=[img_size_cropped, img_size_cropped, num_channels])\n",
        "\n",
        "        image = tf.image.random_flip_left_right(image)\n",
        "        \n",
        "        image = tf.image.random_hue(image, max_delta=0.05)\n",
        "        image = tf.image.random_contrast(image, lower=0.3, upper=1.0)\n",
        "        image = tf.image.random_brightness(image, max_delta=0.2)\n",
        "        image = tf.image.random_saturation(image, lower=0.0, upper=2.0)\n",
        "        image = tf.minimum(image, 1.0)\n",
        "        image = tf.maximum(image, 0.0)\n",
        "    else:\n",
        "        image = tf.image.resize_image_with_crop_or_pad(image,\n",
        "                                                       target_height=img_size_cropped,\n",
        "                                                       target_width=img_size_cropped)\n",
        "\n",
        "    return image"
      ],
      "execution_count": 0,
      "outputs": []
    },
    {
      "metadata": {
        "id": "X8jPJksGVGWL",
        "colab_type": "text"
      },
      "cell_type": "markdown",
      "source": [
        "A função acima é chamada para cada imagem no lote de entrada usando a seguinte função."
      ]
    },
    {
      "metadata": {
        "id": "lOj8dVuSVGWM",
        "colab_type": "code",
        "colab": {}
      },
      "cell_type": "code",
      "source": [
        "def pre_process(images, training):\n",
        "    images = tf.map_fn(lambda image: pre_process_image(image, training), images)\n",
        "\n",
        "    return images"
      ],
      "execution_count": 0,
      "outputs": []
    },
    {
      "metadata": {
        "id": "mpgO9rvDVGWO",
        "colab_type": "code",
        "colab": {}
      },
      "cell_type": "code",
      "source": [
        "distorted_images = pre_process(images=x, training=True)"
      ],
      "execution_count": 0,
      "outputs": []
    },
    {
      "metadata": {
        "id": "exhy9EybVGWQ",
        "colab_type": "text"
      },
      "cell_type": "markdown",
      "source": [
        "### Função Para Definir a Rede Neural Convolucional"
      ]
    },
    {
      "metadata": {
        "id": "sbwQZnaPVGWS",
        "colab_type": "code",
        "colab": {}
      },
      "cell_type": "code",
      "source": [
        "def main_network(images, training):\n",
        "    x_pretty = pt.wrap(images)\n",
        "\n",
        "    if training:\n",
        "        phase = pt.Phase.train\n",
        "    else:\n",
        "        phase = pt.Phase.infer\n",
        "\n",
        "    with pt.defaults_scope(activation_fn = tf.nn.relu, phase = phase):\n",
        "        y_pred, loss = x_pretty.\\\n",
        "            conv2d(kernel = 5, depth = 64, name = 'layer_conv1', batch_normalize = True).\\\n",
        "            max_pool(kernel = 2, stride = 2).\\\n",
        "            conv2d(kernel = 5, depth = 64, name = 'layer_conv2').\\\n",
        "            max_pool(kernel = 2, stride = 2).\\\n",
        "            flatten().\\\n",
        "            fully_connected(size = 256, name = 'layer_fc1').\\\n",
        "            fully_connected(size = 128, name = 'layer_fc2').\\\n",
        "            softmax_classifier(num_classes=num_classes, labels=y_true)\n",
        "\n",
        "    return y_pred, loss"
      ],
      "execution_count": 0,
      "outputs": []
    },
    {
      "metadata": {
        "id": "R___sAkRVGWU",
        "colab_type": "text"
      },
      "cell_type": "markdown",
      "source": [
        "### Função Para Criar a Rede Neural Convolucional"
      ]
    },
    {
      "metadata": {
        "id": "rRqmvtI-VGWY",
        "colab_type": "code",
        "colab": {}
      },
      "cell_type": "code",
      "source": [
        "def create_network(training):\n",
        "    with tf.variable_scope('network', reuse=not training):\n",
        "        images = x\n",
        "\n",
        "        images = pre_process(images=images, training=training)\n",
        "\n",
        "        y_pred, loss = main_network(images=images, training=training)\n",
        "\n",
        "    return y_pred, loss"
      ],
      "execution_count": 0,
      "outputs": []
    },
    {
      "metadata": {
        "id": "zx1baFTLVGWb",
        "colab_type": "text"
      },
      "cell_type": "markdown",
      "source": [
        "### Treinamento"
      ]
    },
    {
      "metadata": {
        "id": "9XVH8YOFVGWd",
        "colab_type": "text"
      },
      "cell_type": "markdown",
      "source": [
        "Primeiro criamos uma variável TensorFlow que acompanha o número de iterações de otimização realizadas até o momento. \n",
        "\n",
        "Note que `trainable = False` o que significa que o TensorFlow não tentará otimizar esta variável."
      ]
    },
    {
      "metadata": {
        "id": "r-zrmT6VVGWe",
        "colab_type": "code",
        "colab": {}
      },
      "cell_type": "code",
      "source": [
        "global_step = tf.Variable(initial_value = 0, name = 'global_step', trainable = False)"
      ],
      "execution_count": 0,
      "outputs": []
    },
    {
      "metadata": {
        "id": "qRXyVfriVGWg",
        "colab_type": "code",
        "colab": {}
      },
      "cell_type": "code",
      "source": [
        "_, loss = create_network(training=True)"
      ],
      "execution_count": 0,
      "outputs": []
    },
    {
      "metadata": {
        "id": "FlVQMAY-VGWj",
        "colab_type": "code",
        "colab": {}
      },
      "cell_type": "code",
      "source": [
        "optimizer = tf.train.AdamOptimizer(learning_rate=1e-4).minimize(loss, global_step=global_step)"
      ],
      "execution_count": 0,
      "outputs": []
    },
    {
      "metadata": {
        "id": "GTZPnpWxVGWo",
        "colab_type": "text"
      },
      "cell_type": "markdown",
      "source": [
        "### Teste / Inferência"
      ]
    },
    {
      "metadata": {
        "id": "-DWRUgH-VGWp",
        "colab_type": "code",
        "colab": {}
      },
      "cell_type": "code",
      "source": [
        "y_pred, _ = create_network(training=False)"
      ],
      "execution_count": 0,
      "outputs": []
    },
    {
      "metadata": {
        "id": "fPkxAp-zVGWs",
        "colab_type": "code",
        "colab": {}
      },
      "cell_type": "code",
      "source": [
        "y_pred_cls = tf.argmax(y_pred, dimension=1)"
      ],
      "execution_count": 0,
      "outputs": []
    },
    {
      "metadata": {
        "id": "FLaDfv0ZVGWv",
        "colab_type": "code",
        "colab": {}
      },
      "cell_type": "code",
      "source": [
        "correct_prediction = tf.equal(y_pred_cls, y_true_cls)"
      ],
      "execution_count": 0,
      "outputs": []
    },
    {
      "metadata": {
        "id": "W7q3Ej2VVGWz",
        "colab_type": "code",
        "colab": {}
      },
      "cell_type": "code",
      "source": [
        "accuracy = tf.reduce_mean(tf.cast(correct_prediction, tf.float32))"
      ],
      "execution_count": 0,
      "outputs": []
    },
    {
      "metadata": {
        "id": "zQd8LJgLVGW8",
        "colab_type": "text"
      },
      "cell_type": "markdown",
      "source": [
        "### Salvando o Modelo"
      ]
    },
    {
      "metadata": {
        "id": "dUzol5bQVGW9",
        "colab_type": "code",
        "colab": {}
      },
      "cell_type": "code",
      "source": [
        "saver = tf.train.Saver()"
      ],
      "execution_count": 0,
      "outputs": []
    },
    {
      "metadata": {
        "id": "wPWDRwQQVGXA",
        "colab_type": "text"
      },
      "cell_type": "markdown",
      "source": [
        "### Obtendo os Pesos"
      ]
    },
    {
      "metadata": {
        "id": "6aRJRU1uVGXC",
        "colab_type": "text"
      },
      "cell_type": "markdown",
      "source": [
        "Mais adiante, queremos plotar os pesos da rede neural. Quando a rede é construída usando o Pretty Tensor, todas as variáveis das camadas são criadas indiretamente pelo Pretty Tensor. Portanto, devemos recuperar as variáveis do TensorFlow.\n",
        "\n",
        "Utilizamos os nomes `layer_conv1` e` layer_conv2` para as duas camadas convolucionais. Estes também são chamados escopos variáveis. Pretty Tensor automaticamente dá nomes às variáveis que cria para cada camada, para que possamos recuperar os pesos para uma camada usando o nome do escopo da camada e o nome da variável.\n",
        "\n",
        "A implementação é um pouco incompreensível porque precisamos usar a função TensorFlow `get_variable ()` que foi projetada para outra finalidade; Criando uma nova variável ou reutilizando uma variável existente. O mais fácil é fazer a seguinte função auxiliar."
      ]
    },
    {
      "metadata": {
        "id": "k4UptpQEVGXD",
        "colab_type": "code",
        "colab": {}
      },
      "cell_type": "code",
      "source": [
        "def get_weights_variable(layer_name):\n",
        "    \n",
        "    with tf.variable_scope(\"network/\" + layer_name, reuse=True):\n",
        "        variable = tf.get_variable('weights')\n",
        "\n",
        "    return variable"
      ],
      "execution_count": 0,
      "outputs": []
    },
    {
      "metadata": {
        "id": "6nZbSs-oVGXH",
        "colab_type": "code",
        "colab": {}
      },
      "cell_type": "code",
      "source": [
        "weights_conv1 = get_weights_variable(layer_name='layer_conv1')\n",
        "weights_conv2 = get_weights_variable(layer_name='layer_conv2')"
      ],
      "execution_count": 0,
      "outputs": []
    },
    {
      "metadata": {
        "id": "m8vcdYtDVGXM",
        "colab_type": "text"
      },
      "cell_type": "markdown",
      "source": [
        "### Obtendo os Outputs das Camadas"
      ]
    },
    {
      "metadata": {
        "id": "BZgntQFjVGXN",
        "colab_type": "code",
        "colab": {}
      },
      "cell_type": "code",
      "source": [
        "def get_layer_output(layer_name):\n",
        "    tensor_name = \"network/\" + layer_name + \"/Relu:0\"\n",
        "\n",
        "    tensor = tf.get_default_graph().get_tensor_by_name(tensor_name)\n",
        "\n",
        "    return tensor"
      ],
      "execution_count": 0,
      "outputs": []
    },
    {
      "metadata": {
        "id": "QzGyhJ_FVGXP",
        "colab_type": "code",
        "colab": {}
      },
      "cell_type": "code",
      "source": [
        "output_conv1 = get_layer_output(layer_name='layer_conv1')\n",
        "output_conv2 = get_layer_output(layer_name='layer_conv2')"
      ],
      "execution_count": 0,
      "outputs": []
    },
    {
      "metadata": {
        "id": "-JGOMgSgVGXR",
        "colab_type": "text"
      },
      "cell_type": "markdown",
      "source": [
        "## TensorFlow Run"
      ]
    },
    {
      "metadata": {
        "id": "FmsFTW1mVGXS",
        "colab_type": "text"
      },
      "cell_type": "markdown",
      "source": [
        "### Sessão TensorFlow"
      ]
    },
    {
      "metadata": {
        "id": "Ms9VQMlZVGXS",
        "colab_type": "code",
        "colab": {}
      },
      "cell_type": "code",
      "source": [
        "session = tf.Session()"
      ],
      "execution_count": 0,
      "outputs": []
    },
    {
      "metadata": {
        "id": "uFQ3u1lMVGXV",
        "colab_type": "text"
      },
      "cell_type": "markdown",
      "source": [
        "### Restaurar ou inicializar variáveis\n",
        "\n",
        "Treinar esta rede neural pode demorar muito tempo, especialmente se você não possui GPU. Portanto, incluímos pontos de controle durante o treinamento para que possamos continuar treinando em outro momento (por exemplo durante a noite), e também para realizar análises depois sem ter que treinar a rede neural sempre que quisermos usá-la.\n",
        "\n",
        "Se você quiser reiniciar o treinamento da rede neural, você deve primeiro excluir os pontos de verificação.\n",
        "\n",
        "Este é o diretório usado para os pontos de verificação."
      ]
    },
    {
      "metadata": {
        "id": "lQQvfE-LVGXV",
        "colab_type": "code",
        "colab": {}
      },
      "cell_type": "code",
      "source": [
        "save_dir = 'checkpoints/'"
      ],
      "execution_count": 0,
      "outputs": []
    },
    {
      "metadata": {
        "id": "6G9y-PDjVGXX",
        "colab_type": "code",
        "colab": {}
      },
      "cell_type": "code",
      "source": [
        "if not os.path.exists(save_dir):\n",
        "    os.makedirs(save_dir)"
      ],
      "execution_count": 0,
      "outputs": []
    },
    {
      "metadata": {
        "id": "v6BfZ7eyVGXd",
        "colab_type": "code",
        "colab": {}
      },
      "cell_type": "code",
      "source": [
        "save_path = os.path.join(save_dir, 'cifar10_cnn')"
      ],
      "execution_count": 0,
      "outputs": []
    },
    {
      "metadata": {
        "id": "UBkmUzLKVGXi",
        "colab_type": "code",
        "colab": {}
      },
      "cell_type": "code",
      "source": [
        "try:\n",
        "    print(\"Tentando restaurar o último ponto de controle ...\")\n",
        "\n",
        "    last_chk_path = tf.train.latest_checkpoint(checkpoint_dir=save_dir)\n",
        "\n",
        "    saver.restore(session, save_path=last_chk_path)\n",
        "\n",
        "    print(\"Ponto de verificação restaurado de:\", last_chk_path)\n",
        "except:\n",
        "    print(\"Não foi possível restaurar o ponto de verificação. Inicializando variáveis em vez disso.\")\n",
        "    session.run(tf.global_variables_initializer())"
      ],
      "execution_count": 0,
      "outputs": []
    },
    {
      "metadata": {
        "id": "VSu4r08MVGXn",
        "colab_type": "text"
      },
      "cell_type": "markdown",
      "source": [
        "### Função Para Gerar um training-batch"
      ]
    },
    {
      "metadata": {
        "id": "ZokV15JmVGXo",
        "colab_type": "text"
      },
      "cell_type": "markdown",
      "source": [
        "Há 50.000 imagens no conjunto de treinamento. Demora muito tempo calcular o gradiente do modelo usando todas essas imagens. Portanto, usamos apenas um pequeno lote de imagens em cada iteração do otimizador.\n",
        "\n",
        "Se o seu computador falhar ou se tornar muito lento porque você está sem memória RAM, então você pode tentar diminuir esse número, mas talvez seja necessário executar mais iterações de otimização."
      ]
    },
    {
      "metadata": {
        "id": "O4Jmc8Y0VGXq",
        "colab_type": "code",
        "colab": {}
      },
      "cell_type": "code",
      "source": [
        "train_batch_size = 64"
      ],
      "execution_count": 0,
      "outputs": []
    },
    {
      "metadata": {
        "id": "8SRC8C0nVGXt",
        "colab_type": "code",
        "colab": {}
      },
      "cell_type": "code",
      "source": [
        "def random_batch():\n",
        "    num_images = len(images_train)\n",
        "\n",
        "    idx = np.random.choice(num_images, size=train_batch_size, replace=False)\n",
        "\n",
        "    x_batch = images_train[idx, :, :, :]\n",
        "    y_batch = labels_train[idx, :]\n",
        "\n",
        "    return x_batch, y_batch"
      ],
      "execution_count": 0,
      "outputs": []
    },
    {
      "metadata": {
        "id": "wXDSLTOdVGXz",
        "colab_type": "text"
      },
      "cell_type": "markdown",
      "source": [
        "### Função Para Otimização"
      ]
    },
    {
      "metadata": {
        "id": "Fs44RRGrVGX0",
        "colab_type": "text"
      },
      "cell_type": "markdown",
      "source": [
        "Esta função executa uma série de iterações de otimização para melhorar gradualmente as variáveis das camadas da rede. Em cada iteração, um novo lote de dados é selecionado a partir do conjunto de treinamento e, em seguida, TensorFlow executa o otimizador usando essas amostras de treinamento. O progresso é impresso a cada 100 iterações. Um ponto de verificação é salvo a cada 1000 iterações e também após a última iteração."
      ]
    },
    {
      "metadata": {
        "id": "G-Wx5qhaVGX1",
        "colab_type": "code",
        "colab": {}
      },
      "cell_type": "code",
      "source": [
        "def optimize(num_iterations):\n",
        "    start_time = time.time()\n",
        "\n",
        "    for i in range(num_iterations):\n",
        "        x_batch, y_true_batch = random_batch()\n",
        "\n",
        "        feed_dict_train = {x: x_batch, y_true: y_true_batch}\n",
        "\n",
        "        i_global, _ = session.run([global_step, optimizer], feed_dict=feed_dict_train)\n",
        "\n",
        "        if (i_global % 100 == 0) or (i == num_iterations - 1):\n",
        "            batch_acc = session.run(accuracy, feed_dict=feed_dict_train)\n",
        "\n",
        "            # Print status.\n",
        "            msg = \"Global Step: {0:>6}, Acurácia no Training Batch: {1:>6.1%}\"\n",
        "            print(msg.format(i_global, batch_acc))\n",
        "\n",
        "        if (i_global % 1000 == 0) or (i == num_iterations - 1):\n",
        "            saver.save(session, save_path=save_path, global_step=global_step)\n",
        "\n",
        "            print(\"Checkpoint Salvo.\")\n",
        "\n",
        "    end_time = time.time()\n",
        "\n",
        "    time_dif = end_time - start_time\n",
        "\n",
        "    print(\"Tempo gasto: \" + str(timedelta(seconds=int(round(time_dif)))))"
      ],
      "execution_count": 0,
      "outputs": []
    },
    {
      "metadata": {
        "id": "o74OL9lHVGX3",
        "colab_type": "text"
      },
      "cell_type": "markdown",
      "source": [
        "### Função Para Plot dos Erros"
      ]
    },
    {
      "metadata": {
        "id": "zmRFRvziVGX5",
        "colab_type": "code",
        "colab": {}
      },
      "cell_type": "code",
      "source": [
        "def plot_example_errors(cls_pred, correct):\n",
        "    incorrect = (correct == False)\n",
        "\n",
        "    images = images_test[incorrect]\n",
        "\n",
        "    cls_pred = cls_pred[incorrect]\n",
        "\n",
        "    cls_true = cls_test[incorrect]\n",
        "    \n",
        "    plot_images(images=images[0:9],\n",
        "                cls_true=cls_true[0:9],\n",
        "                cls_pred=cls_pred[0:9])"
      ],
      "execution_count": 0,
      "outputs": []
    },
    {
      "metadata": {
        "id": "k1tpcBXLVGYA",
        "colab_type": "text"
      },
      "cell_type": "markdown",
      "source": [
        "### Função Para o Plot da Confusion Matrix"
      ]
    },
    {
      "metadata": {
        "id": "Khah8DGsVGYA",
        "colab_type": "code",
        "colab": {}
      },
      "cell_type": "code",
      "source": [
        "def plot_confusion_matrix(cls_pred):\n",
        "\n",
        "    cm = confusion_matrix(y_true=cls_test, y_pred=cls_pred)  \n",
        "\n",
        "    for i in range(num_classes):\n",
        "        class_name = \"({}) {}\".format(i, class_names[i])\n",
        "        print(cm[i, :], class_name)\n",
        "\n",
        "    class_numbers = [\" ({0})\".format(i) for i in range(num_classes)]\n",
        "    print(\"\".join(class_numbers))"
      ],
      "execution_count": 0,
      "outputs": []
    },
    {
      "metadata": {
        "id": "Sii58SHyVGYC",
        "colab_type": "text"
      },
      "cell_type": "markdown",
      "source": [
        "### Função Para Calcular as Classificações"
      ]
    },
    {
      "metadata": {
        "id": "9J42Wl3UVGYD",
        "colab_type": "code",
        "colab": {}
      },
      "cell_type": "code",
      "source": [
        "batch_size = 256\n",
        "\n",
        "def predict_cls(images, labels, cls_true):\n",
        "    num_images = len(images)\n",
        "\n",
        "    cls_pred = np.zeros(shape=num_images, dtype=np.int)\n",
        "\n",
        "    i = 0\n",
        "\n",
        "    while i < num_images:\n",
        "        j = min(i + batch_size, num_images)\n",
        "\n",
        "        feed_dict = {x: images[i:j, :], y_true: labels[i:j, :]}\n",
        "\n",
        "        cls_pred[i:j] = session.run(y_pred_cls, feed_dict=feed_dict)\n",
        "\n",
        "        i = j\n",
        "\n",
        "    correct = (cls_true == cls_pred)\n",
        "\n",
        "    return correct, cls_pred"
      ],
      "execution_count": 0,
      "outputs": []
    },
    {
      "metadata": {
        "id": "5JR88lg-VGYG",
        "colab_type": "code",
        "colab": {}
      },
      "cell_type": "code",
      "source": [
        "def predict_cls_test():\n",
        "    return predict_cls(images = images_test,\n",
        "                       labels = labels_test,\n",
        "                       cls_true = cls_test)"
      ],
      "execution_count": 0,
      "outputs": []
    },
    {
      "metadata": {
        "id": "36kDMnCLVGYI",
        "colab_type": "text"
      },
      "cell_type": "markdown",
      "source": [
        "### Função Para Acurácia de Classificação"
      ]
    },
    {
      "metadata": {
        "id": "mesWQJTVVGYJ",
        "colab_type": "code",
        "colab": {}
      },
      "cell_type": "code",
      "source": [
        "def classification_accuracy(correct):\n",
        "    return correct.mean(), correct.sum()"
      ],
      "execution_count": 0,
      "outputs": []
    },
    {
      "metadata": {
        "id": "aDbWJzZzVGYM",
        "colab_type": "text"
      },
      "cell_type": "markdown",
      "source": [
        "### Função Para Visualizar a Performance"
      ]
    },
    {
      "metadata": {
        "id": "WRAJPulTVGYO",
        "colab_type": "code",
        "colab": {}
      },
      "cell_type": "code",
      "source": [
        "def print_test_accuracy(show_example_errors=False, show_confusion_matrix=False):\n",
        "\n",
        "    correct, cls_pred = predict_cls_test()\n",
        "    \n",
        "    acc, num_correct = classification_accuracy(correct)\n",
        "    \n",
        "    num_images = len(correct)\n",
        "\n",
        "    msg = \"Acurácia no Dataset de Teste: {0:.1%} ({1} / {2})\"\n",
        "    print(msg.format(acc, num_correct, num_images))\n",
        "\n",
        "    if show_example_errors:\n",
        "        print(\"Errors:\")\n",
        "        plot_example_errors(cls_pred=cls_pred, correct=correct)\n",
        "\n",
        "    if show_confusion_matrix:\n",
        "        print(\"Confusion Matrix:\")\n",
        "        plot_confusion_matrix(cls_pred=cls_pred)"
      ],
      "execution_count": 0,
      "outputs": []
    },
    {
      "metadata": {
        "id": "F83CIBF5VGYP",
        "colab_type": "text"
      },
      "cell_type": "markdown",
      "source": [
        "### Função Para Plot dos Pesos Convolucionais"
      ]
    },
    {
      "metadata": {
        "id": "AMoH6z8wVGYQ",
        "colab_type": "code",
        "colab": {}
      },
      "cell_type": "code",
      "source": [
        "def plot_conv_weights(weights, input_channel=0):\n",
        "    w = session.run(weights)\n",
        "\n",
        "    print(\"Min:  {0:.5f}, Max:   {1:.5f}\".format(w.min(), w.max()))\n",
        "    print(\"Mean: {0:.5f}, Stdev: {1:.5f}\".format(w.mean(), w.std()))\n",
        "    \n",
        "    w_min = np.min(w)\n",
        "    w_max = np.max(w)\n",
        "    abs_max = max(abs(w_min), abs(w_max))\n",
        "\n",
        "    num_filters = w.shape[3]\n",
        "\n",
        "    num_grids = math.ceil(math.sqrt(num_filters))\n",
        "    \n",
        "    fig, axes = plt.subplots(num_grids, num_grids)\n",
        "\n",
        "    for i, ax in enumerate(axes.flat):\n",
        "        if i < num_filters:\n",
        "            img = w[:, :, input_channel, i]\n",
        "\n",
        "            ax.imshow(img, vmin=-abs_max, vmax=abs_max, interpolation='nearest', cmap='seismic')\n",
        "        \n",
        "        ax.set_xticks([])\n",
        "        ax.set_yticks([])\n",
        "    \n",
        "    plt.show()"
      ],
      "execution_count": 0,
      "outputs": []
    },
    {
      "metadata": {
        "id": "v60qFMBiVGYS",
        "colab_type": "text"
      },
      "cell_type": "markdown",
      "source": [
        "### Função Para o Plot das Saídas das Camadas Convolucionais"
      ]
    },
    {
      "metadata": {
        "id": "99vbB2vaVGYT",
        "colab_type": "code",
        "colab": {}
      },
      "cell_type": "code",
      "source": [
        "def plot_layer_output(layer_output, image):\n",
        "    feed_dict = {x: [image]}\n",
        "    \n",
        "    values = session.run(layer_output, feed_dict=feed_dict)\n",
        "\n",
        "    values_min = np.min(values)\n",
        "    values_max = np.max(values)\n",
        "\n",
        "    num_images = values.shape[3]\n",
        "\n",
        "    num_grids = math.ceil(math.sqrt(num_images))\n",
        "\n",
        "    fig, axes = plt.subplots(num_grids, num_grids)\n",
        "\n",
        "    for i, ax in enumerate(axes.flat):\n",
        "        if i < num_images:\n",
        "            img = values[0, :, :, i]\n",
        "\n",
        "            ax.imshow(img, vmin=values_min, vmax=values_max, interpolation='nearest', cmap='binary')\n",
        "        \n",
        "        ax.set_xticks([])\n",
        "        ax.set_yticks([])\n",
        "    \n",
        "    plt.show()"
      ],
      "execution_count": 0,
      "outputs": []
    },
    {
      "metadata": {
        "id": "fWPeTbrnVGYW",
        "colab_type": "text"
      },
      "cell_type": "markdown",
      "source": [
        "## Exemplos de Imagens de Input"
      ]
    },
    {
      "metadata": {
        "id": "70qJ-1YzVGYW",
        "colab_type": "code",
        "colab": {}
      },
      "cell_type": "code",
      "source": [
        "def plot_distorted_image(image, cls_true):\n",
        "    image_duplicates = np.repeat(image[np.newaxis, :, :, :], 9, axis=0)\n",
        "\n",
        "    feed_dict = {x: image_duplicates}\n",
        "    \n",
        "    result = session.run(distorted_images, feed_dict=feed_dict)\n",
        "\n",
        "    plot_images(images=result, cls_true=np.repeat(cls_true, 9))"
      ],
      "execution_count": 0,
      "outputs": []
    },
    {
      "metadata": {
        "id": "-yC33bKVVGYa",
        "colab_type": "code",
        "colab": {}
      },
      "cell_type": "code",
      "source": [
        "def get_test_image(i):\n",
        "    return images_test[i, :, :, :], cls_test[i]"
      ],
      "execution_count": 0,
      "outputs": []
    },
    {
      "metadata": {
        "id": "yNqa1hBXVGYe",
        "colab_type": "code",
        "colab": {}
      },
      "cell_type": "code",
      "source": [
        "img, cls = get_test_image(16)"
      ],
      "execution_count": 0,
      "outputs": []
    },
    {
      "metadata": {
        "scrolled": true,
        "id": "GhyP4iMiVGYg",
        "colab_type": "code",
        "colab": {}
      },
      "cell_type": "code",
      "source": [
        "plot_distorted_image(img, cls)"
      ],
      "execution_count": 0,
      "outputs": []
    },
    {
      "metadata": {
        "id": "MPJWw_SBVGYk",
        "colab_type": "text"
      },
      "cell_type": "markdown",
      "source": [
        "## Otimização"
      ]
    },
    {
      "metadata": {
        "id": "fjbiy-yzVGYm",
        "colab_type": "text"
      },
      "cell_type": "markdown",
      "source": [
        "Dependendo do número de otimizações, isso pode levar de 1 a 15 horas."
      ]
    },
    {
      "metadata": {
        "scrolled": true,
        "id": "ab2oerHbVGYm",
        "colab_type": "code",
        "colab": {}
      },
      "cell_type": "code",
      "source": [
        "num_inter = 120000\n",
        "num_inter = 70000\n",
        "optimize(num_iterations = num_inter)"
      ],
      "execution_count": 0,
      "outputs": []
    },
    {
      "metadata": {
        "id": "n_gA-nYXVGYr",
        "colab_type": "text"
      },
      "cell_type": "markdown",
      "source": [
        "## Resultados\n",
        "\n",
        "Após 120.000 iterações de otimização, a precisão da classificação é de cerca de 79-80% no conjunto de teste. Exemplos de classificações erradas são plotados abaixo. Alguns são difíceis de reconhecer, mesmo para os seres humanos e outros são erros razoáveis, p. Ex. Entre um grande carro e um caminhão, ou entre um gato e um cachorro, enquanto outros erros parecem um pouco estranhos."
      ]
    },
    {
      "metadata": {
        "scrolled": true,
        "id": "cvmCISWAVGYr",
        "colab_type": "code",
        "colab": {}
      },
      "cell_type": "code",
      "source": [
        "print_test_accuracy(show_example_errors=True, show_confusion_matrix=True)"
      ],
      "execution_count": 0,
      "outputs": []
    },
    {
      "metadata": {
        "id": "FJiEvghVVGYv",
        "colab_type": "text"
      },
      "cell_type": "markdown",
      "source": [
        "### Pesos Convolucionais\n",
        "\n",
        "O seguinte mostra alguns dos pesos (ou filtros) para a primeira camada convolucional. Existem 3 canais de entrada, portanto, há 3 desses conjuntos, que você pode plotar, alterando o `input_channel`.\n",
        "\n",
        "Observe que os pesos positivos são vermelhos e os pesos negativos são azuis."
      ]
    },
    {
      "metadata": {
        "scrolled": false,
        "id": "b8fUyEpaVGYw",
        "colab_type": "code",
        "colab": {}
      },
      "cell_type": "code",
      "source": [
        "plot_conv_weights(weights=weights_conv1, input_channel=0)"
      ],
      "execution_count": 0,
      "outputs": []
    },
    {
      "metadata": {
        "scrolled": false,
        "id": "POai9J2hVGYy",
        "colab_type": "code",
        "colab": {}
      },
      "cell_type": "code",
      "source": [
        "plot_conv_weights(weights=weights_conv2, input_channel=1)"
      ],
      "execution_count": 0,
      "outputs": []
    },
    {
      "metadata": {
        "id": "R6FrBfM6VGY1",
        "colab_type": "text"
      },
      "cell_type": "markdown",
      "source": [
        "### Output das Camadas de Convolução"
      ]
    },
    {
      "metadata": {
        "id": "RW3YS8VNVGY1",
        "colab_type": "code",
        "colab": {}
      },
      "cell_type": "code",
      "source": [
        "def plot_image(image):\n",
        "    fig, axes = plt.subplots(1, 2)\n",
        "\n",
        "    ax0 = axes.flat[0]\n",
        "    ax1 = axes.flat[1]\n",
        "\n",
        "    ax0.imshow(image, interpolation='nearest')\n",
        "    ax1.imshow(image, interpolation='spline16')\n",
        "\n",
        "    ax0.set_xlabel('Raw')\n",
        "    ax1.set_xlabel('Smooth')\n",
        "    \n",
        "    plt.show()"
      ],
      "execution_count": 0,
      "outputs": []
    },
    {
      "metadata": {
        "id": "Gk1AG4FgVGY4",
        "colab_type": "code",
        "colab": {}
      },
      "cell_type": "code",
      "source": [
        "img, cls = get_test_image(16)\n",
        "plot_image(img)"
      ],
      "execution_count": 0,
      "outputs": []
    },
    {
      "metadata": {
        "scrolled": true,
        "id": "RGHB70TjVGY-",
        "colab_type": "code",
        "colab": {}
      },
      "cell_type": "code",
      "source": [
        "plot_layer_output(output_conv1, image=img)"
      ],
      "execution_count": 0,
      "outputs": []
    },
    {
      "metadata": {
        "scrolled": true,
        "id": "kNKaoElJVGZD",
        "colab_type": "code",
        "colab": {}
      },
      "cell_type": "code",
      "source": [
        "plot_layer_output(output_conv2, image=img)"
      ],
      "execution_count": 0,
      "outputs": []
    },
    {
      "metadata": {
        "id": "2kLofgnnVGZH",
        "colab_type": "text"
      },
      "cell_type": "markdown",
      "source": [
        "### Labels de Classe Previstos"
      ]
    },
    {
      "metadata": {
        "id": "bhzyG-JGVGZH",
        "colab_type": "code",
        "colab": {}
      },
      "cell_type": "code",
      "source": [
        "label_pred, cls_pred = session.run([y_pred, y_pred_cls], feed_dict={x: [img]})"
      ],
      "execution_count": 0,
      "outputs": []
    },
    {
      "metadata": {
        "scrolled": true,
        "id": "vpH2iNh0VGZO",
        "colab_type": "code",
        "colab": {}
      },
      "cell_type": "code",
      "source": [
        "np.set_printoptions(precision=3, suppress=True)\n",
        "\n",
        "print(label_pred[0])"
      ],
      "execution_count": 0,
      "outputs": []
    },
    {
      "metadata": {
        "id": "qfzic7SlVGZT",
        "colab_type": "code",
        "colab": {}
      },
      "cell_type": "code",
      "source": [
        "class_names[3]"
      ],
      "execution_count": 0,
      "outputs": []
    },
    {
      "metadata": {
        "id": "AOhu5LscVGZY",
        "colab_type": "code",
        "colab": {}
      },
      "cell_type": "code",
      "source": [
        "class_names[5]"
      ],
      "execution_count": 0,
      "outputs": []
    },
    {
      "metadata": {
        "id": "4YtuIhRfVGZb",
        "colab_type": "text"
      },
      "cell_type": "markdown",
      "source": [
        "## Encerrando a Sessão"
      ]
    },
    {
      "metadata": {
        "id": "JHOyvs0LVGZb",
        "colab_type": "code",
        "colab": {}
      },
      "cell_type": "code",
      "source": [
        "#session.close()"
      ],
      "execution_count": 0,
      "outputs": []
    },
    {
      "metadata": {
        "id": "H4HkTPH0VGZe",
        "colab_type": "text"
      },
      "cell_type": "markdown",
      "source": [
        "## Conclusão\n",
        "\n",
        "Este jupyter notebook mostrou como construir uma Rede Neural convolutiva para classificar imagens no conjunto de dados CIFAR-10. A precisão da classificação foi de cerca de 79-80% no conjunto de teste."
      ]
    }
  ]
}