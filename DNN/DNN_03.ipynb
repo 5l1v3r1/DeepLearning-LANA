{
  "nbformat": 4,
  "nbformat_minor": 0,
  "metadata": {
    "colab": {
      "name": "DNN-03.ipynb",
      "version": "0.3.2",
      "provenance": [],
      "collapsed_sections": [],
      "include_colab_link": true
    },
    "kernelspec": {
      "name": "python3",
      "display_name": "Python 3"
    },
    "accelerator": "GPU"
  },
  "cells": [
    {
      "cell_type": "markdown",
      "metadata": {
        "id": "view-in-github",
        "colab_type": "text"
      },
      "source": [
        "<a href=\"https://colab.research.google.com/github/vladimiralencar/DeepLearning-LANA/blob/master/DNN/DNN_03.ipynb\" target=\"_parent\"><img src=\"https://colab.research.google.com/assets/colab-badge.svg\" alt=\"Open In Colab\"/></a>"
      ]
    },
    {
      "metadata": {
        "id": "6X6plLNQZszz",
        "colab_type": "text"
      },
      "cell_type": "markdown",
      "source": [
        "# Toolkit - Funções de Visualização"
      ]
    },
    {
      "metadata": {
        "id": "-ugPOz4ybbC6",
        "colab_type": "code",
        "colab": {
          "resources": {
            "http://localhost:8080/nbextensions/google.colab/files.js": {
              "data": "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",
              "ok": true,
              "headers": [
                [
                  "content-type",
                  "application/javascript"
                ]
              ],
              "status": 200,
              "status_text": ""
            }
          },
          "base_uri": "https://localhost:8080/",
          "height": 919
        },
        "outputId": "801c4f4d-aed4-4edb-dcd5-22c1ae9fa5ee"
      },
      "cell_type": "code",
      "source": [
        "from google.colab import files\n",
        "files.upload()\n",
        "!mkdir data\n",
        "!mkdir images\n",
        "!cp *.csv data\n",
        "!cp *.png images\n",
        "!cp *.gif images"
      ],
      "execution_count": 1,
      "outputs": [
        {
          "output_type": "display_data",
          "data": {
            "text/html": [
              "\n",
              "     <input type=\"file\" id=\"files-835017da-7f90-4271-aecd-677ab90416eb\" name=\"files[]\" multiple disabled />\n",
              "     <output id=\"result-835017da-7f90-4271-aecd-677ab90416eb\">\n",
              "      Upload widget is only available when the cell has been executed in the\n",
              "      current browser session. Please rerun this cell to enable.\n",
              "      </output>\n",
              "      <script src=\"/nbextensions/google.colab/files.js\"></script> "
            ],
            "text/plain": [
              "<IPython.core.display.HTML object>"
            ]
          },
          "metadata": {
            "tags": []
          }
        },
        {
          "output_type": "stream",
          "text": [
            "Saving saddle_point_evaluation_optimizers.gif to saddle_point_evaluation_optimizers (1).gif\n",
            "Saving z-score.png to z-score (1).png\n",
            "Saving one-hot.png to one-hot (1).png\n",
            "Saving tanh.png to tanh (1).png\n",
            "Saving higher-dimensions-classification.png to higher-dimensions-classification (1).png\n",
            "Saving binary-classification.png to binary-classification (1).png\n",
            "Saving abstract_nn.png to abstract_nn (1).png\n",
            "Saving ann_class_reg.png to ann_class_reg (1).png\n",
            "Saving ann.png to ann (1).png\n",
            "Saving bias_value.png to bias_value (1).png\n",
            "Saving bias_weight.png to bias_weight (1).png\n",
            "Saving contours_evaluation_optimizers.gif to contours_evaluation_optimizers (1).gif\n",
            "Saving deriv_sigmoid.png to deriv_sigmoid (1).png\n",
            "Saving deriv.png to deriv (1).png\n",
            "Saving errors.png to errors (1).png\n",
            "Saving kfold.png to kfold (1).png\n",
            "Saving momentum.png to momentum (1).png\n",
            "Saving relu.png to relu (1).png\n",
            "Saving roc.png to roc (1).png\n",
            "Saving sgd_error.png to sgd_error (1).png\n",
            "Saving sigmoid.png to sigmoid (1).png\n",
            "Saving spec_cut.png to spec_cut (1).png\n",
            "Saving t1vst2.png to t1vst2 (1).png\n",
            "Saving train_val.png to train_val (1).png\n",
            "Saving training_val.png to training_val (1).png\n",
            "mkdir: cannot create directory ‘data’: File exists\n",
            "mkdir: cannot create directory ‘images’: File exists\n"
          ],
          "name": "stdout"
        }
      ]
    },
    {
      "metadata": {
        "id": "5poj4kAmZsz2",
        "colab_type": "text"
      },
      "cell_type": "markdown",
      "source": [
        "## Classificação Binária, Classificação Multiclasse e Regressão\n",
        "\n",
        "* **Classificação Binária** - Classificação entre duas possibilidades (positiva e negativa). Comum em testes médicos: a pessoa tem a doença (positiva) ou não (negativa).\n",
        "* **Classificação Multiclasse** - Classificação entre mais de 2 classes. Como exemplo, o conjunto de dados da íris (classificação de 3 espécies de flores).\n",
        "* **Regressão** - Previsão numérica. Como exemplos as previsões de MPG de um automóvel.\n",
        "\n",
        "Neste Jupyter Notebook, veremos algumas visualizações para os três tipos de aprendizagens acima."
      ]
    },
    {
      "metadata": {
        "id": "Fgico6S0cqL6",
        "colab_type": "text"
      },
      "cell_type": "markdown",
      "source": [
        ""
      ]
    },
    {
      "metadata": {
        "id": "pKIvzJUAZsz4",
        "colab_type": "text"
      },
      "cell_type": "markdown",
      "source": [
        "## Funções Auxiliares\n",
        "\n",
        "É uma boa prática criar suas próprias funções de limpeza e transformação dos dados que serão processados pelo modelo de rede neural. Use esses exemplos como referência."
      ]
    },
    {
      "metadata": {
        "id": "DarMobyVZsz6",
        "colab_type": "code",
        "colab": {}
      },
      "cell_type": "code",
      "source": [
        "from sklearn import preprocessing\n",
        "import matplotlib.pyplot as plt\n",
        "import numpy as np\n",
        "import pandas as pd\n",
        "import shutil\n",
        "import os\n",
        "\n",
        "# Encoding dos valores de texto para variáveis nominais\n",
        "def encode_text_dummy(df, name):\n",
        "    dummies = pd.get_dummies(df[name])\n",
        "    for x in dummies.columns:\n",
        "        dummy_name = \"{}-{}\".format(name, x)\n",
        "        df[dummy_name] = dummies[x]\n",
        "    df.drop(name, axis=1, inplace=True)\n",
        "\n",
        "\n",
        "# Encoding dos valores de texto para uma única variável dummy. As novas colunas (que não substituem o antigo) terão 1\n",
        "# em todos os locais onde a coluna original (nome) corresponde a cada um dos valores-alvo. Uma coluna é adicionada para\n",
        "# cada valor alvo.\n",
        "def encode_text_single_dummy(df, name, target_values):\n",
        "    for tv in target_values:\n",
        "        l = list(df[name].astype(str))\n",
        "        l = [1 if str(x) == str(tv) else 0 for x in l]\n",
        "        name2 = \"{}-{}\".format(name, tv)\n",
        "        df[name2] = l\n",
        "\n",
        "\n",
        "# Encoding dos valores de texto para índices (ou seja, [1], [2], [3] para vermelho, verde, azul por exemplo).\n",
        "def encode_text_index(df, name):\n",
        "    le = preprocessing.LabelEncoder()\n",
        "    df[name] = le.fit_transform(df[name])\n",
        "    return le.classes_\n",
        "\n",
        "\n",
        "# Normalização Z-score\n",
        "def encode_numeric_zscore(df, name, mean=None, sd=None):\n",
        "    if mean is None:\n",
        "        mean = df[name].mean()\n",
        "\n",
        "    if sd is None:\n",
        "        sd = df[name].std()\n",
        "\n",
        "    df[name] = (df[name] - mean) / sd\n",
        "\n",
        "\n",
        "# Converte todos os valores faltantes na coluna especificada para a mediana\n",
        "def missing_median(df, name):\n",
        "    med = df[name].median()\n",
        "    df[name] = df[name].fillna(med)\n",
        "\n",
        "\n",
        "# Converte todos os valores faltantes na coluna especificada para o padrão\n",
        "def missing_default(df, name, default_value):\n",
        "    df[name] = df[name].fillna(default_value)\n",
        "\n",
        "\n",
        "# Converte um dataframe Pandas para as entradas x, y que o TensorFlow precisa\n",
        "def to_xy(df, target):\n",
        "    result = []\n",
        "    for x in df.columns:\n",
        "        if x != target:\n",
        "            result.append(x)\n",
        "    # Descobre o tipo da coluna de destino. \n",
        "    target_type = df[target].dtypes\n",
        "    target_type = target_type[0] if hasattr(target_type, '__iter__') else target_type\n",
        "    # Encoding para int. TensorFlow gosta de 32 bits.\n",
        "    if target_type in (np.int64, np.int32):\n",
        "        # Classificação\n",
        "        dummies = pd.get_dummies(df[target])\n",
        "        return df.as_matrix(result).astype(np.float32), dummies.as_matrix().astype(np.float32)\n",
        "    else:\n",
        "        # Regressão\n",
        "        return df.as_matrix(result).astype(np.float32), df.as_matrix([target]).astype(np.float32)\n",
        "\n",
        "# String de tempo bem formatado\n",
        "def hms_string(sec_elapsed):\n",
        "    h = int(sec_elapsed / (60 * 60))\n",
        "    m = int((sec_elapsed % (60 * 60)) / 60)\n",
        "    s = sec_elapsed % 60\n",
        "    return \"{}:{:>02}:{:>05.2f}\".format(h, m, s)\n",
        "\n",
        "\n",
        "# Chart de Regressão\n",
        "def chart_regression(pred,y,sort=True):\n",
        "    t = pd.DataFrame({'pred' : pred, 'y' : y.flatten()})\n",
        "    if sort:\n",
        "        t.sort_values(by=['y'],inplace=True)\n",
        "    a = plt.plot(t['y'].tolist(),label='expected')\n",
        "    b = plt.plot(t['pred'].tolist(),label='prediction')\n",
        "    plt.ylabel('output')\n",
        "    plt.legend()\n",
        "    plt.show()\n",
        "\n",
        "# Remove todas as linhas onde a coluna especificada em +/- desvios padrão\n",
        "def remove_outliers(df, name, sd):\n",
        "    drop_rows = df.index[(np.abs(df[name] - df[name].mean()) >= (sd * df[name].std()))]\n",
        "    df.drop(drop_rows, axis=0, inplace=True)\n",
        "\n",
        "\n",
        "# Normalização Range\n",
        "def encode_numeric_range(df, name, normalized_low=-1, normalized_high=1, data_low=None, data_high=None):\n",
        "    if data_low is None:\n",
        "        data_low = min(df[name])\n",
        "        data_high = max(df[name])\n",
        "\n",
        "    df[name] = ((df[name] - data_low) / (data_high - data_low)) * (normalized_high - normalized_low) + normalized_low"
      ],
      "execution_count": 0,
      "outputs": []
    },
    {
      "metadata": {
        "id": "dxOFXrTSZs0B",
        "colab_type": "text"
      },
      "cell_type": "markdown",
      "source": [
        "## Funções de Visualização\n",
        "\n",
        "Existem 3 tipos diferentes de visualizações que podem ser usadas para avaliar o resultado de modelos de redes neurais para classificação e regressão:\n",
        "\n",
        "* **Confusion Matrix** - Para qualquer tipo de rede neural de classificação.\n",
        "* **ROC Curve** - Para a classificação binária.\n",
        "* **Lift Curve** - Para redes neurais de regressão.\n",
        "\n",
        "O código usado para produzir essas visualizações é mostrado abaixo."
      ]
    },
    {
      "metadata": {
        "id": "Wqe1wVsGZs0D",
        "colab_type": "code",
        "colab": {}
      },
      "cell_type": "code",
      "source": [
        "%matplotlib inline\n",
        "import matplotlib.pyplot as plt\n",
        "from sklearn.metrics import roc_curve, auc\n",
        "\n",
        "# Plot de uma Confusion Matrix\n",
        "# Cm é a matriz de confusão, os nomes são os nomes das classes\n",
        "def plot_confusion_matrix(cm, names, title='Confusion matrix', cmap=plt.cm.Blues):\n",
        "    plt.imshow(cm, interpolation='nearest', cmap=cmap)\n",
        "    plt.title(title)\n",
        "    plt.colorbar()\n",
        "    tick_marks = np.arange(len(names))\n",
        "    plt.xticks(tick_marks, names, rotation=45)\n",
        "    plt.yticks(tick_marks, names)\n",
        "    plt.tight_layout()\n",
        "    plt.ylabel('Label Observado')\n",
        "    plt.xlabel('Label Previsto')\n",
        "    \n",
        "\n",
        "# Plot de uma ROC. pred (previsões), y (valor observado)\n",
        "def plot_roc(pred,y):\n",
        "    fpr, tpr, _ = roc_curve(y, pred)\n",
        "    roc_auc = auc(fpr, tpr)\n",
        "\n",
        "    plt.figure()\n",
        "    plt.plot(fpr, tpr, label = 'Curva ROC (area = %0.2f)' % roc_auc)\n",
        "    plt.plot([0, 1], [0, 1], 'k--')\n",
        "    plt.xlim([0.0, 1.0])\n",
        "    plt.ylim([0.0, 1.05])\n",
        "    plt.xlabel('Taxa de Falso Positivo')\n",
        "    plt.ylabel('Taxa de Verdadeiro Positivo')\n",
        "    plt.title('Receiver Operating Characteristic (ROC)')\n",
        "    plt.legend(loc=\"lower right\")\n",
        "    plt.show()"
      ],
      "execution_count": 0,
      "outputs": []
    },
    {
      "metadata": {
        "id": "Q3CtZ9FCZs0G",
        "colab_type": "text"
      },
      "cell_type": "markdown",
      "source": [
        "# Classificação Binária\n",
        "\n",
        "\n",
        "A classificação binária é usada para criar um modelo que classifica entre apenas duas classes. Essas duas classes geralmente são chamadas de \"positivo\" e \"negativo\". Considere o seguinte programa que usa o conjunto de dados wcbreast_wdbc para classificar se um tumor de mama é cancerígeno (maligno) ou não (benigno). O conjunto de dados íris não é binário, porque existem três classes (3 tipos de íris)."
      ]
    },
    {
      "metadata": {
        "id": "5-S_g2enZs0H",
        "colab_type": "code",
        "colab": {
          "base_uri": "https://localhost:8080/",
          "height": 68
        },
        "outputId": "14907618-e69c-40a6-c6f2-cdf1883bcf31"
      },
      "cell_type": "code",
      "source": [
        "import os\n",
        "import pandas as pd\n",
        "from sklearn.model_selection import train_test_split\n",
        "import tensorflow as tf\n",
        "import numpy as np\n",
        "from sklearn import metrics\n",
        "from keras.models import Sequential\n",
        "from keras.layers.core import Dense, Activation\n",
        "from keras.callbacks import EarlyStopping\n",
        "\n",
        "# Definimos o nível de saída TensorFlow desejado para este exemplo\n",
        "tf.logging.set_verbosity(tf.logging.ERROR)\n",
        "\n",
        "# Path\n",
        "path = \"./data/\"\n",
        "    \n",
        "# Arquivo\n",
        "filename = os.path.join(path, \"wcbreast_wdbc.csv\")    \n",
        "df = pd.read_csv(filename,na_values=['NA','?'])\n",
        "\n",
        "# Encode feature vector\n",
        "df.drop('id',axis=1,inplace=True)\n",
        "diagnosis = encode_text_index(df,'diagnosis')\n",
        "num_classes = len(diagnosis)\n",
        "\n",
        "# Criando x e y para o treinamento\n",
        "x, y = to_xy(df,'diagnosis')\n",
        "    \n",
        "# Split em treino/teste\n",
        "x_train, x_test, y_train, y_test = train_test_split(x, y, test_size=0.25, random_state=42) \n",
        "\n",
        "# Rede Neural\n",
        "model = Sequential()\n",
        "model.add(Dense(10, input_dim=x.shape[1], kernel_initializer='normal', activation='relu'))\n",
        "model.add(Dense(1, kernel_initializer='normal'))\n",
        "model.add(Dense(y.shape[1],activation='softmax'))\n",
        "model.compile(loss='categorical_crossentropy', optimizer='adam')\n",
        "monitor = EarlyStopping(monitor='val_loss', min_delta=1e-3, patience=5, verbose=1, mode='auto')\n",
        "model.fit(x,y,validation_data=(x_test,y_test),callbacks=[monitor],verbose=0,epochs=1000)\n",
        "\n",
        "# Medindo a Acurácia\n",
        "pred = model.predict(x_test)\n",
        "pred = np.argmax(pred,axis=1)\n",
        "y_compare = np.argmax(y_test,axis=1)\n",
        "score = metrics.accuracy_score(y_compare, pred)\n",
        "print(\"Acurácia Final: {}\".format(score))"
      ],
      "execution_count": 4,
      "outputs": [
        {
          "output_type": "stream",
          "text": [
            "Using TensorFlow backend.\n"
          ],
          "name": "stderr"
        },
        {
          "output_type": "stream",
          "text": [
            "Epoch 00063: early stopping\n",
            "Acurácia Final: 0.958041958041958\n"
          ],
          "name": "stdout"
        }
      ]
    },
    {
      "metadata": {
        "id": "0GUYiz3vZs0Q",
        "colab_type": "text"
      },
      "cell_type": "markdown",
      "source": [
        "### Confusion Matrix\n",
        "\n",
        "A matriz de confusão é uma visualização comum para problemas de classificação. Muitas vezes, um modelo terá dificuldade em diferenciar entre duas classes. Por exemplo, uma rede neural pode ser realmente boa em dizer a diferença entre gatos e cachorros, mas não tão boa em dizer a diferença entre cães e lobos. O código a seguir gera uma matriz de confusão:"
      ]
    },
    {
      "metadata": {
        "id": "pAT16fz-Zs0Q",
        "colab_type": "code",
        "colab": {
          "base_uri": "https://localhost:8080/",
          "height": 707
        },
        "outputId": "a2d6f921-6dfa-4e28-9b4b-c12ce91c987f"
      },
      "cell_type": "code",
      "source": [
        "import numpy as np\n",
        "\n",
        "from sklearn import svm, datasets\n",
        "from sklearn.model_selection import train_test_split\n",
        "from sklearn.metrics import confusion_matrix\n",
        "\n",
        "# Confusion matrix\n",
        "cm = confusion_matrix(y_compare, pred)\n",
        "np.set_printoptions(precision=2)\n",
        "print('Confusion Matrix Sem Normalização')\n",
        "print(cm)\n",
        "plt.figure()\n",
        "plot_confusion_matrix(cm, diagnosis)\n",
        "\n",
        "# Normaliza a matriz de confusão por linha (ou seja, pelo número de amostras em cada classe)\n",
        "cm_normalized = cm.astype('float') / cm.sum(axis=1)[:, np.newaxis]\n",
        "print('Confusion Matrix Normalizada')\n",
        "print(cm_normalized)\n",
        "plt.figure()\n",
        "plot_confusion_matrix(cm_normalized, diagnosis, title='Confusion Matrix Normalizada')\n",
        "\n",
        "plt.show()"
      ],
      "execution_count": 5,
      "outputs": [
        {
          "output_type": "stream",
          "text": [
            "Confusion Matrix Sem Normalização\n",
            "[[86  3]\n",
            " [ 3 51]]\n",
            "Confusion Matrix Normalizada\n",
            "[[0.97 0.03]\n",
            " [0.06 0.94]]\n"
          ],
          "name": "stdout"
        },
        {
          "output_type": "display_data",
          "data": {
            "image/png": "[encoded data removed]",
            "text/plain": [
              "<Figure size 432x288 with 2 Axes>"
            ]
          },
          "metadata": {
            "tags": []
          }
        },
        {
          "output_type": "display_data",
          "data": {
            "image/png": "[encoded data removed]",
            "text/plain": [
              "<Figure size 432x288 with 2 Axes>"
            ]
          },
          "metadata": {
            "tags": []
          }
        }
      ]
    },
    {
      "metadata": {
        "id": "r-3jnpYiZs0W",
        "colab_type": "text"
      },
      "cell_type": "markdown",
      "source": [
        "As duas matrizes de confusão acima mostram a mesma rede. A parte inferior (normalizada) é o tipo que você verá normalmente. Observe os dois rótulos. O rótulo \"B\" significa benigno (sem câncer) e o rótulo \"M\" significa maligno (câncer). O eixo x são as previsões e o eixo y são os resultados esperados. Um modelo perfeito (que nunca cometeu um erro) possui uma diagonal azul escuro que corre da parte superior esquerda para a parte inferior direita.\n",
        "\n",
        "Para ler, considere o quadrado superior esquerdo. Este quadrado indica \"verdadeiro rotulado\" de B e também \"rótulo previsto\" de B. Isso é bom! A previsão corresponde à verdade. O azul desta caixa representa a frequência com que \"B\" é classificado corretamente. Não é azul escuro. Isso ocorre porque o quadrado à direita (que está fora da diagonal perfeita) tem alguma cor. Este quadrado indica a verdade de \"B\", mas a previsão de \"M\". O quadrado branco, na parte inferior esquerda, indica uma verdade de \"M\", mas previu de \"B\". A brancura indica que isso raramente acontece.\n",
        "\n",
        "Sua conclusão do gráfico acima é que o modelo às vezes classifica \"B\" como \"M\" (um falso negativo), mas nunca classifica \"M\" como \"B\". Procure sempre a diagonal escura, isso é bom!"
      ]
    },
    {
      "metadata": {
        "id": "jQlfbAO1Zs0X",
        "colab_type": "text"
      },
      "cell_type": "markdown",
      "source": [
        "## Curva ROC \n",
        "\n",
        "As curvas ROC podem ser um pouco confusas. No entanto, eles são muito comuns. É importante saber como interpretá-las. O título Curva ROC vem de Engenharia Elétrica.\n",
        "\n",
        "A classificação binária é comum em testes médicos. Muitas vezes você quer diagnosticar se alguém tem uma doença. Isso pode levar a dois tipos de erros, conhecidos como falsos positivos e falsos negativos:\n",
        "\n",
        "* **False Positive** - Seu teste (rede neural) indicou que o paciente tinha a doença; No entanto, o paciente não teve a doença.\n",
        "* **False Negative** - Seu teste (rede neural) indicou que o paciente não teve a doença; No entanto, o paciente teve a doença.\n",
        "* **True Positive** - Seu teste (rede neural) identificou corretamente que o paciente tinha a doença.\n",
        "* **True Negative** - Seu teste (rede neural) identificou corretamente que o paciente não tinha a doença.\n",
        "\n",
        "Tipos de Erros:\n",
        "\n",
        "![Tipos de Erros](https://github.com/vladimiralencar/DeepLearning-LANA/blob/master/DNN/images/errors.png?raw=true \"Tipos de Erros\")\n",
        "\n",
        "As redes neurais classificam em termos de probabilidade de ser positivo. No entanto, em que probabilidade você dá um resultado positivo? O limite é de 50%? 90%? Onde você define esse ponto de corte é chamado de limite. Qualquer coisa acima do ponto de corte é positiva, qualquer coisa abaixo é negativa. Definir esse ponto de corte permite que o modelo seja mais sensível ou específico:\n",
        "\n",
        "![Sensitivity vs. Specificity](https://github.com/vladimiralencar/DeepLearning-LANA/blob/master/DNN/images/t1vst2.png?raw=true  \"Sensitivity vs. Specificity\")\n",
        "\n",
        "O seguinte mostra um ponto de corte mais sensível:\n",
        "\n",
        "![Sensitive Cutoff ](https://github.com/vladimiralencar/DeepLearning-LANA/blob/master/DNN/images/spec_cut.png?raw=true \"Sensitive Cutoff\")\n",
        "\n",
        "** Uma curva ROC mede o quão bom é um modelo, independentemente do ponto de corte. ** O seguinte mostra como ler um gráfico ROC:\n",
        "\n",
        "\n",
        "![Reading a ROC Chart](https://github.com/vladimiralencar/DeepLearning-LANA/blob/master/DNN/images/roc.png?raw=true \"Reading a ROC Chart\")\n",
        "\n",
        "O código a seguir mostra uma Curva ROC para a rede neural de câncer de mama. A área sob a curva (AUC) também é uma medida importante. Quanto maior a AUC, melhor."
      ]
    },
    {
      "metadata": {
        "id": "2vZt06MlZs0Z",
        "colab_type": "code",
        "colab": {
          "base_uri": "https://localhost:8080/",
          "height": 294
        },
        "outputId": "f1d5a3b5-014b-407f-afdd-fd0f9b35bc93"
      },
      "cell_type": "code",
      "source": [
        "pred = model.predict(x_test)\n",
        "pred = pred[:,1] # Somente casos positivos\n",
        "plot_roc(pred,y_compare)"
      ],
      "execution_count": 6,
      "outputs": [
        {
          "output_type": "display_data",
          "data": {
            "image/png": "[encoded data removed]",
            "text/plain": [
              "<Figure size 432x288 with 1 Axes>"
            ]
          },
          "metadata": {
            "tags": []
          }
        }
      ]
    },
    {
      "metadata": {
        "id": "9B_hByKRZs0f",
        "colab_type": "text"
      },
      "cell_type": "markdown",
      "source": [
        "## Classificação Multiclasse\n",
        "\n",
        "Já vimos a classificação multiclasse, com o conjunto de dados íris. As matrizes de confusão funcionam bem com 3 classes. O código a seguir gera uma matriz de confusão para a íris."
      ]
    },
    {
      "metadata": {
        "id": "mGJW0nvjZs0g",
        "colab_type": "code",
        "colab": {
          "base_uri": "https://localhost:8080/",
          "height": 51
        },
        "outputId": "1e7ba9a5-d58c-444a-a0a0-7886780306e7"
      },
      "cell_type": "code",
      "source": [
        "import pandas as pd\n",
        "import io\n",
        "import requests\n",
        "import numpy as np\n",
        "import os\n",
        "from sklearn.model_selection import train_test_split\n",
        "from sklearn import metrics\n",
        "from keras.models import Sequential\n",
        "from keras.layers.core import Dense, Activation\n",
        "from keras.callbacks import EarlyStopping\n",
        "\n",
        "path = \"./data/\"\n",
        "    \n",
        "filename = os.path.join(path,\"iris.csv\")    \n",
        "df = pd.read_csv(filename,na_values=['NA','?'])\n",
        "\n",
        "species = encode_text_index(df,\"species\")\n",
        "x,y = to_xy(df,\"species\")\n",
        "\n",
        "# Split em treino/teste\n",
        "x_train, x_test, y_train, y_test = train_test_split(x, y, test_size=0.25, random_state=42)\n",
        "\n",
        "model = Sequential()\n",
        "model.add(Dense(10, input_dim=x.shape[1], kernel_initializer='normal', activation='relu'))\n",
        "model.add(Dense(1, kernel_initializer='normal'))\n",
        "model.add(Dense(y.shape[1],activation='softmax'))\n",
        "model.compile(loss='categorical_crossentropy', optimizer='adam')\n",
        "monitor = EarlyStopping(monitor='val_loss', min_delta=1e-3, patience=5, verbose=1, mode='auto')\n",
        "model.fit(x,y,validation_data=(x_test,y_test),callbacks=[monitor],verbose=0,epochs=1000)"
      ],
      "execution_count": 7,
      "outputs": [
        {
          "output_type": "stream",
          "text": [
            "Epoch 00524: early stopping\n"
          ],
          "name": "stdout"
        },
        {
          "output_type": "execute_result",
          "data": {
            "text/plain": [
              "<keras.callbacks.History at 0x7fd72be56278>"
            ]
          },
          "metadata": {
            "tags": []
          },
          "execution_count": 7
        }
      ]
    },
    {
      "metadata": {
        "id": "CPkaCzIjZs0l",
        "colab_type": "text"
      },
      "cell_type": "markdown",
      "source": [
        "Agora vamos plotar o resultado e avaliá-lo!"
      ]
    },
    {
      "metadata": {
        "id": "cCzip5PGZs0m",
        "colab_type": "code",
        "colab": {
          "base_uri": "https://localhost:8080/",
          "height": 758
        },
        "outputId": "bc6c21ea-44b1-48ce-aed0-12a616721bb4"
      },
      "cell_type": "code",
      "source": [
        "import numpy as np\n",
        "\n",
        "from sklearn import svm, datasets\n",
        "from sklearn.metrics import confusion_matrix\n",
        "\n",
        "pred = model.predict(x_test)\n",
        "pred = np.argmax(pred,axis=1)\n",
        "y_test2 = np.argmax(y_test,axis=1)\n",
        "    \n",
        "# Confusion matrix\n",
        "cm = confusion_matrix(y_test2, pred)\n",
        "np.set_printoptions(precision=2)\n",
        "print(species)\n",
        "print('Confusion Matrix Sem Normalização')\n",
        "print(cm)\n",
        "plt.figure()\n",
        "plot_confusion_matrix(cm, species)\n",
        "\n",
        "# Normaliza a matriz de confusão por linha (ou seja, pelo número de amostras em cada classe)\n",
        "cm_normalized = cm.astype('float') / cm.sum(axis=1)[:, np.newaxis]\n",
        "print('Confusion Matrix Normalizada')\n",
        "print(cm_normalized)\n",
        "plt.figure()\n",
        "plot_confusion_matrix(cm_normalized, species, title='Confusion Matrix Normalizada')\n",
        "\n",
        "\n",
        "plt.show()"
      ],
      "execution_count": 8,
      "outputs": [
        {
          "output_type": "stream",
          "text": [
            "['Iris-setosa' 'Iris-versicolor' 'Iris-virginica']\n",
            "Confusion Matrix Sem Normalização\n",
            "[[15  0  0]\n",
            " [ 0 11  0]\n",
            " [ 0  0 12]]\n",
            "Confusion Matrix Normalizada\n",
            "[[1. 0. 0.]\n",
            " [0. 1. 0.]\n",
            " [0. 0. 1.]]\n"
          ],
          "name": "stdout"
        },
        {
          "output_type": "display_data",
          "data": {
            "image/png": "[encoded data removed]",
            "text/plain": [
              "<Figure size 432x288 with 2 Axes>"
            ]
          },
          "metadata": {
            "tags": []
          }
        },
        {
          "output_type": "display_data",
          "data": {
            "image/png": "[encoded data removed]",
            "text/plain": [
              "<Figure size 432x288 with 2 Axes>"
            ]
          },
          "metadata": {
            "tags": []
          }
        }
      ]
    },
    {
      "metadata": {
        "id": "xUqHDy7RZs0t",
        "colab_type": "text"
      },
      "cell_type": "markdown",
      "source": [
        "Percebeu diagonal forte? Veja o azul claro perto do fundo. Às vezes, virginica é confundida como versicolor."
      ]
    },
    {
      "metadata": {
        "id": "3syBQnPFZs0u",
        "colab_type": "text"
      },
      "cell_type": "markdown",
      "source": [
        "## Regressão\n",
        "\n",
        "Já vimos regressão com o conjunto de dados MPG. A regressão usa seu próprio conjunto de visualizações, uma das mais comuns é o gráfico de elevação (Lift Curve). O código a seguir gera um gráfico de elevação."
      ]
    },
    {
      "metadata": {
        "id": "fqmrzYviZs0w",
        "colab_type": "code",
        "colab": {
          "base_uri": "https://localhost:8080/",
          "height": 316
        },
        "outputId": "1282c7ba-9013-4c0a-84e2-b0e35e188929"
      },
      "cell_type": "code",
      "source": [
        "%matplotlib inline\n",
        "from matplotlib.pyplot import figure, show\n",
        "from sklearn.model_selection import train_test_split\n",
        "import pandas as pd\n",
        "import os\n",
        "import numpy as np\n",
        "from sklearn import metrics\n",
        "from scipy.stats import zscore\n",
        "import tensorflow as tf\n",
        "from keras.models import Sequential\n",
        "from keras.layers.core import Dense, Activation\n",
        "from keras.callbacks import EarlyStopping\n",
        "\n",
        "\n",
        "path = \"./data/\"\n",
        "preprocess = False\n",
        "\n",
        "filename_read = os.path.join(path,\"auto-mpg.csv\")\n",
        "df = pd.read_csv(filename_read,na_values=['NA','?'])\n",
        "\n",
        "# Vetor de features\n",
        "missing_median(df, 'horsepower')\n",
        "encode_text_dummy(df, 'origin')\n",
        "df.drop('name',1,inplace=True)\n",
        "\n",
        "# Normalização\n",
        "if preprocess:\n",
        "    encode_numeric_zscore(df, 'horsepower')\n",
        "    encode_numeric_zscore(df, 'weight')\n",
        "    encode_numeric_zscore(df, 'cylinders')\n",
        "    encode_numeric_zscore(df, 'displacement')\n",
        "    encode_numeric_zscore(df, 'acceleration')\n",
        "\n",
        "# Dados de treino\n",
        "x,y = to_xy(df,'mpg')\n",
        "\n",
        "# Split em treino/teste\n",
        "x_train, x_test, y_train, y_test = train_test_split(x, y, test_size=0.30, random_state=42)\n",
        "\n",
        "model = Sequential()\n",
        "model.add(Dense(10, input_dim=x.shape[1], kernel_initializer='normal', activation='relu'))\n",
        "model.add(Dense(10, kernel_initializer='normal', activation='relu')) # add\n",
        "#model.add(Dense(10, kernel_initializer='normal', activation='relu')) # add\n",
        "model.add(Dense(1, kernel_initializer='normal'))\n",
        "model.compile(loss='mean_squared_error', optimizer='adam')\n",
        "monitor = EarlyStopping(monitor='val_loss', min_delta=1e-3, patience=5, verbose=1, mode='auto')\n",
        "model.fit(x,y,validation_data=(x_test,y_test),callbacks=[monitor],verbose=0,epochs=2000)\n",
        "\n",
        "# Previsões e RMSE\n",
        "pred = model.predict(x_test)\n",
        "score = np.sqrt(metrics.mean_squared_error(pred,y_test))\n",
        "print(\"Score (RMSE): {}\".format(score))\n",
        "\n",
        "r2 = metrics.r2_score(pred,y_test)\n",
        "print(\"r2:\", r2)\n",
        "\n",
        "# Plot \n",
        "chart_regression(pred.flatten(),y_test)"
      ],
      "execution_count": 9,
      "outputs": [
        {
          "output_type": "stream",
          "text": [
            "Epoch 00142: early stopping\n",
            "Score (RMSE): 2.8801822662353516\n",
            "r2: 0.8458354648620011\n"
          ],
          "name": "stdout"
        },
        {
          "output_type": "display_data",
          "data": {
            "image/png": "[encoded data removed]",
            "text/plain": [
              "<Figure size 432x288 with 1 Axes>"
            ]
          },
          "metadata": {
            "tags": []
          }
        }
      ]
    },
    {
      "metadata": {
        "id": "XZJJXvLIZs01",
        "colab_type": "code",
        "colab": {
          "base_uri": "https://localhost:8080/",
          "height": 34
        },
        "outputId": "3eab4d31-5613-4a55-b5cb-b986723ce7f3"
      },
      "cell_type": "code",
      "source": [
        "r2 = metrics.regression.r2_score(pred,y_test)\n",
        "\n",
        "print(\"r2:\", r2)"
      ],
      "execution_count": 10,
      "outputs": [
        {
          "output_type": "stream",
          "text": [
            "r2: 0.8458354648620011\n"
          ],
          "name": "stdout"
        }
      ]
    },
    {
      "metadata": {
        "id": "9AOs-hZEZs0-",
        "colab_type": "code",
        "colab": {}
      },
      "cell_type": "code",
      "source": [
        "Epoch 00111: early stopping\n",
        "Score (RMSE): 2.7661826610565186\n",
        "    \n",
        "Epoch 00195: early stopping\n",
        "Score (RMSE): 2.7059693336486816"
      ],
      "execution_count": 0,
      "outputs": []
    },
    {
      "metadata": {
        "collapsed": true,
        "id": "l-mpW9CiZs1F",
        "colab_type": "text"
      },
      "cell_type": "markdown",
      "source": [
        "Lendo um gráfico de elevação:\n",
        "\n",
        "* As linhas com valores esperados e previstos devem estar próximas. Observe onde uma está acima da outra.\n",
        "* O gráfico acima é mais preciso quando o MPG é mais baixo.\n",
        "* À medida que aumenta o valor de MPG, aumenta a diferença entre valores previstos e observados. Provavelmente temos que revisar nosso procedimento de normalização."
      ]
    }
  ]
}